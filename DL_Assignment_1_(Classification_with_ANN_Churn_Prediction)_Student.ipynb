{
  "cells": [
    {
      "cell_type": "markdown",
      "metadata": {
        "id": "view-in-github",
        "colab_type": "text"
      },
      "source": [
        "<a href=\"https://colab.research.google.com/github/bugeki/DL/blob/main/DL_Assignment_1_(Classification_with_ANN_Churn_Prediction)_Student.ipynb\" target=\"_parent\"><img src=\"https://colab.research.google.com/assets/colab-badge.svg\" alt=\"Open In Colab\"/></a>"
      ]
    },
    {
      "cell_type": "markdown",
      "metadata": {
        "id": "V6_ZeouB6QOn"
      },
      "source": [
        "___\n",
        "\n",
        "<p style=\"text-align: center;\"><img src=\"https://docs.google.com/uc?id=1lY0Uj5R04yMY3-ZppPWxqCr5pvBLYPnV\" class=\"img-fluid\" alt=\"CLRSWY\"></p>\n",
        "\n",
        "___"
      ]
    },
    {
      "cell_type": "markdown",
      "metadata": {
        "id": "0cOIJE_r6QOu"
      },
      "source": [
        "<h1 style=\"text-align: center;\">Deep Learning<br><br>Assignment-1 (ANN)<br><br>Churn Prediction for Bank Customer<br><h1>"
      ]
    },
    {
      "cell_type": "markdown",
      "metadata": {
        "id": "WjM8Pk6e6QOv"
      },
      "source": [
        "# Dataset Info"
      ]
    },
    {
      "cell_type": "markdown",
      "metadata": {
        "id": "YuLZ9TXQ6QOw"
      },
      "source": [
        "We have a dataset in which there are details of a bank's customers and the target variable is a binary variable reflecting the fact whether the customer left the bank (closed his account) or he continues to be a customer.\n",
        "\n",
        "The features in the given dataset are:\n",
        "- **rownumber:** Row Numbers from 1 to 10000.\n",
        "- **customerid:** A unique ID that identifies each customer.\n",
        "- **surname:** The customer’s surname.\n",
        "- **creditscore:** A credit score is a number between 300–850 that depicts a consumer's creditworthiness.\n",
        "- **geography:** The country from which the customer belongs to.\n",
        "- **Gender:** The customer’s gender: Male, Female\n",
        "- **Age:** The customer’s current age, in years, at the time of being customer.\n",
        "- **tenure:** The number of years for which the customer has been with the bank.\n",
        "- **balance:** Bank balance of the customer.\n",
        "- **numofproducts:** the number of bank products the customer is utilising.\n",
        "- **hascrcard:** The number of credit cards given to the customer by the bank.\n",
        "- **isactivemember:** Binary Flag for indicating if the client is active or not with the bank before the moment where the client exits the company (recorded in the variable \"exited\")\n",
        "- **exited:** Binary flag 1 if the customer closed account with bank and 0 if the customer is retained."
      ]
    },
    {
      "cell_type": "markdown",
      "metadata": {
        "id": "EUhpfC1k6QOx"
      },
      "source": [
        "# Improt Libraries & Data"
      ]
    },
    {
      "cell_type": "code",
      "execution_count": 91,
      "metadata": {
        "id": "s_z88Viz6QOy"
      },
      "outputs": [],
      "source": [
        "import numpy as np\n",
        "import pandas as pd\n",
        "import matplotlib.pyplot as plt\n",
        "import seaborn as sns\n",
        "\n",
        "import warnings\n",
        "warnings.filterwarnings(\"ignore\")\n",
        "warnings.warn(\"this will not show\")\n",
        "\n",
        "plt.rcParams[\"figure.figsize\"] = (10,6)\n",
        "\n",
        "sns.set_style(\"whitegrid\")\n",
        "pd.set_option('display.float_format', lambda x: '%.3f' % x)\n",
        "\n",
        "# Set it None to display all rows in the dataframe\n",
        "# pd.set_option('display.max_rows', None)\n",
        "\n",
        "# Set it to None to display all columns in the dataframe\n",
        "pd.set_option('display.max_columns', None)"
      ]
    },
    {
      "cell_type": "code",
      "execution_count": 91,
      "metadata": {
        "id": "tYlz_vkp6QOz"
      },
      "outputs": [],
      "source": [
        ""
      ]
    },
    {
      "cell_type": "code",
      "source": [
        "from google.colab import drive\n",
        "drive.mount('/content/drive')"
      ],
      "metadata": {
        "colab": {
          "base_uri": "https://localhost:8080/"
        },
        "id": "sUqA2BtDOWCl",
        "outputId": "c1a2dba2-a77e-42ff-85bf-95fe7feb05cf"
      },
      "execution_count": 92,
      "outputs": [
        {
          "output_type": "stream",
          "name": "stdout",
          "text": [
            "Drive already mounted at /content/drive; to attempt to forcibly remount, call drive.mount(\"/content/drive\", force_remount=True).\n"
          ]
        }
      ]
    },
    {
      "cell_type": "code",
      "source": [
        "df = pd.read_csv(\"/content/drive/MyDrive/Colab Notebooks/DL/ASS 1/Churn_Modelling.csv\")"
      ],
      "metadata": {
        "id": "_0NCcNx6OXyn"
      },
      "execution_count": 93,
      "outputs": []
    },
    {
      "cell_type": "markdown",
      "metadata": {
        "id": "iZjqd8oh6QO0"
      },
      "source": [
        "# Exploratory Data Analysis and Visualization"
      ]
    },
    {
      "cell_type": "markdown",
      "metadata": {
        "id": "waDKRvqF6QO1"
      },
      "source": [
        "1. Implement basic steps to see how is your data looks like\n",
        "2. Check for missing values\n",
        "3. Drop the features that not suitable for modelling\n",
        "4. Implement basic visualization steps such as histogram, countplot, heatmap\n",
        "5. Convert categorical variables to dummy variables"
      ]
    },
    {
      "cell_type": "code",
      "execution_count": 94,
      "metadata": {
        "colab": {
          "base_uri": "https://localhost:8080/",
          "height": 270
        },
        "id": "mfSEV-pj6QO1",
        "outputId": "d3f607c4-569f-49a0-eedc-71f1993e2a4e"
      },
      "outputs": [
        {
          "output_type": "execute_result",
          "data": {
            "text/plain": [
              "   RowNumber  CustomerId   Surname  CreditScore Geography  Gender  Age  \\\n",
              "0          1    15634602  Hargrave          619    France  Female   42   \n",
              "1          2    15647311      Hill          608     Spain  Female   41   \n",
              "2          3    15619304      Onio          502    France  Female   42   \n",
              "3          4    15701354      Boni          699    France  Female   39   \n",
              "4          5    15737888  Mitchell          850     Spain  Female   43   \n",
              "\n",
              "   Tenure    Balance  NumOfProducts  HasCrCard  IsActiveMember  \\\n",
              "0       2      0.000              1          1               1   \n",
              "1       1  83807.860              1          0               1   \n",
              "2       8 159660.800              3          1               0   \n",
              "3       1      0.000              2          0               0   \n",
              "4       2 125510.820              1          1               1   \n",
              "\n",
              "   EstimatedSalary  Exited  \n",
              "0       101348.880       1  \n",
              "1       112542.580       0  \n",
              "2       113931.570       1  \n",
              "3        93826.630       0  \n",
              "4        79084.100       0  "
            ],
            "text/html": [
              "\n",
              "  <div id=\"df-17f67d92-31bb-4a75-a5b5-045eaecc4c66\">\n",
              "    <div class=\"colab-df-container\">\n",
              "      <div>\n",
              "<style scoped>\n",
              "    .dataframe tbody tr th:only-of-type {\n",
              "        vertical-align: middle;\n",
              "    }\n",
              "\n",
              "    .dataframe tbody tr th {\n",
              "        vertical-align: top;\n",
              "    }\n",
              "\n",
              "    .dataframe thead th {\n",
              "        text-align: right;\n",
              "    }\n",
              "</style>\n",
              "<table border=\"1\" class=\"dataframe\">\n",
              "  <thead>\n",
              "    <tr style=\"text-align: right;\">\n",
              "      <th></th>\n",
              "      <th>RowNumber</th>\n",
              "      <th>CustomerId</th>\n",
              "      <th>Surname</th>\n",
              "      <th>CreditScore</th>\n",
              "      <th>Geography</th>\n",
              "      <th>Gender</th>\n",
              "      <th>Age</th>\n",
              "      <th>Tenure</th>\n",
              "      <th>Balance</th>\n",
              "      <th>NumOfProducts</th>\n",
              "      <th>HasCrCard</th>\n",
              "      <th>IsActiveMember</th>\n",
              "      <th>EstimatedSalary</th>\n",
              "      <th>Exited</th>\n",
              "    </tr>\n",
              "  </thead>\n",
              "  <tbody>\n",
              "    <tr>\n",
              "      <th>0</th>\n",
              "      <td>1</td>\n",
              "      <td>15634602</td>\n",
              "      <td>Hargrave</td>\n",
              "      <td>619</td>\n",
              "      <td>France</td>\n",
              "      <td>Female</td>\n",
              "      <td>42</td>\n",
              "      <td>2</td>\n",
              "      <td>0.000</td>\n",
              "      <td>1</td>\n",
              "      <td>1</td>\n",
              "      <td>1</td>\n",
              "      <td>101348.880</td>\n",
              "      <td>1</td>\n",
              "    </tr>\n",
              "    <tr>\n",
              "      <th>1</th>\n",
              "      <td>2</td>\n",
              "      <td>15647311</td>\n",
              "      <td>Hill</td>\n",
              "      <td>608</td>\n",
              "      <td>Spain</td>\n",
              "      <td>Female</td>\n",
              "      <td>41</td>\n",
              "      <td>1</td>\n",
              "      <td>83807.860</td>\n",
              "      <td>1</td>\n",
              "      <td>0</td>\n",
              "      <td>1</td>\n",
              "      <td>112542.580</td>\n",
              "      <td>0</td>\n",
              "    </tr>\n",
              "    <tr>\n",
              "      <th>2</th>\n",
              "      <td>3</td>\n",
              "      <td>15619304</td>\n",
              "      <td>Onio</td>\n",
              "      <td>502</td>\n",
              "      <td>France</td>\n",
              "      <td>Female</td>\n",
              "      <td>42</td>\n",
              "      <td>8</td>\n",
              "      <td>159660.800</td>\n",
              "      <td>3</td>\n",
              "      <td>1</td>\n",
              "      <td>0</td>\n",
              "      <td>113931.570</td>\n",
              "      <td>1</td>\n",
              "    </tr>\n",
              "    <tr>\n",
              "      <th>3</th>\n",
              "      <td>4</td>\n",
              "      <td>15701354</td>\n",
              "      <td>Boni</td>\n",
              "      <td>699</td>\n",
              "      <td>France</td>\n",
              "      <td>Female</td>\n",
              "      <td>39</td>\n",
              "      <td>1</td>\n",
              "      <td>0.000</td>\n",
              "      <td>2</td>\n",
              "      <td>0</td>\n",
              "      <td>0</td>\n",
              "      <td>93826.630</td>\n",
              "      <td>0</td>\n",
              "    </tr>\n",
              "    <tr>\n",
              "      <th>4</th>\n",
              "      <td>5</td>\n",
              "      <td>15737888</td>\n",
              "      <td>Mitchell</td>\n",
              "      <td>850</td>\n",
              "      <td>Spain</td>\n",
              "      <td>Female</td>\n",
              "      <td>43</td>\n",
              "      <td>2</td>\n",
              "      <td>125510.820</td>\n",
              "      <td>1</td>\n",
              "      <td>1</td>\n",
              "      <td>1</td>\n",
              "      <td>79084.100</td>\n",
              "      <td>0</td>\n",
              "    </tr>\n",
              "  </tbody>\n",
              "</table>\n",
              "</div>\n",
              "      <button class=\"colab-df-convert\" onclick=\"convertToInteractive('df-17f67d92-31bb-4a75-a5b5-045eaecc4c66')\"\n",
              "              title=\"Convert this dataframe to an interactive table.\"\n",
              "              style=\"display:none;\">\n",
              "        \n",
              "  <svg xmlns=\"http://www.w3.org/2000/svg\" height=\"24px\"viewBox=\"0 0 24 24\"\n",
              "       width=\"24px\">\n",
              "    <path d=\"M0 0h24v24H0V0z\" fill=\"none\"/>\n",
              "    <path d=\"M18.56 5.44l.94 2.06.94-2.06 2.06-.94-2.06-.94-.94-2.06-.94 2.06-2.06.94zm-11 1L8.5 8.5l.94-2.06 2.06-.94-2.06-.94L8.5 2.5l-.94 2.06-2.06.94zm10 10l.94 2.06.94-2.06 2.06-.94-2.06-.94-.94-2.06-.94 2.06-2.06.94z\"/><path d=\"M17.41 7.96l-1.37-1.37c-.4-.4-.92-.59-1.43-.59-.52 0-1.04.2-1.43.59L10.3 9.45l-7.72 7.72c-.78.78-.78 2.05 0 2.83L4 21.41c.39.39.9.59 1.41.59.51 0 1.02-.2 1.41-.59l7.78-7.78 2.81-2.81c.8-.78.8-2.07 0-2.86zM5.41 20L4 18.59l7.72-7.72 1.47 1.35L5.41 20z\"/>\n",
              "  </svg>\n",
              "      </button>\n",
              "      \n",
              "  <style>\n",
              "    .colab-df-container {\n",
              "      display:flex;\n",
              "      flex-wrap:wrap;\n",
              "      gap: 12px;\n",
              "    }\n",
              "\n",
              "    .colab-df-convert {\n",
              "      background-color: #E8F0FE;\n",
              "      border: none;\n",
              "      border-radius: 50%;\n",
              "      cursor: pointer;\n",
              "      display: none;\n",
              "      fill: #1967D2;\n",
              "      height: 32px;\n",
              "      padding: 0 0 0 0;\n",
              "      width: 32px;\n",
              "    }\n",
              "\n",
              "    .colab-df-convert:hover {\n",
              "      background-color: #E2EBFA;\n",
              "      box-shadow: 0px 1px 2px rgba(60, 64, 67, 0.3), 0px 1px 3px 1px rgba(60, 64, 67, 0.15);\n",
              "      fill: #174EA6;\n",
              "    }\n",
              "\n",
              "    [theme=dark] .colab-df-convert {\n",
              "      background-color: #3B4455;\n",
              "      fill: #D2E3FC;\n",
              "    }\n",
              "\n",
              "    [theme=dark] .colab-df-convert:hover {\n",
              "      background-color: #434B5C;\n",
              "      box-shadow: 0px 1px 3px 1px rgba(0, 0, 0, 0.15);\n",
              "      filter: drop-shadow(0px 1px 2px rgba(0, 0, 0, 0.3));\n",
              "      fill: #FFFFFF;\n",
              "    }\n",
              "  </style>\n",
              "\n",
              "      <script>\n",
              "        const buttonEl =\n",
              "          document.querySelector('#df-17f67d92-31bb-4a75-a5b5-045eaecc4c66 button.colab-df-convert');\n",
              "        buttonEl.style.display =\n",
              "          google.colab.kernel.accessAllowed ? 'block' : 'none';\n",
              "\n",
              "        async function convertToInteractive(key) {\n",
              "          const element = document.querySelector('#df-17f67d92-31bb-4a75-a5b5-045eaecc4c66');\n",
              "          const dataTable =\n",
              "            await google.colab.kernel.invokeFunction('convertToInteractive',\n",
              "                                                     [key], {});\n",
              "          if (!dataTable) return;\n",
              "\n",
              "          const docLinkHtml = 'Like what you see? Visit the ' +\n",
              "            '<a target=\"_blank\" href=https://colab.research.google.com/notebooks/data_table.ipynb>data table notebook</a>'\n",
              "            + ' to learn more about interactive tables.';\n",
              "          element.innerHTML = '';\n",
              "          dataTable['output_type'] = 'display_data';\n",
              "          await google.colab.output.renderOutput(dataTable, element);\n",
              "          const docLink = document.createElement('div');\n",
              "          docLink.innerHTML = docLinkHtml;\n",
              "          element.appendChild(docLink);\n",
              "        }\n",
              "      </script>\n",
              "    </div>\n",
              "  </div>\n",
              "  "
            ]
          },
          "metadata": {},
          "execution_count": 94
        }
      ],
      "source": [
        "df.head()"
      ]
    },
    {
      "cell_type": "code",
      "source": [
        "df.info()"
      ],
      "metadata": {
        "colab": {
          "base_uri": "https://localhost:8080/"
        },
        "id": "fcds1eSwOx5P",
        "outputId": "8e5a93aa-dddb-404d-fb0f-5ad77ee86d76"
      },
      "execution_count": 95,
      "outputs": [
        {
          "output_type": "stream",
          "name": "stdout",
          "text": [
            "<class 'pandas.core.frame.DataFrame'>\n",
            "RangeIndex: 10000 entries, 0 to 9999\n",
            "Data columns (total 14 columns):\n",
            " #   Column           Non-Null Count  Dtype  \n",
            "---  ------           --------------  -----  \n",
            " 0   RowNumber        10000 non-null  int64  \n",
            " 1   CustomerId       10000 non-null  int64  \n",
            " 2   Surname          10000 non-null  object \n",
            " 3   CreditScore      10000 non-null  int64  \n",
            " 4   Geography        10000 non-null  object \n",
            " 5   Gender           10000 non-null  object \n",
            " 6   Age              10000 non-null  int64  \n",
            " 7   Tenure           10000 non-null  int64  \n",
            " 8   Balance          10000 non-null  float64\n",
            " 9   NumOfProducts    10000 non-null  int64  \n",
            " 10  HasCrCard        10000 non-null  int64  \n",
            " 11  IsActiveMember   10000 non-null  int64  \n",
            " 12  EstimatedSalary  10000 non-null  float64\n",
            " 13  Exited           10000 non-null  int64  \n",
            "dtypes: float64(2), int64(9), object(3)\n",
            "memory usage: 1.1+ MB\n"
          ]
        }
      ]
    },
    {
      "cell_type": "code",
      "source": [
        "df.isnull().sum().any()"
      ],
      "metadata": {
        "colab": {
          "base_uri": "https://localhost:8080/"
        },
        "id": "EW65HiVeOxuf",
        "outputId": "185de15e-ee28-4e34-ec47-b9e685aca406"
      },
      "execution_count": 96,
      "outputs": [
        {
          "output_type": "execute_result",
          "data": {
            "text/plain": [
              "False"
            ]
          },
          "metadata": {},
          "execution_count": 96
        }
      ]
    },
    {
      "cell_type": "code",
      "source": [
        "df.describe().T"
      ],
      "metadata": {
        "colab": {
          "base_uri": "https://localhost:8080/",
          "height": 438
        },
        "id": "EtsT1WgjOxjJ",
        "outputId": "0a2bd50a-8701-42aa-e68b-34cc1307e797"
      },
      "execution_count": 97,
      "outputs": [
        {
          "output_type": "execute_result",
          "data": {
            "text/plain": [
              "                    count         mean       std          min          25%  \\\n",
              "RowNumber       10000.000     5000.500  2886.896        1.000     2500.750   \n",
              "CustomerId      10000.000 15690940.569 71936.186 15565701.000 15628528.250   \n",
              "CreditScore     10000.000      650.529    96.653      350.000      584.000   \n",
              "Age             10000.000       38.922    10.488       18.000       32.000   \n",
              "Tenure          10000.000        5.013     2.892        0.000        3.000   \n",
              "Balance         10000.000    76485.889 62397.405        0.000        0.000   \n",
              "NumOfProducts   10000.000        1.530     0.582        1.000        1.000   \n",
              "HasCrCard       10000.000        0.706     0.456        0.000        0.000   \n",
              "IsActiveMember  10000.000        0.515     0.500        0.000        0.000   \n",
              "EstimatedSalary 10000.000   100090.240 57510.493       11.580    51002.110   \n",
              "Exited          10000.000        0.204     0.403        0.000        0.000   \n",
              "\n",
              "                         50%          75%          max  \n",
              "RowNumber           5000.500     7500.250    10000.000  \n",
              "CustomerId      15690738.000 15753233.750 15815690.000  \n",
              "CreditScore          652.000      718.000      850.000  \n",
              "Age                   37.000       44.000       92.000  \n",
              "Tenure                 5.000        7.000       10.000  \n",
              "Balance            97198.540   127644.240   250898.090  \n",
              "NumOfProducts          1.000        2.000        4.000  \n",
              "HasCrCard              1.000        1.000        1.000  \n",
              "IsActiveMember         1.000        1.000        1.000  \n",
              "EstimatedSalary   100193.915   149388.247   199992.480  \n",
              "Exited                 0.000        0.000        1.000  "
            ],
            "text/html": [
              "\n",
              "  <div id=\"df-f1151218-50bd-499b-9fc2-d8112710c29e\">\n",
              "    <div class=\"colab-df-container\">\n",
              "      <div>\n",
              "<style scoped>\n",
              "    .dataframe tbody tr th:only-of-type {\n",
              "        vertical-align: middle;\n",
              "    }\n",
              "\n",
              "    .dataframe tbody tr th {\n",
              "        vertical-align: top;\n",
              "    }\n",
              "\n",
              "    .dataframe thead th {\n",
              "        text-align: right;\n",
              "    }\n",
              "</style>\n",
              "<table border=\"1\" class=\"dataframe\">\n",
              "  <thead>\n",
              "    <tr style=\"text-align: right;\">\n",
              "      <th></th>\n",
              "      <th>count</th>\n",
              "      <th>mean</th>\n",
              "      <th>std</th>\n",
              "      <th>min</th>\n",
              "      <th>25%</th>\n",
              "      <th>50%</th>\n",
              "      <th>75%</th>\n",
              "      <th>max</th>\n",
              "    </tr>\n",
              "  </thead>\n",
              "  <tbody>\n",
              "    <tr>\n",
              "      <th>RowNumber</th>\n",
              "      <td>10000.000</td>\n",
              "      <td>5000.500</td>\n",
              "      <td>2886.896</td>\n",
              "      <td>1.000</td>\n",
              "      <td>2500.750</td>\n",
              "      <td>5000.500</td>\n",
              "      <td>7500.250</td>\n",
              "      <td>10000.000</td>\n",
              "    </tr>\n",
              "    <tr>\n",
              "      <th>CustomerId</th>\n",
              "      <td>10000.000</td>\n",
              "      <td>15690940.569</td>\n",
              "      <td>71936.186</td>\n",
              "      <td>15565701.000</td>\n",
              "      <td>15628528.250</td>\n",
              "      <td>15690738.000</td>\n",
              "      <td>15753233.750</td>\n",
              "      <td>15815690.000</td>\n",
              "    </tr>\n",
              "    <tr>\n",
              "      <th>CreditScore</th>\n",
              "      <td>10000.000</td>\n",
              "      <td>650.529</td>\n",
              "      <td>96.653</td>\n",
              "      <td>350.000</td>\n",
              "      <td>584.000</td>\n",
              "      <td>652.000</td>\n",
              "      <td>718.000</td>\n",
              "      <td>850.000</td>\n",
              "    </tr>\n",
              "    <tr>\n",
              "      <th>Age</th>\n",
              "      <td>10000.000</td>\n",
              "      <td>38.922</td>\n",
              "      <td>10.488</td>\n",
              "      <td>18.000</td>\n",
              "      <td>32.000</td>\n",
              "      <td>37.000</td>\n",
              "      <td>44.000</td>\n",
              "      <td>92.000</td>\n",
              "    </tr>\n",
              "    <tr>\n",
              "      <th>Tenure</th>\n",
              "      <td>10000.000</td>\n",
              "      <td>5.013</td>\n",
              "      <td>2.892</td>\n",
              "      <td>0.000</td>\n",
              "      <td>3.000</td>\n",
              "      <td>5.000</td>\n",
              "      <td>7.000</td>\n",
              "      <td>10.000</td>\n",
              "    </tr>\n",
              "    <tr>\n",
              "      <th>Balance</th>\n",
              "      <td>10000.000</td>\n",
              "      <td>76485.889</td>\n",
              "      <td>62397.405</td>\n",
              "      <td>0.000</td>\n",
              "      <td>0.000</td>\n",
              "      <td>97198.540</td>\n",
              "      <td>127644.240</td>\n",
              "      <td>250898.090</td>\n",
              "    </tr>\n",
              "    <tr>\n",
              "      <th>NumOfProducts</th>\n",
              "      <td>10000.000</td>\n",
              "      <td>1.530</td>\n",
              "      <td>0.582</td>\n",
              "      <td>1.000</td>\n",
              "      <td>1.000</td>\n",
              "      <td>1.000</td>\n",
              "      <td>2.000</td>\n",
              "      <td>4.000</td>\n",
              "    </tr>\n",
              "    <tr>\n",
              "      <th>HasCrCard</th>\n",
              "      <td>10000.000</td>\n",
              "      <td>0.706</td>\n",
              "      <td>0.456</td>\n",
              "      <td>0.000</td>\n",
              "      <td>0.000</td>\n",
              "      <td>1.000</td>\n",
              "      <td>1.000</td>\n",
              "      <td>1.000</td>\n",
              "    </tr>\n",
              "    <tr>\n",
              "      <th>IsActiveMember</th>\n",
              "      <td>10000.000</td>\n",
              "      <td>0.515</td>\n",
              "      <td>0.500</td>\n",
              "      <td>0.000</td>\n",
              "      <td>0.000</td>\n",
              "      <td>1.000</td>\n",
              "      <td>1.000</td>\n",
              "      <td>1.000</td>\n",
              "    </tr>\n",
              "    <tr>\n",
              "      <th>EstimatedSalary</th>\n",
              "      <td>10000.000</td>\n",
              "      <td>100090.240</td>\n",
              "      <td>57510.493</td>\n",
              "      <td>11.580</td>\n",
              "      <td>51002.110</td>\n",
              "      <td>100193.915</td>\n",
              "      <td>149388.247</td>\n",
              "      <td>199992.480</td>\n",
              "    </tr>\n",
              "    <tr>\n",
              "      <th>Exited</th>\n",
              "      <td>10000.000</td>\n",
              "      <td>0.204</td>\n",
              "      <td>0.403</td>\n",
              "      <td>0.000</td>\n",
              "      <td>0.000</td>\n",
              "      <td>0.000</td>\n",
              "      <td>0.000</td>\n",
              "      <td>1.000</td>\n",
              "    </tr>\n",
              "  </tbody>\n",
              "</table>\n",
              "</div>\n",
              "      <button class=\"colab-df-convert\" onclick=\"convertToInteractive('df-f1151218-50bd-499b-9fc2-d8112710c29e')\"\n",
              "              title=\"Convert this dataframe to an interactive table.\"\n",
              "              style=\"display:none;\">\n",
              "        \n",
              "  <svg xmlns=\"http://www.w3.org/2000/svg\" height=\"24px\"viewBox=\"0 0 24 24\"\n",
              "       width=\"24px\">\n",
              "    <path d=\"M0 0h24v24H0V0z\" fill=\"none\"/>\n",
              "    <path d=\"M18.56 5.44l.94 2.06.94-2.06 2.06-.94-2.06-.94-.94-2.06-.94 2.06-2.06.94zm-11 1L8.5 8.5l.94-2.06 2.06-.94-2.06-.94L8.5 2.5l-.94 2.06-2.06.94zm10 10l.94 2.06.94-2.06 2.06-.94-2.06-.94-.94-2.06-.94 2.06-2.06.94z\"/><path d=\"M17.41 7.96l-1.37-1.37c-.4-.4-.92-.59-1.43-.59-.52 0-1.04.2-1.43.59L10.3 9.45l-7.72 7.72c-.78.78-.78 2.05 0 2.83L4 21.41c.39.39.9.59 1.41.59.51 0 1.02-.2 1.41-.59l7.78-7.78 2.81-2.81c.8-.78.8-2.07 0-2.86zM5.41 20L4 18.59l7.72-7.72 1.47 1.35L5.41 20z\"/>\n",
              "  </svg>\n",
              "      </button>\n",
              "      \n",
              "  <style>\n",
              "    .colab-df-container {\n",
              "      display:flex;\n",
              "      flex-wrap:wrap;\n",
              "      gap: 12px;\n",
              "    }\n",
              "\n",
              "    .colab-df-convert {\n",
              "      background-color: #E8F0FE;\n",
              "      border: none;\n",
              "      border-radius: 50%;\n",
              "      cursor: pointer;\n",
              "      display: none;\n",
              "      fill: #1967D2;\n",
              "      height: 32px;\n",
              "      padding: 0 0 0 0;\n",
              "      width: 32px;\n",
              "    }\n",
              "\n",
              "    .colab-df-convert:hover {\n",
              "      background-color: #E2EBFA;\n",
              "      box-shadow: 0px 1px 2px rgba(60, 64, 67, 0.3), 0px 1px 3px 1px rgba(60, 64, 67, 0.15);\n",
              "      fill: #174EA6;\n",
              "    }\n",
              "\n",
              "    [theme=dark] .colab-df-convert {\n",
              "      background-color: #3B4455;\n",
              "      fill: #D2E3FC;\n",
              "    }\n",
              "\n",
              "    [theme=dark] .colab-df-convert:hover {\n",
              "      background-color: #434B5C;\n",
              "      box-shadow: 0px 1px 3px 1px rgba(0, 0, 0, 0.15);\n",
              "      filter: drop-shadow(0px 1px 2px rgba(0, 0, 0, 0.3));\n",
              "      fill: #FFFFFF;\n",
              "    }\n",
              "  </style>\n",
              "\n",
              "      <script>\n",
              "        const buttonEl =\n",
              "          document.querySelector('#df-f1151218-50bd-499b-9fc2-d8112710c29e button.colab-df-convert');\n",
              "        buttonEl.style.display =\n",
              "          google.colab.kernel.accessAllowed ? 'block' : 'none';\n",
              "\n",
              "        async function convertToInteractive(key) {\n",
              "          const element = document.querySelector('#df-f1151218-50bd-499b-9fc2-d8112710c29e');\n",
              "          const dataTable =\n",
              "            await google.colab.kernel.invokeFunction('convertToInteractive',\n",
              "                                                     [key], {});\n",
              "          if (!dataTable) return;\n",
              "\n",
              "          const docLinkHtml = 'Like what you see? Visit the ' +\n",
              "            '<a target=\"_blank\" href=https://colab.research.google.com/notebooks/data_table.ipynb>data table notebook</a>'\n",
              "            + ' to learn more about interactive tables.';\n",
              "          element.innerHTML = '';\n",
              "          dataTable['output_type'] = 'display_data';\n",
              "          await google.colab.output.renderOutput(dataTable, element);\n",
              "          const docLink = document.createElement('div');\n",
              "          docLink.innerHTML = docLinkHtml;\n",
              "          element.appendChild(docLink);\n",
              "        }\n",
              "      </script>\n",
              "    </div>\n",
              "  </div>\n",
              "  "
            ]
          },
          "metadata": {},
          "execution_count": 97
        }
      ]
    },
    {
      "cell_type": "code",
      "source": [
        "df = df.drop([\"CustomerId\",'RowNumber', 'Surname', 'Geography'], axis = 1)"
      ],
      "metadata": {
        "id": "AtVSimv8PBE5"
      },
      "execution_count": 98,
      "outputs": []
    },
    {
      "cell_type": "code",
      "source": [
        "df.shape"
      ],
      "metadata": {
        "colab": {
          "base_uri": "https://localhost:8080/"
        },
        "id": "WTO6GmgEQjRq",
        "outputId": "072183e6-56e2-4b7d-a2ee-3999ff2cdcc5"
      },
      "execution_count": 99,
      "outputs": [
        {
          "output_type": "execute_result",
          "data": {
            "text/plain": [
              "(10000, 10)"
            ]
          },
          "metadata": {},
          "execution_count": 99
        }
      ]
    },
    {
      "cell_type": "code",
      "source": [
        "df=pd.get_dummies(df)"
      ],
      "metadata": {
        "id": "PmEhR792RiaE"
      },
      "execution_count": 100,
      "outputs": []
    },
    {
      "cell_type": "code",
      "source": [
        "df.info()"
      ],
      "metadata": {
        "colab": {
          "base_uri": "https://localhost:8080/"
        },
        "id": "FGV5mn32ShzO",
        "outputId": "b9825b58-d1c8-43e6-922d-c48c227417ab"
      },
      "execution_count": 101,
      "outputs": [
        {
          "output_type": "stream",
          "name": "stdout",
          "text": [
            "<class 'pandas.core.frame.DataFrame'>\n",
            "RangeIndex: 10000 entries, 0 to 9999\n",
            "Data columns (total 11 columns):\n",
            " #   Column           Non-Null Count  Dtype  \n",
            "---  ------           --------------  -----  \n",
            " 0   CreditScore      10000 non-null  int64  \n",
            " 1   Age              10000 non-null  int64  \n",
            " 2   Tenure           10000 non-null  int64  \n",
            " 3   Balance          10000 non-null  float64\n",
            " 4   NumOfProducts    10000 non-null  int64  \n",
            " 5   HasCrCard        10000 non-null  int64  \n",
            " 6   IsActiveMember   10000 non-null  int64  \n",
            " 7   EstimatedSalary  10000 non-null  float64\n",
            " 8   Exited           10000 non-null  int64  \n",
            " 9   Gender_Female    10000 non-null  uint8  \n",
            " 10  Gender_Male      10000 non-null  uint8  \n",
            "dtypes: float64(2), int64(7), uint8(2)\n",
            "memory usage: 722.8 KB\n"
          ]
        }
      ]
    },
    {
      "cell_type": "code",
      "source": [
        "sns.countplot(df[\"Exited\"])"
      ],
      "metadata": {
        "colab": {
          "base_uri": "https://localhost:8080/",
          "height": 405
        },
        "id": "FjPtB_RtPA5Q",
        "outputId": "220be140-797a-446a-f8bc-2b03ade06192"
      },
      "execution_count": 102,
      "outputs": [
        {
          "output_type": "execute_result",
          "data": {
            "text/plain": [
              "<matplotlib.axes._subplots.AxesSubplot at 0x7f1f79895690>"
            ]
          },
          "metadata": {},
          "execution_count": 102
        },
        {
          "output_type": "display_data",
          "data": {
            "text/plain": [
              "<Figure size 720x432 with 1 Axes>"
            ],
            "image/png": "[encoded data removed]"
          },
          "metadata": {}
        }
      ]
    },
    {
      "cell_type": "code",
      "source": [
        "plt.figure(figsize=(20,20))\n",
        "sns.heatmap(df.corr(), annot=True, cmap=\"seismic\"); "
      ],
      "metadata": {
        "colab": {
          "base_uri": "https://localhost:8080/",
          "height": 1000
        },
        "id": "yQb6ZFGzQVf6",
        "outputId": "83ad95b2-825b-4dab-b3bb-e4e3dc3ba6a1"
      },
      "execution_count": 103,
      "outputs": [
        {
          "output_type": "display_data",
          "data": {
            "text/plain": [
              "<Figure size 1440x1440 with 2 Axes>"
            ],
            "image/png": "[encoded data removed]"
          },
          "metadata": {}
        }
      ]
    },
    {
      "cell_type": "code",
      "source": [
        "plt.figure(figsize = (8,10))\n",
        "df.corr()['Exited'].sort_values().drop(\"Exited\").plot(kind = \"barh\");  "
      ],
      "metadata": {
        "colab": {
          "base_uri": "https://localhost:8080/",
          "height": 592
        },
        "id": "j3FENIkrQmhF",
        "outputId": "d5580b6d-1628-431b-f2d7-88f53699ca2d"
      },
      "execution_count": 104,
      "outputs": [
        {
          "output_type": "display_data",
          "data": {
            "text/plain": [
              "<Figure size 576x720 with 1 Axes>"
            ],
            "image/png": "[encoded data removed]"
          },
          "metadata": {}
        }
      ]
    },
    {
      "cell_type": "code",
      "source": [
        ""
      ],
      "metadata": {
        "id": "vV9GwSlQRDpj"
      },
      "execution_count": 104,
      "outputs": []
    },
    {
      "cell_type": "markdown",
      "metadata": {
        "id": "WO9crdOt6QO2"
      },
      "source": [
        "# Preprocessing of Data\n",
        "- Train | Test Split, Scalling"
      ]
    },
    {
      "cell_type": "code",
      "execution_count": 104,
      "metadata": {
        "id": "AV3FE9_U6QO3"
      },
      "outputs": [],
      "source": [
        ""
      ]
    },
    {
      "cell_type": "code",
      "execution_count": 105,
      "metadata": {
        "id": "DjY-ZSPWka7D"
      },
      "outputs": [],
      "source": [
        "from sklearn.model_selection import train_test_split\n",
        "from sklearn.preprocessing import MinMaxScaler"
      ]
    },
    {
      "cell_type": "code",
      "execution_count": 106,
      "metadata": {
        "id": "kjyTH753lq7M"
      },
      "outputs": [],
      "source": [
        "X = df.drop('Exited', axis=1)\n",
        "y = df['Exited']"
      ]
    },
    {
      "cell_type": "code",
      "execution_count": 107,
      "metadata": {
        "id": "LZHPkO_DuWYK"
      },
      "outputs": [],
      "source": [
        "seed = 42"
      ]
    },
    {
      "cell_type": "code",
      "execution_count": 108,
      "metadata": {
        "id": "-U7qM3NxmKZX"
      },
      "outputs": [],
      "source": [
        "X_train, X_test, y_train, y_test = train_test_split(X, y, stratify = y, test_size = 0.20, random_state = seed)"
      ]
    },
    {
      "cell_type": "code",
      "execution_count": 109,
      "metadata": {
        "id": "fv1Ass6wuWYL"
      },
      "outputs": [],
      "source": [
        "scaler = MinMaxScaler()"
      ]
    },
    {
      "cell_type": "code",
      "execution_count": 110,
      "metadata": {
        "id": "Fgy3D9SBmWcq"
      },
      "outputs": [],
      "source": [
        "X_train= scaler.fit_transform(X_train)\n",
        "X_test = scaler.transform(X_test)"
      ]
    },
    {
      "cell_type": "markdown",
      "metadata": {
        "id": "Ha9hDt_AoGaE"
      },
      "source": [
        "# Modelling & Model Performance"
      ]
    },
    {
      "cell_type": "markdown",
      "metadata": {
        "id": "nFduVvWV6QO4"
      },
      "source": [
        "## without class_weigth"
      ]
    },
    {
      "cell_type": "markdown",
      "metadata": {
        "id": "yw66wSCy6QO4"
      },
      "source": [
        "### Create The Model"
      ]
    },
    {
      "cell_type": "code",
      "execution_count": 110,
      "metadata": {
        "id": "8d2UbzKd6QO4"
      },
      "outputs": [],
      "source": [
        ""
      ]
    },
    {
      "cell_type": "code",
      "execution_count": 111,
      "metadata": {
        "id": "7ULmvr-n13bQ"
      },
      "outputs": [],
      "source": [
        "import tensorflow as tf\n",
        "from tensorflow.keras.models import Sequential\n",
        "from tensorflow.keras.layers import Dense, Activation\n",
        "from sklearn.metrics import classification_report, confusion_matrix\n",
        "from sklearn.metrics import plot_roc_curve, roc_auc_score, roc_curve\n",
        "from sklearn.model_selection import cross_val_score, cross_validate\n",
        "from sklearn.model_selection import GridSearchCV  "
      ]
    },
    {
      "cell_type": "code",
      "execution_count": 111,
      "metadata": {
        "id": "bVa8H6z113bR"
      },
      "outputs": [],
      "source": [
        ""
      ]
    },
    {
      "cell_type": "code",
      "execution_count": 112,
      "metadata": {
        "colab": {
          "base_uri": "https://localhost:8080/"
        },
        "id": "53becHwOn549",
        "outputId": "66f99394-36f0-4316-c1d9-d7edc8caab66"
      },
      "outputs": [
        {
          "output_type": "execute_result",
          "data": {
            "text/plain": [
              "(8000, 10)"
            ]
          },
          "metadata": {},
          "execution_count": 112
        }
      ],
      "source": [
        "X_train.shape"
      ]
    },
    {
      "cell_type": "code",
      "execution_count": 113,
      "metadata": {
        "colab": {
          "base_uri": "https://localhost:8080/"
        },
        "id": "TX7hyUw5rOZc",
        "outputId": "a937b21d-1c58-42a4-d9c9-d682e4908fec"
      },
      "outputs": [
        {
          "output_type": "execute_result",
          "data": {
            "text/plain": [
              "(2000, 10)"
            ]
          },
          "metadata": {},
          "execution_count": 113
        }
      ],
      "source": [
        "X_test.shape"
      ]
    },
    {
      "cell_type": "code",
      "execution_count": 114,
      "metadata": {
        "id": "GG2glFRNrQcv"
      },
      "outputs": [],
      "source": [
        "tf.random.set_seed(seed)\n",
        "\n",
        "model = Sequential()\n",
        "\n",
        "model.add(Dense(16, activation = \"relu\", input_dim = X_train.shape[1]))\n",
        "model.add(Dense(8, activation = \"relu\"))\n",
        "model.add(Dense(4, activation = \"relu\"))\n",
        "model.add(Dense(1, activation = \"sigmoid\"))         \n",
        "model.compile(optimizer = \"adam\", loss = \"binary_crossentropy\", metrics = [\"accuracy\"])  "
      ]
    },
    {
      "cell_type": "code",
      "execution_count": 115,
      "metadata": {
        "colab": {
          "base_uri": "https://localhost:8080/"
        },
        "id": "hw5J9o-mtbkj",
        "outputId": "d6f8514f-3b1b-428a-c86b-20f0dd7713ce"
      },
      "outputs": [
        {
          "output_type": "stream",
          "name": "stdout",
          "text": [
            "Epoch 1/500\n",
            "68/68 [==============================] - 1s 3ms/step - loss: 0.6287 - accuracy: 0.7178 - val_loss: 0.5486 - val_accuracy: 0.8067\n",
            "Epoch 2/500\n",
            "68/68 [==============================] - 0s 2ms/step - loss: 0.5160 - accuracy: 0.7944 - val_loss: 0.4839 - val_accuracy: 0.8067\n",
            "Epoch 3/500\n",
            "68/68 [==============================] - 0s 2ms/step - loss: 0.4927 - accuracy: 0.7944 - val_loss: 0.4745 - val_accuracy: 0.8067\n",
            "Epoch 4/500\n",
            "68/68 [==============================] - 0s 1ms/step - loss: 0.4819 - accuracy: 0.7944 - val_loss: 0.4625 - val_accuracy: 0.8067\n",
            "Epoch 5/500\n",
            "68/68 [==============================] - 0s 2ms/step - loss: 0.4683 - accuracy: 0.7951 - val_loss: 0.4507 - val_accuracy: 0.8150\n",
            "Epoch 6/500\n",
            "68/68 [==============================] - 0s 1ms/step - loss: 0.4571 - accuracy: 0.8012 - val_loss: 0.4431 - val_accuracy: 0.8192\n",
            "Epoch 7/500\n",
            "68/68 [==============================] - 0s 2ms/step - loss: 0.4490 - accuracy: 0.8043 - val_loss: 0.4369 - val_accuracy: 0.8158\n",
            "Epoch 8/500\n",
            "68/68 [==============================] - 0s 2ms/step - loss: 0.4439 - accuracy: 0.8084 - val_loss: 0.4353 - val_accuracy: 0.8158\n",
            "Epoch 9/500\n",
            "68/68 [==============================] - 0s 2ms/step - loss: 0.4400 - accuracy: 0.8081 - val_loss: 0.4344 - val_accuracy: 0.8225\n",
            "Epoch 10/500\n",
            "68/68 [==============================] - 0s 1ms/step - loss: 0.4388 - accuracy: 0.8072 - val_loss: 0.4307 - val_accuracy: 0.8217\n",
            "Epoch 11/500\n",
            "68/68 [==============================] - 0s 2ms/step - loss: 0.4367 - accuracy: 0.8096 - val_loss: 0.4298 - val_accuracy: 0.8175\n",
            "Epoch 12/500\n",
            "68/68 [==============================] - 0s 1ms/step - loss: 0.4350 - accuracy: 0.8097 - val_loss: 0.4290 - val_accuracy: 0.8192\n",
            "Epoch 13/500\n",
            "68/68 [==============================] - 0s 2ms/step - loss: 0.4342 - accuracy: 0.8099 - val_loss: 0.4278 - val_accuracy: 0.8167\n",
            "Epoch 14/500\n",
            "68/68 [==============================] - 0s 3ms/step - loss: 0.4332 - accuracy: 0.8099 - val_loss: 0.4263 - val_accuracy: 0.8175\n",
            "Epoch 15/500\n",
            "68/68 [==============================] - 0s 3ms/step - loss: 0.4318 - accuracy: 0.8135 - val_loss: 0.4256 - val_accuracy: 0.8183\n",
            "Epoch 16/500\n",
            "68/68 [==============================] - 0s 3ms/step - loss: 0.4303 - accuracy: 0.8100 - val_loss: 0.4242 - val_accuracy: 0.8150\n",
            "Epoch 17/500\n",
            "68/68 [==============================] - 0s 2ms/step - loss: 0.4291 - accuracy: 0.8112 - val_loss: 0.4220 - val_accuracy: 0.8200\n",
            "Epoch 18/500\n",
            "68/68 [==============================] - 0s 2ms/step - loss: 0.4278 - accuracy: 0.8125 - val_loss: 0.4202 - val_accuracy: 0.8175\n",
            "Epoch 19/500\n",
            "68/68 [==============================] - 0s 2ms/step - loss: 0.4273 - accuracy: 0.8119 - val_loss: 0.4177 - val_accuracy: 0.8192\n",
            "Epoch 20/500\n",
            "68/68 [==============================] - 0s 2ms/step - loss: 0.4236 - accuracy: 0.8168 - val_loss: 0.4168 - val_accuracy: 0.8325\n",
            "Epoch 21/500\n",
            "68/68 [==============================] - 0s 3ms/step - loss: 0.4207 - accuracy: 0.8163 - val_loss: 0.4109 - val_accuracy: 0.8292\n",
            "Epoch 22/500\n",
            "68/68 [==============================] - 0s 2ms/step - loss: 0.4175 - accuracy: 0.8176 - val_loss: 0.4070 - val_accuracy: 0.8300\n",
            "Epoch 23/500\n",
            "68/68 [==============================] - 0s 2ms/step - loss: 0.4128 - accuracy: 0.8193 - val_loss: 0.4011 - val_accuracy: 0.8300\n",
            "Epoch 24/500\n",
            "68/68 [==============================] - 0s 2ms/step - loss: 0.4083 - accuracy: 0.8234 - val_loss: 0.3958 - val_accuracy: 0.8358\n",
            "Epoch 25/500\n",
            "68/68 [==============================] - 0s 3ms/step - loss: 0.4030 - accuracy: 0.8263 - val_loss: 0.3900 - val_accuracy: 0.8392\n",
            "Epoch 26/500\n",
            "68/68 [==============================] - 0s 3ms/step - loss: 0.3972 - accuracy: 0.8294 - val_loss: 0.3837 - val_accuracy: 0.8442\n",
            "Epoch 27/500\n",
            "68/68 [==============================] - 0s 3ms/step - loss: 0.3921 - accuracy: 0.8309 - val_loss: 0.3809 - val_accuracy: 0.8417\n",
            "Epoch 28/500\n",
            "68/68 [==============================] - 0s 2ms/step - loss: 0.3860 - accuracy: 0.8359 - val_loss: 0.3707 - val_accuracy: 0.8475\n",
            "Epoch 29/500\n",
            "68/68 [==============================] - 0s 2ms/step - loss: 0.3830 - accuracy: 0.8382 - val_loss: 0.3665 - val_accuracy: 0.8533\n",
            "Epoch 30/500\n",
            "68/68 [==============================] - 0s 3ms/step - loss: 0.3815 - accuracy: 0.8406 - val_loss: 0.3622 - val_accuracy: 0.8542\n",
            "Epoch 31/500\n",
            "68/68 [==============================] - 0s 3ms/step - loss: 0.3787 - accuracy: 0.8412 - val_loss: 0.3614 - val_accuracy: 0.8492\n",
            "Epoch 32/500\n",
            "68/68 [==============================] - 0s 2ms/step - loss: 0.3770 - accuracy: 0.8424 - val_loss: 0.3585 - val_accuracy: 0.8525\n",
            "Epoch 33/500\n",
            "68/68 [==============================] - 0s 1ms/step - loss: 0.3762 - accuracy: 0.8432 - val_loss: 0.3563 - val_accuracy: 0.8508\n",
            "Epoch 34/500\n",
            "68/68 [==============================] - 0s 2ms/step - loss: 0.3747 - accuracy: 0.8434 - val_loss: 0.3542 - val_accuracy: 0.8525\n",
            "Epoch 35/500\n",
            "68/68 [==============================] - 0s 2ms/step - loss: 0.3748 - accuracy: 0.8444 - val_loss: 0.3538 - val_accuracy: 0.8525\n",
            "Epoch 36/500\n",
            "68/68 [==============================] - 0s 2ms/step - loss: 0.3730 - accuracy: 0.8463 - val_loss: 0.3517 - val_accuracy: 0.8508\n",
            "Epoch 37/500\n",
            "68/68 [==============================] - 0s 1ms/step - loss: 0.3725 - accuracy: 0.8488 - val_loss: 0.3510 - val_accuracy: 0.8558\n",
            "Epoch 38/500\n",
            "68/68 [==============================] - 0s 1ms/step - loss: 0.3718 - accuracy: 0.8468 - val_loss: 0.3533 - val_accuracy: 0.8567\n",
            "Epoch 39/500\n",
            "68/68 [==============================] - 0s 2ms/step - loss: 0.3711 - accuracy: 0.8482 - val_loss: 0.3493 - val_accuracy: 0.8583\n",
            "Epoch 40/500\n",
            "68/68 [==============================] - 0s 2ms/step - loss: 0.3701 - accuracy: 0.8490 - val_loss: 0.3519 - val_accuracy: 0.8558\n",
            "Epoch 41/500\n",
            "68/68 [==============================] - 0s 1ms/step - loss: 0.3695 - accuracy: 0.8506 - val_loss: 0.3499 - val_accuracy: 0.8575\n",
            "Epoch 42/500\n",
            "68/68 [==============================] - 0s 2ms/step - loss: 0.3682 - accuracy: 0.8493 - val_loss: 0.3475 - val_accuracy: 0.8617\n",
            "Epoch 43/500\n",
            "68/68 [==============================] - 0s 2ms/step - loss: 0.3675 - accuracy: 0.8501 - val_loss: 0.3465 - val_accuracy: 0.8592\n",
            "Epoch 44/500\n",
            "68/68 [==============================] - 0s 2ms/step - loss: 0.3677 - accuracy: 0.8509 - val_loss: 0.3466 - val_accuracy: 0.8600\n",
            "Epoch 45/500\n",
            "68/68 [==============================] - 0s 2ms/step - loss: 0.3671 - accuracy: 0.8491 - val_loss: 0.3478 - val_accuracy: 0.8600\n",
            "Epoch 46/500\n",
            "68/68 [==============================] - 0s 2ms/step - loss: 0.3670 - accuracy: 0.8515 - val_loss: 0.3459 - val_accuracy: 0.8608\n",
            "Epoch 47/500\n",
            "68/68 [==============================] - 0s 2ms/step - loss: 0.3665 - accuracy: 0.8487 - val_loss: 0.3469 - val_accuracy: 0.8608\n",
            "Epoch 48/500\n",
            "68/68 [==============================] - 0s 2ms/step - loss: 0.3656 - accuracy: 0.8512 - val_loss: 0.3448 - val_accuracy: 0.8608\n",
            "Epoch 49/500\n",
            "68/68 [==============================] - 0s 1ms/step - loss: 0.3653 - accuracy: 0.8503 - val_loss: 0.3447 - val_accuracy: 0.8608\n",
            "Epoch 50/500\n",
            "68/68 [==============================] - 0s 2ms/step - loss: 0.3662 - accuracy: 0.8485 - val_loss: 0.3445 - val_accuracy: 0.8608\n",
            "Epoch 51/500\n",
            "68/68 [==============================] - 0s 2ms/step - loss: 0.3650 - accuracy: 0.8513 - val_loss: 0.3439 - val_accuracy: 0.8633\n",
            "Epoch 52/500\n",
            "68/68 [==============================] - 0s 2ms/step - loss: 0.3645 - accuracy: 0.8506 - val_loss: 0.3433 - val_accuracy: 0.8625\n",
            "Epoch 53/500\n",
            "68/68 [==============================] - 0s 2ms/step - loss: 0.3647 - accuracy: 0.8525 - val_loss: 0.3432 - val_accuracy: 0.8617\n",
            "Epoch 54/500\n",
            "68/68 [==============================] - 0s 1ms/step - loss: 0.3645 - accuracy: 0.8525 - val_loss: 0.3423 - val_accuracy: 0.8617\n",
            "Epoch 55/500\n",
            "68/68 [==============================] - 0s 2ms/step - loss: 0.3642 - accuracy: 0.8516 - val_loss: 0.3422 - val_accuracy: 0.8625\n",
            "Epoch 56/500\n",
            "68/68 [==============================] - 0s 2ms/step - loss: 0.3631 - accuracy: 0.8531 - val_loss: 0.3458 - val_accuracy: 0.8642\n",
            "Epoch 57/500\n",
            "68/68 [==============================] - 0s 1ms/step - loss: 0.3631 - accuracy: 0.8526 - val_loss: 0.3448 - val_accuracy: 0.8650\n",
            "Epoch 58/500\n",
            "68/68 [==============================] - 0s 1ms/step - loss: 0.3628 - accuracy: 0.8528 - val_loss: 0.3413 - val_accuracy: 0.8642\n",
            "Epoch 59/500\n",
            "68/68 [==============================] - 0s 2ms/step - loss: 0.3626 - accuracy: 0.8540 - val_loss: 0.3419 - val_accuracy: 0.8592\n",
            "Epoch 60/500\n",
            "68/68 [==============================] - 0s 2ms/step - loss: 0.3623 - accuracy: 0.8528 - val_loss: 0.3408 - val_accuracy: 0.8633\n",
            "Epoch 61/500\n",
            "68/68 [==============================] - 0s 2ms/step - loss: 0.3638 - accuracy: 0.8507 - val_loss: 0.3408 - val_accuracy: 0.8617\n",
            "Epoch 62/500\n",
            "68/68 [==============================] - 0s 2ms/step - loss: 0.3628 - accuracy: 0.8531 - val_loss: 0.3412 - val_accuracy: 0.8617\n",
            "Epoch 63/500\n",
            "68/68 [==============================] - 0s 2ms/step - loss: 0.3629 - accuracy: 0.8526 - val_loss: 0.3439 - val_accuracy: 0.8650\n",
            "Epoch 64/500\n",
            "68/68 [==============================] - 0s 2ms/step - loss: 0.3619 - accuracy: 0.8531 - val_loss: 0.3396 - val_accuracy: 0.8625\n",
            "Epoch 65/500\n",
            "68/68 [==============================] - 0s 2ms/step - loss: 0.3614 - accuracy: 0.8524 - val_loss: 0.3392 - val_accuracy: 0.8625\n",
            "Epoch 66/500\n",
            "68/68 [==============================] - 0s 1ms/step - loss: 0.3617 - accuracy: 0.8540 - val_loss: 0.3395 - val_accuracy: 0.8633\n",
            "Epoch 67/500\n",
            "68/68 [==============================] - 0s 1ms/step - loss: 0.3609 - accuracy: 0.8546 - val_loss: 0.3396 - val_accuracy: 0.8608\n",
            "Epoch 68/500\n",
            "68/68 [==============================] - 0s 2ms/step - loss: 0.3607 - accuracy: 0.8535 - val_loss: 0.3390 - val_accuracy: 0.8625\n",
            "Epoch 69/500\n",
            "68/68 [==============================] - 0s 2ms/step - loss: 0.3612 - accuracy: 0.8525 - val_loss: 0.3387 - val_accuracy: 0.8642\n",
            "Epoch 70/500\n",
            "68/68 [==============================] - 0s 2ms/step - loss: 0.3604 - accuracy: 0.8526 - val_loss: 0.3394 - val_accuracy: 0.8608\n",
            "Epoch 71/500\n",
            "68/68 [==============================] - 0s 2ms/step - loss: 0.3607 - accuracy: 0.8535 - val_loss: 0.3392 - val_accuracy: 0.8642\n",
            "Epoch 72/500\n",
            "68/68 [==============================] - 0s 2ms/step - loss: 0.3607 - accuracy: 0.8525 - val_loss: 0.3380 - val_accuracy: 0.8633\n",
            "Epoch 73/500\n",
            "68/68 [==============================] - 0s 2ms/step - loss: 0.3598 - accuracy: 0.8547 - val_loss: 0.3373 - val_accuracy: 0.8642\n",
            "Epoch 74/500\n",
            "68/68 [==============================] - 0s 2ms/step - loss: 0.3602 - accuracy: 0.8546 - val_loss: 0.3389 - val_accuracy: 0.8625\n",
            "Epoch 75/500\n",
            "68/68 [==============================] - 0s 2ms/step - loss: 0.3598 - accuracy: 0.8531 - val_loss: 0.3370 - val_accuracy: 0.8625\n",
            "Epoch 76/500\n",
            "68/68 [==============================] - 0s 2ms/step - loss: 0.3601 - accuracy: 0.8528 - val_loss: 0.3381 - val_accuracy: 0.8667\n",
            "Epoch 77/500\n",
            "68/68 [==============================] - 0s 2ms/step - loss: 0.3596 - accuracy: 0.8513 - val_loss: 0.3396 - val_accuracy: 0.8667\n",
            "Epoch 78/500\n",
            "68/68 [==============================] - 0s 2ms/step - loss: 0.3600 - accuracy: 0.8535 - val_loss: 0.3369 - val_accuracy: 0.8658\n",
            "Epoch 79/500\n",
            "68/68 [==============================] - 0s 1ms/step - loss: 0.3594 - accuracy: 0.8549 - val_loss: 0.3378 - val_accuracy: 0.8642\n",
            "Epoch 80/500\n",
            "68/68 [==============================] - 0s 2ms/step - loss: 0.3594 - accuracy: 0.8551 - val_loss: 0.3406 - val_accuracy: 0.8625\n",
            "Epoch 81/500\n",
            "68/68 [==============================] - 0s 2ms/step - loss: 0.3596 - accuracy: 0.8537 - val_loss: 0.3368 - val_accuracy: 0.8650\n",
            "Epoch 82/500\n",
            "68/68 [==============================] - 0s 2ms/step - loss: 0.3593 - accuracy: 0.8547 - val_loss: 0.3355 - val_accuracy: 0.8658\n",
            "Epoch 83/500\n",
            "68/68 [==============================] - 0s 2ms/step - loss: 0.3585 - accuracy: 0.8537 - val_loss: 0.3358 - val_accuracy: 0.8658\n",
            "Epoch 84/500\n",
            "68/68 [==============================] - 0s 1ms/step - loss: 0.3591 - accuracy: 0.8543 - val_loss: 0.3361 - val_accuracy: 0.8633\n",
            "Epoch 85/500\n",
            "68/68 [==============================] - 0s 1ms/step - loss: 0.3582 - accuracy: 0.8543 - val_loss: 0.3363 - val_accuracy: 0.8642\n",
            "Epoch 86/500\n",
            "68/68 [==============================] - 0s 2ms/step - loss: 0.3590 - accuracy: 0.8538 - val_loss: 0.3362 - val_accuracy: 0.8658\n",
            "Epoch 87/500\n",
            "68/68 [==============================] - 0s 2ms/step - loss: 0.3580 - accuracy: 0.8556 - val_loss: 0.3362 - val_accuracy: 0.8667\n",
            "Epoch 88/500\n",
            "68/68 [==============================] - 0s 1ms/step - loss: 0.3577 - accuracy: 0.8550 - val_loss: 0.3351 - val_accuracy: 0.8642\n",
            "Epoch 89/500\n",
            "68/68 [==============================] - 0s 2ms/step - loss: 0.3582 - accuracy: 0.8532 - val_loss: 0.3351 - val_accuracy: 0.8633\n",
            "Epoch 90/500\n",
            "68/68 [==============================] - 0s 2ms/step - loss: 0.3586 - accuracy: 0.8554 - val_loss: 0.3352 - val_accuracy: 0.8633\n",
            "Epoch 91/500\n",
            "68/68 [==============================] - 0s 2ms/step - loss: 0.3574 - accuracy: 0.8532 - val_loss: 0.3352 - val_accuracy: 0.8633\n",
            "Epoch 92/500\n",
            "68/68 [==============================] - 0s 2ms/step - loss: 0.3578 - accuracy: 0.8535 - val_loss: 0.3352 - val_accuracy: 0.8625\n",
            "Epoch 93/500\n",
            "68/68 [==============================] - 0s 2ms/step - loss: 0.3571 - accuracy: 0.8537 - val_loss: 0.3347 - val_accuracy: 0.8650\n",
            "Epoch 94/500\n",
            "68/68 [==============================] - 0s 2ms/step - loss: 0.3572 - accuracy: 0.8562 - val_loss: 0.3340 - val_accuracy: 0.8658\n",
            "Epoch 95/500\n",
            "68/68 [==============================] - 0s 2ms/step - loss: 0.3566 - accuracy: 0.8553 - val_loss: 0.3343 - val_accuracy: 0.8658\n",
            "Epoch 96/500\n",
            "68/68 [==============================] - 0s 2ms/step - loss: 0.3574 - accuracy: 0.8540 - val_loss: 0.3343 - val_accuracy: 0.8642\n",
            "Epoch 97/500\n",
            "68/68 [==============================] - 0s 2ms/step - loss: 0.3569 - accuracy: 0.8560 - val_loss: 0.3337 - val_accuracy: 0.8658\n",
            "Epoch 98/500\n",
            "68/68 [==============================] - 0s 2ms/step - loss: 0.3569 - accuracy: 0.8550 - val_loss: 0.3340 - val_accuracy: 0.8675\n",
            "Epoch 99/500\n",
            "68/68 [==============================] - 0s 2ms/step - loss: 0.3562 - accuracy: 0.8540 - val_loss: 0.3331 - val_accuracy: 0.8625\n",
            "Epoch 100/500\n",
            "68/68 [==============================] - 0s 2ms/step - loss: 0.3559 - accuracy: 0.8565 - val_loss: 0.3345 - val_accuracy: 0.8650\n",
            "Epoch 101/500\n",
            "68/68 [==============================] - 0s 1ms/step - loss: 0.3573 - accuracy: 0.8547 - val_loss: 0.3386 - val_accuracy: 0.8667\n",
            "Epoch 102/500\n",
            "68/68 [==============================] - 0s 2ms/step - loss: 0.3569 - accuracy: 0.8543 - val_loss: 0.3328 - val_accuracy: 0.8650\n",
            "Epoch 103/500\n",
            "68/68 [==============================] - 0s 2ms/step - loss: 0.3558 - accuracy: 0.8544 - val_loss: 0.3326 - val_accuracy: 0.8642\n",
            "Epoch 104/500\n",
            "68/68 [==============================] - 0s 2ms/step - loss: 0.3564 - accuracy: 0.8559 - val_loss: 0.3341 - val_accuracy: 0.8617\n",
            "Epoch 105/500\n",
            "68/68 [==============================] - 0s 2ms/step - loss: 0.3559 - accuracy: 0.8546 - val_loss: 0.3346 - val_accuracy: 0.8617\n",
            "Epoch 106/500\n",
            "68/68 [==============================] - 0s 2ms/step - loss: 0.3551 - accuracy: 0.8546 - val_loss: 0.3324 - val_accuracy: 0.8650\n",
            "Epoch 107/500\n",
            "68/68 [==============================] - 0s 1ms/step - loss: 0.3557 - accuracy: 0.8550 - val_loss: 0.3349 - val_accuracy: 0.8617\n",
            "Epoch 108/500\n",
            "68/68 [==============================] - 0s 2ms/step - loss: 0.3552 - accuracy: 0.8562 - val_loss: 0.3330 - val_accuracy: 0.8642\n",
            "Epoch 109/500\n",
            "68/68 [==============================] - 0s 2ms/step - loss: 0.3555 - accuracy: 0.8554 - val_loss: 0.3329 - val_accuracy: 0.8650\n",
            "Epoch 110/500\n",
            "68/68 [==============================] - 0s 2ms/step - loss: 0.3550 - accuracy: 0.8549 - val_loss: 0.3327 - val_accuracy: 0.8642\n",
            "Epoch 111/500\n",
            "68/68 [==============================] - 0s 3ms/step - loss: 0.3548 - accuracy: 0.8544 - val_loss: 0.3319 - val_accuracy: 0.8642\n",
            "Epoch 112/500\n",
            "68/68 [==============================] - 0s 3ms/step - loss: 0.3545 - accuracy: 0.8557 - val_loss: 0.3329 - val_accuracy: 0.8650\n",
            "Epoch 113/500\n",
            "68/68 [==============================] - 0s 3ms/step - loss: 0.3546 - accuracy: 0.8554 - val_loss: 0.3332 - val_accuracy: 0.8650\n",
            "Epoch 114/500\n",
            "68/68 [==============================] - 0s 3ms/step - loss: 0.3551 - accuracy: 0.8560 - val_loss: 0.3327 - val_accuracy: 0.8650\n",
            "Epoch 115/500\n",
            "68/68 [==============================] - 0s 3ms/step - loss: 0.3545 - accuracy: 0.8544 - val_loss: 0.3315 - val_accuracy: 0.8658\n",
            "Epoch 116/500\n",
            "68/68 [==============================] - 0s 3ms/step - loss: 0.3555 - accuracy: 0.8550 - val_loss: 0.3325 - val_accuracy: 0.8650\n",
            "Epoch 117/500\n",
            "68/68 [==============================] - 0s 3ms/step - loss: 0.3544 - accuracy: 0.8553 - val_loss: 0.3324 - val_accuracy: 0.8617\n",
            "Epoch 118/500\n",
            "68/68 [==============================] - 0s 3ms/step - loss: 0.3537 - accuracy: 0.8575 - val_loss: 0.3317 - val_accuracy: 0.8650\n",
            "Epoch 119/500\n",
            "68/68 [==============================] - 0s 3ms/step - loss: 0.3544 - accuracy: 0.8562 - val_loss: 0.3315 - val_accuracy: 0.8658\n",
            "Epoch 120/500\n",
            "68/68 [==============================] - 0s 3ms/step - loss: 0.3535 - accuracy: 0.8554 - val_loss: 0.3314 - val_accuracy: 0.8633\n",
            "Epoch 121/500\n",
            "68/68 [==============================] - 0s 3ms/step - loss: 0.3531 - accuracy: 0.8569 - val_loss: 0.3323 - val_accuracy: 0.8650\n",
            "Epoch 122/500\n",
            "68/68 [==============================] - 0s 3ms/step - loss: 0.3533 - accuracy: 0.8554 - val_loss: 0.3332 - val_accuracy: 0.8650\n",
            "Epoch 123/500\n",
            "68/68 [==============================] - 0s 3ms/step - loss: 0.3525 - accuracy: 0.8562 - val_loss: 0.3362 - val_accuracy: 0.8633\n",
            "Epoch 124/500\n",
            "68/68 [==============================] - 0s 3ms/step - loss: 0.3540 - accuracy: 0.8568 - val_loss: 0.3322 - val_accuracy: 0.8667\n",
            "Epoch 125/500\n",
            "68/68 [==============================] - 0s 2ms/step - loss: 0.3523 - accuracy: 0.8557 - val_loss: 0.3363 - val_accuracy: 0.8658\n",
            "Epoch 126/500\n",
            "68/68 [==============================] - 0s 1ms/step - loss: 0.3524 - accuracy: 0.8549 - val_loss: 0.3325 - val_accuracy: 0.8642\n",
            "Epoch 127/500\n",
            "68/68 [==============================] - 0s 2ms/step - loss: 0.3532 - accuracy: 0.8553 - val_loss: 0.3359 - val_accuracy: 0.8633\n",
            "Epoch 128/500\n",
            "68/68 [==============================] - 0s 2ms/step - loss: 0.3525 - accuracy: 0.8554 - val_loss: 0.3316 - val_accuracy: 0.8675\n",
            "Epoch 129/500\n",
            "68/68 [==============================] - 0s 1ms/step - loss: 0.3521 - accuracy: 0.8553 - val_loss: 0.3320 - val_accuracy: 0.8675\n",
            "Epoch 130/500\n",
            "68/68 [==============================] - 0s 2ms/step - loss: 0.3521 - accuracy: 0.8575 - val_loss: 0.3326 - val_accuracy: 0.8650\n",
            "Epoch 131/500\n",
            "68/68 [==============================] - 0s 2ms/step - loss: 0.3518 - accuracy: 0.8557 - val_loss: 0.3325 - val_accuracy: 0.8650\n",
            "Epoch 132/500\n",
            "68/68 [==============================] - 0s 2ms/step - loss: 0.3518 - accuracy: 0.8566 - val_loss: 0.3310 - val_accuracy: 0.8650\n",
            "Epoch 133/500\n",
            "68/68 [==============================] - 0s 2ms/step - loss: 0.3518 - accuracy: 0.8559 - val_loss: 0.3323 - val_accuracy: 0.8675\n",
            "Epoch 134/500\n",
            "68/68 [==============================] - 0s 2ms/step - loss: 0.3521 - accuracy: 0.8566 - val_loss: 0.3328 - val_accuracy: 0.8667\n",
            "Epoch 135/500\n",
            "68/68 [==============================] - 0s 2ms/step - loss: 0.3528 - accuracy: 0.8554 - val_loss: 0.3323 - val_accuracy: 0.8633\n",
            "Epoch 136/500\n",
            "68/68 [==============================] - 0s 3ms/step - loss: 0.3510 - accuracy: 0.8575 - val_loss: 0.3313 - val_accuracy: 0.8650\n",
            "Epoch 137/500\n",
            "68/68 [==============================] - 0s 2ms/step - loss: 0.3506 - accuracy: 0.8560 - val_loss: 0.3354 - val_accuracy: 0.8608\n",
            "Epoch 138/500\n",
            "68/68 [==============================] - 0s 3ms/step - loss: 0.3510 - accuracy: 0.8579 - val_loss: 0.3330 - val_accuracy: 0.8642\n",
            "Epoch 139/500\n",
            "68/68 [==============================] - 0s 3ms/step - loss: 0.3512 - accuracy: 0.8566 - val_loss: 0.3323 - val_accuracy: 0.8642\n",
            "Epoch 140/500\n",
            "68/68 [==============================] - 0s 3ms/step - loss: 0.3509 - accuracy: 0.8571 - val_loss: 0.3317 - val_accuracy: 0.8625\n",
            "Epoch 141/500\n",
            "68/68 [==============================] - 0s 3ms/step - loss: 0.3508 - accuracy: 0.8562 - val_loss: 0.3318 - val_accuracy: 0.8642\n",
            "Epoch 142/500\n",
            "68/68 [==============================] - 0s 3ms/step - loss: 0.3511 - accuracy: 0.8565 - val_loss: 0.3324 - val_accuracy: 0.8617\n",
            "Epoch 143/500\n",
            "68/68 [==============================] - 0s 2ms/step - loss: 0.3504 - accuracy: 0.8568 - val_loss: 0.3370 - val_accuracy: 0.8625\n",
            "Epoch 144/500\n",
            "68/68 [==============================] - 0s 3ms/step - loss: 0.3501 - accuracy: 0.8563 - val_loss: 0.3314 - val_accuracy: 0.8625\n",
            "Epoch 145/500\n",
            "68/68 [==============================] - 0s 2ms/step - loss: 0.3496 - accuracy: 0.8562 - val_loss: 0.3310 - val_accuracy: 0.8617\n",
            "Epoch 146/500\n",
            "68/68 [==============================] - 0s 2ms/step - loss: 0.3502 - accuracy: 0.8569 - val_loss: 0.3309 - val_accuracy: 0.8650\n",
            "Epoch 147/500\n",
            "68/68 [==============================] - 0s 2ms/step - loss: 0.3494 - accuracy: 0.8559 - val_loss: 0.3312 - val_accuracy: 0.8625\n",
            "Epoch 148/500\n",
            "68/68 [==============================] - 0s 3ms/step - loss: 0.3498 - accuracy: 0.8574 - val_loss: 0.3302 - val_accuracy: 0.8650\n",
            "Epoch 149/500\n",
            "68/68 [==============================] - 0s 3ms/step - loss: 0.3494 - accuracy: 0.8575 - val_loss: 0.3310 - val_accuracy: 0.8617\n",
            "Epoch 150/500\n",
            "68/68 [==============================] - 0s 2ms/step - loss: 0.3496 - accuracy: 0.8569 - val_loss: 0.3301 - val_accuracy: 0.8642\n",
            "Epoch 151/500\n",
            "68/68 [==============================] - 0s 2ms/step - loss: 0.3496 - accuracy: 0.8560 - val_loss: 0.3308 - val_accuracy: 0.8658\n",
            "Epoch 152/500\n",
            "68/68 [==============================] - 0s 3ms/step - loss: 0.3496 - accuracy: 0.8560 - val_loss: 0.3301 - val_accuracy: 0.8642\n",
            "Epoch 153/500\n",
            "68/68 [==============================] - 0s 3ms/step - loss: 0.3491 - accuracy: 0.8572 - val_loss: 0.3318 - val_accuracy: 0.8650\n",
            "Epoch 154/500\n",
            "68/68 [==============================] - 0s 3ms/step - loss: 0.3491 - accuracy: 0.8582 - val_loss: 0.3306 - val_accuracy: 0.8650\n",
            "Epoch 155/500\n",
            "68/68 [==============================] - 0s 2ms/step - loss: 0.3483 - accuracy: 0.8582 - val_loss: 0.3306 - val_accuracy: 0.8608\n",
            "Epoch 156/500\n",
            "68/68 [==============================] - 0s 2ms/step - loss: 0.3490 - accuracy: 0.8575 - val_loss: 0.3310 - val_accuracy: 0.8625\n",
            "Epoch 157/500\n",
            "68/68 [==============================] - 0s 2ms/step - loss: 0.3487 - accuracy: 0.8581 - val_loss: 0.3331 - val_accuracy: 0.8625\n",
            "Epoch 158/500\n",
            "68/68 [==============================] - 0s 2ms/step - loss: 0.3493 - accuracy: 0.8568 - val_loss: 0.3314 - val_accuracy: 0.8617\n",
            "Epoch 159/500\n",
            "68/68 [==============================] - 0s 3ms/step - loss: 0.3473 - accuracy: 0.8566 - val_loss: 0.3306 - val_accuracy: 0.8642\n",
            "Epoch 160/500\n",
            "68/68 [==============================] - 0s 2ms/step - loss: 0.3479 - accuracy: 0.8568 - val_loss: 0.3321 - val_accuracy: 0.8650\n",
            "Epoch 161/500\n",
            "68/68 [==============================] - 0s 2ms/step - loss: 0.3477 - accuracy: 0.8587 - val_loss: 0.3325 - val_accuracy: 0.8642\n",
            "Epoch 162/500\n",
            "68/68 [==============================] - 0s 2ms/step - loss: 0.3471 - accuracy: 0.8565 - val_loss: 0.3311 - val_accuracy: 0.8608\n",
            "Epoch 163/500\n",
            "68/68 [==============================] - 0s 2ms/step - loss: 0.3481 - accuracy: 0.8565 - val_loss: 0.3302 - val_accuracy: 0.8617\n",
            "Epoch 164/500\n",
            "68/68 [==============================] - 0s 3ms/step - loss: 0.3474 - accuracy: 0.8584 - val_loss: 0.3301 - val_accuracy: 0.8650\n",
            "Epoch 165/500\n",
            "68/68 [==============================] - 0s 2ms/step - loss: 0.3475 - accuracy: 0.8582 - val_loss: 0.3316 - val_accuracy: 0.8617\n",
            "Epoch 166/500\n",
            "68/68 [==============================] - 0s 2ms/step - loss: 0.3475 - accuracy: 0.8572 - val_loss: 0.3313 - val_accuracy: 0.8633\n",
            "Epoch 167/500\n",
            "68/68 [==============================] - 0s 1ms/step - loss: 0.3468 - accuracy: 0.8582 - val_loss: 0.3320 - val_accuracy: 0.8642\n",
            "Epoch 168/500\n",
            "68/68 [==============================] - 0s 2ms/step - loss: 0.3483 - accuracy: 0.8585 - val_loss: 0.3293 - val_accuracy: 0.8667\n",
            "Epoch 169/500\n",
            "68/68 [==============================] - 0s 1ms/step - loss: 0.3466 - accuracy: 0.8575 - val_loss: 0.3296 - val_accuracy: 0.8650\n",
            "Epoch 170/500\n",
            "68/68 [==============================] - 0s 1ms/step - loss: 0.3461 - accuracy: 0.8568 - val_loss: 0.3293 - val_accuracy: 0.8633\n",
            "Epoch 171/500\n",
            "68/68 [==============================] - 0s 2ms/step - loss: 0.3462 - accuracy: 0.8574 - val_loss: 0.3290 - val_accuracy: 0.8650\n",
            "Epoch 172/500\n",
            "68/68 [==============================] - 0s 2ms/step - loss: 0.3467 - accuracy: 0.8571 - val_loss: 0.3282 - val_accuracy: 0.8642\n",
            "Epoch 173/500\n",
            "68/68 [==============================] - 0s 2ms/step - loss: 0.3470 - accuracy: 0.8566 - val_loss: 0.3300 - val_accuracy: 0.8633\n",
            "Epoch 174/500\n",
            "68/68 [==============================] - 0s 1ms/step - loss: 0.3471 - accuracy: 0.8569 - val_loss: 0.3300 - val_accuracy: 0.8642\n",
            "Epoch 175/500\n",
            "68/68 [==============================] - 0s 2ms/step - loss: 0.3465 - accuracy: 0.8572 - val_loss: 0.3271 - val_accuracy: 0.8675\n",
            "Epoch 176/500\n",
            "68/68 [==============================] - 0s 2ms/step - loss: 0.3464 - accuracy: 0.8575 - val_loss: 0.3363 - val_accuracy: 0.8658\n",
            "Epoch 177/500\n",
            "68/68 [==============================] - 0s 3ms/step - loss: 0.3466 - accuracy: 0.8582 - val_loss: 0.3295 - val_accuracy: 0.8633\n",
            "Epoch 178/500\n",
            "68/68 [==============================] - 0s 5ms/step - loss: 0.3473 - accuracy: 0.8568 - val_loss: 0.3275 - val_accuracy: 0.8667\n",
            "Epoch 179/500\n",
            "68/68 [==============================] - 0s 2ms/step - loss: 0.3464 - accuracy: 0.8590 - val_loss: 0.3288 - val_accuracy: 0.8675\n",
            "Epoch 180/500\n",
            "68/68 [==============================] - 0s 2ms/step - loss: 0.3451 - accuracy: 0.8590 - val_loss: 0.3289 - val_accuracy: 0.8667\n",
            "Epoch 181/500\n",
            "68/68 [==============================] - 0s 1ms/step - loss: 0.3457 - accuracy: 0.8571 - val_loss: 0.3274 - val_accuracy: 0.8650\n",
            "Epoch 182/500\n",
            "68/68 [==============================] - 0s 2ms/step - loss: 0.3457 - accuracy: 0.8559 - val_loss: 0.3284 - val_accuracy: 0.8650\n",
            "Epoch 183/500\n",
            "68/68 [==============================] - 0s 2ms/step - loss: 0.3462 - accuracy: 0.8596 - val_loss: 0.3281 - val_accuracy: 0.8642\n",
            "Epoch 184/500\n",
            "68/68 [==============================] - 0s 2ms/step - loss: 0.3461 - accuracy: 0.8581 - val_loss: 0.3294 - val_accuracy: 0.8667\n",
            "Epoch 185/500\n",
            "68/68 [==============================] - 0s 2ms/step - loss: 0.3455 - accuracy: 0.8599 - val_loss: 0.3282 - val_accuracy: 0.8642\n",
            "Epoch 186/500\n",
            "68/68 [==============================] - 0s 2ms/step - loss: 0.3456 - accuracy: 0.8563 - val_loss: 0.3280 - val_accuracy: 0.8658\n",
            "Epoch 187/500\n",
            "68/68 [==============================] - 0s 2ms/step - loss: 0.3450 - accuracy: 0.8585 - val_loss: 0.3274 - val_accuracy: 0.8692\n",
            "Epoch 188/500\n",
            "68/68 [==============================] - 0s 2ms/step - loss: 0.3446 - accuracy: 0.8593 - val_loss: 0.3270 - val_accuracy: 0.8675\n",
            "Epoch 189/500\n",
            "68/68 [==============================] - 0s 2ms/step - loss: 0.3450 - accuracy: 0.8575 - val_loss: 0.3313 - val_accuracy: 0.8642\n",
            "Epoch 190/500\n",
            "68/68 [==============================] - 0s 2ms/step - loss: 0.3450 - accuracy: 0.8594 - val_loss: 0.3295 - val_accuracy: 0.8633\n",
            "Epoch 191/500\n",
            "68/68 [==============================] - 0s 1ms/step - loss: 0.3446 - accuracy: 0.8590 - val_loss: 0.3283 - val_accuracy: 0.8642\n",
            "Epoch 192/500\n",
            "68/68 [==============================] - 0s 2ms/step - loss: 0.3448 - accuracy: 0.8585 - val_loss: 0.3343 - val_accuracy: 0.8667\n",
            "Epoch 193/500\n",
            "68/68 [==============================] - 0s 2ms/step - loss: 0.3461 - accuracy: 0.8553 - val_loss: 0.3288 - val_accuracy: 0.8633\n",
            "Epoch 194/500\n",
            "68/68 [==============================] - 0s 2ms/step - loss: 0.3454 - accuracy: 0.8585 - val_loss: 0.3278 - val_accuracy: 0.8633\n",
            "Epoch 195/500\n",
            "68/68 [==============================] - 0s 2ms/step - loss: 0.3446 - accuracy: 0.8565 - val_loss: 0.3284 - val_accuracy: 0.8658\n",
            "Epoch 196/500\n",
            "68/68 [==============================] - 0s 2ms/step - loss: 0.3439 - accuracy: 0.8579 - val_loss: 0.3271 - val_accuracy: 0.8708\n",
            "Epoch 197/500\n",
            "68/68 [==============================] - 0s 2ms/step - loss: 0.3455 - accuracy: 0.8596 - val_loss: 0.3268 - val_accuracy: 0.8683\n",
            "Epoch 198/500\n",
            "68/68 [==============================] - 0s 2ms/step - loss: 0.3447 - accuracy: 0.8576 - val_loss: 0.3285 - val_accuracy: 0.8658\n",
            "Epoch 199/500\n",
            "68/68 [==============================] - 0s 2ms/step - loss: 0.3446 - accuracy: 0.8575 - val_loss: 0.3273 - val_accuracy: 0.8658\n",
            "Epoch 200/500\n",
            "68/68 [==============================] - 0s 2ms/step - loss: 0.3430 - accuracy: 0.8593 - val_loss: 0.3308 - val_accuracy: 0.8625\n",
            "Epoch 201/500\n",
            "68/68 [==============================] - 0s 2ms/step - loss: 0.3461 - accuracy: 0.8560 - val_loss: 0.3273 - val_accuracy: 0.8708\n",
            "Epoch 202/500\n",
            "68/68 [==============================] - 0s 2ms/step - loss: 0.3442 - accuracy: 0.8596 - val_loss: 0.3268 - val_accuracy: 0.8625\n",
            "Epoch 203/500\n",
            "68/68 [==============================] - 0s 2ms/step - loss: 0.3449 - accuracy: 0.8569 - val_loss: 0.3318 - val_accuracy: 0.8650\n",
            "Epoch 204/500\n",
            "68/68 [==============================] - 0s 2ms/step - loss: 0.3447 - accuracy: 0.8588 - val_loss: 0.3273 - val_accuracy: 0.8658\n",
            "Epoch 205/500\n",
            "68/68 [==============================] - 0s 2ms/step - loss: 0.3451 - accuracy: 0.8588 - val_loss: 0.3282 - val_accuracy: 0.8642\n",
            "Epoch 206/500\n",
            "68/68 [==============================] - 0s 2ms/step - loss: 0.3441 - accuracy: 0.8581 - val_loss: 0.3290 - val_accuracy: 0.8650\n",
            "Epoch 207/500\n",
            "68/68 [==============================] - 0s 2ms/step - loss: 0.3442 - accuracy: 0.8569 - val_loss: 0.3274 - val_accuracy: 0.8667\n",
            "Epoch 208/500\n",
            "68/68 [==============================] - 0s 2ms/step - loss: 0.3436 - accuracy: 0.8593 - val_loss: 0.3275 - val_accuracy: 0.8683\n",
            "Epoch 209/500\n",
            "68/68 [==============================] - 0s 1ms/step - loss: 0.3437 - accuracy: 0.8596 - val_loss: 0.3271 - val_accuracy: 0.8667\n",
            "Epoch 210/500\n",
            "68/68 [==============================] - 0s 2ms/step - loss: 0.3441 - accuracy: 0.8581 - val_loss: 0.3280 - val_accuracy: 0.8683\n",
            "Epoch 211/500\n",
            "68/68 [==============================] - 0s 2ms/step - loss: 0.3440 - accuracy: 0.8587 - val_loss: 0.3275 - val_accuracy: 0.8667\n",
            "Epoch 212/500\n",
            "68/68 [==============================] - 0s 2ms/step - loss: 0.3437 - accuracy: 0.8593 - val_loss: 0.3265 - val_accuracy: 0.8658\n",
            "Epoch 213/500\n",
            "68/68 [==============================] - 0s 2ms/step - loss: 0.3437 - accuracy: 0.8591 - val_loss: 0.3265 - val_accuracy: 0.8683\n",
            "Epoch 214/500\n",
            "68/68 [==============================] - 0s 2ms/step - loss: 0.3438 - accuracy: 0.8568 - val_loss: 0.3281 - val_accuracy: 0.8667\n",
            "Epoch 215/500\n",
            "68/68 [==============================] - 0s 2ms/step - loss: 0.3435 - accuracy: 0.8584 - val_loss: 0.3281 - val_accuracy: 0.8633\n",
            "Epoch 216/500\n",
            "68/68 [==============================] - 0s 2ms/step - loss: 0.3428 - accuracy: 0.8604 - val_loss: 0.3285 - val_accuracy: 0.8625\n",
            "Epoch 217/500\n",
            "68/68 [==============================] - 0s 1ms/step - loss: 0.3431 - accuracy: 0.8575 - val_loss: 0.3308 - val_accuracy: 0.8650\n",
            "Epoch 218/500\n",
            "68/68 [==============================] - 0s 2ms/step - loss: 0.3449 - accuracy: 0.8581 - val_loss: 0.3298 - val_accuracy: 0.8658\n",
            "Epoch 219/500\n",
            "68/68 [==============================] - 0s 2ms/step - loss: 0.3456 - accuracy: 0.8550 - val_loss: 0.3269 - val_accuracy: 0.8667\n",
            "Epoch 220/500\n",
            "68/68 [==============================] - 0s 1ms/step - loss: 0.3435 - accuracy: 0.8575 - val_loss: 0.3259 - val_accuracy: 0.8675\n",
            "Epoch 221/500\n",
            "68/68 [==============================] - 0s 2ms/step - loss: 0.3430 - accuracy: 0.8587 - val_loss: 0.3275 - val_accuracy: 0.8683\n",
            "Epoch 222/500\n",
            "68/68 [==============================] - 0s 2ms/step - loss: 0.3429 - accuracy: 0.8594 - val_loss: 0.3272 - val_accuracy: 0.8658\n",
            "Epoch 223/500\n",
            "68/68 [==============================] - 0s 1ms/step - loss: 0.3449 - accuracy: 0.8584 - val_loss: 0.3265 - val_accuracy: 0.8725\n",
            "Epoch 224/500\n",
            "68/68 [==============================] - 0s 2ms/step - loss: 0.3435 - accuracy: 0.8581 - val_loss: 0.3276 - val_accuracy: 0.8650\n",
            "Epoch 225/500\n",
            "68/68 [==============================] - 0s 2ms/step - loss: 0.3431 - accuracy: 0.8590 - val_loss: 0.3265 - val_accuracy: 0.8633\n",
            "Epoch 226/500\n",
            "68/68 [==============================] - 0s 2ms/step - loss: 0.3428 - accuracy: 0.8590 - val_loss: 0.3290 - val_accuracy: 0.8658\n",
            "Epoch 227/500\n",
            "68/68 [==============================] - 0s 2ms/step - loss: 0.3422 - accuracy: 0.8609 - val_loss: 0.3268 - val_accuracy: 0.8667\n",
            "Epoch 228/500\n",
            "68/68 [==============================] - 0s 2ms/step - loss: 0.3435 - accuracy: 0.8603 - val_loss: 0.3271 - val_accuracy: 0.8658\n",
            "Epoch 229/500\n",
            "68/68 [==============================] - 0s 2ms/step - loss: 0.3423 - accuracy: 0.8601 - val_loss: 0.3265 - val_accuracy: 0.8650\n",
            "Epoch 230/500\n",
            "68/68 [==============================] - 0s 2ms/step - loss: 0.3431 - accuracy: 0.8590 - val_loss: 0.3272 - val_accuracy: 0.8658\n",
            "Epoch 231/500\n",
            "68/68 [==============================] - 0s 1ms/step - loss: 0.3427 - accuracy: 0.8593 - val_loss: 0.3280 - val_accuracy: 0.8667\n",
            "Epoch 232/500\n",
            "68/68 [==============================] - 0s 2ms/step - loss: 0.3428 - accuracy: 0.8585 - val_loss: 0.3305 - val_accuracy: 0.8675\n",
            "Epoch 233/500\n",
            "68/68 [==============================] - 0s 2ms/step - loss: 0.3446 - accuracy: 0.8582 - val_loss: 0.3263 - val_accuracy: 0.8683\n",
            "Epoch 234/500\n",
            "68/68 [==============================] - 0s 2ms/step - loss: 0.3431 - accuracy: 0.8594 - val_loss: 0.3268 - val_accuracy: 0.8683\n",
            "Epoch 235/500\n",
            "68/68 [==============================] - 0s 2ms/step - loss: 0.3428 - accuracy: 0.8596 - val_loss: 0.3279 - val_accuracy: 0.8642\n",
            "Epoch 236/500\n",
            "68/68 [==============================] - 0s 2ms/step - loss: 0.3431 - accuracy: 0.8579 - val_loss: 0.3258 - val_accuracy: 0.8683\n",
            "Epoch 237/500\n",
            "68/68 [==============================] - 0s 2ms/step - loss: 0.3422 - accuracy: 0.8596 - val_loss: 0.3288 - val_accuracy: 0.8675\n",
            "Epoch 238/500\n",
            "68/68 [==============================] - 0s 2ms/step - loss: 0.3428 - accuracy: 0.8593 - val_loss: 0.3274 - val_accuracy: 0.8692\n",
            "Epoch 239/500\n",
            "68/68 [==============================] - 0s 2ms/step - loss: 0.3433 - accuracy: 0.8601 - val_loss: 0.3259 - val_accuracy: 0.8683\n",
            "Epoch 240/500\n",
            "68/68 [==============================] - 0s 2ms/step - loss: 0.3429 - accuracy: 0.8610 - val_loss: 0.3268 - val_accuracy: 0.8683\n",
            "Epoch 241/500\n",
            "68/68 [==============================] - 0s 1ms/step - loss: 0.3437 - accuracy: 0.8578 - val_loss: 0.3258 - val_accuracy: 0.8633\n",
            "Epoch 242/500\n",
            "68/68 [==============================] - 0s 2ms/step - loss: 0.3436 - accuracy: 0.8572 - val_loss: 0.3281 - val_accuracy: 0.8675\n",
            "Epoch 243/500\n",
            "68/68 [==============================] - 0s 2ms/step - loss: 0.3426 - accuracy: 0.8588 - val_loss: 0.3265 - val_accuracy: 0.8650\n",
            "Epoch 244/500\n",
            "68/68 [==============================] - 0s 2ms/step - loss: 0.3421 - accuracy: 0.8584 - val_loss: 0.3264 - val_accuracy: 0.8683\n",
            "Epoch 245/500\n",
            "68/68 [==============================] - 0s 2ms/step - loss: 0.3420 - accuracy: 0.8590 - val_loss: 0.3260 - val_accuracy: 0.8675\n",
            "Epoch 246/500\n",
            "68/68 [==============================] - 0s 2ms/step - loss: 0.3422 - accuracy: 0.8574 - val_loss: 0.3271 - val_accuracy: 0.8650\n",
            "Epoch 247/500\n",
            "68/68 [==============================] - 0s 2ms/step - loss: 0.3419 - accuracy: 0.8585 - val_loss: 0.3251 - val_accuracy: 0.8667\n",
            "Epoch 248/500\n",
            "68/68 [==============================] - 0s 2ms/step - loss: 0.3417 - accuracy: 0.8593 - val_loss: 0.3282 - val_accuracy: 0.8658\n",
            "Epoch 249/500\n",
            "68/68 [==============================] - 0s 2ms/step - loss: 0.3421 - accuracy: 0.8599 - val_loss: 0.3272 - val_accuracy: 0.8650\n",
            "Epoch 250/500\n",
            "68/68 [==============================] - 0s 2ms/step - loss: 0.3419 - accuracy: 0.8596 - val_loss: 0.3258 - val_accuracy: 0.8675\n",
            "Epoch 251/500\n",
            "68/68 [==============================] - 0s 2ms/step - loss: 0.3416 - accuracy: 0.8594 - val_loss: 0.3257 - val_accuracy: 0.8658\n",
            "Epoch 252/500\n",
            "68/68 [==============================] - 0s 2ms/step - loss: 0.3421 - accuracy: 0.8590 - val_loss: 0.3254 - val_accuracy: 0.8683\n",
            "Epoch 253/500\n",
            "68/68 [==============================] - 0s 2ms/step - loss: 0.3421 - accuracy: 0.8590 - val_loss: 0.3262 - val_accuracy: 0.8658\n",
            "Epoch 254/500\n",
            "68/68 [==============================] - 0s 2ms/step - loss: 0.3417 - accuracy: 0.8609 - val_loss: 0.3274 - val_accuracy: 0.8642\n",
            "Epoch 255/500\n",
            "68/68 [==============================] - 0s 2ms/step - loss: 0.3427 - accuracy: 0.8591 - val_loss: 0.3251 - val_accuracy: 0.8675\n",
            "Epoch 256/500\n",
            "68/68 [==============================] - 0s 2ms/step - loss: 0.3412 - accuracy: 0.8587 - val_loss: 0.3293 - val_accuracy: 0.8658\n",
            "Epoch 257/500\n",
            "68/68 [==============================] - 0s 2ms/step - loss: 0.3424 - accuracy: 0.8582 - val_loss: 0.3253 - val_accuracy: 0.8650\n",
            "Epoch 258/500\n",
            "68/68 [==============================] - 0s 1ms/step - loss: 0.3425 - accuracy: 0.8581 - val_loss: 0.3249 - val_accuracy: 0.8675\n",
            "Epoch 259/500\n",
            "68/68 [==============================] - 0s 2ms/step - loss: 0.3417 - accuracy: 0.8596 - val_loss: 0.3249 - val_accuracy: 0.8700\n",
            "Epoch 260/500\n",
            "68/68 [==============================] - 0s 2ms/step - loss: 0.3418 - accuracy: 0.8593 - val_loss: 0.3262 - val_accuracy: 0.8650\n",
            "Epoch 261/500\n",
            "68/68 [==============================] - 0s 2ms/step - loss: 0.3420 - accuracy: 0.8599 - val_loss: 0.3250 - val_accuracy: 0.8683\n",
            "Epoch 262/500\n",
            "68/68 [==============================] - 0s 2ms/step - loss: 0.3421 - accuracy: 0.8585 - val_loss: 0.3265 - val_accuracy: 0.8658\n",
            "Epoch 263/500\n",
            "68/68 [==============================] - 0s 2ms/step - loss: 0.3429 - accuracy: 0.8588 - val_loss: 0.3275 - val_accuracy: 0.8675\n",
            "Epoch 264/500\n",
            "68/68 [==============================] - 0s 2ms/step - loss: 0.3420 - accuracy: 0.8606 - val_loss: 0.3249 - val_accuracy: 0.8642\n",
            "Epoch 265/500\n",
            "68/68 [==============================] - 0s 2ms/step - loss: 0.3418 - accuracy: 0.8596 - val_loss: 0.3266 - val_accuracy: 0.8625\n",
            "Epoch 266/500\n",
            "68/68 [==============================] - 0s 2ms/step - loss: 0.3415 - accuracy: 0.8590 - val_loss: 0.3283 - val_accuracy: 0.8608\n",
            "Epoch 267/500\n",
            "68/68 [==============================] - 0s 2ms/step - loss: 0.3419 - accuracy: 0.8596 - val_loss: 0.3270 - val_accuracy: 0.8658\n",
            "Epoch 268/500\n",
            "68/68 [==============================] - 0s 2ms/step - loss: 0.3415 - accuracy: 0.8596 - val_loss: 0.3263 - val_accuracy: 0.8642\n",
            "Epoch 269/500\n",
            "68/68 [==============================] - 0s 2ms/step - loss: 0.3415 - accuracy: 0.8591 - val_loss: 0.3328 - val_accuracy: 0.8633\n",
            "Epoch 270/500\n",
            "68/68 [==============================] - 0s 2ms/step - loss: 0.3421 - accuracy: 0.8566 - val_loss: 0.3263 - val_accuracy: 0.8650\n",
            "Epoch 271/500\n",
            "68/68 [==============================] - 0s 2ms/step - loss: 0.3407 - accuracy: 0.8568 - val_loss: 0.3267 - val_accuracy: 0.8650\n",
            "Epoch 272/500\n",
            "68/68 [==============================] - 0s 2ms/step - loss: 0.3415 - accuracy: 0.8576 - val_loss: 0.3269 - val_accuracy: 0.8625\n",
            "Epoch 273/500\n",
            "68/68 [==============================] - 0s 2ms/step - loss: 0.3409 - accuracy: 0.8588 - val_loss: 0.3269 - val_accuracy: 0.8675\n",
            "Epoch 274/500\n",
            "68/68 [==============================] - 0s 2ms/step - loss: 0.3403 - accuracy: 0.8601 - val_loss: 0.3301 - val_accuracy: 0.8625\n",
            "Epoch 275/500\n",
            "68/68 [==============================] - 0s 2ms/step - loss: 0.3418 - accuracy: 0.8585 - val_loss: 0.3256 - val_accuracy: 0.8675\n",
            "Epoch 276/500\n",
            "68/68 [==============================] - 0s 2ms/step - loss: 0.3424 - accuracy: 0.8584 - val_loss: 0.3248 - val_accuracy: 0.8675\n",
            "Epoch 277/500\n",
            "68/68 [==============================] - 0s 2ms/step - loss: 0.3420 - accuracy: 0.8582 - val_loss: 0.3266 - val_accuracy: 0.8675\n",
            "Epoch 278/500\n",
            "68/68 [==============================] - 0s 2ms/step - loss: 0.3411 - accuracy: 0.8585 - val_loss: 0.3262 - val_accuracy: 0.8658\n",
            "Epoch 279/500\n",
            "68/68 [==============================] - 0s 2ms/step - loss: 0.3406 - accuracy: 0.8588 - val_loss: 0.3286 - val_accuracy: 0.8617\n",
            "Epoch 280/500\n",
            "68/68 [==============================] - 0s 2ms/step - loss: 0.3404 - accuracy: 0.8593 - val_loss: 0.3254 - val_accuracy: 0.8658\n",
            "Epoch 281/500\n",
            "68/68 [==============================] - 0s 2ms/step - loss: 0.3413 - accuracy: 0.8599 - val_loss: 0.3255 - val_accuracy: 0.8683\n",
            "Epoch 282/500\n",
            "68/68 [==============================] - 0s 2ms/step - loss: 0.3403 - accuracy: 0.8599 - val_loss: 0.3247 - val_accuracy: 0.8667\n",
            "Epoch 283/500\n",
            "68/68 [==============================] - 0s 2ms/step - loss: 0.3411 - accuracy: 0.8588 - val_loss: 0.3306 - val_accuracy: 0.8567\n",
            "Epoch 284/500\n",
            "68/68 [==============================] - 0s 2ms/step - loss: 0.3415 - accuracy: 0.8601 - val_loss: 0.3268 - val_accuracy: 0.8633\n",
            "Epoch 285/500\n",
            "68/68 [==============================] - 0s 2ms/step - loss: 0.3410 - accuracy: 0.8612 - val_loss: 0.3253 - val_accuracy: 0.8683\n",
            "Epoch 286/500\n",
            "68/68 [==============================] - 0s 2ms/step - loss: 0.3421 - accuracy: 0.8587 - val_loss: 0.3270 - val_accuracy: 0.8617\n",
            "Epoch 287/500\n",
            "68/68 [==============================] - 0s 2ms/step - loss: 0.3422 - accuracy: 0.8591 - val_loss: 0.3274 - val_accuracy: 0.8692\n",
            "Epoch 288/500\n",
            "68/68 [==============================] - 0s 2ms/step - loss: 0.3412 - accuracy: 0.8603 - val_loss: 0.3305 - val_accuracy: 0.8650\n",
            "Epoch 289/500\n",
            "68/68 [==============================] - 0s 2ms/step - loss: 0.3406 - accuracy: 0.8600 - val_loss: 0.3273 - val_accuracy: 0.8667\n",
            "Epoch 290/500\n",
            "68/68 [==============================] - 0s 2ms/step - loss: 0.3407 - accuracy: 0.8597 - val_loss: 0.3312 - val_accuracy: 0.8583\n",
            "Epoch 291/500\n",
            "68/68 [==============================] - 0s 2ms/step - loss: 0.3410 - accuracy: 0.8578 - val_loss: 0.3318 - val_accuracy: 0.8683\n",
            "Epoch 292/500\n",
            "68/68 [==============================] - 0s 2ms/step - loss: 0.3412 - accuracy: 0.8587 - val_loss: 0.3248 - val_accuracy: 0.8692\n",
            "Epoch 293/500\n",
            "68/68 [==============================] - 0s 2ms/step - loss: 0.3403 - accuracy: 0.8609 - val_loss: 0.3271 - val_accuracy: 0.8633\n",
            "Epoch 294/500\n",
            "68/68 [==============================] - 0s 2ms/step - loss: 0.3399 - accuracy: 0.8575 - val_loss: 0.3258 - val_accuracy: 0.8683\n",
            "Epoch 295/500\n",
            "68/68 [==============================] - 0s 2ms/step - loss: 0.3412 - accuracy: 0.8582 - val_loss: 0.3290 - val_accuracy: 0.8642\n",
            "Epoch 296/500\n",
            "68/68 [==============================] - 0s 2ms/step - loss: 0.3394 - accuracy: 0.8590 - val_loss: 0.3261 - val_accuracy: 0.8650\n",
            "Epoch 297/500\n",
            "68/68 [==============================] - 0s 2ms/step - loss: 0.3410 - accuracy: 0.8607 - val_loss: 0.3269 - val_accuracy: 0.8667\n",
            "Epoch 298/500\n",
            "68/68 [==============================] - 0s 2ms/step - loss: 0.3398 - accuracy: 0.8591 - val_loss: 0.3248 - val_accuracy: 0.8642\n",
            "Epoch 299/500\n",
            "68/68 [==============================] - 0s 2ms/step - loss: 0.3400 - accuracy: 0.8597 - val_loss: 0.3294 - val_accuracy: 0.8683\n",
            "Epoch 300/500\n",
            "68/68 [==============================] - 0s 2ms/step - loss: 0.3410 - accuracy: 0.8581 - val_loss: 0.3279 - val_accuracy: 0.8675\n",
            "Epoch 301/500\n",
            "68/68 [==============================] - 0s 2ms/step - loss: 0.3400 - accuracy: 0.8581 - val_loss: 0.3273 - val_accuracy: 0.8683\n",
            "Epoch 302/500\n",
            "68/68 [==============================] - 0s 2ms/step - loss: 0.3403 - accuracy: 0.8606 - val_loss: 0.3258 - val_accuracy: 0.8675\n",
            "Epoch 303/500\n",
            "68/68 [==============================] - 0s 2ms/step - loss: 0.3400 - accuracy: 0.8584 - val_loss: 0.3252 - val_accuracy: 0.8650\n",
            "Epoch 304/500\n",
            "68/68 [==============================] - 0s 2ms/step - loss: 0.3406 - accuracy: 0.8588 - val_loss: 0.3288 - val_accuracy: 0.8658\n",
            "Epoch 305/500\n",
            "68/68 [==============================] - 0s 2ms/step - loss: 0.3404 - accuracy: 0.8569 - val_loss: 0.3274 - val_accuracy: 0.8633\n",
            "Epoch 306/500\n",
            "68/68 [==============================] - 0s 2ms/step - loss: 0.3402 - accuracy: 0.8582 - val_loss: 0.3278 - val_accuracy: 0.8633\n",
            "Epoch 307/500\n",
            "68/68 [==============================] - 0s 2ms/step - loss: 0.3401 - accuracy: 0.8597 - val_loss: 0.3276 - val_accuracy: 0.8658\n",
            "Epoch 308/500\n",
            "68/68 [==============================] - 0s 1ms/step - loss: 0.3401 - accuracy: 0.8582 - val_loss: 0.3275 - val_accuracy: 0.8667\n",
            "Epoch 309/500\n",
            "68/68 [==============================] - 0s 2ms/step - loss: 0.3406 - accuracy: 0.8582 - val_loss: 0.3262 - val_accuracy: 0.8667\n",
            "Epoch 310/500\n",
            "68/68 [==============================] - 0s 2ms/step - loss: 0.3398 - accuracy: 0.8584 - val_loss: 0.3253 - val_accuracy: 0.8642\n",
            "Epoch 311/500\n",
            "68/68 [==============================] - 0s 2ms/step - loss: 0.3398 - accuracy: 0.8587 - val_loss: 0.3307 - val_accuracy: 0.8633\n",
            "Epoch 312/500\n",
            "68/68 [==============================] - 0s 2ms/step - loss: 0.3401 - accuracy: 0.8596 - val_loss: 0.3276 - val_accuracy: 0.8642\n",
            "Epoch 313/500\n",
            "68/68 [==============================] - 0s 2ms/step - loss: 0.3399 - accuracy: 0.8578 - val_loss: 0.3266 - val_accuracy: 0.8692\n",
            "Epoch 314/500\n",
            "68/68 [==============================] - 0s 2ms/step - loss: 0.3400 - accuracy: 0.8584 - val_loss: 0.3264 - val_accuracy: 0.8667\n",
            "Epoch 315/500\n",
            "68/68 [==============================] - 0s 2ms/step - loss: 0.3398 - accuracy: 0.8594 - val_loss: 0.3262 - val_accuracy: 0.8675\n",
            "Epoch 316/500\n",
            "68/68 [==============================] - 0s 2ms/step - loss: 0.3401 - accuracy: 0.8616 - val_loss: 0.3257 - val_accuracy: 0.8658\n",
            "Epoch 317/500\n",
            "68/68 [==============================] - 0s 2ms/step - loss: 0.3409 - accuracy: 0.8588 - val_loss: 0.3303 - val_accuracy: 0.8625\n",
            "Epoch 318/500\n",
            "68/68 [==============================] - 0s 2ms/step - loss: 0.3399 - accuracy: 0.8585 - val_loss: 0.3269 - val_accuracy: 0.8642\n",
            "Epoch 319/500\n",
            "68/68 [==============================] - 0s 2ms/step - loss: 0.3402 - accuracy: 0.8601 - val_loss: 0.3275 - val_accuracy: 0.8650\n",
            "Epoch 320/500\n",
            "68/68 [==============================] - 0s 2ms/step - loss: 0.3405 - accuracy: 0.8600 - val_loss: 0.3282 - val_accuracy: 0.8708\n",
            "Epoch 321/500\n",
            "68/68 [==============================] - 0s 2ms/step - loss: 0.3394 - accuracy: 0.8596 - val_loss: 0.3279 - val_accuracy: 0.8642\n",
            "Epoch 322/500\n",
            "68/68 [==============================] - 0s 2ms/step - loss: 0.3397 - accuracy: 0.8579 - val_loss: 0.3281 - val_accuracy: 0.8667\n",
            "Epoch 323/500\n",
            "68/68 [==============================] - 0s 2ms/step - loss: 0.3402 - accuracy: 0.8591 - val_loss: 0.3277 - val_accuracy: 0.8692\n",
            "Epoch 324/500\n",
            "68/68 [==============================] - 0s 2ms/step - loss: 0.3402 - accuracy: 0.8588 - val_loss: 0.3268 - val_accuracy: 0.8667\n",
            "Epoch 325/500\n",
            "68/68 [==============================] - 0s 2ms/step - loss: 0.3395 - accuracy: 0.8600 - val_loss: 0.3285 - val_accuracy: 0.8650\n",
            "Epoch 326/500\n",
            "68/68 [==============================] - 0s 2ms/step - loss: 0.3398 - accuracy: 0.8600 - val_loss: 0.3269 - val_accuracy: 0.8625\n",
            "Epoch 327/500\n",
            "68/68 [==============================] - 0s 2ms/step - loss: 0.3393 - accuracy: 0.8588 - val_loss: 0.3284 - val_accuracy: 0.8633\n",
            "Epoch 328/500\n",
            "68/68 [==============================] - 0s 2ms/step - loss: 0.3395 - accuracy: 0.8591 - val_loss: 0.3279 - val_accuracy: 0.8683\n",
            "Epoch 329/500\n",
            "68/68 [==============================] - 0s 2ms/step - loss: 0.3395 - accuracy: 0.8588 - val_loss: 0.3265 - val_accuracy: 0.8650\n",
            "Epoch 330/500\n",
            "68/68 [==============================] - 0s 2ms/step - loss: 0.3397 - accuracy: 0.8600 - val_loss: 0.3277 - val_accuracy: 0.8633\n",
            "Epoch 331/500\n",
            "68/68 [==============================] - 0s 2ms/step - loss: 0.3406 - accuracy: 0.8582 - val_loss: 0.3287 - val_accuracy: 0.8658\n",
            "Epoch 332/500\n",
            "68/68 [==============================] - 0s 2ms/step - loss: 0.3391 - accuracy: 0.8593 - val_loss: 0.3298 - val_accuracy: 0.8683\n",
            "Epoch 333/500\n",
            "68/68 [==============================] - 0s 1ms/step - loss: 0.3398 - accuracy: 0.8594 - val_loss: 0.3267 - val_accuracy: 0.8650\n",
            "Epoch 334/500\n",
            "68/68 [==============================] - 0s 2ms/step - loss: 0.3396 - accuracy: 0.8596 - val_loss: 0.3284 - val_accuracy: 0.8683\n",
            "Epoch 335/500\n",
            "68/68 [==============================] - 0s 2ms/step - loss: 0.3393 - accuracy: 0.8588 - val_loss: 0.3280 - val_accuracy: 0.8617\n",
            "Epoch 336/500\n",
            "68/68 [==============================] - 0s 2ms/step - loss: 0.3401 - accuracy: 0.8585 - val_loss: 0.3270 - val_accuracy: 0.8675\n",
            "Epoch 337/500\n",
            "68/68 [==============================] - 0s 2ms/step - loss: 0.3401 - accuracy: 0.8599 - val_loss: 0.3308 - val_accuracy: 0.8658\n",
            "Epoch 338/500\n",
            "68/68 [==============================] - 0s 2ms/step - loss: 0.3388 - accuracy: 0.8597 - val_loss: 0.3274 - val_accuracy: 0.8658\n",
            "Epoch 339/500\n",
            "68/68 [==============================] - 0s 2ms/step - loss: 0.3391 - accuracy: 0.8593 - val_loss: 0.3261 - val_accuracy: 0.8675\n",
            "Epoch 340/500\n",
            "68/68 [==============================] - 0s 2ms/step - loss: 0.3392 - accuracy: 0.8587 - val_loss: 0.3303 - val_accuracy: 0.8650\n",
            "Epoch 341/500\n",
            "68/68 [==============================] - 0s 2ms/step - loss: 0.3388 - accuracy: 0.8590 - val_loss: 0.3290 - val_accuracy: 0.8642\n",
            "Epoch 342/500\n",
            "68/68 [==============================] - 0s 2ms/step - loss: 0.3391 - accuracy: 0.8601 - val_loss: 0.3265 - val_accuracy: 0.8692\n",
            "Epoch 343/500\n",
            "68/68 [==============================] - 0s 2ms/step - loss: 0.3394 - accuracy: 0.8609 - val_loss: 0.3285 - val_accuracy: 0.8650\n",
            "Epoch 344/500\n",
            "68/68 [==============================] - 0s 2ms/step - loss: 0.3399 - accuracy: 0.8601 - val_loss: 0.3269 - val_accuracy: 0.8700\n",
            "Epoch 345/500\n",
            "68/68 [==============================] - 0s 2ms/step - loss: 0.3389 - accuracy: 0.8597 - val_loss: 0.3273 - val_accuracy: 0.8650\n",
            "Epoch 346/500\n",
            "68/68 [==============================] - 0s 2ms/step - loss: 0.3400 - accuracy: 0.8581 - val_loss: 0.3256 - val_accuracy: 0.8683\n",
            "Epoch 347/500\n",
            "68/68 [==============================] - 0s 2ms/step - loss: 0.3384 - accuracy: 0.8594 - val_loss: 0.3273 - val_accuracy: 0.8617\n",
            "Epoch 348/500\n",
            "68/68 [==============================] - 0s 2ms/step - loss: 0.3391 - accuracy: 0.8593 - val_loss: 0.3275 - val_accuracy: 0.8642\n",
            "Epoch 349/500\n",
            "68/68 [==============================] - 0s 2ms/step - loss: 0.3389 - accuracy: 0.8597 - val_loss: 0.3268 - val_accuracy: 0.8683\n",
            "Epoch 350/500\n",
            "68/68 [==============================] - 0s 2ms/step - loss: 0.3385 - accuracy: 0.8596 - val_loss: 0.3283 - val_accuracy: 0.8650\n",
            "Epoch 351/500\n",
            "68/68 [==============================] - 0s 2ms/step - loss: 0.3390 - accuracy: 0.8601 - val_loss: 0.3283 - val_accuracy: 0.8658\n",
            "Epoch 352/500\n",
            "68/68 [==============================] - 0s 2ms/step - loss: 0.3399 - accuracy: 0.8581 - val_loss: 0.3341 - val_accuracy: 0.8642\n",
            "Epoch 353/500\n",
            "68/68 [==============================] - 0s 2ms/step - loss: 0.3385 - accuracy: 0.8596 - val_loss: 0.3285 - val_accuracy: 0.8650\n",
            "Epoch 354/500\n",
            "68/68 [==============================] - 0s 2ms/step - loss: 0.3394 - accuracy: 0.8600 - val_loss: 0.3289 - val_accuracy: 0.8667\n",
            "Epoch 355/500\n",
            "68/68 [==============================] - 0s 2ms/step - loss: 0.3398 - accuracy: 0.8588 - val_loss: 0.3325 - val_accuracy: 0.8633\n",
            "Epoch 356/500\n",
            "68/68 [==============================] - 0s 2ms/step - loss: 0.3393 - accuracy: 0.8584 - val_loss: 0.3314 - val_accuracy: 0.8617\n",
            "Epoch 357/500\n",
            "68/68 [==============================] - 0s 2ms/step - loss: 0.3394 - accuracy: 0.8594 - val_loss: 0.3275 - val_accuracy: 0.8683\n",
            "Epoch 358/500\n",
            "68/68 [==============================] - 0s 2ms/step - loss: 0.3388 - accuracy: 0.8578 - val_loss: 0.3263 - val_accuracy: 0.8683\n",
            "Epoch 359/500\n",
            "68/68 [==============================] - 0s 2ms/step - loss: 0.3397 - accuracy: 0.8578 - val_loss: 0.3280 - val_accuracy: 0.8675\n",
            "Epoch 360/500\n",
            "68/68 [==============================] - 0s 2ms/step - loss: 0.3395 - accuracy: 0.8588 - val_loss: 0.3267 - val_accuracy: 0.8625\n",
            "Epoch 361/500\n",
            "68/68 [==============================] - 0s 2ms/step - loss: 0.3391 - accuracy: 0.8587 - val_loss: 0.3307 - val_accuracy: 0.8633\n",
            "Epoch 362/500\n",
            "68/68 [==============================] - 0s 2ms/step - loss: 0.3388 - accuracy: 0.8596 - val_loss: 0.3273 - val_accuracy: 0.8658\n",
            "Epoch 363/500\n",
            "68/68 [==============================] - 0s 2ms/step - loss: 0.3385 - accuracy: 0.8587 - val_loss: 0.3278 - val_accuracy: 0.8675\n",
            "Epoch 364/500\n",
            "68/68 [==============================] - 0s 2ms/step - loss: 0.3385 - accuracy: 0.8594 - val_loss: 0.3269 - val_accuracy: 0.8642\n",
            "Epoch 365/500\n",
            "68/68 [==============================] - 0s 2ms/step - loss: 0.3381 - accuracy: 0.8600 - val_loss: 0.3296 - val_accuracy: 0.8633\n",
            "Epoch 366/500\n",
            "68/68 [==============================] - 0s 2ms/step - loss: 0.3389 - accuracy: 0.8591 - val_loss: 0.3282 - val_accuracy: 0.8642\n",
            "Epoch 367/500\n",
            "68/68 [==============================] - 0s 2ms/step - loss: 0.3387 - accuracy: 0.8601 - val_loss: 0.3263 - val_accuracy: 0.8633\n",
            "Epoch 368/500\n",
            "68/68 [==============================] - 0s 2ms/step - loss: 0.3384 - accuracy: 0.8584 - val_loss: 0.3280 - val_accuracy: 0.8650\n",
            "Epoch 369/500\n",
            "68/68 [==============================] - 0s 2ms/step - loss: 0.3383 - accuracy: 0.8612 - val_loss: 0.3276 - val_accuracy: 0.8650\n",
            "Epoch 370/500\n",
            "68/68 [==============================] - 0s 2ms/step - loss: 0.3386 - accuracy: 0.8600 - val_loss: 0.3288 - val_accuracy: 0.8692\n",
            "Epoch 371/500\n",
            "68/68 [==============================] - 0s 2ms/step - loss: 0.3386 - accuracy: 0.8604 - val_loss: 0.3264 - val_accuracy: 0.8667\n",
            "Epoch 372/500\n",
            "68/68 [==============================] - 0s 2ms/step - loss: 0.3384 - accuracy: 0.8578 - val_loss: 0.3284 - val_accuracy: 0.8683\n",
            "Epoch 373/500\n",
            "68/68 [==============================] - 0s 2ms/step - loss: 0.3381 - accuracy: 0.8581 - val_loss: 0.3308 - val_accuracy: 0.8633\n",
            "Epoch 374/500\n",
            "68/68 [==============================] - 0s 2ms/step - loss: 0.3387 - accuracy: 0.8599 - val_loss: 0.3296 - val_accuracy: 0.8650\n",
            "Epoch 375/500\n",
            "68/68 [==============================] - 0s 2ms/step - loss: 0.3393 - accuracy: 0.8603 - val_loss: 0.3278 - val_accuracy: 0.8608\n",
            "Epoch 376/500\n",
            "68/68 [==============================] - 0s 2ms/step - loss: 0.3385 - accuracy: 0.8584 - val_loss: 0.3274 - val_accuracy: 0.8633\n",
            "Epoch 377/500\n",
            "68/68 [==============================] - 0s 2ms/step - loss: 0.3381 - accuracy: 0.8594 - val_loss: 0.3287 - val_accuracy: 0.8642\n",
            "Epoch 378/500\n",
            "68/68 [==============================] - 0s 2ms/step - loss: 0.3382 - accuracy: 0.8609 - val_loss: 0.3259 - val_accuracy: 0.8667\n",
            "Epoch 379/500\n",
            "68/68 [==============================] - 0s 2ms/step - loss: 0.3383 - accuracy: 0.8590 - val_loss: 0.3291 - val_accuracy: 0.8608\n",
            "Epoch 380/500\n",
            "68/68 [==============================] - 0s 2ms/step - loss: 0.3398 - accuracy: 0.8594 - val_loss: 0.3285 - val_accuracy: 0.8675\n",
            "Epoch 381/500\n",
            "68/68 [==============================] - 0s 2ms/step - loss: 0.3393 - accuracy: 0.8597 - val_loss: 0.3272 - val_accuracy: 0.8642\n",
            "Epoch 382/500\n",
            "68/68 [==============================] - 0s 2ms/step - loss: 0.3385 - accuracy: 0.8613 - val_loss: 0.3278 - val_accuracy: 0.8658\n",
            "Epoch 383/500\n",
            "68/68 [==============================] - 0s 2ms/step - loss: 0.3386 - accuracy: 0.8594 - val_loss: 0.3276 - val_accuracy: 0.8650\n",
            "Epoch 384/500\n",
            "68/68 [==============================] - 0s 2ms/step - loss: 0.3388 - accuracy: 0.8603 - val_loss: 0.3281 - val_accuracy: 0.8633\n",
            "Epoch 385/500\n",
            "68/68 [==============================] - 0s 2ms/step - loss: 0.3399 - accuracy: 0.8584 - val_loss: 0.3282 - val_accuracy: 0.8642\n",
            "Epoch 386/500\n",
            "68/68 [==============================] - 0s 2ms/step - loss: 0.3389 - accuracy: 0.8594 - val_loss: 0.3307 - val_accuracy: 0.8658\n",
            "Epoch 387/500\n",
            "68/68 [==============================] - 0s 2ms/step - loss: 0.3383 - accuracy: 0.8585 - val_loss: 0.3286 - val_accuracy: 0.8667\n",
            "Epoch 388/500\n",
            "68/68 [==============================] - 0s 2ms/step - loss: 0.3387 - accuracy: 0.8575 - val_loss: 0.3305 - val_accuracy: 0.8625\n",
            "Epoch 389/500\n",
            "68/68 [==============================] - 0s 2ms/step - loss: 0.3385 - accuracy: 0.8599 - val_loss: 0.3293 - val_accuracy: 0.8642\n",
            "Epoch 390/500\n",
            "68/68 [==============================] - 0s 2ms/step - loss: 0.3385 - accuracy: 0.8609 - val_loss: 0.3303 - val_accuracy: 0.8625\n",
            "Epoch 391/500\n",
            "68/68 [==============================] - 0s 2ms/step - loss: 0.3378 - accuracy: 0.8604 - val_loss: 0.3292 - val_accuracy: 0.8617\n",
            "Epoch 392/500\n",
            "68/68 [==============================] - 0s 2ms/step - loss: 0.3390 - accuracy: 0.8600 - val_loss: 0.3271 - val_accuracy: 0.8658\n",
            "Epoch 393/500\n",
            "68/68 [==============================] - 0s 2ms/step - loss: 0.3382 - accuracy: 0.8600 - val_loss: 0.3281 - val_accuracy: 0.8667\n",
            "Epoch 394/500\n",
            "68/68 [==============================] - 0s 2ms/step - loss: 0.3376 - accuracy: 0.8604 - val_loss: 0.3282 - val_accuracy: 0.8642\n",
            "Epoch 395/500\n",
            "68/68 [==============================] - 0s 2ms/step - loss: 0.3377 - accuracy: 0.8588 - val_loss: 0.3279 - val_accuracy: 0.8642\n",
            "Epoch 396/500\n",
            "68/68 [==============================] - 0s 2ms/step - loss: 0.3380 - accuracy: 0.8603 - val_loss: 0.3270 - val_accuracy: 0.8625\n",
            "Epoch 397/500\n",
            "68/68 [==============================] - 0s 2ms/step - loss: 0.3394 - accuracy: 0.8578 - val_loss: 0.3296 - val_accuracy: 0.8658\n",
            "Epoch 398/500\n",
            "68/68 [==============================] - 0s 2ms/step - loss: 0.3388 - accuracy: 0.8590 - val_loss: 0.3336 - val_accuracy: 0.8625\n",
            "Epoch 399/500\n",
            "68/68 [==============================] - 0s 2ms/step - loss: 0.3382 - accuracy: 0.8591 - val_loss: 0.3299 - val_accuracy: 0.8600\n",
            "Epoch 400/500\n",
            "68/68 [==============================] - 0s 2ms/step - loss: 0.3391 - accuracy: 0.8599 - val_loss: 0.3341 - val_accuracy: 0.8583\n",
            "Epoch 401/500\n",
            "68/68 [==============================] - 0s 2ms/step - loss: 0.3403 - accuracy: 0.8587 - val_loss: 0.3293 - val_accuracy: 0.8650\n",
            "Epoch 402/500\n",
            "68/68 [==============================] - 0s 2ms/step - loss: 0.3382 - accuracy: 0.8579 - val_loss: 0.3302 - val_accuracy: 0.8583\n",
            "Epoch 403/500\n",
            "68/68 [==============================] - 0s 2ms/step - loss: 0.3379 - accuracy: 0.8596 - val_loss: 0.3271 - val_accuracy: 0.8625\n",
            "Epoch 404/500\n",
            "68/68 [==============================] - 0s 2ms/step - loss: 0.3385 - accuracy: 0.8585 - val_loss: 0.3276 - val_accuracy: 0.8633\n",
            "Epoch 405/500\n",
            "68/68 [==============================] - 0s 2ms/step - loss: 0.3395 - accuracy: 0.8579 - val_loss: 0.3307 - val_accuracy: 0.8617\n",
            "Epoch 406/500\n",
            "68/68 [==============================] - 0s 2ms/step - loss: 0.3383 - accuracy: 0.8597 - val_loss: 0.3289 - val_accuracy: 0.8642\n",
            "Epoch 407/500\n",
            "68/68 [==============================] - 0s 2ms/step - loss: 0.3382 - accuracy: 0.8596 - val_loss: 0.3295 - val_accuracy: 0.8642\n",
            "Epoch 408/500\n",
            "68/68 [==============================] - 0s 2ms/step - loss: 0.3384 - accuracy: 0.8607 - val_loss: 0.3279 - val_accuracy: 0.8658\n",
            "Epoch 409/500\n",
            "68/68 [==============================] - 0s 2ms/step - loss: 0.3383 - accuracy: 0.8593 - val_loss: 0.3306 - val_accuracy: 0.8650\n",
            "Epoch 410/500\n",
            "68/68 [==============================] - 0s 2ms/step - loss: 0.3388 - accuracy: 0.8582 - val_loss: 0.3295 - val_accuracy: 0.8675\n",
            "Epoch 411/500\n",
            "68/68 [==============================] - 0s 2ms/step - loss: 0.3388 - accuracy: 0.8594 - val_loss: 0.3305 - val_accuracy: 0.8592\n",
            "Epoch 412/500\n",
            "68/68 [==============================] - 0s 2ms/step - loss: 0.3386 - accuracy: 0.8607 - val_loss: 0.3295 - val_accuracy: 0.8633\n",
            "Epoch 413/500\n",
            "68/68 [==============================] - 0s 2ms/step - loss: 0.3379 - accuracy: 0.8603 - val_loss: 0.3287 - val_accuracy: 0.8608\n",
            "Epoch 414/500\n",
            "68/68 [==============================] - 0s 2ms/step - loss: 0.3376 - accuracy: 0.8588 - val_loss: 0.3313 - val_accuracy: 0.8617\n",
            "Epoch 415/500\n",
            "68/68 [==============================] - 0s 2ms/step - loss: 0.3384 - accuracy: 0.8599 - val_loss: 0.3293 - val_accuracy: 0.8650\n",
            "Epoch 416/500\n",
            "68/68 [==============================] - 0s 2ms/step - loss: 0.3380 - accuracy: 0.8615 - val_loss: 0.3284 - val_accuracy: 0.8667\n",
            "Epoch 417/500\n",
            "68/68 [==============================] - 0s 2ms/step - loss: 0.3376 - accuracy: 0.8603 - val_loss: 0.3286 - val_accuracy: 0.8633\n",
            "Epoch 418/500\n",
            "68/68 [==============================] - 0s 2ms/step - loss: 0.3386 - accuracy: 0.8593 - val_loss: 0.3289 - val_accuracy: 0.8633\n",
            "Epoch 419/500\n",
            "68/68 [==============================] - 0s 2ms/step - loss: 0.3377 - accuracy: 0.8590 - val_loss: 0.3284 - val_accuracy: 0.8650\n",
            "Epoch 420/500\n",
            "68/68 [==============================] - 0s 2ms/step - loss: 0.3379 - accuracy: 0.8594 - val_loss: 0.3280 - val_accuracy: 0.8633\n",
            "Epoch 421/500\n",
            "68/68 [==============================] - 0s 2ms/step - loss: 0.3380 - accuracy: 0.8600 - val_loss: 0.3291 - val_accuracy: 0.8650\n",
            "Epoch 422/500\n",
            "68/68 [==============================] - 0s 2ms/step - loss: 0.3389 - accuracy: 0.8600 - val_loss: 0.3274 - val_accuracy: 0.8650\n",
            "Epoch 423/500\n",
            "68/68 [==============================] - 0s 2ms/step - loss: 0.3380 - accuracy: 0.8599 - val_loss: 0.3306 - val_accuracy: 0.8608\n",
            "Epoch 424/500\n",
            "68/68 [==============================] - 0s 2ms/step - loss: 0.3376 - accuracy: 0.8596 - val_loss: 0.3279 - val_accuracy: 0.8633\n",
            "Epoch 425/500\n",
            "68/68 [==============================] - 0s 2ms/step - loss: 0.3373 - accuracy: 0.8613 - val_loss: 0.3277 - val_accuracy: 0.8650\n",
            "Epoch 426/500\n",
            "68/68 [==============================] - 0s 2ms/step - loss: 0.3378 - accuracy: 0.8587 - val_loss: 0.3303 - val_accuracy: 0.8642\n",
            "Epoch 427/500\n",
            "68/68 [==============================] - 0s 2ms/step - loss: 0.3378 - accuracy: 0.8609 - val_loss: 0.3282 - val_accuracy: 0.8625\n",
            "Epoch 428/500\n",
            "68/68 [==============================] - 0s 2ms/step - loss: 0.3380 - accuracy: 0.8618 - val_loss: 0.3276 - val_accuracy: 0.8650\n",
            "Epoch 429/500\n",
            "68/68 [==============================] - 0s 2ms/step - loss: 0.3380 - accuracy: 0.8587 - val_loss: 0.3294 - val_accuracy: 0.8642\n",
            "Epoch 430/500\n",
            "68/68 [==============================] - 0s 2ms/step - loss: 0.3377 - accuracy: 0.8597 - val_loss: 0.3314 - val_accuracy: 0.8617\n",
            "Epoch 431/500\n",
            "68/68 [==============================] - 0s 2ms/step - loss: 0.3379 - accuracy: 0.8584 - val_loss: 0.3342 - val_accuracy: 0.8608\n",
            "Epoch 432/500\n",
            "68/68 [==============================] - 0s 2ms/step - loss: 0.3378 - accuracy: 0.8587 - val_loss: 0.3286 - val_accuracy: 0.8625\n",
            "Epoch 433/500\n",
            "68/68 [==============================] - 0s 2ms/step - loss: 0.3369 - accuracy: 0.8594 - val_loss: 0.3311 - val_accuracy: 0.8667\n",
            "Epoch 434/500\n",
            "68/68 [==============================] - 0s 2ms/step - loss: 0.3386 - accuracy: 0.8603 - val_loss: 0.3287 - val_accuracy: 0.8633\n",
            "Epoch 435/500\n",
            "68/68 [==============================] - 0s 2ms/step - loss: 0.3380 - accuracy: 0.8609 - val_loss: 0.3281 - val_accuracy: 0.8633\n",
            "Epoch 436/500\n",
            "68/68 [==============================] - 0s 2ms/step - loss: 0.3373 - accuracy: 0.8600 - val_loss: 0.3282 - val_accuracy: 0.8633\n",
            "Epoch 437/500\n",
            "68/68 [==============================] - 0s 2ms/step - loss: 0.3390 - accuracy: 0.8579 - val_loss: 0.3296 - val_accuracy: 0.8608\n",
            "Epoch 438/500\n",
            "68/68 [==============================] - 0s 2ms/step - loss: 0.3381 - accuracy: 0.8594 - val_loss: 0.3281 - val_accuracy: 0.8633\n",
            "Epoch 439/500\n",
            "68/68 [==============================] - 0s 2ms/step - loss: 0.3373 - accuracy: 0.8582 - val_loss: 0.3283 - val_accuracy: 0.8617\n",
            "Epoch 440/500\n",
            "68/68 [==============================] - 0s 2ms/step - loss: 0.3391 - accuracy: 0.8599 - val_loss: 0.3296 - val_accuracy: 0.8650\n",
            "Epoch 441/500\n",
            "68/68 [==============================] - 0s 2ms/step - loss: 0.3376 - accuracy: 0.8585 - val_loss: 0.3309 - val_accuracy: 0.8633\n",
            "Epoch 442/500\n",
            "68/68 [==============================] - 0s 2ms/step - loss: 0.3377 - accuracy: 0.8601 - val_loss: 0.3283 - val_accuracy: 0.8658\n",
            "Epoch 443/500\n",
            "68/68 [==============================] - 0s 2ms/step - loss: 0.3384 - accuracy: 0.8584 - val_loss: 0.3328 - val_accuracy: 0.8583\n",
            "Epoch 444/500\n",
            "68/68 [==============================] - 0s 2ms/step - loss: 0.3394 - accuracy: 0.8588 - val_loss: 0.3299 - val_accuracy: 0.8625\n",
            "Epoch 445/500\n",
            "68/68 [==============================] - 0s 2ms/step - loss: 0.3377 - accuracy: 0.8594 - val_loss: 0.3304 - val_accuracy: 0.8642\n",
            "Epoch 446/500\n",
            "68/68 [==============================] - 0s 2ms/step - loss: 0.3382 - accuracy: 0.8594 - val_loss: 0.3302 - val_accuracy: 0.8633\n",
            "Epoch 447/500\n",
            "68/68 [==============================] - 0s 2ms/step - loss: 0.3368 - accuracy: 0.8607 - val_loss: 0.3291 - val_accuracy: 0.8650\n",
            "Epoch 448/500\n",
            "68/68 [==============================] - 0s 2ms/step - loss: 0.3375 - accuracy: 0.8594 - val_loss: 0.3304 - val_accuracy: 0.8650\n",
            "Epoch 449/500\n",
            "68/68 [==============================] - 0s 2ms/step - loss: 0.3387 - accuracy: 0.8588 - val_loss: 0.3293 - val_accuracy: 0.8667\n",
            "Epoch 450/500\n",
            "68/68 [==============================] - 0s 2ms/step - loss: 0.3383 - accuracy: 0.8587 - val_loss: 0.3287 - val_accuracy: 0.8642\n",
            "Epoch 451/500\n",
            "68/68 [==============================] - 0s 2ms/step - loss: 0.3380 - accuracy: 0.8590 - val_loss: 0.3285 - val_accuracy: 0.8608\n",
            "Epoch 452/500\n",
            "68/68 [==============================] - 0s 2ms/step - loss: 0.3380 - accuracy: 0.8597 - val_loss: 0.3280 - val_accuracy: 0.8658\n",
            "Epoch 453/500\n",
            "68/68 [==============================] - 0s 2ms/step - loss: 0.3365 - accuracy: 0.8610 - val_loss: 0.3342 - val_accuracy: 0.8608\n",
            "Epoch 454/500\n",
            "68/68 [==============================] - 0s 2ms/step - loss: 0.3392 - accuracy: 0.8557 - val_loss: 0.3290 - val_accuracy: 0.8633\n",
            "Epoch 455/500\n",
            "68/68 [==============================] - 0s 2ms/step - loss: 0.3382 - accuracy: 0.8616 - val_loss: 0.3307 - val_accuracy: 0.8608\n",
            "Epoch 456/500\n",
            "68/68 [==============================] - 0s 2ms/step - loss: 0.3378 - accuracy: 0.8594 - val_loss: 0.3302 - val_accuracy: 0.8642\n",
            "Epoch 457/500\n",
            "68/68 [==============================] - 0s 2ms/step - loss: 0.3380 - accuracy: 0.8590 - val_loss: 0.3284 - val_accuracy: 0.8650\n",
            "Epoch 458/500\n",
            "68/68 [==============================] - 0s 2ms/step - loss: 0.3377 - accuracy: 0.8597 - val_loss: 0.3285 - val_accuracy: 0.8658\n",
            "Epoch 459/500\n",
            "68/68 [==============================] - 0s 2ms/step - loss: 0.3379 - accuracy: 0.8606 - val_loss: 0.3312 - val_accuracy: 0.8550\n",
            "Epoch 460/500\n",
            "68/68 [==============================] - 0s 2ms/step - loss: 0.3379 - accuracy: 0.8603 - val_loss: 0.3288 - val_accuracy: 0.8633\n",
            "Epoch 461/500\n",
            "68/68 [==============================] - 0s 2ms/step - loss: 0.3377 - accuracy: 0.8604 - val_loss: 0.3297 - val_accuracy: 0.8625\n",
            "Epoch 462/500\n",
            "68/68 [==============================] - 0s 2ms/step - loss: 0.3375 - accuracy: 0.8599 - val_loss: 0.3300 - val_accuracy: 0.8625\n",
            "Epoch 463/500\n",
            "68/68 [==============================] - 0s 2ms/step - loss: 0.3366 - accuracy: 0.8596 - val_loss: 0.3328 - val_accuracy: 0.8650\n",
            "Epoch 464/500\n",
            "68/68 [==============================] - 0s 2ms/step - loss: 0.3369 - accuracy: 0.8587 - val_loss: 0.3320 - val_accuracy: 0.8592\n",
            "Epoch 465/500\n",
            "68/68 [==============================] - 0s 2ms/step - loss: 0.3376 - accuracy: 0.8582 - val_loss: 0.3340 - val_accuracy: 0.8600\n",
            "Epoch 466/500\n",
            "68/68 [==============================] - 0s 2ms/step - loss: 0.3380 - accuracy: 0.8581 - val_loss: 0.3296 - val_accuracy: 0.8608\n",
            "Epoch 467/500\n",
            "68/68 [==============================] - 0s 2ms/step - loss: 0.3368 - accuracy: 0.8585 - val_loss: 0.3292 - val_accuracy: 0.8658\n",
            "Epoch 468/500\n",
            "68/68 [==============================] - 0s 2ms/step - loss: 0.3374 - accuracy: 0.8587 - val_loss: 0.3300 - val_accuracy: 0.8658\n",
            "Epoch 469/500\n",
            "68/68 [==============================] - 0s 2ms/step - loss: 0.3377 - accuracy: 0.8607 - val_loss: 0.3297 - val_accuracy: 0.8608\n",
            "Epoch 470/500\n",
            "68/68 [==============================] - 0s 2ms/step - loss: 0.3379 - accuracy: 0.8596 - val_loss: 0.3314 - val_accuracy: 0.8625\n",
            "Epoch 471/500\n",
            "68/68 [==============================] - 0s 2ms/step - loss: 0.3368 - accuracy: 0.8581 - val_loss: 0.3320 - val_accuracy: 0.8625\n",
            "Epoch 472/500\n",
            "68/68 [==============================] - 0s 2ms/step - loss: 0.3380 - accuracy: 0.8591 - val_loss: 0.3312 - val_accuracy: 0.8583\n",
            "Epoch 473/500\n",
            "68/68 [==============================] - 0s 2ms/step - loss: 0.3375 - accuracy: 0.8601 - val_loss: 0.3308 - val_accuracy: 0.8575\n",
            "Epoch 474/500\n",
            "68/68 [==============================] - 0s 2ms/step - loss: 0.3379 - accuracy: 0.8597 - val_loss: 0.3318 - val_accuracy: 0.8608\n",
            "Epoch 475/500\n",
            "68/68 [==============================] - 0s 2ms/step - loss: 0.3374 - accuracy: 0.8593 - val_loss: 0.3276 - val_accuracy: 0.8633\n",
            "Epoch 476/500\n",
            "68/68 [==============================] - 0s 2ms/step - loss: 0.3371 - accuracy: 0.8588 - val_loss: 0.3292 - val_accuracy: 0.8642\n",
            "Epoch 477/500\n",
            "68/68 [==============================] - 0s 2ms/step - loss: 0.3378 - accuracy: 0.8591 - val_loss: 0.3294 - val_accuracy: 0.8633\n",
            "Epoch 478/500\n",
            "68/68 [==============================] - 0s 2ms/step - loss: 0.3375 - accuracy: 0.8593 - val_loss: 0.3291 - val_accuracy: 0.8642\n",
            "Epoch 479/500\n",
            "68/68 [==============================] - 0s 2ms/step - loss: 0.3363 - accuracy: 0.8597 - val_loss: 0.3313 - val_accuracy: 0.8650\n",
            "Epoch 480/500\n",
            "68/68 [==============================] - 0s 2ms/step - loss: 0.3380 - accuracy: 0.8582 - val_loss: 0.3311 - val_accuracy: 0.8608\n",
            "Epoch 481/500\n",
            "68/68 [==============================] - 0s 2ms/step - loss: 0.3376 - accuracy: 0.8588 - val_loss: 0.3306 - val_accuracy: 0.8633\n",
            "Epoch 482/500\n",
            "68/68 [==============================] - 0s 2ms/step - loss: 0.3365 - accuracy: 0.8600 - val_loss: 0.3305 - val_accuracy: 0.8667\n",
            "Epoch 483/500\n",
            "68/68 [==============================] - 0s 2ms/step - loss: 0.3366 - accuracy: 0.8603 - val_loss: 0.3303 - val_accuracy: 0.8625\n",
            "Epoch 484/500\n",
            "68/68 [==============================] - 0s 2ms/step - loss: 0.3370 - accuracy: 0.8606 - val_loss: 0.3331 - val_accuracy: 0.8675\n",
            "Epoch 485/500\n",
            "68/68 [==============================] - 0s 2ms/step - loss: 0.3368 - accuracy: 0.8612 - val_loss: 0.3324 - val_accuracy: 0.8608\n",
            "Epoch 486/500\n",
            "68/68 [==============================] - 0s 2ms/step - loss: 0.3383 - accuracy: 0.8607 - val_loss: 0.3309 - val_accuracy: 0.8650\n",
            "Epoch 487/500\n",
            "68/68 [==============================] - 0s 2ms/step - loss: 0.3372 - accuracy: 0.8585 - val_loss: 0.3306 - val_accuracy: 0.8650\n",
            "Epoch 488/500\n",
            "68/68 [==============================] - 0s 2ms/step - loss: 0.3371 - accuracy: 0.8599 - val_loss: 0.3318 - val_accuracy: 0.8642\n",
            "Epoch 489/500\n",
            "68/68 [==============================] - 0s 2ms/step - loss: 0.3365 - accuracy: 0.8613 - val_loss: 0.3306 - val_accuracy: 0.8633\n",
            "Epoch 490/500\n",
            "68/68 [==============================] - 0s 2ms/step - loss: 0.3355 - accuracy: 0.8594 - val_loss: 0.3340 - val_accuracy: 0.8642\n",
            "Epoch 491/500\n",
            "68/68 [==============================] - 0s 2ms/step - loss: 0.3385 - accuracy: 0.8615 - val_loss: 0.3332 - val_accuracy: 0.8642\n",
            "Epoch 492/500\n",
            "68/68 [==============================] - 0s 2ms/step - loss: 0.3372 - accuracy: 0.8596 - val_loss: 0.3328 - val_accuracy: 0.8592\n",
            "Epoch 493/500\n",
            "68/68 [==============================] - 0s 2ms/step - loss: 0.3370 - accuracy: 0.8596 - val_loss: 0.3307 - val_accuracy: 0.8650\n",
            "Epoch 494/500\n",
            "68/68 [==============================] - 0s 2ms/step - loss: 0.3371 - accuracy: 0.8591 - val_loss: 0.3310 - val_accuracy: 0.8658\n",
            "Epoch 495/500\n",
            "68/68 [==============================] - 0s 2ms/step - loss: 0.3371 - accuracy: 0.8596 - val_loss: 0.3321 - val_accuracy: 0.8642\n",
            "Epoch 496/500\n",
            "68/68 [==============================] - 0s 2ms/step - loss: 0.3364 - accuracy: 0.8591 - val_loss: 0.3307 - val_accuracy: 0.8575\n",
            "Epoch 497/500\n",
            "68/68 [==============================] - 0s 2ms/step - loss: 0.3372 - accuracy: 0.8604 - val_loss: 0.3309 - val_accuracy: 0.8625\n",
            "Epoch 498/500\n",
            "68/68 [==============================] - 0s 2ms/step - loss: 0.3373 - accuracy: 0.8604 - val_loss: 0.3324 - val_accuracy: 0.8575\n",
            "Epoch 499/500\n",
            "68/68 [==============================] - 0s 2ms/step - loss: 0.3367 - accuracy: 0.8585 - val_loss: 0.3311 - val_accuracy: 0.8600\n",
            "Epoch 500/500\n",
            "68/68 [==============================] - 0s 2ms/step - loss: 0.3370 - accuracy: 0.8604 - val_loss: 0.3317 - val_accuracy: 0.8642\n"
          ]
        },
        {
          "output_type": "execute_result",
          "data": {
            "text/plain": [
              "<keras.callbacks.History at 0x7f1f79821e90>"
            ]
          },
          "metadata": {},
          "execution_count": 115
        }
      ],
      "source": [
        "model.fit(x = X_train, y = y_train, validation_split = 0.15, batch_size = 100, epochs = 500, verbose=1)  "
      ]
    },
    {
      "cell_type": "code",
      "execution_count": 50,
      "metadata": {
        "id": "WuX8RRsm13bS"
      },
      "outputs": [],
      "source": [
        ""
      ]
    },
    {
      "cell_type": "code",
      "execution_count": 116,
      "metadata": {
        "id": "lb-HO7E3uWYP",
        "outputId": "cb042b4b-3808-46ca-aca4-52fdbaea80ce",
        "colab": {
          "base_uri": "https://localhost:8080/"
        }
      },
      "outputs": [
        {
          "output_type": "stream",
          "name": "stdout",
          "text": [
            "Model: \"sequential_2\"\n",
            "_________________________________________________________________\n",
            " Layer (type)                Output Shape              Param #   \n",
            "=================================================================\n",
            " dense_9 (Dense)             (None, 16)                176       \n",
            "                                                                 \n",
            " dense_10 (Dense)            (None, 8)                 136       \n",
            "                                                                 \n",
            " dense_11 (Dense)            (None, 4)                 36        \n",
            "                                                                 \n",
            " dense_12 (Dense)            (None, 1)                 5         \n",
            "                                                                 \n",
            "=================================================================\n",
            "Total params: 353\n",
            "Trainable params: 353\n",
            "Non-trainable params: 0\n",
            "_________________________________________________________________\n"
          ]
        }
      ],
      "source": [
        "model.summary()"
      ]
    },
    {
      "cell_type": "markdown",
      "source": [
        ""
      ],
      "metadata": {
        "id": "_MbYTDzqseU-"
      }
    },
    {
      "cell_type": "markdown",
      "metadata": {
        "id": "990pBGsr6QO5"
      },
      "source": [
        "### Evaluate The Model\n",
        "\n",
        "- Plot the model history to observe the changing of metrics\n",
        "- Make prediction to see \"confusion matrix\" and \"classification report\"\n",
        "- Check ROC (Receiver Operating Curve) and AUC (Area Under Curve) for the model"
      ]
    },
    {
      "cell_type": "code",
      "execution_count": 117,
      "metadata": {
        "id": "vQIbjGQduQpQ",
        "outputId": "41a9d4d3-9e22-441b-f610-70d377acdf0c",
        "colab": {
          "base_uri": "https://localhost:8080/",
          "height": 206
        }
      },
      "outputs": [
        {
          "output_type": "execute_result",
          "data": {
            "text/plain": [
              "   loss  accuracy  val_loss  val_accuracy\n",
              "0 0.629     0.718     0.549         0.807\n",
              "1 0.516     0.794     0.484         0.807\n",
              "2 0.493     0.794     0.475         0.807\n",
              "3 0.482     0.794     0.463         0.807\n",
              "4 0.468     0.795     0.451         0.815"
            ],
            "text/html": [
              "\n",
              "  <div id=\"df-61c19cdb-e40c-4655-b857-45348e6e488a\">\n",
              "    <div class=\"colab-df-container\">\n",
              "      <div>\n",
              "<style scoped>\n",
              "    .dataframe tbody tr th:only-of-type {\n",
              "        vertical-align: middle;\n",
              "    }\n",
              "\n",
              "    .dataframe tbody tr th {\n",
              "        vertical-align: top;\n",
              "    }\n",
              "\n",
              "    .dataframe thead th {\n",
              "        text-align: right;\n",
              "    }\n",
              "</style>\n",
              "<table border=\"1\" class=\"dataframe\">\n",
              "  <thead>\n",
              "    <tr style=\"text-align: right;\">\n",
              "      <th></th>\n",
              "      <th>loss</th>\n",
              "      <th>accuracy</th>\n",
              "      <th>val_loss</th>\n",
              "      <th>val_accuracy</th>\n",
              "    </tr>\n",
              "  </thead>\n",
              "  <tbody>\n",
              "    <tr>\n",
              "      <th>0</th>\n",
              "      <td>0.629</td>\n",
              "      <td>0.718</td>\n",
              "      <td>0.549</td>\n",
              "      <td>0.807</td>\n",
              "    </tr>\n",
              "    <tr>\n",
              "      <th>1</th>\n",
              "      <td>0.516</td>\n",
              "      <td>0.794</td>\n",
              "      <td>0.484</td>\n",
              "      <td>0.807</td>\n",
              "    </tr>\n",
              "    <tr>\n",
              "      <th>2</th>\n",
              "      <td>0.493</td>\n",
              "      <td>0.794</td>\n",
              "      <td>0.475</td>\n",
              "      <td>0.807</td>\n",
              "    </tr>\n",
              "    <tr>\n",
              "      <th>3</th>\n",
              "      <td>0.482</td>\n",
              "      <td>0.794</td>\n",
              "      <td>0.463</td>\n",
              "      <td>0.807</td>\n",
              "    </tr>\n",
              "    <tr>\n",
              "      <th>4</th>\n",
              "      <td>0.468</td>\n",
              "      <td>0.795</td>\n",
              "      <td>0.451</td>\n",
              "      <td>0.815</td>\n",
              "    </tr>\n",
              "  </tbody>\n",
              "</table>\n",
              "</div>\n",
              "      <button class=\"colab-df-convert\" onclick=\"convertToInteractive('df-61c19cdb-e40c-4655-b857-45348e6e488a')\"\n",
              "              title=\"Convert this dataframe to an interactive table.\"\n",
              "              style=\"display:none;\">\n",
              "        \n",
              "  <svg xmlns=\"http://www.w3.org/2000/svg\" height=\"24px\"viewBox=\"0 0 24 24\"\n",
              "       width=\"24px\">\n",
              "    <path d=\"M0 0h24v24H0V0z\" fill=\"none\"/>\n",
              "    <path d=\"M18.56 5.44l.94 2.06.94-2.06 2.06-.94-2.06-.94-.94-2.06-.94 2.06-2.06.94zm-11 1L8.5 8.5l.94-2.06 2.06-.94-2.06-.94L8.5 2.5l-.94 2.06-2.06.94zm10 10l.94 2.06.94-2.06 2.06-.94-2.06-.94-.94-2.06-.94 2.06-2.06.94z\"/><path d=\"M17.41 7.96l-1.37-1.37c-.4-.4-.92-.59-1.43-.59-.52 0-1.04.2-1.43.59L10.3 9.45l-7.72 7.72c-.78.78-.78 2.05 0 2.83L4 21.41c.39.39.9.59 1.41.59.51 0 1.02-.2 1.41-.59l7.78-7.78 2.81-2.81c.8-.78.8-2.07 0-2.86zM5.41 20L4 18.59l7.72-7.72 1.47 1.35L5.41 20z\"/>\n",
              "  </svg>\n",
              "      </button>\n",
              "      \n",
              "  <style>\n",
              "    .colab-df-container {\n",
              "      display:flex;\n",
              "      flex-wrap:wrap;\n",
              "      gap: 12px;\n",
              "    }\n",
              "\n",
              "    .colab-df-convert {\n",
              "      background-color: #E8F0FE;\n",
              "      border: none;\n",
              "      border-radius: 50%;\n",
              "      cursor: pointer;\n",
              "      display: none;\n",
              "      fill: #1967D2;\n",
              "      height: 32px;\n",
              "      padding: 0 0 0 0;\n",
              "      width: 32px;\n",
              "    }\n",
              "\n",
              "    .colab-df-convert:hover {\n",
              "      background-color: #E2EBFA;\n",
              "      box-shadow: 0px 1px 2px rgba(60, 64, 67, 0.3), 0px 1px 3px 1px rgba(60, 64, 67, 0.15);\n",
              "      fill: #174EA6;\n",
              "    }\n",
              "\n",
              "    [theme=dark] .colab-df-convert {\n",
              "      background-color: #3B4455;\n",
              "      fill: #D2E3FC;\n",
              "    }\n",
              "\n",
              "    [theme=dark] .colab-df-convert:hover {\n",
              "      background-color: #434B5C;\n",
              "      box-shadow: 0px 1px 3px 1px rgba(0, 0, 0, 0.15);\n",
              "      filter: drop-shadow(0px 1px 2px rgba(0, 0, 0, 0.3));\n",
              "      fill: #FFFFFF;\n",
              "    }\n",
              "  </style>\n",
              "\n",
              "      <script>\n",
              "        const buttonEl =\n",
              "          document.querySelector('#df-61c19cdb-e40c-4655-b857-45348e6e488a button.colab-df-convert');\n",
              "        buttonEl.style.display =\n",
              "          google.colab.kernel.accessAllowed ? 'block' : 'none';\n",
              "\n",
              "        async function convertToInteractive(key) {\n",
              "          const element = document.querySelector('#df-61c19cdb-e40c-4655-b857-45348e6e488a');\n",
              "          const dataTable =\n",
              "            await google.colab.kernel.invokeFunction('convertToInteractive',\n",
              "                                                     [key], {});\n",
              "          if (!dataTable) return;\n",
              "\n",
              "          const docLinkHtml = 'Like what you see? Visit the ' +\n",
              "            '<a target=\"_blank\" href=https://colab.research.google.com/notebooks/data_table.ipynb>data table notebook</a>'\n",
              "            + ' to learn more about interactive tables.';\n",
              "          element.innerHTML = '';\n",
              "          dataTable['output_type'] = 'display_data';\n",
              "          await google.colab.output.renderOutput(dataTable, element);\n",
              "          const docLink = document.createElement('div');\n",
              "          docLink.innerHTML = docLinkHtml;\n",
              "          element.appendChild(docLink);\n",
              "        }\n",
              "      </script>\n",
              "    </div>\n",
              "  </div>\n",
              "  "
            ]
          },
          "metadata": {},
          "execution_count": 117
        }
      ],
      "source": [
        "loss_df = pd.DataFrame(model.history.history)\n",
        "loss_df.head()"
      ]
    },
    {
      "cell_type": "code",
      "execution_count": 118,
      "metadata": {
        "colab": {
          "base_uri": "https://localhost:8080/",
          "height": 374
        },
        "id": "PQrRXkriuaux",
        "outputId": "a0879861-42d3-4e30-e8f5-90b56ebeea76"
      },
      "outputs": [
        {
          "output_type": "display_data",
          "data": {
            "text/plain": [
              "<Figure size 720x432 with 1 Axes>"
            ],
            "image/png": "[encoded data removed]"
          },
          "metadata": {}
        }
      ],
      "source": [
        "loss_df.plot();    "
      ]
    },
    {
      "cell_type": "code",
      "execution_count": 119,
      "metadata": {
        "id": "KSooP6KDuWYR",
        "outputId": "94e8c57d-adf7-4e08-a2a8-b00a5a77900c",
        "colab": {
          "base_uri": "https://localhost:8080/"
        }
      },
      "outputs": [
        {
          "output_type": "execute_result",
          "data": {
            "text/plain": [
              "[0.3520182967185974, 0.8560000061988831]"
            ]
          },
          "metadata": {},
          "execution_count": 119
        }
      ],
      "source": [
        "model.evaluate(X_test, y_test, verbose=0)   "
      ]
    },
    {
      "cell_type": "code",
      "execution_count": 120,
      "metadata": {
        "id": "CE91jnNeuWYS",
        "outputId": "3411e31f-0362-4208-b705-b93fcd2753a1",
        "colab": {
          "base_uri": "https://localhost:8080/"
        }
      },
      "outputs": [
        {
          "output_type": "stream",
          "name": "stdout",
          "text": [
            "loss :  0.3520182967185974\n",
            "accuracy :  0.8560000061988831\n"
          ]
        }
      ],
      "source": [
        "loss, accuracy = model.evaluate(X_test, y_test, verbose=0)\n",
        "print(\"loss : \", loss)\n",
        "print(\"accuracy : \", accuracy)"
      ]
    },
    {
      "cell_type": "code",
      "execution_count": 121,
      "metadata": {
        "id": "irJWyuTfuWYS",
        "outputId": "bd772b16-f624-48c2-fb77-22e25b1785b6",
        "colab": {
          "base_uri": "https://localhost:8080/"
        }
      },
      "outputs": [
        {
          "output_type": "stream",
          "name": "stdout",
          "text": [
            "[[1545   48]\n",
            " [ 240  167]]\n",
            "              precision    recall  f1-score   support\n",
            "\n",
            "           0       0.87      0.97      0.91      1593\n",
            "           1       0.78      0.41      0.54       407\n",
            "\n",
            "    accuracy                           0.86      2000\n",
            "   macro avg       0.82      0.69      0.73      2000\n",
            "weighted avg       0.85      0.86      0.84      2000\n",
            "\n"
          ]
        }
      ],
      "source": [
        "y_pred = model.predict(X_test) > 0.5                  \n",
        "print(confusion_matrix(y_test, y_pred))\n",
        "print(classification_report(y_test, y_pred))          "
      ]
    },
    {
      "cell_type": "code",
      "execution_count": null,
      "metadata": {
        "id": "wWTpdeaO13bS"
      },
      "outputs": [],
      "source": [
        ""
      ]
    },
    {
      "cell_type": "code",
      "source": [
        ""
      ],
      "metadata": {
        "id": "PLHMlSweUoDE"
      },
      "execution_count": null,
      "outputs": []
    },
    {
      "cell_type": "markdown",
      "metadata": {
        "id": "VTDQFZuo6QO5"
      },
      "source": [
        "## with class_weigth\n",
        "\n",
        "Investigate how the \"class_weight\" hyper-parameter is used in a Neural Network."
      ]
    },
    {
      "cell_type": "markdown",
      "metadata": {
        "id": "RhTyiSJ96QO6"
      },
      "source": [
        "### Create The Model"
      ]
    },
    {
      "cell_type": "code",
      "execution_count": 65,
      "metadata": {
        "id": "Ce5kuWQ46QO6"
      },
      "outputs": [],
      "source": [
        ""
      ]
    },
    {
      "cell_type": "markdown",
      "metadata": {
        "id": "I2vRsBeC6QO7"
      },
      "source": [
        "### Evaluate The Model\n",
        "\n",
        "- Plot the model history to observe the changing of metrics\n",
        "- Make prediction to see \"confusion matrix\" and \"classification report\"\n",
        "- Check ROC (Receiver Operating Curve) and AUC (Area Under Curve) for the model"
      ]
    },
    {
      "cell_type": "code",
      "execution_count": 65,
      "metadata": {
        "id": "vvIjvgxL6QO7"
      },
      "outputs": [],
      "source": [
        ""
      ]
    },
    {
      "cell_type": "markdown",
      "metadata": {
        "id": "X7uY_0SV6QO7"
      },
      "source": [
        "## Implementation Different Methods to Develop The Model\n",
        "\n",
        "- Implement the following methods on model creating with \"class_weight\" parameter\n",
        "- Create and evaluate model for each method "
      ]
    },
    {
      "cell_type": "markdown",
      "metadata": {
        "id": "ThWG3wxR6QO8"
      },
      "source": [
        "### Increase The Learning Rate and Observe The Results"
      ]
    },
    {
      "cell_type": "code",
      "execution_count": null,
      "metadata": {
        "id": "uciyfJjg6QO8"
      },
      "outputs": [],
      "source": [
        ""
      ]
    },
    {
      "cell_type": "markdown",
      "metadata": {
        "id": "Zwxi6jPB6QO8"
      },
      "source": [
        "### Add Dropout Layer"
      ]
    },
    {
      "cell_type": "code",
      "execution_count": null,
      "metadata": {
        "id": "o_zmtOxd6QO8"
      },
      "outputs": [],
      "source": [
        ""
      ]
    },
    {
      "cell_type": "markdown",
      "metadata": {
        "id": "FQGthQTa6QO9"
      },
      "source": [
        "### Add Early Stop"
      ]
    },
    {
      "cell_type": "markdown",
      "metadata": {
        "id": "VHX0g5WA6QO9"
      },
      "source": [
        "#### Monitor the \"val_loss\" as metric"
      ]
    },
    {
      "cell_type": "code",
      "execution_count": null,
      "metadata": {
        "id": "g3tIiORt6QO9"
      },
      "outputs": [],
      "source": [
        ""
      ]
    },
    {
      "cell_type": "markdown",
      "metadata": {
        "id": "oTV_aryx6QO-"
      },
      "source": [
        "#### Monitor the \"val_recall\" as metric"
      ]
    },
    {
      "cell_type": "code",
      "execution_count": null,
      "metadata": {
        "id": "kW4VnTvK6QO-"
      },
      "outputs": [],
      "source": [
        ""
      ]
    },
    {
      "cell_type": "markdown",
      "metadata": {
        "id": "yD2SxocD6QO-"
      },
      "source": [
        "## GridSearchCV"
      ]
    },
    {
      "cell_type": "code",
      "execution_count": null,
      "metadata": {
        "id": "w7IibU526QO-"
      },
      "outputs": [],
      "source": [
        ""
      ]
    },
    {
      "cell_type": "markdown",
      "metadata": {
        "id": "q-6K09zX6QO-"
      },
      "source": [
        "### Evaluate The Model\n",
        "\n",
        "- Plot the model history to observe the changing of metrics\n",
        "- Make prediction to see \"confusion matrix\" and \"classification report\"\n",
        "- Check ROC (Receiver Operating Curve) and AUC (Area Under Curve) for the model"
      ]
    },
    {
      "cell_type": "code",
      "execution_count": null,
      "metadata": {
        "id": "RSDFsmCA6QO_"
      },
      "outputs": [],
      "source": [
        ""
      ]
    },
    {
      "cell_type": "markdown",
      "metadata": {
        "id": "3BnkWw-86QO_"
      },
      "source": [
        "# Final Model and Model Deployment"
      ]
    },
    {
      "cell_type": "code",
      "execution_count": null,
      "metadata": {
        "id": "L2uxD6iC6QO_"
      },
      "outputs": [],
      "source": [
        ""
      ]
    },
    {
      "cell_type": "markdown",
      "metadata": {
        "id": "Cq10ovAX6daY"
      },
      "source": [
        "## Prediction"
      ]
    },
    {
      "cell_type": "code",
      "execution_count": null,
      "metadata": {
        "id": "knrDA2fw6QO_"
      },
      "outputs": [],
      "source": [
        ""
      ]
    },
    {
      "cell_type": "markdown",
      "metadata": {
        "id": "oOenV9nu6QPA"
      },
      "source": [
        "___\n",
        "\n",
        "<p style=\"text-align: center;\"><img src=\"https://docs.google.com/uc?id=1lY0Uj5R04yMY3-ZppPWxqCr5pvBLYPnV\" class=\"img-fluid\" alt=\"CLRSWY\"></p>\n",
        "\n",
        "___"
      ]
    }
  ],
  "metadata": {
    "colab": {
      "collapsed_sections": [],
      "name": "DL-Assignment-1 (Classification with ANN-Churn Prediction)-Student.ipynb",
      "provenance": [],
      "include_colab_link": true
    },
    "kernelspec": {
      "display_name": "Python 3",
      "language": "python",
      "name": "python3"
    },
    "language_info": {
      "codemirror_mode": {
        "name": "ipython",
        "version": 3
      },
      "file_extension": ".py",
      "mimetype": "text/x-python",
      "name": "python",
      "nbconvert_exporter": "python",
      "pygments_lexer": "ipython3",
      "version": "3.7.6"
    },
    "toc": {
      "base_numbering": 1,
      "nav_menu": {},
      "number_sections": false,
      "sideBar": true,
      "skip_h1_title": false,
      "title_cell": "Table of Contents",
      "title_sidebar": "Contents",
      "toc_cell": false,
      "toc_position": {},
      "toc_section_display": true,
      "toc_window_display": true
    }
  },
  "nbformat": 4,
  "nbformat_minor": 0
}