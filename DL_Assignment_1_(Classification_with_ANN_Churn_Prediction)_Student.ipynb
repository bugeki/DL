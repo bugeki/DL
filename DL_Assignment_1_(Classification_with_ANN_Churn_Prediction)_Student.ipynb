{
  "cells": [
    {
      "cell_type": "markdown",
      "metadata": {
        "id": "view-in-github",
        "colab_type": "text"
      },
      "source": [
        "<a href=\"https://colab.research.google.com/github/bugeki/DL/blob/main/DL_Assignment_1_(Classification_with_ANN_Churn_Prediction)_Student.ipynb\" target=\"_parent\"><img src=\"https://colab.research.google.com/assets/colab-badge.svg\" alt=\"Open In Colab\"/></a>"
      ]
    },
    {
      "cell_type": "markdown",
      "metadata": {
        "id": "V6_ZeouB6QOn"
      },
      "source": [
        "___\n",
        "\n",
        "<p style=\"text-align: center;\"><img src=\"https://docs.google.com/uc?id=1lY0Uj5R04yMY3-ZppPWxqCr5pvBLYPnV\" class=\"img-fluid\" alt=\"CLRSWY\"></p>\n",
        "\n",
        "___"
      ]
    },
    {
      "cell_type": "markdown",
      "metadata": {
        "id": "0cOIJE_r6QOu"
      },
      "source": [
        "<h1 style=\"text-align: center;\">Deep Learning<br><br>Assignment-1 (ANN)<br><br>Churn Prediction for Bank Customer<br><h1>"
      ]
    },
    {
      "cell_type": "markdown",
      "metadata": {
        "id": "WjM8Pk6e6QOv"
      },
      "source": [
        "# Dataset Info"
      ]
    },
    {
      "cell_type": "markdown",
      "metadata": {
        "id": "YuLZ9TXQ6QOw"
      },
      "source": [
        "We have a dataset in which there are details of a bank's customers and the target variable is a binary variable reflecting the fact whether the customer left the bank (closed his account) or he continues to be a customer.\n",
        "\n",
        "The features in the given dataset are:\n",
        "- **rownumber:** Row Numbers from 1 to 10000.\n",
        "- **customerid:** A unique ID that identifies each customer.\n",
        "- **surname:** The customer’s surname.\n",
        "- **creditscore:** A credit score is a number between 300–850 that depicts a consumer's creditworthiness.\n",
        "- **geography:** The country from which the customer belongs to.\n",
        "- **Gender:** The customer’s gender: Male, Female\n",
        "- **Age:** The customer’s current age, in years, at the time of being customer.\n",
        "- **tenure:** The number of years for which the customer has been with the bank.\n",
        "- **balance:** Bank balance of the customer.\n",
        "- **numofproducts:** the number of bank products the customer is utilising.\n",
        "- **hascrcard:** The number of credit cards given to the customer by the bank.\n",
        "- **isactivemember:** Binary Flag for indicating if the client is active or not with the bank before the moment where the client exits the company (recorded in the variable \"exited\")\n",
        "- **exited:** Binary flag 1 if the customer closed account with bank and 0 if the customer is retained."
      ]
    },
    {
      "cell_type": "markdown",
      "metadata": {
        "id": "EUhpfC1k6QOx"
      },
      "source": [
        "# Improt Libraries & Data"
      ]
    },
    {
      "cell_type": "code",
      "execution_count": 23,
      "metadata": {
        "id": "s_z88Viz6QOy"
      },
      "outputs": [],
      "source": [
        "import numpy as np\n",
        "import pandas as pd\n",
        "import matplotlib.pyplot as plt\n",
        "import seaborn as sns\n",
        "\n",
        "import warnings\n",
        "warnings.filterwarnings(\"ignore\")\n",
        "warnings.warn(\"this will not show\")\n",
        "\n",
        "plt.rcParams[\"figure.figsize\"] = (10,6)\n",
        "\n",
        "sns.set_style(\"whitegrid\")\n",
        "pd.set_option('display.float_format', lambda x: '%.3f' % x)\n",
        "\n",
        "# Set it None to display all rows in the dataframe\n",
        "# pd.set_option('display.max_rows', None)\n",
        "\n",
        "# Set it to None to display all columns in the dataframe\n",
        "pd.set_option('display.max_columns', None)"
      ]
    },
    {
      "cell_type": "code",
      "execution_count": 23,
      "metadata": {
        "id": "tYlz_vkp6QOz"
      },
      "outputs": [],
      "source": [
        ""
      ]
    },
    {
      "cell_type": "code",
      "source": [
        "from google.colab import drive\n",
        "drive.mount('/content/drive')"
      ],
      "metadata": {
        "colab": {
          "base_uri": "https://localhost:8080/"
        },
        "id": "sUqA2BtDOWCl",
        "outputId": "0ae592c7-ec4b-4f50-b157-f71e34c7d423"
      },
      "execution_count": 24,
      "outputs": [
        {
          "output_type": "stream",
          "name": "stdout",
          "text": [
            "Drive already mounted at /content/drive; to attempt to forcibly remount, call drive.mount(\"/content/drive\", force_remount=True).\n"
          ]
        }
      ]
    },
    {
      "cell_type": "code",
      "source": [
        "df = pd.read_csv(\"/content/drive/MyDrive/Colab Notebooks/DL/ASS 1/Churn_Modelling.csv\")"
      ],
      "metadata": {
        "id": "_0NCcNx6OXyn"
      },
      "execution_count": 25,
      "outputs": []
    },
    {
      "cell_type": "markdown",
      "metadata": {
        "id": "iZjqd8oh6QO0"
      },
      "source": [
        "# Exploratory Data Analysis and Visualization"
      ]
    },
    {
      "cell_type": "markdown",
      "metadata": {
        "id": "waDKRvqF6QO1"
      },
      "source": [
        "1. Implement basic steps to see how is your data looks like\n",
        "2. Check for missing values\n",
        "3. Drop the features that not suitable for modelling\n",
        "4. Implement basic visualization steps such as histogram, countplot, heatmap\n",
        "5. Convert categorical variables to dummy variables"
      ]
    },
    {
      "cell_type": "code",
      "execution_count": 26,
      "metadata": {
        "colab": {
          "base_uri": "https://localhost:8080/",
          "height": 270
        },
        "id": "mfSEV-pj6QO1",
        "outputId": "120b119b-e347-4978-b092-a1c6b751549f"
      },
      "outputs": [
        {
          "output_type": "execute_result",
          "data": {
            "text/plain": [
              "   RowNumber  CustomerId   Surname  CreditScore Geography  Gender  Age  \\\n",
              "0          1    15634602  Hargrave          619    France  Female   42   \n",
              "1          2    15647311      Hill          608     Spain  Female   41   \n",
              "2          3    15619304      Onio          502    France  Female   42   \n",
              "3          4    15701354      Boni          699    France  Female   39   \n",
              "4          5    15737888  Mitchell          850     Spain  Female   43   \n",
              "\n",
              "   Tenure    Balance  NumOfProducts  HasCrCard  IsActiveMember  \\\n",
              "0       2      0.000              1          1               1   \n",
              "1       1  83807.860              1          0               1   \n",
              "2       8 159660.800              3          1               0   \n",
              "3       1      0.000              2          0               0   \n",
              "4       2 125510.820              1          1               1   \n",
              "\n",
              "   EstimatedSalary  Exited  \n",
              "0       101348.880       1  \n",
              "1       112542.580       0  \n",
              "2       113931.570       1  \n",
              "3        93826.630       0  \n",
              "4        79084.100       0  "
            ],
            "text/html": [
              "\n",
              "  <div id=\"df-654ec77d-1397-4862-8cd8-21f8c3c8f2d6\">\n",
              "    <div class=\"colab-df-container\">\n",
              "      <div>\n",
              "<style scoped>\n",
              "    .dataframe tbody tr th:only-of-type {\n",
              "        vertical-align: middle;\n",
              "    }\n",
              "\n",
              "    .dataframe tbody tr th {\n",
              "        vertical-align: top;\n",
              "    }\n",
              "\n",
              "    .dataframe thead th {\n",
              "        text-align: right;\n",
              "    }\n",
              "</style>\n",
              "<table border=\"1\" class=\"dataframe\">\n",
              "  <thead>\n",
              "    <tr style=\"text-align: right;\">\n",
              "      <th></th>\n",
              "      <th>RowNumber</th>\n",
              "      <th>CustomerId</th>\n",
              "      <th>Surname</th>\n",
              "      <th>CreditScore</th>\n",
              "      <th>Geography</th>\n",
              "      <th>Gender</th>\n",
              "      <th>Age</th>\n",
              "      <th>Tenure</th>\n",
              "      <th>Balance</th>\n",
              "      <th>NumOfProducts</th>\n",
              "      <th>HasCrCard</th>\n",
              "      <th>IsActiveMember</th>\n",
              "      <th>EstimatedSalary</th>\n",
              "      <th>Exited</th>\n",
              "    </tr>\n",
              "  </thead>\n",
              "  <tbody>\n",
              "    <tr>\n",
              "      <th>0</th>\n",
              "      <td>1</td>\n",
              "      <td>15634602</td>\n",
              "      <td>Hargrave</td>\n",
              "      <td>619</td>\n",
              "      <td>France</td>\n",
              "      <td>Female</td>\n",
              "      <td>42</td>\n",
              "      <td>2</td>\n",
              "      <td>0.000</td>\n",
              "      <td>1</td>\n",
              "      <td>1</td>\n",
              "      <td>1</td>\n",
              "      <td>101348.880</td>\n",
              "      <td>1</td>\n",
              "    </tr>\n",
              "    <tr>\n",
              "      <th>1</th>\n",
              "      <td>2</td>\n",
              "      <td>15647311</td>\n",
              "      <td>Hill</td>\n",
              "      <td>608</td>\n",
              "      <td>Spain</td>\n",
              "      <td>Female</td>\n",
              "      <td>41</td>\n",
              "      <td>1</td>\n",
              "      <td>83807.860</td>\n",
              "      <td>1</td>\n",
              "      <td>0</td>\n",
              "      <td>1</td>\n",
              "      <td>112542.580</td>\n",
              "      <td>0</td>\n",
              "    </tr>\n",
              "    <tr>\n",
              "      <th>2</th>\n",
              "      <td>3</td>\n",
              "      <td>15619304</td>\n",
              "      <td>Onio</td>\n",
              "      <td>502</td>\n",
              "      <td>France</td>\n",
              "      <td>Female</td>\n",
              "      <td>42</td>\n",
              "      <td>8</td>\n",
              "      <td>159660.800</td>\n",
              "      <td>3</td>\n",
              "      <td>1</td>\n",
              "      <td>0</td>\n",
              "      <td>113931.570</td>\n",
              "      <td>1</td>\n",
              "    </tr>\n",
              "    <tr>\n",
              "      <th>3</th>\n",
              "      <td>4</td>\n",
              "      <td>15701354</td>\n",
              "      <td>Boni</td>\n",
              "      <td>699</td>\n",
              "      <td>France</td>\n",
              "      <td>Female</td>\n",
              "      <td>39</td>\n",
              "      <td>1</td>\n",
              "      <td>0.000</td>\n",
              "      <td>2</td>\n",
              "      <td>0</td>\n",
              "      <td>0</td>\n",
              "      <td>93826.630</td>\n",
              "      <td>0</td>\n",
              "    </tr>\n",
              "    <tr>\n",
              "      <th>4</th>\n",
              "      <td>5</td>\n",
              "      <td>15737888</td>\n",
              "      <td>Mitchell</td>\n",
              "      <td>850</td>\n",
              "      <td>Spain</td>\n",
              "      <td>Female</td>\n",
              "      <td>43</td>\n",
              "      <td>2</td>\n",
              "      <td>125510.820</td>\n",
              "      <td>1</td>\n",
              "      <td>1</td>\n",
              "      <td>1</td>\n",
              "      <td>79084.100</td>\n",
              "      <td>0</td>\n",
              "    </tr>\n",
              "  </tbody>\n",
              "</table>\n",
              "</div>\n",
              "      <button class=\"colab-df-convert\" onclick=\"convertToInteractive('df-654ec77d-1397-4862-8cd8-21f8c3c8f2d6')\"\n",
              "              title=\"Convert this dataframe to an interactive table.\"\n",
              "              style=\"display:none;\">\n",
              "        \n",
              "  <svg xmlns=\"http://www.w3.org/2000/svg\" height=\"24px\"viewBox=\"0 0 24 24\"\n",
              "       width=\"24px\">\n",
              "    <path d=\"M0 0h24v24H0V0z\" fill=\"none\"/>\n",
              "    <path d=\"M18.56 5.44l.94 2.06.94-2.06 2.06-.94-2.06-.94-.94-2.06-.94 2.06-2.06.94zm-11 1L8.5 8.5l.94-2.06 2.06-.94-2.06-.94L8.5 2.5l-.94 2.06-2.06.94zm10 10l.94 2.06.94-2.06 2.06-.94-2.06-.94-.94-2.06-.94 2.06-2.06.94z\"/><path d=\"M17.41 7.96l-1.37-1.37c-.4-.4-.92-.59-1.43-.59-.52 0-1.04.2-1.43.59L10.3 9.45l-7.72 7.72c-.78.78-.78 2.05 0 2.83L4 21.41c.39.39.9.59 1.41.59.51 0 1.02-.2 1.41-.59l7.78-7.78 2.81-2.81c.8-.78.8-2.07 0-2.86zM5.41 20L4 18.59l7.72-7.72 1.47 1.35L5.41 20z\"/>\n",
              "  </svg>\n",
              "      </button>\n",
              "      \n",
              "  <style>\n",
              "    .colab-df-container {\n",
              "      display:flex;\n",
              "      flex-wrap:wrap;\n",
              "      gap: 12px;\n",
              "    }\n",
              "\n",
              "    .colab-df-convert {\n",
              "      background-color: #E8F0FE;\n",
              "      border: none;\n",
              "      border-radius: 50%;\n",
              "      cursor: pointer;\n",
              "      display: none;\n",
              "      fill: #1967D2;\n",
              "      height: 32px;\n",
              "      padding: 0 0 0 0;\n",
              "      width: 32px;\n",
              "    }\n",
              "\n",
              "    .colab-df-convert:hover {\n",
              "      background-color: #E2EBFA;\n",
              "      box-shadow: 0px 1px 2px rgba(60, 64, 67, 0.3), 0px 1px 3px 1px rgba(60, 64, 67, 0.15);\n",
              "      fill: #174EA6;\n",
              "    }\n",
              "\n",
              "    [theme=dark] .colab-df-convert {\n",
              "      background-color: #3B4455;\n",
              "      fill: #D2E3FC;\n",
              "    }\n",
              "\n",
              "    [theme=dark] .colab-df-convert:hover {\n",
              "      background-color: #434B5C;\n",
              "      box-shadow: 0px 1px 3px 1px rgba(0, 0, 0, 0.15);\n",
              "      filter: drop-shadow(0px 1px 2px rgba(0, 0, 0, 0.3));\n",
              "      fill: #FFFFFF;\n",
              "    }\n",
              "  </style>\n",
              "\n",
              "      <script>\n",
              "        const buttonEl =\n",
              "          document.querySelector('#df-654ec77d-1397-4862-8cd8-21f8c3c8f2d6 button.colab-df-convert');\n",
              "        buttonEl.style.display =\n",
              "          google.colab.kernel.accessAllowed ? 'block' : 'none';\n",
              "\n",
              "        async function convertToInteractive(key) {\n",
              "          const element = document.querySelector('#df-654ec77d-1397-4862-8cd8-21f8c3c8f2d6');\n",
              "          const dataTable =\n",
              "            await google.colab.kernel.invokeFunction('convertToInteractive',\n",
              "                                                     [key], {});\n",
              "          if (!dataTable) return;\n",
              "\n",
              "          const docLinkHtml = 'Like what you see? Visit the ' +\n",
              "            '<a target=\"_blank\" href=https://colab.research.google.com/notebooks/data_table.ipynb>data table notebook</a>'\n",
              "            + ' to learn more about interactive tables.';\n",
              "          element.innerHTML = '';\n",
              "          dataTable['output_type'] = 'display_data';\n",
              "          await google.colab.output.renderOutput(dataTable, element);\n",
              "          const docLink = document.createElement('div');\n",
              "          docLink.innerHTML = docLinkHtml;\n",
              "          element.appendChild(docLink);\n",
              "        }\n",
              "      </script>\n",
              "    </div>\n",
              "  </div>\n",
              "  "
            ]
          },
          "metadata": {},
          "execution_count": 26
        }
      ],
      "source": [
        "df.head()"
      ]
    },
    {
      "cell_type": "code",
      "source": [
        "df.info()"
      ],
      "metadata": {
        "colab": {
          "base_uri": "https://localhost:8080/"
        },
        "id": "fcds1eSwOx5P",
        "outputId": "f517b45b-9dd3-4110-fc82-522930bed80a"
      },
      "execution_count": 27,
      "outputs": [
        {
          "output_type": "stream",
          "name": "stdout",
          "text": [
            "<class 'pandas.core.frame.DataFrame'>\n",
            "RangeIndex: 10000 entries, 0 to 9999\n",
            "Data columns (total 14 columns):\n",
            " #   Column           Non-Null Count  Dtype  \n",
            "---  ------           --------------  -----  \n",
            " 0   RowNumber        10000 non-null  int64  \n",
            " 1   CustomerId       10000 non-null  int64  \n",
            " 2   Surname          10000 non-null  object \n",
            " 3   CreditScore      10000 non-null  int64  \n",
            " 4   Geography        10000 non-null  object \n",
            " 5   Gender           10000 non-null  object \n",
            " 6   Age              10000 non-null  int64  \n",
            " 7   Tenure           10000 non-null  int64  \n",
            " 8   Balance          10000 non-null  float64\n",
            " 9   NumOfProducts    10000 non-null  int64  \n",
            " 10  HasCrCard        10000 non-null  int64  \n",
            " 11  IsActiveMember   10000 non-null  int64  \n",
            " 12  EstimatedSalary  10000 non-null  float64\n",
            " 13  Exited           10000 non-null  int64  \n",
            "dtypes: float64(2), int64(9), object(3)\n",
            "memory usage: 1.1+ MB\n"
          ]
        }
      ]
    },
    {
      "cell_type": "code",
      "source": [
        "df.isnull().sum().any()"
      ],
      "metadata": {
        "colab": {
          "base_uri": "https://localhost:8080/"
        },
        "id": "EW65HiVeOxuf",
        "outputId": "d6faafed-e863-4790-ad84-91bb2a3985a7"
      },
      "execution_count": 28,
      "outputs": [
        {
          "output_type": "execute_result",
          "data": {
            "text/plain": [
              "False"
            ]
          },
          "metadata": {},
          "execution_count": 28
        }
      ]
    },
    {
      "cell_type": "code",
      "source": [
        "df.describe().T"
      ],
      "metadata": {
        "colab": {
          "base_uri": "https://localhost:8080/",
          "height": 394
        },
        "id": "EtsT1WgjOxjJ",
        "outputId": "e6646ef1-b47b-4539-b929-2148827e0145"
      },
      "execution_count": 29,
      "outputs": [
        {
          "output_type": "execute_result",
          "data": {
            "text/plain": [
              "                    count         mean       std          min          25%  \\\n",
              "RowNumber       10000.000     5000.500  2886.896        1.000     2500.750   \n",
              "CustomerId      10000.000 15690940.569 71936.186 15565701.000 15628528.250   \n",
              "CreditScore     10000.000      650.529    96.653      350.000      584.000   \n",
              "Age             10000.000       38.922    10.488       18.000       32.000   \n",
              "Tenure          10000.000        5.013     2.892        0.000        3.000   \n",
              "Balance         10000.000    76485.889 62397.405        0.000        0.000   \n",
              "NumOfProducts   10000.000        1.530     0.582        1.000        1.000   \n",
              "HasCrCard       10000.000        0.706     0.456        0.000        0.000   \n",
              "IsActiveMember  10000.000        0.515     0.500        0.000        0.000   \n",
              "EstimatedSalary 10000.000   100090.240 57510.493       11.580    51002.110   \n",
              "Exited          10000.000        0.204     0.403        0.000        0.000   \n",
              "\n",
              "                         50%          75%          max  \n",
              "RowNumber           5000.500     7500.250    10000.000  \n",
              "CustomerId      15690738.000 15753233.750 15815690.000  \n",
              "CreditScore          652.000      718.000      850.000  \n",
              "Age                   37.000       44.000       92.000  \n",
              "Tenure                 5.000        7.000       10.000  \n",
              "Balance            97198.540   127644.240   250898.090  \n",
              "NumOfProducts          1.000        2.000        4.000  \n",
              "HasCrCard              1.000        1.000        1.000  \n",
              "IsActiveMember         1.000        1.000        1.000  \n",
              "EstimatedSalary   100193.915   149388.247   199992.480  \n",
              "Exited                 0.000        0.000        1.000  "
            ],
            "text/html": [
              "\n",
              "  <div id=\"df-f6ecf3c6-e06e-4d3b-bcaa-6d8091a4a1fd\">\n",
              "    <div class=\"colab-df-container\">\n",
              "      <div>\n",
              "<style scoped>\n",
              "    .dataframe tbody tr th:only-of-type {\n",
              "        vertical-align: middle;\n",
              "    }\n",
              "\n",
              "    .dataframe tbody tr th {\n",
              "        vertical-align: top;\n",
              "    }\n",
              "\n",
              "    .dataframe thead th {\n",
              "        text-align: right;\n",
              "    }\n",
              "</style>\n",
              "<table border=\"1\" class=\"dataframe\">\n",
              "  <thead>\n",
              "    <tr style=\"text-align: right;\">\n",
              "      <th></th>\n",
              "      <th>count</th>\n",
              "      <th>mean</th>\n",
              "      <th>std</th>\n",
              "      <th>min</th>\n",
              "      <th>25%</th>\n",
              "      <th>50%</th>\n",
              "      <th>75%</th>\n",
              "      <th>max</th>\n",
              "    </tr>\n",
              "  </thead>\n",
              "  <tbody>\n",
              "    <tr>\n",
              "      <th>RowNumber</th>\n",
              "      <td>10000.000</td>\n",
              "      <td>5000.500</td>\n",
              "      <td>2886.896</td>\n",
              "      <td>1.000</td>\n",
              "      <td>2500.750</td>\n",
              "      <td>5000.500</td>\n",
              "      <td>7500.250</td>\n",
              "      <td>10000.000</td>\n",
              "    </tr>\n",
              "    <tr>\n",
              "      <th>CustomerId</th>\n",
              "      <td>10000.000</td>\n",
              "      <td>15690940.569</td>\n",
              "      <td>71936.186</td>\n",
              "      <td>15565701.000</td>\n",
              "      <td>15628528.250</td>\n",
              "      <td>15690738.000</td>\n",
              "      <td>15753233.750</td>\n",
              "      <td>15815690.000</td>\n",
              "    </tr>\n",
              "    <tr>\n",
              "      <th>CreditScore</th>\n",
              "      <td>10000.000</td>\n",
              "      <td>650.529</td>\n",
              "      <td>96.653</td>\n",
              "      <td>350.000</td>\n",
              "      <td>584.000</td>\n",
              "      <td>652.000</td>\n",
              "      <td>718.000</td>\n",
              "      <td>850.000</td>\n",
              "    </tr>\n",
              "    <tr>\n",
              "      <th>Age</th>\n",
              "      <td>10000.000</td>\n",
              "      <td>38.922</td>\n",
              "      <td>10.488</td>\n",
              "      <td>18.000</td>\n",
              "      <td>32.000</td>\n",
              "      <td>37.000</td>\n",
              "      <td>44.000</td>\n",
              "      <td>92.000</td>\n",
              "    </tr>\n",
              "    <tr>\n",
              "      <th>Tenure</th>\n",
              "      <td>10000.000</td>\n",
              "      <td>5.013</td>\n",
              "      <td>2.892</td>\n",
              "      <td>0.000</td>\n",
              "      <td>3.000</td>\n",
              "      <td>5.000</td>\n",
              "      <td>7.000</td>\n",
              "      <td>10.000</td>\n",
              "    </tr>\n",
              "    <tr>\n",
              "      <th>Balance</th>\n",
              "      <td>10000.000</td>\n",
              "      <td>76485.889</td>\n",
              "      <td>62397.405</td>\n",
              "      <td>0.000</td>\n",
              "      <td>0.000</td>\n",
              "      <td>97198.540</td>\n",
              "      <td>127644.240</td>\n",
              "      <td>250898.090</td>\n",
              "    </tr>\n",
              "    <tr>\n",
              "      <th>NumOfProducts</th>\n",
              "      <td>10000.000</td>\n",
              "      <td>1.530</td>\n",
              "      <td>0.582</td>\n",
              "      <td>1.000</td>\n",
              "      <td>1.000</td>\n",
              "      <td>1.000</td>\n",
              "      <td>2.000</td>\n",
              "      <td>4.000</td>\n",
              "    </tr>\n",
              "    <tr>\n",
              "      <th>HasCrCard</th>\n",
              "      <td>10000.000</td>\n",
              "      <td>0.706</td>\n",
              "      <td>0.456</td>\n",
              "      <td>0.000</td>\n",
              "      <td>0.000</td>\n",
              "      <td>1.000</td>\n",
              "      <td>1.000</td>\n",
              "      <td>1.000</td>\n",
              "    </tr>\n",
              "    <tr>\n",
              "      <th>IsActiveMember</th>\n",
              "      <td>10000.000</td>\n",
              "      <td>0.515</td>\n",
              "      <td>0.500</td>\n",
              "      <td>0.000</td>\n",
              "      <td>0.000</td>\n",
              "      <td>1.000</td>\n",
              "      <td>1.000</td>\n",
              "      <td>1.000</td>\n",
              "    </tr>\n",
              "    <tr>\n",
              "      <th>EstimatedSalary</th>\n",
              "      <td>10000.000</td>\n",
              "      <td>100090.240</td>\n",
              "      <td>57510.493</td>\n",
              "      <td>11.580</td>\n",
              "      <td>51002.110</td>\n",
              "      <td>100193.915</td>\n",
              "      <td>149388.247</td>\n",
              "      <td>199992.480</td>\n",
              "    </tr>\n",
              "    <tr>\n",
              "      <th>Exited</th>\n",
              "      <td>10000.000</td>\n",
              "      <td>0.204</td>\n",
              "      <td>0.403</td>\n",
              "      <td>0.000</td>\n",
              "      <td>0.000</td>\n",
              "      <td>0.000</td>\n",
              "      <td>0.000</td>\n",
              "      <td>1.000</td>\n",
              "    </tr>\n",
              "  </tbody>\n",
              "</table>\n",
              "</div>\n",
              "      <button class=\"colab-df-convert\" onclick=\"convertToInteractive('df-f6ecf3c6-e06e-4d3b-bcaa-6d8091a4a1fd')\"\n",
              "              title=\"Convert this dataframe to an interactive table.\"\n",
              "              style=\"display:none;\">\n",
              "        \n",
              "  <svg xmlns=\"http://www.w3.org/2000/svg\" height=\"24px\"viewBox=\"0 0 24 24\"\n",
              "       width=\"24px\">\n",
              "    <path d=\"M0 0h24v24H0V0z\" fill=\"none\"/>\n",
              "    <path d=\"M18.56 5.44l.94 2.06.94-2.06 2.06-.94-2.06-.94-.94-2.06-.94 2.06-2.06.94zm-11 1L8.5 8.5l.94-2.06 2.06-.94-2.06-.94L8.5 2.5l-.94 2.06-2.06.94zm10 10l.94 2.06.94-2.06 2.06-.94-2.06-.94-.94-2.06-.94 2.06-2.06.94z\"/><path d=\"M17.41 7.96l-1.37-1.37c-.4-.4-.92-.59-1.43-.59-.52 0-1.04.2-1.43.59L10.3 9.45l-7.72 7.72c-.78.78-.78 2.05 0 2.83L4 21.41c.39.39.9.59 1.41.59.51 0 1.02-.2 1.41-.59l7.78-7.78 2.81-2.81c.8-.78.8-2.07 0-2.86zM5.41 20L4 18.59l7.72-7.72 1.47 1.35L5.41 20z\"/>\n",
              "  </svg>\n",
              "      </button>\n",
              "      \n",
              "  <style>\n",
              "    .colab-df-container {\n",
              "      display:flex;\n",
              "      flex-wrap:wrap;\n",
              "      gap: 12px;\n",
              "    }\n",
              "\n",
              "    .colab-df-convert {\n",
              "      background-color: #E8F0FE;\n",
              "      border: none;\n",
              "      border-radius: 50%;\n",
              "      cursor: pointer;\n",
              "      display: none;\n",
              "      fill: #1967D2;\n",
              "      height: 32px;\n",
              "      padding: 0 0 0 0;\n",
              "      width: 32px;\n",
              "    }\n",
              "\n",
              "    .colab-df-convert:hover {\n",
              "      background-color: #E2EBFA;\n",
              "      box-shadow: 0px 1px 2px rgba(60, 64, 67, 0.3), 0px 1px 3px 1px rgba(60, 64, 67, 0.15);\n",
              "      fill: #174EA6;\n",
              "    }\n",
              "\n",
              "    [theme=dark] .colab-df-convert {\n",
              "      background-color: #3B4455;\n",
              "      fill: #D2E3FC;\n",
              "    }\n",
              "\n",
              "    [theme=dark] .colab-df-convert:hover {\n",
              "      background-color: #434B5C;\n",
              "      box-shadow: 0px 1px 3px 1px rgba(0, 0, 0, 0.15);\n",
              "      filter: drop-shadow(0px 1px 2px rgba(0, 0, 0, 0.3));\n",
              "      fill: #FFFFFF;\n",
              "    }\n",
              "  </style>\n",
              "\n",
              "      <script>\n",
              "        const buttonEl =\n",
              "          document.querySelector('#df-f6ecf3c6-e06e-4d3b-bcaa-6d8091a4a1fd button.colab-df-convert');\n",
              "        buttonEl.style.display =\n",
              "          google.colab.kernel.accessAllowed ? 'block' : 'none';\n",
              "\n",
              "        async function convertToInteractive(key) {\n",
              "          const element = document.querySelector('#df-f6ecf3c6-e06e-4d3b-bcaa-6d8091a4a1fd');\n",
              "          const dataTable =\n",
              "            await google.colab.kernel.invokeFunction('convertToInteractive',\n",
              "                                                     [key], {});\n",
              "          if (!dataTable) return;\n",
              "\n",
              "          const docLinkHtml = 'Like what you see? Visit the ' +\n",
              "            '<a target=\"_blank\" href=https://colab.research.google.com/notebooks/data_table.ipynb>data table notebook</a>'\n",
              "            + ' to learn more about interactive tables.';\n",
              "          element.innerHTML = '';\n",
              "          dataTable['output_type'] = 'display_data';\n",
              "          await google.colab.output.renderOutput(dataTable, element);\n",
              "          const docLink = document.createElement('div');\n",
              "          docLink.innerHTML = docLinkHtml;\n",
              "          element.appendChild(docLink);\n",
              "        }\n",
              "      </script>\n",
              "    </div>\n",
              "  </div>\n",
              "  "
            ]
          },
          "metadata": {},
          "execution_count": 29
        }
      ]
    },
    {
      "cell_type": "code",
      "source": [
        "df = df.drop([\"CustomerId\",'Surname', 'Geography',\"RowNumber\"], axis = 1)"
      ],
      "metadata": {
        "id": "AtVSimv8PBE5"
      },
      "execution_count": 30,
      "outputs": []
    },
    {
      "cell_type": "code",
      "source": [
        "df.shape"
      ],
      "metadata": {
        "colab": {
          "base_uri": "https://localhost:8080/"
        },
        "id": "WTO6GmgEQjRq",
        "outputId": "fbf3f7cf-5411-424e-eebb-c7114accb351"
      },
      "execution_count": 31,
      "outputs": [
        {
          "output_type": "execute_result",
          "data": {
            "text/plain": [
              "(10000, 10)"
            ]
          },
          "metadata": {},
          "execution_count": 31
        }
      ]
    },
    {
      "cell_type": "code",
      "source": [
        "df.head()"
      ],
      "metadata": {
        "colab": {
          "base_uri": "https://localhost:8080/",
          "height": 206
        },
        "id": "xMucD6gyELmt",
        "outputId": "06633a63-c69b-417a-8988-982ba0a1d4bc"
      },
      "execution_count": 32,
      "outputs": [
        {
          "output_type": "execute_result",
          "data": {
            "text/plain": [
              "   CreditScore  Gender  Age  Tenure    Balance  NumOfProducts  HasCrCard  \\\n",
              "0          619  Female   42       2      0.000              1          1   \n",
              "1          608  Female   41       1  83807.860              1          0   \n",
              "2          502  Female   42       8 159660.800              3          1   \n",
              "3          699  Female   39       1      0.000              2          0   \n",
              "4          850  Female   43       2 125510.820              1          1   \n",
              "\n",
              "   IsActiveMember  EstimatedSalary  Exited  \n",
              "0               1       101348.880       1  \n",
              "1               1       112542.580       0  \n",
              "2               0       113931.570       1  \n",
              "3               0        93826.630       0  \n",
              "4               1        79084.100       0  "
            ],
            "text/html": [
              "\n",
              "  <div id=\"df-ec486583-e975-4cc8-b7d1-fc0d690b9149\">\n",
              "    <div class=\"colab-df-container\">\n",
              "      <div>\n",
              "<style scoped>\n",
              "    .dataframe tbody tr th:only-of-type {\n",
              "        vertical-align: middle;\n",
              "    }\n",
              "\n",
              "    .dataframe tbody tr th {\n",
              "        vertical-align: top;\n",
              "    }\n",
              "\n",
              "    .dataframe thead th {\n",
              "        text-align: right;\n",
              "    }\n",
              "</style>\n",
              "<table border=\"1\" class=\"dataframe\">\n",
              "  <thead>\n",
              "    <tr style=\"text-align: right;\">\n",
              "      <th></th>\n",
              "      <th>CreditScore</th>\n",
              "      <th>Gender</th>\n",
              "      <th>Age</th>\n",
              "      <th>Tenure</th>\n",
              "      <th>Balance</th>\n",
              "      <th>NumOfProducts</th>\n",
              "      <th>HasCrCard</th>\n",
              "      <th>IsActiveMember</th>\n",
              "      <th>EstimatedSalary</th>\n",
              "      <th>Exited</th>\n",
              "    </tr>\n",
              "  </thead>\n",
              "  <tbody>\n",
              "    <tr>\n",
              "      <th>0</th>\n",
              "      <td>619</td>\n",
              "      <td>Female</td>\n",
              "      <td>42</td>\n",
              "      <td>2</td>\n",
              "      <td>0.000</td>\n",
              "      <td>1</td>\n",
              "      <td>1</td>\n",
              "      <td>1</td>\n",
              "      <td>101348.880</td>\n",
              "      <td>1</td>\n",
              "    </tr>\n",
              "    <tr>\n",
              "      <th>1</th>\n",
              "      <td>608</td>\n",
              "      <td>Female</td>\n",
              "      <td>41</td>\n",
              "      <td>1</td>\n",
              "      <td>83807.860</td>\n",
              "      <td>1</td>\n",
              "      <td>0</td>\n",
              "      <td>1</td>\n",
              "      <td>112542.580</td>\n",
              "      <td>0</td>\n",
              "    </tr>\n",
              "    <tr>\n",
              "      <th>2</th>\n",
              "      <td>502</td>\n",
              "      <td>Female</td>\n",
              "      <td>42</td>\n",
              "      <td>8</td>\n",
              "      <td>159660.800</td>\n",
              "      <td>3</td>\n",
              "      <td>1</td>\n",
              "      <td>0</td>\n",
              "      <td>113931.570</td>\n",
              "      <td>1</td>\n",
              "    </tr>\n",
              "    <tr>\n",
              "      <th>3</th>\n",
              "      <td>699</td>\n",
              "      <td>Female</td>\n",
              "      <td>39</td>\n",
              "      <td>1</td>\n",
              "      <td>0.000</td>\n",
              "      <td>2</td>\n",
              "      <td>0</td>\n",
              "      <td>0</td>\n",
              "      <td>93826.630</td>\n",
              "      <td>0</td>\n",
              "    </tr>\n",
              "    <tr>\n",
              "      <th>4</th>\n",
              "      <td>850</td>\n",
              "      <td>Female</td>\n",
              "      <td>43</td>\n",
              "      <td>2</td>\n",
              "      <td>125510.820</td>\n",
              "      <td>1</td>\n",
              "      <td>1</td>\n",
              "      <td>1</td>\n",
              "      <td>79084.100</td>\n",
              "      <td>0</td>\n",
              "    </tr>\n",
              "  </tbody>\n",
              "</table>\n",
              "</div>\n",
              "      <button class=\"colab-df-convert\" onclick=\"convertToInteractive('df-ec486583-e975-4cc8-b7d1-fc0d690b9149')\"\n",
              "              title=\"Convert this dataframe to an interactive table.\"\n",
              "              style=\"display:none;\">\n",
              "        \n",
              "  <svg xmlns=\"http://www.w3.org/2000/svg\" height=\"24px\"viewBox=\"0 0 24 24\"\n",
              "       width=\"24px\">\n",
              "    <path d=\"M0 0h24v24H0V0z\" fill=\"none\"/>\n",
              "    <path d=\"M18.56 5.44l.94 2.06.94-2.06 2.06-.94-2.06-.94-.94-2.06-.94 2.06-2.06.94zm-11 1L8.5 8.5l.94-2.06 2.06-.94-2.06-.94L8.5 2.5l-.94 2.06-2.06.94zm10 10l.94 2.06.94-2.06 2.06-.94-2.06-.94-.94-2.06-.94 2.06-2.06.94z\"/><path d=\"M17.41 7.96l-1.37-1.37c-.4-.4-.92-.59-1.43-.59-.52 0-1.04.2-1.43.59L10.3 9.45l-7.72 7.72c-.78.78-.78 2.05 0 2.83L4 21.41c.39.39.9.59 1.41.59.51 0 1.02-.2 1.41-.59l7.78-7.78 2.81-2.81c.8-.78.8-2.07 0-2.86zM5.41 20L4 18.59l7.72-7.72 1.47 1.35L5.41 20z\"/>\n",
              "  </svg>\n",
              "      </button>\n",
              "      \n",
              "  <style>\n",
              "    .colab-df-container {\n",
              "      display:flex;\n",
              "      flex-wrap:wrap;\n",
              "      gap: 12px;\n",
              "    }\n",
              "\n",
              "    .colab-df-convert {\n",
              "      background-color: #E8F0FE;\n",
              "      border: none;\n",
              "      border-radius: 50%;\n",
              "      cursor: pointer;\n",
              "      display: none;\n",
              "      fill: #1967D2;\n",
              "      height: 32px;\n",
              "      padding: 0 0 0 0;\n",
              "      width: 32px;\n",
              "    }\n",
              "\n",
              "    .colab-df-convert:hover {\n",
              "      background-color: #E2EBFA;\n",
              "      box-shadow: 0px 1px 2px rgba(60, 64, 67, 0.3), 0px 1px 3px 1px rgba(60, 64, 67, 0.15);\n",
              "      fill: #174EA6;\n",
              "    }\n",
              "\n",
              "    [theme=dark] .colab-df-convert {\n",
              "      background-color: #3B4455;\n",
              "      fill: #D2E3FC;\n",
              "    }\n",
              "\n",
              "    [theme=dark] .colab-df-convert:hover {\n",
              "      background-color: #434B5C;\n",
              "      box-shadow: 0px 1px 3px 1px rgba(0, 0, 0, 0.15);\n",
              "      filter: drop-shadow(0px 1px 2px rgba(0, 0, 0, 0.3));\n",
              "      fill: #FFFFFF;\n",
              "    }\n",
              "  </style>\n",
              "\n",
              "      <script>\n",
              "        const buttonEl =\n",
              "          document.querySelector('#df-ec486583-e975-4cc8-b7d1-fc0d690b9149 button.colab-df-convert');\n",
              "        buttonEl.style.display =\n",
              "          google.colab.kernel.accessAllowed ? 'block' : 'none';\n",
              "\n",
              "        async function convertToInteractive(key) {\n",
              "          const element = document.querySelector('#df-ec486583-e975-4cc8-b7d1-fc0d690b9149');\n",
              "          const dataTable =\n",
              "            await google.colab.kernel.invokeFunction('convertToInteractive',\n",
              "                                                     [key], {});\n",
              "          if (!dataTable) return;\n",
              "\n",
              "          const docLinkHtml = 'Like what you see? Visit the ' +\n",
              "            '<a target=\"_blank\" href=https://colab.research.google.com/notebooks/data_table.ipynb>data table notebook</a>'\n",
              "            + ' to learn more about interactive tables.';\n",
              "          element.innerHTML = '';\n",
              "          dataTable['output_type'] = 'display_data';\n",
              "          await google.colab.output.renderOutput(dataTable, element);\n",
              "          const docLink = document.createElement('div');\n",
              "          docLink.innerHTML = docLinkHtml;\n",
              "          element.appendChild(docLink);\n",
              "        }\n",
              "      </script>\n",
              "    </div>\n",
              "  </div>\n",
              "  "
            ]
          },
          "metadata": {},
          "execution_count": 32
        }
      ]
    },
    {
      "cell_type": "code",
      "source": [
        "df=pd.get_dummies(df)"
      ],
      "metadata": {
        "id": "PmEhR792RiaE"
      },
      "execution_count": 33,
      "outputs": []
    },
    {
      "cell_type": "code",
      "source": [
        "df.info()"
      ],
      "metadata": {
        "colab": {
          "base_uri": "https://localhost:8080/"
        },
        "id": "FGV5mn32ShzO",
        "outputId": "b0ed6806-7019-4257-ea8f-190c534ac4ed"
      },
      "execution_count": 34,
      "outputs": [
        {
          "output_type": "stream",
          "name": "stdout",
          "text": [
            "<class 'pandas.core.frame.DataFrame'>\n",
            "RangeIndex: 10000 entries, 0 to 9999\n",
            "Data columns (total 11 columns):\n",
            " #   Column           Non-Null Count  Dtype  \n",
            "---  ------           --------------  -----  \n",
            " 0   CreditScore      10000 non-null  int64  \n",
            " 1   Age              10000 non-null  int64  \n",
            " 2   Tenure           10000 non-null  int64  \n",
            " 3   Balance          10000 non-null  float64\n",
            " 4   NumOfProducts    10000 non-null  int64  \n",
            " 5   HasCrCard        10000 non-null  int64  \n",
            " 6   IsActiveMember   10000 non-null  int64  \n",
            " 7   EstimatedSalary  10000 non-null  float64\n",
            " 8   Exited           10000 non-null  int64  \n",
            " 9   Gender_Female    10000 non-null  uint8  \n",
            " 10  Gender_Male      10000 non-null  uint8  \n",
            "dtypes: float64(2), int64(7), uint8(2)\n",
            "memory usage: 722.8 KB\n"
          ]
        }
      ]
    },
    {
      "cell_type": "code",
      "source": [
        "plt.figure(figsize=(10,10))\n",
        "sns.countplot(df[\"Exited\"])"
      ],
      "metadata": {
        "colab": {
          "base_uri": "https://localhost:8080/",
          "height": 624
        },
        "id": "FjPtB_RtPA5Q",
        "outputId": "38f82e26-b8fa-4afc-a443-2a9ed1d4442e"
      },
      "execution_count": 35,
      "outputs": [
        {
          "output_type": "execute_result",
          "data": {
            "text/plain": [
              "<matplotlib.axes._subplots.AxesSubplot at 0x7f5c062d1d50>"
            ]
          },
          "metadata": {},
          "execution_count": 35
        },
        {
          "output_type": "display_data",
          "data": {
            "text/plain": [
              "<Figure size 720x720 with 1 Axes>"
            ],
            "image/png": "[encoded data removed]"
          },
          "metadata": {}
        }
      ]
    },
    {
      "cell_type": "code",
      "source": [
        "plt.figure(figsize=(20,20))\n",
        "sns.heatmap(df.corr(), annot=True, cmap=\"seismic\"); "
      ],
      "metadata": {
        "colab": {
          "base_uri": "https://localhost:8080/",
          "height": 1000
        },
        "id": "yQb6ZFGzQVf6",
        "outputId": "5a220395-e10f-4b4b-9c79-b3ccdcaa564c"
      },
      "execution_count": 36,
      "outputs": [
        {
          "output_type": "display_data",
          "data": {
            "text/plain": [
              "<Figure size 1440x1440 with 2 Axes>"
            ],
            "image/png": "[encoded data removed]"
          },
          "metadata": {}
        }
      ]
    },
    {
      "cell_type": "code",
      "source": [
        "plt.figure(figsize = (8,10))\n",
        "df.corr()['Exited'].sort_values().drop(\"Exited\").plot(kind = \"barh\");  "
      ],
      "metadata": {
        "colab": {
          "base_uri": "https://localhost:8080/",
          "height": 592
        },
        "id": "j3FENIkrQmhF",
        "outputId": "fbae7898-8e88-41e6-dd0e-b1d1989d5ab2"
      },
      "execution_count": 37,
      "outputs": [
        {
          "output_type": "display_data",
          "data": {
            "text/plain": [
              "<Figure size 576x720 with 1 Axes>"
            ],
            "image/png": "[encoded data removed]"
          },
          "metadata": {}
        }
      ]
    },
    {
      "cell_type": "code",
      "source": [
        ""
      ],
      "metadata": {
        "id": "vV9GwSlQRDpj"
      },
      "execution_count": 37,
      "outputs": []
    },
    {
      "cell_type": "markdown",
      "metadata": {
        "id": "WO9crdOt6QO2"
      },
      "source": [
        "# Preprocessing of Data\n",
        "- Train | Test Split, Scalling"
      ]
    },
    {
      "cell_type": "code",
      "execution_count": 37,
      "metadata": {
        "id": "AV3FE9_U6QO3"
      },
      "outputs": [],
      "source": [
        ""
      ]
    },
    {
      "cell_type": "code",
      "execution_count": 38,
      "metadata": {
        "id": "DjY-ZSPWka7D"
      },
      "outputs": [],
      "source": [
        "from sklearn.model_selection import train_test_split\n",
        "from sklearn.preprocessing import MinMaxScaler"
      ]
    },
    {
      "cell_type": "code",
      "execution_count": 39,
      "metadata": {
        "id": "kjyTH753lq7M"
      },
      "outputs": [],
      "source": [
        "X = df.drop('Exited', axis=1)\n",
        "y = df['Exited']"
      ]
    },
    {
      "cell_type": "code",
      "execution_count": 40,
      "metadata": {
        "id": "LZHPkO_DuWYK"
      },
      "outputs": [],
      "source": [
        "seed = 42"
      ]
    },
    {
      "cell_type": "code",
      "execution_count": 41,
      "metadata": {
        "id": "-U7qM3NxmKZX"
      },
      "outputs": [],
      "source": [
        "X_train, X_test, y_train, y_test = train_test_split(X, y, stratify = y, test_size = 0.15, random_state = seed)"
      ]
    },
    {
      "cell_type": "code",
      "execution_count": 42,
      "metadata": {
        "id": "fv1Ass6wuWYL"
      },
      "outputs": [],
      "source": [
        "scaler = MinMaxScaler()"
      ]
    },
    {
      "cell_type": "code",
      "execution_count": 43,
      "metadata": {
        "id": "Fgy3D9SBmWcq"
      },
      "outputs": [],
      "source": [
        "X_train= scaler.fit_transform(X_train)\n",
        "X_test = scaler.transform(X_test)"
      ]
    },
    {
      "cell_type": "markdown",
      "metadata": {
        "id": "Ha9hDt_AoGaE"
      },
      "source": [
        "# Modelling & Model Performance"
      ]
    },
    {
      "cell_type": "markdown",
      "metadata": {
        "id": "nFduVvWV6QO4"
      },
      "source": [
        "## without class_weigth"
      ]
    },
    {
      "cell_type": "markdown",
      "metadata": {
        "id": "yw66wSCy6QO4"
      },
      "source": [
        "### Create The Model"
      ]
    },
    {
      "cell_type": "code",
      "execution_count": 43,
      "metadata": {
        "id": "8d2UbzKd6QO4"
      },
      "outputs": [],
      "source": [
        ""
      ]
    },
    {
      "cell_type": "code",
      "execution_count": 44,
      "metadata": {
        "id": "7ULmvr-n13bQ"
      },
      "outputs": [],
      "source": [
        "import tensorflow as tf\n",
        "from tensorflow.keras.models import Sequential\n",
        "from tensorflow.keras.layers import Dense, Activation\n",
        "from sklearn.metrics import classification_report, confusion_matrix\n",
        "from sklearn.metrics import plot_roc_curve, roc_auc_score, roc_curve\n",
        "from sklearn.model_selection import cross_val_score, cross_validate\n",
        "from sklearn.model_selection import GridSearchCV  "
      ]
    },
    {
      "cell_type": "code",
      "execution_count": 44,
      "metadata": {
        "id": "bVa8H6z113bR"
      },
      "outputs": [],
      "source": [
        ""
      ]
    },
    {
      "cell_type": "code",
      "execution_count": 45,
      "metadata": {
        "colab": {
          "base_uri": "https://localhost:8080/"
        },
        "id": "53becHwOn549",
        "outputId": "9c602a17-adaf-4025-8bad-f067664eef4f"
      },
      "outputs": [
        {
          "output_type": "execute_result",
          "data": {
            "text/plain": [
              "(8500, 10)"
            ]
          },
          "metadata": {},
          "execution_count": 45
        }
      ],
      "source": [
        "X_train.shape"
      ]
    },
    {
      "cell_type": "code",
      "execution_count": 46,
      "metadata": {
        "colab": {
          "base_uri": "https://localhost:8080/"
        },
        "id": "TX7hyUw5rOZc",
        "outputId": "d39f27ee-6cd2-4306-ff80-98cc14b8e297"
      },
      "outputs": [
        {
          "output_type": "execute_result",
          "data": {
            "text/plain": [
              "(1500, 10)"
            ]
          },
          "metadata": {},
          "execution_count": 46
        }
      ],
      "source": [
        "X_test.shape"
      ]
    },
    {
      "cell_type": "code",
      "execution_count": 47,
      "metadata": {
        "id": "GG2glFRNrQcv"
      },
      "outputs": [],
      "source": [
        "tf.random.set_seed(seed)\n",
        "\n",
        "model = Sequential()\n",
        "\n",
        "model.add(Dense(20, activation = \"relu\", input_dim = X_train.shape[1]))\n",
        "model.add(Dense(10, activation = \"relu\"))\n",
        "model.add(Dense(5, activation = \"relu\"))\n",
        "model.add(Dense(1, activation = \"sigmoid\"))         \n",
        "model.compile(optimizer = \"adam\", loss = \"binary_crossentropy\", metrics = [\"Recall\"])  "
      ]
    },
    {
      "cell_type": "code",
      "execution_count": 48,
      "metadata": {
        "colab": {
          "base_uri": "https://localhost:8080/"
        },
        "id": "hw5J9o-mtbkj",
        "outputId": "d3c90f2f-d22e-41c1-905a-d31df268225a"
      },
      "outputs": [
        {
          "output_type": "stream",
          "name": "stdout",
          "text": [
            "Epoch 1/300\n",
            "73/73 [==============================] - 1s 6ms/step - loss: 0.6362 - recall: 0.1286 - val_loss: 0.5466 - val_recall: 0.0000e+00\n",
            "Epoch 2/300\n",
            "73/73 [==============================] - 0s 2ms/step - loss: 0.5173 - recall: 0.0000e+00 - val_loss: 0.4980 - val_recall: 0.0000e+00\n",
            "Epoch 3/300\n",
            "73/73 [==============================] - 0s 2ms/step - loss: 0.4991 - recall: 0.0000e+00 - val_loss: 0.4873 - val_recall: 0.0000e+00\n",
            "Epoch 4/300\n",
            "73/73 [==============================] - 0s 2ms/step - loss: 0.4856 - recall: 0.0000e+00 - val_loss: 0.4736 - val_recall: 0.0000e+00\n",
            "Epoch 5/300\n",
            "73/73 [==============================] - 0s 2ms/step - loss: 0.4680 - recall: 0.0068 - val_loss: 0.4590 - val_recall: 0.0354\n",
            "Epoch 6/300\n",
            "73/73 [==============================] - 0s 2ms/step - loss: 0.4514 - recall: 0.0650 - val_loss: 0.4470 - val_recall: 0.1063\n",
            "Epoch 7/300\n",
            "73/73 [==============================] - 0s 2ms/step - loss: 0.4371 - recall: 0.1300 - val_loss: 0.4349 - val_recall: 0.1299\n",
            "Epoch 8/300\n",
            "73/73 [==============================] - 0s 2ms/step - loss: 0.4267 - recall: 0.1862 - val_loss: 0.4262 - val_recall: 0.1850\n",
            "Epoch 9/300\n",
            "73/73 [==============================] - 0s 2ms/step - loss: 0.4167 - recall: 0.2126 - val_loss: 0.4178 - val_recall: 0.1732\n",
            "Epoch 10/300\n",
            "73/73 [==============================] - 0s 2ms/step - loss: 0.4089 - recall: 0.2580 - val_loss: 0.4144 - val_recall: 0.1850\n",
            "Epoch 11/300\n",
            "73/73 [==============================] - 0s 2ms/step - loss: 0.4027 - recall: 0.2789 - val_loss: 0.4034 - val_recall: 0.3071\n",
            "Epoch 12/300\n",
            "73/73 [==============================] - 0s 2ms/step - loss: 0.3988 - recall: 0.2972 - val_loss: 0.3988 - val_recall: 0.2677\n",
            "Epoch 13/300\n",
            "73/73 [==============================] - 0s 2ms/step - loss: 0.3943 - recall: 0.3074 - val_loss: 0.3932 - val_recall: 0.2953\n",
            "Epoch 14/300\n",
            "73/73 [==============================] - 0s 2ms/step - loss: 0.3898 - recall: 0.3331 - val_loss: 0.3888 - val_recall: 0.3543\n",
            "Epoch 15/300\n",
            "73/73 [==============================] - 0s 2ms/step - loss: 0.3858 - recall: 0.3385 - val_loss: 0.3849 - val_recall: 0.3110\n",
            "Epoch 16/300\n",
            "73/73 [==============================] - 0s 2ms/step - loss: 0.3830 - recall: 0.3460 - val_loss: 0.3825 - val_recall: 0.3150\n",
            "Epoch 17/300\n",
            "73/73 [==============================] - 0s 2ms/step - loss: 0.3800 - recall: 0.3561 - val_loss: 0.3809 - val_recall: 0.4134\n",
            "Epoch 18/300\n",
            "73/73 [==============================] - 0s 2ms/step - loss: 0.3768 - recall: 0.3622 - val_loss: 0.3729 - val_recall: 0.3583\n",
            "Epoch 19/300\n",
            "73/73 [==============================] - 0s 2ms/step - loss: 0.3741 - recall: 0.3649 - val_loss: 0.3708 - val_recall: 0.3780\n",
            "Epoch 20/300\n",
            "73/73 [==============================] - 0s 2ms/step - loss: 0.3722 - recall: 0.3751 - val_loss: 0.3685 - val_recall: 0.3622\n",
            "Epoch 21/300\n",
            "73/73 [==============================] - 0s 2ms/step - loss: 0.3711 - recall: 0.3791 - val_loss: 0.3664 - val_recall: 0.3780\n",
            "Epoch 22/300\n",
            "73/73 [==============================] - 0s 2ms/step - loss: 0.3674 - recall: 0.3852 - val_loss: 0.3658 - val_recall: 0.3622\n",
            "Epoch 23/300\n",
            "73/73 [==============================] - 0s 2ms/step - loss: 0.3660 - recall: 0.3805 - val_loss: 0.3627 - val_recall: 0.3819\n",
            "Epoch 24/300\n",
            "73/73 [==============================] - 0s 2ms/step - loss: 0.3639 - recall: 0.3913 - val_loss: 0.3619 - val_recall: 0.3740\n",
            "Epoch 25/300\n",
            "73/73 [==============================] - 0s 2ms/step - loss: 0.3626 - recall: 0.3886 - val_loss: 0.3607 - val_recall: 0.3858\n",
            "Epoch 26/300\n",
            "73/73 [==============================] - 0s 2ms/step - loss: 0.3620 - recall: 0.3920 - val_loss: 0.3612 - val_recall: 0.3543\n",
            "Epoch 27/300\n",
            "73/73 [==============================] - 0s 2ms/step - loss: 0.3613 - recall: 0.3961 - val_loss: 0.3562 - val_recall: 0.4055\n",
            "Epoch 28/300\n",
            "73/73 [==============================] - 0s 2ms/step - loss: 0.3596 - recall: 0.3832 - val_loss: 0.3552 - val_recall: 0.3976\n",
            "Epoch 29/300\n",
            "73/73 [==============================] - 0s 2ms/step - loss: 0.3570 - recall: 0.4042 - val_loss: 0.3535 - val_recall: 0.4094\n",
            "Epoch 30/300\n",
            "73/73 [==============================] - 0s 2ms/step - loss: 0.3569 - recall: 0.4022 - val_loss: 0.3548 - val_recall: 0.3937\n",
            "Epoch 31/300\n",
            "73/73 [==============================] - 0s 2ms/step - loss: 0.3564 - recall: 0.3900 - val_loss: 0.3525 - val_recall: 0.4291\n",
            "Epoch 32/300\n",
            "73/73 [==============================] - 0s 2ms/step - loss: 0.3553 - recall: 0.4069 - val_loss: 0.3544 - val_recall: 0.3740\n",
            "Epoch 33/300\n",
            "73/73 [==============================] - 0s 2ms/step - loss: 0.3555 - recall: 0.4022 - val_loss: 0.3557 - val_recall: 0.3622\n",
            "Epoch 34/300\n",
            "73/73 [==============================] - 0s 2ms/step - loss: 0.3545 - recall: 0.3981 - val_loss: 0.3535 - val_recall: 0.4252\n",
            "Epoch 35/300\n",
            "73/73 [==============================] - 0s 2ms/step - loss: 0.3550 - recall: 0.3995 - val_loss: 0.3515 - val_recall: 0.4606\n",
            "Epoch 36/300\n",
            "73/73 [==============================] - 0s 2ms/step - loss: 0.3540 - recall: 0.4150 - val_loss: 0.3505 - val_recall: 0.3898\n",
            "Epoch 37/300\n",
            "73/73 [==============================] - 0s 2ms/step - loss: 0.3535 - recall: 0.4103 - val_loss: 0.3517 - val_recall: 0.4016\n",
            "Epoch 38/300\n",
            "73/73 [==============================] - 0s 2ms/step - loss: 0.3513 - recall: 0.4083 - val_loss: 0.3553 - val_recall: 0.3504\n",
            "Epoch 39/300\n",
            "73/73 [==============================] - 0s 2ms/step - loss: 0.3511 - recall: 0.4103 - val_loss: 0.3479 - val_recall: 0.4173\n",
            "Epoch 40/300\n",
            "73/73 [==============================] - 0s 2ms/step - loss: 0.3524 - recall: 0.4056 - val_loss: 0.3539 - val_recall: 0.4724\n",
            "Epoch 41/300\n",
            "73/73 [==============================] - 0s 3ms/step - loss: 0.3514 - recall: 0.4069 - val_loss: 0.3485 - val_recall: 0.4213\n",
            "Epoch 42/300\n",
            "73/73 [==============================] - 0s 2ms/step - loss: 0.3507 - recall: 0.4110 - val_loss: 0.3477 - val_recall: 0.4134\n",
            "Epoch 43/300\n",
            "73/73 [==============================] - 0s 2ms/step - loss: 0.3494 - recall: 0.4150 - val_loss: 0.3495 - val_recall: 0.4055\n",
            "Epoch 44/300\n",
            "73/73 [==============================] - 0s 2ms/step - loss: 0.3498 - recall: 0.4096 - val_loss: 0.3482 - val_recall: 0.4213\n",
            "Epoch 45/300\n",
            "73/73 [==============================] - 0s 2ms/step - loss: 0.3496 - recall: 0.4150 - val_loss: 0.3499 - val_recall: 0.4488\n",
            "Epoch 46/300\n",
            "73/73 [==============================] - 0s 2ms/step - loss: 0.3481 - recall: 0.4150 - val_loss: 0.3516 - val_recall: 0.3465\n",
            "Epoch 47/300\n",
            "73/73 [==============================] - 0s 2ms/step - loss: 0.3486 - recall: 0.4049 - val_loss: 0.3480 - val_recall: 0.4055\n",
            "Epoch 48/300\n",
            "73/73 [==============================] - 0s 2ms/step - loss: 0.3487 - recall: 0.4096 - val_loss: 0.3461 - val_recall: 0.4291\n",
            "Epoch 49/300\n",
            "73/73 [==============================] - 0s 2ms/step - loss: 0.3487 - recall: 0.4069 - val_loss: 0.3467 - val_recall: 0.4567\n",
            "Epoch 50/300\n",
            "73/73 [==============================] - 0s 2ms/step - loss: 0.3497 - recall: 0.4137 - val_loss: 0.3513 - val_recall: 0.3622\n",
            "Epoch 51/300\n",
            "73/73 [==============================] - 0s 2ms/step - loss: 0.3479 - recall: 0.4171 - val_loss: 0.3488 - val_recall: 0.3976\n",
            "Epoch 52/300\n",
            "73/73 [==============================] - 0s 2ms/step - loss: 0.3478 - recall: 0.4171 - val_loss: 0.3449 - val_recall: 0.4252\n",
            "Epoch 53/300\n",
            "73/73 [==============================] - 0s 2ms/step - loss: 0.3470 - recall: 0.4204 - val_loss: 0.3455 - val_recall: 0.4134\n",
            "Epoch 54/300\n",
            "73/73 [==============================] - 0s 2ms/step - loss: 0.3473 - recall: 0.4191 - val_loss: 0.3493 - val_recall: 0.3819\n",
            "Epoch 55/300\n",
            "73/73 [==============================] - 0s 2ms/step - loss: 0.3469 - recall: 0.4184 - val_loss: 0.3469 - val_recall: 0.4291\n",
            "Epoch 56/300\n",
            "73/73 [==============================] - 0s 2ms/step - loss: 0.3462 - recall: 0.4164 - val_loss: 0.3458 - val_recall: 0.4213\n",
            "Epoch 57/300\n",
            "73/73 [==============================] - 0s 2ms/step - loss: 0.3465 - recall: 0.4245 - val_loss: 0.3463 - val_recall: 0.4331\n",
            "Epoch 58/300\n",
            "73/73 [==============================] - 0s 2ms/step - loss: 0.3465 - recall: 0.4171 - val_loss: 0.3471 - val_recall: 0.4094\n",
            "Epoch 59/300\n",
            "73/73 [==============================] - 0s 2ms/step - loss: 0.3458 - recall: 0.4191 - val_loss: 0.3469 - val_recall: 0.4488\n",
            "Epoch 60/300\n",
            "73/73 [==============================] - 0s 2ms/step - loss: 0.3466 - recall: 0.4320 - val_loss: 0.3462 - val_recall: 0.4252\n",
            "Epoch 61/300\n",
            "73/73 [==============================] - 0s 2ms/step - loss: 0.3452 - recall: 0.4232 - val_loss: 0.3450 - val_recall: 0.4016\n",
            "Epoch 62/300\n",
            "73/73 [==============================] - 0s 2ms/step - loss: 0.3459 - recall: 0.4211 - val_loss: 0.3455 - val_recall: 0.4094\n",
            "Epoch 63/300\n",
            "73/73 [==============================] - 0s 2ms/step - loss: 0.3437 - recall: 0.4265 - val_loss: 0.3531 - val_recall: 0.3386\n",
            "Epoch 64/300\n",
            "73/73 [==============================] - 0s 2ms/step - loss: 0.3447 - recall: 0.4232 - val_loss: 0.3450 - val_recall: 0.4291\n",
            "Epoch 65/300\n",
            "73/73 [==============================] - 0s 2ms/step - loss: 0.3462 - recall: 0.4232 - val_loss: 0.3441 - val_recall: 0.4055\n",
            "Epoch 66/300\n",
            "73/73 [==============================] - 0s 2ms/step - loss: 0.3436 - recall: 0.4225 - val_loss: 0.3451 - val_recall: 0.4488\n",
            "Epoch 67/300\n",
            "73/73 [==============================] - 0s 2ms/step - loss: 0.3440 - recall: 0.4272 - val_loss: 0.3489 - val_recall: 0.3740\n",
            "Epoch 68/300\n",
            "73/73 [==============================] - 0s 2ms/step - loss: 0.3446 - recall: 0.4225 - val_loss: 0.3467 - val_recall: 0.4449\n",
            "Epoch 69/300\n",
            "73/73 [==============================] - 0s 2ms/step - loss: 0.3446 - recall: 0.4340 - val_loss: 0.3522 - val_recall: 0.3543\n",
            "Epoch 70/300\n",
            "73/73 [==============================] - 0s 2ms/step - loss: 0.3448 - recall: 0.4306 - val_loss: 0.3462 - val_recall: 0.3819\n",
            "Epoch 71/300\n",
            "73/73 [==============================] - 0s 2ms/step - loss: 0.3452 - recall: 0.4211 - val_loss: 0.3474 - val_recall: 0.3858\n",
            "Epoch 72/300\n",
            "73/73 [==============================] - 0s 2ms/step - loss: 0.3448 - recall: 0.4245 - val_loss: 0.3435 - val_recall: 0.4055\n",
            "Epoch 73/300\n",
            "73/73 [==============================] - 0s 2ms/step - loss: 0.3428 - recall: 0.4211 - val_loss: 0.3435 - val_recall: 0.4252\n",
            "Epoch 74/300\n",
            "73/73 [==============================] - 0s 2ms/step - loss: 0.3453 - recall: 0.4272 - val_loss: 0.3451 - val_recall: 0.4449\n",
            "Epoch 75/300\n",
            "73/73 [==============================] - 0s 2ms/step - loss: 0.3434 - recall: 0.4265 - val_loss: 0.3474 - val_recall: 0.4724\n",
            "Epoch 76/300\n",
            "73/73 [==============================] - 0s 2ms/step - loss: 0.3435 - recall: 0.4245 - val_loss: 0.3414 - val_recall: 0.4685\n",
            "Epoch 77/300\n",
            "73/73 [==============================] - 0s 2ms/step - loss: 0.3449 - recall: 0.4320 - val_loss: 0.3575 - val_recall: 0.3189\n",
            "Epoch 78/300\n",
            "73/73 [==============================] - 0s 2ms/step - loss: 0.3458 - recall: 0.4299 - val_loss: 0.3426 - val_recall: 0.4173\n",
            "Epoch 79/300\n",
            "73/73 [==============================] - 0s 2ms/step - loss: 0.3420 - recall: 0.4320 - val_loss: 0.3433 - val_recall: 0.4173\n",
            "Epoch 80/300\n",
            "73/73 [==============================] - 0s 2ms/step - loss: 0.3435 - recall: 0.4313 - val_loss: 0.3458 - val_recall: 0.4055\n",
            "Epoch 81/300\n",
            "73/73 [==============================] - 0s 2ms/step - loss: 0.3424 - recall: 0.4333 - val_loss: 0.3437 - val_recall: 0.4134\n",
            "Epoch 82/300\n",
            "73/73 [==============================] - 0s 2ms/step - loss: 0.3429 - recall: 0.4347 - val_loss: 0.3464 - val_recall: 0.3819\n",
            "Epoch 83/300\n",
            "73/73 [==============================] - 0s 2ms/step - loss: 0.3428 - recall: 0.4320 - val_loss: 0.3444 - val_recall: 0.3898\n",
            "Epoch 84/300\n",
            "73/73 [==============================] - 0s 2ms/step - loss: 0.3419 - recall: 0.4313 - val_loss: 0.3435 - val_recall: 0.4488\n",
            "Epoch 85/300\n",
            "73/73 [==============================] - 0s 2ms/step - loss: 0.3420 - recall: 0.4265 - val_loss: 0.3417 - val_recall: 0.4291\n",
            "Epoch 86/300\n",
            "73/73 [==============================] - 0s 2ms/step - loss: 0.3413 - recall: 0.4340 - val_loss: 0.3517 - val_recall: 0.3543\n",
            "Epoch 87/300\n",
            "73/73 [==============================] - 0s 2ms/step - loss: 0.3423 - recall: 0.4218 - val_loss: 0.3428 - val_recall: 0.4409\n",
            "Epoch 88/300\n",
            "73/73 [==============================] - 0s 2ms/step - loss: 0.3415 - recall: 0.4347 - val_loss: 0.3451 - val_recall: 0.3976\n",
            "Epoch 89/300\n",
            "73/73 [==============================] - 0s 2ms/step - loss: 0.3417 - recall: 0.4326 - val_loss: 0.3436 - val_recall: 0.4331\n",
            "Epoch 90/300\n",
            "73/73 [==============================] - 0s 2ms/step - loss: 0.3415 - recall: 0.4292 - val_loss: 0.3477 - val_recall: 0.4488\n",
            "Epoch 91/300\n",
            "73/73 [==============================] - 0s 3ms/step - loss: 0.3445 - recall: 0.4381 - val_loss: 0.3425 - val_recall: 0.4016\n",
            "Epoch 92/300\n",
            "73/73 [==============================] - 0s 2ms/step - loss: 0.3417 - recall: 0.4482 - val_loss: 0.3447 - val_recall: 0.3858\n",
            "Epoch 93/300\n",
            "73/73 [==============================] - 0s 2ms/step - loss: 0.3443 - recall: 0.4299 - val_loss: 0.3423 - val_recall: 0.4331\n",
            "Epoch 94/300\n",
            "73/73 [==============================] - 0s 3ms/step - loss: 0.3412 - recall: 0.4299 - val_loss: 0.3420 - val_recall: 0.4724\n",
            "Epoch 95/300\n",
            "73/73 [==============================] - 0s 2ms/step - loss: 0.3419 - recall: 0.4326 - val_loss: 0.3456 - val_recall: 0.3937\n",
            "Epoch 96/300\n",
            "73/73 [==============================] - 0s 2ms/step - loss: 0.3419 - recall: 0.4374 - val_loss: 0.3457 - val_recall: 0.3858\n",
            "Epoch 97/300\n",
            "73/73 [==============================] - 0s 2ms/step - loss: 0.3416 - recall: 0.4401 - val_loss: 0.3427 - val_recall: 0.4134\n",
            "Epoch 98/300\n",
            "73/73 [==============================] - 0s 2ms/step - loss: 0.3429 - recall: 0.4265 - val_loss: 0.3440 - val_recall: 0.4134\n",
            "Epoch 99/300\n",
            "73/73 [==============================] - 0s 3ms/step - loss: 0.3400 - recall: 0.4272 - val_loss: 0.3425 - val_recall: 0.4134\n",
            "Epoch 100/300\n",
            "73/73 [==============================] - 0s 2ms/step - loss: 0.3402 - recall: 0.4340 - val_loss: 0.3420 - val_recall: 0.4094\n",
            "Epoch 101/300\n",
            "73/73 [==============================] - 0s 2ms/step - loss: 0.3420 - recall: 0.4387 - val_loss: 0.3411 - val_recall: 0.4173\n",
            "Epoch 102/300\n",
            "73/73 [==============================] - 0s 3ms/step - loss: 0.3425 - recall: 0.4320 - val_loss: 0.3439 - val_recall: 0.3898\n",
            "Epoch 103/300\n",
            "73/73 [==============================] - 0s 2ms/step - loss: 0.3407 - recall: 0.4381 - val_loss: 0.3430 - val_recall: 0.4055\n",
            "Epoch 104/300\n",
            "73/73 [==============================] - 0s 2ms/step - loss: 0.3417 - recall: 0.4428 - val_loss: 0.3430 - val_recall: 0.3976\n",
            "Epoch 105/300\n",
            "73/73 [==============================] - 0s 2ms/step - loss: 0.3421 - recall: 0.4448 - val_loss: 0.3444 - val_recall: 0.3937\n",
            "Epoch 106/300\n",
            "73/73 [==============================] - 0s 2ms/step - loss: 0.3408 - recall: 0.4360 - val_loss: 0.3449 - val_recall: 0.4921\n",
            "Epoch 107/300\n",
            "73/73 [==============================] - 0s 2ms/step - loss: 0.3406 - recall: 0.4313 - val_loss: 0.3407 - val_recall: 0.4094\n",
            "Epoch 108/300\n",
            "73/73 [==============================] - 0s 2ms/step - loss: 0.3403 - recall: 0.4340 - val_loss: 0.3424 - val_recall: 0.4213\n",
            "Epoch 109/300\n",
            "73/73 [==============================] - 0s 2ms/step - loss: 0.3404 - recall: 0.4313 - val_loss: 0.3432 - val_recall: 0.4488\n",
            "Epoch 110/300\n",
            "73/73 [==============================] - 0s 2ms/step - loss: 0.3413 - recall: 0.4353 - val_loss: 0.3434 - val_recall: 0.4724\n",
            "Epoch 111/300\n",
            "73/73 [==============================] - 0s 2ms/step - loss: 0.3410 - recall: 0.4421 - val_loss: 0.3404 - val_recall: 0.4449\n",
            "Epoch 112/300\n",
            "73/73 [==============================] - 0s 2ms/step - loss: 0.3406 - recall: 0.4414 - val_loss: 0.3395 - val_recall: 0.4449\n",
            "Epoch 113/300\n",
            "73/73 [==============================] - 0s 2ms/step - loss: 0.3404 - recall: 0.4441 - val_loss: 0.3435 - val_recall: 0.4173\n",
            "Epoch 114/300\n",
            "73/73 [==============================] - 0s 3ms/step - loss: 0.3397 - recall: 0.4394 - val_loss: 0.3405 - val_recall: 0.4291\n",
            "Epoch 115/300\n",
            "73/73 [==============================] - 0s 2ms/step - loss: 0.3408 - recall: 0.4279 - val_loss: 0.3420 - val_recall: 0.4134\n",
            "Epoch 116/300\n",
            "73/73 [==============================] - 0s 2ms/step - loss: 0.3402 - recall: 0.4333 - val_loss: 0.3479 - val_recall: 0.4961\n",
            "Epoch 117/300\n",
            "73/73 [==============================] - 0s 2ms/step - loss: 0.3405 - recall: 0.4428 - val_loss: 0.3422 - val_recall: 0.4173\n",
            "Epoch 118/300\n",
            "73/73 [==============================] - 0s 2ms/step - loss: 0.3406 - recall: 0.4421 - val_loss: 0.3459 - val_recall: 0.4606\n",
            "Epoch 119/300\n",
            "73/73 [==============================] - 0s 3ms/step - loss: 0.3407 - recall: 0.4381 - val_loss: 0.3410 - val_recall: 0.4291\n",
            "Epoch 120/300\n",
            "73/73 [==============================] - 0s 2ms/step - loss: 0.3403 - recall: 0.4428 - val_loss: 0.3415 - val_recall: 0.4094\n",
            "Epoch 121/300\n",
            "73/73 [==============================] - 0s 2ms/step - loss: 0.3404 - recall: 0.4394 - val_loss: 0.3415 - val_recall: 0.4409\n",
            "Epoch 122/300\n",
            "73/73 [==============================] - 0s 2ms/step - loss: 0.3408 - recall: 0.4360 - val_loss: 0.3425 - val_recall: 0.4882\n",
            "Epoch 123/300\n",
            "73/73 [==============================] - 0s 2ms/step - loss: 0.3405 - recall: 0.4428 - val_loss: 0.3429 - val_recall: 0.3937\n",
            "Epoch 124/300\n",
            "73/73 [==============================] - 0s 2ms/step - loss: 0.3413 - recall: 0.4340 - val_loss: 0.3409 - val_recall: 0.4567\n",
            "Epoch 125/300\n",
            "73/73 [==============================] - 0s 3ms/step - loss: 0.3398 - recall: 0.4313 - val_loss: 0.3428 - val_recall: 0.4252\n",
            "Epoch 126/300\n",
            "73/73 [==============================] - 0s 2ms/step - loss: 0.3406 - recall: 0.4408 - val_loss: 0.3412 - val_recall: 0.4213\n",
            "Epoch 127/300\n",
            "73/73 [==============================] - 0s 2ms/step - loss: 0.3404 - recall: 0.4414 - val_loss: 0.3398 - val_recall: 0.4488\n",
            "Epoch 128/300\n",
            "73/73 [==============================] - 0s 2ms/step - loss: 0.3395 - recall: 0.4462 - val_loss: 0.3407 - val_recall: 0.4094\n",
            "Epoch 129/300\n",
            "73/73 [==============================] - 0s 2ms/step - loss: 0.3398 - recall: 0.4414 - val_loss: 0.3410 - val_recall: 0.4528\n",
            "Epoch 130/300\n",
            "73/73 [==============================] - 0s 2ms/step - loss: 0.3384 - recall: 0.4374 - val_loss: 0.3454 - val_recall: 0.3898\n",
            "Epoch 131/300\n",
            "73/73 [==============================] - 0s 2ms/step - loss: 0.3393 - recall: 0.4360 - val_loss: 0.3425 - val_recall: 0.4134\n",
            "Epoch 132/300\n",
            "73/73 [==============================] - 0s 2ms/step - loss: 0.3392 - recall: 0.4381 - val_loss: 0.3419 - val_recall: 0.4331\n",
            "Epoch 133/300\n",
            "73/73 [==============================] - 0s 2ms/step - loss: 0.3386 - recall: 0.4401 - val_loss: 0.3429 - val_recall: 0.4016\n",
            "Epoch 134/300\n",
            "73/73 [==============================] - 0s 2ms/step - loss: 0.3402 - recall: 0.4387 - val_loss: 0.3450 - val_recall: 0.3858\n",
            "Epoch 135/300\n",
            "73/73 [==============================] - 0s 2ms/step - loss: 0.3392 - recall: 0.4394 - val_loss: 0.3434 - val_recall: 0.4409\n",
            "Epoch 136/300\n",
            "73/73 [==============================] - 0s 2ms/step - loss: 0.3391 - recall: 0.4421 - val_loss: 0.3435 - val_recall: 0.4134\n",
            "Epoch 137/300\n",
            "73/73 [==============================] - 0s 2ms/step - loss: 0.3391 - recall: 0.4421 - val_loss: 0.3406 - val_recall: 0.4291\n",
            "Epoch 138/300\n",
            "73/73 [==============================] - 0s 2ms/step - loss: 0.3388 - recall: 0.4448 - val_loss: 0.3440 - val_recall: 0.3937\n",
            "Epoch 139/300\n",
            "73/73 [==============================] - 0s 2ms/step - loss: 0.3403 - recall: 0.4469 - val_loss: 0.3400 - val_recall: 0.4291\n",
            "Epoch 140/300\n",
            "73/73 [==============================] - 0s 2ms/step - loss: 0.3382 - recall: 0.4529 - val_loss: 0.3395 - val_recall: 0.4331\n",
            "Epoch 141/300\n",
            "73/73 [==============================] - 0s 2ms/step - loss: 0.3383 - recall: 0.4448 - val_loss: 0.3414 - val_recall: 0.4331\n",
            "Epoch 142/300\n",
            "73/73 [==============================] - 0s 2ms/step - loss: 0.3388 - recall: 0.4462 - val_loss: 0.3425 - val_recall: 0.4331\n",
            "Epoch 143/300\n",
            "73/73 [==============================] - 0s 2ms/step - loss: 0.3389 - recall: 0.4475 - val_loss: 0.3424 - val_recall: 0.4094\n",
            "Epoch 144/300\n",
            "73/73 [==============================] - 0s 2ms/step - loss: 0.3393 - recall: 0.4387 - val_loss: 0.3444 - val_recall: 0.4685\n",
            "Epoch 145/300\n",
            "73/73 [==============================] - 0s 2ms/step - loss: 0.3393 - recall: 0.4421 - val_loss: 0.3413 - val_recall: 0.4252\n",
            "Epoch 146/300\n",
            "73/73 [==============================] - 0s 2ms/step - loss: 0.3387 - recall: 0.4489 - val_loss: 0.3451 - val_recall: 0.3937\n",
            "Epoch 147/300\n",
            "73/73 [==============================] - 0s 2ms/step - loss: 0.3391 - recall: 0.4509 - val_loss: 0.3437 - val_recall: 0.3976\n",
            "Epoch 148/300\n",
            "73/73 [==============================] - 0s 2ms/step - loss: 0.3377 - recall: 0.4502 - val_loss: 0.3431 - val_recall: 0.4134\n",
            "Epoch 149/300\n",
            "73/73 [==============================] - 0s 2ms/step - loss: 0.3387 - recall: 0.4441 - val_loss: 0.3417 - val_recall: 0.4449\n",
            "Epoch 150/300\n",
            "73/73 [==============================] - 0s 2ms/step - loss: 0.3382 - recall: 0.4435 - val_loss: 0.3444 - val_recall: 0.3937\n",
            "Epoch 151/300\n",
            "73/73 [==============================] - 0s 2ms/step - loss: 0.3382 - recall: 0.4414 - val_loss: 0.3429 - val_recall: 0.4094\n",
            "Epoch 152/300\n",
            "73/73 [==============================] - 0s 2ms/step - loss: 0.3385 - recall: 0.4428 - val_loss: 0.3473 - val_recall: 0.4685\n",
            "Epoch 153/300\n",
            "73/73 [==============================] - 0s 3ms/step - loss: 0.3384 - recall: 0.4496 - val_loss: 0.3441 - val_recall: 0.4724\n",
            "Epoch 154/300\n",
            "73/73 [==============================] - 0s 2ms/step - loss: 0.3388 - recall: 0.4469 - val_loss: 0.3424 - val_recall: 0.4291\n",
            "Epoch 155/300\n",
            "73/73 [==============================] - 0s 3ms/step - loss: 0.3384 - recall: 0.4455 - val_loss: 0.3418 - val_recall: 0.4213\n",
            "Epoch 156/300\n",
            "73/73 [==============================] - 0s 2ms/step - loss: 0.3376 - recall: 0.4469 - val_loss: 0.3441 - val_recall: 0.3937\n",
            "Epoch 157/300\n",
            "73/73 [==============================] - 0s 2ms/step - loss: 0.3389 - recall: 0.4441 - val_loss: 0.3424 - val_recall: 0.4606\n",
            "Epoch 158/300\n",
            "73/73 [==============================] - 0s 2ms/step - loss: 0.3390 - recall: 0.4428 - val_loss: 0.3420 - val_recall: 0.4213\n",
            "Epoch 159/300\n",
            "73/73 [==============================] - 0s 2ms/step - loss: 0.3384 - recall: 0.4394 - val_loss: 0.3451 - val_recall: 0.4449\n",
            "Epoch 160/300\n",
            "73/73 [==============================] - 0s 2ms/step - loss: 0.3386 - recall: 0.4523 - val_loss: 0.3428 - val_recall: 0.4173\n",
            "Epoch 161/300\n",
            "73/73 [==============================] - 0s 2ms/step - loss: 0.3395 - recall: 0.4496 - val_loss: 0.3402 - val_recall: 0.4488\n",
            "Epoch 162/300\n",
            "73/73 [==============================] - 0s 2ms/step - loss: 0.3371 - recall: 0.4489 - val_loss: 0.3418 - val_recall: 0.4528\n",
            "Epoch 163/300\n",
            "73/73 [==============================] - 0s 2ms/step - loss: 0.3386 - recall: 0.4462 - val_loss: 0.3452 - val_recall: 0.3819\n",
            "Epoch 164/300\n",
            "73/73 [==============================] - 0s 3ms/step - loss: 0.3381 - recall: 0.4387 - val_loss: 0.3422 - val_recall: 0.3976\n",
            "Epoch 165/300\n",
            "73/73 [==============================] - 0s 2ms/step - loss: 0.3374 - recall: 0.4496 - val_loss: 0.3500 - val_recall: 0.3504\n",
            "Epoch 166/300\n",
            "73/73 [==============================] - 0s 2ms/step - loss: 0.3407 - recall: 0.4421 - val_loss: 0.3489 - val_recall: 0.4882\n",
            "Epoch 167/300\n",
            "73/73 [==============================] - 0s 2ms/step - loss: 0.3381 - recall: 0.4475 - val_loss: 0.3411 - val_recall: 0.4213\n",
            "Epoch 168/300\n",
            "73/73 [==============================] - 0s 2ms/step - loss: 0.3375 - recall: 0.4469 - val_loss: 0.3422 - val_recall: 0.4252\n",
            "Epoch 169/300\n",
            "73/73 [==============================] - 0s 2ms/step - loss: 0.3386 - recall: 0.4529 - val_loss: 0.3411 - val_recall: 0.4094\n",
            "Epoch 170/300\n",
            "73/73 [==============================] - 0s 2ms/step - loss: 0.3385 - recall: 0.4408 - val_loss: 0.3415 - val_recall: 0.4528\n",
            "Epoch 171/300\n",
            "73/73 [==============================] - 0s 2ms/step - loss: 0.3379 - recall: 0.4516 - val_loss: 0.3407 - val_recall: 0.4370\n",
            "Epoch 172/300\n",
            "73/73 [==============================] - 0s 2ms/step - loss: 0.3383 - recall: 0.4502 - val_loss: 0.3410 - val_recall: 0.4370\n",
            "Epoch 173/300\n",
            "73/73 [==============================] - 0s 2ms/step - loss: 0.3386 - recall: 0.4448 - val_loss: 0.3432 - val_recall: 0.3976\n",
            "Epoch 174/300\n",
            "73/73 [==============================] - 0s 2ms/step - loss: 0.3380 - recall: 0.4475 - val_loss: 0.3404 - val_recall: 0.4213\n",
            "Epoch 175/300\n",
            "73/73 [==============================] - 0s 3ms/step - loss: 0.3431 - recall: 0.4475 - val_loss: 0.3400 - val_recall: 0.4291\n",
            "Epoch 176/300\n",
            "73/73 [==============================] - 0s 2ms/step - loss: 0.3389 - recall: 0.4374 - val_loss: 0.3409 - val_recall: 0.4370\n",
            "Epoch 177/300\n",
            "73/73 [==============================] - 0s 2ms/step - loss: 0.3388 - recall: 0.4448 - val_loss: 0.3409 - val_recall: 0.4409\n",
            "Epoch 178/300\n",
            "73/73 [==============================] - 0s 2ms/step - loss: 0.3386 - recall: 0.4496 - val_loss: 0.3433 - val_recall: 0.4331\n",
            "Epoch 179/300\n",
            "73/73 [==============================] - 0s 2ms/step - loss: 0.3385 - recall: 0.4475 - val_loss: 0.3435 - val_recall: 0.4016\n",
            "Epoch 180/300\n",
            "73/73 [==============================] - 0s 2ms/step - loss: 0.3393 - recall: 0.4502 - val_loss: 0.3461 - val_recall: 0.3701\n",
            "Epoch 181/300\n",
            "73/73 [==============================] - 0s 2ms/step - loss: 0.3384 - recall: 0.4516 - val_loss: 0.3405 - val_recall: 0.4213\n",
            "Epoch 182/300\n",
            "73/73 [==============================] - 0s 2ms/step - loss: 0.3412 - recall: 0.4435 - val_loss: 0.3470 - val_recall: 0.3701\n",
            "Epoch 183/300\n",
            "73/73 [==============================] - 0s 2ms/step - loss: 0.3387 - recall: 0.4455 - val_loss: 0.3407 - val_recall: 0.4213\n",
            "Epoch 184/300\n",
            "73/73 [==============================] - 0s 2ms/step - loss: 0.3381 - recall: 0.4489 - val_loss: 0.3416 - val_recall: 0.3976\n",
            "Epoch 185/300\n",
            "73/73 [==============================] - 0s 2ms/step - loss: 0.3379 - recall: 0.4516 - val_loss: 0.3411 - val_recall: 0.4370\n",
            "Epoch 186/300\n",
            "73/73 [==============================] - 0s 3ms/step - loss: 0.3376 - recall: 0.4516 - val_loss: 0.3495 - val_recall: 0.4803\n",
            "Epoch 187/300\n",
            "73/73 [==============================] - 0s 2ms/step - loss: 0.3387 - recall: 0.4536 - val_loss: 0.3471 - val_recall: 0.3819\n",
            "Epoch 188/300\n",
            "73/73 [==============================] - 0s 2ms/step - loss: 0.3376 - recall: 0.4550 - val_loss: 0.3461 - val_recall: 0.3740\n",
            "Epoch 189/300\n",
            "73/73 [==============================] - 0s 2ms/step - loss: 0.3374 - recall: 0.4482 - val_loss: 0.3411 - val_recall: 0.4291\n",
            "Epoch 190/300\n",
            "73/73 [==============================] - 0s 2ms/step - loss: 0.3369 - recall: 0.4509 - val_loss: 0.3468 - val_recall: 0.3780\n",
            "Epoch 191/300\n",
            "73/73 [==============================] - 0s 2ms/step - loss: 0.3376 - recall: 0.4408 - val_loss: 0.3453 - val_recall: 0.4724\n",
            "Epoch 192/300\n",
            "73/73 [==============================] - 0s 2ms/step - loss: 0.3378 - recall: 0.4516 - val_loss: 0.3415 - val_recall: 0.4134\n",
            "Epoch 193/300\n",
            "73/73 [==============================] - 0s 2ms/step - loss: 0.3369 - recall: 0.4421 - val_loss: 0.3464 - val_recall: 0.4606\n",
            "Epoch 194/300\n",
            "73/73 [==============================] - 0s 2ms/step - loss: 0.3385 - recall: 0.4509 - val_loss: 0.3427 - val_recall: 0.4213\n",
            "Epoch 195/300\n",
            "73/73 [==============================] - 0s 2ms/step - loss: 0.3378 - recall: 0.4523 - val_loss: 0.3394 - val_recall: 0.4331\n",
            "Epoch 196/300\n",
            "73/73 [==============================] - 0s 2ms/step - loss: 0.3374 - recall: 0.4509 - val_loss: 0.3408 - val_recall: 0.4291\n",
            "Epoch 197/300\n",
            "73/73 [==============================] - 0s 2ms/step - loss: 0.3370 - recall: 0.4523 - val_loss: 0.3395 - val_recall: 0.4409\n",
            "Epoch 198/300\n",
            "73/73 [==============================] - 0s 3ms/step - loss: 0.3366 - recall: 0.4469 - val_loss: 0.3438 - val_recall: 0.4449\n",
            "Epoch 199/300\n",
            "73/73 [==============================] - 0s 2ms/step - loss: 0.3375 - recall: 0.4469 - val_loss: 0.3396 - val_recall: 0.4252\n",
            "Epoch 200/300\n",
            "73/73 [==============================] - 0s 2ms/step - loss: 0.3374 - recall: 0.4509 - val_loss: 0.3433 - val_recall: 0.3937\n",
            "Epoch 201/300\n",
            "73/73 [==============================] - 0s 2ms/step - loss: 0.3387 - recall: 0.4496 - val_loss: 0.3435 - val_recall: 0.4016\n",
            "Epoch 202/300\n",
            "73/73 [==============================] - 0s 2ms/step - loss: 0.3377 - recall: 0.4489 - val_loss: 0.3439 - val_recall: 0.3780\n",
            "Epoch 203/300\n",
            "73/73 [==============================] - 0s 2ms/step - loss: 0.3371 - recall: 0.4435 - val_loss: 0.3443 - val_recall: 0.3976\n",
            "Epoch 204/300\n",
            "73/73 [==============================] - 0s 2ms/step - loss: 0.3370 - recall: 0.4570 - val_loss: 0.3409 - val_recall: 0.4252\n",
            "Epoch 205/300\n",
            "73/73 [==============================] - 0s 2ms/step - loss: 0.3359 - recall: 0.4557 - val_loss: 0.3417 - val_recall: 0.4213\n",
            "Epoch 206/300\n",
            "73/73 [==============================] - 0s 2ms/step - loss: 0.3377 - recall: 0.4516 - val_loss: 0.3430 - val_recall: 0.4409\n",
            "Epoch 207/300\n",
            "73/73 [==============================] - 0s 2ms/step - loss: 0.3383 - recall: 0.4509 - val_loss: 0.3431 - val_recall: 0.3976\n",
            "Epoch 208/300\n",
            "73/73 [==============================] - 0s 3ms/step - loss: 0.3377 - recall: 0.4462 - val_loss: 0.3422 - val_recall: 0.3898\n",
            "Epoch 209/300\n",
            "73/73 [==============================] - 0s 2ms/step - loss: 0.3381 - recall: 0.4448 - val_loss: 0.3407 - val_recall: 0.4331\n",
            "Epoch 210/300\n",
            "73/73 [==============================] - 0s 2ms/step - loss: 0.3367 - recall: 0.4509 - val_loss: 0.3396 - val_recall: 0.4252\n",
            "Epoch 211/300\n",
            "73/73 [==============================] - 0s 2ms/step - loss: 0.3369 - recall: 0.4529 - val_loss: 0.3433 - val_recall: 0.3937\n",
            "Epoch 212/300\n",
            "73/73 [==============================] - 0s 3ms/step - loss: 0.3372 - recall: 0.4516 - val_loss: 0.3405 - val_recall: 0.4134\n",
            "Epoch 213/300\n",
            "73/73 [==============================] - 0s 3ms/step - loss: 0.3383 - recall: 0.4469 - val_loss: 0.3422 - val_recall: 0.4409\n",
            "Epoch 214/300\n",
            "73/73 [==============================] - 0s 2ms/step - loss: 0.3371 - recall: 0.4475 - val_loss: 0.3457 - val_recall: 0.3661\n",
            "Epoch 215/300\n",
            "73/73 [==============================] - 0s 2ms/step - loss: 0.3377 - recall: 0.4394 - val_loss: 0.3404 - val_recall: 0.4213\n",
            "Epoch 216/300\n",
            "73/73 [==============================] - 0s 3ms/step - loss: 0.3383 - recall: 0.4469 - val_loss: 0.3419 - val_recall: 0.4173\n",
            "Epoch 217/300\n",
            "73/73 [==============================] - 0s 2ms/step - loss: 0.3359 - recall: 0.4543 - val_loss: 0.3415 - val_recall: 0.4213\n",
            "Epoch 218/300\n",
            "73/73 [==============================] - 0s 2ms/step - loss: 0.3373 - recall: 0.4523 - val_loss: 0.3436 - val_recall: 0.3898\n",
            "Epoch 219/300\n",
            "73/73 [==============================] - 0s 2ms/step - loss: 0.3375 - recall: 0.4529 - val_loss: 0.3445 - val_recall: 0.4646\n",
            "Epoch 220/300\n",
            "73/73 [==============================] - 0s 2ms/step - loss: 0.3394 - recall: 0.4516 - val_loss: 0.3412 - val_recall: 0.4449\n",
            "Epoch 221/300\n",
            "73/73 [==============================] - 0s 2ms/step - loss: 0.3372 - recall: 0.4557 - val_loss: 0.3411 - val_recall: 0.4213\n",
            "Epoch 222/300\n",
            "73/73 [==============================] - 0s 2ms/step - loss: 0.3379 - recall: 0.4516 - val_loss: 0.3490 - val_recall: 0.4803\n",
            "Epoch 223/300\n",
            "73/73 [==============================] - 0s 2ms/step - loss: 0.3379 - recall: 0.4563 - val_loss: 0.3428 - val_recall: 0.3819\n",
            "Epoch 224/300\n",
            "73/73 [==============================] - 0s 3ms/step - loss: 0.3368 - recall: 0.4435 - val_loss: 0.3396 - val_recall: 0.4291\n",
            "Epoch 225/300\n",
            "73/73 [==============================] - 0s 2ms/step - loss: 0.3372 - recall: 0.4557 - val_loss: 0.3395 - val_recall: 0.4213\n",
            "Epoch 226/300\n",
            "73/73 [==============================] - 0s 2ms/step - loss: 0.3371 - recall: 0.4496 - val_loss: 0.3449 - val_recall: 0.3740\n",
            "Epoch 227/300\n",
            "73/73 [==============================] - 0s 3ms/step - loss: 0.3371 - recall: 0.4489 - val_loss: 0.3423 - val_recall: 0.4449\n",
            "Epoch 228/300\n",
            "73/73 [==============================] - 0s 2ms/step - loss: 0.3368 - recall: 0.4435 - val_loss: 0.3400 - val_recall: 0.4331\n",
            "Epoch 229/300\n",
            "73/73 [==============================] - 0s 2ms/step - loss: 0.3374 - recall: 0.4509 - val_loss: 0.3396 - val_recall: 0.4173\n",
            "Epoch 230/300\n",
            "73/73 [==============================] - 0s 2ms/step - loss: 0.3364 - recall: 0.4455 - val_loss: 0.3403 - val_recall: 0.4213\n",
            "Epoch 231/300\n",
            "73/73 [==============================] - 0s 2ms/step - loss: 0.3372 - recall: 0.4502 - val_loss: 0.3424 - val_recall: 0.4213\n",
            "Epoch 232/300\n",
            "73/73 [==============================] - 0s 2ms/step - loss: 0.3370 - recall: 0.4340 - val_loss: 0.3429 - val_recall: 0.4409\n",
            "Epoch 233/300\n",
            "73/73 [==============================] - 0s 2ms/step - loss: 0.3365 - recall: 0.4543 - val_loss: 0.3422 - val_recall: 0.3976\n",
            "Epoch 234/300\n",
            "73/73 [==============================] - 0s 2ms/step - loss: 0.3397 - recall: 0.4536 - val_loss: 0.3432 - val_recall: 0.3819\n",
            "Epoch 235/300\n",
            "73/73 [==============================] - 0s 2ms/step - loss: 0.3369 - recall: 0.4462 - val_loss: 0.3422 - val_recall: 0.3898\n",
            "Epoch 236/300\n",
            "73/73 [==============================] - 0s 2ms/step - loss: 0.3369 - recall: 0.4360 - val_loss: 0.3405 - val_recall: 0.4370\n",
            "Epoch 237/300\n",
            "73/73 [==============================] - 0s 2ms/step - loss: 0.3364 - recall: 0.4428 - val_loss: 0.3404 - val_recall: 0.4134\n",
            "Epoch 238/300\n",
            "73/73 [==============================] - 0s 3ms/step - loss: 0.3359 - recall: 0.4448 - val_loss: 0.3419 - val_recall: 0.4134\n",
            "Epoch 239/300\n",
            "73/73 [==============================] - 0s 2ms/step - loss: 0.3354 - recall: 0.4570 - val_loss: 0.3426 - val_recall: 0.4291\n",
            "Epoch 240/300\n",
            "73/73 [==============================] - 0s 2ms/step - loss: 0.3365 - recall: 0.4536 - val_loss: 0.3438 - val_recall: 0.3780\n",
            "Epoch 241/300\n",
            "73/73 [==============================] - 0s 2ms/step - loss: 0.3354 - recall: 0.4475 - val_loss: 0.3401 - val_recall: 0.4370\n",
            "Epoch 242/300\n",
            "73/73 [==============================] - 0s 2ms/step - loss: 0.3362 - recall: 0.4435 - val_loss: 0.3399 - val_recall: 0.4291\n",
            "Epoch 243/300\n",
            "73/73 [==============================] - 0s 2ms/step - loss: 0.3356 - recall: 0.4475 - val_loss: 0.3405 - val_recall: 0.4213\n",
            "Epoch 244/300\n",
            "73/73 [==============================] - 0s 2ms/step - loss: 0.3385 - recall: 0.4428 - val_loss: 0.3404 - val_recall: 0.4016\n",
            "Epoch 245/300\n",
            "73/73 [==============================] - 0s 2ms/step - loss: 0.3365 - recall: 0.4536 - val_loss: 0.3433 - val_recall: 0.4331\n",
            "Epoch 246/300\n",
            "73/73 [==============================] - 0s 3ms/step - loss: 0.3366 - recall: 0.4475 - val_loss: 0.3393 - val_recall: 0.4252\n",
            "Epoch 247/300\n",
            "73/73 [==============================] - 0s 2ms/step - loss: 0.3358 - recall: 0.4482 - val_loss: 0.3401 - val_recall: 0.4370\n",
            "Epoch 248/300\n",
            "73/73 [==============================] - 0s 2ms/step - loss: 0.3356 - recall: 0.4529 - val_loss: 0.3413 - val_recall: 0.3976\n",
            "Epoch 249/300\n",
            "73/73 [==============================] - 0s 3ms/step - loss: 0.3388 - recall: 0.4408 - val_loss: 0.3393 - val_recall: 0.4252\n",
            "Epoch 250/300\n",
            "73/73 [==============================] - 0s 2ms/step - loss: 0.3361 - recall: 0.4590 - val_loss: 0.3427 - val_recall: 0.3780\n",
            "Epoch 251/300\n",
            "73/73 [==============================] - 0s 3ms/step - loss: 0.3365 - recall: 0.4570 - val_loss: 0.3405 - val_recall: 0.4252\n",
            "Epoch 252/300\n",
            "73/73 [==============================] - 0s 2ms/step - loss: 0.3378 - recall: 0.4482 - val_loss: 0.3389 - val_recall: 0.4409\n",
            "Epoch 253/300\n",
            "73/73 [==============================] - 0s 2ms/step - loss: 0.3366 - recall: 0.4550 - val_loss: 0.3406 - val_recall: 0.4331\n",
            "Epoch 254/300\n",
            "73/73 [==============================] - 0s 2ms/step - loss: 0.3370 - recall: 0.4469 - val_loss: 0.3414 - val_recall: 0.4252\n",
            "Epoch 255/300\n",
            "73/73 [==============================] - 0s 2ms/step - loss: 0.3365 - recall: 0.4536 - val_loss: 0.3426 - val_recall: 0.3780\n",
            "Epoch 256/300\n",
            "73/73 [==============================] - 0s 2ms/step - loss: 0.3364 - recall: 0.4435 - val_loss: 0.3395 - val_recall: 0.4173\n",
            "Epoch 257/300\n",
            "73/73 [==============================] - 0s 3ms/step - loss: 0.3363 - recall: 0.4543 - val_loss: 0.3400 - val_recall: 0.4213\n",
            "Epoch 258/300\n",
            "73/73 [==============================] - 0s 2ms/step - loss: 0.3357 - recall: 0.4563 - val_loss: 0.3436 - val_recall: 0.3898\n",
            "Epoch 259/300\n",
            "73/73 [==============================] - 0s 2ms/step - loss: 0.3365 - recall: 0.4611 - val_loss: 0.3412 - val_recall: 0.4016\n",
            "Epoch 260/300\n",
            "73/73 [==============================] - 0s 2ms/step - loss: 0.3358 - recall: 0.4502 - val_loss: 0.3396 - val_recall: 0.4291\n",
            "Epoch 261/300\n",
            "73/73 [==============================] - 0s 2ms/step - loss: 0.3362 - recall: 0.4563 - val_loss: 0.3396 - val_recall: 0.4094\n",
            "Epoch 262/300\n",
            "73/73 [==============================] - 0s 2ms/step - loss: 0.3352 - recall: 0.4489 - val_loss: 0.3411 - val_recall: 0.4331\n",
            "Epoch 263/300\n",
            "73/73 [==============================] - 0s 2ms/step - loss: 0.3365 - recall: 0.4502 - val_loss: 0.3395 - val_recall: 0.4331\n",
            "Epoch 264/300\n",
            "73/73 [==============================] - 0s 2ms/step - loss: 0.3354 - recall: 0.4489 - val_loss: 0.3411 - val_recall: 0.4331\n",
            "Epoch 265/300\n",
            "73/73 [==============================] - 0s 2ms/step - loss: 0.3350 - recall: 0.4529 - val_loss: 0.3386 - val_recall: 0.4449\n",
            "Epoch 266/300\n",
            "73/73 [==============================] - 0s 3ms/step - loss: 0.3364 - recall: 0.4435 - val_loss: 0.3386 - val_recall: 0.4213\n",
            "Epoch 267/300\n",
            "73/73 [==============================] - 0s 3ms/step - loss: 0.3353 - recall: 0.4557 - val_loss: 0.3398 - val_recall: 0.4134\n",
            "Epoch 268/300\n",
            "73/73 [==============================] - 0s 3ms/step - loss: 0.3348 - recall: 0.4529 - val_loss: 0.3406 - val_recall: 0.4094\n",
            "Epoch 269/300\n",
            "73/73 [==============================] - 0s 2ms/step - loss: 0.3362 - recall: 0.4441 - val_loss: 0.3414 - val_recall: 0.4134\n",
            "Epoch 270/300\n",
            "73/73 [==============================] - 0s 3ms/step - loss: 0.3350 - recall: 0.4611 - val_loss: 0.3407 - val_recall: 0.4252\n",
            "Epoch 271/300\n",
            "73/73 [==============================] - 0s 3ms/step - loss: 0.3366 - recall: 0.4523 - val_loss: 0.3389 - val_recall: 0.4370\n",
            "Epoch 272/300\n",
            "73/73 [==============================] - 0s 3ms/step - loss: 0.3356 - recall: 0.4624 - val_loss: 0.3414 - val_recall: 0.3858\n",
            "Epoch 273/300\n",
            "73/73 [==============================] - 0s 3ms/step - loss: 0.3361 - recall: 0.4455 - val_loss: 0.3426 - val_recall: 0.4055\n",
            "Epoch 274/300\n",
            "73/73 [==============================] - 0s 2ms/step - loss: 0.3371 - recall: 0.4509 - val_loss: 0.3396 - val_recall: 0.4291\n",
            "Epoch 275/300\n",
            "73/73 [==============================] - 0s 3ms/step - loss: 0.3355 - recall: 0.4529 - val_loss: 0.3391 - val_recall: 0.4331\n",
            "Epoch 276/300\n",
            "73/73 [==============================] - 0s 3ms/step - loss: 0.3359 - recall: 0.4516 - val_loss: 0.3397 - val_recall: 0.4252\n",
            "Epoch 277/300\n",
            "73/73 [==============================] - 0s 3ms/step - loss: 0.3360 - recall: 0.4523 - val_loss: 0.3418 - val_recall: 0.3976\n",
            "Epoch 278/300\n",
            "73/73 [==============================] - 0s 3ms/step - loss: 0.3355 - recall: 0.4441 - val_loss: 0.3422 - val_recall: 0.4016\n",
            "Epoch 279/300\n",
            "73/73 [==============================] - 0s 3ms/step - loss: 0.3359 - recall: 0.4482 - val_loss: 0.3391 - val_recall: 0.4291\n",
            "Epoch 280/300\n",
            "73/73 [==============================] - 0s 2ms/step - loss: 0.3358 - recall: 0.4523 - val_loss: 0.3422 - val_recall: 0.4291\n",
            "Epoch 281/300\n",
            "73/73 [==============================] - 0s 2ms/step - loss: 0.3350 - recall: 0.4550 - val_loss: 0.3393 - val_recall: 0.4055\n",
            "Epoch 282/300\n",
            "73/73 [==============================] - 0s 3ms/step - loss: 0.3350 - recall: 0.4496 - val_loss: 0.3384 - val_recall: 0.4331\n",
            "Epoch 283/300\n",
            "73/73 [==============================] - 0s 3ms/step - loss: 0.3357 - recall: 0.4509 - val_loss: 0.3484 - val_recall: 0.4764\n",
            "Epoch 284/300\n",
            "73/73 [==============================] - 0s 2ms/step - loss: 0.3373 - recall: 0.4577 - val_loss: 0.3408 - val_recall: 0.3898\n",
            "Epoch 285/300\n",
            "73/73 [==============================] - 0s 2ms/step - loss: 0.3350 - recall: 0.4489 - val_loss: 0.3396 - val_recall: 0.4055\n",
            "Epoch 286/300\n",
            "73/73 [==============================] - 0s 3ms/step - loss: 0.3353 - recall: 0.4482 - val_loss: 0.3440 - val_recall: 0.4567\n",
            "Epoch 287/300\n",
            "73/73 [==============================] - 0s 2ms/step - loss: 0.3361 - recall: 0.4557 - val_loss: 0.3413 - val_recall: 0.4016\n",
            "Epoch 288/300\n",
            "73/73 [==============================] - 0s 2ms/step - loss: 0.3349 - recall: 0.4496 - val_loss: 0.3387 - val_recall: 0.4449\n",
            "Epoch 289/300\n",
            "73/73 [==============================] - 0s 3ms/step - loss: 0.3350 - recall: 0.4502 - val_loss: 0.3453 - val_recall: 0.4724\n",
            "Epoch 290/300\n",
            "73/73 [==============================] - 0s 2ms/step - loss: 0.3356 - recall: 0.4563 - val_loss: 0.3395 - val_recall: 0.4449\n",
            "Epoch 291/300\n",
            "73/73 [==============================] - 0s 2ms/step - loss: 0.3350 - recall: 0.4462 - val_loss: 0.3427 - val_recall: 0.4567\n",
            "Epoch 292/300\n",
            "73/73 [==============================] - 0s 2ms/step - loss: 0.3359 - recall: 0.4570 - val_loss: 0.3386 - val_recall: 0.4331\n",
            "Epoch 293/300\n",
            "73/73 [==============================] - 0s 3ms/step - loss: 0.3355 - recall: 0.4489 - val_loss: 0.3385 - val_recall: 0.4291\n",
            "Epoch 294/300\n",
            "73/73 [==============================] - 0s 3ms/step - loss: 0.3390 - recall: 0.4455 - val_loss: 0.3404 - val_recall: 0.4488\n",
            "Epoch 295/300\n",
            "73/73 [==============================] - 0s 2ms/step - loss: 0.3358 - recall: 0.4590 - val_loss: 0.3420 - val_recall: 0.4213\n",
            "Epoch 296/300\n",
            "73/73 [==============================] - 0s 3ms/step - loss: 0.3349 - recall: 0.4516 - val_loss: 0.3410 - val_recall: 0.4606\n",
            "Epoch 297/300\n",
            "73/73 [==============================] - 0s 3ms/step - loss: 0.3363 - recall: 0.4502 - val_loss: 0.3424 - val_recall: 0.4646\n",
            "Epoch 298/300\n",
            "73/73 [==============================] - 0s 2ms/step - loss: 0.3360 - recall: 0.4543 - val_loss: 0.3418 - val_recall: 0.4606\n",
            "Epoch 299/300\n",
            "73/73 [==============================] - 0s 2ms/step - loss: 0.3347 - recall: 0.4584 - val_loss: 0.3435 - val_recall: 0.3701\n",
            "Epoch 300/300\n",
            "73/73 [==============================] - 0s 2ms/step - loss: 0.3355 - recall: 0.4469 - val_loss: 0.3407 - val_recall: 0.4449\n"
          ]
        },
        {
          "output_type": "execute_result",
          "data": {
            "text/plain": [
              "<keras.callbacks.History at 0x7f5b9513ea50>"
            ]
          },
          "metadata": {},
          "execution_count": 48
        }
      ],
      "source": [
        "model.fit(x = X_train, y = y_train, validation_split = 0.15, batch_size = 100, epochs = 300, verbose=1)  "
      ]
    },
    {
      "cell_type": "code",
      "execution_count": 48,
      "metadata": {
        "id": "WuX8RRsm13bS"
      },
      "outputs": [],
      "source": [
        ""
      ]
    },
    {
      "cell_type": "code",
      "execution_count": 49,
      "metadata": {
        "id": "lb-HO7E3uWYP",
        "outputId": "1b2ce754-e36c-4d47-9f58-b307894cfb1f",
        "colab": {
          "base_uri": "https://localhost:8080/"
        }
      },
      "outputs": [
        {
          "output_type": "stream",
          "name": "stdout",
          "text": [
            "Model: \"sequential\"\n",
            "_________________________________________________________________\n",
            " Layer (type)                Output Shape              Param #   \n",
            "=================================================================\n",
            " dense (Dense)               (None, 20)                220       \n",
            "                                                                 \n",
            " dense_1 (Dense)             (None, 10)                210       \n",
            "                                                                 \n",
            " dense_2 (Dense)             (None, 5)                 55        \n",
            "                                                                 \n",
            " dense_3 (Dense)             (None, 1)                 6         \n",
            "                                                                 \n",
            "=================================================================\n",
            "Total params: 491\n",
            "Trainable params: 491\n",
            "Non-trainable params: 0\n",
            "_________________________________________________________________\n"
          ]
        }
      ],
      "source": [
        "model.summary()"
      ]
    },
    {
      "cell_type": "markdown",
      "source": [
        ""
      ],
      "metadata": {
        "id": "_MbYTDzqseU-"
      }
    },
    {
      "cell_type": "markdown",
      "metadata": {
        "id": "990pBGsr6QO5"
      },
      "source": [
        "### Evaluate The Model\n",
        "\n",
        "- Plot the model history to observe the changing of metrics\n",
        "- Make prediction to see \"confusion matrix\" and \"classification report\"\n",
        "- Check ROC (Receiver Operating Curve) and AUC (Area Under Curve) for the model"
      ]
    },
    {
      "cell_type": "code",
      "execution_count": 50,
      "metadata": {
        "id": "vQIbjGQduQpQ",
        "outputId": "186fbfa4-2c90-43b7-9419-a4924b7c1b88",
        "colab": {
          "base_uri": "https://localhost:8080/",
          "height": 206
        }
      },
      "outputs": [
        {
          "output_type": "execute_result",
          "data": {
            "text/plain": [
              "   loss  recall  val_loss  val_recall\n",
              "0 0.636   0.129     0.547       0.000\n",
              "1 0.517   0.000     0.498       0.000\n",
              "2 0.499   0.000     0.487       0.000\n",
              "3 0.486   0.000     0.474       0.000\n",
              "4 0.468   0.007     0.459       0.035"
            ],
            "text/html": [
              "\n",
              "  <div id=\"df-dad6bb0d-f83d-426b-8ffe-447673e6b933\">\n",
              "    <div class=\"colab-df-container\">\n",
              "      <div>\n",
              "<style scoped>\n",
              "    .dataframe tbody tr th:only-of-type {\n",
              "        vertical-align: middle;\n",
              "    }\n",
              "\n",
              "    .dataframe tbody tr th {\n",
              "        vertical-align: top;\n",
              "    }\n",
              "\n",
              "    .dataframe thead th {\n",
              "        text-align: right;\n",
              "    }\n",
              "</style>\n",
              "<table border=\"1\" class=\"dataframe\">\n",
              "  <thead>\n",
              "    <tr style=\"text-align: right;\">\n",
              "      <th></th>\n",
              "      <th>loss</th>\n",
              "      <th>recall</th>\n",
              "      <th>val_loss</th>\n",
              "      <th>val_recall</th>\n",
              "    </tr>\n",
              "  </thead>\n",
              "  <tbody>\n",
              "    <tr>\n",
              "      <th>0</th>\n",
              "      <td>0.636</td>\n",
              "      <td>0.129</td>\n",
              "      <td>0.547</td>\n",
              "      <td>0.000</td>\n",
              "    </tr>\n",
              "    <tr>\n",
              "      <th>1</th>\n",
              "      <td>0.517</td>\n",
              "      <td>0.000</td>\n",
              "      <td>0.498</td>\n",
              "      <td>0.000</td>\n",
              "    </tr>\n",
              "    <tr>\n",
              "      <th>2</th>\n",
              "      <td>0.499</td>\n",
              "      <td>0.000</td>\n",
              "      <td>0.487</td>\n",
              "      <td>0.000</td>\n",
              "    </tr>\n",
              "    <tr>\n",
              "      <th>3</th>\n",
              "      <td>0.486</td>\n",
              "      <td>0.000</td>\n",
              "      <td>0.474</td>\n",
              "      <td>0.000</td>\n",
              "    </tr>\n",
              "    <tr>\n",
              "      <th>4</th>\n",
              "      <td>0.468</td>\n",
              "      <td>0.007</td>\n",
              "      <td>0.459</td>\n",
              "      <td>0.035</td>\n",
              "    </tr>\n",
              "  </tbody>\n",
              "</table>\n",
              "</div>\n",
              "      <button class=\"colab-df-convert\" onclick=\"convertToInteractive('df-dad6bb0d-f83d-426b-8ffe-447673e6b933')\"\n",
              "              title=\"Convert this dataframe to an interactive table.\"\n",
              "              style=\"display:none;\">\n",
              "        \n",
              "  <svg xmlns=\"http://www.w3.org/2000/svg\" height=\"24px\"viewBox=\"0 0 24 24\"\n",
              "       width=\"24px\">\n",
              "    <path d=\"M0 0h24v24H0V0z\" fill=\"none\"/>\n",
              "    <path d=\"M18.56 5.44l.94 2.06.94-2.06 2.06-.94-2.06-.94-.94-2.06-.94 2.06-2.06.94zm-11 1L8.5 8.5l.94-2.06 2.06-.94-2.06-.94L8.5 2.5l-.94 2.06-2.06.94zm10 10l.94 2.06.94-2.06 2.06-.94-2.06-.94-.94-2.06-.94 2.06-2.06.94z\"/><path d=\"M17.41 7.96l-1.37-1.37c-.4-.4-.92-.59-1.43-.59-.52 0-1.04.2-1.43.59L10.3 9.45l-7.72 7.72c-.78.78-.78 2.05 0 2.83L4 21.41c.39.39.9.59 1.41.59.51 0 1.02-.2 1.41-.59l7.78-7.78 2.81-2.81c.8-.78.8-2.07 0-2.86zM5.41 20L4 18.59l7.72-7.72 1.47 1.35L5.41 20z\"/>\n",
              "  </svg>\n",
              "      </button>\n",
              "      \n",
              "  <style>\n",
              "    .colab-df-container {\n",
              "      display:flex;\n",
              "      flex-wrap:wrap;\n",
              "      gap: 12px;\n",
              "    }\n",
              "\n",
              "    .colab-df-convert {\n",
              "      background-color: #E8F0FE;\n",
              "      border: none;\n",
              "      border-radius: 50%;\n",
              "      cursor: pointer;\n",
              "      display: none;\n",
              "      fill: #1967D2;\n",
              "      height: 32px;\n",
              "      padding: 0 0 0 0;\n",
              "      width: 32px;\n",
              "    }\n",
              "\n",
              "    .colab-df-convert:hover {\n",
              "      background-color: #E2EBFA;\n",
              "      box-shadow: 0px 1px 2px rgba(60, 64, 67, 0.3), 0px 1px 3px 1px rgba(60, 64, 67, 0.15);\n",
              "      fill: #174EA6;\n",
              "    }\n",
              "\n",
              "    [theme=dark] .colab-df-convert {\n",
              "      background-color: #3B4455;\n",
              "      fill: #D2E3FC;\n",
              "    }\n",
              "\n",
              "    [theme=dark] .colab-df-convert:hover {\n",
              "      background-color: #434B5C;\n",
              "      box-shadow: 0px 1px 3px 1px rgba(0, 0, 0, 0.15);\n",
              "      filter: drop-shadow(0px 1px 2px rgba(0, 0, 0, 0.3));\n",
              "      fill: #FFFFFF;\n",
              "    }\n",
              "  </style>\n",
              "\n",
              "      <script>\n",
              "        const buttonEl =\n",
              "          document.querySelector('#df-dad6bb0d-f83d-426b-8ffe-447673e6b933 button.colab-df-convert');\n",
              "        buttonEl.style.display =\n",
              "          google.colab.kernel.accessAllowed ? 'block' : 'none';\n",
              "\n",
              "        async function convertToInteractive(key) {\n",
              "          const element = document.querySelector('#df-dad6bb0d-f83d-426b-8ffe-447673e6b933');\n",
              "          const dataTable =\n",
              "            await google.colab.kernel.invokeFunction('convertToInteractive',\n",
              "                                                     [key], {});\n",
              "          if (!dataTable) return;\n",
              "\n",
              "          const docLinkHtml = 'Like what you see? Visit the ' +\n",
              "            '<a target=\"_blank\" href=https://colab.research.google.com/notebooks/data_table.ipynb>data table notebook</a>'\n",
              "            + ' to learn more about interactive tables.';\n",
              "          element.innerHTML = '';\n",
              "          dataTable['output_type'] = 'display_data';\n",
              "          await google.colab.output.renderOutput(dataTable, element);\n",
              "          const docLink = document.createElement('div');\n",
              "          docLink.innerHTML = docLinkHtml;\n",
              "          element.appendChild(docLink);\n",
              "        }\n",
              "      </script>\n",
              "    </div>\n",
              "  </div>\n",
              "  "
            ]
          },
          "metadata": {},
          "execution_count": 50
        }
      ],
      "source": [
        "loss_df = pd.DataFrame(model.history.history)\n",
        "loss_df.head()"
      ]
    },
    {
      "cell_type": "code",
      "execution_count": 51,
      "metadata": {
        "colab": {
          "base_uri": "https://localhost:8080/",
          "height": 392
        },
        "id": "PQrRXkriuaux",
        "outputId": "f960a665-e138-4fcf-b0c3-ea84a0cb78da"
      },
      "outputs": [
        {
          "output_type": "display_data",
          "data": {
            "text/plain": [
              "<Figure size 720x720 with 0 Axes>"
            ]
          },
          "metadata": {}
        },
        {
          "output_type": "display_data",
          "data": {
            "text/plain": [
              "<Figure size 720x432 with 1 Axes>"
            ],
            "image/png": "[encoded data removed]"
          },
          "metadata": {}
        }
      ],
      "source": [
        "plt.figure(figsize = (10,10))\n",
        "loss_df.plot();    "
      ]
    },
    {
      "cell_type": "code",
      "execution_count": 52,
      "metadata": {
        "id": "KSooP6KDuWYR",
        "outputId": "4444bdb2-b99c-485c-b452-6b28bf1d302f",
        "colab": {
          "base_uri": "https://localhost:8080/"
        }
      },
      "outputs": [
        {
          "output_type": "execute_result",
          "data": {
            "text/plain": [
              "[0.36179348826408386, 0.46405228972435]"
            ]
          },
          "metadata": {},
          "execution_count": 52
        }
      ],
      "source": [
        "model.evaluate(X_test, y_test, verbose=0)   "
      ]
    },
    {
      "cell_type": "code",
      "execution_count": 53,
      "metadata": {
        "id": "CE91jnNeuWYS",
        "outputId": "d3956c35-6f33-4e0d-ef55-eeeba4949c88",
        "colab": {
          "base_uri": "https://localhost:8080/"
        }
      },
      "outputs": [
        {
          "output_type": "stream",
          "name": "stdout",
          "text": [
            "loss :  0.36179348826408386\n",
            "accuracy :  0.46405228972435\n"
          ]
        }
      ],
      "source": [
        "loss, accuracy = model.evaluate(X_test, y_test, verbose=0)\n",
        "print(\"loss : \", loss)\n",
        "print(\"accuracy : \", accuracy)"
      ]
    },
    {
      "cell_type": "code",
      "execution_count": 54,
      "metadata": {
        "id": "irJWyuTfuWYS",
        "outputId": "904d3168-360d-45c0-a661-a29513aa6a77",
        "colab": {
          "base_uri": "https://localhost:8080/"
        }
      },
      "outputs": [
        {
          "output_type": "stream",
          "name": "stdout",
          "text": [
            "[[1130   64]\n",
            " [ 164  142]]\n",
            "              precision    recall  f1-score   support\n",
            "\n",
            "           0       0.87      0.95      0.91      1194\n",
            "           1       0.69      0.46      0.55       306\n",
            "\n",
            "    accuracy                           0.85      1500\n",
            "   macro avg       0.78      0.71      0.73      1500\n",
            "weighted avg       0.84      0.85      0.84      1500\n",
            "\n"
          ]
        }
      ],
      "source": [
        "y_pred = model.predict(X_test) > 0.5                  \n",
        "print(confusion_matrix(y_test, y_pred))\n",
        "print(classification_report(y_test, y_pred))          "
      ]
    },
    {
      "cell_type": "code",
      "source": [
        "from sklearn.metrics import roc_auc_score, roc_curve, precision_recall_curve, average_precision_score\n"
      ],
      "metadata": {
        "id": "zNLKGO2QJAgm"
      },
      "execution_count": 55,
      "outputs": []
    },
    {
      "cell_type": "code",
      "execution_count": 56,
      "metadata": {
        "id": "wWTpdeaO13bS",
        "colab": {
          "base_uri": "https://localhost:8080/",
          "height": 404
        },
        "outputId": "0d593741-48c6-48f0-f5e4-27098644f751"
      },
      "outputs": [
        {
          "output_type": "display_data",
          "data": {
            "text/plain": [
              "<Figure size 720x432 with 1 Axes>"
            ],
            "image/png": "[encoded data removed]"
          },
          "metadata": {}
        }
      ],
      "source": [
        "y_pred_proba = model.predict(X_test)\n",
        "precisions, recalls, thresholds = precision_recall_curve(y_test, y_pred_proba)\n",
        "plt.plot(recalls, precisions, label='ANN')\n",
        "plt.xlabel('recalls')\n",
        "plt.ylabel('precisions')\n",
        "plt.title('Precision-Recall curve')\n",
        "plt.show()"
      ]
    },
    {
      "cell_type": "code",
      "source": [
        "average_precision_score(y_test, y_pred_proba)"
      ],
      "metadata": {
        "id": "PLHMlSweUoDE",
        "colab": {
          "base_uri": "https://localhost:8080/"
        },
        "outputId": "3191e108-8e8f-44c2-c744-c1768624b52b"
      },
      "execution_count": 57,
      "outputs": [
        {
          "output_type": "execute_result",
          "data": {
            "text/plain": [
              "0.6602276682322877"
            ]
          },
          "metadata": {},
          "execution_count": 57
        }
      ]
    },
    {
      "cell_type": "markdown",
      "metadata": {
        "id": "VTDQFZuo6QO5"
      },
      "source": [
        "## with class_weigth\n",
        "\n",
        "Investigate how the \"class_weight\" hyper-parameter is used in a Neural Network."
      ]
    },
    {
      "cell_type": "markdown",
      "metadata": {
        "id": "RhTyiSJ96QO6"
      },
      "source": [
        "### Create The Model"
      ]
    },
    {
      "cell_type": "code",
      "source": [
        "from tensorflow.keras.callbacks import EarlyStopping\n",
        "from tensorflow.keras.optimizers import Adam\n",
        "from sklearn.metrics import classification_report, confusion_matrix\n",
        "from sklearn.metrics import roc_auc_score, roc_curve, precision_recall_curve, average_precision_score\n",
        "from sklearn.model_selection import cross_val_score, cross_validate\n",
        "from sklearn.model_selection import GridSearchCV\n",
        "from sklearn.model_selection import train_test_split\n",
        "from sklearn.preprocessing import MinMaxScaler"
      ],
      "metadata": {
        "id": "EStbpK_nF2DR"
      },
      "execution_count": 60,
      "outputs": []
    },
    {
      "cell_type": "code",
      "execution_count": 61,
      "metadata": {
        "id": "Ce5kuWQ46QO6"
      },
      "outputs": [],
      "source": [
        "tf.random.set_seed(seed)\n",
        "\n",
        "model = Sequential()\n",
        "\n",
        "model.add(Dense(20, activation = \"relu\", input_dim = X_train.shape[1]))\n",
        "model.add(Dense(10, activation = \"relu\"))\n",
        "model.add(Dense(5, activation = \"relu\"))\n",
        "model.add(Dense(1, activation = \"sigmoid\")) \n",
        "opt = Adam(lr = 0.001)        \n",
        "model.compile(optimizer = opt, loss = \"binary_crossentropy\", metrics = [\"Recall\"])  "
      ]
    },
    {
      "cell_type": "code",
      "source": [
        "from sklearn.utils import class_weight\n",
        "class_weights = class_weight.compute_class_weight(\"balanced\", classes=np.unique(y_train), y = y_train)\n",
        "\n",
        "class_weights = {0:class_weights[0], 1:class_weights[1]}\n",
        "class_weights"
      ],
      "metadata": {
        "colab": {
          "base_uri": "https://localhost:8080/"
        },
        "id": "fquOhnMpvUau",
        "outputId": "c259193c-c986-4e80-f68b-85489903eb6f"
      },
      "execution_count": 62,
      "outputs": [
        {
          "output_type": "execute_result",
          "data": {
            "text/plain": [
              "{0: 0.6278623134879598, 1: 2.455228191796649}"
            ]
          },
          "metadata": {},
          "execution_count": 62
        }
      ]
    },
    {
      "cell_type": "code",
      "source": [
        "model.fit(x = X_train, y = y_train, validation_split = 0.15, batch_size = 100, epochs = 300, verbose=1, class_weight = class_weights)  "
      ],
      "metadata": {
        "colab": {
          "base_uri": "https://localhost:8080/"
        },
        "id": "33c0q156vUPb",
        "outputId": "2c96e7a4-5946-4dc1-f32f-b774952f8990"
      },
      "execution_count": 63,
      "outputs": [
        {
          "output_type": "stream",
          "name": "stdout",
          "text": [
            "Epoch 1/300\n",
            "73/73 [==============================] - 2s 9ms/step - loss: 0.6855 - recall: 0.9113 - val_loss: 0.7131 - val_recall: 0.8386\n",
            "Epoch 2/300\n",
            "73/73 [==============================] - 0s 3ms/step - loss: 0.6712 - recall: 0.7989 - val_loss: 0.6951 - val_recall: 0.7717\n",
            "Epoch 3/300\n",
            "73/73 [==============================] - 0s 2ms/step - loss: 0.6450 - recall: 0.7068 - val_loss: 0.6463 - val_recall: 0.6614\n",
            "Epoch 4/300\n",
            "73/73 [==============================] - 0s 2ms/step - loss: 0.6122 - recall: 0.6737 - val_loss: 0.6288 - val_recall: 0.6772\n",
            "Epoch 5/300\n",
            "73/73 [==============================] - 0s 2ms/step - loss: 0.5855 - recall: 0.7055 - val_loss: 0.5857 - val_recall: 0.6614\n",
            "Epoch 6/300\n",
            "73/73 [==============================] - 0s 2ms/step - loss: 0.5683 - recall: 0.7116 - val_loss: 0.5992 - val_recall: 0.7087\n",
            "Epoch 7/300\n",
            "73/73 [==============================] - 0s 3ms/step - loss: 0.5554 - recall: 0.7244 - val_loss: 0.5595 - val_recall: 0.6890\n",
            "Epoch 8/300\n",
            "73/73 [==============================] - 0s 2ms/step - loss: 0.5452 - recall: 0.7265 - val_loss: 0.5524 - val_recall: 0.6850\n",
            "Epoch 9/300\n",
            "73/73 [==============================] - 0s 2ms/step - loss: 0.5363 - recall: 0.7353 - val_loss: 0.5414 - val_recall: 0.7008\n",
            "Epoch 10/300\n",
            "73/73 [==============================] - 0s 2ms/step - loss: 0.5295 - recall: 0.7339 - val_loss: 0.5083 - val_recall: 0.6654\n",
            "Epoch 11/300\n",
            "73/73 [==============================] - 0s 2ms/step - loss: 0.5243 - recall: 0.7339 - val_loss: 0.5540 - val_recall: 0.7441\n",
            "Epoch 12/300\n",
            "73/73 [==============================] - 0s 2ms/step - loss: 0.5234 - recall: 0.7346 - val_loss: 0.5280 - val_recall: 0.7323\n",
            "Epoch 13/300\n",
            "73/73 [==============================] - 0s 3ms/step - loss: 0.5180 - recall: 0.7278 - val_loss: 0.5083 - val_recall: 0.7047\n",
            "Epoch 14/300\n",
            "73/73 [==============================] - 0s 2ms/step - loss: 0.5152 - recall: 0.7427 - val_loss: 0.5553 - val_recall: 0.7677\n",
            "Epoch 15/300\n",
            "73/73 [==============================] - 0s 2ms/step - loss: 0.5116 - recall: 0.7441 - val_loss: 0.4917 - val_recall: 0.7165\n",
            "Epoch 16/300\n",
            "73/73 [==============================] - 0s 2ms/step - loss: 0.5087 - recall: 0.7312 - val_loss: 0.4851 - val_recall: 0.7008\n",
            "Epoch 17/300\n",
            "73/73 [==============================] - 0s 3ms/step - loss: 0.5054 - recall: 0.7414 - val_loss: 0.5381 - val_recall: 0.7598\n",
            "Epoch 18/300\n",
            "73/73 [==============================] - 0s 2ms/step - loss: 0.5036 - recall: 0.7508 - val_loss: 0.5022 - val_recall: 0.7323\n",
            "Epoch 19/300\n",
            "73/73 [==============================] - 0s 2ms/step - loss: 0.5026 - recall: 0.7414 - val_loss: 0.5186 - val_recall: 0.7520\n",
            "Epoch 20/300\n",
            "73/73 [==============================] - 0s 2ms/step - loss: 0.5012 - recall: 0.7407 - val_loss: 0.5019 - val_recall: 0.7244\n",
            "Epoch 21/300\n",
            "73/73 [==============================] - 0s 2ms/step - loss: 0.5003 - recall: 0.7475 - val_loss: 0.4813 - val_recall: 0.7047\n",
            "Epoch 22/300\n",
            "73/73 [==============================] - 0s 2ms/step - loss: 0.4984 - recall: 0.7393 - val_loss: 0.4908 - val_recall: 0.7205\n",
            "Epoch 23/300\n",
            "73/73 [==============================] - 0s 3ms/step - loss: 0.4962 - recall: 0.7441 - val_loss: 0.4906 - val_recall: 0.7205\n",
            "Epoch 24/300\n",
            "73/73 [==============================] - 0s 2ms/step - loss: 0.4967 - recall: 0.7508 - val_loss: 0.4900 - val_recall: 0.7205\n",
            "Epoch 25/300\n",
            "73/73 [==============================] - 0s 2ms/step - loss: 0.4950 - recall: 0.7488 - val_loss: 0.5061 - val_recall: 0.7480\n",
            "Epoch 26/300\n",
            "73/73 [==============================] - 0s 2ms/step - loss: 0.4964 - recall: 0.7475 - val_loss: 0.4488 - val_recall: 0.6811\n",
            "Epoch 27/300\n",
            "73/73 [==============================] - 0s 2ms/step - loss: 0.4952 - recall: 0.7407 - val_loss: 0.5020 - val_recall: 0.7441\n",
            "Epoch 28/300\n",
            "73/73 [==============================] - 0s 2ms/step - loss: 0.4931 - recall: 0.7393 - val_loss: 0.4953 - val_recall: 0.7362\n",
            "Epoch 29/300\n",
            "73/73 [==============================] - 0s 2ms/step - loss: 0.4911 - recall: 0.7481 - val_loss: 0.4976 - val_recall: 0.7559\n",
            "Epoch 30/300\n",
            "73/73 [==============================] - 0s 2ms/step - loss: 0.4912 - recall: 0.7515 - val_loss: 0.5201 - val_recall: 0.7638\n",
            "Epoch 31/300\n",
            "73/73 [==============================] - 0s 2ms/step - loss: 0.4915 - recall: 0.7481 - val_loss: 0.5060 - val_recall: 0.7559\n",
            "Epoch 32/300\n",
            "73/73 [==============================] - 0s 2ms/step - loss: 0.4902 - recall: 0.7454 - val_loss: 0.4548 - val_recall: 0.6929\n",
            "Epoch 33/300\n",
            "73/73 [==============================] - 0s 2ms/step - loss: 0.4902 - recall: 0.7454 - val_loss: 0.4592 - val_recall: 0.7008\n",
            "Epoch 34/300\n",
            "73/73 [==============================] - 0s 3ms/step - loss: 0.4893 - recall: 0.7346 - val_loss: 0.5155 - val_recall: 0.7677\n",
            "Epoch 35/300\n",
            "73/73 [==============================] - 0s 2ms/step - loss: 0.4914 - recall: 0.7495 - val_loss: 0.5064 - val_recall: 0.7598\n",
            "Epoch 36/300\n",
            "73/73 [==============================] - 0s 3ms/step - loss: 0.4890 - recall: 0.7603 - val_loss: 0.4785 - val_recall: 0.7244\n",
            "Epoch 37/300\n",
            "73/73 [==============================] - 0s 2ms/step - loss: 0.4892 - recall: 0.7441 - val_loss: 0.4704 - val_recall: 0.7126\n",
            "Epoch 38/300\n",
            "73/73 [==============================] - 0s 2ms/step - loss: 0.4868 - recall: 0.7502 - val_loss: 0.4396 - val_recall: 0.6811\n",
            "Epoch 39/300\n",
            "73/73 [==============================] - 0s 2ms/step - loss: 0.4854 - recall: 0.7502 - val_loss: 0.4951 - val_recall: 0.7598\n",
            "Epoch 40/300\n",
            "73/73 [==============================] - 0s 2ms/step - loss: 0.4894 - recall: 0.7448 - val_loss: 0.5225 - val_recall: 0.7638\n",
            "Epoch 41/300\n",
            "73/73 [==============================] - 0s 3ms/step - loss: 0.4869 - recall: 0.7630 - val_loss: 0.4869 - val_recall: 0.7402\n",
            "Epoch 42/300\n",
            "73/73 [==============================] - 0s 2ms/step - loss: 0.4856 - recall: 0.7596 - val_loss: 0.4561 - val_recall: 0.7047\n",
            "Epoch 43/300\n",
            "73/73 [==============================] - 0s 2ms/step - loss: 0.4855 - recall: 0.7468 - val_loss: 0.5042 - val_recall: 0.7559\n",
            "Epoch 44/300\n",
            "73/73 [==============================] - 0s 2ms/step - loss: 0.4862 - recall: 0.7448 - val_loss: 0.4875 - val_recall: 0.7402\n",
            "Epoch 45/300\n",
            "73/73 [==============================] - 0s 2ms/step - loss: 0.4848 - recall: 0.7495 - val_loss: 0.5268 - val_recall: 0.7677\n",
            "Epoch 46/300\n",
            "73/73 [==============================] - 0s 2ms/step - loss: 0.4831 - recall: 0.7630 - val_loss: 0.4364 - val_recall: 0.6929\n",
            "Epoch 47/300\n",
            "73/73 [==============================] - 0s 2ms/step - loss: 0.4832 - recall: 0.7637 - val_loss: 0.4673 - val_recall: 0.7323\n",
            "Epoch 48/300\n",
            "73/73 [==============================] - 0s 2ms/step - loss: 0.4841 - recall: 0.7556 - val_loss: 0.4757 - val_recall: 0.7362\n",
            "Epoch 49/300\n",
            "73/73 [==============================] - 0s 2ms/step - loss: 0.4834 - recall: 0.7434 - val_loss: 0.5004 - val_recall: 0.7559\n",
            "Epoch 50/300\n",
            "73/73 [==============================] - 0s 3ms/step - loss: 0.4853 - recall: 0.7522 - val_loss: 0.4269 - val_recall: 0.6811\n",
            "Epoch 51/300\n",
            "73/73 [==============================] - 0s 2ms/step - loss: 0.4839 - recall: 0.7522 - val_loss: 0.4722 - val_recall: 0.7283\n",
            "Epoch 52/300\n",
            "73/73 [==============================] - 0s 3ms/step - loss: 0.4832 - recall: 0.7508 - val_loss: 0.4716 - val_recall: 0.7323\n",
            "Epoch 53/300\n",
            "73/73 [==============================] - 0s 2ms/step - loss: 0.4821 - recall: 0.7576 - val_loss: 0.4647 - val_recall: 0.7283\n",
            "Epoch 54/300\n",
            "73/73 [==============================] - 0s 2ms/step - loss: 0.4825 - recall: 0.7590 - val_loss: 0.4332 - val_recall: 0.6969\n",
            "Epoch 55/300\n",
            "73/73 [==============================] - 0s 2ms/step - loss: 0.4822 - recall: 0.7556 - val_loss: 0.4885 - val_recall: 0.7441\n",
            "Epoch 56/300\n",
            "73/73 [==============================] - 0s 2ms/step - loss: 0.4814 - recall: 0.7590 - val_loss: 0.4946 - val_recall: 0.7638\n",
            "Epoch 57/300\n",
            "73/73 [==============================] - 0s 3ms/step - loss: 0.4822 - recall: 0.7563 - val_loss: 0.4985 - val_recall: 0.7520\n",
            "Epoch 58/300\n",
            "73/73 [==============================] - 0s 2ms/step - loss: 0.4815 - recall: 0.7569 - val_loss: 0.4730 - val_recall: 0.7323\n",
            "Epoch 59/300\n",
            "73/73 [==============================] - 0s 2ms/step - loss: 0.4809 - recall: 0.7556 - val_loss: 0.4695 - val_recall: 0.7283\n",
            "Epoch 60/300\n",
            "73/73 [==============================] - 0s 2ms/step - loss: 0.4820 - recall: 0.7569 - val_loss: 0.4847 - val_recall: 0.7480\n",
            "Epoch 61/300\n",
            "73/73 [==============================] - 0s 2ms/step - loss: 0.4800 - recall: 0.7637 - val_loss: 0.4467 - val_recall: 0.7126\n",
            "Epoch 62/300\n",
            "73/73 [==============================] - 0s 2ms/step - loss: 0.4805 - recall: 0.7502 - val_loss: 0.4774 - val_recall: 0.7244\n",
            "Epoch 63/300\n",
            "73/73 [==============================] - 0s 2ms/step - loss: 0.4782 - recall: 0.7624 - val_loss: 0.4288 - val_recall: 0.6850\n",
            "Epoch 64/300\n",
            "73/73 [==============================] - 0s 2ms/step - loss: 0.4802 - recall: 0.7583 - val_loss: 0.4780 - val_recall: 0.7402\n",
            "Epoch 65/300\n",
            "73/73 [==============================] - 0s 3ms/step - loss: 0.4793 - recall: 0.7624 - val_loss: 0.4476 - val_recall: 0.7126\n",
            "Epoch 66/300\n",
            "73/73 [==============================] - 0s 2ms/step - loss: 0.4775 - recall: 0.7556 - val_loss: 0.5008 - val_recall: 0.7598\n",
            "Epoch 67/300\n",
            "73/73 [==============================] - 0s 2ms/step - loss: 0.4787 - recall: 0.7684 - val_loss: 0.4277 - val_recall: 0.6929\n",
            "Epoch 68/300\n",
            "73/73 [==============================] - 0s 2ms/step - loss: 0.4791 - recall: 0.7481 - val_loss: 0.5272 - val_recall: 0.7835\n",
            "Epoch 69/300\n",
            "73/73 [==============================] - 0s 2ms/step - loss: 0.4794 - recall: 0.7752 - val_loss: 0.4209 - val_recall: 0.6890\n",
            "Epoch 70/300\n",
            "73/73 [==============================] - 0s 3ms/step - loss: 0.4795 - recall: 0.7624 - val_loss: 0.4443 - val_recall: 0.7087\n",
            "Epoch 71/300\n",
            "73/73 [==============================] - 0s 3ms/step - loss: 0.4803 - recall: 0.7583 - val_loss: 0.4368 - val_recall: 0.7047\n",
            "Epoch 72/300\n",
            "73/73 [==============================] - 0s 2ms/step - loss: 0.4808 - recall: 0.7671 - val_loss: 0.4540 - val_recall: 0.7126\n",
            "Epoch 73/300\n",
            "73/73 [==============================] - 0s 2ms/step - loss: 0.4774 - recall: 0.7705 - val_loss: 0.4516 - val_recall: 0.7205\n",
            "Epoch 74/300\n",
            "73/73 [==============================] - 0s 3ms/step - loss: 0.4790 - recall: 0.7522 - val_loss: 0.5044 - val_recall: 0.7756\n",
            "Epoch 75/300\n",
            "73/73 [==============================] - 0s 3ms/step - loss: 0.4768 - recall: 0.7630 - val_loss: 0.4905 - val_recall: 0.7717\n",
            "Epoch 76/300\n",
            "73/73 [==============================] - 0s 2ms/step - loss: 0.4761 - recall: 0.7583 - val_loss: 0.5050 - val_recall: 0.7638\n",
            "Epoch 77/300\n",
            "73/73 [==============================] - 0s 2ms/step - loss: 0.4785 - recall: 0.7691 - val_loss: 0.4044 - val_recall: 0.6654\n",
            "Epoch 78/300\n",
            "73/73 [==============================] - 0s 2ms/step - loss: 0.4795 - recall: 0.7617 - val_loss: 0.4724 - val_recall: 0.7402\n",
            "Epoch 79/300\n",
            "73/73 [==============================] - 0s 2ms/step - loss: 0.4757 - recall: 0.7678 - val_loss: 0.4613 - val_recall: 0.7323\n",
            "Epoch 80/300\n",
            "73/73 [==============================] - 0s 3ms/step - loss: 0.4771 - recall: 0.7637 - val_loss: 0.4541 - val_recall: 0.7205\n",
            "Epoch 81/300\n",
            "73/73 [==============================] - 0s 2ms/step - loss: 0.4755 - recall: 0.7624 - val_loss: 0.4550 - val_recall: 0.7244\n",
            "Epoch 82/300\n",
            "73/73 [==============================] - 0s 2ms/step - loss: 0.4763 - recall: 0.7691 - val_loss: 0.4294 - val_recall: 0.7008\n",
            "Epoch 83/300\n",
            "73/73 [==============================] - 0s 2ms/step - loss: 0.4753 - recall: 0.7610 - val_loss: 0.4530 - val_recall: 0.7244\n",
            "Epoch 84/300\n",
            "73/73 [==============================] - 0s 2ms/step - loss: 0.4750 - recall: 0.7718 - val_loss: 0.4903 - val_recall: 0.7638\n",
            "Epoch 85/300\n",
            "73/73 [==============================] - 0s 2ms/step - loss: 0.4751 - recall: 0.7671 - val_loss: 0.4840 - val_recall: 0.7480\n",
            "Epoch 86/300\n",
            "73/73 [==============================] - 0s 3ms/step - loss: 0.4739 - recall: 0.7759 - val_loss: 0.3993 - val_recall: 0.6575\n",
            "Epoch 87/300\n",
            "73/73 [==============================] - 0s 2ms/step - loss: 0.4745 - recall: 0.7603 - val_loss: 0.4669 - val_recall: 0.7362\n",
            "Epoch 88/300\n",
            "73/73 [==============================] - 0s 3ms/step - loss: 0.4733 - recall: 0.7651 - val_loss: 0.4469 - val_recall: 0.7087\n",
            "Epoch 89/300\n",
            "73/73 [==============================] - 0s 2ms/step - loss: 0.4733 - recall: 0.7603 - val_loss: 0.4655 - val_recall: 0.7362\n",
            "Epoch 90/300\n",
            "73/73 [==============================] - 0s 2ms/step - loss: 0.4733 - recall: 0.7624 - val_loss: 0.4999 - val_recall: 0.7559\n",
            "Epoch 91/300\n",
            "73/73 [==============================] - 0s 3ms/step - loss: 0.4786 - recall: 0.7657 - val_loss: 0.4464 - val_recall: 0.7165\n",
            "Epoch 92/300\n",
            "73/73 [==============================] - 0s 3ms/step - loss: 0.4733 - recall: 0.7725 - val_loss: 0.4422 - val_recall: 0.7165\n",
            "Epoch 93/300\n",
            "73/73 [==============================] - 0s 2ms/step - loss: 0.4756 - recall: 0.7624 - val_loss: 0.4454 - val_recall: 0.7165\n",
            "Epoch 94/300\n",
            "73/73 [==============================] - 0s 2ms/step - loss: 0.4729 - recall: 0.7651 - val_loss: 0.4957 - val_recall: 0.7677\n",
            "Epoch 95/300\n",
            "73/73 [==============================] - 0s 2ms/step - loss: 0.4727 - recall: 0.7773 - val_loss: 0.4317 - val_recall: 0.7008\n",
            "Epoch 96/300\n",
            "73/73 [==============================] - 0s 3ms/step - loss: 0.4724 - recall: 0.7671 - val_loss: 0.4362 - val_recall: 0.7165\n",
            "Epoch 97/300\n",
            "73/73 [==============================] - 0s 2ms/step - loss: 0.4728 - recall: 0.7759 - val_loss: 0.4399 - val_recall: 0.7205\n",
            "Epoch 98/300\n",
            "73/73 [==============================] - 0s 2ms/step - loss: 0.4752 - recall: 0.7630 - val_loss: 0.4590 - val_recall: 0.7402\n",
            "Epoch 99/300\n",
            "73/73 [==============================] - 0s 2ms/step - loss: 0.4713 - recall: 0.7664 - val_loss: 0.4498 - val_recall: 0.7205\n",
            "Epoch 100/300\n",
            "73/73 [==============================] - 0s 2ms/step - loss: 0.4717 - recall: 0.7712 - val_loss: 0.4597 - val_recall: 0.7283\n",
            "Epoch 101/300\n",
            "73/73 [==============================] - 0s 2ms/step - loss: 0.4734 - recall: 0.7725 - val_loss: 0.4564 - val_recall: 0.7244\n",
            "Epoch 102/300\n",
            "73/73 [==============================] - 0s 3ms/step - loss: 0.4732 - recall: 0.7698 - val_loss: 0.4370 - val_recall: 0.7165\n",
            "Epoch 103/300\n",
            "73/73 [==============================] - 0s 2ms/step - loss: 0.4716 - recall: 0.7664 - val_loss: 0.4292 - val_recall: 0.7008\n",
            "Epoch 104/300\n",
            "73/73 [==============================] - 0s 2ms/step - loss: 0.4738 - recall: 0.7644 - val_loss: 0.4381 - val_recall: 0.7126\n",
            "Epoch 105/300\n",
            "73/73 [==============================] - 0s 2ms/step - loss: 0.4724 - recall: 0.7745 - val_loss: 0.4197 - val_recall: 0.7008\n",
            "Epoch 106/300\n",
            "73/73 [==============================] - 0s 3ms/step - loss: 0.4710 - recall: 0.7684 - val_loss: 0.5101 - val_recall: 0.7795\n",
            "Epoch 107/300\n",
            "73/73 [==============================] - 0s 3ms/step - loss: 0.4713 - recall: 0.7671 - val_loss: 0.4243 - val_recall: 0.6969\n",
            "Epoch 108/300\n",
            "73/73 [==============================] - 0s 2ms/step - loss: 0.4713 - recall: 0.7691 - val_loss: 0.4527 - val_recall: 0.7362\n",
            "Epoch 109/300\n",
            "73/73 [==============================] - 0s 2ms/step - loss: 0.4705 - recall: 0.7657 - val_loss: 0.4862 - val_recall: 0.7559\n",
            "Epoch 110/300\n",
            "73/73 [==============================] - 0s 2ms/step - loss: 0.4713 - recall: 0.7617 - val_loss: 0.4991 - val_recall: 0.7756\n",
            "Epoch 111/300\n",
            "73/73 [==============================] - 0s 3ms/step - loss: 0.4708 - recall: 0.7759 - val_loss: 0.5078 - val_recall: 0.7795\n",
            "Epoch 112/300\n",
            "73/73 [==============================] - 0s 3ms/step - loss: 0.4722 - recall: 0.7705 - val_loss: 0.4512 - val_recall: 0.7244\n",
            "Epoch 113/300\n",
            "73/73 [==============================] - 0s 3ms/step - loss: 0.4695 - recall: 0.7698 - val_loss: 0.4393 - val_recall: 0.7205\n",
            "Epoch 114/300\n",
            "73/73 [==============================] - 0s 3ms/step - loss: 0.4697 - recall: 0.7725 - val_loss: 0.4510 - val_recall: 0.7244\n",
            "Epoch 115/300\n",
            "73/73 [==============================] - 0s 2ms/step - loss: 0.4724 - recall: 0.7657 - val_loss: 0.4420 - val_recall: 0.7126\n",
            "Epoch 116/300\n",
            "73/73 [==============================] - 0s 2ms/step - loss: 0.4694 - recall: 0.7712 - val_loss: 0.5101 - val_recall: 0.7795\n",
            "Epoch 117/300\n",
            "73/73 [==============================] - 0s 2ms/step - loss: 0.4713 - recall: 0.7745 - val_loss: 0.4414 - val_recall: 0.7205\n",
            "Epoch 118/300\n",
            "73/73 [==============================] - 0s 3ms/step - loss: 0.4704 - recall: 0.7678 - val_loss: 0.5184 - val_recall: 0.7874\n",
            "Epoch 119/300\n",
            "73/73 [==============================] - 0s 2ms/step - loss: 0.4708 - recall: 0.7712 - val_loss: 0.4535 - val_recall: 0.7323\n",
            "Epoch 120/300\n",
            "73/73 [==============================] - 0s 2ms/step - loss: 0.4685 - recall: 0.7739 - val_loss: 0.4416 - val_recall: 0.7126\n",
            "Epoch 121/300\n",
            "73/73 [==============================] - 0s 3ms/step - loss: 0.4695 - recall: 0.7684 - val_loss: 0.4804 - val_recall: 0.7520\n",
            "Epoch 122/300\n",
            "73/73 [==============================] - 0s 2ms/step - loss: 0.4699 - recall: 0.7630 - val_loss: 0.5068 - val_recall: 0.7795\n",
            "Epoch 123/300\n",
            "73/73 [==============================] - 0s 3ms/step - loss: 0.4701 - recall: 0.7773 - val_loss: 0.4232 - val_recall: 0.7008\n",
            "Epoch 124/300\n",
            "73/73 [==============================] - 0s 2ms/step - loss: 0.4701 - recall: 0.7610 - val_loss: 0.4922 - val_recall: 0.7638\n",
            "Epoch 125/300\n",
            "73/73 [==============================] - 0s 2ms/step - loss: 0.4694 - recall: 0.7698 - val_loss: 0.4636 - val_recall: 0.7362\n",
            "Epoch 126/300\n",
            "73/73 [==============================] - 0s 3ms/step - loss: 0.4693 - recall: 0.7590 - val_loss: 0.4371 - val_recall: 0.7047\n",
            "Epoch 127/300\n",
            "73/73 [==============================] - 0s 2ms/step - loss: 0.4693 - recall: 0.7739 - val_loss: 0.4501 - val_recall: 0.7126\n",
            "Epoch 128/300\n",
            "73/73 [==============================] - 0s 2ms/step - loss: 0.4690 - recall: 0.7630 - val_loss: 0.4396 - val_recall: 0.7126\n",
            "Epoch 129/300\n",
            "73/73 [==============================] - 0s 3ms/step - loss: 0.4677 - recall: 0.7806 - val_loss: 0.4734 - val_recall: 0.7441\n",
            "Epoch 130/300\n",
            "73/73 [==============================] - 0s 2ms/step - loss: 0.4665 - recall: 0.7712 - val_loss: 0.4307 - val_recall: 0.6969\n",
            "Epoch 131/300\n",
            "73/73 [==============================] - 0s 3ms/step - loss: 0.4674 - recall: 0.7678 - val_loss: 0.4421 - val_recall: 0.7165\n",
            "Epoch 132/300\n",
            "73/73 [==============================] - 0s 2ms/step - loss: 0.4676 - recall: 0.7678 - val_loss: 0.4865 - val_recall: 0.7677\n",
            "Epoch 133/300\n",
            "73/73 [==============================] - 0s 2ms/step - loss: 0.4668 - recall: 0.7671 - val_loss: 0.4469 - val_recall: 0.7323\n",
            "Epoch 134/300\n",
            "73/73 [==============================] - 0s 3ms/step - loss: 0.4686 - recall: 0.7691 - val_loss: 0.4176 - val_recall: 0.6969\n",
            "Epoch 135/300\n",
            "73/73 [==============================] - 0s 2ms/step - loss: 0.4684 - recall: 0.7698 - val_loss: 0.4836 - val_recall: 0.7598\n",
            "Epoch 136/300\n",
            "73/73 [==============================] - 0s 2ms/step - loss: 0.4672 - recall: 0.7664 - val_loss: 0.4736 - val_recall: 0.7520\n",
            "Epoch 137/300\n",
            "73/73 [==============================] - 0s 3ms/step - loss: 0.4676 - recall: 0.7712 - val_loss: 0.4368 - val_recall: 0.7047\n",
            "Epoch 138/300\n",
            "73/73 [==============================] - 0s 2ms/step - loss: 0.4669 - recall: 0.7651 - val_loss: 0.4153 - val_recall: 0.6890\n",
            "Epoch 139/300\n",
            "73/73 [==============================] - 0s 3ms/step - loss: 0.4693 - recall: 0.7705 - val_loss: 0.4376 - val_recall: 0.7087\n",
            "Epoch 140/300\n",
            "73/73 [==============================] - 0s 2ms/step - loss: 0.4666 - recall: 0.7684 - val_loss: 0.4492 - val_recall: 0.7126\n",
            "Epoch 141/300\n",
            "73/73 [==============================] - 0s 2ms/step - loss: 0.4671 - recall: 0.7583 - val_loss: 0.4671 - val_recall: 0.7480\n",
            "Epoch 142/300\n",
            "73/73 [==============================] - 0s 3ms/step - loss: 0.4684 - recall: 0.7678 - val_loss: 0.4893 - val_recall: 0.7677\n",
            "Epoch 143/300\n",
            "73/73 [==============================] - 0s 3ms/step - loss: 0.4660 - recall: 0.7705 - val_loss: 0.4356 - val_recall: 0.7244\n",
            "Epoch 144/300\n",
            "73/73 [==============================] - 0s 3ms/step - loss: 0.4668 - recall: 0.7651 - val_loss: 0.4977 - val_recall: 0.7795\n",
            "Epoch 145/300\n",
            "73/73 [==============================] - 0s 3ms/step - loss: 0.4658 - recall: 0.7786 - val_loss: 0.4615 - val_recall: 0.7323\n",
            "Epoch 146/300\n",
            "73/73 [==============================] - 0s 2ms/step - loss: 0.4655 - recall: 0.7773 - val_loss: 0.4298 - val_recall: 0.7165\n",
            "Epoch 147/300\n",
            "73/73 [==============================] - 0s 3ms/step - loss: 0.4672 - recall: 0.7705 - val_loss: 0.4219 - val_recall: 0.7165\n",
            "Epoch 148/300\n",
            "73/73 [==============================] - 0s 2ms/step - loss: 0.4646 - recall: 0.7718 - val_loss: 0.4403 - val_recall: 0.7283\n",
            "Epoch 149/300\n",
            "73/73 [==============================] - 0s 2ms/step - loss: 0.4671 - recall: 0.7590 - val_loss: 0.4999 - val_recall: 0.7835\n",
            "Epoch 150/300\n",
            "73/73 [==============================] - 0s 3ms/step - loss: 0.4660 - recall: 0.7725 - val_loss: 0.4347 - val_recall: 0.7047\n",
            "Epoch 151/300\n",
            "73/73 [==============================] - 0s 2ms/step - loss: 0.4653 - recall: 0.7671 - val_loss: 0.4352 - val_recall: 0.7126\n",
            "Epoch 152/300\n",
            "73/73 [==============================] - 0s 2ms/step - loss: 0.4660 - recall: 0.7637 - val_loss: 0.5445 - val_recall: 0.8150\n",
            "Epoch 153/300\n",
            "73/73 [==============================] - 0s 2ms/step - loss: 0.4646 - recall: 0.7691 - val_loss: 0.5239 - val_recall: 0.8031\n",
            "Epoch 154/300\n",
            "73/73 [==============================] - 0s 3ms/step - loss: 0.4654 - recall: 0.7684 - val_loss: 0.4566 - val_recall: 0.7323\n",
            "Epoch 155/300\n",
            "73/73 [==============================] - 0s 3ms/step - loss: 0.4652 - recall: 0.7684 - val_loss: 0.4767 - val_recall: 0.7480\n",
            "Epoch 156/300\n",
            "73/73 [==============================] - 0s 2ms/step - loss: 0.4646 - recall: 0.7739 - val_loss: 0.4184 - val_recall: 0.6929\n",
            "Epoch 157/300\n",
            "73/73 [==============================] - 0s 2ms/step - loss: 0.4657 - recall: 0.7712 - val_loss: 0.4978 - val_recall: 0.7795\n",
            "Epoch 158/300\n",
            "73/73 [==============================] - 0s 3ms/step - loss: 0.4659 - recall: 0.7651 - val_loss: 0.4573 - val_recall: 0.7323\n",
            "Epoch 159/300\n",
            "73/73 [==============================] - 0s 3ms/step - loss: 0.4656 - recall: 0.7678 - val_loss: 0.5132 - val_recall: 0.7913\n",
            "Epoch 160/300\n",
            "73/73 [==============================] - 0s 2ms/step - loss: 0.4664 - recall: 0.7739 - val_loss: 0.4453 - val_recall: 0.7244\n",
            "Epoch 161/300\n",
            "73/73 [==============================] - 0s 3ms/step - loss: 0.4666 - recall: 0.7739 - val_loss: 0.4788 - val_recall: 0.7598\n",
            "Epoch 162/300\n",
            "73/73 [==============================] - 0s 2ms/step - loss: 0.4628 - recall: 0.7617 - val_loss: 0.4609 - val_recall: 0.7402\n",
            "Epoch 163/300\n",
            "73/73 [==============================] - 0s 2ms/step - loss: 0.4641 - recall: 0.7678 - val_loss: 0.4429 - val_recall: 0.7205\n",
            "Epoch 164/300\n",
            "73/73 [==============================] - 0s 2ms/step - loss: 0.4634 - recall: 0.7773 - val_loss: 0.4282 - val_recall: 0.7126\n",
            "Epoch 165/300\n",
            "73/73 [==============================] - 0s 2ms/step - loss: 0.4628 - recall: 0.7732 - val_loss: 0.4001 - val_recall: 0.6693\n",
            "Epoch 166/300\n",
            "73/73 [==============================] - 0s 3ms/step - loss: 0.4667 - recall: 0.7637 - val_loss: 0.5067 - val_recall: 0.7795\n",
            "Epoch 167/300\n",
            "73/73 [==============================] - 0s 3ms/step - loss: 0.4633 - recall: 0.7745 - val_loss: 0.4838 - val_recall: 0.7638\n",
            "Epoch 168/300\n",
            "73/73 [==============================] - 0s 2ms/step - loss: 0.4638 - recall: 0.7617 - val_loss: 0.4703 - val_recall: 0.7480\n",
            "Epoch 169/300\n",
            "73/73 [==============================] - 0s 2ms/step - loss: 0.4647 - recall: 0.7718 - val_loss: 0.4308 - val_recall: 0.7008\n",
            "Epoch 170/300\n",
            "73/73 [==============================] - 0s 2ms/step - loss: 0.4626 - recall: 0.7630 - val_loss: 0.4839 - val_recall: 0.7598\n",
            "Epoch 171/300\n",
            "73/73 [==============================] - 0s 3ms/step - loss: 0.4633 - recall: 0.7644 - val_loss: 0.4490 - val_recall: 0.7165\n",
            "Epoch 172/300\n",
            "73/73 [==============================] - 0s 2ms/step - loss: 0.4642 - recall: 0.7678 - val_loss: 0.4778 - val_recall: 0.7441\n",
            "Epoch 173/300\n",
            "73/73 [==============================] - 0s 2ms/step - loss: 0.4635 - recall: 0.7671 - val_loss: 0.4466 - val_recall: 0.7283\n",
            "Epoch 174/300\n",
            "73/73 [==============================] - 0s 3ms/step - loss: 0.4628 - recall: 0.7786 - val_loss: 0.4368 - val_recall: 0.7323\n",
            "Epoch 175/300\n",
            "73/73 [==============================] - 0s 2ms/step - loss: 0.4697 - recall: 0.7698 - val_loss: 0.4663 - val_recall: 0.7402\n",
            "Epoch 176/300\n",
            "73/73 [==============================] - 0s 2ms/step - loss: 0.4658 - recall: 0.7569 - val_loss: 0.4707 - val_recall: 0.7402\n",
            "Epoch 177/300\n",
            "73/73 [==============================] - 0s 3ms/step - loss: 0.4635 - recall: 0.7691 - val_loss: 0.4845 - val_recall: 0.7598\n",
            "Epoch 178/300\n",
            "73/73 [==============================] - 0s 3ms/step - loss: 0.4621 - recall: 0.7664 - val_loss: 0.4962 - val_recall: 0.7717\n",
            "Epoch 179/300\n",
            "73/73 [==============================] - 0s 2ms/step - loss: 0.4629 - recall: 0.7678 - val_loss: 0.4582 - val_recall: 0.7283\n",
            "Epoch 180/300\n",
            "73/73 [==============================] - 0s 3ms/step - loss: 0.4647 - recall: 0.7732 - val_loss: 0.3851 - val_recall: 0.6535\n",
            "Epoch 181/300\n",
            "73/73 [==============================] - 0s 3ms/step - loss: 0.4645 - recall: 0.7637 - val_loss: 0.4510 - val_recall: 0.7362\n",
            "Epoch 182/300\n",
            "73/73 [==============================] - 0s 3ms/step - loss: 0.4677 - recall: 0.7556 - val_loss: 0.4041 - val_recall: 0.6811\n",
            "Epoch 183/300\n",
            "73/73 [==============================] - 0s 2ms/step - loss: 0.4632 - recall: 0.7698 - val_loss: 0.4538 - val_recall: 0.7362\n",
            "Epoch 184/300\n",
            "73/73 [==============================] - 0s 3ms/step - loss: 0.4648 - recall: 0.7630 - val_loss: 0.4281 - val_recall: 0.7008\n",
            "Epoch 185/300\n",
            "73/73 [==============================] - 0s 2ms/step - loss: 0.4646 - recall: 0.7610 - val_loss: 0.5039 - val_recall: 0.7795\n",
            "Epoch 186/300\n",
            "73/73 [==============================] - 0s 3ms/step - loss: 0.4622 - recall: 0.7664 - val_loss: 0.5552 - val_recall: 0.8189\n",
            "Epoch 187/300\n",
            "73/73 [==============================] - 0s 2ms/step - loss: 0.4646 - recall: 0.7691 - val_loss: 0.4496 - val_recall: 0.7244\n",
            "Epoch 188/300\n",
            "73/73 [==============================] - 0s 3ms/step - loss: 0.4614 - recall: 0.7725 - val_loss: 0.4254 - val_recall: 0.6929\n",
            "Epoch 189/300\n",
            "73/73 [==============================] - 0s 3ms/step - loss: 0.4616 - recall: 0.7712 - val_loss: 0.4651 - val_recall: 0.7441\n",
            "Epoch 190/300\n",
            "73/73 [==============================] - 0s 2ms/step - loss: 0.4610 - recall: 0.7684 - val_loss: 0.4098 - val_recall: 0.6811\n",
            "Epoch 191/300\n",
            "73/73 [==============================] - 0s 3ms/step - loss: 0.4622 - recall: 0.7671 - val_loss: 0.5081 - val_recall: 0.7835\n",
            "Epoch 192/300\n",
            "73/73 [==============================] - 0s 3ms/step - loss: 0.4627 - recall: 0.7664 - val_loss: 0.4325 - val_recall: 0.7087\n",
            "Epoch 193/300\n",
            "73/73 [==============================] - 0s 2ms/step - loss: 0.4612 - recall: 0.7705 - val_loss: 0.4975 - val_recall: 0.7795\n",
            "Epoch 194/300\n",
            "73/73 [==============================] - 0s 3ms/step - loss: 0.4619 - recall: 0.7678 - val_loss: 0.4779 - val_recall: 0.7520\n",
            "Epoch 195/300\n",
            "73/73 [==============================] - 0s 3ms/step - loss: 0.4628 - recall: 0.7664 - val_loss: 0.4489 - val_recall: 0.7165\n",
            "Epoch 196/300\n",
            "73/73 [==============================] - 0s 3ms/step - loss: 0.4615 - recall: 0.7718 - val_loss: 0.4619 - val_recall: 0.7480\n",
            "Epoch 197/300\n",
            "73/73 [==============================] - 0s 2ms/step - loss: 0.4611 - recall: 0.7732 - val_loss: 0.4957 - val_recall: 0.7598\n",
            "Epoch 198/300\n",
            "73/73 [==============================] - 0s 3ms/step - loss: 0.4605 - recall: 0.7664 - val_loss: 0.4977 - val_recall: 0.7717\n",
            "Epoch 199/300\n",
            "73/73 [==============================] - 0s 2ms/step - loss: 0.4620 - recall: 0.7651 - val_loss: 0.4660 - val_recall: 0.7362\n",
            "Epoch 200/300\n",
            "73/73 [==============================] - 0s 2ms/step - loss: 0.4620 - recall: 0.7698 - val_loss: 0.4064 - val_recall: 0.6772\n",
            "Epoch 201/300\n",
            "73/73 [==============================] - 0s 2ms/step - loss: 0.4631 - recall: 0.7745 - val_loss: 0.4313 - val_recall: 0.7126\n",
            "Epoch 202/300\n",
            "73/73 [==============================] - 0s 3ms/step - loss: 0.4618 - recall: 0.7684 - val_loss: 0.4072 - val_recall: 0.6850\n",
            "Epoch 203/300\n",
            "73/73 [==============================] - 0s 2ms/step - loss: 0.4621 - recall: 0.7725 - val_loss: 0.4145 - val_recall: 0.6850\n",
            "Epoch 204/300\n",
            "73/73 [==============================] - 0s 3ms/step - loss: 0.4612 - recall: 0.7637 - val_loss: 0.4729 - val_recall: 0.7402\n",
            "Epoch 205/300\n",
            "73/73 [==============================] - 0s 3ms/step - loss: 0.4589 - recall: 0.7678 - val_loss: 0.4410 - val_recall: 0.7205\n",
            "Epoch 206/300\n",
            "73/73 [==============================] - 0s 2ms/step - loss: 0.4634 - recall: 0.7657 - val_loss: 0.4835 - val_recall: 0.7559\n",
            "Epoch 207/300\n",
            "73/73 [==============================] - 0s 2ms/step - loss: 0.4630 - recall: 0.7691 - val_loss: 0.4510 - val_recall: 0.7205\n",
            "Epoch 208/300\n",
            "73/73 [==============================] - 0s 3ms/step - loss: 0.4621 - recall: 0.7705 - val_loss: 0.4425 - val_recall: 0.7126\n",
            "Epoch 209/300\n",
            "73/73 [==============================] - 0s 3ms/step - loss: 0.4624 - recall: 0.7684 - val_loss: 0.4401 - val_recall: 0.7087\n",
            "Epoch 210/300\n",
            "73/73 [==============================] - 0s 3ms/step - loss: 0.4599 - recall: 0.7684 - val_loss: 0.4293 - val_recall: 0.7087\n",
            "Epoch 211/300\n",
            "73/73 [==============================] - 0s 3ms/step - loss: 0.4604 - recall: 0.7745 - val_loss: 0.4310 - val_recall: 0.7087\n",
            "Epoch 212/300\n",
            "73/73 [==============================] - 0s 3ms/step - loss: 0.4619 - recall: 0.7678 - val_loss: 0.4298 - val_recall: 0.7047\n",
            "Epoch 213/300\n",
            "73/73 [==============================] - 0s 3ms/step - loss: 0.4645 - recall: 0.7617 - val_loss: 0.5124 - val_recall: 0.7795\n",
            "Epoch 214/300\n",
            "73/73 [==============================] - 0s 3ms/step - loss: 0.4624 - recall: 0.7691 - val_loss: 0.4163 - val_recall: 0.6850\n",
            "Epoch 215/300\n",
            "73/73 [==============================] - 0s 3ms/step - loss: 0.4628 - recall: 0.7583 - val_loss: 0.4608 - val_recall: 0.7362\n",
            "Epoch 216/300\n",
            "73/73 [==============================] - 0s 2ms/step - loss: 0.4623 - recall: 0.7603 - val_loss: 0.4526 - val_recall: 0.7323\n",
            "Epoch 217/300\n",
            "73/73 [==============================] - 0s 2ms/step - loss: 0.4597 - recall: 0.7732 - val_loss: 0.4373 - val_recall: 0.7165\n",
            "Epoch 218/300\n",
            "73/73 [==============================] - 0s 3ms/step - loss: 0.4625 - recall: 0.7718 - val_loss: 0.4280 - val_recall: 0.7008\n",
            "Epoch 219/300\n",
            "73/73 [==============================] - 0s 3ms/step - loss: 0.4603 - recall: 0.7684 - val_loss: 0.5078 - val_recall: 0.7913\n",
            "Epoch 220/300\n",
            "73/73 [==============================] - 0s 2ms/step - loss: 0.4663 - recall: 0.7637 - val_loss: 0.4703 - val_recall: 0.7402\n",
            "Epoch 221/300\n",
            "73/73 [==============================] - 0s 3ms/step - loss: 0.4617 - recall: 0.7624 - val_loss: 0.4565 - val_recall: 0.7402\n",
            "Epoch 222/300\n",
            "73/73 [==============================] - 0s 2ms/step - loss: 0.4626 - recall: 0.7583 - val_loss: 0.5505 - val_recall: 0.8031\n",
            "Epoch 223/300\n",
            "73/73 [==============================] - 0s 3ms/step - loss: 0.4635 - recall: 0.7718 - val_loss: 0.4355 - val_recall: 0.7283\n",
            "Epoch 224/300\n",
            "73/73 [==============================] - 0s 2ms/step - loss: 0.4599 - recall: 0.7718 - val_loss: 0.4598 - val_recall: 0.7323\n",
            "Epoch 225/300\n",
            "73/73 [==============================] - 0s 3ms/step - loss: 0.4613 - recall: 0.7725 - val_loss: 0.4703 - val_recall: 0.7402\n",
            "Epoch 226/300\n",
            "73/73 [==============================] - 0s 3ms/step - loss: 0.4598 - recall: 0.7712 - val_loss: 0.4327 - val_recall: 0.7047\n",
            "Epoch 227/300\n",
            "73/73 [==============================] - 0s 2ms/step - loss: 0.4604 - recall: 0.7637 - val_loss: 0.5062 - val_recall: 0.7835\n",
            "Epoch 228/300\n",
            "73/73 [==============================] - 0s 3ms/step - loss: 0.4598 - recall: 0.7691 - val_loss: 0.4731 - val_recall: 0.7402\n",
            "Epoch 229/300\n",
            "73/73 [==============================] - 0s 2ms/step - loss: 0.4609 - recall: 0.7664 - val_loss: 0.4543 - val_recall: 0.7323\n",
            "Epoch 230/300\n",
            "73/73 [==============================] - 0s 3ms/step - loss: 0.4603 - recall: 0.7630 - val_loss: 0.4567 - val_recall: 0.7283\n",
            "Epoch 231/300\n",
            "73/73 [==============================] - 0s 3ms/step - loss: 0.4602 - recall: 0.7691 - val_loss: 0.4448 - val_recall: 0.7205\n",
            "Epoch 232/300\n",
            "73/73 [==============================] - 0s 3ms/step - loss: 0.4615 - recall: 0.7630 - val_loss: 0.5127 - val_recall: 0.7874\n",
            "Epoch 233/300\n",
            "73/73 [==============================] - 0s 3ms/step - loss: 0.4611 - recall: 0.7732 - val_loss: 0.4440 - val_recall: 0.7244\n",
            "Epoch 234/300\n",
            "73/73 [==============================] - 0s 3ms/step - loss: 0.4655 - recall: 0.7732 - val_loss: 0.3923 - val_recall: 0.6378\n",
            "Epoch 235/300\n",
            "73/73 [==============================] - 0s 3ms/step - loss: 0.4612 - recall: 0.7630 - val_loss: 0.4275 - val_recall: 0.7008\n",
            "Epoch 236/300\n",
            "73/73 [==============================] - 0s 3ms/step - loss: 0.4601 - recall: 0.7691 - val_loss: 0.4586 - val_recall: 0.7323\n",
            "Epoch 237/300\n",
            "73/73 [==============================] - 0s 3ms/step - loss: 0.4597 - recall: 0.7705 - val_loss: 0.4428 - val_recall: 0.7165\n",
            "Epoch 238/300\n",
            "73/73 [==============================] - 0s 2ms/step - loss: 0.4594 - recall: 0.7637 - val_loss: 0.4679 - val_recall: 0.7441\n",
            "Epoch 239/300\n",
            "73/73 [==============================] - 0s 3ms/step - loss: 0.4587 - recall: 0.7678 - val_loss: 0.5016 - val_recall: 0.7756\n",
            "Epoch 240/300\n",
            "73/73 [==============================] - 0s 3ms/step - loss: 0.4602 - recall: 0.7664 - val_loss: 0.4247 - val_recall: 0.6969\n",
            "Epoch 241/300\n",
            "73/73 [==============================] - 0s 3ms/step - loss: 0.4588 - recall: 0.7806 - val_loss: 0.4743 - val_recall: 0.7520\n",
            "Epoch 242/300\n",
            "73/73 [==============================] - 0s 3ms/step - loss: 0.4594 - recall: 0.7644 - val_loss: 0.4503 - val_recall: 0.7244\n",
            "Epoch 243/300\n",
            "73/73 [==============================] - 0s 3ms/step - loss: 0.4591 - recall: 0.7671 - val_loss: 0.4427 - val_recall: 0.7047\n",
            "Epoch 244/300\n",
            "73/73 [==============================] - 0s 3ms/step - loss: 0.4608 - recall: 0.7596 - val_loss: 0.4431 - val_recall: 0.7165\n",
            "Epoch 245/300\n",
            "73/73 [==============================] - 0s 3ms/step - loss: 0.4600 - recall: 0.7698 - val_loss: 0.4868 - val_recall: 0.7638\n",
            "Epoch 246/300\n",
            "73/73 [==============================] - 0s 3ms/step - loss: 0.4596 - recall: 0.7725 - val_loss: 0.4843 - val_recall: 0.7598\n",
            "Epoch 247/300\n",
            "73/73 [==============================] - 0s 2ms/step - loss: 0.4608 - recall: 0.7705 - val_loss: 0.4514 - val_recall: 0.7205\n",
            "Epoch 248/300\n",
            "73/73 [==============================] - 0s 2ms/step - loss: 0.4590 - recall: 0.7691 - val_loss: 0.4459 - val_recall: 0.7126\n",
            "Epoch 249/300\n",
            "73/73 [==============================] - 0s 3ms/step - loss: 0.4664 - recall: 0.7617 - val_loss: 0.4649 - val_recall: 0.7283\n",
            "Epoch 250/300\n",
            "73/73 [==============================] - 0s 2ms/step - loss: 0.4592 - recall: 0.7698 - val_loss: 0.4399 - val_recall: 0.7165\n",
            "Epoch 251/300\n",
            "73/73 [==============================] - 0s 2ms/step - loss: 0.4583 - recall: 0.7752 - val_loss: 0.4476 - val_recall: 0.7205\n",
            "Epoch 252/300\n",
            "73/73 [==============================] - 0s 2ms/step - loss: 0.4601 - recall: 0.7691 - val_loss: 0.4667 - val_recall: 0.7441\n",
            "Epoch 253/300\n",
            "73/73 [==============================] - 0s 3ms/step - loss: 0.4605 - recall: 0.7617 - val_loss: 0.4769 - val_recall: 0.7520\n",
            "Epoch 254/300\n",
            "73/73 [==============================] - 0s 3ms/step - loss: 0.4601 - recall: 0.7651 - val_loss: 0.5005 - val_recall: 0.7717\n",
            "Epoch 255/300\n",
            "73/73 [==============================] - 0s 3ms/step - loss: 0.4578 - recall: 0.7684 - val_loss: 0.4177 - val_recall: 0.6890\n",
            "Epoch 256/300\n",
            "73/73 [==============================] - 0s 3ms/step - loss: 0.4603 - recall: 0.7671 - val_loss: 0.4533 - val_recall: 0.7165\n",
            "Epoch 257/300\n",
            "73/73 [==============================] - 0s 2ms/step - loss: 0.4600 - recall: 0.7766 - val_loss: 0.4557 - val_recall: 0.7283\n",
            "Epoch 258/300\n",
            "73/73 [==============================] - 0s 3ms/step - loss: 0.4592 - recall: 0.7705 - val_loss: 0.4205 - val_recall: 0.6890\n",
            "Epoch 259/300\n",
            "73/73 [==============================] - 0s 3ms/step - loss: 0.4586 - recall: 0.7684 - val_loss: 0.4390 - val_recall: 0.7126\n",
            "Epoch 260/300\n",
            "73/73 [==============================] - 0s 3ms/step - loss: 0.4592 - recall: 0.7637 - val_loss: 0.4683 - val_recall: 0.7402\n",
            "Epoch 261/300\n",
            "73/73 [==============================] - 0s 3ms/step - loss: 0.4584 - recall: 0.7664 - val_loss: 0.4332 - val_recall: 0.7126\n",
            "Epoch 262/300\n",
            "73/73 [==============================] - 0s 3ms/step - loss: 0.4579 - recall: 0.7624 - val_loss: 0.4796 - val_recall: 0.7520\n",
            "Epoch 263/300\n",
            "73/73 [==============================] - 0s 3ms/step - loss: 0.4606 - recall: 0.7766 - val_loss: 0.4531 - val_recall: 0.7244\n",
            "Epoch 264/300\n",
            "73/73 [==============================] - 0s 3ms/step - loss: 0.4581 - recall: 0.7637 - val_loss: 0.4645 - val_recall: 0.7362\n",
            "Epoch 265/300\n",
            "73/73 [==============================] - 0s 2ms/step - loss: 0.4577 - recall: 0.7745 - val_loss: 0.4574 - val_recall: 0.7283\n",
            "Epoch 266/300\n",
            "73/73 [==============================] - 0s 3ms/step - loss: 0.4605 - recall: 0.7563 - val_loss: 0.4628 - val_recall: 0.7283\n",
            "Epoch 267/300\n",
            "73/73 [==============================] - 0s 2ms/step - loss: 0.4572 - recall: 0.7684 - val_loss: 0.4503 - val_recall: 0.7205\n",
            "Epoch 268/300\n",
            "73/73 [==============================] - 0s 3ms/step - loss: 0.4581 - recall: 0.7705 - val_loss: 0.4379 - val_recall: 0.7205\n",
            "Epoch 269/300\n",
            "73/73 [==============================] - 0s 3ms/step - loss: 0.4587 - recall: 0.7725 - val_loss: 0.4273 - val_recall: 0.6969\n",
            "Epoch 270/300\n",
            "73/73 [==============================] - 0s 3ms/step - loss: 0.4576 - recall: 0.7732 - val_loss: 0.4171 - val_recall: 0.6929\n",
            "Epoch 271/300\n",
            "73/73 [==============================] - 0s 3ms/step - loss: 0.4601 - recall: 0.7684 - val_loss: 0.5031 - val_recall: 0.7835\n",
            "Epoch 272/300\n",
            "73/73 [==============================] - 0s 2ms/step - loss: 0.4586 - recall: 0.7800 - val_loss: 0.4277 - val_recall: 0.6929\n",
            "Epoch 273/300\n",
            "73/73 [==============================] - 0s 3ms/step - loss: 0.4583 - recall: 0.7739 - val_loss: 0.4404 - val_recall: 0.7087\n",
            "Epoch 274/300\n",
            "73/73 [==============================] - 0s 3ms/step - loss: 0.4605 - recall: 0.7644 - val_loss: 0.4386 - val_recall: 0.7165\n",
            "Epoch 275/300\n",
            "73/73 [==============================] - 0s 3ms/step - loss: 0.4584 - recall: 0.7644 - val_loss: 0.4467 - val_recall: 0.7087\n",
            "Epoch 276/300\n",
            "73/73 [==============================] - 0s 3ms/step - loss: 0.4591 - recall: 0.7617 - val_loss: 0.4319 - val_recall: 0.7008\n",
            "Epoch 277/300\n",
            "73/73 [==============================] - 0s 3ms/step - loss: 0.4585 - recall: 0.7684 - val_loss: 0.4260 - val_recall: 0.6969\n",
            "Epoch 278/300\n",
            "73/73 [==============================] - 0s 3ms/step - loss: 0.4585 - recall: 0.7637 - val_loss: 0.4514 - val_recall: 0.7323\n",
            "Epoch 279/300\n",
            "73/73 [==============================] - 0s 3ms/step - loss: 0.4576 - recall: 0.7705 - val_loss: 0.4416 - val_recall: 0.7244\n",
            "Epoch 280/300\n",
            "73/73 [==============================] - 0s 3ms/step - loss: 0.4600 - recall: 0.7684 - val_loss: 0.4738 - val_recall: 0.7323\n",
            "Epoch 281/300\n",
            "73/73 [==============================] - 0s 3ms/step - loss: 0.4592 - recall: 0.7644 - val_loss: 0.4380 - val_recall: 0.7008\n",
            "Epoch 282/300\n",
            "73/73 [==============================] - 0s 2ms/step - loss: 0.4568 - recall: 0.7637 - val_loss: 0.4847 - val_recall: 0.7559\n",
            "Epoch 283/300\n",
            "73/73 [==============================] - 0s 3ms/step - loss: 0.4598 - recall: 0.7671 - val_loss: 0.5143 - val_recall: 0.7835\n",
            "Epoch 284/300\n",
            "73/73 [==============================] - 0s 3ms/step - loss: 0.4578 - recall: 0.7712 - val_loss: 0.4250 - val_recall: 0.6969\n",
            "Epoch 285/300\n",
            "73/73 [==============================] - 0s 3ms/step - loss: 0.4563 - recall: 0.7630 - val_loss: 0.4573 - val_recall: 0.7244\n",
            "Epoch 286/300\n",
            "73/73 [==============================] - 0s 3ms/step - loss: 0.4585 - recall: 0.7624 - val_loss: 0.4960 - val_recall: 0.7559\n",
            "Epoch 287/300\n",
            "73/73 [==============================] - 0s 2ms/step - loss: 0.4580 - recall: 0.7664 - val_loss: 0.4383 - val_recall: 0.7244\n",
            "Epoch 288/300\n",
            "73/73 [==============================] - 0s 3ms/step - loss: 0.4583 - recall: 0.7617 - val_loss: 0.4787 - val_recall: 0.7480\n",
            "Epoch 289/300\n",
            "73/73 [==============================] - 0s 3ms/step - loss: 0.4626 - recall: 0.7718 - val_loss: 0.5369 - val_recall: 0.8071\n",
            "Epoch 290/300\n",
            "73/73 [==============================] - 0s 3ms/step - loss: 0.4576 - recall: 0.7752 - val_loss: 0.4592 - val_recall: 0.7283\n",
            "Epoch 291/300\n",
            "73/73 [==============================] - 0s 3ms/step - loss: 0.4576 - recall: 0.7596 - val_loss: 0.5173 - val_recall: 0.7717\n",
            "Epoch 292/300\n",
            "73/73 [==============================] - 0s 3ms/step - loss: 0.4605 - recall: 0.7739 - val_loss: 0.4605 - val_recall: 0.7244\n",
            "Epoch 293/300\n",
            "73/73 [==============================] - 0s 3ms/step - loss: 0.4585 - recall: 0.7678 - val_loss: 0.4653 - val_recall: 0.7402\n",
            "Epoch 294/300\n",
            "73/73 [==============================] - 0s 3ms/step - loss: 0.4629 - recall: 0.7671 - val_loss: 0.5112 - val_recall: 0.7756\n",
            "Epoch 295/300\n",
            "73/73 [==============================] - 0s 3ms/step - loss: 0.4599 - recall: 0.7745 - val_loss: 0.4476 - val_recall: 0.7283\n",
            "Epoch 296/300\n",
            "73/73 [==============================] - 0s 2ms/step - loss: 0.4574 - recall: 0.7610 - val_loss: 0.5111 - val_recall: 0.7795\n",
            "Epoch 297/300\n",
            "73/73 [==============================] - 0s 2ms/step - loss: 0.4580 - recall: 0.7664 - val_loss: 0.5253 - val_recall: 0.7874\n",
            "Epoch 298/300\n",
            "73/73 [==============================] - 0s 3ms/step - loss: 0.4578 - recall: 0.7698 - val_loss: 0.4816 - val_recall: 0.7441\n",
            "Epoch 299/300\n",
            "73/73 [==============================] - 0s 3ms/step - loss: 0.4575 - recall: 0.7651 - val_loss: 0.4171 - val_recall: 0.6772\n",
            "Epoch 300/300\n",
            "73/73 [==============================] - 0s 3ms/step - loss: 0.4574 - recall: 0.7624 - val_loss: 0.4961 - val_recall: 0.7677\n"
          ]
        },
        {
          "output_type": "execute_result",
          "data": {
            "text/plain": [
              "<keras.callbacks.History at 0x7f5b918ca490>"
            ]
          },
          "metadata": {},
          "execution_count": 63
        }
      ]
    },
    {
      "cell_type": "code",
      "source": [
        ""
      ],
      "metadata": {
        "id": "tVCqJlo6vUA7"
      },
      "execution_count": 63,
      "outputs": []
    },
    {
      "cell_type": "markdown",
      "metadata": {
        "id": "I2vRsBeC6QO7"
      },
      "source": [
        "### Evaluate The Model\n",
        "\n",
        "- Plot the model history to observe the changing of metrics\n",
        "- Make prediction to see \"confusion matrix\" and \"classification report\"\n",
        "- Check ROC (Receiver Operating Curve) and AUC (Area Under Curve) for the model"
      ]
    },
    {
      "cell_type": "code",
      "execution_count": 63,
      "metadata": {
        "id": "vvIjvgxL6QO7"
      },
      "outputs": [],
      "source": [
        ""
      ]
    },
    {
      "cell_type": "code",
      "execution_count": 64,
      "metadata": {
        "outputId": "ff828d1d-280c-4ce4-a511-0569e2c6631b",
        "colab": {
          "base_uri": "https://localhost:8080/"
        },
        "id": "5HvJGWsywqar"
      },
      "outputs": [
        {
          "output_type": "stream",
          "name": "stdout",
          "text": [
            "Model: \"sequential_2\"\n",
            "_________________________________________________________________\n",
            " Layer (type)                Output Shape              Param #   \n",
            "=================================================================\n",
            " dense_8 (Dense)             (None, 20)                220       \n",
            "                                                                 \n",
            " dense_9 (Dense)             (None, 10)                210       \n",
            "                                                                 \n",
            " dense_10 (Dense)            (None, 5)                 55        \n",
            "                                                                 \n",
            " dense_11 (Dense)            (None, 1)                 6         \n",
            "                                                                 \n",
            "=================================================================\n",
            "Total params: 491\n",
            "Trainable params: 491\n",
            "Non-trainable params: 0\n",
            "_________________________________________________________________\n"
          ]
        }
      ],
      "source": [
        "model.summary()"
      ]
    },
    {
      "cell_type": "code",
      "execution_count": 65,
      "metadata": {
        "outputId": "bfb9c837-24a7-4d14-d773-fba94529f5a7",
        "colab": {
          "base_uri": "https://localhost:8080/",
          "height": 206
        },
        "id": "WxRxyejWwqa_"
      },
      "outputs": [
        {
          "output_type": "execute_result",
          "data": {
            "text/plain": [
              "   loss  recall  val_loss  val_recall\n",
              "0 0.686   0.911     0.713       0.839\n",
              "1 0.671   0.799     0.695       0.772\n",
              "2 0.645   0.707     0.646       0.661\n",
              "3 0.612   0.674     0.629       0.677\n",
              "4 0.586   0.705     0.586       0.661"
            ],
            "text/html": [
              "\n",
              "  <div id=\"df-3995cf7a-dc5b-4b1e-9e0d-72a93ff7bf39\">\n",
              "    <div class=\"colab-df-container\">\n",
              "      <div>\n",
              "<style scoped>\n",
              "    .dataframe tbody tr th:only-of-type {\n",
              "        vertical-align: middle;\n",
              "    }\n",
              "\n",
              "    .dataframe tbody tr th {\n",
              "        vertical-align: top;\n",
              "    }\n",
              "\n",
              "    .dataframe thead th {\n",
              "        text-align: right;\n",
              "    }\n",
              "</style>\n",
              "<table border=\"1\" class=\"dataframe\">\n",
              "  <thead>\n",
              "    <tr style=\"text-align: right;\">\n",
              "      <th></th>\n",
              "      <th>loss</th>\n",
              "      <th>recall</th>\n",
              "      <th>val_loss</th>\n",
              "      <th>val_recall</th>\n",
              "    </tr>\n",
              "  </thead>\n",
              "  <tbody>\n",
              "    <tr>\n",
              "      <th>0</th>\n",
              "      <td>0.686</td>\n",
              "      <td>0.911</td>\n",
              "      <td>0.713</td>\n",
              "      <td>0.839</td>\n",
              "    </tr>\n",
              "    <tr>\n",
              "      <th>1</th>\n",
              "      <td>0.671</td>\n",
              "      <td>0.799</td>\n",
              "      <td>0.695</td>\n",
              "      <td>0.772</td>\n",
              "    </tr>\n",
              "    <tr>\n",
              "      <th>2</th>\n",
              "      <td>0.645</td>\n",
              "      <td>0.707</td>\n",
              "      <td>0.646</td>\n",
              "      <td>0.661</td>\n",
              "    </tr>\n",
              "    <tr>\n",
              "      <th>3</th>\n",
              "      <td>0.612</td>\n",
              "      <td>0.674</td>\n",
              "      <td>0.629</td>\n",
              "      <td>0.677</td>\n",
              "    </tr>\n",
              "    <tr>\n",
              "      <th>4</th>\n",
              "      <td>0.586</td>\n",
              "      <td>0.705</td>\n",
              "      <td>0.586</td>\n",
              "      <td>0.661</td>\n",
              "    </tr>\n",
              "  </tbody>\n",
              "</table>\n",
              "</div>\n",
              "      <button class=\"colab-df-convert\" onclick=\"convertToInteractive('df-3995cf7a-dc5b-4b1e-9e0d-72a93ff7bf39')\"\n",
              "              title=\"Convert this dataframe to an interactive table.\"\n",
              "              style=\"display:none;\">\n",
              "        \n",
              "  <svg xmlns=\"http://www.w3.org/2000/svg\" height=\"24px\"viewBox=\"0 0 24 24\"\n",
              "       width=\"24px\">\n",
              "    <path d=\"M0 0h24v24H0V0z\" fill=\"none\"/>\n",
              "    <path d=\"M18.56 5.44l.94 2.06.94-2.06 2.06-.94-2.06-.94-.94-2.06-.94 2.06-2.06.94zm-11 1L8.5 8.5l.94-2.06 2.06-.94-2.06-.94L8.5 2.5l-.94 2.06-2.06.94zm10 10l.94 2.06.94-2.06 2.06-.94-2.06-.94-.94-2.06-.94 2.06-2.06.94z\"/><path d=\"M17.41 7.96l-1.37-1.37c-.4-.4-.92-.59-1.43-.59-.52 0-1.04.2-1.43.59L10.3 9.45l-7.72 7.72c-.78.78-.78 2.05 0 2.83L4 21.41c.39.39.9.59 1.41.59.51 0 1.02-.2 1.41-.59l7.78-7.78 2.81-2.81c.8-.78.8-2.07 0-2.86zM5.41 20L4 18.59l7.72-7.72 1.47 1.35L5.41 20z\"/>\n",
              "  </svg>\n",
              "      </button>\n",
              "      \n",
              "  <style>\n",
              "    .colab-df-container {\n",
              "      display:flex;\n",
              "      flex-wrap:wrap;\n",
              "      gap: 12px;\n",
              "    }\n",
              "\n",
              "    .colab-df-convert {\n",
              "      background-color: #E8F0FE;\n",
              "      border: none;\n",
              "      border-radius: 50%;\n",
              "      cursor: pointer;\n",
              "      display: none;\n",
              "      fill: #1967D2;\n",
              "      height: 32px;\n",
              "      padding: 0 0 0 0;\n",
              "      width: 32px;\n",
              "    }\n",
              "\n",
              "    .colab-df-convert:hover {\n",
              "      background-color: #E2EBFA;\n",
              "      box-shadow: 0px 1px 2px rgba(60, 64, 67, 0.3), 0px 1px 3px 1px rgba(60, 64, 67, 0.15);\n",
              "      fill: #174EA6;\n",
              "    }\n",
              "\n",
              "    [theme=dark] .colab-df-convert {\n",
              "      background-color: #3B4455;\n",
              "      fill: #D2E3FC;\n",
              "    }\n",
              "\n",
              "    [theme=dark] .colab-df-convert:hover {\n",
              "      background-color: #434B5C;\n",
              "      box-shadow: 0px 1px 3px 1px rgba(0, 0, 0, 0.15);\n",
              "      filter: drop-shadow(0px 1px 2px rgba(0, 0, 0, 0.3));\n",
              "      fill: #FFFFFF;\n",
              "    }\n",
              "  </style>\n",
              "\n",
              "      <script>\n",
              "        const buttonEl =\n",
              "          document.querySelector('#df-3995cf7a-dc5b-4b1e-9e0d-72a93ff7bf39 button.colab-df-convert');\n",
              "        buttonEl.style.display =\n",
              "          google.colab.kernel.accessAllowed ? 'block' : 'none';\n",
              "\n",
              "        async function convertToInteractive(key) {\n",
              "          const element = document.querySelector('#df-3995cf7a-dc5b-4b1e-9e0d-72a93ff7bf39');\n",
              "          const dataTable =\n",
              "            await google.colab.kernel.invokeFunction('convertToInteractive',\n",
              "                                                     [key], {});\n",
              "          if (!dataTable) return;\n",
              "\n",
              "          const docLinkHtml = 'Like what you see? Visit the ' +\n",
              "            '<a target=\"_blank\" href=https://colab.research.google.com/notebooks/data_table.ipynb>data table notebook</a>'\n",
              "            + ' to learn more about interactive tables.';\n",
              "          element.innerHTML = '';\n",
              "          dataTable['output_type'] = 'display_data';\n",
              "          await google.colab.output.renderOutput(dataTable, element);\n",
              "          const docLink = document.createElement('div');\n",
              "          docLink.innerHTML = docLinkHtml;\n",
              "          element.appendChild(docLink);\n",
              "        }\n",
              "      </script>\n",
              "    </div>\n",
              "  </div>\n",
              "  "
            ]
          },
          "metadata": {},
          "execution_count": 65
        }
      ],
      "source": [
        "loss_df = pd.DataFrame(model.history.history)\n",
        "loss_df.head()"
      ]
    },
    {
      "cell_type": "code",
      "execution_count": 66,
      "metadata": {
        "colab": {
          "base_uri": "https://localhost:8080/",
          "height": 392
        },
        "outputId": "a0faf767-c101-4d5e-dc63-7289e6c2fa3f",
        "id": "R9CcdYESwqa_"
      },
      "outputs": [
        {
          "output_type": "display_data",
          "data": {
            "text/plain": [
              "<Figure size 720x720 with 0 Axes>"
            ]
          },
          "metadata": {}
        },
        {
          "output_type": "display_data",
          "data": {
            "text/plain": [
              "<Figure size 720x432 with 1 Axes>"
            ],
            "image/png": "[encoded data removed]"
          },
          "metadata": {}
        }
      ],
      "source": [
        "plt.figure(figsize=(10,10))\n",
        "loss_df.plot();    "
      ]
    },
    {
      "cell_type": "code",
      "execution_count": 67,
      "metadata": {
        "outputId": "9309baaa-ca64-4646-b7c4-41e28f0b3fe2",
        "colab": {
          "base_uri": "https://localhost:8080/"
        },
        "id": "Q7s1YldIwqa_"
      },
      "outputs": [
        {
          "output_type": "execute_result",
          "data": {
            "text/plain": [
              "[0.5244516730308533, 0.8006535768508911]"
            ]
          },
          "metadata": {},
          "execution_count": 67
        }
      ],
      "source": [
        "model.evaluate(X_test, y_test, verbose=0)   "
      ]
    },
    {
      "cell_type": "code",
      "execution_count": 68,
      "metadata": {
        "outputId": "6026c641-d0cd-49a4-911e-acf943c14f62",
        "colab": {
          "base_uri": "https://localhost:8080/"
        },
        "id": "DkWeY_Itwqa_"
      },
      "outputs": [
        {
          "output_type": "stream",
          "name": "stdout",
          "text": [
            "loss :  0.5244516730308533\n",
            "accuracy :  0.8006535768508911\n"
          ]
        }
      ],
      "source": [
        "loss, accuracy = model.evaluate(X_test, y_test, verbose=0)\n",
        "print(\"loss : \", loss)\n",
        "print(\"accuracy : \", accuracy)"
      ]
    },
    {
      "cell_type": "code",
      "execution_count": 69,
      "metadata": {
        "outputId": "a5e5a2e8-0394-45ef-93fe-e1ce0a31ab24",
        "colab": {
          "base_uri": "https://localhost:8080/"
        },
        "id": "8Y_zA4TfwqbA"
      },
      "outputs": [
        {
          "output_type": "stream",
          "name": "stdout",
          "text": [
            "[[851 343]\n",
            " [ 61 245]]\n",
            "              precision    recall  f1-score   support\n",
            "\n",
            "           0       0.93      0.71      0.81      1194\n",
            "           1       0.42      0.80      0.55       306\n",
            "\n",
            "    accuracy                           0.73      1500\n",
            "   macro avg       0.67      0.76      0.68      1500\n",
            "weighted avg       0.83      0.73      0.76      1500\n",
            "\n"
          ]
        }
      ],
      "source": [
        "y_pred = model.predict(X_test) > 0.5                  \n",
        "print(confusion_matrix(y_test, y_pred))\n",
        "print(classification_report(y_test, y_pred))          "
      ]
    },
    {
      "cell_type": "code",
      "source": [
        "from sklearn.metrics import precision_recall_curve"
      ],
      "metadata": {
        "id": "dknkQAl8x_zH"
      },
      "execution_count": 70,
      "outputs": []
    },
    {
      "cell_type": "code",
      "execution_count": 71,
      "metadata": {
        "id": "exM1gGtLuWYj",
        "outputId": "b2969a82-954d-45e7-ab0a-559d4d1e0973",
        "colab": {
          "base_uri": "https://localhost:8080/",
          "height": 404
        }
      },
      "outputs": [
        {
          "output_type": "display_data",
          "data": {
            "text/plain": [
              "<Figure size 720x432 with 1 Axes>"
            ],
            "image/png": "[encoded data removed]"
          },
          "metadata": {}
        }
      ],
      "source": [
        "y_pred_proba = model.predict(X_test)\n",
        "precisions, recalls, thresholds = precision_recall_curve(y_test, y_pred_proba)         \n",
        "plt.plot(recalls,precisions, label='ANN')\n",
        "plt.xlabel('recalls')\n",
        "plt.ylabel('precisions')\n",
        "plt.title('Precision-recall-curve')\n",
        "plt.show()"
      ]
    },
    {
      "cell_type": "code",
      "execution_count": 72,
      "metadata": {
        "id": "XTAP0hEmuWYj",
        "outputId": "84763a82-6158-4280-ccb9-48aedfc86db0",
        "colab": {
          "base_uri": "https://localhost:8080/"
        }
      },
      "outputs": [
        {
          "output_type": "execute_result",
          "data": {
            "text/plain": [
              "0.8409257617061342"
            ]
          },
          "metadata": {},
          "execution_count": 72
        }
      ],
      "source": [
        "roc_auc_score(y_test, y_pred_proba)"
      ]
    },
    {
      "cell_type": "markdown",
      "metadata": {
        "id": "X7uY_0SV6QO7"
      },
      "source": [
        "## Implementation Different Methods to Develop The Model\n",
        "\n",
        "- Implement the following methods on model creating with \"class_weight\" parameter\n",
        "- Create and evaluate model for each method "
      ]
    },
    {
      "cell_type": "markdown",
      "metadata": {
        "id": "ThWG3wxR6QO8"
      },
      "source": [
        "### Increase The Learning Rate and Observe The Results"
      ]
    },
    {
      "cell_type": "code",
      "execution_count": 72,
      "metadata": {
        "ExecuteTime": {
          "end_time": "2022-06-21T18:06:52.894297Z",
          "start_time": "2022-06-21T18:06:52.866371Z"
        },
        "cell_style": "split",
        "id": "Hq6AgBHtGcgS"
      },
      "outputs": [],
      "source": [
        ""
      ]
    },
    {
      "cell_type": "code",
      "execution_count": 73,
      "metadata": {
        "id": "B5yhpx62uWYY"
      },
      "outputs": [],
      "source": [
        "from tensorflow.keras.optimizers import Adam              "
      ]
    },
    {
      "cell_type": "code",
      "execution_count": 74,
      "metadata": {
        "id": "LaT0iuEBuWYZ"
      },
      "outputs": [],
      "source": [
        "tf.random.set_seed(seed)\n",
        "\n",
        "model = Sequential()\n",
        "\n",
        "model.add(Dense(20, activation = \"relu\", input_dim = X_train.shape[1]))\n",
        "model.add(Dense(10, activation = \"relu\"))\n",
        "model.add(Dense(5, activation = \"relu\"))\n",
        "model.add(Dense(1, activation = \"sigmoid\"))\n",
        "\n",
        "opt = Adam(lr = 0.002)\n",
        "model.compile(optimizer = opt, loss = \"binary_crossentropy\", metrics = [\"accuracy\"])"
      ]
    },
    {
      "cell_type": "code",
      "execution_count": 75,
      "metadata": {
        "id": "EGagoJwquWYa"
      },
      "outputs": [],
      "source": [
        "early_stop = EarlyStopping(monitor = \"val_loss\", mode = \"auto\", verbose = 1, patience = 10, restore_best_weights = True)"
      ]
    },
    {
      "cell_type": "code",
      "execution_count": 76,
      "metadata": {
        "id": "RxhU9i11uWYa",
        "outputId": "c27703b2-ca0e-4522-f5ca-5580fca8cb6a",
        "colab": {
          "base_uri": "https://localhost:8080/"
        }
      },
      "outputs": [
        {
          "output_type": "stream",
          "name": "stdout",
          "text": [
            "Epoch 1/1000\n",
            "240/240 [==============================] - 1s 3ms/step - loss: 0.5224 - accuracy: 0.7842 - val_loss: 0.4839 - val_accuracy: 0.8000\n",
            "Epoch 2/1000\n",
            "240/240 [==============================] - 0s 2ms/step - loss: 0.4548 - accuracy: 0.8035 - val_loss: 0.4479 - val_accuracy: 0.8212\n",
            "Epoch 3/1000\n",
            "240/240 [==============================] - 0s 2ms/step - loss: 0.4210 - accuracy: 0.8231 - val_loss: 0.4196 - val_accuracy: 0.8318\n",
            "Epoch 4/1000\n",
            "240/240 [==============================] - 0s 2ms/step - loss: 0.3969 - accuracy: 0.8335 - val_loss: 0.3982 - val_accuracy: 0.8400\n",
            "Epoch 5/1000\n",
            "240/240 [==============================] - 0s 2ms/step - loss: 0.3844 - accuracy: 0.8448 - val_loss: 0.3827 - val_accuracy: 0.8529\n",
            "Epoch 6/1000\n",
            "240/240 [==============================] - 0s 2ms/step - loss: 0.3744 - accuracy: 0.8501 - val_loss: 0.3756 - val_accuracy: 0.8576\n",
            "Epoch 7/1000\n",
            "240/240 [==============================] - 0s 2ms/step - loss: 0.3658 - accuracy: 0.8519 - val_loss: 0.3686 - val_accuracy: 0.8647\n",
            "Epoch 8/1000\n",
            "240/240 [==============================] - 0s 2ms/step - loss: 0.3613 - accuracy: 0.8529 - val_loss: 0.3653 - val_accuracy: 0.8647\n",
            "Epoch 9/1000\n",
            "240/240 [==============================] - 0s 2ms/step - loss: 0.3591 - accuracy: 0.8549 - val_loss: 0.3866 - val_accuracy: 0.8506\n",
            "Epoch 10/1000\n",
            "240/240 [==============================] - 0s 2ms/step - loss: 0.3610 - accuracy: 0.8535 - val_loss: 0.3642 - val_accuracy: 0.8588\n",
            "Epoch 11/1000\n",
            "240/240 [==============================] - 0s 2ms/step - loss: 0.3573 - accuracy: 0.8573 - val_loss: 0.3634 - val_accuracy: 0.8647\n",
            "Epoch 12/1000\n",
            "240/240 [==============================] - 0s 2ms/step - loss: 0.3596 - accuracy: 0.8557 - val_loss: 0.3629 - val_accuracy: 0.8588\n",
            "Epoch 13/1000\n",
            "240/240 [==============================] - 0s 2ms/step - loss: 0.3550 - accuracy: 0.8578 - val_loss: 0.3664 - val_accuracy: 0.8588\n",
            "Epoch 14/1000\n",
            "240/240 [==============================] - 0s 2ms/step - loss: 0.3546 - accuracy: 0.8545 - val_loss: 0.3628 - val_accuracy: 0.8659\n",
            "Epoch 15/1000\n",
            "240/240 [==============================] - 0s 2ms/step - loss: 0.3556 - accuracy: 0.8548 - val_loss: 0.3621 - val_accuracy: 0.8647\n",
            "Epoch 16/1000\n",
            "240/240 [==============================] - 0s 2ms/step - loss: 0.3538 - accuracy: 0.8563 - val_loss: 0.3629 - val_accuracy: 0.8647\n",
            "Epoch 17/1000\n",
            "240/240 [==============================] - 0s 2ms/step - loss: 0.3524 - accuracy: 0.8544 - val_loss: 0.3609 - val_accuracy: 0.8576\n",
            "Epoch 18/1000\n",
            "240/240 [==============================] - 0s 2ms/step - loss: 0.3521 - accuracy: 0.8557 - val_loss: 0.3598 - val_accuracy: 0.8600\n",
            "Epoch 19/1000\n",
            "240/240 [==============================] - 0s 2ms/step - loss: 0.3546 - accuracy: 0.8563 - val_loss: 0.3650 - val_accuracy: 0.8565\n",
            "Epoch 20/1000\n",
            "240/240 [==============================] - 0s 2ms/step - loss: 0.3534 - accuracy: 0.8541 - val_loss: 0.3601 - val_accuracy: 0.8624\n",
            "Epoch 21/1000\n",
            "240/240 [==============================] - 0s 2ms/step - loss: 0.3512 - accuracy: 0.8559 - val_loss: 0.3699 - val_accuracy: 0.8600\n",
            "Epoch 22/1000\n",
            "240/240 [==============================] - 0s 2ms/step - loss: 0.3523 - accuracy: 0.8566 - val_loss: 0.3557 - val_accuracy: 0.8576\n",
            "Epoch 23/1000\n",
            "240/240 [==============================] - 0s 2ms/step - loss: 0.3506 - accuracy: 0.8548 - val_loss: 0.3550 - val_accuracy: 0.8600\n",
            "Epoch 24/1000\n",
            "240/240 [==============================] - 0s 2ms/step - loss: 0.3490 - accuracy: 0.8579 - val_loss: 0.3573 - val_accuracy: 0.8565\n",
            "Epoch 25/1000\n",
            "240/240 [==============================] - 0s 2ms/step - loss: 0.3493 - accuracy: 0.8561 - val_loss: 0.3567 - val_accuracy: 0.8576\n",
            "Epoch 26/1000\n",
            "240/240 [==============================] - 0s 2ms/step - loss: 0.3467 - accuracy: 0.8570 - val_loss: 0.3558 - val_accuracy: 0.8600\n",
            "Epoch 27/1000\n",
            "240/240 [==============================] - 0s 2ms/step - loss: 0.3483 - accuracy: 0.8558 - val_loss: 0.3571 - val_accuracy: 0.8553\n",
            "Epoch 28/1000\n",
            "240/240 [==============================] - 0s 2ms/step - loss: 0.3468 - accuracy: 0.8569 - val_loss: 0.3559 - val_accuracy: 0.8635\n",
            "Epoch 29/1000\n",
            "240/240 [==============================] - 0s 2ms/step - loss: 0.3466 - accuracy: 0.8561 - val_loss: 0.3558 - val_accuracy: 0.8612\n",
            "Epoch 30/1000\n",
            "240/240 [==============================] - 0s 2ms/step - loss: 0.3477 - accuracy: 0.8567 - val_loss: 0.3533 - val_accuracy: 0.8624\n",
            "Epoch 31/1000\n",
            "240/240 [==============================] - 0s 2ms/step - loss: 0.3458 - accuracy: 0.8590 - val_loss: 0.3546 - val_accuracy: 0.8565\n",
            "Epoch 32/1000\n",
            "240/240 [==============================] - 0s 2ms/step - loss: 0.3460 - accuracy: 0.8571 - val_loss: 0.3550 - val_accuracy: 0.8612\n",
            "Epoch 33/1000\n",
            "240/240 [==============================] - 0s 2ms/step - loss: 0.3451 - accuracy: 0.8570 - val_loss: 0.3562 - val_accuracy: 0.8565\n",
            "Epoch 34/1000\n",
            "240/240 [==============================] - 0s 2ms/step - loss: 0.3443 - accuracy: 0.8575 - val_loss: 0.3562 - val_accuracy: 0.8600\n",
            "Epoch 35/1000\n",
            "240/240 [==============================] - 0s 2ms/step - loss: 0.3471 - accuracy: 0.8563 - val_loss: 0.3536 - val_accuracy: 0.8706\n",
            "Epoch 36/1000\n",
            "240/240 [==============================] - 0s 2ms/step - loss: 0.3437 - accuracy: 0.8588 - val_loss: 0.3579 - val_accuracy: 0.8635\n",
            "Epoch 37/1000\n",
            "240/240 [==============================] - 0s 2ms/step - loss: 0.3440 - accuracy: 0.8573 - val_loss: 0.3516 - val_accuracy: 0.8565\n",
            "Epoch 38/1000\n",
            "240/240 [==============================] - 0s 2ms/step - loss: 0.3435 - accuracy: 0.8570 - val_loss: 0.3531 - val_accuracy: 0.8588\n",
            "Epoch 39/1000\n",
            "240/240 [==============================] - 0s 2ms/step - loss: 0.3443 - accuracy: 0.8567 - val_loss: 0.3561 - val_accuracy: 0.8600\n",
            "Epoch 40/1000\n",
            "240/240 [==============================] - 0s 2ms/step - loss: 0.3434 - accuracy: 0.8586 - val_loss: 0.3524 - val_accuracy: 0.8565\n",
            "Epoch 41/1000\n",
            "240/240 [==============================] - 0s 2ms/step - loss: 0.3412 - accuracy: 0.8591 - val_loss: 0.3610 - val_accuracy: 0.8518\n",
            "Epoch 42/1000\n",
            "240/240 [==============================] - 0s 2ms/step - loss: 0.3418 - accuracy: 0.8590 - val_loss: 0.3564 - val_accuracy: 0.8506\n",
            "Epoch 43/1000\n",
            "240/240 [==============================] - 0s 2ms/step - loss: 0.3404 - accuracy: 0.8590 - val_loss: 0.3538 - val_accuracy: 0.8671\n",
            "Epoch 44/1000\n",
            "240/240 [==============================] - 0s 2ms/step - loss: 0.3414 - accuracy: 0.8573 - val_loss: 0.3620 - val_accuracy: 0.8518\n",
            "Epoch 45/1000\n",
            "240/240 [==============================] - 0s 2ms/step - loss: 0.3414 - accuracy: 0.8590 - val_loss: 0.3639 - val_accuracy: 0.8435\n",
            "Epoch 46/1000\n",
            "240/240 [==============================] - 0s 2ms/step - loss: 0.3427 - accuracy: 0.8590 - val_loss: 0.3482 - val_accuracy: 0.8541\n",
            "Epoch 47/1000\n",
            "240/240 [==============================] - 0s 2ms/step - loss: 0.3400 - accuracy: 0.8591 - val_loss: 0.3446 - val_accuracy: 0.8647\n",
            "Epoch 48/1000\n",
            "240/240 [==============================] - 0s 2ms/step - loss: 0.3420 - accuracy: 0.8566 - val_loss: 0.3519 - val_accuracy: 0.8518\n",
            "Epoch 49/1000\n",
            "240/240 [==============================] - 1s 2ms/step - loss: 0.3396 - accuracy: 0.8600 - val_loss: 0.3490 - val_accuracy: 0.8553\n",
            "Epoch 50/1000\n",
            "240/240 [==============================] - 0s 2ms/step - loss: 0.3398 - accuracy: 0.8595 - val_loss: 0.3489 - val_accuracy: 0.8588\n",
            "Epoch 51/1000\n",
            "240/240 [==============================] - 0s 2ms/step - loss: 0.3394 - accuracy: 0.8588 - val_loss: 0.3461 - val_accuracy: 0.8600\n",
            "Epoch 52/1000\n",
            "240/240 [==============================] - 0s 2ms/step - loss: 0.3408 - accuracy: 0.8592 - val_loss: 0.3483 - val_accuracy: 0.8624\n",
            "Epoch 53/1000\n",
            "240/240 [==============================] - 0s 2ms/step - loss: 0.3415 - accuracy: 0.8604 - val_loss: 0.3522 - val_accuracy: 0.8588\n",
            "Epoch 54/1000\n",
            "240/240 [==============================] - 0s 2ms/step - loss: 0.3384 - accuracy: 0.8604 - val_loss: 0.3490 - val_accuracy: 0.8576\n",
            "Epoch 55/1000\n",
            "240/240 [==============================] - 0s 2ms/step - loss: 0.3387 - accuracy: 0.8622 - val_loss: 0.3476 - val_accuracy: 0.8647\n",
            "Epoch 56/1000\n",
            "240/240 [==============================] - 0s 2ms/step - loss: 0.3398 - accuracy: 0.8599 - val_loss: 0.3489 - val_accuracy: 0.8624\n",
            "Epoch 57/1000\n",
            "220/240 [==========================>...] - ETA: 0s - loss: 0.3406 - accuracy: 0.8592Restoring model weights from the end of the best epoch: 47.\n",
            "240/240 [==============================] - 0s 2ms/step - loss: 0.3395 - accuracy: 0.8601 - val_loss: 0.3509 - val_accuracy: 0.8600\n",
            "Epoch 57: early stopping\n"
          ]
        },
        {
          "output_type": "execute_result",
          "data": {
            "text/plain": [
              "<keras.callbacks.History at 0x7f5b943f3490>"
            ]
          },
          "metadata": {},
          "execution_count": 76
        }
      ],
      "source": [
        "model.fit(x = X_train, y = y_train, validation_split = 0.1, batch_size = 32, epochs = 1000, verbose = 1,\n",
        "          callbacks = [early_stop])"
      ]
    },
    {
      "cell_type": "code",
      "execution_count": 77,
      "metadata": {
        "id": "kCOcf_MquWYb",
        "outputId": "a67f08bf-03f0-4929-dac9-e4f98c6f005a",
        "colab": {
          "base_uri": "https://localhost:8080/",
          "height": 392
        }
      },
      "outputs": [
        {
          "output_type": "execute_result",
          "data": {
            "text/plain": [
              "<matplotlib.axes._subplots.AxesSubplot at 0x7f5b94b91990>"
            ]
          },
          "metadata": {},
          "execution_count": 77
        },
        {
          "output_type": "display_data",
          "data": {
            "text/plain": [
              "<Figure size 720x432 with 1 Axes>"
            ],
            "image/png": "[encoded data removed]"
          },
          "metadata": {}
        }
      ],
      "source": [
        "loss_df = pd.DataFrame(model.history.history)             ## dalgalar arttı, DL rasgelleiği yani stokastik olduğu için aynı ççalışmaların sonucu farklı olabiliyor\n",
        "loss_df.plot()"
      ]
    },
    {
      "cell_type": "code",
      "execution_count": 78,
      "metadata": {
        "id": "Xf3z98v_uWYb",
        "outputId": "fa5452e2-2197-4b84-d403-37c22b7a8a69",
        "colab": {
          "base_uri": "https://localhost:8080/"
        }
      },
      "outputs": [
        {
          "output_type": "stream",
          "name": "stdout",
          "text": [
            "loss :  0.35727494955062866\n",
            "accuracy :  0.8446666598320007\n"
          ]
        }
      ],
      "source": [
        "loss, accuracy = model.evaluate(X_test, y_test, verbose=0)\n",
        "print(\"loss : \", loss)\n",
        "print(\"accuracy : \", accuracy)"
      ]
    },
    {
      "cell_type": "code",
      "execution_count": 79,
      "metadata": {
        "id": "fG-1JwgUuWYc",
        "outputId": "3c6cc42f-b07c-458a-d2e0-d8fed1a609cd",
        "colab": {
          "base_uri": "https://localhost:8080/"
        }
      },
      "outputs": [
        {
          "output_type": "stream",
          "name": "stdout",
          "text": [
            "[[1140   54]\n",
            " [ 179  127]]\n",
            "              precision    recall  f1-score   support\n",
            "\n",
            "           0       0.86      0.95      0.91      1194\n",
            "           1       0.70      0.42      0.52       306\n",
            "\n",
            "    accuracy                           0.84      1500\n",
            "   macro avg       0.78      0.68      0.71      1500\n",
            "weighted avg       0.83      0.84      0.83      1500\n",
            "\n"
          ]
        }
      ],
      "source": [
        "y_pred = model.predict(X_test) > 0.5\n",
        "#y_pred = model.predict_classes(X_test) for tf 2.5.0\n",
        "print(confusion_matrix(y_test, y_pred))\n",
        "print(classification_report(y_test, y_pred))"
      ]
    },
    {
      "cell_type": "markdown",
      "metadata": {
        "id": "Zwxi6jPB6QO8"
      },
      "source": [
        "### Add Dropout Layer"
      ]
    },
    {
      "cell_type": "code",
      "source": [
        "from tensorflow.keras.layers import Dense, Activation, Dropout \n",
        "from tensorflow.keras.callbacks import EarlyStopping"
      ],
      "metadata": {
        "id": "QpXbrIGjJhAa"
      },
      "execution_count": 80,
      "outputs": []
    },
    {
      "cell_type": "code",
      "execution_count": 80,
      "metadata": {
        "id": "o_zmtOxd6QO8"
      },
      "outputs": [],
      "source": [
        ""
      ]
    },
    {
      "cell_type": "code",
      "execution_count": 81,
      "metadata": {
        "id": "CJokLHStyr1h"
      },
      "outputs": [],
      "source": [
        "tf.random.set_seed(seed)\n",
        "\n",
        "model = Sequential()\n",
        "\n",
        "model.add(Dense(20, activation=\"relu\", input_dim = X_train.shape[1]))\n",
        "model.add(Dropout(0.5))\n",
        "\n",
        "model.add(Dense(10, activation=\"relu\"))\n",
        "model.add(Dropout(0.5))\n",
        "\n",
        "model.add(Dense(5, activation=\"relu\"))\n",
        "model.add(Dropout(0.5))\n",
        "\n",
        "model.add(Dense(1, activation=\"sigmoid\"))\n",
        "\n",
        "opt = Adam(lr = 0.001)\n",
        "model.compile(optimizer = opt, loss = \"binary_crossentropy\", metrics = [\"accuracy\"])"
      ]
    },
    {
      "cell_type": "code",
      "execution_count": 82,
      "metadata": {
        "colab": {
          "base_uri": "https://localhost:8080/"
        },
        "id": "TeQ4lysU0XxP",
        "outputId": "f8d68400-6643-4d5e-9f86-a55c18584027"
      },
      "outputs": [
        {
          "output_type": "stream",
          "name": "stdout",
          "text": [
            "Epoch 1/300\n",
            "73/73 [==============================] - 1s 4ms/step - loss: 0.6635 - accuracy: 0.6882 - val_loss: 0.6029 - val_accuracy: 0.8008\n",
            "Epoch 2/300\n",
            "73/73 [==============================] - 0s 2ms/step - loss: 0.5997 - accuracy: 0.7827 - val_loss: 0.5514 - val_accuracy: 0.8008\n",
            "Epoch 3/300\n",
            "73/73 [==============================] - 0s 2ms/step - loss: 0.5789 - accuracy: 0.7924 - val_loss: 0.5338 - val_accuracy: 0.8008\n",
            "Epoch 4/300\n",
            "73/73 [==============================] - 0s 2ms/step - loss: 0.5596 - accuracy: 0.7956 - val_loss: 0.5157 - val_accuracy: 0.8008\n",
            "Epoch 5/300\n",
            "73/73 [==============================] - 0s 2ms/step - loss: 0.5573 - accuracy: 0.7954 - val_loss: 0.5096 - val_accuracy: 0.8008\n",
            "Epoch 6/300\n",
            "73/73 [==============================] - 0s 2ms/step - loss: 0.5401 - accuracy: 0.7956 - val_loss: 0.4996 - val_accuracy: 0.8008\n",
            "Epoch 7/300\n",
            "73/73 [==============================] - 0s 2ms/step - loss: 0.5354 - accuracy: 0.7956 - val_loss: 0.4959 - val_accuracy: 0.8008\n",
            "Epoch 8/300\n",
            "73/73 [==============================] - 0s 2ms/step - loss: 0.5248 - accuracy: 0.7956 - val_loss: 0.4903 - val_accuracy: 0.8008\n",
            "Epoch 9/300\n",
            "73/73 [==============================] - 0s 2ms/step - loss: 0.5229 - accuracy: 0.7956 - val_loss: 0.4900 - val_accuracy: 0.8008\n",
            "Epoch 10/300\n",
            "73/73 [==============================] - 0s 2ms/step - loss: 0.5193 - accuracy: 0.7956 - val_loss: 0.4873 - val_accuracy: 0.8008\n",
            "Epoch 11/300\n",
            "73/73 [==============================] - 0s 2ms/step - loss: 0.5206 - accuracy: 0.7956 - val_loss: 0.4855 - val_accuracy: 0.8008\n",
            "Epoch 12/300\n",
            "73/73 [==============================] - 0s 2ms/step - loss: 0.5122 - accuracy: 0.7957 - val_loss: 0.4805 - val_accuracy: 0.8008\n",
            "Epoch 13/300\n",
            "73/73 [==============================] - 0s 2ms/step - loss: 0.5109 - accuracy: 0.7954 - val_loss: 0.4784 - val_accuracy: 0.8008\n",
            "Epoch 14/300\n",
            "73/73 [==============================] - 0s 2ms/step - loss: 0.5076 - accuracy: 0.7957 - val_loss: 0.4745 - val_accuracy: 0.8008\n",
            "Epoch 15/300\n",
            "73/73 [==============================] - 0s 2ms/step - loss: 0.5013 - accuracy: 0.7953 - val_loss: 0.4684 - val_accuracy: 0.8008\n",
            "Epoch 16/300\n",
            "73/73 [==============================] - 0s 2ms/step - loss: 0.5006 - accuracy: 0.7972 - val_loss: 0.4669 - val_accuracy: 0.8008\n",
            "Epoch 17/300\n",
            "73/73 [==============================] - 0s 2ms/step - loss: 0.4931 - accuracy: 0.7947 - val_loss: 0.4623 - val_accuracy: 0.8008\n",
            "Epoch 18/300\n",
            "73/73 [==============================] - 0s 2ms/step - loss: 0.4962 - accuracy: 0.7964 - val_loss: 0.4577 - val_accuracy: 0.8008\n",
            "Epoch 19/300\n",
            "73/73 [==============================] - 0s 2ms/step - loss: 0.4932 - accuracy: 0.7970 - val_loss: 0.4556 - val_accuracy: 0.8008\n",
            "Epoch 20/300\n",
            "73/73 [==============================] - 0s 2ms/step - loss: 0.4828 - accuracy: 0.8001 - val_loss: 0.4521 - val_accuracy: 0.8008\n",
            "Epoch 21/300\n",
            "73/73 [==============================] - 0s 2ms/step - loss: 0.4816 - accuracy: 0.7978 - val_loss: 0.4473 - val_accuracy: 0.8008\n",
            "Epoch 22/300\n",
            "73/73 [==============================] - 0s 2ms/step - loss: 0.4831 - accuracy: 0.7994 - val_loss: 0.4455 - val_accuracy: 0.8008\n",
            "Epoch 23/300\n",
            "73/73 [==============================] - 0s 2ms/step - loss: 0.4826 - accuracy: 0.8006 - val_loss: 0.4466 - val_accuracy: 0.8008\n",
            "Epoch 24/300\n",
            "73/73 [==============================] - 0s 2ms/step - loss: 0.4784 - accuracy: 0.7990 - val_loss: 0.4422 - val_accuracy: 0.8008\n",
            "Epoch 25/300\n",
            "73/73 [==============================] - 0s 2ms/step - loss: 0.4730 - accuracy: 0.7989 - val_loss: 0.4404 - val_accuracy: 0.8008\n",
            "Epoch 26/300\n",
            "73/73 [==============================] - 0s 3ms/step - loss: 0.4764 - accuracy: 0.7997 - val_loss: 0.4394 - val_accuracy: 0.8008\n",
            "Epoch 27/300\n",
            "73/73 [==============================] - 0s 2ms/step - loss: 0.4726 - accuracy: 0.8006 - val_loss: 0.4364 - val_accuracy: 0.8008\n",
            "Epoch 28/300\n",
            "73/73 [==============================] - 0s 2ms/step - loss: 0.4717 - accuracy: 0.8010 - val_loss: 0.4339 - val_accuracy: 0.8008\n",
            "Epoch 29/300\n",
            "73/73 [==============================] - 0s 2ms/step - loss: 0.4657 - accuracy: 0.8021 - val_loss: 0.4310 - val_accuracy: 0.8008\n",
            "Epoch 30/300\n",
            "73/73 [==============================] - 0s 2ms/step - loss: 0.4647 - accuracy: 0.8035 - val_loss: 0.4298 - val_accuracy: 0.8008\n",
            "Epoch 31/300\n",
            "73/73 [==============================] - 0s 2ms/step - loss: 0.4615 - accuracy: 0.8024 - val_loss: 0.4255 - val_accuracy: 0.8000\n",
            "Epoch 32/300\n",
            "73/73 [==============================] - 0s 2ms/step - loss: 0.4642 - accuracy: 0.8022 - val_loss: 0.4255 - val_accuracy: 0.8000\n",
            "Epoch 33/300\n",
            "73/73 [==============================] - 0s 2ms/step - loss: 0.4630 - accuracy: 0.8044 - val_loss: 0.4244 - val_accuracy: 0.8008\n",
            "Epoch 34/300\n",
            "73/73 [==============================] - 0s 2ms/step - loss: 0.4649 - accuracy: 0.8021 - val_loss: 0.4250 - val_accuracy: 0.8008\n",
            "Epoch 35/300\n",
            "73/73 [==============================] - 0s 2ms/step - loss: 0.4607 - accuracy: 0.8026 - val_loss: 0.4209 - val_accuracy: 0.8008\n",
            "Epoch 36/300\n",
            "73/73 [==============================] - 0s 2ms/step - loss: 0.4612 - accuracy: 0.8011 - val_loss: 0.4200 - val_accuracy: 0.8016\n",
            "Epoch 37/300\n",
            "73/73 [==============================] - 0s 2ms/step - loss: 0.4596 - accuracy: 0.8061 - val_loss: 0.4206 - val_accuracy: 0.8031\n",
            "Epoch 38/300\n",
            "73/73 [==============================] - 0s 2ms/step - loss: 0.4534 - accuracy: 0.8072 - val_loss: 0.4179 - val_accuracy: 0.8047\n",
            "Epoch 39/300\n",
            "73/73 [==============================] - 0s 2ms/step - loss: 0.4567 - accuracy: 0.8033 - val_loss: 0.4172 - val_accuracy: 0.8063\n",
            "Epoch 40/300\n",
            "73/73 [==============================] - 0s 2ms/step - loss: 0.4529 - accuracy: 0.8062 - val_loss: 0.4148 - val_accuracy: 0.8071\n",
            "Epoch 41/300\n",
            "73/73 [==============================] - 0s 2ms/step - loss: 0.4506 - accuracy: 0.8098 - val_loss: 0.4131 - val_accuracy: 0.8086\n",
            "Epoch 42/300\n",
            "73/73 [==============================] - 0s 2ms/step - loss: 0.4500 - accuracy: 0.8079 - val_loss: 0.4133 - val_accuracy: 0.8102\n",
            "Epoch 43/300\n",
            "73/73 [==============================] - 0s 2ms/step - loss: 0.4530 - accuracy: 0.8057 - val_loss: 0.4152 - val_accuracy: 0.8102\n",
            "Epoch 44/300\n",
            "73/73 [==============================] - 0s 2ms/step - loss: 0.4539 - accuracy: 0.8096 - val_loss: 0.4130 - val_accuracy: 0.8149\n",
            "Epoch 45/300\n",
            "73/73 [==============================] - 0s 2ms/step - loss: 0.4560 - accuracy: 0.8018 - val_loss: 0.4137 - val_accuracy: 0.8094\n",
            "Epoch 46/300\n",
            "73/73 [==============================] - 0s 2ms/step - loss: 0.4485 - accuracy: 0.8072 - val_loss: 0.4133 - val_accuracy: 0.8118\n",
            "Epoch 47/300\n",
            "73/73 [==============================] - 0s 2ms/step - loss: 0.4510 - accuracy: 0.8062 - val_loss: 0.4087 - val_accuracy: 0.8149\n",
            "Epoch 48/300\n",
            "73/73 [==============================] - 0s 2ms/step - loss: 0.4529 - accuracy: 0.8084 - val_loss: 0.4103 - val_accuracy: 0.8133\n",
            "Epoch 49/300\n",
            "73/73 [==============================] - 0s 3ms/step - loss: 0.4489 - accuracy: 0.8076 - val_loss: 0.4116 - val_accuracy: 0.8165\n",
            "Epoch 50/300\n",
            "73/73 [==============================] - 0s 2ms/step - loss: 0.4499 - accuracy: 0.8083 - val_loss: 0.4132 - val_accuracy: 0.8157\n",
            "Epoch 51/300\n",
            "73/73 [==============================] - 0s 2ms/step - loss: 0.4482 - accuracy: 0.8089 - val_loss: 0.4074 - val_accuracy: 0.8173\n",
            "Epoch 52/300\n",
            "73/73 [==============================] - 0s 2ms/step - loss: 0.4449 - accuracy: 0.8118 - val_loss: 0.4057 - val_accuracy: 0.8173\n",
            "Epoch 53/300\n",
            "73/73 [==============================] - 0s 2ms/step - loss: 0.4444 - accuracy: 0.8123 - val_loss: 0.4054 - val_accuracy: 0.8180\n",
            "Epoch 54/300\n",
            "73/73 [==============================] - 0s 2ms/step - loss: 0.4467 - accuracy: 0.8093 - val_loss: 0.4036 - val_accuracy: 0.8196\n",
            "Epoch 55/300\n",
            "73/73 [==============================] - 0s 3ms/step - loss: 0.4471 - accuracy: 0.8093 - val_loss: 0.4065 - val_accuracy: 0.8188\n",
            "Epoch 56/300\n",
            "73/73 [==============================] - 0s 2ms/step - loss: 0.4508 - accuracy: 0.8108 - val_loss: 0.4052 - val_accuracy: 0.8196\n",
            "Epoch 57/300\n",
            "73/73 [==============================] - 0s 2ms/step - loss: 0.4469 - accuracy: 0.8094 - val_loss: 0.4043 - val_accuracy: 0.8188\n",
            "Epoch 58/300\n",
            "73/73 [==============================] - 0s 2ms/step - loss: 0.4437 - accuracy: 0.8120 - val_loss: 0.4013 - val_accuracy: 0.8212\n",
            "Epoch 59/300\n",
            "73/73 [==============================] - 0s 2ms/step - loss: 0.4454 - accuracy: 0.8086 - val_loss: 0.4021 - val_accuracy: 0.8196\n",
            "Epoch 60/300\n",
            "73/73 [==============================] - 0s 3ms/step - loss: 0.4446 - accuracy: 0.8116 - val_loss: 0.4023 - val_accuracy: 0.8220\n",
            "Epoch 61/300\n",
            "73/73 [==============================] - 0s 3ms/step - loss: 0.4418 - accuracy: 0.8123 - val_loss: 0.4028 - val_accuracy: 0.8227\n",
            "Epoch 62/300\n",
            "73/73 [==============================] - 0s 4ms/step - loss: 0.4442 - accuracy: 0.8126 - val_loss: 0.4007 - val_accuracy: 0.8251\n",
            "Epoch 63/300\n",
            "73/73 [==============================] - 0s 3ms/step - loss: 0.4408 - accuracy: 0.8119 - val_loss: 0.3981 - val_accuracy: 0.8235\n",
            "Epoch 64/300\n",
            "73/73 [==============================] - 0s 3ms/step - loss: 0.4423 - accuracy: 0.8119 - val_loss: 0.3979 - val_accuracy: 0.8259\n",
            "Epoch 65/300\n",
            "73/73 [==============================] - 0s 4ms/step - loss: 0.4416 - accuracy: 0.8118 - val_loss: 0.3974 - val_accuracy: 0.8282\n",
            "Epoch 66/300\n",
            "73/73 [==============================] - 0s 4ms/step - loss: 0.4364 - accuracy: 0.8137 - val_loss: 0.3982 - val_accuracy: 0.8243\n",
            "Epoch 67/300\n",
            "73/73 [==============================] - 0s 4ms/step - loss: 0.4438 - accuracy: 0.8109 - val_loss: 0.3982 - val_accuracy: 0.8282\n",
            "Epoch 68/300\n",
            "73/73 [==============================] - 0s 3ms/step - loss: 0.4381 - accuracy: 0.8120 - val_loss: 0.3970 - val_accuracy: 0.8290\n",
            "Epoch 69/300\n",
            "73/73 [==============================] - 0s 3ms/step - loss: 0.4350 - accuracy: 0.8163 - val_loss: 0.3949 - val_accuracy: 0.8314\n",
            "Epoch 70/300\n",
            "73/73 [==============================] - 0s 4ms/step - loss: 0.4410 - accuracy: 0.8134 - val_loss: 0.3938 - val_accuracy: 0.8298\n",
            "Epoch 71/300\n",
            "73/73 [==============================] - 0s 4ms/step - loss: 0.4387 - accuracy: 0.8123 - val_loss: 0.3949 - val_accuracy: 0.8314\n",
            "Epoch 72/300\n",
            "73/73 [==============================] - 0s 4ms/step - loss: 0.4427 - accuracy: 0.8129 - val_loss: 0.3922 - val_accuracy: 0.8345\n",
            "Epoch 73/300\n",
            "73/73 [==============================] - 0s 4ms/step - loss: 0.4373 - accuracy: 0.8151 - val_loss: 0.3945 - val_accuracy: 0.8329\n",
            "Epoch 74/300\n",
            "73/73 [==============================] - 0s 2ms/step - loss: 0.4352 - accuracy: 0.8152 - val_loss: 0.3942 - val_accuracy: 0.8282\n",
            "Epoch 75/300\n",
            "73/73 [==============================] - 0s 2ms/step - loss: 0.4322 - accuracy: 0.8170 - val_loss: 0.3907 - val_accuracy: 0.8337\n",
            "Epoch 76/300\n",
            "73/73 [==============================] - 0s 2ms/step - loss: 0.4367 - accuracy: 0.8162 - val_loss: 0.3904 - val_accuracy: 0.8337\n",
            "Epoch 77/300\n",
            "73/73 [==============================] - 0s 2ms/step - loss: 0.4327 - accuracy: 0.8165 - val_loss: 0.3924 - val_accuracy: 0.8298\n",
            "Epoch 78/300\n",
            "73/73 [==============================] - 0s 3ms/step - loss: 0.4344 - accuracy: 0.8173 - val_loss: 0.3943 - val_accuracy: 0.8306\n",
            "Epoch 79/300\n",
            "73/73 [==============================] - 0s 2ms/step - loss: 0.4295 - accuracy: 0.8181 - val_loss: 0.3879 - val_accuracy: 0.8384\n",
            "Epoch 80/300\n",
            "73/73 [==============================] - 0s 2ms/step - loss: 0.4410 - accuracy: 0.8109 - val_loss: 0.3913 - val_accuracy: 0.8329\n",
            "Epoch 81/300\n",
            "73/73 [==============================] - 0s 2ms/step - loss: 0.4279 - accuracy: 0.8181 - val_loss: 0.3885 - val_accuracy: 0.8353\n",
            "Epoch 82/300\n",
            "73/73 [==============================] - 0s 2ms/step - loss: 0.4365 - accuracy: 0.8165 - val_loss: 0.3900 - val_accuracy: 0.8337\n",
            "Epoch 83/300\n",
            "73/73 [==============================] - 0s 2ms/step - loss: 0.4354 - accuracy: 0.8147 - val_loss: 0.3898 - val_accuracy: 0.8361\n",
            "Epoch 84/300\n",
            "73/73 [==============================] - 0s 2ms/step - loss: 0.4365 - accuracy: 0.8159 - val_loss: 0.3892 - val_accuracy: 0.8337\n",
            "Epoch 85/300\n",
            "73/73 [==============================] - 0s 2ms/step - loss: 0.4345 - accuracy: 0.8183 - val_loss: 0.3894 - val_accuracy: 0.8353\n",
            "Epoch 86/300\n",
            "73/73 [==============================] - 0s 2ms/step - loss: 0.4359 - accuracy: 0.8194 - val_loss: 0.3916 - val_accuracy: 0.8322\n",
            "Epoch 87/300\n",
            "73/73 [==============================] - 0s 2ms/step - loss: 0.4351 - accuracy: 0.8151 - val_loss: 0.3860 - val_accuracy: 0.8361\n",
            "Epoch 88/300\n",
            "73/73 [==============================] - 0s 2ms/step - loss: 0.4301 - accuracy: 0.8187 - val_loss: 0.3845 - val_accuracy: 0.8376\n",
            "Epoch 89/300\n",
            "73/73 [==============================] - 0s 3ms/step - loss: 0.4295 - accuracy: 0.8198 - val_loss: 0.3862 - val_accuracy: 0.8424\n",
            "Epoch 90/300\n",
            "73/73 [==============================] - 0s 2ms/step - loss: 0.4392 - accuracy: 0.8154 - val_loss: 0.3872 - val_accuracy: 0.8361\n",
            "Epoch 91/300\n",
            "73/73 [==============================] - 0s 2ms/step - loss: 0.4317 - accuracy: 0.8191 - val_loss: 0.3833 - val_accuracy: 0.8416\n",
            "Epoch 92/300\n",
            "73/73 [==============================] - 0s 2ms/step - loss: 0.4427 - accuracy: 0.8144 - val_loss: 0.3865 - val_accuracy: 0.8400\n",
            "Epoch 93/300\n",
            "73/73 [==============================] - 0s 2ms/step - loss: 0.4350 - accuracy: 0.8154 - val_loss: 0.3835 - val_accuracy: 0.8400\n",
            "Epoch 94/300\n",
            "73/73 [==============================] - 0s 2ms/step - loss: 0.4351 - accuracy: 0.8166 - val_loss: 0.3859 - val_accuracy: 0.8400\n",
            "Epoch 95/300\n",
            "73/73 [==============================] - 0s 2ms/step - loss: 0.4331 - accuracy: 0.8176 - val_loss: 0.3901 - val_accuracy: 0.8329\n",
            "Epoch 96/300\n",
            "73/73 [==============================] - 0s 2ms/step - loss: 0.4339 - accuracy: 0.8172 - val_loss: 0.3856 - val_accuracy: 0.8345\n",
            "Epoch 97/300\n",
            "73/73 [==============================] - 0s 2ms/step - loss: 0.4314 - accuracy: 0.8179 - val_loss: 0.3855 - val_accuracy: 0.8353\n",
            "Epoch 98/300\n",
            "73/73 [==============================] - 0s 2ms/step - loss: 0.4367 - accuracy: 0.8163 - val_loss: 0.3857 - val_accuracy: 0.8376\n",
            "Epoch 99/300\n",
            "73/73 [==============================] - 0s 2ms/step - loss: 0.4317 - accuracy: 0.8195 - val_loss: 0.3819 - val_accuracy: 0.8400\n",
            "Epoch 100/300\n",
            "73/73 [==============================] - 0s 2ms/step - loss: 0.4263 - accuracy: 0.8212 - val_loss: 0.3842 - val_accuracy: 0.8400\n",
            "Epoch 101/300\n",
            "73/73 [==============================] - 0s 2ms/step - loss: 0.4382 - accuracy: 0.8149 - val_loss: 0.3835 - val_accuracy: 0.8392\n",
            "Epoch 102/300\n",
            "73/73 [==============================] - 0s 2ms/step - loss: 0.4294 - accuracy: 0.8219 - val_loss: 0.3813 - val_accuracy: 0.8416\n",
            "Epoch 103/300\n",
            "73/73 [==============================] - 0s 2ms/step - loss: 0.4288 - accuracy: 0.8199 - val_loss: 0.3808 - val_accuracy: 0.8408\n",
            "Epoch 104/300\n",
            "73/73 [==============================] - 0s 2ms/step - loss: 0.4333 - accuracy: 0.8159 - val_loss: 0.3834 - val_accuracy: 0.8376\n",
            "Epoch 105/300\n",
            "73/73 [==============================] - 0s 2ms/step - loss: 0.4260 - accuracy: 0.8212 - val_loss: 0.3812 - val_accuracy: 0.8369\n",
            "Epoch 106/300\n",
            "73/73 [==============================] - 0s 2ms/step - loss: 0.4319 - accuracy: 0.8202 - val_loss: 0.3804 - val_accuracy: 0.8424\n",
            "Epoch 107/300\n",
            "73/73 [==============================] - 0s 2ms/step - loss: 0.4355 - accuracy: 0.8169 - val_loss: 0.3827 - val_accuracy: 0.8400\n",
            "Epoch 108/300\n",
            "73/73 [==============================] - 0s 2ms/step - loss: 0.4325 - accuracy: 0.8191 - val_loss: 0.3825 - val_accuracy: 0.8431\n",
            "Epoch 109/300\n",
            "73/73 [==============================] - 0s 3ms/step - loss: 0.4306 - accuracy: 0.8170 - val_loss: 0.3812 - val_accuracy: 0.8384\n",
            "Epoch 110/300\n",
            "73/73 [==============================] - 0s 2ms/step - loss: 0.4291 - accuracy: 0.8184 - val_loss: 0.3773 - val_accuracy: 0.8455\n",
            "Epoch 111/300\n",
            "73/73 [==============================] - 0s 2ms/step - loss: 0.4293 - accuracy: 0.8190 - val_loss: 0.3807 - val_accuracy: 0.8447\n",
            "Epoch 112/300\n",
            "73/73 [==============================] - 0s 2ms/step - loss: 0.4300 - accuracy: 0.8184 - val_loss: 0.3812 - val_accuracy: 0.8408\n",
            "Epoch 113/300\n",
            "73/73 [==============================] - 0s 2ms/step - loss: 0.4341 - accuracy: 0.8191 - val_loss: 0.3828 - val_accuracy: 0.8431\n",
            "Epoch 114/300\n",
            "73/73 [==============================] - 0s 2ms/step - loss: 0.4294 - accuracy: 0.8192 - val_loss: 0.3820 - val_accuracy: 0.8439\n",
            "Epoch 115/300\n",
            "73/73 [==============================] - 0s 3ms/step - loss: 0.4329 - accuracy: 0.8158 - val_loss: 0.3825 - val_accuracy: 0.8376\n",
            "Epoch 116/300\n",
            "73/73 [==============================] - 0s 2ms/step - loss: 0.4315 - accuracy: 0.8174 - val_loss: 0.3793 - val_accuracy: 0.8447\n",
            "Epoch 117/300\n",
            "73/73 [==============================] - 0s 2ms/step - loss: 0.4260 - accuracy: 0.8224 - val_loss: 0.3789 - val_accuracy: 0.8439\n",
            "Epoch 118/300\n",
            "73/73 [==============================] - 0s 2ms/step - loss: 0.4267 - accuracy: 0.8199 - val_loss: 0.3769 - val_accuracy: 0.8447\n",
            "Epoch 119/300\n",
            "73/73 [==============================] - 0s 2ms/step - loss: 0.4321 - accuracy: 0.8185 - val_loss: 0.3810 - val_accuracy: 0.8439\n",
            "Epoch 120/300\n",
            "73/73 [==============================] - 0s 3ms/step - loss: 0.4322 - accuracy: 0.8220 - val_loss: 0.3805 - val_accuracy: 0.8439\n",
            "Epoch 121/300\n",
            "73/73 [==============================] - 0s 2ms/step - loss: 0.4298 - accuracy: 0.8195 - val_loss: 0.3803 - val_accuracy: 0.8384\n",
            "Epoch 122/300\n",
            "73/73 [==============================] - 0s 2ms/step - loss: 0.4270 - accuracy: 0.8221 - val_loss: 0.3755 - val_accuracy: 0.8439\n",
            "Epoch 123/300\n",
            "73/73 [==============================] - 0s 2ms/step - loss: 0.4307 - accuracy: 0.8215 - val_loss: 0.3790 - val_accuracy: 0.8431\n",
            "Epoch 124/300\n",
            "73/73 [==============================] - 0s 2ms/step - loss: 0.4322 - accuracy: 0.8177 - val_loss: 0.3809 - val_accuracy: 0.8408\n",
            "Epoch 125/300\n",
            "73/73 [==============================] - 0s 2ms/step - loss: 0.4314 - accuracy: 0.8199 - val_loss: 0.3764 - val_accuracy: 0.8439\n",
            "Epoch 126/300\n",
            "73/73 [==============================] - 0s 3ms/step - loss: 0.4328 - accuracy: 0.8198 - val_loss: 0.3814 - val_accuracy: 0.8392\n",
            "Epoch 127/300\n",
            "73/73 [==============================] - 0s 2ms/step - loss: 0.4230 - accuracy: 0.8223 - val_loss: 0.3757 - val_accuracy: 0.8439\n",
            "Epoch 128/300\n",
            "73/73 [==============================] - 0s 2ms/step - loss: 0.4191 - accuracy: 0.8257 - val_loss: 0.3728 - val_accuracy: 0.8447\n",
            "Epoch 129/300\n",
            "73/73 [==============================] - 0s 2ms/step - loss: 0.4299 - accuracy: 0.8210 - val_loss: 0.3792 - val_accuracy: 0.8424\n",
            "Epoch 130/300\n",
            "73/73 [==============================] - 0s 2ms/step - loss: 0.4285 - accuracy: 0.8217 - val_loss: 0.3804 - val_accuracy: 0.8369\n",
            "Epoch 131/300\n",
            "73/73 [==============================] - 0s 2ms/step - loss: 0.4302 - accuracy: 0.8202 - val_loss: 0.3766 - val_accuracy: 0.8455\n",
            "Epoch 132/300\n",
            "73/73 [==============================] - 0s 2ms/step - loss: 0.4315 - accuracy: 0.8208 - val_loss: 0.3799 - val_accuracy: 0.8424\n",
            "Epoch 133/300\n",
            "73/73 [==============================] - 0s 2ms/step - loss: 0.4317 - accuracy: 0.8209 - val_loss: 0.3780 - val_accuracy: 0.8431\n",
            "Epoch 134/300\n",
            "73/73 [==============================] - 0s 2ms/step - loss: 0.4261 - accuracy: 0.8226 - val_loss: 0.3768 - val_accuracy: 0.8431\n",
            "Epoch 135/300\n",
            "73/73 [==============================] - 0s 3ms/step - loss: 0.4298 - accuracy: 0.8173 - val_loss: 0.3763 - val_accuracy: 0.8424\n",
            "Epoch 136/300\n",
            "73/73 [==============================] - 0s 2ms/step - loss: 0.4248 - accuracy: 0.8257 - val_loss: 0.3757 - val_accuracy: 0.8463\n",
            "Epoch 137/300\n",
            "73/73 [==============================] - 0s 2ms/step - loss: 0.4369 - accuracy: 0.8184 - val_loss: 0.3773 - val_accuracy: 0.8431\n",
            "Epoch 138/300\n",
            "73/73 [==============================] - 0s 2ms/step - loss: 0.4257 - accuracy: 0.8216 - val_loss: 0.3800 - val_accuracy: 0.8400\n",
            "Epoch 139/300\n",
            "73/73 [==============================] - 0s 2ms/step - loss: 0.4248 - accuracy: 0.8226 - val_loss: 0.3741 - val_accuracy: 0.8455\n",
            "Epoch 140/300\n",
            "73/73 [==============================] - 0s 2ms/step - loss: 0.4255 - accuracy: 0.8224 - val_loss: 0.3746 - val_accuracy: 0.8447\n",
            "Epoch 141/300\n",
            "73/73 [==============================] - 0s 2ms/step - loss: 0.4345 - accuracy: 0.8220 - val_loss: 0.3777 - val_accuracy: 0.8447\n",
            "Epoch 142/300\n",
            "73/73 [==============================] - 0s 2ms/step - loss: 0.4303 - accuracy: 0.8177 - val_loss: 0.3766 - val_accuracy: 0.8424\n",
            "Epoch 143/300\n",
            "73/73 [==============================] - 0s 2ms/step - loss: 0.4291 - accuracy: 0.8202 - val_loss: 0.3766 - val_accuracy: 0.8431\n",
            "Epoch 144/300\n",
            "73/73 [==============================] - 0s 2ms/step - loss: 0.4233 - accuracy: 0.8253 - val_loss: 0.3745 - val_accuracy: 0.8471\n",
            "Epoch 145/300\n",
            "73/73 [==============================] - 0s 2ms/step - loss: 0.4280 - accuracy: 0.8237 - val_loss: 0.3747 - val_accuracy: 0.8431\n",
            "Epoch 146/300\n",
            "73/73 [==============================] - 0s 2ms/step - loss: 0.4295 - accuracy: 0.8219 - val_loss: 0.3773 - val_accuracy: 0.8408\n",
            "Epoch 147/300\n",
            "73/73 [==============================] - 0s 2ms/step - loss: 0.4314 - accuracy: 0.8205 - val_loss: 0.3778 - val_accuracy: 0.8431\n",
            "Epoch 148/300\n",
            "73/73 [==============================] - 0s 2ms/step - loss: 0.4311 - accuracy: 0.8208 - val_loss: 0.3798 - val_accuracy: 0.8431\n",
            "Epoch 149/300\n",
            "73/73 [==============================] - 0s 2ms/step - loss: 0.4267 - accuracy: 0.8208 - val_loss: 0.3741 - val_accuracy: 0.8431\n",
            "Epoch 150/300\n",
            "73/73 [==============================] - 0s 2ms/step - loss: 0.4221 - accuracy: 0.8239 - val_loss: 0.3761 - val_accuracy: 0.8447\n",
            "Epoch 151/300\n",
            "73/73 [==============================] - 0s 2ms/step - loss: 0.4286 - accuracy: 0.8217 - val_loss: 0.3780 - val_accuracy: 0.8416\n",
            "Epoch 152/300\n",
            "73/73 [==============================] - 0s 2ms/step - loss: 0.4272 - accuracy: 0.8208 - val_loss: 0.3771 - val_accuracy: 0.8416\n",
            "Epoch 153/300\n",
            "73/73 [==============================] - 0s 2ms/step - loss: 0.4295 - accuracy: 0.8212 - val_loss: 0.3769 - val_accuracy: 0.8431\n",
            "Epoch 154/300\n",
            "73/73 [==============================] - 0s 3ms/step - loss: 0.4198 - accuracy: 0.8216 - val_loss: 0.3733 - val_accuracy: 0.8424\n",
            "Epoch 155/300\n",
            "73/73 [==============================] - 0s 2ms/step - loss: 0.4266 - accuracy: 0.8227 - val_loss: 0.3706 - val_accuracy: 0.8447\n",
            "Epoch 156/300\n",
            "73/73 [==============================] - 0s 2ms/step - loss: 0.4269 - accuracy: 0.8216 - val_loss: 0.3731 - val_accuracy: 0.8447\n",
            "Epoch 157/300\n",
            "73/73 [==============================] - 0s 2ms/step - loss: 0.4287 - accuracy: 0.8210 - val_loss: 0.3724 - val_accuracy: 0.8431\n",
            "Epoch 158/300\n",
            "73/73 [==============================] - 0s 2ms/step - loss: 0.4310 - accuracy: 0.8195 - val_loss: 0.3763 - val_accuracy: 0.8431\n",
            "Epoch 159/300\n",
            "73/73 [==============================] - 0s 2ms/step - loss: 0.4252 - accuracy: 0.8219 - val_loss: 0.3764 - val_accuracy: 0.8416\n",
            "Epoch 160/300\n",
            "73/73 [==============================] - 0s 2ms/step - loss: 0.4276 - accuracy: 0.8233 - val_loss: 0.3758 - val_accuracy: 0.8431\n",
            "Epoch 161/300\n",
            "73/73 [==============================] - 0s 2ms/step - loss: 0.4250 - accuracy: 0.8235 - val_loss: 0.3717 - val_accuracy: 0.8455\n",
            "Epoch 162/300\n",
            "73/73 [==============================] - 0s 2ms/step - loss: 0.4239 - accuracy: 0.8241 - val_loss: 0.3742 - val_accuracy: 0.8439\n",
            "Epoch 163/300\n",
            "73/73 [==============================] - 0s 2ms/step - loss: 0.4210 - accuracy: 0.8262 - val_loss: 0.3747 - val_accuracy: 0.8439\n",
            "Epoch 164/300\n",
            "73/73 [==============================] - 0s 2ms/step - loss: 0.4312 - accuracy: 0.8245 - val_loss: 0.3748 - val_accuracy: 0.8447\n",
            "Epoch 165/300\n",
            "73/73 [==============================] - 0s 3ms/step - loss: 0.4253 - accuracy: 0.8251 - val_loss: 0.3741 - val_accuracy: 0.8447\n",
            "Epoch 166/300\n",
            "73/73 [==============================] - 0s 2ms/step - loss: 0.4259 - accuracy: 0.8241 - val_loss: 0.3722 - val_accuracy: 0.8447\n",
            "Epoch 167/300\n",
            "73/73 [==============================] - 0s 2ms/step - loss: 0.4238 - accuracy: 0.8260 - val_loss: 0.3736 - val_accuracy: 0.8447\n",
            "Epoch 168/300\n",
            "73/73 [==============================] - 0s 3ms/step - loss: 0.4257 - accuracy: 0.8252 - val_loss: 0.3718 - val_accuracy: 0.8463\n",
            "Epoch 169/300\n",
            "73/73 [==============================] - 0s 2ms/step - loss: 0.4277 - accuracy: 0.8246 - val_loss: 0.3739 - val_accuracy: 0.8471\n",
            "Epoch 170/300\n",
            "73/73 [==============================] - 0s 2ms/step - loss: 0.4247 - accuracy: 0.8263 - val_loss: 0.3759 - val_accuracy: 0.8455\n",
            "Epoch 171/300\n",
            "73/73 [==============================] - 0s 2ms/step - loss: 0.4299 - accuracy: 0.8220 - val_loss: 0.3773 - val_accuracy: 0.8416\n",
            "Epoch 172/300\n",
            "73/73 [==============================] - 0s 2ms/step - loss: 0.4334 - accuracy: 0.8192 - val_loss: 0.3802 - val_accuracy: 0.8431\n",
            "Epoch 173/300\n",
            "73/73 [==============================] - 0s 2ms/step - loss: 0.4287 - accuracy: 0.8195 - val_loss: 0.3754 - val_accuracy: 0.8447\n",
            "Epoch 174/300\n",
            "73/73 [==============================] - 0s 2ms/step - loss: 0.4193 - accuracy: 0.8269 - val_loss: 0.3739 - val_accuracy: 0.8455\n",
            "Epoch 175/300\n",
            "73/73 [==============================] - 0s 2ms/step - loss: 0.4314 - accuracy: 0.8206 - val_loss: 0.3755 - val_accuracy: 0.8463\n",
            "Epoch 176/300\n",
            "73/73 [==============================] - 0s 3ms/step - loss: 0.4256 - accuracy: 0.8262 - val_loss: 0.3722 - val_accuracy: 0.8471\n",
            "Epoch 177/300\n",
            "73/73 [==============================] - 0s 2ms/step - loss: 0.4229 - accuracy: 0.8238 - val_loss: 0.3709 - val_accuracy: 0.8471\n",
            "Epoch 178/300\n",
            "73/73 [==============================] - 0s 2ms/step - loss: 0.4244 - accuracy: 0.8244 - val_loss: 0.3750 - val_accuracy: 0.8439\n",
            "Epoch 179/300\n",
            "73/73 [==============================] - 0s 2ms/step - loss: 0.4290 - accuracy: 0.8226 - val_loss: 0.3789 - val_accuracy: 0.8400\n",
            "Epoch 180/300\n",
            "73/73 [==============================] - 0s 2ms/step - loss: 0.4324 - accuracy: 0.8228 - val_loss: 0.3746 - val_accuracy: 0.8424\n",
            "Epoch 181/300\n",
            "73/73 [==============================] - 0s 3ms/step - loss: 0.4198 - accuracy: 0.8244 - val_loss: 0.3744 - val_accuracy: 0.8471\n",
            "Epoch 182/300\n",
            "73/73 [==============================] - 0s 2ms/step - loss: 0.4278 - accuracy: 0.8233 - val_loss: 0.3731 - val_accuracy: 0.8494\n",
            "Epoch 183/300\n",
            "73/73 [==============================] - 0s 2ms/step - loss: 0.4274 - accuracy: 0.8210 - val_loss: 0.3743 - val_accuracy: 0.8424\n",
            "Epoch 184/300\n",
            "73/73 [==============================] - 0s 2ms/step - loss: 0.4227 - accuracy: 0.8256 - val_loss: 0.3735 - val_accuracy: 0.8471\n",
            "Epoch 185/300\n",
            "73/73 [==============================] - 0s 2ms/step - loss: 0.4290 - accuracy: 0.8238 - val_loss: 0.3729 - val_accuracy: 0.8447\n",
            "Epoch 186/300\n",
            "73/73 [==============================] - 0s 2ms/step - loss: 0.4329 - accuracy: 0.8223 - val_loss: 0.3773 - val_accuracy: 0.8439\n",
            "Epoch 187/300\n",
            "73/73 [==============================] - 0s 2ms/step - loss: 0.4257 - accuracy: 0.8242 - val_loss: 0.3733 - val_accuracy: 0.8455\n",
            "Epoch 188/300\n",
            "73/73 [==============================] - 0s 2ms/step - loss: 0.4250 - accuracy: 0.8227 - val_loss: 0.3799 - val_accuracy: 0.8416\n",
            "Epoch 189/300\n",
            "73/73 [==============================] - 0s 2ms/step - loss: 0.4282 - accuracy: 0.8203 - val_loss: 0.3735 - val_accuracy: 0.8439\n",
            "Epoch 190/300\n",
            "73/73 [==============================] - 0s 3ms/step - loss: 0.4252 - accuracy: 0.8255 - val_loss: 0.3752 - val_accuracy: 0.8424\n",
            "Epoch 191/300\n",
            "73/73 [==============================] - 0s 3ms/step - loss: 0.4272 - accuracy: 0.8221 - val_loss: 0.3764 - val_accuracy: 0.8455\n",
            "Epoch 192/300\n",
            "73/73 [==============================] - 0s 3ms/step - loss: 0.4252 - accuracy: 0.8244 - val_loss: 0.3744 - val_accuracy: 0.8463\n",
            "Epoch 193/300\n",
            "73/73 [==============================] - 0s 2ms/step - loss: 0.4333 - accuracy: 0.8187 - val_loss: 0.3796 - val_accuracy: 0.8455\n",
            "Epoch 194/300\n",
            "73/73 [==============================] - 0s 2ms/step - loss: 0.4258 - accuracy: 0.8233 - val_loss: 0.3747 - val_accuracy: 0.8463\n",
            "Epoch 195/300\n",
            "73/73 [==============================] - 0s 2ms/step - loss: 0.4149 - accuracy: 0.8275 - val_loss: 0.3731 - val_accuracy: 0.8471\n",
            "Epoch 196/300\n",
            "73/73 [==============================] - 0s 2ms/step - loss: 0.4284 - accuracy: 0.8217 - val_loss: 0.3750 - val_accuracy: 0.8447\n",
            "Epoch 197/300\n",
            "73/73 [==============================] - 0s 2ms/step - loss: 0.4288 - accuracy: 0.8198 - val_loss: 0.3770 - val_accuracy: 0.8471\n",
            "Epoch 198/300\n",
            "73/73 [==============================] - 0s 3ms/step - loss: 0.4219 - accuracy: 0.8298 - val_loss: 0.3749 - val_accuracy: 0.8471\n",
            "Epoch 199/300\n",
            "73/73 [==============================] - 0s 2ms/step - loss: 0.4237 - accuracy: 0.8230 - val_loss: 0.3774 - val_accuracy: 0.8431\n",
            "Epoch 200/300\n",
            "73/73 [==============================] - 0s 2ms/step - loss: 0.4252 - accuracy: 0.8237 - val_loss: 0.3743 - val_accuracy: 0.8455\n",
            "Epoch 201/300\n",
            "73/73 [==============================] - 0s 2ms/step - loss: 0.4286 - accuracy: 0.8215 - val_loss: 0.3788 - val_accuracy: 0.8424\n",
            "Epoch 202/300\n",
            "73/73 [==============================] - 0s 2ms/step - loss: 0.4303 - accuracy: 0.8208 - val_loss: 0.3749 - val_accuracy: 0.8447\n",
            "Epoch 203/300\n",
            "73/73 [==============================] - 0s 2ms/step - loss: 0.4220 - accuracy: 0.8263 - val_loss: 0.3709 - val_accuracy: 0.8455\n",
            "Epoch 204/300\n",
            "73/73 [==============================] - 0s 2ms/step - loss: 0.4231 - accuracy: 0.8256 - val_loss: 0.3764 - val_accuracy: 0.8439\n",
            "Epoch 205/300\n",
            "73/73 [==============================] - 0s 2ms/step - loss: 0.4256 - accuracy: 0.8202 - val_loss: 0.3732 - val_accuracy: 0.8478\n",
            "Epoch 206/300\n",
            "73/73 [==============================] - 0s 2ms/step - loss: 0.4249 - accuracy: 0.8235 - val_loss: 0.3704 - val_accuracy: 0.8447\n",
            "Epoch 207/300\n",
            "73/73 [==============================] - 0s 2ms/step - loss: 0.4214 - accuracy: 0.8267 - val_loss: 0.3738 - val_accuracy: 0.8463\n",
            "Epoch 208/300\n",
            "73/73 [==============================] - 0s 2ms/step - loss: 0.4195 - accuracy: 0.8257 - val_loss: 0.3675 - val_accuracy: 0.8510\n",
            "Epoch 209/300\n",
            "73/73 [==============================] - 0s 2ms/step - loss: 0.4187 - accuracy: 0.8285 - val_loss: 0.3701 - val_accuracy: 0.8510\n",
            "Epoch 210/300\n",
            "73/73 [==============================] - 0s 2ms/step - loss: 0.4329 - accuracy: 0.8209 - val_loss: 0.3770 - val_accuracy: 0.8431\n",
            "Epoch 211/300\n",
            "73/73 [==============================] - 0s 2ms/step - loss: 0.4224 - accuracy: 0.8246 - val_loss: 0.3700 - val_accuracy: 0.8471\n",
            "Epoch 212/300\n",
            "73/73 [==============================] - 0s 2ms/step - loss: 0.4235 - accuracy: 0.8228 - val_loss: 0.3715 - val_accuracy: 0.8447\n",
            "Epoch 213/300\n",
            "73/73 [==============================] - 0s 2ms/step - loss: 0.4221 - accuracy: 0.8238 - val_loss: 0.3737 - val_accuracy: 0.8447\n",
            "Epoch 214/300\n",
            "73/73 [==============================] - 0s 2ms/step - loss: 0.4260 - accuracy: 0.8228 - val_loss: 0.3751 - val_accuracy: 0.8478\n",
            "Epoch 215/300\n",
            "73/73 [==============================] - 0s 2ms/step - loss: 0.4270 - accuracy: 0.8227 - val_loss: 0.3725 - val_accuracy: 0.8447\n",
            "Epoch 216/300\n",
            "73/73 [==============================] - 0s 3ms/step - loss: 0.4293 - accuracy: 0.8246 - val_loss: 0.3757 - val_accuracy: 0.8471\n",
            "Epoch 217/300\n",
            "73/73 [==============================] - 0s 2ms/step - loss: 0.4312 - accuracy: 0.8213 - val_loss: 0.3780 - val_accuracy: 0.8494\n",
            "Epoch 218/300\n",
            "73/73 [==============================] - 0s 2ms/step - loss: 0.4266 - accuracy: 0.8235 - val_loss: 0.3739 - val_accuracy: 0.8471\n",
            "Epoch 219/300\n",
            "73/73 [==============================] - 0s 2ms/step - loss: 0.4254 - accuracy: 0.8251 - val_loss: 0.3719 - val_accuracy: 0.8478\n",
            "Epoch 220/300\n",
            "73/73 [==============================] - 0s 3ms/step - loss: 0.4226 - accuracy: 0.8280 - val_loss: 0.3676 - val_accuracy: 0.8447\n",
            "Epoch 221/300\n",
            "73/73 [==============================] - 0s 2ms/step - loss: 0.4287 - accuracy: 0.8234 - val_loss: 0.3725 - val_accuracy: 0.8502\n",
            "Epoch 222/300\n",
            "73/73 [==============================] - 0s 2ms/step - loss: 0.4291 - accuracy: 0.8213 - val_loss: 0.3747 - val_accuracy: 0.8455\n",
            "Epoch 223/300\n",
            "73/73 [==============================] - 0s 2ms/step - loss: 0.4283 - accuracy: 0.8246 - val_loss: 0.3717 - val_accuracy: 0.8478\n",
            "Epoch 224/300\n",
            "73/73 [==============================] - 0s 2ms/step - loss: 0.4270 - accuracy: 0.8239 - val_loss: 0.3693 - val_accuracy: 0.8478\n",
            "Epoch 225/300\n",
            "73/73 [==============================] - 0s 3ms/step - loss: 0.4309 - accuracy: 0.8208 - val_loss: 0.3740 - val_accuracy: 0.8463\n",
            "Epoch 226/300\n",
            "73/73 [==============================] - 0s 2ms/step - loss: 0.4213 - accuracy: 0.8231 - val_loss: 0.3728 - val_accuracy: 0.8478\n",
            "Epoch 227/300\n",
            "73/73 [==============================] - 0s 2ms/step - loss: 0.4228 - accuracy: 0.8263 - val_loss: 0.3719 - val_accuracy: 0.8424\n",
            "Epoch 228/300\n",
            "73/73 [==============================] - 0s 2ms/step - loss: 0.4184 - accuracy: 0.8239 - val_loss: 0.3739 - val_accuracy: 0.8463\n",
            "Epoch 229/300\n",
            "73/73 [==============================] - 0s 2ms/step - loss: 0.4285 - accuracy: 0.8235 - val_loss: 0.3714 - val_accuracy: 0.8455\n",
            "Epoch 230/300\n",
            "73/73 [==============================] - 0s 2ms/step - loss: 0.4246 - accuracy: 0.8237 - val_loss: 0.3721 - val_accuracy: 0.8455\n",
            "Epoch 231/300\n",
            "73/73 [==============================] - 0s 2ms/step - loss: 0.4244 - accuracy: 0.8231 - val_loss: 0.3728 - val_accuracy: 0.8447\n",
            "Epoch 232/300\n",
            "73/73 [==============================] - 0s 2ms/step - loss: 0.4251 - accuracy: 0.8253 - val_loss: 0.3726 - val_accuracy: 0.8447\n",
            "Epoch 233/300\n",
            "73/73 [==============================] - 0s 2ms/step - loss: 0.4248 - accuracy: 0.8203 - val_loss: 0.3719 - val_accuracy: 0.8455\n",
            "Epoch 234/300\n",
            "73/73 [==============================] - 0s 2ms/step - loss: 0.4334 - accuracy: 0.8239 - val_loss: 0.3782 - val_accuracy: 0.8431\n",
            "Epoch 235/300\n",
            "73/73 [==============================] - 0s 2ms/step - loss: 0.4174 - accuracy: 0.8289 - val_loss: 0.3706 - val_accuracy: 0.8463\n",
            "Epoch 236/300\n",
            "73/73 [==============================] - 0s 3ms/step - loss: 0.4193 - accuracy: 0.8269 - val_loss: 0.3678 - val_accuracy: 0.8463\n",
            "Epoch 237/300\n",
            "73/73 [==============================] - 0s 2ms/step - loss: 0.4274 - accuracy: 0.8246 - val_loss: 0.3747 - val_accuracy: 0.8463\n",
            "Epoch 238/300\n",
            "73/73 [==============================] - 0s 3ms/step - loss: 0.4261 - accuracy: 0.8233 - val_loss: 0.3777 - val_accuracy: 0.8416\n",
            "Epoch 239/300\n",
            "73/73 [==============================] - 0s 2ms/step - loss: 0.4247 - accuracy: 0.8245 - val_loss: 0.3749 - val_accuracy: 0.8455\n",
            "Epoch 240/300\n",
            "73/73 [==============================] - 0s 2ms/step - loss: 0.4227 - accuracy: 0.8239 - val_loss: 0.3749 - val_accuracy: 0.8439\n",
            "Epoch 241/300\n",
            "73/73 [==============================] - 0s 2ms/step - loss: 0.4248 - accuracy: 0.8227 - val_loss: 0.3741 - val_accuracy: 0.8502\n",
            "Epoch 242/300\n",
            "73/73 [==============================] - 0s 2ms/step - loss: 0.4302 - accuracy: 0.8234 - val_loss: 0.3803 - val_accuracy: 0.8416\n",
            "Epoch 243/300\n",
            "73/73 [==============================] - 0s 2ms/step - loss: 0.4219 - accuracy: 0.8252 - val_loss: 0.3715 - val_accuracy: 0.8455\n",
            "Epoch 244/300\n",
            "73/73 [==============================] - 0s 2ms/step - loss: 0.4203 - accuracy: 0.8267 - val_loss: 0.3725 - val_accuracy: 0.8447\n",
            "Epoch 245/300\n",
            "73/73 [==============================] - 0s 2ms/step - loss: 0.4210 - accuracy: 0.8256 - val_loss: 0.3769 - val_accuracy: 0.8463\n",
            "Epoch 246/300\n",
            "73/73 [==============================] - 0s 2ms/step - loss: 0.4360 - accuracy: 0.8191 - val_loss: 0.3790 - val_accuracy: 0.8431\n",
            "Epoch 247/300\n",
            "73/73 [==============================] - 0s 3ms/step - loss: 0.4245 - accuracy: 0.8281 - val_loss: 0.3779 - val_accuracy: 0.8463\n",
            "Epoch 248/300\n",
            "73/73 [==============================] - 0s 2ms/step - loss: 0.4233 - accuracy: 0.8242 - val_loss: 0.3731 - val_accuracy: 0.8463\n",
            "Epoch 249/300\n",
            "73/73 [==============================] - 0s 2ms/step - loss: 0.4251 - accuracy: 0.8227 - val_loss: 0.3778 - val_accuracy: 0.8447\n",
            "Epoch 250/300\n",
            "73/73 [==============================] - 0s 2ms/step - loss: 0.4213 - accuracy: 0.8278 - val_loss: 0.3751 - val_accuracy: 0.8471\n",
            "Epoch 251/300\n",
            "73/73 [==============================] - 0s 2ms/step - loss: 0.4236 - accuracy: 0.8246 - val_loss: 0.3701 - val_accuracy: 0.8463\n",
            "Epoch 252/300\n",
            "73/73 [==============================] - 0s 3ms/step - loss: 0.4189 - accuracy: 0.8259 - val_loss: 0.3714 - val_accuracy: 0.8502\n",
            "Epoch 253/300\n",
            "73/73 [==============================] - 0s 2ms/step - loss: 0.4262 - accuracy: 0.8228 - val_loss: 0.3710 - val_accuracy: 0.8486\n",
            "Epoch 254/300\n",
            "73/73 [==============================] - 0s 3ms/step - loss: 0.4270 - accuracy: 0.8244 - val_loss: 0.3732 - val_accuracy: 0.8463\n",
            "Epoch 255/300\n",
            "73/73 [==============================] - 0s 2ms/step - loss: 0.4206 - accuracy: 0.8245 - val_loss: 0.3725 - val_accuracy: 0.8478\n",
            "Epoch 256/300\n",
            "73/73 [==============================] - 0s 2ms/step - loss: 0.4222 - accuracy: 0.8252 - val_loss: 0.3759 - val_accuracy: 0.8463\n",
            "Epoch 257/300\n",
            "73/73 [==============================] - 0s 2ms/step - loss: 0.4254 - accuracy: 0.8237 - val_loss: 0.3700 - val_accuracy: 0.8502\n",
            "Epoch 258/300\n",
            "73/73 [==============================] - 0s 2ms/step - loss: 0.4249 - accuracy: 0.8257 - val_loss: 0.3792 - val_accuracy: 0.8471\n",
            "Epoch 259/300\n",
            "73/73 [==============================] - 0s 2ms/step - loss: 0.4256 - accuracy: 0.8246 - val_loss: 0.3750 - val_accuracy: 0.8439\n",
            "Epoch 260/300\n",
            "73/73 [==============================] - 0s 2ms/step - loss: 0.4230 - accuracy: 0.8228 - val_loss: 0.3710 - val_accuracy: 0.8463\n",
            "Epoch 261/300\n",
            "73/73 [==============================] - 0s 3ms/step - loss: 0.4255 - accuracy: 0.8251 - val_loss: 0.3794 - val_accuracy: 0.8463\n",
            "Epoch 262/300\n",
            "73/73 [==============================] - 0s 2ms/step - loss: 0.4236 - accuracy: 0.8224 - val_loss: 0.3712 - val_accuracy: 0.8494\n",
            "Epoch 263/300\n",
            "73/73 [==============================] - 0s 3ms/step - loss: 0.4260 - accuracy: 0.8235 - val_loss: 0.3727 - val_accuracy: 0.8463\n",
            "Epoch 264/300\n",
            "73/73 [==============================] - 0s 3ms/step - loss: 0.4207 - accuracy: 0.8252 - val_loss: 0.3710 - val_accuracy: 0.8455\n",
            "Epoch 265/300\n",
            "73/73 [==============================] - 0s 2ms/step - loss: 0.4241 - accuracy: 0.8233 - val_loss: 0.3730 - val_accuracy: 0.8478\n",
            "Epoch 266/300\n",
            "73/73 [==============================] - 0s 2ms/step - loss: 0.4222 - accuracy: 0.8238 - val_loss: 0.3711 - val_accuracy: 0.8447\n",
            "Epoch 267/300\n",
            "73/73 [==============================] - 0s 2ms/step - loss: 0.4200 - accuracy: 0.8216 - val_loss: 0.3743 - val_accuracy: 0.8424\n",
            "Epoch 268/300\n",
            "73/73 [==============================] - 0s 2ms/step - loss: 0.4246 - accuracy: 0.8235 - val_loss: 0.3735 - val_accuracy: 0.8463\n",
            "Epoch 269/300\n",
            "73/73 [==============================] - 0s 3ms/step - loss: 0.4209 - accuracy: 0.8241 - val_loss: 0.3729 - val_accuracy: 0.8471\n",
            "Epoch 270/300\n",
            "73/73 [==============================] - 0s 3ms/step - loss: 0.4241 - accuracy: 0.8223 - val_loss: 0.3764 - val_accuracy: 0.8455\n",
            "Epoch 271/300\n",
            "73/73 [==============================] - 0s 2ms/step - loss: 0.4279 - accuracy: 0.8223 - val_loss: 0.3755 - val_accuracy: 0.8424\n",
            "Epoch 272/300\n",
            "73/73 [==============================] - 0s 2ms/step - loss: 0.4162 - accuracy: 0.8292 - val_loss: 0.3701 - val_accuracy: 0.8478\n",
            "Epoch 273/300\n",
            "73/73 [==============================] - 0s 2ms/step - loss: 0.4210 - accuracy: 0.8223 - val_loss: 0.3665 - val_accuracy: 0.8471\n",
            "Epoch 274/300\n",
            "73/73 [==============================] - 0s 3ms/step - loss: 0.4247 - accuracy: 0.8245 - val_loss: 0.3748 - val_accuracy: 0.8447\n",
            "Epoch 275/300\n",
            "73/73 [==============================] - 0s 2ms/step - loss: 0.4289 - accuracy: 0.8219 - val_loss: 0.3792 - val_accuracy: 0.8408\n",
            "Epoch 276/300\n",
            "73/73 [==============================] - 0s 2ms/step - loss: 0.4287 - accuracy: 0.8227 - val_loss: 0.3772 - val_accuracy: 0.8455\n",
            "Epoch 277/300\n",
            "73/73 [==============================] - 0s 3ms/step - loss: 0.4285 - accuracy: 0.8220 - val_loss: 0.3785 - val_accuracy: 0.8455\n",
            "Epoch 278/300\n",
            "73/73 [==============================] - 0s 3ms/step - loss: 0.4304 - accuracy: 0.8217 - val_loss: 0.3763 - val_accuracy: 0.8431\n",
            "Epoch 279/300\n",
            "73/73 [==============================] - 0s 3ms/step - loss: 0.4182 - accuracy: 0.8249 - val_loss: 0.3728 - val_accuracy: 0.8455\n",
            "Epoch 280/300\n",
            "73/73 [==============================] - 0s 2ms/step - loss: 0.4252 - accuracy: 0.8237 - val_loss: 0.3738 - val_accuracy: 0.8471\n",
            "Epoch 281/300\n",
            "73/73 [==============================] - 0s 2ms/step - loss: 0.4205 - accuracy: 0.8216 - val_loss: 0.3711 - val_accuracy: 0.8463\n",
            "Epoch 282/300\n",
            "73/73 [==============================] - 0s 2ms/step - loss: 0.4223 - accuracy: 0.8248 - val_loss: 0.3744 - val_accuracy: 0.8478\n",
            "Epoch 283/300\n",
            "73/73 [==============================] - 0s 2ms/step - loss: 0.4253 - accuracy: 0.8244 - val_loss: 0.3730 - val_accuracy: 0.8463\n",
            "Epoch 284/300\n",
            "73/73 [==============================] - 0s 2ms/step - loss: 0.4281 - accuracy: 0.8245 - val_loss: 0.3737 - val_accuracy: 0.8471\n",
            "Epoch 285/300\n",
            "73/73 [==============================] - 0s 3ms/step - loss: 0.4195 - accuracy: 0.8270 - val_loss: 0.3748 - val_accuracy: 0.8455\n",
            "Epoch 286/300\n",
            "73/73 [==============================] - 0s 3ms/step - loss: 0.4145 - accuracy: 0.8277 - val_loss: 0.3700 - val_accuracy: 0.8478\n",
            "Epoch 287/300\n",
            "73/73 [==============================] - 0s 2ms/step - loss: 0.4231 - accuracy: 0.8253 - val_loss: 0.3711 - val_accuracy: 0.8486\n",
            "Epoch 288/300\n",
            "73/73 [==============================] - 0s 2ms/step - loss: 0.4226 - accuracy: 0.8237 - val_loss: 0.3713 - val_accuracy: 0.8447\n",
            "Epoch 289/300\n",
            "73/73 [==============================] - 0s 2ms/step - loss: 0.4230 - accuracy: 0.8255 - val_loss: 0.3730 - val_accuracy: 0.8463\n",
            "Epoch 290/300\n",
            "73/73 [==============================] - 0s 3ms/step - loss: 0.4246 - accuracy: 0.8239 - val_loss: 0.3723 - val_accuracy: 0.8447\n",
            "Epoch 291/300\n",
            "73/73 [==============================] - 0s 2ms/step - loss: 0.4253 - accuracy: 0.8234 - val_loss: 0.3753 - val_accuracy: 0.8455\n",
            "Epoch 292/300\n",
            "73/73 [==============================] - 0s 3ms/step - loss: 0.4297 - accuracy: 0.8209 - val_loss: 0.3767 - val_accuracy: 0.8447\n",
            "Epoch 293/300\n",
            "73/73 [==============================] - 0s 2ms/step - loss: 0.4219 - accuracy: 0.8233 - val_loss: 0.3729 - val_accuracy: 0.8424\n",
            "Epoch 294/300\n",
            "73/73 [==============================] - 0s 2ms/step - loss: 0.4253 - accuracy: 0.8231 - val_loss: 0.3760 - val_accuracy: 0.8431\n",
            "Epoch 295/300\n",
            "73/73 [==============================] - 0s 3ms/step - loss: 0.4264 - accuracy: 0.8239 - val_loss: 0.3751 - val_accuracy: 0.8478\n",
            "Epoch 296/300\n",
            "73/73 [==============================] - 0s 3ms/step - loss: 0.4224 - accuracy: 0.8221 - val_loss: 0.3754 - val_accuracy: 0.8463\n",
            "Epoch 297/300\n",
            "73/73 [==============================] - 0s 2ms/step - loss: 0.4295 - accuracy: 0.8202 - val_loss: 0.3767 - val_accuracy: 0.8463\n",
            "Epoch 298/300\n",
            "73/73 [==============================] - 0s 2ms/step - loss: 0.4259 - accuracy: 0.8242 - val_loss: 0.3756 - val_accuracy: 0.8439\n",
            "Epoch 299/300\n",
            "73/73 [==============================] - 0s 3ms/step - loss: 0.4201 - accuracy: 0.8230 - val_loss: 0.3725 - val_accuracy: 0.8455\n",
            "Epoch 300/300\n",
            "73/73 [==============================] - 0s 3ms/step - loss: 0.4209 - accuracy: 0.8259 - val_loss: 0.3711 - val_accuracy: 0.8463\n"
          ]
        },
        {
          "output_type": "execute_result",
          "data": {
            "text/plain": [
              "<keras.callbacks.History at 0x7f5b94ae27d0>"
            ]
          },
          "metadata": {},
          "execution_count": 82
        }
      ],
      "source": [
        "model.fit(x = X_train, y = y_train, validation_split = 0.15, batch_size = 100, epochs = 300, verbose = 1)"
      ]
    },
    {
      "cell_type": "code",
      "execution_count": 83,
      "metadata": {
        "id": "XH4ueub4uWYe",
        "outputId": "6e864c37-ab5f-479b-f104-39dfebe0f077",
        "colab": {
          "base_uri": "https://localhost:8080/",
          "height": 392
        }
      },
      "outputs": [
        {
          "output_type": "execute_result",
          "data": {
            "text/plain": [
              "<matplotlib.axes._subplots.AxesSubplot at 0x7f5b94c312d0>"
            ]
          },
          "metadata": {},
          "execution_count": 83
        },
        {
          "output_type": "display_data",
          "data": {
            "text/plain": [
              "<Figure size 720x432 with 1 Axes>"
            ],
            "image/png": "[encoded data removed]"
          },
          "metadata": {}
        }
      ],
      "source": [
        "loss_df = pd.DataFrame(model.history.history)\n",
        "loss_df.plot()"
      ]
    },
    {
      "cell_type": "code",
      "execution_count": 84,
      "metadata": {
        "id": "yts5oVeJuWYe",
        "outputId": "5c8ffa5d-0a81-4fe1-f59a-e338d6888f0d",
        "colab": {
          "base_uri": "https://localhost:8080/"
        }
      },
      "outputs": [
        {
          "output_type": "stream",
          "name": "stdout",
          "text": [
            "loss :  0.37526342272758484\n",
            "accuracy :  0.8393333554267883\n"
          ]
        }
      ],
      "source": [
        "loss, accuracy = model.evaluate(X_test, y_test, verbose=0)\n",
        "print(\"loss : \", loss)\n",
        "print(\"accuracy : \", accuracy)"
      ]
    },
    {
      "cell_type": "code",
      "execution_count": 85,
      "metadata": {
        "id": "XbYBe1jCuWYe",
        "outputId": "8803aba1-cc1c-4bd4-c0a5-59b426b214a5",
        "colab": {
          "base_uri": "https://localhost:8080/"
        }
      },
      "outputs": [
        {
          "output_type": "stream",
          "name": "stdout",
          "text": [
            "[[1183   11]\n",
            " [ 230   76]]\n",
            "              precision    recall  f1-score   support\n",
            "\n",
            "           0       0.84      0.99      0.91      1194\n",
            "           1       0.87      0.25      0.39       306\n",
            "\n",
            "    accuracy                           0.84      1500\n",
            "   macro avg       0.86      0.62      0.65      1500\n",
            "weighted avg       0.84      0.84      0.80      1500\n",
            "\n"
          ]
        }
      ],
      "source": [
        "y_pred = model.predict(X_test) > 0.5\n",
        "print(confusion_matrix(y_test, y_pred))\n",
        "print(classification_report(y_test, y_pred))"
      ]
    },
    {
      "cell_type": "markdown",
      "metadata": {
        "id": "FQGthQTa6QO9"
      },
      "source": [
        "### Add Early Stop"
      ]
    },
    {
      "cell_type": "code",
      "source": [
        ""
      ],
      "metadata": {
        "id": "-Euc3__VJVeI"
      },
      "execution_count": 85,
      "outputs": []
    },
    {
      "cell_type": "code",
      "execution_count": 86,
      "metadata": {
        "id": "4D17nNk7vrDT"
      },
      "outputs": [],
      "source": [
        "from tensorflow.keras.callbacks import EarlyStopping"
      ]
    },
    {
      "cell_type": "code",
      "execution_count": 87,
      "metadata": {
        "id": "VcPSEww_u_wp"
      },
      "outputs": [],
      "source": [
        "tf.random.set_seed(seed)\n",
        "\n",
        "model = Sequential()\n",
        "\n",
        "model.add(Dense(20, activation = \"relu\", input_dim = X_train.shape[1]))\n",
        "model.add(Dense(10, activation = \"relu\"))\n",
        "model.add(Dense(5, activation = \"relu\"))\n",
        "model.add(Dense(1, activation = \"sigmoid\"))\n",
        "\n",
        "model.compile(optimizer = \"adam\", loss = \"binary_crossentropy\", metrics = [\"accuracy\"])  "
      ]
    },
    {
      "cell_type": "code",
      "execution_count": 88,
      "metadata": {
        "id": "7gT47GwcwC2Q"
      },
      "outputs": [],
      "source": [
        "early_stop = EarlyStopping(monitor = \"val_loss\", mode = \"min\", verbose = 1, patience = 15, restore_best_weights = True) ## valloss azalması iyi olduğu içim mode min yaptık, auto dadiyebilirdik"
      ]
    },
    {
      "cell_type": "code",
      "execution_count": 89,
      "metadata": {
        "colab": {
          "base_uri": "https://localhost:8080/"
        },
        "id": "J6h5PWZqwHq0",
        "outputId": "6b1ada75-fb42-4324-ea80-573b289b9154"
      },
      "outputs": [
        {
          "output_type": "stream",
          "name": "stdout",
          "text": [
            "Epoch 1/300\n",
            "73/73 [==============================] - 1s 7ms/step - loss: 0.6362 - accuracy: 0.7269 - val_loss: 0.5466 - val_accuracy: 0.8008\n",
            "Epoch 2/300\n",
            "73/73 [==============================] - 0s 2ms/step - loss: 0.5173 - accuracy: 0.7956 - val_loss: 0.4980 - val_accuracy: 0.8008\n",
            "Epoch 3/300\n",
            "73/73 [==============================] - 0s 2ms/step - loss: 0.4991 - accuracy: 0.7956 - val_loss: 0.4873 - val_accuracy: 0.8008\n",
            "Epoch 4/300\n",
            "73/73 [==============================] - 0s 2ms/step - loss: 0.4856 - accuracy: 0.7956 - val_loss: 0.4736 - val_accuracy: 0.8008\n",
            "Epoch 5/300\n",
            "73/73 [==============================] - 0s 2ms/step - loss: 0.4680 - accuracy: 0.7965 - val_loss: 0.4590 - val_accuracy: 0.8078\n",
            "Epoch 6/300\n",
            "73/73 [==============================] - 0s 2ms/step - loss: 0.4514 - accuracy: 0.8036 - val_loss: 0.4470 - val_accuracy: 0.8102\n",
            "Epoch 7/300\n",
            "73/73 [==============================] - 0s 2ms/step - loss: 0.4371 - accuracy: 0.8125 - val_loss: 0.4349 - val_accuracy: 0.8157\n",
            "Epoch 8/300\n",
            "73/73 [==============================] - 0s 2ms/step - loss: 0.4267 - accuracy: 0.8151 - val_loss: 0.4262 - val_accuracy: 0.8180\n",
            "Epoch 9/300\n",
            "73/73 [==============================] - 0s 2ms/step - loss: 0.4167 - accuracy: 0.8169 - val_loss: 0.4178 - val_accuracy: 0.8165\n",
            "Epoch 10/300\n",
            "73/73 [==============================] - 0s 2ms/step - loss: 0.4089 - accuracy: 0.8227 - val_loss: 0.4144 - val_accuracy: 0.8180\n",
            "Epoch 11/300\n",
            "73/73 [==============================] - 0s 2ms/step - loss: 0.4027 - accuracy: 0.8241 - val_loss: 0.4034 - val_accuracy: 0.8337\n",
            "Epoch 12/300\n",
            "73/73 [==============================] - 0s 2ms/step - loss: 0.3988 - accuracy: 0.8269 - val_loss: 0.3988 - val_accuracy: 0.8282\n",
            "Epoch 13/300\n",
            "73/73 [==============================] - 0s 2ms/step - loss: 0.3943 - accuracy: 0.8303 - val_loss: 0.3932 - val_accuracy: 0.8337\n",
            "Epoch 14/300\n",
            "73/73 [==============================] - 0s 2ms/step - loss: 0.3898 - accuracy: 0.8354 - val_loss: 0.3888 - val_accuracy: 0.8400\n",
            "Epoch 15/300\n",
            "73/73 [==============================] - 0s 2ms/step - loss: 0.3858 - accuracy: 0.8363 - val_loss: 0.3849 - val_accuracy: 0.8416\n",
            "Epoch 16/300\n",
            "73/73 [==============================] - 0s 2ms/step - loss: 0.3830 - accuracy: 0.8393 - val_loss: 0.3825 - val_accuracy: 0.8392\n",
            "Epoch 17/300\n",
            "73/73 [==============================] - 0s 2ms/step - loss: 0.3800 - accuracy: 0.8421 - val_loss: 0.3809 - val_accuracy: 0.8455\n",
            "Epoch 18/300\n",
            "73/73 [==============================] - 0s 2ms/step - loss: 0.3768 - accuracy: 0.8419 - val_loss: 0.3729 - val_accuracy: 0.8502\n",
            "Epoch 19/300\n",
            "73/73 [==============================] - 0s 2ms/step - loss: 0.3741 - accuracy: 0.8455 - val_loss: 0.3708 - val_accuracy: 0.8471\n",
            "Epoch 20/300\n",
            "73/73 [==============================] - 0s 2ms/step - loss: 0.3722 - accuracy: 0.8448 - val_loss: 0.3685 - val_accuracy: 0.8494\n",
            "Epoch 21/300\n",
            "73/73 [==============================] - 0s 2ms/step - loss: 0.3711 - accuracy: 0.8469 - val_loss: 0.3664 - val_accuracy: 0.8580\n",
            "Epoch 22/300\n",
            "73/73 [==============================] - 0s 2ms/step - loss: 0.3674 - accuracy: 0.8504 - val_loss: 0.3658 - val_accuracy: 0.8541\n",
            "Epoch 23/300\n",
            "73/73 [==============================] - 0s 2ms/step - loss: 0.3660 - accuracy: 0.8520 - val_loss: 0.3627 - val_accuracy: 0.8533\n",
            "Epoch 24/300\n",
            "73/73 [==============================] - 0s 2ms/step - loss: 0.3639 - accuracy: 0.8505 - val_loss: 0.3619 - val_accuracy: 0.8565\n",
            "Epoch 25/300\n",
            "73/73 [==============================] - 0s 2ms/step - loss: 0.3626 - accuracy: 0.8508 - val_loss: 0.3607 - val_accuracy: 0.8580\n",
            "Epoch 26/300\n",
            "73/73 [==============================] - 0s 2ms/step - loss: 0.3620 - accuracy: 0.8529 - val_loss: 0.3612 - val_accuracy: 0.8596\n",
            "Epoch 27/300\n",
            "73/73 [==============================] - 0s 2ms/step - loss: 0.3613 - accuracy: 0.8561 - val_loss: 0.3562 - val_accuracy: 0.8612\n",
            "Epoch 28/300\n",
            "73/73 [==============================] - 0s 2ms/step - loss: 0.3596 - accuracy: 0.8533 - val_loss: 0.3552 - val_accuracy: 0.8612\n",
            "Epoch 29/300\n",
            "73/73 [==============================] - 0s 2ms/step - loss: 0.3570 - accuracy: 0.8555 - val_loss: 0.3535 - val_accuracy: 0.8667\n",
            "Epoch 30/300\n",
            "73/73 [==============================] - 0s 2ms/step - loss: 0.3569 - accuracy: 0.8572 - val_loss: 0.3548 - val_accuracy: 0.8627\n",
            "Epoch 31/300\n",
            "73/73 [==============================] - 0s 2ms/step - loss: 0.3564 - accuracy: 0.8541 - val_loss: 0.3525 - val_accuracy: 0.8643\n",
            "Epoch 32/300\n",
            "73/73 [==============================] - 0s 2ms/step - loss: 0.3553 - accuracy: 0.8565 - val_loss: 0.3544 - val_accuracy: 0.8627\n",
            "Epoch 33/300\n",
            "73/73 [==============================] - 0s 2ms/step - loss: 0.3555 - accuracy: 0.8570 - val_loss: 0.3557 - val_accuracy: 0.8612\n",
            "Epoch 34/300\n",
            "73/73 [==============================] - 0s 2ms/step - loss: 0.3545 - accuracy: 0.8570 - val_loss: 0.3535 - val_accuracy: 0.8627\n",
            "Epoch 35/300\n",
            "73/73 [==============================] - 0s 2ms/step - loss: 0.3550 - accuracy: 0.8570 - val_loss: 0.3515 - val_accuracy: 0.8675\n",
            "Epoch 36/300\n",
            "73/73 [==============================] - 0s 2ms/step - loss: 0.3540 - accuracy: 0.8561 - val_loss: 0.3505 - val_accuracy: 0.8635\n",
            "Epoch 37/300\n",
            "73/73 [==============================] - 0s 2ms/step - loss: 0.3535 - accuracy: 0.8566 - val_loss: 0.3517 - val_accuracy: 0.8651\n",
            "Epoch 38/300\n",
            "73/73 [==============================] - 0s 3ms/step - loss: 0.3513 - accuracy: 0.8562 - val_loss: 0.3553 - val_accuracy: 0.8588\n",
            "Epoch 39/300\n",
            "73/73 [==============================] - 0s 2ms/step - loss: 0.3511 - accuracy: 0.8576 - val_loss: 0.3479 - val_accuracy: 0.8635\n",
            "Epoch 40/300\n",
            "73/73 [==============================] - 0s 2ms/step - loss: 0.3524 - accuracy: 0.8559 - val_loss: 0.3539 - val_accuracy: 0.8682\n",
            "Epoch 41/300\n",
            "73/73 [==============================] - 0s 2ms/step - loss: 0.3514 - accuracy: 0.8540 - val_loss: 0.3485 - val_accuracy: 0.8620\n",
            "Epoch 42/300\n",
            "73/73 [==============================] - 0s 2ms/step - loss: 0.3507 - accuracy: 0.8561 - val_loss: 0.3477 - val_accuracy: 0.8627\n",
            "Epoch 43/300\n",
            "73/73 [==============================] - 0s 2ms/step - loss: 0.3494 - accuracy: 0.8579 - val_loss: 0.3495 - val_accuracy: 0.8620\n",
            "Epoch 44/300\n",
            "73/73 [==============================] - 0s 2ms/step - loss: 0.3498 - accuracy: 0.8579 - val_loss: 0.3482 - val_accuracy: 0.8627\n",
            "Epoch 45/300\n",
            "73/73 [==============================] - 0s 2ms/step - loss: 0.3496 - accuracy: 0.8566 - val_loss: 0.3499 - val_accuracy: 0.8651\n",
            "Epoch 46/300\n",
            "73/73 [==============================] - 0s 2ms/step - loss: 0.3481 - accuracy: 0.8576 - val_loss: 0.3516 - val_accuracy: 0.8580\n",
            "Epoch 47/300\n",
            "73/73 [==============================] - 0s 2ms/step - loss: 0.3486 - accuracy: 0.8559 - val_loss: 0.3480 - val_accuracy: 0.8627\n",
            "Epoch 48/300\n",
            "73/73 [==============================] - 0s 2ms/step - loss: 0.3487 - accuracy: 0.8574 - val_loss: 0.3461 - val_accuracy: 0.8643\n",
            "Epoch 49/300\n",
            "73/73 [==============================] - 0s 2ms/step - loss: 0.3487 - accuracy: 0.8567 - val_loss: 0.3467 - val_accuracy: 0.8682\n",
            "Epoch 50/300\n",
            "73/73 [==============================] - 0s 2ms/step - loss: 0.3497 - accuracy: 0.8554 - val_loss: 0.3513 - val_accuracy: 0.8604\n",
            "Epoch 51/300\n",
            "73/73 [==============================] - 0s 2ms/step - loss: 0.3479 - accuracy: 0.8594 - val_loss: 0.3488 - val_accuracy: 0.8627\n",
            "Epoch 52/300\n",
            "73/73 [==============================] - 0s 2ms/step - loss: 0.3478 - accuracy: 0.8576 - val_loss: 0.3449 - val_accuracy: 0.8635\n",
            "Epoch 53/300\n",
            "73/73 [==============================] - 0s 2ms/step - loss: 0.3470 - accuracy: 0.8588 - val_loss: 0.3455 - val_accuracy: 0.8604\n",
            "Epoch 54/300\n",
            "73/73 [==============================] - 0s 2ms/step - loss: 0.3473 - accuracy: 0.8563 - val_loss: 0.3493 - val_accuracy: 0.8612\n",
            "Epoch 55/300\n",
            "73/73 [==============================] - 0s 2ms/step - loss: 0.3469 - accuracy: 0.8581 - val_loss: 0.3469 - val_accuracy: 0.8620\n",
            "Epoch 56/300\n",
            "73/73 [==============================] - 0s 2ms/step - loss: 0.3462 - accuracy: 0.8573 - val_loss: 0.3458 - val_accuracy: 0.8627\n",
            "Epoch 57/300\n",
            "73/73 [==============================] - 0s 2ms/step - loss: 0.3465 - accuracy: 0.8590 - val_loss: 0.3463 - val_accuracy: 0.8604\n",
            "Epoch 58/300\n",
            "73/73 [==============================] - 0s 2ms/step - loss: 0.3465 - accuracy: 0.8580 - val_loss: 0.3471 - val_accuracy: 0.8604\n",
            "Epoch 59/300\n",
            "73/73 [==============================] - 0s 2ms/step - loss: 0.3458 - accuracy: 0.8570 - val_loss: 0.3469 - val_accuracy: 0.8643\n",
            "Epoch 60/300\n",
            "73/73 [==============================] - 0s 2ms/step - loss: 0.3466 - accuracy: 0.8594 - val_loss: 0.3462 - val_accuracy: 0.8635\n",
            "Epoch 61/300\n",
            "73/73 [==============================] - 0s 2ms/step - loss: 0.3452 - accuracy: 0.8594 - val_loss: 0.3450 - val_accuracy: 0.8635\n",
            "Epoch 62/300\n",
            "73/73 [==============================] - 0s 2ms/step - loss: 0.3459 - accuracy: 0.8585 - val_loss: 0.3455 - val_accuracy: 0.8627\n",
            "Epoch 63/300\n",
            "73/73 [==============================] - 0s 2ms/step - loss: 0.3437 - accuracy: 0.8585 - val_loss: 0.3531 - val_accuracy: 0.8565\n",
            "Epoch 64/300\n",
            "73/73 [==============================] - 0s 2ms/step - loss: 0.3447 - accuracy: 0.8595 - val_loss: 0.3450 - val_accuracy: 0.8627\n",
            "Epoch 65/300\n",
            "73/73 [==============================] - 0s 2ms/step - loss: 0.3462 - accuracy: 0.8569 - val_loss: 0.3441 - val_accuracy: 0.8643\n",
            "Epoch 66/300\n",
            "73/73 [==============================] - 0s 2ms/step - loss: 0.3436 - accuracy: 0.8573 - val_loss: 0.3451 - val_accuracy: 0.8620\n",
            "Epoch 67/300\n",
            "73/73 [==============================] - 0s 3ms/step - loss: 0.3440 - accuracy: 0.8588 - val_loss: 0.3489 - val_accuracy: 0.8620\n",
            "Epoch 68/300\n",
            "73/73 [==============================] - 0s 2ms/step - loss: 0.3446 - accuracy: 0.8598 - val_loss: 0.3467 - val_accuracy: 0.8612\n",
            "Epoch 69/300\n",
            "73/73 [==============================] - 0s 2ms/step - loss: 0.3446 - accuracy: 0.8573 - val_loss: 0.3522 - val_accuracy: 0.8604\n",
            "Epoch 70/300\n",
            "73/73 [==============================] - 0s 2ms/step - loss: 0.3448 - accuracy: 0.8595 - val_loss: 0.3462 - val_accuracy: 0.8620\n",
            "Epoch 71/300\n",
            "73/73 [==============================] - 0s 2ms/step - loss: 0.3452 - accuracy: 0.8587 - val_loss: 0.3474 - val_accuracy: 0.8620\n",
            "Epoch 72/300\n",
            "73/73 [==============================] - 0s 3ms/step - loss: 0.3448 - accuracy: 0.8581 - val_loss: 0.3435 - val_accuracy: 0.8643\n",
            "Epoch 73/300\n",
            "73/73 [==============================] - 0s 2ms/step - loss: 0.3428 - accuracy: 0.8584 - val_loss: 0.3435 - val_accuracy: 0.8643\n",
            "Epoch 74/300\n",
            "73/73 [==============================] - 0s 2ms/step - loss: 0.3453 - accuracy: 0.8580 - val_loss: 0.3451 - val_accuracy: 0.8635\n",
            "Epoch 75/300\n",
            "73/73 [==============================] - 0s 2ms/step - loss: 0.3434 - accuracy: 0.8592 - val_loss: 0.3474 - val_accuracy: 0.8635\n",
            "Epoch 76/300\n",
            "73/73 [==============================] - 0s 2ms/step - loss: 0.3435 - accuracy: 0.8580 - val_loss: 0.3414 - val_accuracy: 0.8682\n",
            "Epoch 77/300\n",
            "73/73 [==============================] - 0s 3ms/step - loss: 0.3449 - accuracy: 0.8576 - val_loss: 0.3575 - val_accuracy: 0.8549\n",
            "Epoch 78/300\n",
            "73/73 [==============================] - 0s 2ms/step - loss: 0.3458 - accuracy: 0.8583 - val_loss: 0.3426 - val_accuracy: 0.8596\n",
            "Epoch 79/300\n",
            "73/73 [==============================] - 0s 2ms/step - loss: 0.3420 - accuracy: 0.8583 - val_loss: 0.3433 - val_accuracy: 0.8643\n",
            "Epoch 80/300\n",
            "73/73 [==============================] - 0s 2ms/step - loss: 0.3435 - accuracy: 0.8573 - val_loss: 0.3458 - val_accuracy: 0.8620\n",
            "Epoch 81/300\n",
            "73/73 [==============================] - 0s 2ms/step - loss: 0.3424 - accuracy: 0.8608 - val_loss: 0.3437 - val_accuracy: 0.8620\n",
            "Epoch 82/300\n",
            "73/73 [==============================] - 0s 2ms/step - loss: 0.3429 - accuracy: 0.8598 - val_loss: 0.3464 - val_accuracy: 0.8620\n",
            "Epoch 83/300\n",
            "73/73 [==============================] - 0s 2ms/step - loss: 0.3428 - accuracy: 0.8585 - val_loss: 0.3444 - val_accuracy: 0.8588\n",
            "Epoch 84/300\n",
            "73/73 [==============================] - 0s 2ms/step - loss: 0.3419 - accuracy: 0.8598 - val_loss: 0.3435 - val_accuracy: 0.8604\n",
            "Epoch 85/300\n",
            "73/73 [==============================] - 0s 2ms/step - loss: 0.3420 - accuracy: 0.8595 - val_loss: 0.3417 - val_accuracy: 0.8643\n",
            "Epoch 86/300\n",
            "73/73 [==============================] - 0s 2ms/step - loss: 0.3413 - accuracy: 0.8598 - val_loss: 0.3517 - val_accuracy: 0.8612\n",
            "Epoch 87/300\n",
            "73/73 [==============================] - 0s 2ms/step - loss: 0.3423 - accuracy: 0.8573 - val_loss: 0.3428 - val_accuracy: 0.8635\n",
            "Epoch 88/300\n",
            "73/73 [==============================] - 0s 2ms/step - loss: 0.3415 - accuracy: 0.8588 - val_loss: 0.3451 - val_accuracy: 0.8643\n",
            "Epoch 89/300\n",
            "73/73 [==============================] - 0s 2ms/step - loss: 0.3417 - accuracy: 0.8601 - val_loss: 0.3436 - val_accuracy: 0.8612\n",
            "Epoch 90/300\n",
            "73/73 [==============================] - 0s 2ms/step - loss: 0.3415 - accuracy: 0.8581 - val_loss: 0.3477 - val_accuracy: 0.8565\n",
            "Epoch 91/300\n",
            "52/73 [====================>.........] - ETA: 0s - loss: 0.3486 - accuracy: 0.8544Restoring model weights from the end of the best epoch: 76.\n",
            "73/73 [==============================] - 0s 3ms/step - loss: 0.3445 - accuracy: 0.8580 - val_loss: 0.3425 - val_accuracy: 0.8627\n",
            "Epoch 91: early stopping\n"
          ]
        },
        {
          "output_type": "execute_result",
          "data": {
            "text/plain": [
              "<keras.callbacks.History at 0x7f5b94f35050>"
            ]
          },
          "metadata": {},
          "execution_count": 89
        }
      ],
      "source": [
        "model.fit(x = X_train, y = y_train, validation_split = 0.15, batch_size = 100, epochs = 300, verbose = 1,  \n",
        "          callbacks = [early_stop])"
      ]
    },
    {
      "cell_type": "code",
      "execution_count": 90,
      "metadata": {
        "colab": {
          "base_uri": "https://localhost:8080/",
          "height": 374
        },
        "id": "_y5lzpn-xKkj",
        "outputId": "b46d4180-ffed-453e-f8dd-6ea59d8a3058"
      },
      "outputs": [
        {
          "output_type": "display_data",
          "data": {
            "text/plain": [
              "<Figure size 720x432 with 1 Axes>"
            ],
            "image/png": "[encoded data removed]"
          },
          "metadata": {}
        }
      ],
      "source": [
        "loss_df = pd.DataFrame(model.history.history)\n",
        "loss_df.plot();                                               "
      ]
    },
    {
      "cell_type": "code",
      "execution_count": 91,
      "metadata": {
        "id": "6ViXx55xuWYX",
        "outputId": "38c6c13a-e78e-451e-bbfe-2cf37759e5ab",
        "colab": {
          "base_uri": "https://localhost:8080/"
        }
      },
      "outputs": [
        {
          "output_type": "stream",
          "name": "stdout",
          "text": [
            "loss :  0.3589894473552704\n",
            "accuracy :  0.846666693687439\n"
          ]
        }
      ],
      "source": [
        "loss, accuracy = model.evaluate(X_test, y_test, verbose=0)\n",
        "print(\"loss : \", loss)\n",
        "print(\"accuracy : \", accuracy)                                             "
      ]
    },
    {
      "cell_type": "code",
      "execution_count": 92,
      "metadata": {
        "id": "HBn4BqzYuWYX",
        "outputId": "00d6239b-f9a3-44ca-806e-627237f56868",
        "colab": {
          "base_uri": "https://localhost:8080/"
        }
      },
      "outputs": [
        {
          "output_type": "stream",
          "name": "stdout",
          "text": [
            "[[1128   66]\n",
            " [ 164  142]]\n",
            "              precision    recall  f1-score   support\n",
            "\n",
            "           0       0.87      0.94      0.91      1194\n",
            "           1       0.68      0.46      0.55       306\n",
            "\n",
            "    accuracy                           0.85      1500\n",
            "   macro avg       0.78      0.70      0.73      1500\n",
            "weighted avg       0.83      0.85      0.84      1500\n",
            "\n"
          ]
        }
      ],
      "source": [
        "y_pred = model.predict(X_test) > 0.5\n",
        "#y_pred = model.predict_classes(X_test) for tf 2.5.0\n",
        "print(confusion_matrix(y_test, y_pred))\n",
        "print(classification_report(y_test, y_pred))           "
      ]
    },
    {
      "cell_type": "markdown",
      "metadata": {
        "id": "VHX0g5WA6QO9"
      },
      "source": [
        "#### Monitor the \"val_loss\" as metric"
      ]
    },
    {
      "cell_type": "code",
      "execution_count": 92,
      "metadata": {
        "id": "g3tIiORt6QO9"
      },
      "outputs": [],
      "source": [
        ""
      ]
    },
    {
      "cell_type": "markdown",
      "metadata": {
        "id": "oTV_aryx6QO-"
      },
      "source": [
        "#### Monitor the \"val_recall\" as metric"
      ]
    },
    {
      "cell_type": "code",
      "execution_count": 92,
      "metadata": {
        "id": "kW4VnTvK6QO-"
      },
      "outputs": [],
      "source": [
        ""
      ]
    },
    {
      "cell_type": "markdown",
      "metadata": {
        "id": "yD2SxocD6QO-"
      },
      "source": [
        "## GridSearchCV"
      ]
    },
    {
      "cell_type": "code",
      "execution_count": 92,
      "metadata": {
        "id": "w7IibU526QO-"
      },
      "outputs": [],
      "source": [
        ""
      ]
    },
    {
      "cell_type": "markdown",
      "metadata": {
        "id": "q-6K09zX6QO-"
      },
      "source": [
        "### Evaluate The Model\n",
        "\n",
        "- Plot the model history to observe the changing of metrics\n",
        "- Make prediction to see \"confusion matrix\" and \"classification report\"\n",
        "- Check ROC (Receiver Operating Curve) and AUC (Area Under Curve) for the model"
      ]
    },
    {
      "cell_type": "code",
      "execution_count": 92,
      "metadata": {
        "id": "RSDFsmCA6QO_"
      },
      "outputs": [],
      "source": [
        ""
      ]
    },
    {
      "cell_type": "markdown",
      "metadata": {
        "id": "3BnkWw-86QO_"
      },
      "source": [
        "# Final Model and Model Deployment"
      ]
    },
    {
      "cell_type": "code",
      "execution_count": 95,
      "metadata": {
        "id": "L2uxD6iC6QO_",
        "colab": {
          "base_uri": "https://localhost:8080/",
          "height": 320
        },
        "outputId": "36f68516-9fbf-4d9c-9f3b-b43043a11c5a"
      },
      "outputs": [
        {
          "output_type": "error",
          "ename": "ModuleNotFoundError",
          "evalue": "ignored",
          "traceback": [
            "\u001b[0;31m---------------------------------------------------------------------------\u001b[0m",
            "\u001b[0;31mModuleNotFoundError\u001b[0m                       Traceback (most recent call last)",
            "\u001b[0;32m<ipython-input-95-6d7d51d09045>\u001b[0m in \u001b[0;36m<module>\u001b[0;34m()\u001b[0m\n\u001b[0;32m----> 1\u001b[0;31m \u001b[0;32mfrom\u001b[0m \u001b[0mlivelossplot\u001b[0m \u001b[0;32mimport\u001b[0m \u001b[0mPlotLossesKerasTF\u001b[0m\u001b[0;34m\u001b[0m\u001b[0;34m\u001b[0m\u001b[0m\n\u001b[0m",
            "\u001b[0;31mModuleNotFoundError\u001b[0m: No module named 'livelossplot'",
            "",
            "\u001b[0;31m---------------------------------------------------------------------------\u001b[0;32m\nNOTE: If your import is failing due to a missing package, you can\nmanually install dependencies using either !pip or !apt.\n\nTo view examples of installing some common dependencies, click the\n\"Open Examples\" button below.\n\u001b[0;31m---------------------------------------------------------------------------\u001b[0m\n"
          ],
          "errorDetails": {
            "actions": [
              {
                "action": "open_url",
                "actionText": "Open Examples",
                "url": "/notebooks/snippets/importing_libraries.ipynb"
              }
            ]
          }
        }
      ],
      "source": [
        ""
      ]
    },
    {
      "cell_type": "code",
      "execution_count": 93,
      "metadata": {
        "ExecuteTime": {
          "end_time": "2022-06-21T18:21:26.826167Z",
          "start_time": "2022-06-21T18:21:26.812228Z"
        },
        "id": "86kSYjSXBA3g"
      },
      "outputs": [],
      "source": [
        "import pickle # to save the model or scalling parameters\n",
        "\n",
        "pickle.dump(scaler, open(\"scaler_churn\", 'wb')) # to save the scaler"
      ]
    },
    {
      "cell_type": "code",
      "execution_count": 96,
      "metadata": {
        "ExecuteTime": {
          "end_time": "2022-06-21T18:22:13.465508Z",
          "start_time": "2022-06-21T18:21:57.196790Z"
        },
        "scrolled": false,
        "id": "0pCpckyhBA3g",
        "outputId": "6a3eb2ca-cf89-4448-fe7c-4a601735a10b",
        "colab": {
          "base_uri": "https://localhost:8080/"
        }
      },
      "outputs": [
        {
          "output_type": "stream",
          "name": "stdout",
          "text": [
            "Epoch 1/300\n",
            "85/85 [==============================] - 3s 11ms/step - loss: 0.6769 - recall: 0.8458 - val_loss: 0.7233 - val_recall: 0.8431\n",
            "Epoch 2/300\n",
            "85/85 [==============================] - 0s 4ms/step - loss: 0.6259 - recall: 0.6846 - val_loss: 0.6074 - val_recall: 0.6993\n",
            "Epoch 3/300\n",
            "85/85 [==============================] - 0s 4ms/step - loss: 0.5762 - recall: 0.6932 - val_loss: 0.6280 - val_recall: 0.7745\n",
            "Epoch 4/300\n",
            "85/85 [==============================] - 0s 4ms/step - loss: 0.5481 - recall: 0.7250 - val_loss: 0.5296 - val_recall: 0.6961\n",
            "Epoch 5/300\n",
            "85/85 [==============================] - 0s 4ms/step - loss: 0.5353 - recall: 0.7250 - val_loss: 0.5431 - val_recall: 0.7288\n",
            "Epoch 6/300\n",
            "85/85 [==============================] - 0s 4ms/step - loss: 0.5220 - recall: 0.7325 - val_loss: 0.5146 - val_recall: 0.7222\n",
            "Epoch 7/300\n",
            "85/85 [==============================] - 0s 4ms/step - loss: 0.5136 - recall: 0.7348 - val_loss: 0.5190 - val_recall: 0.7451\n",
            "Epoch 8/300\n",
            "85/85 [==============================] - 0s 4ms/step - loss: 0.5063 - recall: 0.7383 - val_loss: 0.6110 - val_recall: 0.8170\n",
            "Epoch 9/300\n",
            "85/85 [==============================] - 0s 4ms/step - loss: 0.5083 - recall: 0.7343 - val_loss: 0.5342 - val_recall: 0.7647\n",
            "Epoch 10/300\n",
            "85/85 [==============================] - 0s 4ms/step - loss: 0.5010 - recall: 0.7348 - val_loss: 0.4921 - val_recall: 0.7288\n",
            "Epoch 11/300\n",
            "85/85 [==============================] - 0s 4ms/step - loss: 0.4996 - recall: 0.7262 - val_loss: 0.4722 - val_recall: 0.6961\n",
            "Epoch 12/300\n",
            "85/85 [==============================] - 0s 4ms/step - loss: 0.4992 - recall: 0.7360 - val_loss: 0.5063 - val_recall: 0.7516\n",
            "Epoch 13/300\n",
            "85/85 [==============================] - 0s 4ms/step - loss: 0.4940 - recall: 0.7354 - val_loss: 0.5264 - val_recall: 0.7647\n",
            "Epoch 14/300\n",
            "85/85 [==============================] - 0s 2ms/step - loss: 0.5010 - recall: 0.7308 - val_loss: 0.5375 - val_recall: 0.7843\n",
            "Epoch 15/300\n",
            "85/85 [==============================] - 0s 2ms/step - loss: 0.4918 - recall: 0.7395 - val_loss: 0.5003 - val_recall: 0.7451\n",
            "Epoch 16/300\n",
            "85/85 [==============================] - 0s 2ms/step - loss: 0.4900 - recall: 0.7452 - val_loss: 0.5273 - val_recall: 0.7843\n",
            "Epoch 17/300\n",
            "85/85 [==============================] - 0s 2ms/step - loss: 0.4889 - recall: 0.7383 - val_loss: 0.4652 - val_recall: 0.6928\n",
            "Epoch 18/300\n",
            "85/85 [==============================] - 0s 2ms/step - loss: 0.4888 - recall: 0.7418 - val_loss: 0.4945 - val_recall: 0.7451\n",
            "Epoch 19/300\n",
            "85/85 [==============================] - 0s 2ms/step - loss: 0.4886 - recall: 0.7389 - val_loss: 0.4804 - val_recall: 0.7288\n",
            "Epoch 20/300\n",
            "85/85 [==============================] - 0s 2ms/step - loss: 0.4926 - recall: 0.7441 - val_loss: 0.4524 - val_recall: 0.6895\n",
            "Epoch 21/300\n",
            "85/85 [==============================] - 0s 2ms/step - loss: 0.4876 - recall: 0.7406 - val_loss: 0.5384 - val_recall: 0.7974\n",
            "Epoch 22/300\n",
            "85/85 [==============================] - 0s 2ms/step - loss: 0.4842 - recall: 0.7452 - val_loss: 0.4929 - val_recall: 0.7353\n",
            "Epoch 23/300\n",
            "85/85 [==============================] - 0s 2ms/step - loss: 0.4836 - recall: 0.7475 - val_loss: 0.4695 - val_recall: 0.7124\n",
            "Epoch 24/300\n",
            "85/85 [==============================] - 0s 2ms/step - loss: 0.4859 - recall: 0.7308 - val_loss: 0.4963 - val_recall: 0.7386\n",
            "Epoch 25/300\n",
            "85/85 [==============================] - 0s 3ms/step - loss: 0.4849 - recall: 0.7429 - val_loss: 0.5350 - val_recall: 0.8039\n",
            "Epoch 26/300\n",
            "85/85 [==============================] - 0s 2ms/step - loss: 0.4873 - recall: 0.7493 - val_loss: 0.4684 - val_recall: 0.7157\n",
            "Epoch 27/300\n",
            "85/85 [==============================] - 0s 2ms/step - loss: 0.4803 - recall: 0.7470 - val_loss: 0.4277 - val_recall: 0.6569\n",
            "Epoch 28/300\n",
            "85/85 [==============================] - 0s 2ms/step - loss: 0.4829 - recall: 0.7423 - val_loss: 0.4951 - val_recall: 0.7484\n",
            "Epoch 29/300\n",
            "85/85 [==============================] - 0s 2ms/step - loss: 0.4799 - recall: 0.7441 - val_loss: 0.4984 - val_recall: 0.7582\n",
            "Epoch 30/300\n",
            "85/85 [==============================] - 0s 2ms/step - loss: 0.4798 - recall: 0.7458 - val_loss: 0.5515 - val_recall: 0.8170\n",
            "Epoch 31/300\n",
            "85/85 [==============================] - 0s 2ms/step - loss: 0.4807 - recall: 0.7475 - val_loss: 0.5125 - val_recall: 0.7745\n",
            "Epoch 32/300\n",
            "85/85 [==============================] - 0s 2ms/step - loss: 0.4801 - recall: 0.7464 - val_loss: 0.5062 - val_recall: 0.7680\n",
            "Epoch 33/300\n",
            "85/85 [==============================] - 0s 2ms/step - loss: 0.4789 - recall: 0.7504 - val_loss: 0.4182 - val_recall: 0.6438\n",
            "Epoch 34/300\n",
            "85/85 [==============================] - 0s 2ms/step - loss: 0.4768 - recall: 0.7481 - val_loss: 0.5440 - val_recall: 0.8039\n",
            "Epoch 35/300\n",
            "85/85 [==============================] - 0s 2ms/step - loss: 0.4767 - recall: 0.7441 - val_loss: 0.4763 - val_recall: 0.7288\n",
            "Epoch 36/300\n",
            "85/85 [==============================] - 0s 2ms/step - loss: 0.4766 - recall: 0.7539 - val_loss: 0.5062 - val_recall: 0.7680\n",
            "Epoch 37/300\n",
            "85/85 [==============================] - 0s 2ms/step - loss: 0.4756 - recall: 0.7499 - val_loss: 0.4553 - val_recall: 0.7026\n",
            "Epoch 38/300\n",
            "85/85 [==============================] - 0s 2ms/step - loss: 0.4758 - recall: 0.7475 - val_loss: 0.5371 - val_recall: 0.7941\n",
            "Epoch 39/300\n",
            "85/85 [==============================] - 0s 2ms/step - loss: 0.4755 - recall: 0.7510 - val_loss: 0.5532 - val_recall: 0.8007\n",
            "Epoch 40/300\n",
            "85/85 [==============================] - 0s 2ms/step - loss: 0.4792 - recall: 0.7481 - val_loss: 0.4838 - val_recall: 0.7484\n",
            "Epoch 41/300\n",
            "85/85 [==============================] - 0s 2ms/step - loss: 0.4756 - recall: 0.7447 - val_loss: 0.5655 - val_recall: 0.8170\n",
            "Epoch 42/300\n",
            "85/85 [==============================] - 0s 2ms/step - loss: 0.4734 - recall: 0.7458 - val_loss: 0.5484 - val_recall: 0.7941\n",
            "Epoch 43/300\n",
            "85/85 [==============================] - 0s 2ms/step - loss: 0.4754 - recall: 0.7464 - val_loss: 0.4708 - val_recall: 0.7386\n",
            "Epoch 44/300\n",
            "85/85 [==============================] - 0s 2ms/step - loss: 0.4742 - recall: 0.7493 - val_loss: 0.5055 - val_recall: 0.7778\n",
            "Epoch 45/300\n",
            "85/85 [==============================] - 0s 2ms/step - loss: 0.4722 - recall: 0.7429 - val_loss: 0.5049 - val_recall: 0.7680\n",
            "Epoch 46/300\n",
            "85/85 [==============================] - 0s 2ms/step - loss: 0.4723 - recall: 0.7475 - val_loss: 0.4744 - val_recall: 0.7353\n",
            "Epoch 47/300\n",
            "85/85 [==============================] - 0s 2ms/step - loss: 0.4734 - recall: 0.7429 - val_loss: 0.4743 - val_recall: 0.7418\n",
            "Epoch 48/300\n",
            "81/85 [===========================>..] - ETA: 0s - loss: 0.4730 - recall: 0.7514Restoring model weights from the end of the best epoch: 33.\n",
            "85/85 [==============================] - 0s 2ms/step - loss: 0.4757 - recall: 0.7539 - val_loss: 0.5138 - val_recall: 0.7810\n",
            "Epoch 48: early stopping\n"
          ]
        },
        {
          "output_type": "execute_result",
          "data": {
            "text/plain": [
              "<keras.callbacks.History at 0x7f5b94819e90>"
            ]
          },
          "metadata": {},
          "execution_count": 96
        }
      ],
      "source": [
        "tf.random.set_seed(42)\n",
        "model = Sequential()\n",
        "\n",
        "model.add(Dense(20, activation=\"relu\"))\n",
        "model.add(Dense(10, activation=\"relu\"))\n",
        "model.add(Dense(5, activation=\"relu\"))\n",
        "model.add(Dense(1, activation=\"sigmoid\"))\n",
        "\n",
        "model.compile(optimizer=Adam(learning_rate=0.002),\n",
        "              loss=\"binary_crossentropy\",\n",
        "              metrics=[\"Recall\"])\n",
        "\n",
        "model.fit(x=X_train,\n",
        "          y=y_train,\n",
        "          validation_data=(X_test, y_test),\n",
        "          callbacks=[early_stop],\n",
        "          batch_size=100,\n",
        "          epochs=300,\n",
        "          verbose=1,\n",
        "          class_weight=class_weights)"
      ]
    },
    {
      "cell_type": "code",
      "execution_count": 97,
      "metadata": {
        "ExecuteTime": {
          "end_time": "2022-06-21T18:25:59.954432Z",
          "start_time": "2022-06-21T18:25:59.679398Z"
        },
        "cell_style": "split",
        "scrolled": true,
        "id": "vwp1JAB3BA3h",
        "outputId": "1bf02c84-571e-45ba-9d0f-582172347380",
        "colab": {
          "base_uri": "https://localhost:8080/",
          "height": 392
        }
      },
      "outputs": [
        {
          "output_type": "execute_result",
          "data": {
            "text/plain": [
              "<matplotlib.axes._subplots.AxesSubplot at 0x7f5c065f6350>"
            ]
          },
          "metadata": {},
          "execution_count": 97
        },
        {
          "output_type": "display_data",
          "data": {
            "text/plain": [
              "<Figure size 720x432 with 1 Axes>"
            ],
            "image/png": "[encoded data removed]"
          },
          "metadata": {}
        }
      ],
      "source": [
        "loss_df = pd.DataFrame(model.history.history)\n",
        "loss_df.plot()"
      ]
    },
    {
      "cell_type": "code",
      "execution_count": null,
      "metadata": {
        "ExecuteTime": {
          "end_time": "2022-06-21T18:26:06.303006Z",
          "start_time": "2022-06-21T18:26:05.950185Z"
        },
        "cell_style": "split",
        "scrolled": false,
        "id": "hI-05oEQBA3h"
      },
      "outputs": [],
      "source": [
        "y_pred = (model.predict(X_test) > .5).astype(\"int32\")\n",
        "print(confusion_matrix(y_test, y_pred))\n",
        "print(classification_report(y_test, y_pred))"
      ]
    },
    {
      "cell_type": "code",
      "execution_count": 99,
      "metadata": {
        "ExecuteTime": {
          "end_time": "2022-06-21T18:28:13.878308Z",
          "start_time": "2022-06-21T18:28:13.815503Z"
        },
        "id": "4jzwKkbZBA3h"
      },
      "outputs": [],
      "source": [
        "model.save('model_churn.h5')"
      ]
    },
    {
      "cell_type": "markdown",
      "metadata": {
        "id": "Cq10ovAX6daY"
      },
      "source": [
        "## Prediction"
      ]
    },
    {
      "cell_type": "code",
      "execution_count": 99,
      "metadata": {
        "id": "knrDA2fw6QO_"
      },
      "outputs": [],
      "source": [
        ""
      ]
    },
    {
      "cell_type": "code",
      "execution_count": 100,
      "metadata": {
        "ExecuteTime": {
          "end_time": "2022-06-21T18:29:41.629799Z",
          "start_time": "2022-06-21T18:29:41.607910Z"
        },
        "id": "YRgqZoWQBA3i",
        "outputId": "94437fd4-01f1-4220-e3d8-00edfbf79a36",
        "colab": {
          "base_uri": "https://localhost:8080/"
        }
      },
      "outputs": [
        {
          "output_type": "execute_result",
          "data": {
            "text/plain": [
              "CreditScore          619.000\n",
              "Age                   42.000\n",
              "Tenure                 2.000\n",
              "Balance                0.000\n",
              "NumOfProducts          1.000\n",
              "HasCrCard              1.000\n",
              "IsActiveMember         1.000\n",
              "EstimatedSalary   101348.880\n",
              "Gender_Female          1.000\n",
              "Gender_Male            0.000\n",
              "Name: 0, dtype: float64"
            ]
          },
          "metadata": {},
          "execution_count": 100
        }
      ],
      "source": [
        "single_customer = df.drop('Exited', axis=1).iloc[0]\n",
        "single_customer"
      ]
    },
    {
      "cell_type": "code",
      "execution_count": 101,
      "metadata": {
        "ExecuteTime": {
          "end_time": "2022-06-21T18:29:52.577045Z",
          "start_time": "2022-06-21T18:29:52.560573Z"
        },
        "id": "TgG5PixRBA3i"
      },
      "outputs": [],
      "source": [
        "single_customer1 = single_customer.copy()\n",
        "single_customer1[\"Age\"] = 40\n",
        "single_customer1[\"Balance\"] = 50000"
      ]
    },
    {
      "cell_type": "code",
      "source": [
        "single_customer.values"
      ],
      "metadata": {
        "colab": {
          "base_uri": "https://localhost:8080/"
        },
        "id": "ZNR2ctJQHRNv",
        "outputId": "986cbcdd-685c-403a-8a9d-af662eb76d87"
      },
      "execution_count": 106,
      "outputs": [
        {
          "output_type": "execute_result",
          "data": {
            "text/plain": [
              "array([6.1900000e+02, 4.2000000e+01, 2.0000000e+00, 0.0000000e+00,\n",
              "       1.0000000e+00, 1.0000000e+00, 1.0000000e+00, 1.0134888e+05,\n",
              "       1.0000000e+00, 0.0000000e+00])"
            ]
          },
          "metadata": {},
          "execution_count": 106
        }
      ]
    },
    {
      "cell_type": "code",
      "execution_count": 107,
      "metadata": {
        "ExecuteTime": {
          "end_time": "2022-06-21T18:30:00.635052Z",
          "start_time": "2022-06-21T18:30:00.598160Z"
        },
        "id": "GL5WXOxwBA3i",
        "outputId": "5b1114c6-73a6-41f7-b08e-bd05ae081d1c",
        "colab": {
          "base_uri": "https://localhost:8080/"
        }
      },
      "outputs": [
        {
          "output_type": "execute_result",
          "data": {
            "text/plain": [
              "array([[0.538     , 0.32432432, 0.2       , 0.        , 0.        ,\n",
              "        1.        , 1.        , 0.50673489, 1.        , 0.        ]])"
            ]
          },
          "metadata": {},
          "execution_count": 107
        }
      ],
      "source": [
        "single_customer = scaler.transform(single_customer.values.reshape(-1, 10))\n",
        "single_customer"
      ]
    },
    {
      "cell_type": "code",
      "execution_count": 111,
      "metadata": {
        "ExecuteTime": {
          "end_time": "2022-06-21T18:30:20.459029Z",
          "start_time": "2022-06-21T18:30:20.426155Z"
        },
        "id": "jPQiFlamBA3j",
        "outputId": "f2327d82-f2fd-45c9-a61f-051b91f6449e",
        "colab": {
          "base_uri": "https://localhost:8080/"
        }
      },
      "outputs": [
        {
          "output_type": "execute_result",
          "data": {
            "text/plain": [
              "array([[0.538     , 0.2972973 , 0.2       , 0.20974249, 0.        ,\n",
              "        1.        , 1.        , 0.50673489, 1.        , 0.        ]])"
            ]
          },
          "metadata": {},
          "execution_count": 111
        }
      ],
      "source": [
        "single_customer1 = scaler.transform(single_customer1.values.reshape(-1, 10))\n",
        "single_customer1"
      ]
    },
    {
      "cell_type": "code",
      "execution_count": 112,
      "metadata": {
        "ExecuteTime": {
          "end_time": "2022-06-21T18:30:31.001398Z",
          "start_time": "2022-06-21T18:30:30.868600Z"
        },
        "id": "EyGHEKStBA3j",
        "outputId": "626129be-acd2-4dd0-b1df-0628b6529127",
        "colab": {
          "base_uri": "https://localhost:8080/"
        }
      },
      "outputs": [
        {
          "output_type": "execute_result",
          "data": {
            "text/plain": [
              "array([[0.4519824]], dtype=float32)"
            ]
          },
          "metadata": {},
          "execution_count": 112
        }
      ],
      "source": [
        "model.predict(single_customer)"
      ]
    },
    {
      "cell_type": "code",
      "execution_count": 113,
      "metadata": {
        "ExecuteTime": {
          "end_time": "2022-06-08T00:35:27.785188Z",
          "start_time": "2022-06-08T00:35:27.749285Z"
        },
        "id": "5t9ToMqkBA3j",
        "outputId": "ea3e0206-3047-48a0-c5c4-7391c5235984",
        "colab": {
          "base_uri": "https://localhost:8080/"
        }
      },
      "outputs": [
        {
          "output_type": "execute_result",
          "data": {
            "text/plain": [
              "1"
            ]
          },
          "metadata": {},
          "execution_count": 113
        }
      ],
      "source": [
        "df[\"Exited\"].iloc[0]"
      ]
    },
    {
      "cell_type": "code",
      "execution_count": 114,
      "metadata": {
        "ExecuteTime": {
          "end_time": "2022-06-21T18:31:03.558693Z",
          "start_time": "2022-06-21T18:31:03.427602Z"
        },
        "id": "Cm0F_OhFBA3k",
        "outputId": "d5e99e55-a0ce-47eb-d77d-4e350def6548",
        "colab": {
          "base_uri": "https://localhost:8080/"
        }
      },
      "outputs": [
        {
          "output_type": "execute_result",
          "data": {
            "text/plain": [
              "array([[0.3882904]], dtype=float32)"
            ]
          },
          "metadata": {},
          "execution_count": 114
        }
      ],
      "source": [
        "model.predict(single_customer1) "
      ]
    },
    {
      "cell_type": "markdown",
      "metadata": {
        "id": "oOenV9nu6QPA"
      },
      "source": [
        "___\n",
        "\n",
        "<p style=\"text-align: center;\"><img src=\"https://docs.google.com/uc?id=1lY0Uj5R04yMY3-ZppPWxqCr5pvBLYPnV\" class=\"img-fluid\" alt=\"CLRSWY\"></p>\n",
        "\n",
        "___"
      ]
    }
  ],
  "metadata": {
    "colab": {
      "collapsed_sections": [],
      "name": "DL-Assignment-1 (Classification with ANN-Churn Prediction)-Student.ipynb",
      "provenance": [],
      "toc_visible": true,
      "include_colab_link": true
    },
    "kernelspec": {
      "display_name": "Python 3",
      "language": "python",
      "name": "python3"
    },
    "language_info": {
      "codemirror_mode": {
        "name": "ipython",
        "version": 3
      },
      "file_extension": ".py",
      "mimetype": "text/x-python",
      "name": "python",
      "nbconvert_exporter": "python",
      "pygments_lexer": "ipython3",
      "version": "3.7.6"
    },
    "toc": {
      "base_numbering": 1,
      "nav_menu": {},
      "number_sections": false,
      "sideBar": true,
      "skip_h1_title": false,
      "title_cell": "Table of Contents",
      "title_sidebar": "Contents",
      "toc_cell": false,
      "toc_position": {},
      "toc_section_display": true,
      "toc_window_display": true
    }
  },
  "nbformat": 4,
  "nbformat_minor": 0
}