{
  "cells": [
    {
      "cell_type": "markdown",
      "metadata": {
        "id": "view-in-github",
        "colab_type": "text"
      },
      "source": [
        "<a href=\"https://colab.research.google.com/github/bugeki/DL/blob/main/DL_Assignment_1_(Classification_with_ANN_Churn_Prediction)_Student.ipynb\" target=\"_parent\"><img src=\"https://colab.research.google.com/assets/colab-badge.svg\" alt=\"Open In Colab\"/></a>"
      ]
    },
    {
      "cell_type": "markdown",
      "metadata": {
        "id": "V6_ZeouB6QOn"
      },
      "source": [
        "___\n",
        "\n",
        "<p style=\"text-align: center;\"><img src=\"https://docs.google.com/uc?id=1lY0Uj5R04yMY3-ZppPWxqCr5pvBLYPnV\" class=\"img-fluid\" alt=\"CLRSWY\"></p>\n",
        "\n",
        "___"
      ]
    },
    {
      "cell_type": "markdown",
      "metadata": {
        "id": "0cOIJE_r6QOu"
      },
      "source": [
        "<h1 style=\"text-align: center;\">Deep Learning<br><br>Assignment-1 (ANN)<br><br>Churn Prediction for Bank Customer<br><h1>"
      ]
    },
    {
      "cell_type": "markdown",
      "metadata": {
        "id": "WjM8Pk6e6QOv"
      },
      "source": [
        "# Dataset Info"
      ]
    },
    {
      "cell_type": "markdown",
      "metadata": {
        "id": "YuLZ9TXQ6QOw"
      },
      "source": [
        "We have a dataset in which there are details of a bank's customers and the target variable is a binary variable reflecting the fact whether the customer left the bank (closed his account) or he continues to be a customer.\n",
        "\n",
        "The features in the given dataset are:\n",
        "- **rownumber:** Row Numbers from 1 to 10000.\n",
        "- **customerid:** A unique ID that identifies each customer.\n",
        "- **surname:** The customer’s surname.\n",
        "- **creditscore:** A credit score is a number between 300–850 that depicts a consumer's creditworthiness.\n",
        "- **geography:** The country from which the customer belongs to.\n",
        "- **Gender:** The customer’s gender: Male, Female\n",
        "- **Age:** The customer’s current age, in years, at the time of being customer.\n",
        "- **tenure:** The number of years for which the customer has been with the bank.\n",
        "- **balance:** Bank balance of the customer.\n",
        "- **numofproducts:** the number of bank products the customer is utilising.\n",
        "- **hascrcard:** The number of credit cards given to the customer by the bank.\n",
        "- **isactivemember:** Binary Flag for indicating if the client is active or not with the bank before the moment where the client exits the company (recorded in the variable \"exited\")\n",
        "- **exited:** Binary flag 1 if the customer closed account with bank and 0 if the customer is retained."
      ]
    },
    {
      "cell_type": "markdown",
      "metadata": {
        "id": "EUhpfC1k6QOx"
      },
      "source": [
        "# Improt Libraries & Data"
      ]
    },
    {
      "cell_type": "code",
      "execution_count": 50,
      "metadata": {
        "id": "s_z88Viz6QOy"
      },
      "outputs": [],
      "source": [
        "import numpy as np\n",
        "import pandas as pd\n",
        "import matplotlib.pyplot as plt\n",
        "import seaborn as sns\n",
        "\n",
        "import warnings\n",
        "warnings.filterwarnings(\"ignore\")\n",
        "warnings.warn(\"this will not show\")\n",
        "\n",
        "plt.rcParams[\"figure.figsize\"] = (10,6)\n",
        "\n",
        "sns.set_style(\"whitegrid\")\n",
        "pd.set_option('display.float_format', lambda x: '%.3f' % x)\n",
        "\n",
        "# Set it None to display all rows in the dataframe\n",
        "# pd.set_option('display.max_rows', None)\n",
        "\n",
        "# Set it to None to display all columns in the dataframe\n",
        "pd.set_option('display.max_columns', None)"
      ]
    },
    {
      "cell_type": "code",
      "execution_count": 50,
      "metadata": {
        "id": "tYlz_vkp6QOz"
      },
      "outputs": [],
      "source": [
        ""
      ]
    },
    {
      "cell_type": "code",
      "source": [
        "from google.colab import drive\n",
        "drive.mount('/content/drive')"
      ],
      "metadata": {
        "colab": {
          "base_uri": "https://localhost:8080/"
        },
        "id": "sUqA2BtDOWCl",
        "outputId": "5067cced-4f92-420a-b188-d83eb06e963c"
      },
      "execution_count": 51,
      "outputs": [
        {
          "output_type": "stream",
          "name": "stdout",
          "text": [
            "Drive already mounted at /content/drive; to attempt to forcibly remount, call drive.mount(\"/content/drive\", force_remount=True).\n"
          ]
        }
      ]
    },
    {
      "cell_type": "code",
      "source": [
        "df = pd.read_csv(\"/content/drive/MyDrive/Colab Notebooks/DL/ASS 1/Churn_Modelling.csv\")"
      ],
      "metadata": {
        "id": "_0NCcNx6OXyn"
      },
      "execution_count": 52,
      "outputs": []
    },
    {
      "cell_type": "markdown",
      "metadata": {
        "id": "iZjqd8oh6QO0"
      },
      "source": [
        "# Exploratory Data Analysis and Visualization"
      ]
    },
    {
      "cell_type": "markdown",
      "metadata": {
        "id": "waDKRvqF6QO1"
      },
      "source": [
        "1. Implement basic steps to see how is your data looks like\n",
        "2. Check for missing values\n",
        "3. Drop the features that not suitable for modelling\n",
        "4. Implement basic visualization steps such as histogram, countplot, heatmap\n",
        "5. Convert categorical variables to dummy variables"
      ]
    },
    {
      "cell_type": "code",
      "execution_count": 53,
      "metadata": {
        "colab": {
          "base_uri": "https://localhost:8080/",
          "height": 270
        },
        "id": "mfSEV-pj6QO1",
        "outputId": "69460520-a9eb-4b68-981c-771544ebe7db"
      },
      "outputs": [
        {
          "output_type": "execute_result",
          "data": {
            "text/plain": [
              "   RowNumber  CustomerId   Surname  CreditScore Geography  Gender  Age  \\\n",
              "0          1    15634602  Hargrave          619    France  Female   42   \n",
              "1          2    15647311      Hill          608     Spain  Female   41   \n",
              "2          3    15619304      Onio          502    France  Female   42   \n",
              "3          4    15701354      Boni          699    France  Female   39   \n",
              "4          5    15737888  Mitchell          850     Spain  Female   43   \n",
              "\n",
              "   Tenure    Balance  NumOfProducts  HasCrCard  IsActiveMember  \\\n",
              "0       2      0.000              1          1               1   \n",
              "1       1  83807.860              1          0               1   \n",
              "2       8 159660.800              3          1               0   \n",
              "3       1      0.000              2          0               0   \n",
              "4       2 125510.820              1          1               1   \n",
              "\n",
              "   EstimatedSalary  Exited  \n",
              "0       101348.880       1  \n",
              "1       112542.580       0  \n",
              "2       113931.570       1  \n",
              "3        93826.630       0  \n",
              "4        79084.100       0  "
            ],
            "text/html": [
              "\n",
              "  <div id=\"df-b3de8072-5735-4d45-a9f7-52f3a525afcf\">\n",
              "    <div class=\"colab-df-container\">\n",
              "      <div>\n",
              "<style scoped>\n",
              "    .dataframe tbody tr th:only-of-type {\n",
              "        vertical-align: middle;\n",
              "    }\n",
              "\n",
              "    .dataframe tbody tr th {\n",
              "        vertical-align: top;\n",
              "    }\n",
              "\n",
              "    .dataframe thead th {\n",
              "        text-align: right;\n",
              "    }\n",
              "</style>\n",
              "<table border=\"1\" class=\"dataframe\">\n",
              "  <thead>\n",
              "    <tr style=\"text-align: right;\">\n",
              "      <th></th>\n",
              "      <th>RowNumber</th>\n",
              "      <th>CustomerId</th>\n",
              "      <th>Surname</th>\n",
              "      <th>CreditScore</th>\n",
              "      <th>Geography</th>\n",
              "      <th>Gender</th>\n",
              "      <th>Age</th>\n",
              "      <th>Tenure</th>\n",
              "      <th>Balance</th>\n",
              "      <th>NumOfProducts</th>\n",
              "      <th>HasCrCard</th>\n",
              "      <th>IsActiveMember</th>\n",
              "      <th>EstimatedSalary</th>\n",
              "      <th>Exited</th>\n",
              "    </tr>\n",
              "  </thead>\n",
              "  <tbody>\n",
              "    <tr>\n",
              "      <th>0</th>\n",
              "      <td>1</td>\n",
              "      <td>15634602</td>\n",
              "      <td>Hargrave</td>\n",
              "      <td>619</td>\n",
              "      <td>France</td>\n",
              "      <td>Female</td>\n",
              "      <td>42</td>\n",
              "      <td>2</td>\n",
              "      <td>0.000</td>\n",
              "      <td>1</td>\n",
              "      <td>1</td>\n",
              "      <td>1</td>\n",
              "      <td>101348.880</td>\n",
              "      <td>1</td>\n",
              "    </tr>\n",
              "    <tr>\n",
              "      <th>1</th>\n",
              "      <td>2</td>\n",
              "      <td>15647311</td>\n",
              "      <td>Hill</td>\n",
              "      <td>608</td>\n",
              "      <td>Spain</td>\n",
              "      <td>Female</td>\n",
              "      <td>41</td>\n",
              "      <td>1</td>\n",
              "      <td>83807.860</td>\n",
              "      <td>1</td>\n",
              "      <td>0</td>\n",
              "      <td>1</td>\n",
              "      <td>112542.580</td>\n",
              "      <td>0</td>\n",
              "    </tr>\n",
              "    <tr>\n",
              "      <th>2</th>\n",
              "      <td>3</td>\n",
              "      <td>15619304</td>\n",
              "      <td>Onio</td>\n",
              "      <td>502</td>\n",
              "      <td>France</td>\n",
              "      <td>Female</td>\n",
              "      <td>42</td>\n",
              "      <td>8</td>\n",
              "      <td>159660.800</td>\n",
              "      <td>3</td>\n",
              "      <td>1</td>\n",
              "      <td>0</td>\n",
              "      <td>113931.570</td>\n",
              "      <td>1</td>\n",
              "    </tr>\n",
              "    <tr>\n",
              "      <th>3</th>\n",
              "      <td>4</td>\n",
              "      <td>15701354</td>\n",
              "      <td>Boni</td>\n",
              "      <td>699</td>\n",
              "      <td>France</td>\n",
              "      <td>Female</td>\n",
              "      <td>39</td>\n",
              "      <td>1</td>\n",
              "      <td>0.000</td>\n",
              "      <td>2</td>\n",
              "      <td>0</td>\n",
              "      <td>0</td>\n",
              "      <td>93826.630</td>\n",
              "      <td>0</td>\n",
              "    </tr>\n",
              "    <tr>\n",
              "      <th>4</th>\n",
              "      <td>5</td>\n",
              "      <td>15737888</td>\n",
              "      <td>Mitchell</td>\n",
              "      <td>850</td>\n",
              "      <td>Spain</td>\n",
              "      <td>Female</td>\n",
              "      <td>43</td>\n",
              "      <td>2</td>\n",
              "      <td>125510.820</td>\n",
              "      <td>1</td>\n",
              "      <td>1</td>\n",
              "      <td>1</td>\n",
              "      <td>79084.100</td>\n",
              "      <td>0</td>\n",
              "    </tr>\n",
              "  </tbody>\n",
              "</table>\n",
              "</div>\n",
              "      <button class=\"colab-df-convert\" onclick=\"convertToInteractive('df-b3de8072-5735-4d45-a9f7-52f3a525afcf')\"\n",
              "              title=\"Convert this dataframe to an interactive table.\"\n",
              "              style=\"display:none;\">\n",
              "        \n",
              "  <svg xmlns=\"http://www.w3.org/2000/svg\" height=\"24px\"viewBox=\"0 0 24 24\"\n",
              "       width=\"24px\">\n",
              "    <path d=\"M0 0h24v24H0V0z\" fill=\"none\"/>\n",
              "    <path d=\"M18.56 5.44l.94 2.06.94-2.06 2.06-.94-2.06-.94-.94-2.06-.94 2.06-2.06.94zm-11 1L8.5 8.5l.94-2.06 2.06-.94-2.06-.94L8.5 2.5l-.94 2.06-2.06.94zm10 10l.94 2.06.94-2.06 2.06-.94-2.06-.94-.94-2.06-.94 2.06-2.06.94z\"/><path d=\"M17.41 7.96l-1.37-1.37c-.4-.4-.92-.59-1.43-.59-.52 0-1.04.2-1.43.59L10.3 9.45l-7.72 7.72c-.78.78-.78 2.05 0 2.83L4 21.41c.39.39.9.59 1.41.59.51 0 1.02-.2 1.41-.59l7.78-7.78 2.81-2.81c.8-.78.8-2.07 0-2.86zM5.41 20L4 18.59l7.72-7.72 1.47 1.35L5.41 20z\"/>\n",
              "  </svg>\n",
              "      </button>\n",
              "      \n",
              "  <style>\n",
              "    .colab-df-container {\n",
              "      display:flex;\n",
              "      flex-wrap:wrap;\n",
              "      gap: 12px;\n",
              "    }\n",
              "\n",
              "    .colab-df-convert {\n",
              "      background-color: #E8F0FE;\n",
              "      border: none;\n",
              "      border-radius: 50%;\n",
              "      cursor: pointer;\n",
              "      display: none;\n",
              "      fill: #1967D2;\n",
              "      height: 32px;\n",
              "      padding: 0 0 0 0;\n",
              "      width: 32px;\n",
              "    }\n",
              "\n",
              "    .colab-df-convert:hover {\n",
              "      background-color: #E2EBFA;\n",
              "      box-shadow: 0px 1px 2px rgba(60, 64, 67, 0.3), 0px 1px 3px 1px rgba(60, 64, 67, 0.15);\n",
              "      fill: #174EA6;\n",
              "    }\n",
              "\n",
              "    [theme=dark] .colab-df-convert {\n",
              "      background-color: #3B4455;\n",
              "      fill: #D2E3FC;\n",
              "    }\n",
              "\n",
              "    [theme=dark] .colab-df-convert:hover {\n",
              "      background-color: #434B5C;\n",
              "      box-shadow: 0px 1px 3px 1px rgba(0, 0, 0, 0.15);\n",
              "      filter: drop-shadow(0px 1px 2px rgba(0, 0, 0, 0.3));\n",
              "      fill: #FFFFFF;\n",
              "    }\n",
              "  </style>\n",
              "\n",
              "      <script>\n",
              "        const buttonEl =\n",
              "          document.querySelector('#df-b3de8072-5735-4d45-a9f7-52f3a525afcf button.colab-df-convert');\n",
              "        buttonEl.style.display =\n",
              "          google.colab.kernel.accessAllowed ? 'block' : 'none';\n",
              "\n",
              "        async function convertToInteractive(key) {\n",
              "          const element = document.querySelector('#df-b3de8072-5735-4d45-a9f7-52f3a525afcf');\n",
              "          const dataTable =\n",
              "            await google.colab.kernel.invokeFunction('convertToInteractive',\n",
              "                                                     [key], {});\n",
              "          if (!dataTable) return;\n",
              "\n",
              "          const docLinkHtml = 'Like what you see? Visit the ' +\n",
              "            '<a target=\"_blank\" href=https://colab.research.google.com/notebooks/data_table.ipynb>data table notebook</a>'\n",
              "            + ' to learn more about interactive tables.';\n",
              "          element.innerHTML = '';\n",
              "          dataTable['output_type'] = 'display_data';\n",
              "          await google.colab.output.renderOutput(dataTable, element);\n",
              "          const docLink = document.createElement('div');\n",
              "          docLink.innerHTML = docLinkHtml;\n",
              "          element.appendChild(docLink);\n",
              "        }\n",
              "      </script>\n",
              "    </div>\n",
              "  </div>\n",
              "  "
            ]
          },
          "metadata": {},
          "execution_count": 53
        }
      ],
      "source": [
        "df.head()"
      ]
    },
    {
      "cell_type": "code",
      "source": [
        "df.info()"
      ],
      "metadata": {
        "colab": {
          "base_uri": "https://localhost:8080/"
        },
        "id": "fcds1eSwOx5P",
        "outputId": "3d7cc171-3f36-4bc3-d3c7-454878ba2be4"
      },
      "execution_count": 54,
      "outputs": [
        {
          "output_type": "stream",
          "name": "stdout",
          "text": [
            "<class 'pandas.core.frame.DataFrame'>\n",
            "RangeIndex: 10000 entries, 0 to 9999\n",
            "Data columns (total 14 columns):\n",
            " #   Column           Non-Null Count  Dtype  \n",
            "---  ------           --------------  -----  \n",
            " 0   RowNumber        10000 non-null  int64  \n",
            " 1   CustomerId       10000 non-null  int64  \n",
            " 2   Surname          10000 non-null  object \n",
            " 3   CreditScore      10000 non-null  int64  \n",
            " 4   Geography        10000 non-null  object \n",
            " 5   Gender           10000 non-null  object \n",
            " 6   Age              10000 non-null  int64  \n",
            " 7   Tenure           10000 non-null  int64  \n",
            " 8   Balance          10000 non-null  float64\n",
            " 9   NumOfProducts    10000 non-null  int64  \n",
            " 10  HasCrCard        10000 non-null  int64  \n",
            " 11  IsActiveMember   10000 non-null  int64  \n",
            " 12  EstimatedSalary  10000 non-null  float64\n",
            " 13  Exited           10000 non-null  int64  \n",
            "dtypes: float64(2), int64(9), object(3)\n",
            "memory usage: 1.1+ MB\n"
          ]
        }
      ]
    },
    {
      "cell_type": "code",
      "source": [
        "df.isnull().sum().any()"
      ],
      "metadata": {
        "colab": {
          "base_uri": "https://localhost:8080/"
        },
        "id": "EW65HiVeOxuf",
        "outputId": "b432a69b-5d1c-410a-e7c5-292259586da0"
      },
      "execution_count": 55,
      "outputs": [
        {
          "output_type": "execute_result",
          "data": {
            "text/plain": [
              "False"
            ]
          },
          "metadata": {},
          "execution_count": 55
        }
      ]
    },
    {
      "cell_type": "code",
      "source": [
        "df.describe().T"
      ],
      "metadata": {
        "colab": {
          "base_uri": "https://localhost:8080/",
          "height": 438
        },
        "id": "EtsT1WgjOxjJ",
        "outputId": "f2841423-2829-47fb-c15f-6cf30b4ad1bf"
      },
      "execution_count": 56,
      "outputs": [
        {
          "output_type": "execute_result",
          "data": {
            "text/plain": [
              "                    count         mean       std          min          25%  \\\n",
              "RowNumber       10000.000     5000.500  2886.896        1.000     2500.750   \n",
              "CustomerId      10000.000 15690940.569 71936.186 15565701.000 15628528.250   \n",
              "CreditScore     10000.000      650.529    96.653      350.000      584.000   \n",
              "Age             10000.000       38.922    10.488       18.000       32.000   \n",
              "Tenure          10000.000        5.013     2.892        0.000        3.000   \n",
              "Balance         10000.000    76485.889 62397.405        0.000        0.000   \n",
              "NumOfProducts   10000.000        1.530     0.582        1.000        1.000   \n",
              "HasCrCard       10000.000        0.706     0.456        0.000        0.000   \n",
              "IsActiveMember  10000.000        0.515     0.500        0.000        0.000   \n",
              "EstimatedSalary 10000.000   100090.240 57510.493       11.580    51002.110   \n",
              "Exited          10000.000        0.204     0.403        0.000        0.000   \n",
              "\n",
              "                         50%          75%          max  \n",
              "RowNumber           5000.500     7500.250    10000.000  \n",
              "CustomerId      15690738.000 15753233.750 15815690.000  \n",
              "CreditScore          652.000      718.000      850.000  \n",
              "Age                   37.000       44.000       92.000  \n",
              "Tenure                 5.000        7.000       10.000  \n",
              "Balance            97198.540   127644.240   250898.090  \n",
              "NumOfProducts          1.000        2.000        4.000  \n",
              "HasCrCard              1.000        1.000        1.000  \n",
              "IsActiveMember         1.000        1.000        1.000  \n",
              "EstimatedSalary   100193.915   149388.247   199992.480  \n",
              "Exited                 0.000        0.000        1.000  "
            ],
            "text/html": [
              "\n",
              "  <div id=\"df-94e0eaf6-e71a-47fd-9f54-1e65631f1d71\">\n",
              "    <div class=\"colab-df-container\">\n",
              "      <div>\n",
              "<style scoped>\n",
              "    .dataframe tbody tr th:only-of-type {\n",
              "        vertical-align: middle;\n",
              "    }\n",
              "\n",
              "    .dataframe tbody tr th {\n",
              "        vertical-align: top;\n",
              "    }\n",
              "\n",
              "    .dataframe thead th {\n",
              "        text-align: right;\n",
              "    }\n",
              "</style>\n",
              "<table border=\"1\" class=\"dataframe\">\n",
              "  <thead>\n",
              "    <tr style=\"text-align: right;\">\n",
              "      <th></th>\n",
              "      <th>count</th>\n",
              "      <th>mean</th>\n",
              "      <th>std</th>\n",
              "      <th>min</th>\n",
              "      <th>25%</th>\n",
              "      <th>50%</th>\n",
              "      <th>75%</th>\n",
              "      <th>max</th>\n",
              "    </tr>\n",
              "  </thead>\n",
              "  <tbody>\n",
              "    <tr>\n",
              "      <th>RowNumber</th>\n",
              "      <td>10000.000</td>\n",
              "      <td>5000.500</td>\n",
              "      <td>2886.896</td>\n",
              "      <td>1.000</td>\n",
              "      <td>2500.750</td>\n",
              "      <td>5000.500</td>\n",
              "      <td>7500.250</td>\n",
              "      <td>10000.000</td>\n",
              "    </tr>\n",
              "    <tr>\n",
              "      <th>CustomerId</th>\n",
              "      <td>10000.000</td>\n",
              "      <td>15690940.569</td>\n",
              "      <td>71936.186</td>\n",
              "      <td>15565701.000</td>\n",
              "      <td>15628528.250</td>\n",
              "      <td>15690738.000</td>\n",
              "      <td>15753233.750</td>\n",
              "      <td>15815690.000</td>\n",
              "    </tr>\n",
              "    <tr>\n",
              "      <th>CreditScore</th>\n",
              "      <td>10000.000</td>\n",
              "      <td>650.529</td>\n",
              "      <td>96.653</td>\n",
              "      <td>350.000</td>\n",
              "      <td>584.000</td>\n",
              "      <td>652.000</td>\n",
              "      <td>718.000</td>\n",
              "      <td>850.000</td>\n",
              "    </tr>\n",
              "    <tr>\n",
              "      <th>Age</th>\n",
              "      <td>10000.000</td>\n",
              "      <td>38.922</td>\n",
              "      <td>10.488</td>\n",
              "      <td>18.000</td>\n",
              "      <td>32.000</td>\n",
              "      <td>37.000</td>\n",
              "      <td>44.000</td>\n",
              "      <td>92.000</td>\n",
              "    </tr>\n",
              "    <tr>\n",
              "      <th>Tenure</th>\n",
              "      <td>10000.000</td>\n",
              "      <td>5.013</td>\n",
              "      <td>2.892</td>\n",
              "      <td>0.000</td>\n",
              "      <td>3.000</td>\n",
              "      <td>5.000</td>\n",
              "      <td>7.000</td>\n",
              "      <td>10.000</td>\n",
              "    </tr>\n",
              "    <tr>\n",
              "      <th>Balance</th>\n",
              "      <td>10000.000</td>\n",
              "      <td>76485.889</td>\n",
              "      <td>62397.405</td>\n",
              "      <td>0.000</td>\n",
              "      <td>0.000</td>\n",
              "      <td>97198.540</td>\n",
              "      <td>127644.240</td>\n",
              "      <td>250898.090</td>\n",
              "    </tr>\n",
              "    <tr>\n",
              "      <th>NumOfProducts</th>\n",
              "      <td>10000.000</td>\n",
              "      <td>1.530</td>\n",
              "      <td>0.582</td>\n",
              "      <td>1.000</td>\n",
              "      <td>1.000</td>\n",
              "      <td>1.000</td>\n",
              "      <td>2.000</td>\n",
              "      <td>4.000</td>\n",
              "    </tr>\n",
              "    <tr>\n",
              "      <th>HasCrCard</th>\n",
              "      <td>10000.000</td>\n",
              "      <td>0.706</td>\n",
              "      <td>0.456</td>\n",
              "      <td>0.000</td>\n",
              "      <td>0.000</td>\n",
              "      <td>1.000</td>\n",
              "      <td>1.000</td>\n",
              "      <td>1.000</td>\n",
              "    </tr>\n",
              "    <tr>\n",
              "      <th>IsActiveMember</th>\n",
              "      <td>10000.000</td>\n",
              "      <td>0.515</td>\n",
              "      <td>0.500</td>\n",
              "      <td>0.000</td>\n",
              "      <td>0.000</td>\n",
              "      <td>1.000</td>\n",
              "      <td>1.000</td>\n",
              "      <td>1.000</td>\n",
              "    </tr>\n",
              "    <tr>\n",
              "      <th>EstimatedSalary</th>\n",
              "      <td>10000.000</td>\n",
              "      <td>100090.240</td>\n",
              "      <td>57510.493</td>\n",
              "      <td>11.580</td>\n",
              "      <td>51002.110</td>\n",
              "      <td>100193.915</td>\n",
              "      <td>149388.247</td>\n",
              "      <td>199992.480</td>\n",
              "    </tr>\n",
              "    <tr>\n",
              "      <th>Exited</th>\n",
              "      <td>10000.000</td>\n",
              "      <td>0.204</td>\n",
              "      <td>0.403</td>\n",
              "      <td>0.000</td>\n",
              "      <td>0.000</td>\n",
              "      <td>0.000</td>\n",
              "      <td>0.000</td>\n",
              "      <td>1.000</td>\n",
              "    </tr>\n",
              "  </tbody>\n",
              "</table>\n",
              "</div>\n",
              "      <button class=\"colab-df-convert\" onclick=\"convertToInteractive('df-94e0eaf6-e71a-47fd-9f54-1e65631f1d71')\"\n",
              "              title=\"Convert this dataframe to an interactive table.\"\n",
              "              style=\"display:none;\">\n",
              "        \n",
              "  <svg xmlns=\"http://www.w3.org/2000/svg\" height=\"24px\"viewBox=\"0 0 24 24\"\n",
              "       width=\"24px\">\n",
              "    <path d=\"M0 0h24v24H0V0z\" fill=\"none\"/>\n",
              "    <path d=\"M18.56 5.44l.94 2.06.94-2.06 2.06-.94-2.06-.94-.94-2.06-.94 2.06-2.06.94zm-11 1L8.5 8.5l.94-2.06 2.06-.94-2.06-.94L8.5 2.5l-.94 2.06-2.06.94zm10 10l.94 2.06.94-2.06 2.06-.94-2.06-.94-.94-2.06-.94 2.06-2.06.94z\"/><path d=\"M17.41 7.96l-1.37-1.37c-.4-.4-.92-.59-1.43-.59-.52 0-1.04.2-1.43.59L10.3 9.45l-7.72 7.72c-.78.78-.78 2.05 0 2.83L4 21.41c.39.39.9.59 1.41.59.51 0 1.02-.2 1.41-.59l7.78-7.78 2.81-2.81c.8-.78.8-2.07 0-2.86zM5.41 20L4 18.59l7.72-7.72 1.47 1.35L5.41 20z\"/>\n",
              "  </svg>\n",
              "      </button>\n",
              "      \n",
              "  <style>\n",
              "    .colab-df-container {\n",
              "      display:flex;\n",
              "      flex-wrap:wrap;\n",
              "      gap: 12px;\n",
              "    }\n",
              "\n",
              "    .colab-df-convert {\n",
              "      background-color: #E8F0FE;\n",
              "      border: none;\n",
              "      border-radius: 50%;\n",
              "      cursor: pointer;\n",
              "      display: none;\n",
              "      fill: #1967D2;\n",
              "      height: 32px;\n",
              "      padding: 0 0 0 0;\n",
              "      width: 32px;\n",
              "    }\n",
              "\n",
              "    .colab-df-convert:hover {\n",
              "      background-color: #E2EBFA;\n",
              "      box-shadow: 0px 1px 2px rgba(60, 64, 67, 0.3), 0px 1px 3px 1px rgba(60, 64, 67, 0.15);\n",
              "      fill: #174EA6;\n",
              "    }\n",
              "\n",
              "    [theme=dark] .colab-df-convert {\n",
              "      background-color: #3B4455;\n",
              "      fill: #D2E3FC;\n",
              "    }\n",
              "\n",
              "    [theme=dark] .colab-df-convert:hover {\n",
              "      background-color: #434B5C;\n",
              "      box-shadow: 0px 1px 3px 1px rgba(0, 0, 0, 0.15);\n",
              "      filter: drop-shadow(0px 1px 2px rgba(0, 0, 0, 0.3));\n",
              "      fill: #FFFFFF;\n",
              "    }\n",
              "  </style>\n",
              "\n",
              "      <script>\n",
              "        const buttonEl =\n",
              "          document.querySelector('#df-94e0eaf6-e71a-47fd-9f54-1e65631f1d71 button.colab-df-convert');\n",
              "        buttonEl.style.display =\n",
              "          google.colab.kernel.accessAllowed ? 'block' : 'none';\n",
              "\n",
              "        async function convertToInteractive(key) {\n",
              "          const element = document.querySelector('#df-94e0eaf6-e71a-47fd-9f54-1e65631f1d71');\n",
              "          const dataTable =\n",
              "            await google.colab.kernel.invokeFunction('convertToInteractive',\n",
              "                                                     [key], {});\n",
              "          if (!dataTable) return;\n",
              "\n",
              "          const docLinkHtml = 'Like what you see? Visit the ' +\n",
              "            '<a target=\"_blank\" href=https://colab.research.google.com/notebooks/data_table.ipynb>data table notebook</a>'\n",
              "            + ' to learn more about interactive tables.';\n",
              "          element.innerHTML = '';\n",
              "          dataTable['output_type'] = 'display_data';\n",
              "          await google.colab.output.renderOutput(dataTable, element);\n",
              "          const docLink = document.createElement('div');\n",
              "          docLink.innerHTML = docLinkHtml;\n",
              "          element.appendChild(docLink);\n",
              "        }\n",
              "      </script>\n",
              "    </div>\n",
              "  </div>\n",
              "  "
            ]
          },
          "metadata": {},
          "execution_count": 56
        }
      ]
    },
    {
      "cell_type": "code",
      "source": [
        "df = df.drop([\"CustomerId\",'Surname', 'Geography'], axis = 1)"
      ],
      "metadata": {
        "id": "AtVSimv8PBE5"
      },
      "execution_count": 57,
      "outputs": []
    },
    {
      "cell_type": "code",
      "source": [
        "df.shape"
      ],
      "metadata": {
        "colab": {
          "base_uri": "https://localhost:8080/"
        },
        "id": "WTO6GmgEQjRq",
        "outputId": "f660cad7-cd05-4b4e-e57a-d27cad65bfcd"
      },
      "execution_count": 58,
      "outputs": [
        {
          "output_type": "execute_result",
          "data": {
            "text/plain": [
              "(10000, 11)"
            ]
          },
          "metadata": {},
          "execution_count": 58
        }
      ]
    },
    {
      "cell_type": "code",
      "source": [
        "df=pd.get_dummies(df)"
      ],
      "metadata": {
        "id": "PmEhR792RiaE"
      },
      "execution_count": 59,
      "outputs": []
    },
    {
      "cell_type": "code",
      "source": [
        "df.info()"
      ],
      "metadata": {
        "colab": {
          "base_uri": "https://localhost:8080/"
        },
        "id": "FGV5mn32ShzO",
        "outputId": "d0f6f067-22db-4ccb-da6e-df03ff4bc1e4"
      },
      "execution_count": 60,
      "outputs": [
        {
          "output_type": "stream",
          "name": "stdout",
          "text": [
            "<class 'pandas.core.frame.DataFrame'>\n",
            "RangeIndex: 10000 entries, 0 to 9999\n",
            "Data columns (total 12 columns):\n",
            " #   Column           Non-Null Count  Dtype  \n",
            "---  ------           --------------  -----  \n",
            " 0   RowNumber        10000 non-null  int64  \n",
            " 1   CreditScore      10000 non-null  int64  \n",
            " 2   Age              10000 non-null  int64  \n",
            " 3   Tenure           10000 non-null  int64  \n",
            " 4   Balance          10000 non-null  float64\n",
            " 5   NumOfProducts    10000 non-null  int64  \n",
            " 6   HasCrCard        10000 non-null  int64  \n",
            " 7   IsActiveMember   10000 non-null  int64  \n",
            " 8   EstimatedSalary  10000 non-null  float64\n",
            " 9   Exited           10000 non-null  int64  \n",
            " 10  Gender_Female    10000 non-null  uint8  \n",
            " 11  Gender_Male      10000 non-null  uint8  \n",
            "dtypes: float64(2), int64(8), uint8(2)\n",
            "memory usage: 800.9 KB\n"
          ]
        }
      ]
    },
    {
      "cell_type": "code",
      "source": [
        "plt.figure(figsize=(10,10))\n",
        "sns.countplot(df[\"Exited\"])"
      ],
      "metadata": {
        "colab": {
          "base_uri": "https://localhost:8080/",
          "height": 623
        },
        "id": "FjPtB_RtPA5Q",
        "outputId": "eb7dbba6-b61f-482c-b21a-6b48910cbcc9"
      },
      "execution_count": 61,
      "outputs": [
        {
          "output_type": "execute_result",
          "data": {
            "text/plain": [
              "<matplotlib.axes._subplots.AxesSubplot at 0x7fa637c11e10>"
            ]
          },
          "metadata": {},
          "execution_count": 61
        },
        {
          "output_type": "display_data",
          "data": {
            "text/plain": [
              "<Figure size 720x720 with 1 Axes>"
            ],
            "image/png": "[encoded data removed]"
          },
          "metadata": {}
        }
      ]
    },
    {
      "cell_type": "code",
      "source": [
        "plt.figure(figsize=(20,20))\n",
        "sns.heatmap(df.corr(), annot=True, cmap=\"seismic\"); "
      ],
      "metadata": {
        "colab": {
          "base_uri": "https://localhost:8080/",
          "height": 1000
        },
        "id": "yQb6ZFGzQVf6",
        "outputId": "afdbfb19-8be4-49cd-e629-9c547a3e4977"
      },
      "execution_count": 62,
      "outputs": [
        {
          "output_type": "display_data",
          "data": {
            "text/plain": [
              "<Figure size 1440x1440 with 2 Axes>"
            ],
            "image/png": "[encoded data removed]"
          },
          "metadata": {}
        }
      ]
    },
    {
      "cell_type": "code",
      "source": [
        "plt.figure(figsize = (8,10))\n",
        "df.corr()['Exited'].sort_values().drop(\"Exited\").plot(kind = \"barh\");  "
      ],
      "metadata": {
        "colab": {
          "base_uri": "https://localhost:8080/",
          "height": 592
        },
        "id": "j3FENIkrQmhF",
        "outputId": "999a4938-4302-4a1f-d380-b95daca846f0"
      },
      "execution_count": 63,
      "outputs": [
        {
          "output_type": "display_data",
          "data": {
            "text/plain": [
              "<Figure size 576x720 with 1 Axes>"
            ],
            "image/png": "[encoded data removed]"
          },
          "metadata": {}
        }
      ]
    },
    {
      "cell_type": "code",
      "source": [
        ""
      ],
      "metadata": {
        "id": "vV9GwSlQRDpj"
      },
      "execution_count": 63,
      "outputs": []
    },
    {
      "cell_type": "markdown",
      "metadata": {
        "id": "WO9crdOt6QO2"
      },
      "source": [
        "# Preprocessing of Data\n",
        "- Train | Test Split, Scalling"
      ]
    },
    {
      "cell_type": "code",
      "execution_count": 63,
      "metadata": {
        "id": "AV3FE9_U6QO3"
      },
      "outputs": [],
      "source": [
        ""
      ]
    },
    {
      "cell_type": "code",
      "execution_count": 64,
      "metadata": {
        "id": "DjY-ZSPWka7D"
      },
      "outputs": [],
      "source": [
        "from sklearn.model_selection import train_test_split\n",
        "from sklearn.preprocessing import MinMaxScaler"
      ]
    },
    {
      "cell_type": "code",
      "execution_count": 65,
      "metadata": {
        "id": "kjyTH753lq7M"
      },
      "outputs": [],
      "source": [
        "X = df.drop('Exited', axis=1)\n",
        "y = df['Exited']"
      ]
    },
    {
      "cell_type": "code",
      "execution_count": 66,
      "metadata": {
        "id": "LZHPkO_DuWYK"
      },
      "outputs": [],
      "source": [
        "seed = 42"
      ]
    },
    {
      "cell_type": "code",
      "execution_count": 67,
      "metadata": {
        "id": "-U7qM3NxmKZX"
      },
      "outputs": [],
      "source": [
        "X_train, X_test, y_train, y_test = train_test_split(X, y, stratify = y, test_size = 0.15, random_state = seed)"
      ]
    },
    {
      "cell_type": "code",
      "execution_count": 68,
      "metadata": {
        "id": "fv1Ass6wuWYL"
      },
      "outputs": [],
      "source": [
        "scaler = MinMaxScaler()"
      ]
    },
    {
      "cell_type": "code",
      "execution_count": 69,
      "metadata": {
        "id": "Fgy3D9SBmWcq"
      },
      "outputs": [],
      "source": [
        "X_train= scaler.fit_transform(X_train)\n",
        "X_test = scaler.transform(X_test)"
      ]
    },
    {
      "cell_type": "markdown",
      "metadata": {
        "id": "Ha9hDt_AoGaE"
      },
      "source": [
        "# Modelling & Model Performance"
      ]
    },
    {
      "cell_type": "markdown",
      "metadata": {
        "id": "nFduVvWV6QO4"
      },
      "source": [
        "## without class_weigth"
      ]
    },
    {
      "cell_type": "markdown",
      "metadata": {
        "id": "yw66wSCy6QO4"
      },
      "source": [
        "### Create The Model"
      ]
    },
    {
      "cell_type": "code",
      "execution_count": 69,
      "metadata": {
        "id": "8d2UbzKd6QO4"
      },
      "outputs": [],
      "source": [
        ""
      ]
    },
    {
      "cell_type": "code",
      "execution_count": 70,
      "metadata": {
        "id": "7ULmvr-n13bQ"
      },
      "outputs": [],
      "source": [
        "import tensorflow as tf\n",
        "from tensorflow.keras.models import Sequential\n",
        "from tensorflow.keras.layers import Dense, Activation\n",
        "from sklearn.metrics import classification_report, confusion_matrix\n",
        "from sklearn.metrics import plot_roc_curve, roc_auc_score, roc_curve\n",
        "from sklearn.model_selection import cross_val_score, cross_validate\n",
        "from sklearn.model_selection import GridSearchCV  "
      ]
    },
    {
      "cell_type": "code",
      "execution_count": 70,
      "metadata": {
        "id": "bVa8H6z113bR"
      },
      "outputs": [],
      "source": [
        ""
      ]
    },
    {
      "cell_type": "code",
      "execution_count": 71,
      "metadata": {
        "colab": {
          "base_uri": "https://localhost:8080/"
        },
        "id": "53becHwOn549",
        "outputId": "e4406ded-4fa1-4b6c-828b-754c1aeb0ac2"
      },
      "outputs": [
        {
          "output_type": "execute_result",
          "data": {
            "text/plain": [
              "(8500, 11)"
            ]
          },
          "metadata": {},
          "execution_count": 71
        }
      ],
      "source": [
        "X_train.shape"
      ]
    },
    {
      "cell_type": "code",
      "execution_count": 72,
      "metadata": {
        "colab": {
          "base_uri": "https://localhost:8080/"
        },
        "id": "TX7hyUw5rOZc",
        "outputId": "22e5e99c-345e-4ca6-bcb7-db9dc71462ac"
      },
      "outputs": [
        {
          "output_type": "execute_result",
          "data": {
            "text/plain": [
              "(1500, 11)"
            ]
          },
          "metadata": {},
          "execution_count": 72
        }
      ],
      "source": [
        "X_test.shape"
      ]
    },
    {
      "cell_type": "code",
      "execution_count": 73,
      "metadata": {
        "id": "GG2glFRNrQcv"
      },
      "outputs": [],
      "source": [
        "tf.random.set_seed(seed)\n",
        "\n",
        "model = Sequential()\n",
        "\n",
        "model.add(Dense(20, activation = \"relu\", input_dim = X_train.shape[1]))\n",
        "model.add(Dense(10, activation = \"relu\"))\n",
        "model.add(Dense(5, activation = \"relu\"))\n",
        "model.add(Dense(1, activation = \"sigmoid\"))         \n",
        "model.compile(optimizer = \"adam\", loss = \"binary_crossentropy\", metrics = [\"Recall\"])  "
      ]
    },
    {
      "cell_type": "code",
      "execution_count": 74,
      "metadata": {
        "colab": {
          "base_uri": "https://localhost:8080/"
        },
        "id": "hw5J9o-mtbkj",
        "outputId": "f02e2d20-149f-4dd2-8bd4-909b67e48d66"
      },
      "outputs": [
        {
          "output_type": "stream",
          "name": "stdout",
          "text": [
            "Epoch 1/300\n",
            "73/73 [==============================] - 1s 5ms/step - loss: 0.6286 - recall: 0.1374 - val_loss: 0.5278 - val_recall: 0.0000e+00\n",
            "Epoch 2/300\n",
            "73/73 [==============================] - 0s 3ms/step - loss: 0.5029 - recall: 0.0000e+00 - val_loss: 0.4850 - val_recall: 0.0000e+00\n",
            "Epoch 3/300\n",
            "73/73 [==============================] - 0s 2ms/step - loss: 0.4909 - recall: 0.0000e+00 - val_loss: 0.4801 - val_recall: 0.0000e+00\n",
            "Epoch 4/300\n",
            "73/73 [==============================] - 0s 2ms/step - loss: 0.4832 - recall: 0.0000e+00 - val_loss: 0.4744 - val_recall: 0.0000e+00\n",
            "Epoch 5/300\n",
            "73/73 [==============================] - 0s 2ms/step - loss: 0.4747 - recall: 0.0000e+00 - val_loss: 0.4682 - val_recall: 0.0000e+00\n",
            "Epoch 6/300\n",
            "73/73 [==============================] - 0s 2ms/step - loss: 0.4654 - recall: 0.0000e+00 - val_loss: 0.4626 - val_recall: 0.0000e+00\n",
            "Epoch 7/300\n",
            "73/73 [==============================] - 0s 2ms/step - loss: 0.4572 - recall: 0.0000e+00 - val_loss: 0.4575 - val_recall: 0.0000e+00\n",
            "Epoch 8/300\n",
            "73/73 [==============================] - 0s 2ms/step - loss: 0.4505 - recall: 0.0000e+00 - val_loss: 0.4536 - val_recall: 0.0000e+00\n",
            "Epoch 9/300\n",
            "73/73 [==============================] - 0s 3ms/step - loss: 0.4444 - recall: 0.0000e+00 - val_loss: 0.4513 - val_recall: 0.0000e+00\n",
            "Epoch 10/300\n",
            "73/73 [==============================] - 0s 2ms/step - loss: 0.4403 - recall: 0.0000e+00 - val_loss: 0.4491 - val_recall: 0.0000e+00\n",
            "Epoch 11/300\n",
            "73/73 [==============================] - 0s 2ms/step - loss: 0.4364 - recall: 0.0000e+00 - val_loss: 0.4461 - val_recall: 0.0000e+00\n",
            "Epoch 12/300\n",
            "73/73 [==============================] - 0s 2ms/step - loss: 0.4346 - recall: 0.0000e+00 - val_loss: 0.4482 - val_recall: 0.0000e+00\n",
            "Epoch 13/300\n",
            "73/73 [==============================] - 0s 2ms/step - loss: 0.4312 - recall: 0.0041 - val_loss: 0.4414 - val_recall: 0.0079\n",
            "Epoch 14/300\n",
            "73/73 [==============================] - 0s 2ms/step - loss: 0.4278 - recall: 0.0251 - val_loss: 0.4386 - val_recall: 0.0354\n",
            "Epoch 15/300\n",
            "73/73 [==============================] - 0s 3ms/step - loss: 0.4231 - recall: 0.1374 - val_loss: 0.4335 - val_recall: 0.1575\n",
            "Epoch 16/300\n",
            "73/73 [==============================] - 0s 2ms/step - loss: 0.4171 - recall: 0.2255 - val_loss: 0.4271 - val_recall: 0.2008\n",
            "Epoch 17/300\n",
            "73/73 [==============================] - 0s 2ms/step - loss: 0.4097 - recall: 0.2607 - val_loss: 0.4192 - val_recall: 0.2795\n",
            "Epoch 18/300\n",
            "73/73 [==============================] - 0s 2ms/step - loss: 0.4017 - recall: 0.3033 - val_loss: 0.4088 - val_recall: 0.2717\n",
            "Epoch 19/300\n",
            "73/73 [==============================] - 0s 2ms/step - loss: 0.3934 - recall: 0.3209 - val_loss: 0.3986 - val_recall: 0.3071\n",
            "Epoch 20/300\n",
            "73/73 [==============================] - 0s 3ms/step - loss: 0.3858 - recall: 0.3466 - val_loss: 0.3899 - val_recall: 0.3110\n",
            "Epoch 21/300\n",
            "73/73 [==============================] - 0s 2ms/step - loss: 0.3795 - recall: 0.3670 - val_loss: 0.3816 - val_recall: 0.3307\n",
            "Epoch 22/300\n",
            "73/73 [==============================] - 0s 2ms/step - loss: 0.3733 - recall: 0.3771 - val_loss: 0.3776 - val_recall: 0.3228\n",
            "Epoch 23/300\n",
            "73/73 [==============================] - 0s 2ms/step - loss: 0.3695 - recall: 0.3751 - val_loss: 0.3732 - val_recall: 0.3504\n",
            "Epoch 24/300\n",
            "73/73 [==============================] - 0s 2ms/step - loss: 0.3668 - recall: 0.3913 - val_loss: 0.3689 - val_recall: 0.3583\n",
            "Epoch 25/300\n",
            "73/73 [==============================] - 0s 2ms/step - loss: 0.3649 - recall: 0.3900 - val_loss: 0.3667 - val_recall: 0.3780\n",
            "Epoch 26/300\n",
            "73/73 [==============================] - 0s 3ms/step - loss: 0.3633 - recall: 0.3947 - val_loss: 0.3637 - val_recall: 0.3622\n",
            "Epoch 27/300\n",
            "73/73 [==============================] - 0s 2ms/step - loss: 0.3617 - recall: 0.4015 - val_loss: 0.3633 - val_recall: 0.3661\n",
            "Epoch 28/300\n",
            "73/73 [==============================] - 0s 2ms/step - loss: 0.3609 - recall: 0.4028 - val_loss: 0.3620 - val_recall: 0.3740\n",
            "Epoch 29/300\n",
            "73/73 [==============================] - 0s 2ms/step - loss: 0.3590 - recall: 0.4110 - val_loss: 0.3604 - val_recall: 0.3701\n",
            "Epoch 30/300\n",
            "73/73 [==============================] - 0s 2ms/step - loss: 0.3592 - recall: 0.3981 - val_loss: 0.3645 - val_recall: 0.4370\n",
            "Epoch 31/300\n",
            "73/73 [==============================] - 0s 2ms/step - loss: 0.3586 - recall: 0.3961 - val_loss: 0.3592 - val_recall: 0.4016\n",
            "Epoch 32/300\n",
            "73/73 [==============================] - 0s 2ms/step - loss: 0.3584 - recall: 0.4116 - val_loss: 0.3595 - val_recall: 0.3583\n",
            "Epoch 33/300\n",
            "73/73 [==============================] - 0s 2ms/step - loss: 0.3593 - recall: 0.3988 - val_loss: 0.3585 - val_recall: 0.3740\n",
            "Epoch 34/300\n",
            "73/73 [==============================] - 0s 2ms/step - loss: 0.3571 - recall: 0.3988 - val_loss: 0.3577 - val_recall: 0.4016\n",
            "Epoch 35/300\n",
            "73/73 [==============================] - 0s 2ms/step - loss: 0.3587 - recall: 0.4076 - val_loss: 0.3581 - val_recall: 0.4370\n",
            "Epoch 36/300\n",
            "73/73 [==============================] - 0s 2ms/step - loss: 0.3570 - recall: 0.4157 - val_loss: 0.3570 - val_recall: 0.3701\n",
            "Epoch 37/300\n",
            "73/73 [==============================] - 0s 2ms/step - loss: 0.3558 - recall: 0.4116 - val_loss: 0.3587 - val_recall: 0.3583\n",
            "Epoch 38/300\n",
            "73/73 [==============================] - 0s 3ms/step - loss: 0.3550 - recall: 0.4076 - val_loss: 0.3625 - val_recall: 0.3307\n",
            "Epoch 39/300\n",
            "73/73 [==============================] - 0s 3ms/step - loss: 0.3543 - recall: 0.4069 - val_loss: 0.3561 - val_recall: 0.4173\n",
            "Epoch 40/300\n",
            "73/73 [==============================] - 0s 2ms/step - loss: 0.3552 - recall: 0.4028 - val_loss: 0.3559 - val_recall: 0.3661\n",
            "Epoch 41/300\n",
            "73/73 [==============================] - 0s 2ms/step - loss: 0.3555 - recall: 0.4110 - val_loss: 0.3551 - val_recall: 0.3898\n",
            "Epoch 42/300\n",
            "73/73 [==============================] - 0s 2ms/step - loss: 0.3543 - recall: 0.4130 - val_loss: 0.3554 - val_recall: 0.3661\n",
            "Epoch 43/300\n",
            "73/73 [==============================] - 0s 2ms/step - loss: 0.3542 - recall: 0.4096 - val_loss: 0.3564 - val_recall: 0.3898\n",
            "Epoch 44/300\n",
            "73/73 [==============================] - 0s 2ms/step - loss: 0.3540 - recall: 0.4049 - val_loss: 0.3562 - val_recall: 0.4173\n",
            "Epoch 45/300\n",
            "73/73 [==============================] - 0s 2ms/step - loss: 0.3541 - recall: 0.4110 - val_loss: 0.3547 - val_recall: 0.3898\n",
            "Epoch 46/300\n",
            "73/73 [==============================] - 0s 2ms/step - loss: 0.3530 - recall: 0.4171 - val_loss: 0.3574 - val_recall: 0.3543\n",
            "Epoch 47/300\n",
            "73/73 [==============================] - 0s 2ms/step - loss: 0.3527 - recall: 0.4110 - val_loss: 0.3556 - val_recall: 0.3583\n",
            "Epoch 48/300\n",
            "73/73 [==============================] - 0s 2ms/step - loss: 0.3533 - recall: 0.4110 - val_loss: 0.3547 - val_recall: 0.3701\n",
            "Epoch 49/300\n",
            "73/73 [==============================] - 0s 2ms/step - loss: 0.3523 - recall: 0.4042 - val_loss: 0.3540 - val_recall: 0.4055\n",
            "Epoch 50/300\n",
            "73/73 [==============================] - 0s 3ms/step - loss: 0.3535 - recall: 0.4096 - val_loss: 0.3552 - val_recall: 0.3661\n",
            "Epoch 51/300\n",
            "73/73 [==============================] - 0s 2ms/step - loss: 0.3522 - recall: 0.4103 - val_loss: 0.3539 - val_recall: 0.4173\n",
            "Epoch 52/300\n",
            "73/73 [==============================] - 0s 2ms/step - loss: 0.3516 - recall: 0.4150 - val_loss: 0.3542 - val_recall: 0.3622\n",
            "Epoch 53/300\n",
            "73/73 [==============================] - 0s 2ms/step - loss: 0.3516 - recall: 0.4069 - val_loss: 0.3558 - val_recall: 0.3583\n",
            "Epoch 54/300\n",
            "73/73 [==============================] - 0s 2ms/step - loss: 0.3517 - recall: 0.4123 - val_loss: 0.3546 - val_recall: 0.3819\n",
            "Epoch 55/300\n",
            "73/73 [==============================] - 0s 2ms/step - loss: 0.3517 - recall: 0.4069 - val_loss: 0.3532 - val_recall: 0.3858\n",
            "Epoch 56/300\n",
            "73/73 [==============================] - 0s 2ms/step - loss: 0.3508 - recall: 0.4110 - val_loss: 0.3525 - val_recall: 0.4134\n",
            "Epoch 57/300\n",
            "73/73 [==============================] - 0s 2ms/step - loss: 0.3508 - recall: 0.4116 - val_loss: 0.3532 - val_recall: 0.3780\n",
            "Epoch 58/300\n",
            "73/73 [==============================] - 0s 2ms/step - loss: 0.3511 - recall: 0.4110 - val_loss: 0.3559 - val_recall: 0.3583\n",
            "Epoch 59/300\n",
            "73/73 [==============================] - 0s 2ms/step - loss: 0.3502 - recall: 0.4123 - val_loss: 0.3523 - val_recall: 0.3937\n",
            "Epoch 60/300\n",
            "73/73 [==============================] - 0s 2ms/step - loss: 0.3515 - recall: 0.4083 - val_loss: 0.3521 - val_recall: 0.4016\n",
            "Epoch 61/300\n",
            "73/73 [==============================] - 0s 2ms/step - loss: 0.3505 - recall: 0.4137 - val_loss: 0.3536 - val_recall: 0.3780\n",
            "Epoch 62/300\n",
            "73/73 [==============================] - 0s 2ms/step - loss: 0.3499 - recall: 0.4150 - val_loss: 0.3513 - val_recall: 0.4055\n",
            "Epoch 63/300\n",
            "73/73 [==============================] - 0s 2ms/step - loss: 0.3490 - recall: 0.4198 - val_loss: 0.3631 - val_recall: 0.3031\n",
            "Epoch 64/300\n",
            "73/73 [==============================] - 0s 2ms/step - loss: 0.3496 - recall: 0.4110 - val_loss: 0.3504 - val_recall: 0.3976\n",
            "Epoch 65/300\n",
            "73/73 [==============================] - 0s 2ms/step - loss: 0.3502 - recall: 0.4123 - val_loss: 0.3524 - val_recall: 0.3701\n",
            "Epoch 66/300\n",
            "73/73 [==============================] - 0s 7ms/step - loss: 0.3492 - recall: 0.4042 - val_loss: 0.3519 - val_recall: 0.4331\n",
            "Epoch 67/300\n",
            "73/73 [==============================] - 1s 7ms/step - loss: 0.3499 - recall: 0.4130 - val_loss: 0.3516 - val_recall: 0.3701\n",
            "Epoch 68/300\n",
            "73/73 [==============================] - 0s 2ms/step - loss: 0.3491 - recall: 0.4083 - val_loss: 0.3508 - val_recall: 0.3780\n",
            "Epoch 69/300\n",
            "73/73 [==============================] - 0s 2ms/step - loss: 0.3490 - recall: 0.4137 - val_loss: 0.3559 - val_recall: 0.3386\n",
            "Epoch 70/300\n",
            "73/73 [==============================] - 0s 6ms/step - loss: 0.3486 - recall: 0.4171 - val_loss: 0.3522 - val_recall: 0.3543\n",
            "Epoch 71/300\n",
            "73/73 [==============================] - 1s 7ms/step - loss: 0.3486 - recall: 0.4076 - val_loss: 0.3520 - val_recall: 0.3740\n",
            "Epoch 72/300\n",
            "73/73 [==============================] - 0s 3ms/step - loss: 0.3489 - recall: 0.4164 - val_loss: 0.3518 - val_recall: 0.3622\n",
            "Epoch 73/300\n",
            "73/73 [==============================] - 0s 2ms/step - loss: 0.3478 - recall: 0.4089 - val_loss: 0.3494 - val_recall: 0.3976\n",
            "Epoch 74/300\n",
            "73/73 [==============================] - 0s 6ms/step - loss: 0.3497 - recall: 0.4049 - val_loss: 0.3485 - val_recall: 0.3858\n",
            "Epoch 75/300\n",
            "73/73 [==============================] - 1s 8ms/step - loss: 0.3479 - recall: 0.4076 - val_loss: 0.3492 - val_recall: 0.4370\n",
            "Epoch 76/300\n",
            "73/73 [==============================] - 0s 2ms/step - loss: 0.3493 - recall: 0.4191 - val_loss: 0.3496 - val_recall: 0.3740\n",
            "Epoch 77/300\n",
            "73/73 [==============================] - 0s 2ms/step - loss: 0.3483 - recall: 0.4137 - val_loss: 0.3608 - val_recall: 0.3110\n",
            "Epoch 78/300\n",
            "73/73 [==============================] - 0s 2ms/step - loss: 0.3490 - recall: 0.4069 - val_loss: 0.3500 - val_recall: 0.3937\n",
            "Epoch 79/300\n",
            "73/73 [==============================] - 0s 2ms/step - loss: 0.3473 - recall: 0.4191 - val_loss: 0.3495 - val_recall: 0.3819\n",
            "Epoch 80/300\n",
            "73/73 [==============================] - 0s 2ms/step - loss: 0.3484 - recall: 0.4137 - val_loss: 0.3512 - val_recall: 0.3701\n",
            "Epoch 81/300\n",
            "73/73 [==============================] - 0s 2ms/step - loss: 0.3477 - recall: 0.4164 - val_loss: 0.3527 - val_recall: 0.3465\n",
            "Epoch 82/300\n",
            "73/73 [==============================] - 0s 2ms/step - loss: 0.3476 - recall: 0.4157 - val_loss: 0.3514 - val_recall: 0.3543\n",
            "Epoch 83/300\n",
            "73/73 [==============================] - 0s 3ms/step - loss: 0.3469 - recall: 0.4144 - val_loss: 0.3517 - val_recall: 0.3740\n",
            "Epoch 84/300\n",
            "73/73 [==============================] - 0s 2ms/step - loss: 0.3473 - recall: 0.4150 - val_loss: 0.3496 - val_recall: 0.4252\n",
            "Epoch 85/300\n",
            "73/73 [==============================] - 0s 2ms/step - loss: 0.3469 - recall: 0.4137 - val_loss: 0.3477 - val_recall: 0.3976\n",
            "Epoch 86/300\n",
            "73/73 [==============================] - 0s 2ms/step - loss: 0.3471 - recall: 0.4157 - val_loss: 0.3490 - val_recall: 0.3740\n",
            "Epoch 87/300\n",
            "73/73 [==============================] - 0s 2ms/step - loss: 0.3469 - recall: 0.4103 - val_loss: 0.3500 - val_recall: 0.3661\n",
            "Epoch 88/300\n",
            "73/73 [==============================] - 0s 2ms/step - loss: 0.3462 - recall: 0.4164 - val_loss: 0.3512 - val_recall: 0.3701\n",
            "Epoch 89/300\n",
            "73/73 [==============================] - 0s 3ms/step - loss: 0.3472 - recall: 0.4137 - val_loss: 0.3501 - val_recall: 0.3819\n",
            "Epoch 90/300\n",
            "73/73 [==============================] - 0s 2ms/step - loss: 0.3467 - recall: 0.4150 - val_loss: 0.3514 - val_recall: 0.4055\n",
            "Epoch 91/300\n",
            "73/73 [==============================] - 0s 2ms/step - loss: 0.3475 - recall: 0.4164 - val_loss: 0.3495 - val_recall: 0.3583\n",
            "Epoch 92/300\n",
            "73/73 [==============================] - 0s 2ms/step - loss: 0.3463 - recall: 0.4177 - val_loss: 0.3479 - val_recall: 0.3819\n",
            "Epoch 93/300\n",
            "73/73 [==============================] - 0s 2ms/step - loss: 0.3465 - recall: 0.4164 - val_loss: 0.3508 - val_recall: 0.3819\n",
            "Epoch 94/300\n",
            "73/73 [==============================] - 0s 2ms/step - loss: 0.3463 - recall: 0.4130 - val_loss: 0.3464 - val_recall: 0.4291\n",
            "Epoch 95/300\n",
            "73/73 [==============================] - 0s 2ms/step - loss: 0.3466 - recall: 0.4232 - val_loss: 0.3499 - val_recall: 0.3661\n",
            "Epoch 96/300\n",
            "73/73 [==============================] - 0s 2ms/step - loss: 0.3468 - recall: 0.4150 - val_loss: 0.3474 - val_recall: 0.4055\n",
            "Epoch 97/300\n",
            "73/73 [==============================] - 0s 2ms/step - loss: 0.3461 - recall: 0.4204 - val_loss: 0.3489 - val_recall: 0.3780\n",
            "Epoch 98/300\n",
            "73/73 [==============================] - 0s 2ms/step - loss: 0.3471 - recall: 0.4083 - val_loss: 0.3501 - val_recall: 0.3740\n",
            "Epoch 99/300\n",
            "73/73 [==============================] - 0s 2ms/step - loss: 0.3454 - recall: 0.4137 - val_loss: 0.3517 - val_recall: 0.3504\n",
            "Epoch 100/300\n",
            "73/73 [==============================] - 0s 3ms/step - loss: 0.3457 - recall: 0.4157 - val_loss: 0.3473 - val_recall: 0.4213\n",
            "Epoch 101/300\n",
            "73/73 [==============================] - 0s 2ms/step - loss: 0.3466 - recall: 0.4177 - val_loss: 0.3469 - val_recall: 0.3858\n",
            "Epoch 102/300\n",
            "73/73 [==============================] - 0s 2ms/step - loss: 0.3464 - recall: 0.4110 - val_loss: 0.3499 - val_recall: 0.3740\n",
            "Epoch 103/300\n",
            "73/73 [==============================] - 0s 2ms/step - loss: 0.3459 - recall: 0.4103 - val_loss: 0.3500 - val_recall: 0.3543\n",
            "Epoch 104/300\n",
            "73/73 [==============================] - 0s 2ms/step - loss: 0.3456 - recall: 0.4123 - val_loss: 0.3509 - val_recall: 0.3661\n",
            "Epoch 105/300\n",
            "73/73 [==============================] - 0s 2ms/step - loss: 0.3462 - recall: 0.4150 - val_loss: 0.3484 - val_recall: 0.3740\n",
            "Epoch 106/300\n",
            "73/73 [==============================] - 0s 2ms/step - loss: 0.3450 - recall: 0.4130 - val_loss: 0.3465 - val_recall: 0.4055\n",
            "Epoch 107/300\n",
            "73/73 [==============================] - 0s 2ms/step - loss: 0.3449 - recall: 0.4150 - val_loss: 0.3477 - val_recall: 0.3780\n",
            "Epoch 108/300\n",
            "73/73 [==============================] - 0s 2ms/step - loss: 0.3452 - recall: 0.4157 - val_loss: 0.3468 - val_recall: 0.3858\n",
            "Epoch 109/300\n",
            "73/73 [==============================] - 0s 2ms/step - loss: 0.3458 - recall: 0.4056 - val_loss: 0.3495 - val_recall: 0.3740\n",
            "Epoch 110/300\n",
            "73/73 [==============================] - 0s 2ms/step - loss: 0.3454 - recall: 0.4130 - val_loss: 0.3472 - val_recall: 0.3937\n",
            "Epoch 111/300\n",
            "73/73 [==============================] - 0s 3ms/step - loss: 0.3450 - recall: 0.4198 - val_loss: 0.3476 - val_recall: 0.4134\n",
            "Epoch 112/300\n",
            "73/73 [==============================] - 0s 2ms/step - loss: 0.3446 - recall: 0.4171 - val_loss: 0.3464 - val_recall: 0.3858\n",
            "Epoch 113/300\n",
            "73/73 [==============================] - 0s 3ms/step - loss: 0.3450 - recall: 0.4238 - val_loss: 0.3486 - val_recall: 0.3740\n",
            "Epoch 114/300\n",
            "73/73 [==============================] - 0s 2ms/step - loss: 0.3451 - recall: 0.4089 - val_loss: 0.3467 - val_recall: 0.4252\n",
            "Epoch 115/300\n",
            "73/73 [==============================] - 0s 2ms/step - loss: 0.3460 - recall: 0.4150 - val_loss: 0.3473 - val_recall: 0.3740\n",
            "Epoch 116/300\n",
            "73/73 [==============================] - 0s 2ms/step - loss: 0.3446 - recall: 0.4137 - val_loss: 0.3480 - val_recall: 0.4370\n",
            "Epoch 117/300\n",
            "73/73 [==============================] - 0s 2ms/step - loss: 0.3453 - recall: 0.4198 - val_loss: 0.3522 - val_recall: 0.3543\n",
            "Epoch 118/300\n",
            "73/73 [==============================] - 0s 2ms/step - loss: 0.3460 - recall: 0.4123 - val_loss: 0.3501 - val_recall: 0.3661\n",
            "Epoch 119/300\n",
            "73/73 [==============================] - 0s 2ms/step - loss: 0.3449 - recall: 0.4225 - val_loss: 0.3473 - val_recall: 0.3780\n",
            "Epoch 120/300\n",
            "73/73 [==============================] - 0s 2ms/step - loss: 0.3451 - recall: 0.4110 - val_loss: 0.3485 - val_recall: 0.3740\n",
            "Epoch 121/300\n",
            "73/73 [==============================] - 0s 2ms/step - loss: 0.3443 - recall: 0.4218 - val_loss: 0.3453 - val_recall: 0.3819\n",
            "Epoch 122/300\n",
            "73/73 [==============================] - 0s 2ms/step - loss: 0.3447 - recall: 0.4042 - val_loss: 0.3444 - val_recall: 0.4173\n",
            "Epoch 123/300\n",
            "73/73 [==============================] - 0s 2ms/step - loss: 0.3443 - recall: 0.4171 - val_loss: 0.3500 - val_recall: 0.3543\n",
            "Epoch 124/300\n",
            "73/73 [==============================] - 0s 2ms/step - loss: 0.3447 - recall: 0.4157 - val_loss: 0.3482 - val_recall: 0.3740\n",
            "Epoch 125/300\n",
            "73/73 [==============================] - 0s 2ms/step - loss: 0.3442 - recall: 0.4144 - val_loss: 0.3463 - val_recall: 0.3819\n",
            "Epoch 126/300\n",
            "73/73 [==============================] - 0s 2ms/step - loss: 0.3440 - recall: 0.4157 - val_loss: 0.3469 - val_recall: 0.3819\n",
            "Epoch 127/300\n",
            "73/73 [==============================] - 0s 2ms/step - loss: 0.3438 - recall: 0.4157 - val_loss: 0.3448 - val_recall: 0.3976\n",
            "Epoch 128/300\n",
            "73/73 [==============================] - 0s 2ms/step - loss: 0.3444 - recall: 0.4157 - val_loss: 0.3508 - val_recall: 0.3583\n",
            "Epoch 129/300\n",
            "73/73 [==============================] - 0s 2ms/step - loss: 0.3436 - recall: 0.4171 - val_loss: 0.3451 - val_recall: 0.4134\n",
            "Epoch 130/300\n",
            "73/73 [==============================] - 0s 2ms/step - loss: 0.3434 - recall: 0.4164 - val_loss: 0.3505 - val_recall: 0.3504\n",
            "Epoch 131/300\n",
            "73/73 [==============================] - 0s 2ms/step - loss: 0.3442 - recall: 0.4069 - val_loss: 0.3490 - val_recall: 0.3701\n",
            "Epoch 132/300\n",
            "73/73 [==============================] - 0s 2ms/step - loss: 0.3439 - recall: 0.4056 - val_loss: 0.3469 - val_recall: 0.3780\n",
            "Epoch 133/300\n",
            "73/73 [==============================] - 0s 2ms/step - loss: 0.3435 - recall: 0.4144 - val_loss: 0.3485 - val_recall: 0.3661\n",
            "Epoch 134/300\n",
            "73/73 [==============================] - 0s 2ms/step - loss: 0.3440 - recall: 0.4164 - val_loss: 0.3496 - val_recall: 0.3622\n",
            "Epoch 135/300\n",
            "73/73 [==============================] - 0s 2ms/step - loss: 0.3436 - recall: 0.4089 - val_loss: 0.3485 - val_recall: 0.3937\n",
            "Epoch 136/300\n",
            "73/73 [==============================] - 0s 2ms/step - loss: 0.3439 - recall: 0.4157 - val_loss: 0.3499 - val_recall: 0.3661\n",
            "Epoch 137/300\n",
            "73/73 [==============================] - 0s 2ms/step - loss: 0.3430 - recall: 0.4110 - val_loss: 0.3460 - val_recall: 0.3780\n",
            "Epoch 138/300\n",
            "73/73 [==============================] - 0s 2ms/step - loss: 0.3435 - recall: 0.4157 - val_loss: 0.3475 - val_recall: 0.3701\n",
            "Epoch 139/300\n",
            "73/73 [==============================] - 0s 2ms/step - loss: 0.3445 - recall: 0.4116 - val_loss: 0.3458 - val_recall: 0.3780\n",
            "Epoch 140/300\n",
            "73/73 [==============================] - 0s 2ms/step - loss: 0.3429 - recall: 0.4171 - val_loss: 0.3444 - val_recall: 0.4134\n",
            "Epoch 141/300\n",
            "73/73 [==============================] - 0s 2ms/step - loss: 0.3430 - recall: 0.4177 - val_loss: 0.3469 - val_recall: 0.3780\n",
            "Epoch 142/300\n",
            "73/73 [==============================] - 0s 2ms/step - loss: 0.3436 - recall: 0.4191 - val_loss: 0.3465 - val_recall: 0.3740\n",
            "Epoch 143/300\n",
            "73/73 [==============================] - 0s 2ms/step - loss: 0.3433 - recall: 0.4184 - val_loss: 0.3469 - val_recall: 0.3780\n",
            "Epoch 144/300\n",
            "73/73 [==============================] - 0s 2ms/step - loss: 0.3428 - recall: 0.4130 - val_loss: 0.3457 - val_recall: 0.4252\n",
            "Epoch 145/300\n",
            "73/73 [==============================] - 0s 2ms/step - loss: 0.3434 - recall: 0.4062 - val_loss: 0.3454 - val_recall: 0.3976\n",
            "Epoch 146/300\n",
            "73/73 [==============================] - 0s 2ms/step - loss: 0.3424 - recall: 0.4204 - val_loss: 0.3480 - val_recall: 0.3661\n",
            "Epoch 147/300\n",
            "73/73 [==============================] - 0s 2ms/step - loss: 0.3428 - recall: 0.4089 - val_loss: 0.3458 - val_recall: 0.3976\n",
            "Epoch 148/300\n",
            "73/73 [==============================] - 0s 2ms/step - loss: 0.3426 - recall: 0.4137 - val_loss: 0.3456 - val_recall: 0.4016\n",
            "Epoch 149/300\n",
            "73/73 [==============================] - 0s 2ms/step - loss: 0.3428 - recall: 0.4116 - val_loss: 0.3450 - val_recall: 0.4331\n",
            "Epoch 150/300\n",
            "73/73 [==============================] - 0s 2ms/step - loss: 0.3431 - recall: 0.4232 - val_loss: 0.3491 - val_recall: 0.3701\n",
            "Epoch 151/300\n",
            "73/73 [==============================] - 0s 3ms/step - loss: 0.3422 - recall: 0.4069 - val_loss: 0.3455 - val_recall: 0.3819\n",
            "Epoch 152/300\n",
            "73/73 [==============================] - 0s 2ms/step - loss: 0.3425 - recall: 0.4137 - val_loss: 0.3470 - val_recall: 0.3819\n",
            "Epoch 153/300\n",
            "73/73 [==============================] - 0s 2ms/step - loss: 0.3428 - recall: 0.4150 - val_loss: 0.3446 - val_recall: 0.3976\n",
            "Epoch 154/300\n",
            "73/73 [==============================] - 0s 2ms/step - loss: 0.3425 - recall: 0.4157 - val_loss: 0.3456 - val_recall: 0.4055\n",
            "Epoch 155/300\n",
            "73/73 [==============================] - 0s 3ms/step - loss: 0.3425 - recall: 0.4191 - val_loss: 0.3464 - val_recall: 0.3937\n",
            "Epoch 156/300\n",
            "73/73 [==============================] - 0s 2ms/step - loss: 0.3419 - recall: 0.4164 - val_loss: 0.3465 - val_recall: 0.3740\n",
            "Epoch 157/300\n",
            "73/73 [==============================] - 0s 2ms/step - loss: 0.3434 - recall: 0.4056 - val_loss: 0.3457 - val_recall: 0.3701\n",
            "Epoch 158/300\n",
            "73/73 [==============================] - 0s 2ms/step - loss: 0.3424 - recall: 0.4096 - val_loss: 0.3481 - val_recall: 0.3661\n",
            "Epoch 159/300\n",
            "73/73 [==============================] - 0s 2ms/step - loss: 0.3420 - recall: 0.4130 - val_loss: 0.3468 - val_recall: 0.3701\n",
            "Epoch 160/300\n",
            "73/73 [==============================] - 0s 2ms/step - loss: 0.3416 - recall: 0.4130 - val_loss: 0.3482 - val_recall: 0.3622\n",
            "Epoch 161/300\n",
            "73/73 [==============================] - 0s 2ms/step - loss: 0.3420 - recall: 0.4089 - val_loss: 0.3433 - val_recall: 0.4134\n",
            "Epoch 162/300\n",
            "73/73 [==============================] - 0s 2ms/step - loss: 0.3415 - recall: 0.4191 - val_loss: 0.3445 - val_recall: 0.3858\n",
            "Epoch 163/300\n",
            "73/73 [==============================] - 0s 2ms/step - loss: 0.3422 - recall: 0.4171 - val_loss: 0.3486 - val_recall: 0.3504\n",
            "Epoch 164/300\n",
            "73/73 [==============================] - 0s 2ms/step - loss: 0.3425 - recall: 0.4096 - val_loss: 0.3473 - val_recall: 0.3622\n",
            "Epoch 165/300\n",
            "73/73 [==============================] - 0s 2ms/step - loss: 0.3407 - recall: 0.4252 - val_loss: 0.3491 - val_recall: 0.3543\n",
            "Epoch 166/300\n",
            "73/73 [==============================] - 0s 2ms/step - loss: 0.3432 - recall: 0.4069 - val_loss: 0.3456 - val_recall: 0.4016\n",
            "Epoch 167/300\n",
            "73/73 [==============================] - 0s 3ms/step - loss: 0.3427 - recall: 0.4150 - val_loss: 0.3439 - val_recall: 0.3976\n",
            "Epoch 168/300\n",
            "73/73 [==============================] - 0s 2ms/step - loss: 0.3412 - recall: 0.4184 - val_loss: 0.3478 - val_recall: 0.3622\n",
            "Epoch 169/300\n",
            "73/73 [==============================] - 0s 2ms/step - loss: 0.3418 - recall: 0.4164 - val_loss: 0.3459 - val_recall: 0.3780\n",
            "Epoch 170/300\n",
            "73/73 [==============================] - 0s 5ms/step - loss: 0.3417 - recall: 0.4096 - val_loss: 0.3449 - val_recall: 0.4173\n",
            "Epoch 171/300\n",
            "73/73 [==============================] - 0s 5ms/step - loss: 0.3418 - recall: 0.4164 - val_loss: 0.3440 - val_recall: 0.3937\n",
            "Epoch 172/300\n",
            "73/73 [==============================] - 0s 5ms/step - loss: 0.3409 - recall: 0.4204 - val_loss: 0.3438 - val_recall: 0.3858\n",
            "Epoch 173/300\n",
            "73/73 [==============================] - 0s 4ms/step - loss: 0.3415 - recall: 0.4252 - val_loss: 0.3466 - val_recall: 0.3622\n",
            "Epoch 174/300\n",
            "73/73 [==============================] - 0s 4ms/step - loss: 0.3412 - recall: 0.4096 - val_loss: 0.3457 - val_recall: 0.3858\n",
            "Epoch 175/300\n",
            "73/73 [==============================] - 0s 4ms/step - loss: 0.3423 - recall: 0.4265 - val_loss: 0.3447 - val_recall: 0.4606\n",
            "Epoch 176/300\n",
            "73/73 [==============================] - 0s 4ms/step - loss: 0.3414 - recall: 0.4157 - val_loss: 0.3443 - val_recall: 0.3898\n",
            "Epoch 177/300\n",
            "73/73 [==============================] - 0s 4ms/step - loss: 0.3425 - recall: 0.4089 - val_loss: 0.3433 - val_recall: 0.4291\n",
            "Epoch 178/300\n",
            "73/73 [==============================] - 0s 5ms/step - loss: 0.3410 - recall: 0.4177 - val_loss: 0.3453 - val_recall: 0.3780\n",
            "Epoch 179/300\n",
            "73/73 [==============================] - 0s 4ms/step - loss: 0.3411 - recall: 0.4204 - val_loss: 0.3456 - val_recall: 0.3937\n",
            "Epoch 180/300\n",
            "73/73 [==============================] - 0s 4ms/step - loss: 0.3411 - recall: 0.4292 - val_loss: 0.3472 - val_recall: 0.3622\n",
            "Epoch 181/300\n",
            "73/73 [==============================] - 0s 4ms/step - loss: 0.3412 - recall: 0.4204 - val_loss: 0.3453 - val_recall: 0.3740\n",
            "Epoch 182/300\n",
            "73/73 [==============================] - 0s 3ms/step - loss: 0.3410 - recall: 0.4198 - val_loss: 0.3555 - val_recall: 0.3268\n",
            "Epoch 183/300\n",
            "73/73 [==============================] - 0s 4ms/step - loss: 0.3414 - recall: 0.4144 - val_loss: 0.3435 - val_recall: 0.4134\n",
            "Epoch 184/300\n",
            "73/73 [==============================] - 0s 4ms/step - loss: 0.3407 - recall: 0.4259 - val_loss: 0.3460 - val_recall: 0.3780\n",
            "Epoch 185/300\n",
            "73/73 [==============================] - 0s 4ms/step - loss: 0.3402 - recall: 0.4225 - val_loss: 0.3441 - val_recall: 0.3976\n",
            "Epoch 186/300\n",
            "73/73 [==============================] - 0s 4ms/step - loss: 0.3400 - recall: 0.4279 - val_loss: 0.3457 - val_recall: 0.4370\n",
            "Epoch 187/300\n",
            "73/73 [==============================] - 0s 4ms/step - loss: 0.3410 - recall: 0.4360 - val_loss: 0.3492 - val_recall: 0.3504\n",
            "Epoch 188/300\n",
            "73/73 [==============================] - 0s 4ms/step - loss: 0.3400 - recall: 0.4211 - val_loss: 0.3448 - val_recall: 0.3740\n",
            "Epoch 189/300\n",
            "73/73 [==============================] - 0s 3ms/step - loss: 0.3395 - recall: 0.4238 - val_loss: 0.3439 - val_recall: 0.4213\n",
            "Epoch 190/300\n",
            "73/73 [==============================] - 0s 5ms/step - loss: 0.3390 - recall: 0.4272 - val_loss: 0.3486 - val_recall: 0.3661\n",
            "Epoch 191/300\n",
            "73/73 [==============================] - 0s 5ms/step - loss: 0.3395 - recall: 0.4157 - val_loss: 0.3442 - val_recall: 0.4449\n",
            "Epoch 192/300\n",
            "73/73 [==============================] - 0s 4ms/step - loss: 0.3395 - recall: 0.4292 - val_loss: 0.3427 - val_recall: 0.4370\n",
            "Epoch 193/300\n",
            "73/73 [==============================] - 0s 2ms/step - loss: 0.3394 - recall: 0.4198 - val_loss: 0.3448 - val_recall: 0.4606\n",
            "Epoch 194/300\n",
            "73/73 [==============================] - 0s 3ms/step - loss: 0.3401 - recall: 0.4218 - val_loss: 0.3440 - val_recall: 0.3937\n",
            "Epoch 195/300\n",
            "73/73 [==============================] - 0s 2ms/step - loss: 0.3401 - recall: 0.4211 - val_loss: 0.3427 - val_recall: 0.4331\n",
            "Epoch 196/300\n",
            "73/73 [==============================] - 0s 2ms/step - loss: 0.3395 - recall: 0.4211 - val_loss: 0.3434 - val_recall: 0.4252\n",
            "Epoch 197/300\n",
            "73/73 [==============================] - 0s 3ms/step - loss: 0.3393 - recall: 0.4272 - val_loss: 0.3429 - val_recall: 0.4291\n",
            "Epoch 198/300\n",
            "73/73 [==============================] - 0s 3ms/step - loss: 0.3390 - recall: 0.4252 - val_loss: 0.3438 - val_recall: 0.4370\n",
            "Epoch 199/300\n",
            "73/73 [==============================] - 0s 4ms/step - loss: 0.3395 - recall: 0.4252 - val_loss: 0.3460 - val_recall: 0.3740\n",
            "Epoch 200/300\n",
            "73/73 [==============================] - 0s 4ms/step - loss: 0.3403 - recall: 0.4265 - val_loss: 0.3457 - val_recall: 0.3780\n",
            "Epoch 201/300\n",
            "73/73 [==============================] - 0s 4ms/step - loss: 0.3396 - recall: 0.4252 - val_loss: 0.3470 - val_recall: 0.3701\n",
            "Epoch 202/300\n",
            "73/73 [==============================] - 0s 5ms/step - loss: 0.3394 - recall: 0.4353 - val_loss: 0.3431 - val_recall: 0.3819\n",
            "Epoch 203/300\n",
            "73/73 [==============================] - 0s 5ms/step - loss: 0.3381 - recall: 0.4259 - val_loss: 0.3446 - val_recall: 0.3858\n",
            "Epoch 204/300\n",
            "73/73 [==============================] - 0s 4ms/step - loss: 0.3392 - recall: 0.4299 - val_loss: 0.3437 - val_recall: 0.4134\n",
            "Epoch 205/300\n",
            "73/73 [==============================] - 0s 4ms/step - loss: 0.3382 - recall: 0.4313 - val_loss: 0.3474 - val_recall: 0.3740\n",
            "Epoch 206/300\n",
            "73/73 [==============================] - 0s 3ms/step - loss: 0.3390 - recall: 0.4279 - val_loss: 0.3434 - val_recall: 0.3937\n",
            "Epoch 207/300\n",
            "73/73 [==============================] - 0s 4ms/step - loss: 0.3393 - recall: 0.4299 - val_loss: 0.3437 - val_recall: 0.3976\n",
            "Epoch 208/300\n",
            "73/73 [==============================] - 0s 4ms/step - loss: 0.3383 - recall: 0.4279 - val_loss: 0.3502 - val_recall: 0.3583\n",
            "Epoch 209/300\n",
            "73/73 [==============================] - 0s 2ms/step - loss: 0.3397 - recall: 0.4238 - val_loss: 0.3419 - val_recall: 0.4370\n",
            "Epoch 210/300\n",
            "73/73 [==============================] - 0s 3ms/step - loss: 0.3381 - recall: 0.4340 - val_loss: 0.3426 - val_recall: 0.3858\n",
            "Epoch 211/300\n",
            "73/73 [==============================] - 0s 3ms/step - loss: 0.3381 - recall: 0.4286 - val_loss: 0.3446 - val_recall: 0.3661\n",
            "Epoch 212/300\n",
            "73/73 [==============================] - 0s 3ms/step - loss: 0.3381 - recall: 0.4299 - val_loss: 0.3418 - val_recall: 0.4134\n",
            "Epoch 213/300\n",
            "73/73 [==============================] - 0s 4ms/step - loss: 0.3389 - recall: 0.4279 - val_loss: 0.3427 - val_recall: 0.4291\n",
            "Epoch 214/300\n",
            "73/73 [==============================] - 0s 2ms/step - loss: 0.3389 - recall: 0.4353 - val_loss: 0.3468 - val_recall: 0.3622\n",
            "Epoch 215/300\n",
            "73/73 [==============================] - 0s 5ms/step - loss: 0.3387 - recall: 0.4252 - val_loss: 0.3448 - val_recall: 0.3858\n",
            "Epoch 216/300\n",
            "73/73 [==============================] - 0s 5ms/step - loss: 0.3389 - recall: 0.4292 - val_loss: 0.3450 - val_recall: 0.4055\n",
            "Epoch 217/300\n",
            "73/73 [==============================] - 0s 5ms/step - loss: 0.3384 - recall: 0.4286 - val_loss: 0.3447 - val_recall: 0.3898\n",
            "Epoch 218/300\n",
            "73/73 [==============================] - 0s 5ms/step - loss: 0.3389 - recall: 0.4245 - val_loss: 0.3441 - val_recall: 0.3819\n",
            "Epoch 219/300\n",
            "73/73 [==============================] - 0s 4ms/step - loss: 0.3398 - recall: 0.4218 - val_loss: 0.3448 - val_recall: 0.4764\n",
            "Epoch 220/300\n",
            "73/73 [==============================] - 0s 6ms/step - loss: 0.3397 - recall: 0.4292 - val_loss: 0.3424 - val_recall: 0.4449\n",
            "Epoch 221/300\n",
            "73/73 [==============================] - 0s 6ms/step - loss: 0.3376 - recall: 0.4326 - val_loss: 0.3453 - val_recall: 0.3780\n",
            "Epoch 222/300\n",
            "73/73 [==============================] - 1s 7ms/step - loss: 0.3379 - recall: 0.4232 - val_loss: 0.3424 - val_recall: 0.4409\n",
            "Epoch 223/300\n",
            "73/73 [==============================] - 1s 9ms/step - loss: 0.3383 - recall: 0.4347 - val_loss: 0.3450 - val_recall: 0.3976\n",
            "Epoch 224/300\n",
            "73/73 [==============================] - 1s 10ms/step - loss: 0.3376 - recall: 0.4245 - val_loss: 0.3410 - val_recall: 0.4252\n",
            "Epoch 225/300\n",
            "73/73 [==============================] - 1s 8ms/step - loss: 0.3378 - recall: 0.4320 - val_loss: 0.3415 - val_recall: 0.4173\n",
            "Epoch 226/300\n",
            "73/73 [==============================] - 1s 9ms/step - loss: 0.3383 - recall: 0.4313 - val_loss: 0.3437 - val_recall: 0.3898\n",
            "Epoch 227/300\n",
            "73/73 [==============================] - 1s 10ms/step - loss: 0.3373 - recall: 0.4252 - val_loss: 0.3418 - val_recall: 0.4291\n",
            "Epoch 228/300\n",
            "73/73 [==============================] - 1s 7ms/step - loss: 0.3374 - recall: 0.4367 - val_loss: 0.3414 - val_recall: 0.4291\n",
            "Epoch 229/300\n",
            "73/73 [==============================] - 1s 7ms/step - loss: 0.3382 - recall: 0.4272 - val_loss: 0.3419 - val_recall: 0.3937\n",
            "Epoch 230/300\n",
            "73/73 [==============================] - 1s 9ms/step - loss: 0.3373 - recall: 0.4259 - val_loss: 0.3451 - val_recall: 0.3937\n",
            "Epoch 231/300\n",
            "73/73 [==============================] - 1s 7ms/step - loss: 0.3375 - recall: 0.4292 - val_loss: 0.3436 - val_recall: 0.4213\n",
            "Epoch 232/300\n",
            "73/73 [==============================] - 0s 6ms/step - loss: 0.3370 - recall: 0.4313 - val_loss: 0.3418 - val_recall: 0.4291\n",
            "Epoch 233/300\n",
            "73/73 [==============================] - 0s 5ms/step - loss: 0.3371 - recall: 0.4347 - val_loss: 0.3468 - val_recall: 0.3819\n",
            "Epoch 234/300\n",
            "73/73 [==============================] - 0s 4ms/step - loss: 0.3389 - recall: 0.4333 - val_loss: 0.3442 - val_recall: 0.3780\n",
            "Epoch 235/300\n",
            "73/73 [==============================] - 0s 5ms/step - loss: 0.3373 - recall: 0.4333 - val_loss: 0.3439 - val_recall: 0.3780\n",
            "Epoch 236/300\n",
            "73/73 [==============================] - 0s 5ms/step - loss: 0.3366 - recall: 0.4279 - val_loss: 0.3420 - val_recall: 0.4213\n",
            "Epoch 237/300\n",
            "73/73 [==============================] - 1s 7ms/step - loss: 0.3366 - recall: 0.4292 - val_loss: 0.3428 - val_recall: 0.4173\n",
            "Epoch 238/300\n",
            "73/73 [==============================] - 0s 4ms/step - loss: 0.3366 - recall: 0.4265 - val_loss: 0.3441 - val_recall: 0.3898\n",
            "Epoch 239/300\n",
            "73/73 [==============================] - 1s 10ms/step - loss: 0.3365 - recall: 0.4408 - val_loss: 0.3413 - val_recall: 0.4213\n",
            "Epoch 240/300\n",
            "73/73 [==============================] - 1s 7ms/step - loss: 0.3367 - recall: 0.4313 - val_loss: 0.3455 - val_recall: 0.3661\n",
            "Epoch 241/300\n",
            "73/73 [==============================] - 0s 4ms/step - loss: 0.3358 - recall: 0.4387 - val_loss: 0.3428 - val_recall: 0.4094\n",
            "Epoch 242/300\n",
            "73/73 [==============================] - 0s 5ms/step - loss: 0.3368 - recall: 0.4299 - val_loss: 0.3422 - val_recall: 0.4055\n",
            "Epoch 243/300\n",
            "73/73 [==============================] - 0s 5ms/step - loss: 0.3359 - recall: 0.4292 - val_loss: 0.3444 - val_recall: 0.4213\n",
            "Epoch 244/300\n",
            "73/73 [==============================] - 0s 4ms/step - loss: 0.3378 - recall: 0.4367 - val_loss: 0.3436 - val_recall: 0.4016\n",
            "Epoch 245/300\n",
            "73/73 [==============================] - 0s 5ms/step - loss: 0.3365 - recall: 0.4340 - val_loss: 0.3432 - val_recall: 0.4252\n",
            "Epoch 246/300\n",
            "73/73 [==============================] - 0s 4ms/step - loss: 0.3366 - recall: 0.4313 - val_loss: 0.3412 - val_recall: 0.4173\n",
            "Epoch 247/300\n",
            "73/73 [==============================] - 0s 4ms/step - loss: 0.3361 - recall: 0.4347 - val_loss: 0.3403 - val_recall: 0.4370\n",
            "Epoch 248/300\n",
            "73/73 [==============================] - 0s 5ms/step - loss: 0.3355 - recall: 0.4333 - val_loss: 0.3421 - val_recall: 0.3898\n",
            "Epoch 249/300\n",
            "73/73 [==============================] - 0s 5ms/step - loss: 0.3372 - recall: 0.4272 - val_loss: 0.3423 - val_recall: 0.3976\n",
            "Epoch 250/300\n",
            "73/73 [==============================] - 0s 5ms/step - loss: 0.3360 - recall: 0.4401 - val_loss: 0.3450 - val_recall: 0.3937\n",
            "Epoch 251/300\n",
            "73/73 [==============================] - 0s 4ms/step - loss: 0.3359 - recall: 0.4428 - val_loss: 0.3414 - val_recall: 0.4213\n",
            "Epoch 252/300\n",
            "73/73 [==============================] - 0s 4ms/step - loss: 0.3362 - recall: 0.4387 - val_loss: 0.3417 - val_recall: 0.4173\n",
            "Epoch 253/300\n",
            "73/73 [==============================] - 0s 4ms/step - loss: 0.3359 - recall: 0.4353 - val_loss: 0.3432 - val_recall: 0.4213\n",
            "Epoch 254/300\n",
            "73/73 [==============================] - 0s 4ms/step - loss: 0.3367 - recall: 0.4353 - val_loss: 0.3427 - val_recall: 0.3898\n",
            "Epoch 255/300\n",
            "73/73 [==============================] - 1s 7ms/step - loss: 0.3367 - recall: 0.4333 - val_loss: 0.3484 - val_recall: 0.3622\n",
            "Epoch 256/300\n",
            "73/73 [==============================] - 0s 6ms/step - loss: 0.3359 - recall: 0.4320 - val_loss: 0.3433 - val_recall: 0.3937\n",
            "Epoch 257/300\n",
            "73/73 [==============================] - 1s 7ms/step - loss: 0.3356 - recall: 0.4401 - val_loss: 0.3469 - val_recall: 0.3819\n",
            "Epoch 258/300\n",
            "73/73 [==============================] - 0s 4ms/step - loss: 0.3360 - recall: 0.4299 - val_loss: 0.3445 - val_recall: 0.3898\n",
            "Epoch 259/300\n",
            "73/73 [==============================] - 0s 2ms/step - loss: 0.3365 - recall: 0.4326 - val_loss: 0.3421 - val_recall: 0.3937\n",
            "Epoch 260/300\n",
            "73/73 [==============================] - 0s 4ms/step - loss: 0.3354 - recall: 0.4313 - val_loss: 0.3406 - val_recall: 0.4173\n",
            "Epoch 261/300\n",
            "73/73 [==============================] - 0s 3ms/step - loss: 0.3351 - recall: 0.4401 - val_loss: 0.3447 - val_recall: 0.3976\n",
            "Epoch 262/300\n",
            "73/73 [==============================] - 0s 4ms/step - loss: 0.3352 - recall: 0.4367 - val_loss: 0.3436 - val_recall: 0.4094\n",
            "Epoch 263/300\n",
            "73/73 [==============================] - 1s 7ms/step - loss: 0.3353 - recall: 0.4326 - val_loss: 0.3411 - val_recall: 0.4213\n",
            "Epoch 264/300\n",
            "73/73 [==============================] - 0s 5ms/step - loss: 0.3352 - recall: 0.4360 - val_loss: 0.3413 - val_recall: 0.4331\n",
            "Epoch 265/300\n",
            "73/73 [==============================] - 0s 6ms/step - loss: 0.3356 - recall: 0.4387 - val_loss: 0.3414 - val_recall: 0.4291\n",
            "Epoch 266/300\n",
            "73/73 [==============================] - 0s 4ms/step - loss: 0.3351 - recall: 0.4326 - val_loss: 0.3418 - val_recall: 0.4134\n",
            "Epoch 267/300\n",
            "73/73 [==============================] - 0s 4ms/step - loss: 0.3358 - recall: 0.4333 - val_loss: 0.3413 - val_recall: 0.4134\n",
            "Epoch 268/300\n",
            "73/73 [==============================] - 0s 4ms/step - loss: 0.3348 - recall: 0.4394 - val_loss: 0.3434 - val_recall: 0.3898\n",
            "Epoch 269/300\n",
            "73/73 [==============================] - 0s 4ms/step - loss: 0.3357 - recall: 0.4353 - val_loss: 0.3460 - val_recall: 0.3898\n",
            "Epoch 270/300\n",
            "73/73 [==============================] - 0s 5ms/step - loss: 0.3347 - recall: 0.4401 - val_loss: 0.3424 - val_recall: 0.4134\n",
            "Epoch 271/300\n",
            "73/73 [==============================] - 1s 7ms/step - loss: 0.3349 - recall: 0.4360 - val_loss: 0.3418 - val_recall: 0.4016\n",
            "Epoch 272/300\n",
            "73/73 [==============================] - 1s 7ms/step - loss: 0.3347 - recall: 0.4421 - val_loss: 0.3454 - val_recall: 0.3701\n",
            "Epoch 273/300\n",
            "73/73 [==============================] - 0s 6ms/step - loss: 0.3350 - recall: 0.4367 - val_loss: 0.3449 - val_recall: 0.3898\n",
            "Epoch 274/300\n",
            "73/73 [==============================] - 0s 4ms/step - loss: 0.3357 - recall: 0.4333 - val_loss: 0.3407 - val_recall: 0.4331\n",
            "Epoch 275/300\n",
            "73/73 [==============================] - 0s 5ms/step - loss: 0.3347 - recall: 0.4333 - val_loss: 0.3418 - val_recall: 0.4331\n",
            "Epoch 276/300\n",
            "73/73 [==============================] - 0s 5ms/step - loss: 0.3344 - recall: 0.4394 - val_loss: 0.3433 - val_recall: 0.3937\n",
            "Epoch 277/300\n",
            "73/73 [==============================] - 0s 4ms/step - loss: 0.3348 - recall: 0.4367 - val_loss: 0.3440 - val_recall: 0.3937\n",
            "Epoch 278/300\n",
            "73/73 [==============================] - 0s 5ms/step - loss: 0.3346 - recall: 0.4360 - val_loss: 0.3491 - val_recall: 0.3740\n",
            "Epoch 279/300\n",
            "73/73 [==============================] - 0s 5ms/step - loss: 0.3348 - recall: 0.4353 - val_loss: 0.3444 - val_recall: 0.3858\n",
            "Epoch 280/300\n",
            "73/73 [==============================] - 0s 5ms/step - loss: 0.3346 - recall: 0.4333 - val_loss: 0.3440 - val_recall: 0.4331\n",
            "Epoch 281/300\n",
            "73/73 [==============================] - 0s 5ms/step - loss: 0.3343 - recall: 0.4381 - val_loss: 0.3448 - val_recall: 0.3780\n",
            "Epoch 282/300\n",
            "73/73 [==============================] - 0s 4ms/step - loss: 0.3338 - recall: 0.4326 - val_loss: 0.3428 - val_recall: 0.4173\n",
            "Epoch 283/300\n",
            "73/73 [==============================] - 0s 4ms/step - loss: 0.3350 - recall: 0.4320 - val_loss: 0.3439 - val_recall: 0.4646\n",
            "Epoch 284/300\n",
            "73/73 [==============================] - 1s 8ms/step - loss: 0.3350 - recall: 0.4421 - val_loss: 0.3467 - val_recall: 0.3701\n",
            "Epoch 285/300\n",
            "73/73 [==============================] - 1s 7ms/step - loss: 0.3342 - recall: 0.4408 - val_loss: 0.3409 - val_recall: 0.4094\n",
            "Epoch 286/300\n",
            "73/73 [==============================] - 1s 7ms/step - loss: 0.3338 - recall: 0.4414 - val_loss: 0.3418 - val_recall: 0.4370\n",
            "Epoch 287/300\n",
            "73/73 [==============================] - 0s 4ms/step - loss: 0.3344 - recall: 0.4421 - val_loss: 0.3470 - val_recall: 0.3858\n",
            "Epoch 288/300\n",
            "73/73 [==============================] - 0s 3ms/step - loss: 0.3340 - recall: 0.4286 - val_loss: 0.3409 - val_recall: 0.4409\n",
            "Epoch 289/300\n",
            "73/73 [==============================] - 0s 2ms/step - loss: 0.3338 - recall: 0.4374 - val_loss: 0.3413 - val_recall: 0.4528\n",
            "Epoch 290/300\n",
            "73/73 [==============================] - 0s 3ms/step - loss: 0.3345 - recall: 0.4394 - val_loss: 0.3404 - val_recall: 0.4055\n",
            "Epoch 291/300\n",
            "73/73 [==============================] - 0s 3ms/step - loss: 0.3339 - recall: 0.4353 - val_loss: 0.3424 - val_recall: 0.4016\n",
            "Epoch 292/300\n",
            "73/73 [==============================] - 0s 2ms/step - loss: 0.3346 - recall: 0.4421 - val_loss: 0.3407 - val_recall: 0.4370\n",
            "Epoch 293/300\n",
            "73/73 [==============================] - 0s 3ms/step - loss: 0.3345 - recall: 0.4381 - val_loss: 0.3401 - val_recall: 0.4173\n",
            "Epoch 294/300\n",
            "73/73 [==============================] - 0s 3ms/step - loss: 0.3362 - recall: 0.4347 - val_loss: 0.3419 - val_recall: 0.4449\n",
            "Epoch 295/300\n",
            "73/73 [==============================] - 0s 3ms/step - loss: 0.3348 - recall: 0.4408 - val_loss: 0.3439 - val_recall: 0.3898\n",
            "Epoch 296/300\n",
            "73/73 [==============================] - 0s 2ms/step - loss: 0.3343 - recall: 0.4387 - val_loss: 0.3401 - val_recall: 0.4409\n",
            "Epoch 297/300\n",
            "73/73 [==============================] - 0s 3ms/step - loss: 0.3338 - recall: 0.4428 - val_loss: 0.3413 - val_recall: 0.4370\n",
            "Epoch 298/300\n",
            "73/73 [==============================] - 0s 3ms/step - loss: 0.3345 - recall: 0.4408 - val_loss: 0.3417 - val_recall: 0.4606\n",
            "Epoch 299/300\n",
            "73/73 [==============================] - 0s 2ms/step - loss: 0.3338 - recall: 0.4401 - val_loss: 0.3452 - val_recall: 0.4016\n",
            "Epoch 300/300\n",
            "73/73 [==============================] - 0s 3ms/step - loss: 0.3339 - recall: 0.4347 - val_loss: 0.3411 - val_recall: 0.4252\n"
          ]
        },
        {
          "output_type": "execute_result",
          "data": {
            "text/plain": [
              "<keras.callbacks.History at 0x7fa635efe290>"
            ]
          },
          "metadata": {},
          "execution_count": 74
        }
      ],
      "source": [
        "model.fit(x = X_train, y = y_train, validation_split = 0.15, batch_size = 100, epochs = 300, verbose=1)  "
      ]
    },
    {
      "cell_type": "code",
      "execution_count": 74,
      "metadata": {
        "id": "WuX8RRsm13bS"
      },
      "outputs": [],
      "source": [
        ""
      ]
    },
    {
      "cell_type": "code",
      "execution_count": 75,
      "metadata": {
        "id": "lb-HO7E3uWYP",
        "outputId": "f6aff7c8-e4d9-4377-c64f-1ea794579c02",
        "colab": {
          "base_uri": "https://localhost:8080/"
        }
      },
      "outputs": [
        {
          "output_type": "stream",
          "name": "stdout",
          "text": [
            "Model: \"sequential_2\"\n",
            "_________________________________________________________________\n",
            " Layer (type)                Output Shape              Param #   \n",
            "=================================================================\n",
            " dense_8 (Dense)             (None, 20)                240       \n",
            "                                                                 \n",
            " dense_9 (Dense)             (None, 10)                210       \n",
            "                                                                 \n",
            " dense_10 (Dense)            (None, 5)                 55        \n",
            "                                                                 \n",
            " dense_11 (Dense)            (None, 1)                 6         \n",
            "                                                                 \n",
            "=================================================================\n",
            "Total params: 511\n",
            "Trainable params: 511\n",
            "Non-trainable params: 0\n",
            "_________________________________________________________________\n"
          ]
        }
      ],
      "source": [
        "model.summary()"
      ]
    },
    {
      "cell_type": "markdown",
      "source": [
        ""
      ],
      "metadata": {
        "id": "_MbYTDzqseU-"
      }
    },
    {
      "cell_type": "markdown",
      "metadata": {
        "id": "990pBGsr6QO5"
      },
      "source": [
        "### Evaluate The Model\n",
        "\n",
        "- Plot the model history to observe the changing of metrics\n",
        "- Make prediction to see \"confusion matrix\" and \"classification report\"\n",
        "- Check ROC (Receiver Operating Curve) and AUC (Area Under Curve) for the model"
      ]
    },
    {
      "cell_type": "code",
      "execution_count": 76,
      "metadata": {
        "id": "vQIbjGQduQpQ",
        "outputId": "ac94ebad-ef04-4d1e-bd51-93e183f2f664",
        "colab": {
          "base_uri": "https://localhost:8080/",
          "height": 206
        }
      },
      "outputs": [
        {
          "output_type": "execute_result",
          "data": {
            "text/plain": [
              "   loss  recall  val_loss  val_recall\n",
              "0 0.629   0.137     0.528       0.000\n",
              "1 0.503   0.000     0.485       0.000\n",
              "2 0.491   0.000     0.480       0.000\n",
              "3 0.483   0.000     0.474       0.000\n",
              "4 0.475   0.000     0.468       0.000"
            ],
            "text/html": [
              "\n",
              "  <div id=\"df-d2172ca6-b766-4b40-8113-a4aa9be83137\">\n",
              "    <div class=\"colab-df-container\">\n",
              "      <div>\n",
              "<style scoped>\n",
              "    .dataframe tbody tr th:only-of-type {\n",
              "        vertical-align: middle;\n",
              "    }\n",
              "\n",
              "    .dataframe tbody tr th {\n",
              "        vertical-align: top;\n",
              "    }\n",
              "\n",
              "    .dataframe thead th {\n",
              "        text-align: right;\n",
              "    }\n",
              "</style>\n",
              "<table border=\"1\" class=\"dataframe\">\n",
              "  <thead>\n",
              "    <tr style=\"text-align: right;\">\n",
              "      <th></th>\n",
              "      <th>loss</th>\n",
              "      <th>recall</th>\n",
              "      <th>val_loss</th>\n",
              "      <th>val_recall</th>\n",
              "    </tr>\n",
              "  </thead>\n",
              "  <tbody>\n",
              "    <tr>\n",
              "      <th>0</th>\n",
              "      <td>0.629</td>\n",
              "      <td>0.137</td>\n",
              "      <td>0.528</td>\n",
              "      <td>0.000</td>\n",
              "    </tr>\n",
              "    <tr>\n",
              "      <th>1</th>\n",
              "      <td>0.503</td>\n",
              "      <td>0.000</td>\n",
              "      <td>0.485</td>\n",
              "      <td>0.000</td>\n",
              "    </tr>\n",
              "    <tr>\n",
              "      <th>2</th>\n",
              "      <td>0.491</td>\n",
              "      <td>0.000</td>\n",
              "      <td>0.480</td>\n",
              "      <td>0.000</td>\n",
              "    </tr>\n",
              "    <tr>\n",
              "      <th>3</th>\n",
              "      <td>0.483</td>\n",
              "      <td>0.000</td>\n",
              "      <td>0.474</td>\n",
              "      <td>0.000</td>\n",
              "    </tr>\n",
              "    <tr>\n",
              "      <th>4</th>\n",
              "      <td>0.475</td>\n",
              "      <td>0.000</td>\n",
              "      <td>0.468</td>\n",
              "      <td>0.000</td>\n",
              "    </tr>\n",
              "  </tbody>\n",
              "</table>\n",
              "</div>\n",
              "      <button class=\"colab-df-convert\" onclick=\"convertToInteractive('df-d2172ca6-b766-4b40-8113-a4aa9be83137')\"\n",
              "              title=\"Convert this dataframe to an interactive table.\"\n",
              "              style=\"display:none;\">\n",
              "        \n",
              "  <svg xmlns=\"http://www.w3.org/2000/svg\" height=\"24px\"viewBox=\"0 0 24 24\"\n",
              "       width=\"24px\">\n",
              "    <path d=\"M0 0h24v24H0V0z\" fill=\"none\"/>\n",
              "    <path d=\"M18.56 5.44l.94 2.06.94-2.06 2.06-.94-2.06-.94-.94-2.06-.94 2.06-2.06.94zm-11 1L8.5 8.5l.94-2.06 2.06-.94-2.06-.94L8.5 2.5l-.94 2.06-2.06.94zm10 10l.94 2.06.94-2.06 2.06-.94-2.06-.94-.94-2.06-.94 2.06-2.06.94z\"/><path d=\"M17.41 7.96l-1.37-1.37c-.4-.4-.92-.59-1.43-.59-.52 0-1.04.2-1.43.59L10.3 9.45l-7.72 7.72c-.78.78-.78 2.05 0 2.83L4 21.41c.39.39.9.59 1.41.59.51 0 1.02-.2 1.41-.59l7.78-7.78 2.81-2.81c.8-.78.8-2.07 0-2.86zM5.41 20L4 18.59l7.72-7.72 1.47 1.35L5.41 20z\"/>\n",
              "  </svg>\n",
              "      </button>\n",
              "      \n",
              "  <style>\n",
              "    .colab-df-container {\n",
              "      display:flex;\n",
              "      flex-wrap:wrap;\n",
              "      gap: 12px;\n",
              "    }\n",
              "\n",
              "    .colab-df-convert {\n",
              "      background-color: #E8F0FE;\n",
              "      border: none;\n",
              "      border-radius: 50%;\n",
              "      cursor: pointer;\n",
              "      display: none;\n",
              "      fill: #1967D2;\n",
              "      height: 32px;\n",
              "      padding: 0 0 0 0;\n",
              "      width: 32px;\n",
              "    }\n",
              "\n",
              "    .colab-df-convert:hover {\n",
              "      background-color: #E2EBFA;\n",
              "      box-shadow: 0px 1px 2px rgba(60, 64, 67, 0.3), 0px 1px 3px 1px rgba(60, 64, 67, 0.15);\n",
              "      fill: #174EA6;\n",
              "    }\n",
              "\n",
              "    [theme=dark] .colab-df-convert {\n",
              "      background-color: #3B4455;\n",
              "      fill: #D2E3FC;\n",
              "    }\n",
              "\n",
              "    [theme=dark] .colab-df-convert:hover {\n",
              "      background-color: #434B5C;\n",
              "      box-shadow: 0px 1px 3px 1px rgba(0, 0, 0, 0.15);\n",
              "      filter: drop-shadow(0px 1px 2px rgba(0, 0, 0, 0.3));\n",
              "      fill: #FFFFFF;\n",
              "    }\n",
              "  </style>\n",
              "\n",
              "      <script>\n",
              "        const buttonEl =\n",
              "          document.querySelector('#df-d2172ca6-b766-4b40-8113-a4aa9be83137 button.colab-df-convert');\n",
              "        buttonEl.style.display =\n",
              "          google.colab.kernel.accessAllowed ? 'block' : 'none';\n",
              "\n",
              "        async function convertToInteractive(key) {\n",
              "          const element = document.querySelector('#df-d2172ca6-b766-4b40-8113-a4aa9be83137');\n",
              "          const dataTable =\n",
              "            await google.colab.kernel.invokeFunction('convertToInteractive',\n",
              "                                                     [key], {});\n",
              "          if (!dataTable) return;\n",
              "\n",
              "          const docLinkHtml = 'Like what you see? Visit the ' +\n",
              "            '<a target=\"_blank\" href=https://colab.research.google.com/notebooks/data_table.ipynb>data table notebook</a>'\n",
              "            + ' to learn more about interactive tables.';\n",
              "          element.innerHTML = '';\n",
              "          dataTable['output_type'] = 'display_data';\n",
              "          await google.colab.output.renderOutput(dataTable, element);\n",
              "          const docLink = document.createElement('div');\n",
              "          docLink.innerHTML = docLinkHtml;\n",
              "          element.appendChild(docLink);\n",
              "        }\n",
              "      </script>\n",
              "    </div>\n",
              "  </div>\n",
              "  "
            ]
          },
          "metadata": {},
          "execution_count": 76
        }
      ],
      "source": [
        "loss_df = pd.DataFrame(model.history.history)\n",
        "loss_df.head()"
      ]
    },
    {
      "cell_type": "code",
      "execution_count": 77,
      "metadata": {
        "colab": {
          "base_uri": "https://localhost:8080/",
          "height": 391
        },
        "id": "PQrRXkriuaux",
        "outputId": "0175db2f-953d-4437-fa1f-89f793712fd3"
      },
      "outputs": [
        {
          "output_type": "display_data",
          "data": {
            "text/plain": [
              "<Figure size 720x720 with 0 Axes>"
            ]
          },
          "metadata": {}
        },
        {
          "output_type": "display_data",
          "data": {
            "text/plain": [
              "<Figure size 720x432 with 1 Axes>"
            ],
            "image/png": "[encoded data removed]"
          },
          "metadata": {}
        }
      ],
      "source": [
        "plt.figure(figsize = (10,10))\n",
        "loss_df.plot();    "
      ]
    },
    {
      "cell_type": "code",
      "execution_count": 78,
      "metadata": {
        "id": "KSooP6KDuWYR",
        "outputId": "b4bfe4ae-e879-4ce1-ab47-34e2a205851b",
        "colab": {
          "base_uri": "https://localhost:8080/"
        }
      },
      "outputs": [
        {
          "output_type": "execute_result",
          "data": {
            "text/plain": [
              "[0.3615572452545166, 0.4215686321258545]"
            ]
          },
          "metadata": {},
          "execution_count": 78
        }
      ],
      "source": [
        "model.evaluate(X_test, y_test, verbose=0)   "
      ]
    },
    {
      "cell_type": "code",
      "execution_count": 79,
      "metadata": {
        "id": "CE91jnNeuWYS",
        "outputId": "0f901de3-53b2-47be-ea95-c10ad0503940",
        "colab": {
          "base_uri": "https://localhost:8080/"
        }
      },
      "outputs": [
        {
          "output_type": "stream",
          "name": "stdout",
          "text": [
            "loss :  0.3615572452545166\n",
            "accuracy :  0.4215686321258545\n"
          ]
        }
      ],
      "source": [
        "loss, accuracy = model.evaluate(X_test, y_test, verbose=0)\n",
        "print(\"loss : \", loss)\n",
        "print(\"accuracy : \", accuracy)"
      ]
    },
    {
      "cell_type": "code",
      "execution_count": 80,
      "metadata": {
        "id": "irJWyuTfuWYS",
        "outputId": "4a46c0ae-f037-4f59-f595-d8e138208fe0",
        "colab": {
          "base_uri": "https://localhost:8080/"
        }
      },
      "outputs": [
        {
          "output_type": "stream",
          "name": "stdout",
          "text": [
            "[[1143   51]\n",
            " [ 177  129]]\n",
            "              precision    recall  f1-score   support\n",
            "\n",
            "           0       0.87      0.96      0.91      1194\n",
            "           1       0.72      0.42      0.53       306\n",
            "\n",
            "    accuracy                           0.85      1500\n",
            "   macro avg       0.79      0.69      0.72      1500\n",
            "weighted avg       0.84      0.85      0.83      1500\n",
            "\n"
          ]
        }
      ],
      "source": [
        "y_pred = model.predict(X_test) > 0.5                  \n",
        "print(confusion_matrix(y_test, y_pred))\n",
        "print(classification_report(y_test, y_pred))          "
      ]
    },
    {
      "cell_type": "code",
      "source": [
        "from sklearn.metrics import roc_auc_score, roc_curve, precision_recall_curve, average_precision_score\n"
      ],
      "metadata": {
        "id": "zNLKGO2QJAgm"
      },
      "execution_count": 81,
      "outputs": []
    },
    {
      "cell_type": "code",
      "execution_count": 82,
      "metadata": {
        "id": "wWTpdeaO13bS",
        "colab": {
          "base_uri": "https://localhost:8080/",
          "height": 404
        },
        "outputId": "b9081513-6ed4-4122-bab1-9e5dafd0b19d"
      },
      "outputs": [
        {
          "output_type": "display_data",
          "data": {
            "text/plain": [
              "<Figure size 720x432 with 1 Axes>"
            ],
            "image/png": "[encoded data removed]"
          },
          "metadata": {}
        }
      ],
      "source": [
        "y_pred_proba = model.predict(X_test)\n",
        "precisions, recalls, thresholds = precision_recall_curve(y_test, y_pred_proba)\n",
        "plt.plot(recalls, precisions, label='ANN')\n",
        "plt.xlabel('recalls')\n",
        "plt.ylabel('precisions')\n",
        "plt.title('Precision-Recall curve')\n",
        "plt.show()"
      ]
    },
    {
      "cell_type": "code",
      "source": [
        "average_precision_score(y_test, y_pred_proba)"
      ],
      "metadata": {
        "id": "PLHMlSweUoDE",
        "colab": {
          "base_uri": "https://localhost:8080/"
        },
        "outputId": "f1027cb3-8b94-4f8f-c200-ecfc62e8b960"
      },
      "execution_count": 83,
      "outputs": [
        {
          "output_type": "execute_result",
          "data": {
            "text/plain": [
              "0.662590267825376"
            ]
          },
          "metadata": {},
          "execution_count": 83
        }
      ]
    },
    {
      "cell_type": "markdown",
      "metadata": {
        "id": "VTDQFZuo6QO5"
      },
      "source": [
        "## with class_weigth\n",
        "\n",
        "Investigate how the \"class_weight\" hyper-parameter is used in a Neural Network."
      ]
    },
    {
      "cell_type": "markdown",
      "metadata": {
        "id": "RhTyiSJ96QO6"
      },
      "source": [
        "### Create The Model"
      ]
    },
    {
      "cell_type": "code",
      "execution_count": 84,
      "metadata": {
        "id": "Ce5kuWQ46QO6"
      },
      "outputs": [],
      "source": [
        "tf.random.set_seed(seed)\n",
        "\n",
        "model = Sequential()\n",
        "\n",
        "model.add(Dense(20, activation = \"relu\", input_dim = X_train.shape[1]))\n",
        "model.add(Dense(10, activation = \"relu\"))\n",
        "model.add(Dense(5, activation = \"relu\"))\n",
        "model.add(Dense(1, activation = \"sigmoid\")) \n",
        "opt = Adam(lr = 0.001)        \n",
        "model.compile(optimizer = opt, loss = \"binary_crossentropy\", metrics = [\"Recall\"])  "
      ]
    },
    {
      "cell_type": "code",
      "source": [
        "from sklearn.utils import class_weight\n",
        "class_weights = class_weight.compute_class_weight(\"balanced\", classes=np.unique(y_train), y = y_train)\n",
        "\n",
        "class_weights = {0:class_weights[0], 1:class_weights[1]}\n",
        "class_weights"
      ],
      "metadata": {
        "colab": {
          "base_uri": "https://localhost:8080/"
        },
        "id": "fquOhnMpvUau",
        "outputId": "896319e3-7236-4e4c-8051-a72140383e76"
      },
      "execution_count": 85,
      "outputs": [
        {
          "output_type": "execute_result",
          "data": {
            "text/plain": [
              "{0: 0.6278623134879598, 1: 2.455228191796649}"
            ]
          },
          "metadata": {},
          "execution_count": 85
        }
      ]
    },
    {
      "cell_type": "code",
      "source": [
        "model.fit(x = X_train, y = y_train, validation_split = 0.15, batch_size = 100, epochs = 300, verbose=1, class_weight = class_weights)  "
      ],
      "metadata": {
        "colab": {
          "base_uri": "https://localhost:8080/"
        },
        "id": "33c0q156vUPb",
        "outputId": "8ecc9402-82e4-4551-e78b-9a2bb4d4327c"
      },
      "execution_count": 86,
      "outputs": [
        {
          "output_type": "stream",
          "name": "stdout",
          "text": [
            "Epoch 1/300\n",
            "73/73 [==============================] - 1s 5ms/step - loss: 0.6879 - recall: 0.6913 - val_loss: 0.6568 - val_recall: 0.5276\n",
            "Epoch 2/300\n",
            "73/73 [==============================] - 0s 2ms/step - loss: 0.6678 - recall: 0.6500 - val_loss: 0.6510 - val_recall: 0.6417\n",
            "Epoch 3/300\n",
            "73/73 [==============================] - 0s 3ms/step - loss: 0.6458 - recall: 0.7028 - val_loss: 0.6467 - val_recall: 0.6732\n",
            "Epoch 4/300\n",
            "73/73 [==============================] - 0s 2ms/step - loss: 0.6265 - recall: 0.6872 - val_loss: 0.6629 - val_recall: 0.7126\n",
            "Epoch 5/300\n",
            "73/73 [==============================] - 0s 3ms/step - loss: 0.6097 - recall: 0.7062 - val_loss: 0.6048 - val_recall: 0.5984\n",
            "Epoch 6/300\n",
            "73/73 [==============================] - 0s 3ms/step - loss: 0.5968 - recall: 0.6926 - val_loss: 0.6398 - val_recall: 0.6811\n",
            "Epoch 7/300\n",
            "73/73 [==============================] - 0s 4ms/step - loss: 0.5874 - recall: 0.7082 - val_loss: 0.5908 - val_recall: 0.6299\n",
            "Epoch 8/300\n",
            "73/73 [==============================] - 0s 5ms/step - loss: 0.5801 - recall: 0.7007 - val_loss: 0.6157 - val_recall: 0.6969\n",
            "Epoch 9/300\n",
            "73/73 [==============================] - 0s 4ms/step - loss: 0.5726 - recall: 0.7197 - val_loss: 0.5736 - val_recall: 0.6496\n",
            "Epoch 10/300\n",
            "73/73 [==============================] - 0s 4ms/step - loss: 0.5665 - recall: 0.7150 - val_loss: 0.5492 - val_recall: 0.6339\n",
            "Epoch 11/300\n",
            "73/73 [==============================] - 0s 5ms/step - loss: 0.5607 - recall: 0.7211 - val_loss: 0.6074 - val_recall: 0.7283\n",
            "Epoch 12/300\n",
            "73/73 [==============================] - 0s 5ms/step - loss: 0.5566 - recall: 0.7204 - val_loss: 0.5955 - val_recall: 0.7165\n",
            "Epoch 13/300\n",
            "73/73 [==============================] - 0s 4ms/step - loss: 0.5492 - recall: 0.7156 - val_loss: 0.5467 - val_recall: 0.6811\n",
            "Epoch 14/300\n",
            "73/73 [==============================] - 0s 4ms/step - loss: 0.5407 - recall: 0.7326 - val_loss: 0.5883 - val_recall: 0.7559\n",
            "Epoch 15/300\n",
            "73/73 [==============================] - 0s 4ms/step - loss: 0.5327 - recall: 0.7427 - val_loss: 0.5156 - val_recall: 0.6772\n",
            "Epoch 16/300\n",
            "73/73 [==============================] - 0s 4ms/step - loss: 0.5271 - recall: 0.7326 - val_loss: 0.5159 - val_recall: 0.6929\n",
            "Epoch 17/300\n",
            "73/73 [==============================] - 0s 4ms/step - loss: 0.5199 - recall: 0.7373 - val_loss: 0.5647 - val_recall: 0.7480\n",
            "Epoch 18/300\n",
            "73/73 [==============================] - 0s 4ms/step - loss: 0.5147 - recall: 0.7468 - val_loss: 0.5159 - val_recall: 0.7047\n",
            "Epoch 19/300\n",
            "73/73 [==============================] - 0s 4ms/step - loss: 0.5110 - recall: 0.7434 - val_loss: 0.5372 - val_recall: 0.7402\n",
            "Epoch 20/300\n",
            "73/73 [==============================] - 0s 4ms/step - loss: 0.5078 - recall: 0.7434 - val_loss: 0.5048 - val_recall: 0.6969\n",
            "Epoch 21/300\n",
            "73/73 [==============================] - 0s 5ms/step - loss: 0.5058 - recall: 0.7441 - val_loss: 0.4717 - val_recall: 0.6772\n",
            "Epoch 22/300\n",
            "73/73 [==============================] - 0s 4ms/step - loss: 0.5020 - recall: 0.7346 - val_loss: 0.4895 - val_recall: 0.6890\n",
            "Epoch 23/300\n",
            "73/73 [==============================] - 0s 4ms/step - loss: 0.4999 - recall: 0.7312 - val_loss: 0.5086 - val_recall: 0.7126\n",
            "Epoch 24/300\n",
            "73/73 [==============================] - 0s 5ms/step - loss: 0.4985 - recall: 0.7373 - val_loss: 0.4940 - val_recall: 0.7047\n",
            "Epoch 25/300\n",
            "73/73 [==============================] - 0s 5ms/step - loss: 0.4970 - recall: 0.7414 - val_loss: 0.5091 - val_recall: 0.7362\n",
            "Epoch 26/300\n",
            "73/73 [==============================] - 0s 5ms/step - loss: 0.4991 - recall: 0.7441 - val_loss: 0.4474 - val_recall: 0.6614\n",
            "Epoch 27/300\n",
            "73/73 [==============================] - 0s 3ms/step - loss: 0.4968 - recall: 0.7258 - val_loss: 0.5205 - val_recall: 0.7559\n",
            "Epoch 28/300\n",
            "73/73 [==============================] - 0s 2ms/step - loss: 0.4941 - recall: 0.7353 - val_loss: 0.4872 - val_recall: 0.7205\n",
            "Epoch 29/300\n",
            "73/73 [==============================] - 0s 3ms/step - loss: 0.4928 - recall: 0.7407 - val_loss: 0.5127 - val_recall: 0.7480\n",
            "Epoch 30/300\n",
            "73/73 [==============================] - 0s 2ms/step - loss: 0.4925 - recall: 0.7414 - val_loss: 0.5121 - val_recall: 0.7520\n",
            "Epoch 31/300\n",
            "73/73 [==============================] - 0s 2ms/step - loss: 0.4931 - recall: 0.7346 - val_loss: 0.5022 - val_recall: 0.7520\n",
            "Epoch 32/300\n",
            "73/73 [==============================] - 0s 3ms/step - loss: 0.4919 - recall: 0.7380 - val_loss: 0.4442 - val_recall: 0.6890\n",
            "Epoch 33/300\n",
            "73/73 [==============================] - 0s 3ms/step - loss: 0.4917 - recall: 0.7420 - val_loss: 0.4780 - val_recall: 0.7165\n",
            "Epoch 34/300\n",
            "73/73 [==============================] - 0s 2ms/step - loss: 0.4896 - recall: 0.7393 - val_loss: 0.5274 - val_recall: 0.7795\n",
            "Epoch 35/300\n",
            "73/73 [==============================] - 0s 2ms/step - loss: 0.4922 - recall: 0.7461 - val_loss: 0.4808 - val_recall: 0.7283\n",
            "Epoch 36/300\n",
            "73/73 [==============================] - 0s 2ms/step - loss: 0.4895 - recall: 0.7508 - val_loss: 0.4547 - val_recall: 0.7047\n",
            "Epoch 37/300\n",
            "73/73 [==============================] - 0s 3ms/step - loss: 0.4897 - recall: 0.7441 - val_loss: 0.4723 - val_recall: 0.7165\n",
            "Epoch 38/300\n",
            "73/73 [==============================] - 0s 4ms/step - loss: 0.4869 - recall: 0.7542 - val_loss: 0.4274 - val_recall: 0.6654\n",
            "Epoch 39/300\n",
            "73/73 [==============================] - 0s 5ms/step - loss: 0.4862 - recall: 0.7461 - val_loss: 0.5138 - val_recall: 0.7638\n",
            "Epoch 40/300\n",
            "73/73 [==============================] - 0s 4ms/step - loss: 0.4907 - recall: 0.7366 - val_loss: 0.5201 - val_recall: 0.7717\n",
            "Epoch 41/300\n",
            "73/73 [==============================] - 0s 4ms/step - loss: 0.4867 - recall: 0.7556 - val_loss: 0.4891 - val_recall: 0.7480\n",
            "Epoch 42/300\n",
            "73/73 [==============================] - 0s 5ms/step - loss: 0.4847 - recall: 0.7536 - val_loss: 0.4530 - val_recall: 0.7047\n",
            "Epoch 43/300\n",
            "73/73 [==============================] - 0s 4ms/step - loss: 0.4846 - recall: 0.7441 - val_loss: 0.4920 - val_recall: 0.7441\n",
            "Epoch 44/300\n",
            "73/73 [==============================] - 0s 4ms/step - loss: 0.4849 - recall: 0.7481 - val_loss: 0.4977 - val_recall: 0.7480\n",
            "Epoch 45/300\n",
            "73/73 [==============================] - 0s 4ms/step - loss: 0.4841 - recall: 0.7414 - val_loss: 0.5141 - val_recall: 0.7598\n",
            "Epoch 46/300\n",
            "73/73 [==============================] - 0s 4ms/step - loss: 0.4820 - recall: 0.7590 - val_loss: 0.4423 - val_recall: 0.6969\n",
            "Epoch 47/300\n",
            "73/73 [==============================] - 0s 4ms/step - loss: 0.4816 - recall: 0.7508 - val_loss: 0.4539 - val_recall: 0.7126\n",
            "Epoch 48/300\n",
            "73/73 [==============================] - 0s 4ms/step - loss: 0.4836 - recall: 0.7468 - val_loss: 0.4733 - val_recall: 0.7165\n",
            "Epoch 49/300\n",
            "73/73 [==============================] - 0s 4ms/step - loss: 0.4832 - recall: 0.7427 - val_loss: 0.5000 - val_recall: 0.7480\n",
            "Epoch 50/300\n",
            "73/73 [==============================] - 0s 4ms/step - loss: 0.4835 - recall: 0.7556 - val_loss: 0.4290 - val_recall: 0.6811\n",
            "Epoch 51/300\n",
            "73/73 [==============================] - 0s 4ms/step - loss: 0.4826 - recall: 0.7427 - val_loss: 0.4875 - val_recall: 0.7480\n",
            "Epoch 52/300\n",
            "73/73 [==============================] - 0s 5ms/step - loss: 0.4808 - recall: 0.7380 - val_loss: 0.4679 - val_recall: 0.7244\n",
            "Epoch 53/300\n",
            "73/73 [==============================] - 0s 5ms/step - loss: 0.4803 - recall: 0.7454 - val_loss: 0.4481 - val_recall: 0.7126\n",
            "Epoch 54/300\n",
            "73/73 [==============================] - 0s 5ms/step - loss: 0.4797 - recall: 0.7569 - val_loss: 0.4473 - val_recall: 0.7087\n",
            "Epoch 55/300\n",
            "73/73 [==============================] - 0s 4ms/step - loss: 0.4795 - recall: 0.7624 - val_loss: 0.4979 - val_recall: 0.7520\n",
            "Epoch 56/300\n",
            "73/73 [==============================] - 0s 5ms/step - loss: 0.4794 - recall: 0.7488 - val_loss: 0.4907 - val_recall: 0.7441\n",
            "Epoch 57/300\n",
            "73/73 [==============================] - 0s 4ms/step - loss: 0.4797 - recall: 0.7454 - val_loss: 0.4937 - val_recall: 0.7520\n",
            "Epoch 58/300\n",
            "73/73 [==============================] - 0s 2ms/step - loss: 0.4789 - recall: 0.7502 - val_loss: 0.4712 - val_recall: 0.7362\n",
            "Epoch 59/300\n",
            "73/73 [==============================] - 0s 2ms/step - loss: 0.4780 - recall: 0.7576 - val_loss: 0.4876 - val_recall: 0.7362\n",
            "Epoch 60/300\n",
            "73/73 [==============================] - 0s 3ms/step - loss: 0.4784 - recall: 0.7583 - val_loss: 0.4731 - val_recall: 0.7362\n",
            "Epoch 61/300\n",
            "73/73 [==============================] - 0s 2ms/step - loss: 0.4797 - recall: 0.7481 - val_loss: 0.4341 - val_recall: 0.6929\n",
            "Epoch 62/300\n",
            "73/73 [==============================] - 0s 2ms/step - loss: 0.4781 - recall: 0.7481 - val_loss: 0.4627 - val_recall: 0.7165\n",
            "Epoch 63/300\n",
            "73/73 [==============================] - 0s 2ms/step - loss: 0.4752 - recall: 0.7488 - val_loss: 0.4144 - val_recall: 0.6654\n",
            "Epoch 64/300\n",
            "73/73 [==============================] - 0s 2ms/step - loss: 0.4761 - recall: 0.7529 - val_loss: 0.4764 - val_recall: 0.7283\n",
            "Epoch 65/300\n",
            "73/73 [==============================] - 0s 3ms/step - loss: 0.4770 - recall: 0.7495 - val_loss: 0.4618 - val_recall: 0.7205\n",
            "Epoch 66/300\n",
            "73/73 [==============================] - 0s 2ms/step - loss: 0.4749 - recall: 0.7569 - val_loss: 0.4818 - val_recall: 0.7441\n",
            "Epoch 67/300\n",
            "73/73 [==============================] - 0s 2ms/step - loss: 0.4760 - recall: 0.7651 - val_loss: 0.4322 - val_recall: 0.6929\n",
            "Epoch 68/300\n",
            "73/73 [==============================] - 0s 3ms/step - loss: 0.4757 - recall: 0.7420 - val_loss: 0.5046 - val_recall: 0.7638\n",
            "Epoch 69/300\n",
            "73/73 [==============================] - 0s 2ms/step - loss: 0.4743 - recall: 0.7644 - val_loss: 0.4080 - val_recall: 0.6693\n",
            "Epoch 70/300\n",
            "73/73 [==============================] - 0s 2ms/step - loss: 0.4771 - recall: 0.7583 - val_loss: 0.4492 - val_recall: 0.7047\n",
            "Epoch 71/300\n",
            "73/73 [==============================] - 0s 2ms/step - loss: 0.4771 - recall: 0.7529 - val_loss: 0.4173 - val_recall: 0.6811\n",
            "Epoch 72/300\n",
            "73/73 [==============================] - 0s 3ms/step - loss: 0.4751 - recall: 0.7569 - val_loss: 0.4275 - val_recall: 0.6929\n",
            "Epoch 73/300\n",
            "73/73 [==============================] - 0s 2ms/step - loss: 0.4744 - recall: 0.7536 - val_loss: 0.4647 - val_recall: 0.7244\n",
            "Epoch 74/300\n",
            "73/73 [==============================] - 0s 2ms/step - loss: 0.4754 - recall: 0.7468 - val_loss: 0.4886 - val_recall: 0.7441\n",
            "Epoch 75/300\n",
            "73/73 [==============================] - 0s 2ms/step - loss: 0.4730 - recall: 0.7549 - val_loss: 0.5108 - val_recall: 0.7677\n",
            "Epoch 76/300\n",
            "73/73 [==============================] - 0s 3ms/step - loss: 0.4728 - recall: 0.7529 - val_loss: 0.4890 - val_recall: 0.7480\n",
            "Epoch 77/300\n",
            "73/73 [==============================] - 0s 2ms/step - loss: 0.4745 - recall: 0.7644 - val_loss: 0.3995 - val_recall: 0.6339\n",
            "Epoch 78/300\n",
            "73/73 [==============================] - 0s 2ms/step - loss: 0.4772 - recall: 0.7454 - val_loss: 0.4635 - val_recall: 0.7283\n",
            "Epoch 79/300\n",
            "73/73 [==============================] - 0s 2ms/step - loss: 0.4720 - recall: 0.7596 - val_loss: 0.4587 - val_recall: 0.7165\n",
            "Epoch 80/300\n",
            "73/73 [==============================] - 0s 3ms/step - loss: 0.4740 - recall: 0.7556 - val_loss: 0.4553 - val_recall: 0.7165\n",
            "Epoch 81/300\n",
            "73/73 [==============================] - 0s 3ms/step - loss: 0.4719 - recall: 0.7522 - val_loss: 0.4465 - val_recall: 0.7165\n",
            "Epoch 82/300\n",
            "73/73 [==============================] - 0s 2ms/step - loss: 0.4726 - recall: 0.7590 - val_loss: 0.4256 - val_recall: 0.6969\n",
            "Epoch 83/300\n",
            "73/73 [==============================] - 0s 2ms/step - loss: 0.4723 - recall: 0.7603 - val_loss: 0.4314 - val_recall: 0.7008\n",
            "Epoch 84/300\n",
            "73/73 [==============================] - 0s 2ms/step - loss: 0.4707 - recall: 0.7576 - val_loss: 0.4694 - val_recall: 0.7283\n",
            "Epoch 85/300\n",
            "73/73 [==============================] - 0s 3ms/step - loss: 0.4708 - recall: 0.7617 - val_loss: 0.4579 - val_recall: 0.7205\n",
            "Epoch 86/300\n",
            "73/73 [==============================] - 0s 2ms/step - loss: 0.4697 - recall: 0.7603 - val_loss: 0.4021 - val_recall: 0.6457\n",
            "Epoch 87/300\n",
            "73/73 [==============================] - 0s 2ms/step - loss: 0.4724 - recall: 0.7536 - val_loss: 0.4556 - val_recall: 0.7165\n",
            "Epoch 88/300\n",
            "73/73 [==============================] - 0s 2ms/step - loss: 0.4696 - recall: 0.7630 - val_loss: 0.4429 - val_recall: 0.7126\n",
            "Epoch 89/300\n",
            "73/73 [==============================] - 0s 2ms/step - loss: 0.4694 - recall: 0.7556 - val_loss: 0.4780 - val_recall: 0.7402\n",
            "Epoch 90/300\n",
            "73/73 [==============================] - 0s 3ms/step - loss: 0.4709 - recall: 0.7617 - val_loss: 0.4669 - val_recall: 0.7205\n",
            "Epoch 91/300\n",
            "73/73 [==============================] - 0s 2ms/step - loss: 0.4745 - recall: 0.7590 - val_loss: 0.4242 - val_recall: 0.6811\n",
            "Epoch 92/300\n",
            "73/73 [==============================] - 0s 3ms/step - loss: 0.4699 - recall: 0.7617 - val_loss: 0.4316 - val_recall: 0.6929\n",
            "Epoch 93/300\n",
            "73/73 [==============================] - 0s 2ms/step - loss: 0.4714 - recall: 0.7542 - val_loss: 0.4497 - val_recall: 0.7165\n",
            "Epoch 94/300\n",
            "73/73 [==============================] - 0s 2ms/step - loss: 0.4693 - recall: 0.7583 - val_loss: 0.4977 - val_recall: 0.7480\n",
            "Epoch 95/300\n",
            "73/73 [==============================] - 0s 3ms/step - loss: 0.4698 - recall: 0.7637 - val_loss: 0.4215 - val_recall: 0.6929\n",
            "Epoch 96/300\n",
            "73/73 [==============================] - 0s 2ms/step - loss: 0.4687 - recall: 0.7624 - val_loss: 0.4533 - val_recall: 0.7126\n",
            "Epoch 97/300\n",
            "73/73 [==============================] - 0s 2ms/step - loss: 0.4683 - recall: 0.7725 - val_loss: 0.4341 - val_recall: 0.7047\n",
            "Epoch 98/300\n",
            "73/73 [==============================] - 0s 3ms/step - loss: 0.4716 - recall: 0.7536 - val_loss: 0.4777 - val_recall: 0.7441\n",
            "Epoch 99/300\n",
            "73/73 [==============================] - 0s 2ms/step - loss: 0.4676 - recall: 0.7529 - val_loss: 0.4530 - val_recall: 0.7244\n",
            "Epoch 100/300\n",
            "73/73 [==============================] - 0s 2ms/step - loss: 0.4684 - recall: 0.7684 - val_loss: 0.4598 - val_recall: 0.7205\n",
            "Epoch 101/300\n",
            "73/73 [==============================] - 0s 2ms/step - loss: 0.4695 - recall: 0.7536 - val_loss: 0.4375 - val_recall: 0.7087\n",
            "Epoch 102/300\n",
            "73/73 [==============================] - 0s 3ms/step - loss: 0.4716 - recall: 0.7603 - val_loss: 0.4524 - val_recall: 0.7205\n",
            "Epoch 103/300\n",
            "73/73 [==============================] - 0s 2ms/step - loss: 0.4672 - recall: 0.7610 - val_loss: 0.4233 - val_recall: 0.6969\n",
            "Epoch 104/300\n",
            "73/73 [==============================] - 0s 3ms/step - loss: 0.4692 - recall: 0.7596 - val_loss: 0.4380 - val_recall: 0.7126\n",
            "Epoch 105/300\n",
            "73/73 [==============================] - 0s 2ms/step - loss: 0.4678 - recall: 0.7664 - val_loss: 0.4358 - val_recall: 0.7047\n",
            "Epoch 106/300\n",
            "73/73 [==============================] - 0s 2ms/step - loss: 0.4662 - recall: 0.7603 - val_loss: 0.4835 - val_recall: 0.7441\n",
            "Epoch 107/300\n",
            "73/73 [==============================] - 0s 2ms/step - loss: 0.4660 - recall: 0.7651 - val_loss: 0.4262 - val_recall: 0.6929\n",
            "Epoch 108/300\n",
            "73/73 [==============================] - 0s 3ms/step - loss: 0.4675 - recall: 0.7603 - val_loss: 0.4528 - val_recall: 0.7205\n",
            "Epoch 109/300\n",
            "73/73 [==============================] - 0s 2ms/step - loss: 0.4654 - recall: 0.7617 - val_loss: 0.4561 - val_recall: 0.7323\n",
            "Epoch 110/300\n",
            "73/73 [==============================] - 0s 3ms/step - loss: 0.4661 - recall: 0.7536 - val_loss: 0.4611 - val_recall: 0.7244\n",
            "Epoch 111/300\n",
            "73/73 [==============================] - 0s 3ms/step - loss: 0.4651 - recall: 0.7617 - val_loss: 0.4928 - val_recall: 0.7480\n",
            "Epoch 112/300\n",
            "73/73 [==============================] - 0s 2ms/step - loss: 0.4661 - recall: 0.7630 - val_loss: 0.4536 - val_recall: 0.7047\n",
            "Epoch 113/300\n",
            "73/73 [==============================] - 0s 3ms/step - loss: 0.4657 - recall: 0.7583 - val_loss: 0.4420 - val_recall: 0.7087\n",
            "Epoch 114/300\n",
            "73/73 [==============================] - 0s 2ms/step - loss: 0.4646 - recall: 0.7583 - val_loss: 0.4566 - val_recall: 0.7244\n",
            "Epoch 115/300\n",
            "73/73 [==============================] - 0s 3ms/step - loss: 0.4667 - recall: 0.7542 - val_loss: 0.4280 - val_recall: 0.7008\n",
            "Epoch 116/300\n",
            "73/73 [==============================] - 0s 2ms/step - loss: 0.4643 - recall: 0.7644 - val_loss: 0.4984 - val_recall: 0.7480\n",
            "Epoch 117/300\n",
            "73/73 [==============================] - 0s 3ms/step - loss: 0.4649 - recall: 0.7657 - val_loss: 0.4294 - val_recall: 0.6969\n",
            "Epoch 118/300\n",
            "73/73 [==============================] - 0s 2ms/step - loss: 0.4642 - recall: 0.7664 - val_loss: 0.4998 - val_recall: 0.7441\n",
            "Epoch 119/300\n",
            "73/73 [==============================] - 0s 3ms/step - loss: 0.4639 - recall: 0.7678 - val_loss: 0.4728 - val_recall: 0.7323\n",
            "Epoch 120/300\n",
            "73/73 [==============================] - 0s 2ms/step - loss: 0.4633 - recall: 0.7725 - val_loss: 0.4312 - val_recall: 0.6969\n",
            "Epoch 121/300\n",
            "73/73 [==============================] - 0s 2ms/step - loss: 0.4641 - recall: 0.7569 - val_loss: 0.4713 - val_recall: 0.7244\n",
            "Epoch 122/300\n",
            "73/73 [==============================] - 0s 2ms/step - loss: 0.4655 - recall: 0.7542 - val_loss: 0.4813 - val_recall: 0.7362\n",
            "Epoch 123/300\n",
            "73/73 [==============================] - 0s 2ms/step - loss: 0.4635 - recall: 0.7678 - val_loss: 0.4419 - val_recall: 0.7047\n",
            "Epoch 124/300\n",
            "73/73 [==============================] - 0s 3ms/step - loss: 0.4648 - recall: 0.7549 - val_loss: 0.4712 - val_recall: 0.7283\n",
            "Epoch 125/300\n",
            "73/73 [==============================] - 0s 2ms/step - loss: 0.4637 - recall: 0.7637 - val_loss: 0.4694 - val_recall: 0.7244\n",
            "Epoch 126/300\n",
            "73/73 [==============================] - 0s 3ms/step - loss: 0.4634 - recall: 0.7603 - val_loss: 0.4344 - val_recall: 0.7087\n",
            "Epoch 127/300\n",
            "73/73 [==============================] - 0s 3ms/step - loss: 0.4635 - recall: 0.7583 - val_loss: 0.4711 - val_recall: 0.7244\n",
            "Epoch 128/300\n",
            "73/73 [==============================] - 0s 3ms/step - loss: 0.4611 - recall: 0.7651 - val_loss: 0.4188 - val_recall: 0.6929\n",
            "Epoch 129/300\n",
            "73/73 [==============================] - 0s 3ms/step - loss: 0.4636 - recall: 0.7698 - val_loss: 0.4936 - val_recall: 0.7480\n",
            "Epoch 130/300\n",
            "73/73 [==============================] - 0s 3ms/step - loss: 0.4618 - recall: 0.7725 - val_loss: 0.4089 - val_recall: 0.6732\n",
            "Epoch 131/300\n",
            "73/73 [==============================] - 0s 2ms/step - loss: 0.4631 - recall: 0.7705 - val_loss: 0.4320 - val_recall: 0.7008\n",
            "Epoch 132/300\n",
            "73/73 [==============================] - 0s 2ms/step - loss: 0.4631 - recall: 0.7596 - val_loss: 0.4781 - val_recall: 0.7402\n",
            "Epoch 133/300\n",
            "73/73 [==============================] - 0s 3ms/step - loss: 0.4604 - recall: 0.7684 - val_loss: 0.4489 - val_recall: 0.7165\n",
            "Epoch 134/300\n",
            "73/73 [==============================] - 0s 3ms/step - loss: 0.4624 - recall: 0.7651 - val_loss: 0.4295 - val_recall: 0.6969\n",
            "Epoch 135/300\n",
            "73/73 [==============================] - 0s 3ms/step - loss: 0.4619 - recall: 0.7644 - val_loss: 0.4813 - val_recall: 0.7441\n",
            "Epoch 136/300\n",
            "73/73 [==============================] - 0s 2ms/step - loss: 0.4612 - recall: 0.7637 - val_loss: 0.4478 - val_recall: 0.7244\n",
            "Epoch 137/300\n",
            "73/73 [==============================] - 0s 3ms/step - loss: 0.4617 - recall: 0.7651 - val_loss: 0.4625 - val_recall: 0.7244\n",
            "Epoch 138/300\n",
            "73/73 [==============================] - 0s 2ms/step - loss: 0.4615 - recall: 0.7725 - val_loss: 0.4039 - val_recall: 0.6732\n",
            "Epoch 139/300\n",
            "73/73 [==============================] - 0s 3ms/step - loss: 0.4642 - recall: 0.7732 - val_loss: 0.4480 - val_recall: 0.7126\n",
            "Epoch 140/300\n",
            "73/73 [==============================] - 0s 2ms/step - loss: 0.4607 - recall: 0.7684 - val_loss: 0.4613 - val_recall: 0.7087\n",
            "Epoch 141/300\n",
            "73/73 [==============================] - 0s 3ms/step - loss: 0.4614 - recall: 0.7610 - val_loss: 0.4548 - val_recall: 0.7283\n",
            "Epoch 142/300\n",
            "73/73 [==============================] - 0s 2ms/step - loss: 0.4617 - recall: 0.7603 - val_loss: 0.5135 - val_recall: 0.7598\n",
            "Epoch 143/300\n",
            "73/73 [==============================] - 0s 3ms/step - loss: 0.4613 - recall: 0.7610 - val_loss: 0.4532 - val_recall: 0.7244\n",
            "Epoch 144/300\n",
            "73/73 [==============================] - 0s 2ms/step - loss: 0.4610 - recall: 0.7664 - val_loss: 0.5166 - val_recall: 0.7559\n",
            "Epoch 145/300\n",
            "73/73 [==============================] - 0s 3ms/step - loss: 0.4606 - recall: 0.7759 - val_loss: 0.4494 - val_recall: 0.7165\n",
            "Epoch 146/300\n",
            "73/73 [==============================] - 0s 2ms/step - loss: 0.4599 - recall: 0.7766 - val_loss: 0.4491 - val_recall: 0.7323\n",
            "Epoch 147/300\n",
            "73/73 [==============================] - 0s 2ms/step - loss: 0.4605 - recall: 0.7678 - val_loss: 0.4277 - val_recall: 0.6969\n",
            "Epoch 148/300\n",
            "73/73 [==============================] - 0s 3ms/step - loss: 0.4593 - recall: 0.7624 - val_loss: 0.4619 - val_recall: 0.7362\n",
            "Epoch 149/300\n",
            "73/73 [==============================] - 0s 3ms/step - loss: 0.4623 - recall: 0.7556 - val_loss: 0.5132 - val_recall: 0.7559\n",
            "Epoch 150/300\n",
            "73/73 [==============================] - 0s 3ms/step - loss: 0.4603 - recall: 0.7651 - val_loss: 0.4177 - val_recall: 0.6969\n",
            "Epoch 151/300\n",
            "73/73 [==============================] - 0s 3ms/step - loss: 0.4596 - recall: 0.7644 - val_loss: 0.4364 - val_recall: 0.7087\n",
            "Epoch 152/300\n",
            "73/73 [==============================] - 0s 3ms/step - loss: 0.4596 - recall: 0.7664 - val_loss: 0.5090 - val_recall: 0.7559\n",
            "Epoch 153/300\n",
            "73/73 [==============================] - 0s 2ms/step - loss: 0.4599 - recall: 0.7624 - val_loss: 0.5082 - val_recall: 0.7598\n",
            "Epoch 154/300\n",
            "73/73 [==============================] - 0s 3ms/step - loss: 0.4606 - recall: 0.7603 - val_loss: 0.4420 - val_recall: 0.7126\n",
            "Epoch 155/300\n",
            "73/73 [==============================] - 0s 3ms/step - loss: 0.4603 - recall: 0.7542 - val_loss: 0.4878 - val_recall: 0.7402\n",
            "Epoch 156/300\n",
            "73/73 [==============================] - 0s 2ms/step - loss: 0.4587 - recall: 0.7705 - val_loss: 0.4024 - val_recall: 0.6614\n",
            "Epoch 157/300\n",
            "73/73 [==============================] - 0s 2ms/step - loss: 0.4609 - recall: 0.7624 - val_loss: 0.4938 - val_recall: 0.7520\n",
            "Epoch 158/300\n",
            "73/73 [==============================] - 0s 2ms/step - loss: 0.4603 - recall: 0.7691 - val_loss: 0.4598 - val_recall: 0.7244\n",
            "Epoch 159/300\n",
            "73/73 [==============================] - 0s 2ms/step - loss: 0.4604 - recall: 0.7569 - val_loss: 0.4896 - val_recall: 0.7441\n",
            "Epoch 160/300\n",
            "73/73 [==============================] - 0s 3ms/step - loss: 0.4595 - recall: 0.7766 - val_loss: 0.4402 - val_recall: 0.7165\n",
            "Epoch 161/300\n",
            "73/73 [==============================] - 0s 3ms/step - loss: 0.4617 - recall: 0.7691 - val_loss: 0.4678 - val_recall: 0.7244\n",
            "Epoch 162/300\n",
            "73/73 [==============================] - 0s 2ms/step - loss: 0.4582 - recall: 0.7657 - val_loss: 0.4852 - val_recall: 0.7441\n",
            "Epoch 163/300\n",
            "73/73 [==============================] - 0s 2ms/step - loss: 0.4591 - recall: 0.7651 - val_loss: 0.4252 - val_recall: 0.6811\n",
            "Epoch 164/300\n",
            "73/73 [==============================] - 0s 2ms/step - loss: 0.4592 - recall: 0.7691 - val_loss: 0.4182 - val_recall: 0.6890\n",
            "Epoch 165/300\n",
            "73/73 [==============================] - 0s 2ms/step - loss: 0.4573 - recall: 0.7718 - val_loss: 0.3982 - val_recall: 0.6496\n",
            "Epoch 166/300\n",
            "73/73 [==============================] - 0s 3ms/step - loss: 0.4631 - recall: 0.7448 - val_loss: 0.5438 - val_recall: 0.7795\n",
            "Epoch 167/300\n",
            "73/73 [==============================] - 0s 2ms/step - loss: 0.4597 - recall: 0.7624 - val_loss: 0.4557 - val_recall: 0.7323\n",
            "Epoch 168/300\n",
            "73/73 [==============================] - 0s 2ms/step - loss: 0.4581 - recall: 0.7691 - val_loss: 0.4717 - val_recall: 0.7362\n",
            "Epoch 169/300\n",
            "73/73 [==============================] - 0s 3ms/step - loss: 0.4586 - recall: 0.7637 - val_loss: 0.4399 - val_recall: 0.7008\n",
            "Epoch 170/300\n",
            "73/73 [==============================] - 0s 2ms/step - loss: 0.4581 - recall: 0.7651 - val_loss: 0.4920 - val_recall: 0.7441\n",
            "Epoch 171/300\n",
            "73/73 [==============================] - 0s 2ms/step - loss: 0.4586 - recall: 0.7678 - val_loss: 0.4803 - val_recall: 0.7323\n",
            "Epoch 172/300\n",
            "73/73 [==============================] - 0s 2ms/step - loss: 0.4594 - recall: 0.7637 - val_loss: 0.4672 - val_recall: 0.7205\n",
            "Epoch 173/300\n",
            "73/73 [==============================] - 0s 3ms/step - loss: 0.4603 - recall: 0.7671 - val_loss: 0.4427 - val_recall: 0.7165\n",
            "Epoch 174/300\n",
            "73/73 [==============================] - 0s 3ms/step - loss: 0.4601 - recall: 0.7664 - val_loss: 0.4270 - val_recall: 0.6929\n",
            "Epoch 175/300\n",
            "73/73 [==============================] - 0s 2ms/step - loss: 0.4615 - recall: 0.7678 - val_loss: 0.4843 - val_recall: 0.7441\n",
            "Epoch 176/300\n",
            "73/73 [==============================] - 0s 3ms/step - loss: 0.4601 - recall: 0.7563 - val_loss: 0.4807 - val_recall: 0.7402\n",
            "Epoch 177/300\n",
            "73/73 [==============================] - 0s 2ms/step - loss: 0.4594 - recall: 0.7732 - val_loss: 0.4584 - val_recall: 0.7244\n",
            "Epoch 178/300\n",
            "73/73 [==============================] - 0s 3ms/step - loss: 0.4577 - recall: 0.7637 - val_loss: 0.5031 - val_recall: 0.7480\n",
            "Epoch 179/300\n",
            "73/73 [==============================] - 0s 2ms/step - loss: 0.4600 - recall: 0.7630 - val_loss: 0.4324 - val_recall: 0.7126\n",
            "Epoch 180/300\n",
            "73/73 [==============================] - 0s 2ms/step - loss: 0.4603 - recall: 0.7684 - val_loss: 0.4143 - val_recall: 0.6811\n",
            "Epoch 181/300\n",
            "73/73 [==============================] - 0s 2ms/step - loss: 0.4594 - recall: 0.7637 - val_loss: 0.4516 - val_recall: 0.7205\n",
            "Epoch 182/300\n",
            "73/73 [==============================] - 0s 3ms/step - loss: 0.4627 - recall: 0.7542 - val_loss: 0.4084 - val_recall: 0.6654\n",
            "Epoch 183/300\n",
            "73/73 [==============================] - 0s 2ms/step - loss: 0.4582 - recall: 0.7739 - val_loss: 0.4687 - val_recall: 0.7283\n",
            "Epoch 184/300\n",
            "73/73 [==============================] - 0s 2ms/step - loss: 0.4591 - recall: 0.7610 - val_loss: 0.4223 - val_recall: 0.6850\n",
            "Epoch 185/300\n",
            "73/73 [==============================] - 0s 3ms/step - loss: 0.4594 - recall: 0.7583 - val_loss: 0.4728 - val_recall: 0.7283\n",
            "Epoch 186/300\n",
            "73/73 [==============================] - 0s 3ms/step - loss: 0.4577 - recall: 0.7752 - val_loss: 0.5202 - val_recall: 0.7638\n",
            "Epoch 187/300\n",
            "73/73 [==============================] - 0s 3ms/step - loss: 0.4587 - recall: 0.7657 - val_loss: 0.4366 - val_recall: 0.7087\n",
            "Epoch 188/300\n",
            "73/73 [==============================] - 0s 3ms/step - loss: 0.4568 - recall: 0.7752 - val_loss: 0.4275 - val_recall: 0.6850\n",
            "Epoch 189/300\n",
            "73/73 [==============================] - 0s 2ms/step - loss: 0.4579 - recall: 0.7678 - val_loss: 0.4605 - val_recall: 0.7244\n",
            "Epoch 190/300\n",
            "73/73 [==============================] - 0s 2ms/step - loss: 0.4562 - recall: 0.7651 - val_loss: 0.4095 - val_recall: 0.6772\n",
            "Epoch 191/300\n",
            "73/73 [==============================] - 0s 2ms/step - loss: 0.4584 - recall: 0.7651 - val_loss: 0.5041 - val_recall: 0.7520\n",
            "Epoch 192/300\n",
            "73/73 [==============================] - 0s 3ms/step - loss: 0.4580 - recall: 0.7718 - val_loss: 0.4348 - val_recall: 0.7008\n",
            "Epoch 193/300\n",
            "73/73 [==============================] - 0s 2ms/step - loss: 0.4564 - recall: 0.7651 - val_loss: 0.5017 - val_recall: 0.7480\n",
            "Epoch 194/300\n",
            "73/73 [==============================] - 0s 3ms/step - loss: 0.4577 - recall: 0.7712 - val_loss: 0.4661 - val_recall: 0.7362\n",
            "Epoch 195/300\n",
            "73/73 [==============================] - 0s 2ms/step - loss: 0.4584 - recall: 0.7603 - val_loss: 0.4450 - val_recall: 0.7165\n",
            "Epoch 196/300\n",
            "73/73 [==============================] - 0s 3ms/step - loss: 0.4566 - recall: 0.7664 - val_loss: 0.4614 - val_recall: 0.7402\n",
            "Epoch 197/300\n",
            "73/73 [==============================] - 0s 3ms/step - loss: 0.4568 - recall: 0.7759 - val_loss: 0.4925 - val_recall: 0.7402\n",
            "Epoch 198/300\n",
            "73/73 [==============================] - 0s 2ms/step - loss: 0.4562 - recall: 0.7712 - val_loss: 0.4759 - val_recall: 0.7362\n",
            "Epoch 199/300\n",
            "73/73 [==============================] - 0s 3ms/step - loss: 0.4566 - recall: 0.7712 - val_loss: 0.4461 - val_recall: 0.7165\n",
            "Epoch 200/300\n",
            "73/73 [==============================] - 0s 3ms/step - loss: 0.4592 - recall: 0.7698 - val_loss: 0.4186 - val_recall: 0.6850\n",
            "Epoch 201/300\n",
            "73/73 [==============================] - 0s 3ms/step - loss: 0.4575 - recall: 0.7718 - val_loss: 0.4119 - val_recall: 0.6732\n",
            "Epoch 202/300\n",
            "73/73 [==============================] - 0s 3ms/step - loss: 0.4573 - recall: 0.7732 - val_loss: 0.4210 - val_recall: 0.6890\n",
            "Epoch 203/300\n",
            "73/73 [==============================] - 0s 3ms/step - loss: 0.4576 - recall: 0.7651 - val_loss: 0.4363 - val_recall: 0.7047\n",
            "Epoch 204/300\n",
            "73/73 [==============================] - 0s 2ms/step - loss: 0.4574 - recall: 0.7657 - val_loss: 0.4533 - val_recall: 0.7205\n",
            "Epoch 205/300\n",
            "73/73 [==============================] - 0s 3ms/step - loss: 0.4551 - recall: 0.7712 - val_loss: 0.4251 - val_recall: 0.6890\n",
            "Epoch 206/300\n",
            "73/73 [==============================] - 0s 3ms/step - loss: 0.4579 - recall: 0.7684 - val_loss: 0.4671 - val_recall: 0.7323\n",
            "Epoch 207/300\n",
            "73/73 [==============================] - 0s 3ms/step - loss: 0.4580 - recall: 0.7698 - val_loss: 0.4275 - val_recall: 0.6929\n",
            "Epoch 208/300\n",
            "73/73 [==============================] - 0s 2ms/step - loss: 0.4585 - recall: 0.7610 - val_loss: 0.4160 - val_recall: 0.6772\n",
            "Epoch 209/300\n",
            "73/73 [==============================] - 0s 2ms/step - loss: 0.4579 - recall: 0.7603 - val_loss: 0.4522 - val_recall: 0.7244\n",
            "Epoch 210/300\n",
            "73/73 [==============================] - 0s 3ms/step - loss: 0.4557 - recall: 0.7739 - val_loss: 0.4271 - val_recall: 0.6890\n",
            "Epoch 211/300\n",
            "73/73 [==============================] - 0s 2ms/step - loss: 0.4566 - recall: 0.7752 - val_loss: 0.4393 - val_recall: 0.7047\n",
            "Epoch 212/300\n",
            "73/73 [==============================] - 0s 2ms/step - loss: 0.4570 - recall: 0.7651 - val_loss: 0.4316 - val_recall: 0.7008\n",
            "Epoch 213/300\n",
            "73/73 [==============================] - 0s 3ms/step - loss: 0.4607 - recall: 0.7651 - val_loss: 0.4731 - val_recall: 0.7323\n",
            "Epoch 214/300\n",
            "73/73 [==============================] - 0s 2ms/step - loss: 0.4563 - recall: 0.7786 - val_loss: 0.4134 - val_recall: 0.6772\n",
            "Epoch 215/300\n",
            "73/73 [==============================] - 0s 2ms/step - loss: 0.4581 - recall: 0.7576 - val_loss: 0.4482 - val_recall: 0.7244\n",
            "Epoch 216/300\n",
            "73/73 [==============================] - 0s 2ms/step - loss: 0.4573 - recall: 0.7678 - val_loss: 0.4326 - val_recall: 0.7047\n",
            "Epoch 217/300\n",
            "73/73 [==============================] - 0s 3ms/step - loss: 0.4567 - recall: 0.7671 - val_loss: 0.4494 - val_recall: 0.7244\n",
            "Epoch 218/300\n",
            "73/73 [==============================] - 0s 3ms/step - loss: 0.4594 - recall: 0.7712 - val_loss: 0.4536 - val_recall: 0.7126\n",
            "Epoch 219/300\n",
            "73/73 [==============================] - 0s 3ms/step - loss: 0.4581 - recall: 0.7590 - val_loss: 0.4878 - val_recall: 0.7441\n",
            "Epoch 220/300\n",
            "73/73 [==============================] - 0s 3ms/step - loss: 0.4602 - recall: 0.7624 - val_loss: 0.4603 - val_recall: 0.7244\n",
            "Epoch 221/300\n",
            "73/73 [==============================] - 0s 3ms/step - loss: 0.4563 - recall: 0.7671 - val_loss: 0.4702 - val_recall: 0.7441\n",
            "Epoch 222/300\n",
            "73/73 [==============================] - 0s 2ms/step - loss: 0.4577 - recall: 0.7583 - val_loss: 0.5210 - val_recall: 0.7598\n",
            "Epoch 223/300\n",
            "73/73 [==============================] - 0s 3ms/step - loss: 0.4580 - recall: 0.7684 - val_loss: 0.4542 - val_recall: 0.7244\n",
            "Epoch 224/300\n",
            "73/73 [==============================] - 0s 3ms/step - loss: 0.4561 - recall: 0.7691 - val_loss: 0.4422 - val_recall: 0.7087\n",
            "Epoch 225/300\n",
            "73/73 [==============================] - 0s 2ms/step - loss: 0.4566 - recall: 0.7718 - val_loss: 0.4447 - val_recall: 0.7087\n",
            "Epoch 226/300\n",
            "73/73 [==============================] - 0s 2ms/step - loss: 0.4560 - recall: 0.7732 - val_loss: 0.4095 - val_recall: 0.6850\n",
            "Epoch 227/300\n",
            "73/73 [==============================] - 0s 3ms/step - loss: 0.4566 - recall: 0.7664 - val_loss: 0.5171 - val_recall: 0.7638\n",
            "Epoch 228/300\n",
            "73/73 [==============================] - 0s 2ms/step - loss: 0.4558 - recall: 0.7712 - val_loss: 0.4742 - val_recall: 0.7402\n",
            "Epoch 229/300\n",
            "73/73 [==============================] - 0s 2ms/step - loss: 0.4565 - recall: 0.7698 - val_loss: 0.4461 - val_recall: 0.7087\n",
            "Epoch 230/300\n",
            "73/73 [==============================] - 0s 3ms/step - loss: 0.4554 - recall: 0.7664 - val_loss: 0.4626 - val_recall: 0.7323\n",
            "Epoch 231/300\n",
            "73/73 [==============================] - 0s 3ms/step - loss: 0.4562 - recall: 0.7725 - val_loss: 0.4405 - val_recall: 0.7126\n",
            "Epoch 232/300\n",
            "73/73 [==============================] - 0s 3ms/step - loss: 0.4572 - recall: 0.7671 - val_loss: 0.4831 - val_recall: 0.7283\n",
            "Epoch 233/300\n",
            "73/73 [==============================] - 0s 2ms/step - loss: 0.4560 - recall: 0.7718 - val_loss: 0.4481 - val_recall: 0.7165\n",
            "Epoch 234/300\n",
            "73/73 [==============================] - 0s 3ms/step - loss: 0.4608 - recall: 0.7671 - val_loss: 0.4067 - val_recall: 0.6614\n",
            "Epoch 235/300\n",
            "73/73 [==============================] - 0s 2ms/step - loss: 0.4560 - recall: 0.7583 - val_loss: 0.4463 - val_recall: 0.7087\n",
            "Epoch 236/300\n",
            "73/73 [==============================] - 0s 3ms/step - loss: 0.4562 - recall: 0.7698 - val_loss: 0.4627 - val_recall: 0.7323\n",
            "Epoch 237/300\n",
            "73/73 [==============================] - 0s 2ms/step - loss: 0.4560 - recall: 0.7691 - val_loss: 0.4677 - val_recall: 0.7323\n",
            "Epoch 238/300\n",
            "73/73 [==============================] - 0s 3ms/step - loss: 0.4559 - recall: 0.7698 - val_loss: 0.4368 - val_recall: 0.7087\n",
            "Epoch 239/300\n",
            "73/73 [==============================] - 0s 3ms/step - loss: 0.4555 - recall: 0.7617 - val_loss: 0.4874 - val_recall: 0.7441\n",
            "Epoch 240/300\n",
            "73/73 [==============================] - 0s 3ms/step - loss: 0.4568 - recall: 0.7691 - val_loss: 0.4217 - val_recall: 0.6969\n",
            "Epoch 241/300\n",
            "73/73 [==============================] - 0s 3ms/step - loss: 0.4543 - recall: 0.7712 - val_loss: 0.4619 - val_recall: 0.7205\n",
            "Epoch 242/300\n",
            "73/73 [==============================] - 0s 2ms/step - loss: 0.4558 - recall: 0.7684 - val_loss: 0.4749 - val_recall: 0.7402\n",
            "Epoch 243/300\n",
            "73/73 [==============================] - 0s 2ms/step - loss: 0.4550 - recall: 0.7725 - val_loss: 0.4287 - val_recall: 0.7008\n",
            "Epoch 244/300\n",
            "73/73 [==============================] - 0s 3ms/step - loss: 0.4580 - recall: 0.7624 - val_loss: 0.4205 - val_recall: 0.6890\n",
            "Epoch 245/300\n",
            "73/73 [==============================] - 0s 2ms/step - loss: 0.4554 - recall: 0.7664 - val_loss: 0.5041 - val_recall: 0.7520\n",
            "Epoch 246/300\n",
            "73/73 [==============================] - 0s 3ms/step - loss: 0.4574 - recall: 0.7610 - val_loss: 0.4574 - val_recall: 0.7165\n",
            "Epoch 247/300\n",
            "73/73 [==============================] - 0s 3ms/step - loss: 0.4552 - recall: 0.7698 - val_loss: 0.4748 - val_recall: 0.7283\n",
            "Epoch 248/300\n",
            "73/73 [==============================] - 0s 2ms/step - loss: 0.4556 - recall: 0.7664 - val_loss: 0.4403 - val_recall: 0.7126\n",
            "Epoch 249/300\n",
            "73/73 [==============================] - 0s 3ms/step - loss: 0.4593 - recall: 0.7508 - val_loss: 0.4495 - val_recall: 0.7087\n",
            "Epoch 250/300\n",
            "73/73 [==============================] - 0s 3ms/step - loss: 0.4544 - recall: 0.7773 - val_loss: 0.4274 - val_recall: 0.6969\n",
            "Epoch 251/300\n",
            "73/73 [==============================] - 0s 2ms/step - loss: 0.4558 - recall: 0.7793 - val_loss: 0.4559 - val_recall: 0.7165\n",
            "Epoch 252/300\n",
            "73/73 [==============================] - 0s 2ms/step - loss: 0.4595 - recall: 0.7576 - val_loss: 0.4581 - val_recall: 0.7126\n",
            "Epoch 253/300\n",
            "73/73 [==============================] - 0s 3ms/step - loss: 0.4574 - recall: 0.7644 - val_loss: 0.4649 - val_recall: 0.7323\n",
            "Epoch 254/300\n",
            "73/73 [==============================] - 0s 3ms/step - loss: 0.4568 - recall: 0.7630 - val_loss: 0.4695 - val_recall: 0.7323\n",
            "Epoch 255/300\n",
            "73/73 [==============================] - 0s 2ms/step - loss: 0.4550 - recall: 0.7678 - val_loss: 0.4112 - val_recall: 0.6811\n",
            "Epoch 256/300\n",
            "73/73 [==============================] - 0s 3ms/step - loss: 0.4560 - recall: 0.7678 - val_loss: 0.4486 - val_recall: 0.7165\n",
            "Epoch 257/300\n",
            "73/73 [==============================] - 0s 3ms/step - loss: 0.4551 - recall: 0.7759 - val_loss: 0.4468 - val_recall: 0.7205\n",
            "Epoch 258/300\n",
            "73/73 [==============================] - 0s 3ms/step - loss: 0.4555 - recall: 0.7712 - val_loss: 0.4183 - val_recall: 0.6850\n",
            "Epoch 259/300\n",
            "73/73 [==============================] - 0s 3ms/step - loss: 0.4548 - recall: 0.7664 - val_loss: 0.4622 - val_recall: 0.7283\n",
            "Epoch 260/300\n",
            "73/73 [==============================] - 0s 2ms/step - loss: 0.4557 - recall: 0.7610 - val_loss: 0.4467 - val_recall: 0.7087\n",
            "Epoch 261/300\n",
            "73/73 [==============================] - 0s 3ms/step - loss: 0.4569 - recall: 0.7630 - val_loss: 0.4121 - val_recall: 0.6732\n",
            "Epoch 262/300\n",
            "73/73 [==============================] - 0s 2ms/step - loss: 0.4546 - recall: 0.7563 - val_loss: 0.4664 - val_recall: 0.7283\n",
            "Epoch 263/300\n",
            "73/73 [==============================] - 0s 3ms/step - loss: 0.4542 - recall: 0.7773 - val_loss: 0.4545 - val_recall: 0.7244\n",
            "Epoch 264/300\n",
            "73/73 [==============================] - 0s 3ms/step - loss: 0.4553 - recall: 0.7651 - val_loss: 0.4556 - val_recall: 0.7244\n",
            "Epoch 265/300\n",
            "73/73 [==============================] - 0s 2ms/step - loss: 0.4536 - recall: 0.7732 - val_loss: 0.4623 - val_recall: 0.7283\n",
            "Epoch 266/300\n",
            "73/73 [==============================] - 0s 3ms/step - loss: 0.4559 - recall: 0.7617 - val_loss: 0.4723 - val_recall: 0.7205\n",
            "Epoch 267/300\n",
            "73/73 [==============================] - 0s 2ms/step - loss: 0.4548 - recall: 0.7705 - val_loss: 0.4339 - val_recall: 0.7008\n",
            "Epoch 268/300\n",
            "73/73 [==============================] - 0s 3ms/step - loss: 0.4549 - recall: 0.7664 - val_loss: 0.4340 - val_recall: 0.7008\n",
            "Epoch 269/300\n",
            "73/73 [==============================] - 0s 3ms/step - loss: 0.4553 - recall: 0.7684 - val_loss: 0.4471 - val_recall: 0.7205\n",
            "Epoch 270/300\n",
            "73/73 [==============================] - 0s 2ms/step - loss: 0.4553 - recall: 0.7678 - val_loss: 0.4268 - val_recall: 0.6890\n",
            "Epoch 271/300\n",
            "73/73 [==============================] - 0s 5ms/step - loss: 0.4557 - recall: 0.7664 - val_loss: 0.4807 - val_recall: 0.7323\n",
            "Epoch 272/300\n",
            "73/73 [==============================] - 0s 5ms/step - loss: 0.4552 - recall: 0.7705 - val_loss: 0.4065 - val_recall: 0.6693\n",
            "Epoch 273/300\n",
            "73/73 [==============================] - 0s 6ms/step - loss: 0.4544 - recall: 0.7678 - val_loss: 0.4297 - val_recall: 0.7008\n",
            "Epoch 274/300\n",
            "73/73 [==============================] - 0s 5ms/step - loss: 0.4579 - recall: 0.7739 - val_loss: 0.4648 - val_recall: 0.7165\n",
            "Epoch 275/300\n",
            "73/73 [==============================] - 0s 4ms/step - loss: 0.4549 - recall: 0.7705 - val_loss: 0.4557 - val_recall: 0.7205\n",
            "Epoch 276/300\n",
            "73/73 [==============================] - 0s 5ms/step - loss: 0.4549 - recall: 0.7671 - val_loss: 0.4295 - val_recall: 0.6890\n",
            "Epoch 277/300\n",
            "73/73 [==============================] - 0s 6ms/step - loss: 0.4564 - recall: 0.7678 - val_loss: 0.4315 - val_recall: 0.6969\n",
            "Epoch 278/300\n",
            "73/73 [==============================] - 0s 5ms/step - loss: 0.4550 - recall: 0.7644 - val_loss: 0.4485 - val_recall: 0.7205\n",
            "Epoch 279/300\n",
            "73/73 [==============================] - 0s 5ms/step - loss: 0.4546 - recall: 0.7732 - val_loss: 0.4659 - val_recall: 0.7244\n",
            "Epoch 280/300\n",
            "73/73 [==============================] - 0s 4ms/step - loss: 0.4583 - recall: 0.7678 - val_loss: 0.4992 - val_recall: 0.7441\n",
            "Epoch 281/300\n",
            "73/73 [==============================] - 0s 5ms/step - loss: 0.4547 - recall: 0.7712 - val_loss: 0.4289 - val_recall: 0.6850\n",
            "Epoch 282/300\n",
            "73/73 [==============================] - 0s 5ms/step - loss: 0.4541 - recall: 0.7610 - val_loss: 0.4630 - val_recall: 0.7244\n",
            "Epoch 283/300\n",
            "73/73 [==============================] - 0s 5ms/step - loss: 0.4567 - recall: 0.7705 - val_loss: 0.5363 - val_recall: 0.7835\n",
            "Epoch 284/300\n",
            "73/73 [==============================] - 0s 5ms/step - loss: 0.4556 - recall: 0.7732 - val_loss: 0.4103 - val_recall: 0.6732\n",
            "Epoch 285/300\n",
            "73/73 [==============================] - 0s 6ms/step - loss: 0.4533 - recall: 0.7624 - val_loss: 0.4427 - val_recall: 0.7047\n",
            "Epoch 286/300\n",
            "73/73 [==============================] - 1s 9ms/step - loss: 0.4548 - recall: 0.7664 - val_loss: 0.4916 - val_recall: 0.7441\n",
            "Epoch 287/300\n",
            "73/73 [==============================] - 0s 4ms/step - loss: 0.4538 - recall: 0.7725 - val_loss: 0.4455 - val_recall: 0.7126\n",
            "Epoch 288/300\n",
            "73/73 [==============================] - 0s 2ms/step - loss: 0.4541 - recall: 0.7678 - val_loss: 0.4347 - val_recall: 0.6929\n",
            "Epoch 289/300\n",
            "73/73 [==============================] - 0s 3ms/step - loss: 0.4555 - recall: 0.7624 - val_loss: 0.5249 - val_recall: 0.7756\n",
            "Epoch 290/300\n",
            "73/73 [==============================] - 0s 3ms/step - loss: 0.4547 - recall: 0.7800 - val_loss: 0.4565 - val_recall: 0.7205\n",
            "Epoch 291/300\n",
            "73/73 [==============================] - 0s 3ms/step - loss: 0.4542 - recall: 0.7678 - val_loss: 0.4828 - val_recall: 0.7362\n",
            "Epoch 292/300\n",
            "73/73 [==============================] - 0s 3ms/step - loss: 0.4560 - recall: 0.7732 - val_loss: 0.4652 - val_recall: 0.7165\n",
            "Epoch 293/300\n",
            "73/73 [==============================] - 0s 3ms/step - loss: 0.4550 - recall: 0.7725 - val_loss: 0.4473 - val_recall: 0.7047\n",
            "Epoch 294/300\n",
            "73/73 [==============================] - 0s 3ms/step - loss: 0.4570 - recall: 0.7590 - val_loss: 0.4959 - val_recall: 0.7441\n",
            "Epoch 295/300\n",
            "73/73 [==============================] - 0s 3ms/step - loss: 0.4546 - recall: 0.7745 - val_loss: 0.4474 - val_recall: 0.7165\n",
            "Epoch 296/300\n",
            "73/73 [==============================] - 0s 2ms/step - loss: 0.4546 - recall: 0.7542 - val_loss: 0.4850 - val_recall: 0.7441\n",
            "Epoch 297/300\n",
            "73/73 [==============================] - 0s 3ms/step - loss: 0.4547 - recall: 0.7671 - val_loss: 0.5239 - val_recall: 0.7717\n",
            "Epoch 298/300\n",
            "73/73 [==============================] - 0s 3ms/step - loss: 0.4554 - recall: 0.7630 - val_loss: 0.4929 - val_recall: 0.7520\n",
            "Epoch 299/300\n",
            "73/73 [==============================] - 0s 3ms/step - loss: 0.4544 - recall: 0.7732 - val_loss: 0.4152 - val_recall: 0.6772\n",
            "Epoch 300/300\n",
            "73/73 [==============================] - 0s 2ms/step - loss: 0.4542 - recall: 0.7657 - val_loss: 0.4856 - val_recall: 0.7402\n"
          ]
        },
        {
          "output_type": "execute_result",
          "data": {
            "text/plain": [
              "<keras.callbacks.History at 0x7fa63842e4d0>"
            ]
          },
          "metadata": {},
          "execution_count": 86
        }
      ]
    },
    {
      "cell_type": "code",
      "source": [
        ""
      ],
      "metadata": {
        "id": "tVCqJlo6vUA7"
      },
      "execution_count": 86,
      "outputs": []
    },
    {
      "cell_type": "markdown",
      "metadata": {
        "id": "I2vRsBeC6QO7"
      },
      "source": [
        "### Evaluate The Model\n",
        "\n",
        "- Plot the model history to observe the changing of metrics\n",
        "- Make prediction to see \"confusion matrix\" and \"classification report\"\n",
        "- Check ROC (Receiver Operating Curve) and AUC (Area Under Curve) for the model"
      ]
    },
    {
      "cell_type": "code",
      "execution_count": 86,
      "metadata": {
        "id": "vvIjvgxL6QO7"
      },
      "outputs": [],
      "source": [
        ""
      ]
    },
    {
      "cell_type": "code",
      "execution_count": 87,
      "metadata": {
        "outputId": "21530928-140e-4f19-d065-f2cc4d0340ac",
        "colab": {
          "base_uri": "https://localhost:8080/"
        },
        "id": "5HvJGWsywqar"
      },
      "outputs": [
        {
          "output_type": "stream",
          "name": "stdout",
          "text": [
            "Model: \"sequential_3\"\n",
            "_________________________________________________________________\n",
            " Layer (type)                Output Shape              Param #   \n",
            "=================================================================\n",
            " dense_12 (Dense)            (None, 20)                240       \n",
            "                                                                 \n",
            " dense_13 (Dense)            (None, 10)                210       \n",
            "                                                                 \n",
            " dense_14 (Dense)            (None, 5)                 55        \n",
            "                                                                 \n",
            " dense_15 (Dense)            (None, 1)                 6         \n",
            "                                                                 \n",
            "=================================================================\n",
            "Total params: 511\n",
            "Trainable params: 511\n",
            "Non-trainable params: 0\n",
            "_________________________________________________________________\n"
          ]
        }
      ],
      "source": [
        "model.summary()"
      ]
    },
    {
      "cell_type": "code",
      "execution_count": 88,
      "metadata": {
        "outputId": "8da3a7e2-6a66-420b-fa3f-24fe966f9a0a",
        "colab": {
          "base_uri": "https://localhost:8080/",
          "height": 206
        },
        "id": "WxRxyejWwqa_"
      },
      "outputs": [
        {
          "output_type": "execute_result",
          "data": {
            "text/plain": [
              "   loss  recall  val_loss  val_recall\n",
              "0 0.688   0.691     0.657       0.528\n",
              "1 0.668   0.650     0.651       0.642\n",
              "2 0.646   0.703     0.647       0.673\n",
              "3 0.627   0.687     0.663       0.713\n",
              "4 0.610   0.706     0.605       0.598"
            ],
            "text/html": [
              "\n",
              "  <div id=\"df-1a111930-5f06-46b8-9b0e-19881e64b92f\">\n",
              "    <div class=\"colab-df-container\">\n",
              "      <div>\n",
              "<style scoped>\n",
              "    .dataframe tbody tr th:only-of-type {\n",
              "        vertical-align: middle;\n",
              "    }\n",
              "\n",
              "    .dataframe tbody tr th {\n",
              "        vertical-align: top;\n",
              "    }\n",
              "\n",
              "    .dataframe thead th {\n",
              "        text-align: right;\n",
              "    }\n",
              "</style>\n",
              "<table border=\"1\" class=\"dataframe\">\n",
              "  <thead>\n",
              "    <tr style=\"text-align: right;\">\n",
              "      <th></th>\n",
              "      <th>loss</th>\n",
              "      <th>recall</th>\n",
              "      <th>val_loss</th>\n",
              "      <th>val_recall</th>\n",
              "    </tr>\n",
              "  </thead>\n",
              "  <tbody>\n",
              "    <tr>\n",
              "      <th>0</th>\n",
              "      <td>0.688</td>\n",
              "      <td>0.691</td>\n",
              "      <td>0.657</td>\n",
              "      <td>0.528</td>\n",
              "    </tr>\n",
              "    <tr>\n",
              "      <th>1</th>\n",
              "      <td>0.668</td>\n",
              "      <td>0.650</td>\n",
              "      <td>0.651</td>\n",
              "      <td>0.642</td>\n",
              "    </tr>\n",
              "    <tr>\n",
              "      <th>2</th>\n",
              "      <td>0.646</td>\n",
              "      <td>0.703</td>\n",
              "      <td>0.647</td>\n",
              "      <td>0.673</td>\n",
              "    </tr>\n",
              "    <tr>\n",
              "      <th>3</th>\n",
              "      <td>0.627</td>\n",
              "      <td>0.687</td>\n",
              "      <td>0.663</td>\n",
              "      <td>0.713</td>\n",
              "    </tr>\n",
              "    <tr>\n",
              "      <th>4</th>\n",
              "      <td>0.610</td>\n",
              "      <td>0.706</td>\n",
              "      <td>0.605</td>\n",
              "      <td>0.598</td>\n",
              "    </tr>\n",
              "  </tbody>\n",
              "</table>\n",
              "</div>\n",
              "      <button class=\"colab-df-convert\" onclick=\"convertToInteractive('df-1a111930-5f06-46b8-9b0e-19881e64b92f')\"\n",
              "              title=\"Convert this dataframe to an interactive table.\"\n",
              "              style=\"display:none;\">\n",
              "        \n",
              "  <svg xmlns=\"http://www.w3.org/2000/svg\" height=\"24px\"viewBox=\"0 0 24 24\"\n",
              "       width=\"24px\">\n",
              "    <path d=\"M0 0h24v24H0V0z\" fill=\"none\"/>\n",
              "    <path d=\"M18.56 5.44l.94 2.06.94-2.06 2.06-.94-2.06-.94-.94-2.06-.94 2.06-2.06.94zm-11 1L8.5 8.5l.94-2.06 2.06-.94-2.06-.94L8.5 2.5l-.94 2.06-2.06.94zm10 10l.94 2.06.94-2.06 2.06-.94-2.06-.94-.94-2.06-.94 2.06-2.06.94z\"/><path d=\"M17.41 7.96l-1.37-1.37c-.4-.4-.92-.59-1.43-.59-.52 0-1.04.2-1.43.59L10.3 9.45l-7.72 7.72c-.78.78-.78 2.05 0 2.83L4 21.41c.39.39.9.59 1.41.59.51 0 1.02-.2 1.41-.59l7.78-7.78 2.81-2.81c.8-.78.8-2.07 0-2.86zM5.41 20L4 18.59l7.72-7.72 1.47 1.35L5.41 20z\"/>\n",
              "  </svg>\n",
              "      </button>\n",
              "      \n",
              "  <style>\n",
              "    .colab-df-container {\n",
              "      display:flex;\n",
              "      flex-wrap:wrap;\n",
              "      gap: 12px;\n",
              "    }\n",
              "\n",
              "    .colab-df-convert {\n",
              "      background-color: #E8F0FE;\n",
              "      border: none;\n",
              "      border-radius: 50%;\n",
              "      cursor: pointer;\n",
              "      display: none;\n",
              "      fill: #1967D2;\n",
              "      height: 32px;\n",
              "      padding: 0 0 0 0;\n",
              "      width: 32px;\n",
              "    }\n",
              "\n",
              "    .colab-df-convert:hover {\n",
              "      background-color: #E2EBFA;\n",
              "      box-shadow: 0px 1px 2px rgba(60, 64, 67, 0.3), 0px 1px 3px 1px rgba(60, 64, 67, 0.15);\n",
              "      fill: #174EA6;\n",
              "    }\n",
              "\n",
              "    [theme=dark] .colab-df-convert {\n",
              "      background-color: #3B4455;\n",
              "      fill: #D2E3FC;\n",
              "    }\n",
              "\n",
              "    [theme=dark] .colab-df-convert:hover {\n",
              "      background-color: #434B5C;\n",
              "      box-shadow: 0px 1px 3px 1px rgba(0, 0, 0, 0.15);\n",
              "      filter: drop-shadow(0px 1px 2px rgba(0, 0, 0, 0.3));\n",
              "      fill: #FFFFFF;\n",
              "    }\n",
              "  </style>\n",
              "\n",
              "      <script>\n",
              "        const buttonEl =\n",
              "          document.querySelector('#df-1a111930-5f06-46b8-9b0e-19881e64b92f button.colab-df-convert');\n",
              "        buttonEl.style.display =\n",
              "          google.colab.kernel.accessAllowed ? 'block' : 'none';\n",
              "\n",
              "        async function convertToInteractive(key) {\n",
              "          const element = document.querySelector('#df-1a111930-5f06-46b8-9b0e-19881e64b92f');\n",
              "          const dataTable =\n",
              "            await google.colab.kernel.invokeFunction('convertToInteractive',\n",
              "                                                     [key], {});\n",
              "          if (!dataTable) return;\n",
              "\n",
              "          const docLinkHtml = 'Like what you see? Visit the ' +\n",
              "            '<a target=\"_blank\" href=https://colab.research.google.com/notebooks/data_table.ipynb>data table notebook</a>'\n",
              "            + ' to learn more about interactive tables.';\n",
              "          element.innerHTML = '';\n",
              "          dataTable['output_type'] = 'display_data';\n",
              "          await google.colab.output.renderOutput(dataTable, element);\n",
              "          const docLink = document.createElement('div');\n",
              "          docLink.innerHTML = docLinkHtml;\n",
              "          element.appendChild(docLink);\n",
              "        }\n",
              "      </script>\n",
              "    </div>\n",
              "  </div>\n",
              "  "
            ]
          },
          "metadata": {},
          "execution_count": 88
        }
      ],
      "source": [
        "loss_df = pd.DataFrame(model.history.history)\n",
        "loss_df.head()"
      ]
    },
    {
      "cell_type": "code",
      "execution_count": 89,
      "metadata": {
        "colab": {
          "base_uri": "https://localhost:8080/",
          "height": 393
        },
        "outputId": "37555fb0-399e-498e-cba3-aef8a97c7f90",
        "id": "R9CcdYESwqa_"
      },
      "outputs": [
        {
          "output_type": "display_data",
          "data": {
            "text/plain": [
              "<Figure size 720x720 with 0 Axes>"
            ]
          },
          "metadata": {}
        },
        {
          "output_type": "display_data",
          "data": {
            "text/plain": [
              "<Figure size 720x432 with 1 Axes>"
            ],
            "image/png": "[encoded data removed]"
          },
          "metadata": {}
        }
      ],
      "source": [
        "plt.figure(figsize=(10,10))\n",
        "loss_df.plot();    "
      ]
    },
    {
      "cell_type": "code",
      "execution_count": 90,
      "metadata": {
        "outputId": "50730e7a-c1d5-4095-9642-32f6241e738f",
        "colab": {
          "base_uri": "https://localhost:8080/"
        },
        "id": "Q7s1YldIwqa_"
      },
      "outputs": [
        {
          "output_type": "execute_result",
          "data": {
            "text/plain": [
              "[0.5151381492614746, 0.7516340017318726]"
            ]
          },
          "metadata": {},
          "execution_count": 90
        }
      ],
      "source": [
        "model.evaluate(X_test, y_test, verbose=0)   "
      ]
    },
    {
      "cell_type": "code",
      "execution_count": 91,
      "metadata": {
        "outputId": "62143122-f670-4ac4-ed4e-2d1455cb2b9d",
        "colab": {
          "base_uri": "https://localhost:8080/"
        },
        "id": "DkWeY_Itwqa_"
      },
      "outputs": [
        {
          "output_type": "stream",
          "name": "stdout",
          "text": [
            "loss :  0.5151381492614746\n",
            "accuracy :  0.7516340017318726\n"
          ]
        }
      ],
      "source": [
        "loss, accuracy = model.evaluate(X_test, y_test, verbose=0)\n",
        "print(\"loss : \", loss)\n",
        "print(\"accuracy : \", accuracy)"
      ]
    },
    {
      "cell_type": "code",
      "execution_count": 92,
      "metadata": {
        "outputId": "075f0a23-bd40-4ee1-d14a-a75a12006c2c",
        "colab": {
          "base_uri": "https://localhost:8080/"
        },
        "id": "8Y_zA4TfwqbA"
      },
      "outputs": [
        {
          "output_type": "stream",
          "name": "stdout",
          "text": [
            "[[888 306]\n",
            " [ 76 230]]\n",
            "              precision    recall  f1-score   support\n",
            "\n",
            "           0       0.92      0.74      0.82      1194\n",
            "           1       0.43      0.75      0.55       306\n",
            "\n",
            "    accuracy                           0.75      1500\n",
            "   macro avg       0.68      0.75      0.68      1500\n",
            "weighted avg       0.82      0.75      0.77      1500\n",
            "\n"
          ]
        }
      ],
      "source": [
        "y_pred = model.predict(X_test) > 0.5                  \n",
        "print(confusion_matrix(y_test, y_pred))\n",
        "print(classification_report(y_test, y_pred))          "
      ]
    },
    {
      "cell_type": "code",
      "source": [
        "from sklearn.metrics import precision_recall_curve"
      ],
      "metadata": {
        "id": "dknkQAl8x_zH"
      },
      "execution_count": 93,
      "outputs": []
    },
    {
      "cell_type": "code",
      "execution_count": 94,
      "metadata": {
        "id": "exM1gGtLuWYj",
        "outputId": "0711861b-1a08-4670-836b-fb006aeb252e",
        "colab": {
          "base_uri": "https://localhost:8080/",
          "height": 404
        }
      },
      "outputs": [
        {
          "output_type": "display_data",
          "data": {
            "text/plain": [
              "<Figure size 720x432 with 1 Axes>"
            ],
            "image/png": "[encoded data removed]"
          },
          "metadata": {}
        }
      ],
      "source": [
        "y_pred_proba = model.predict(X_test)\n",
        "precisions, recalls, thresholds = precision_recall_curve(y_test, y_pred_proba)         \n",
        "plt.plot(recalls,precisions, label='ANN')\n",
        "plt.xlabel('recalls')\n",
        "plt.ylabel('precisions')\n",
        "plt.title('Precision-recall-curve')\n",
        "plt.show()"
      ]
    },
    {
      "cell_type": "code",
      "execution_count": 95,
      "metadata": {
        "id": "XTAP0hEmuWYj",
        "outputId": "31c6cdfa-0a05-4b0a-c3d9-d457a9bb4aaa",
        "colab": {
          "base_uri": "https://localhost:8080/"
        }
      },
      "outputs": [
        {
          "output_type": "execute_result",
          "data": {
            "text/plain": [
              "0.8347018315980775"
            ]
          },
          "metadata": {},
          "execution_count": 95
        }
      ],
      "source": [
        "roc_auc_score(y_test, y_pred_proba)"
      ]
    },
    {
      "cell_type": "markdown",
      "metadata": {
        "id": "X7uY_0SV6QO7"
      },
      "source": [
        "## Implementation Different Methods to Develop The Model\n",
        "\n",
        "- Implement the following methods on model creating with \"class_weight\" parameter\n",
        "- Create and evaluate model for each method "
      ]
    },
    {
      "cell_type": "markdown",
      "metadata": {
        "id": "ThWG3wxR6QO8"
      },
      "source": [
        "### Increase The Learning Rate and Observe The Results"
      ]
    },
    {
      "cell_type": "code",
      "execution_count": 95,
      "metadata": {
        "ExecuteTime": {
          "end_time": "2022-06-21T18:06:52.894297Z",
          "start_time": "2022-06-21T18:06:52.866371Z"
        },
        "cell_style": "split",
        "id": "Hq6AgBHtGcgS"
      },
      "outputs": [],
      "source": [
        ""
      ]
    },
    {
      "cell_type": "code",
      "execution_count": 96,
      "metadata": {
        "id": "B5yhpx62uWYY"
      },
      "outputs": [],
      "source": [
        "from tensorflow.keras.optimizers import Adam              "
      ]
    },
    {
      "cell_type": "code",
      "execution_count": 97,
      "metadata": {
        "id": "LaT0iuEBuWYZ"
      },
      "outputs": [],
      "source": [
        "tf.random.set_seed(seed)\n",
        "\n",
        "model = Sequential()\n",
        "\n",
        "model.add(Dense(20, activation = \"relu\", input_dim = X_train.shape[1]))\n",
        "model.add(Dense(20, activation = \"relu\"))\n",
        "model.add(Dense(5, activation = \"relu\"))\n",
        "model.add(Dense(1, activation = \"sigmoid\"))\n",
        "\n",
        "opt = Adam(lr = 0.002)\n",
        "model.compile(optimizer = opt, loss = \"binary_crossentropy\", metrics = [\"accuracy\"])"
      ]
    },
    {
      "cell_type": "code",
      "execution_count": 98,
      "metadata": {
        "id": "EGagoJwquWYa"
      },
      "outputs": [],
      "source": [
        "early_stop = EarlyStopping(monitor = \"val_loss\", mode = \"min\", verbose = 1, patience = 15, restore_best_weights = True)"
      ]
    },
    {
      "cell_type": "code",
      "execution_count": 99,
      "metadata": {
        "id": "RxhU9i11uWYa",
        "outputId": "accaa0b8-94d3-4a38-8f10-b02434b21028",
        "colab": {
          "base_uri": "https://localhost:8080/"
        }
      },
      "outputs": [
        {
          "output_type": "stream",
          "name": "stdout",
          "text": [
            "Epoch 1/1000\n",
            "240/240 [==============================] - 1s 3ms/step - loss: 0.4967 - accuracy: 0.7903 - val_loss: 0.4789 - val_accuracy: 0.8000\n",
            "Epoch 2/1000\n",
            "240/240 [==============================] - 1s 2ms/step - loss: 0.4475 - accuracy: 0.8065 - val_loss: 0.4547 - val_accuracy: 0.8082\n",
            "Epoch 3/1000\n",
            "240/240 [==============================] - 1s 2ms/step - loss: 0.4251 - accuracy: 0.8166 - val_loss: 0.4293 - val_accuracy: 0.8200\n",
            "Epoch 4/1000\n",
            "240/240 [==============================] - 0s 2ms/step - loss: 0.3987 - accuracy: 0.8311 - val_loss: 0.3934 - val_accuracy: 0.8341\n",
            "Epoch 5/1000\n",
            "240/240 [==============================] - 0s 2ms/step - loss: 0.3772 - accuracy: 0.8422 - val_loss: 0.3692 - val_accuracy: 0.8600\n",
            "Epoch 6/1000\n",
            "240/240 [==============================] - 0s 2ms/step - loss: 0.3691 - accuracy: 0.8486 - val_loss: 0.3596 - val_accuracy: 0.8659\n",
            "Epoch 7/1000\n",
            "240/240 [==============================] - 0s 2ms/step - loss: 0.3638 - accuracy: 0.8508 - val_loss: 0.3556 - val_accuracy: 0.8624\n",
            "Epoch 8/1000\n",
            "240/240 [==============================] - 0s 2ms/step - loss: 0.3599 - accuracy: 0.8510 - val_loss: 0.3514 - val_accuracy: 0.8659\n",
            "Epoch 9/1000\n",
            "240/240 [==============================] - 0s 2ms/step - loss: 0.3546 - accuracy: 0.8557 - val_loss: 0.3714 - val_accuracy: 0.8459\n",
            "Epoch 10/1000\n",
            "240/240 [==============================] - 1s 2ms/step - loss: 0.3590 - accuracy: 0.8524 - val_loss: 0.3531 - val_accuracy: 0.8647\n",
            "Epoch 11/1000\n",
            "240/240 [==============================] - 0s 2ms/step - loss: 0.3537 - accuracy: 0.8558 - val_loss: 0.3511 - val_accuracy: 0.8682\n",
            "Epoch 12/1000\n",
            "240/240 [==============================] - 1s 2ms/step - loss: 0.3593 - accuracy: 0.8563 - val_loss: 0.3512 - val_accuracy: 0.8612\n",
            "Epoch 13/1000\n",
            "240/240 [==============================] - 0s 2ms/step - loss: 0.3518 - accuracy: 0.8562 - val_loss: 0.3533 - val_accuracy: 0.8659\n",
            "Epoch 14/1000\n",
            "240/240 [==============================] - 0s 2ms/step - loss: 0.3509 - accuracy: 0.8524 - val_loss: 0.3405 - val_accuracy: 0.8682\n",
            "Epoch 15/1000\n",
            "240/240 [==============================] - 0s 2ms/step - loss: 0.3518 - accuracy: 0.8536 - val_loss: 0.3418 - val_accuracy: 0.8694\n",
            "Epoch 16/1000\n",
            "240/240 [==============================] - 0s 2ms/step - loss: 0.3493 - accuracy: 0.8556 - val_loss: 0.3415 - val_accuracy: 0.8694\n",
            "Epoch 17/1000\n",
            "240/240 [==============================] - 0s 2ms/step - loss: 0.3467 - accuracy: 0.8566 - val_loss: 0.3406 - val_accuracy: 0.8682\n",
            "Epoch 18/1000\n",
            "240/240 [==============================] - 0s 2ms/step - loss: 0.3465 - accuracy: 0.8562 - val_loss: 0.3376 - val_accuracy: 0.8706\n",
            "Epoch 19/1000\n",
            "240/240 [==============================] - 0s 2ms/step - loss: 0.3482 - accuracy: 0.8553 - val_loss: 0.3484 - val_accuracy: 0.8671\n",
            "Epoch 20/1000\n",
            "240/240 [==============================] - 0s 2ms/step - loss: 0.3472 - accuracy: 0.8569 - val_loss: 0.3365 - val_accuracy: 0.8718\n",
            "Epoch 21/1000\n",
            "240/240 [==============================] - 0s 2ms/step - loss: 0.3454 - accuracy: 0.8559 - val_loss: 0.3427 - val_accuracy: 0.8682\n",
            "Epoch 22/1000\n",
            "240/240 [==============================] - 0s 2ms/step - loss: 0.3468 - accuracy: 0.8544 - val_loss: 0.3360 - val_accuracy: 0.8682\n",
            "Epoch 23/1000\n",
            "240/240 [==============================] - 0s 2ms/step - loss: 0.3467 - accuracy: 0.8550 - val_loss: 0.3352 - val_accuracy: 0.8741\n",
            "Epoch 24/1000\n",
            "240/240 [==============================] - 0s 2ms/step - loss: 0.3428 - accuracy: 0.8570 - val_loss: 0.3370 - val_accuracy: 0.8694\n",
            "Epoch 25/1000\n",
            "240/240 [==============================] - 0s 2ms/step - loss: 0.3433 - accuracy: 0.8578 - val_loss: 0.3379 - val_accuracy: 0.8659\n",
            "Epoch 26/1000\n",
            "240/240 [==============================] - 0s 2ms/step - loss: 0.3425 - accuracy: 0.8559 - val_loss: 0.3368 - val_accuracy: 0.8659\n",
            "Epoch 27/1000\n",
            "240/240 [==============================] - 1s 2ms/step - loss: 0.3439 - accuracy: 0.8544 - val_loss: 0.3392 - val_accuracy: 0.8671\n",
            "Epoch 28/1000\n",
            "240/240 [==============================] - 0s 2ms/step - loss: 0.3424 - accuracy: 0.8586 - val_loss: 0.3340 - val_accuracy: 0.8741\n",
            "Epoch 29/1000\n",
            "240/240 [==============================] - 0s 2ms/step - loss: 0.3422 - accuracy: 0.8550 - val_loss: 0.3366 - val_accuracy: 0.8671\n",
            "Epoch 30/1000\n",
            "240/240 [==============================] - 0s 2ms/step - loss: 0.3456 - accuracy: 0.8582 - val_loss: 0.3354 - val_accuracy: 0.8729\n",
            "Epoch 31/1000\n",
            "240/240 [==============================] - 0s 2ms/step - loss: 0.3419 - accuracy: 0.8584 - val_loss: 0.3396 - val_accuracy: 0.8647\n",
            "Epoch 32/1000\n",
            "240/240 [==============================] - 0s 2ms/step - loss: 0.3421 - accuracy: 0.8627 - val_loss: 0.3369 - val_accuracy: 0.8741\n",
            "Epoch 33/1000\n",
            "240/240 [==============================] - 0s 2ms/step - loss: 0.3414 - accuracy: 0.8593 - val_loss: 0.3387 - val_accuracy: 0.8624\n",
            "Epoch 34/1000\n",
            "240/240 [==============================] - 1s 2ms/step - loss: 0.3407 - accuracy: 0.8584 - val_loss: 0.3421 - val_accuracy: 0.8718\n",
            "Epoch 35/1000\n",
            "240/240 [==============================] - 1s 3ms/step - loss: 0.3425 - accuracy: 0.8553 - val_loss: 0.3394 - val_accuracy: 0.8600\n",
            "Epoch 36/1000\n",
            "240/240 [==============================] - 1s 3ms/step - loss: 0.3412 - accuracy: 0.8576 - val_loss: 0.3358 - val_accuracy: 0.8694\n",
            "Epoch 37/1000\n",
            "240/240 [==============================] - 1s 3ms/step - loss: 0.3410 - accuracy: 0.8566 - val_loss: 0.3345 - val_accuracy: 0.8706\n",
            "Epoch 38/1000\n",
            "240/240 [==============================] - 1s 3ms/step - loss: 0.3394 - accuracy: 0.8586 - val_loss: 0.3346 - val_accuracy: 0.8682\n",
            "Epoch 39/1000\n",
            "240/240 [==============================] - 1s 3ms/step - loss: 0.3392 - accuracy: 0.8574 - val_loss: 0.3404 - val_accuracy: 0.8624\n",
            "Epoch 40/1000\n",
            "240/240 [==============================] - 1s 3ms/step - loss: 0.3406 - accuracy: 0.8629 - val_loss: 0.3370 - val_accuracy: 0.8671\n",
            "Epoch 41/1000\n",
            "240/240 [==============================] - 1s 3ms/step - loss: 0.3395 - accuracy: 0.8596 - val_loss: 0.3450 - val_accuracy: 0.8565\n",
            "Epoch 42/1000\n",
            "240/240 [==============================] - 1s 3ms/step - loss: 0.3381 - accuracy: 0.8584 - val_loss: 0.3397 - val_accuracy: 0.8624\n",
            "Epoch 43/1000\n",
            "237/240 [============================>.] - ETA: 0s - loss: 0.3386 - accuracy: 0.8583Restoring model weights from the end of the best epoch: 28.\n",
            "240/240 [==============================] - 1s 4ms/step - loss: 0.3387 - accuracy: 0.8582 - val_loss: 0.3432 - val_accuracy: 0.8671\n",
            "Epoch 43: early stopping\n"
          ]
        },
        {
          "output_type": "execute_result",
          "data": {
            "text/plain": [
              "<keras.callbacks.History at 0x7fa637b4dd10>"
            ]
          },
          "metadata": {},
          "execution_count": 99
        }
      ],
      "source": [
        "model.fit(x = X_train, y = y_train, validation_split = 0.1, batch_size = 32, epochs = 1000, verbose = 1,\n",
        "          callbacks = [early_stop])"
      ]
    },
    {
      "cell_type": "code",
      "execution_count": 100,
      "metadata": {
        "id": "kCOcf_MquWYb",
        "outputId": "c70c3a2e-da23-49c2-8acd-ac9ce0042274",
        "colab": {
          "base_uri": "https://localhost:8080/",
          "height": 394
        }
      },
      "outputs": [
        {
          "output_type": "execute_result",
          "data": {
            "text/plain": [
              "<matplotlib.axes._subplots.AxesSubplot at 0x7fa6382ae7d0>"
            ]
          },
          "metadata": {},
          "execution_count": 100
        },
        {
          "output_type": "display_data",
          "data": {
            "text/plain": [
              "<Figure size 720x432 with 1 Axes>"
            ],
            "image/png": "[encoded data removed]"
          },
          "metadata": {}
        }
      ],
      "source": [
        "loss_df = pd.DataFrame(model.history.history)             ## dalgalar arttı, DL rasgelleiği yani stokastik olduğu için aynı ççalışmaların sonucu farklı olabiliyor\n",
        "loss_df.plot()"
      ]
    },
    {
      "cell_type": "code",
      "execution_count": 101,
      "metadata": {
        "id": "Xf3z98v_uWYb",
        "outputId": "a74f3498-531e-47b1-b2d9-3dbd3ddeb268",
        "colab": {
          "base_uri": "https://localhost:8080/"
        }
      },
      "outputs": [
        {
          "output_type": "stream",
          "name": "stdout",
          "text": [
            "loss :  0.3544781506061554\n",
            "accuracy :  0.8479999899864197\n"
          ]
        }
      ],
      "source": [
        "loss, accuracy = model.evaluate(X_test, y_test, verbose=0)\n",
        "print(\"loss : \", loss)\n",
        "print(\"accuracy : \", accuracy)"
      ]
    },
    {
      "cell_type": "code",
      "execution_count": 102,
      "metadata": {
        "id": "fG-1JwgUuWYc",
        "outputId": "2349b458-98c7-4a23-c744-05c475582750",
        "colab": {
          "base_uri": "https://localhost:8080/"
        }
      },
      "outputs": [
        {
          "output_type": "stream",
          "name": "stdout",
          "text": [
            "[[1136   58]\n",
            " [ 170  136]]\n",
            "              precision    recall  f1-score   support\n",
            "\n",
            "           0       0.87      0.95      0.91      1194\n",
            "           1       0.70      0.44      0.54       306\n",
            "\n",
            "    accuracy                           0.85      1500\n",
            "   macro avg       0.79      0.70      0.73      1500\n",
            "weighted avg       0.84      0.85      0.83      1500\n",
            "\n"
          ]
        }
      ],
      "source": [
        "y_pred = model.predict(X_test) > 0.5\n",
        "#y_pred = model.predict_classes(X_test) for tf 2.5.0\n",
        "print(confusion_matrix(y_test, y_pred))\n",
        "print(classification_report(y_test, y_pred))"
      ]
    },
    {
      "cell_type": "markdown",
      "metadata": {
        "id": "Zwxi6jPB6QO8"
      },
      "source": [
        "### Add Dropout Layer"
      ]
    },
    {
      "cell_type": "code",
      "source": [
        "from tensorflow.keras.layers import Dense, Activation, Dropout \n",
        "from tensorflow.keras.callbacks import EarlyStopping"
      ],
      "metadata": {
        "id": "QpXbrIGjJhAa"
      },
      "execution_count": 103,
      "outputs": []
    },
    {
      "cell_type": "code",
      "execution_count": 103,
      "metadata": {
        "id": "o_zmtOxd6QO8"
      },
      "outputs": [],
      "source": [
        ""
      ]
    },
    {
      "cell_type": "code",
      "execution_count": 104,
      "metadata": {
        "id": "CJokLHStyr1h"
      },
      "outputs": [],
      "source": [
        "tf.random.set_seed(seed)\n",
        "\n",
        "model = Sequential()\n",
        "\n",
        "model.add(Dense(20, activation=\"relu\", input_dim = X_train.shape[1]))\n",
        "model.add(Dropout(0.5))\n",
        "\n",
        "model.add(Dense(10, activation=\"relu\"))\n",
        "model.add(Dropout(0.5))\n",
        "\n",
        "model.add(Dense(5, activation=\"relu\"))\n",
        "model.add(Dropout(0.5))\n",
        "\n",
        "model.add(Dense(1, activation=\"sigmoid\"))\n",
        "\n",
        "opt = Adam(lr = 0.001)\n",
        "model.compile(optimizer = opt, loss = \"binary_crossentropy\", metrics = [\"accuracy\"])"
      ]
    },
    {
      "cell_type": "code",
      "execution_count": 105,
      "metadata": {
        "colab": {
          "base_uri": "https://localhost:8080/"
        },
        "id": "TeQ4lysU0XxP",
        "outputId": "1d461906-ae1f-4519-a9f9-3c3e1f9a3b2c"
      },
      "outputs": [
        {
          "output_type": "stream",
          "name": "stdout",
          "text": [
            "Epoch 1/300\n",
            "73/73 [==============================] - 1s 5ms/step - loss: 0.6620 - accuracy: 0.6796 - val_loss: 0.5838 - val_accuracy: 0.8008\n",
            "Epoch 2/300\n",
            "73/73 [==============================] - 0s 2ms/step - loss: 0.5914 - accuracy: 0.7806 - val_loss: 0.5350 - val_accuracy: 0.8008\n",
            "Epoch 3/300\n",
            "73/73 [==============================] - 0s 2ms/step - loss: 0.5719 - accuracy: 0.7918 - val_loss: 0.5159 - val_accuracy: 0.8008\n",
            "Epoch 4/300\n",
            "73/73 [==============================] - 0s 2ms/step - loss: 0.5558 - accuracy: 0.7950 - val_loss: 0.5033 - val_accuracy: 0.8008\n",
            "Epoch 5/300\n",
            "73/73 [==============================] - 0s 3ms/step - loss: 0.5541 - accuracy: 0.7953 - val_loss: 0.5046 - val_accuracy: 0.8008\n",
            "Epoch 6/300\n",
            "73/73 [==============================] - 0s 2ms/step - loss: 0.5368 - accuracy: 0.7956 - val_loss: 0.4958 - val_accuracy: 0.8008\n",
            "Epoch 7/300\n",
            "73/73 [==============================] - 0s 3ms/step - loss: 0.5356 - accuracy: 0.7956 - val_loss: 0.4958 - val_accuracy: 0.8008\n",
            "Epoch 8/300\n",
            "73/73 [==============================] - 0s 2ms/step - loss: 0.5263 - accuracy: 0.7956 - val_loss: 0.4903 - val_accuracy: 0.8008\n",
            "Epoch 9/300\n",
            "73/73 [==============================] - 0s 2ms/step - loss: 0.5211 - accuracy: 0.7956 - val_loss: 0.4896 - val_accuracy: 0.8008\n",
            "Epoch 10/300\n",
            "73/73 [==============================] - 0s 3ms/step - loss: 0.5182 - accuracy: 0.7956 - val_loss: 0.4873 - val_accuracy: 0.8008\n",
            "Epoch 11/300\n",
            "73/73 [==============================] - 0s 3ms/step - loss: 0.5243 - accuracy: 0.7956 - val_loss: 0.4876 - val_accuracy: 0.8008\n",
            "Epoch 12/300\n",
            "73/73 [==============================] - 0s 2ms/step - loss: 0.5155 - accuracy: 0.7956 - val_loss: 0.4889 - val_accuracy: 0.8008\n",
            "Epoch 13/300\n",
            "73/73 [==============================] - 0s 2ms/step - loss: 0.5149 - accuracy: 0.7956 - val_loss: 0.4854 - val_accuracy: 0.8008\n",
            "Epoch 14/300\n",
            "73/73 [==============================] - 0s 3ms/step - loss: 0.5093 - accuracy: 0.7956 - val_loss: 0.4826 - val_accuracy: 0.8008\n",
            "Epoch 15/300\n",
            "73/73 [==============================] - 0s 2ms/step - loss: 0.5081 - accuracy: 0.7956 - val_loss: 0.4822 - val_accuracy: 0.8008\n",
            "Epoch 16/300\n",
            "73/73 [==============================] - 0s 2ms/step - loss: 0.5087 - accuracy: 0.7956 - val_loss: 0.4822 - val_accuracy: 0.8008\n",
            "Epoch 17/300\n",
            "73/73 [==============================] - 0s 2ms/step - loss: 0.4989 - accuracy: 0.7956 - val_loss: 0.4781 - val_accuracy: 0.8008\n",
            "Epoch 18/300\n",
            "73/73 [==============================] - 0s 2ms/step - loss: 0.5040 - accuracy: 0.7956 - val_loss: 0.4782 - val_accuracy: 0.8008\n",
            "Epoch 19/300\n",
            "73/73 [==============================] - 0s 2ms/step - loss: 0.5007 - accuracy: 0.7956 - val_loss: 0.4774 - val_accuracy: 0.8008\n",
            "Epoch 20/300\n",
            "73/73 [==============================] - 0s 2ms/step - loss: 0.4911 - accuracy: 0.7956 - val_loss: 0.4721 - val_accuracy: 0.8008\n",
            "Epoch 21/300\n",
            "73/73 [==============================] - 0s 2ms/step - loss: 0.4971 - accuracy: 0.7956 - val_loss: 0.4720 - val_accuracy: 0.8008\n",
            "Epoch 22/300\n",
            "73/73 [==============================] - 0s 2ms/step - loss: 0.4941 - accuracy: 0.7956 - val_loss: 0.4680 - val_accuracy: 0.8008\n",
            "Epoch 23/300\n",
            "73/73 [==============================] - 0s 3ms/step - loss: 0.4946 - accuracy: 0.7956 - val_loss: 0.4693 - val_accuracy: 0.8008\n",
            "Epoch 24/300\n",
            "73/73 [==============================] - 0s 2ms/step - loss: 0.4884 - accuracy: 0.7956 - val_loss: 0.4638 - val_accuracy: 0.8008\n",
            "Epoch 25/300\n",
            "73/73 [==============================] - 0s 2ms/step - loss: 0.4838 - accuracy: 0.7956 - val_loss: 0.4628 - val_accuracy: 0.8008\n",
            "Epoch 26/300\n",
            "73/73 [==============================] - 0s 2ms/step - loss: 0.4830 - accuracy: 0.7956 - val_loss: 0.4607 - val_accuracy: 0.8008\n",
            "Epoch 27/300\n",
            "73/73 [==============================] - 0s 2ms/step - loss: 0.4833 - accuracy: 0.7956 - val_loss: 0.4616 - val_accuracy: 0.8008\n",
            "Epoch 28/300\n",
            "73/73 [==============================] - 0s 2ms/step - loss: 0.4808 - accuracy: 0.7956 - val_loss: 0.4585 - val_accuracy: 0.8008\n",
            "Epoch 29/300\n",
            "73/73 [==============================] - 0s 3ms/step - loss: 0.4853 - accuracy: 0.7956 - val_loss: 0.4591 - val_accuracy: 0.8008\n",
            "Epoch 30/300\n",
            "73/73 [==============================] - 0s 2ms/step - loss: 0.4803 - accuracy: 0.7956 - val_loss: 0.4588 - val_accuracy: 0.8008\n",
            "Epoch 31/300\n",
            "73/73 [==============================] - 0s 2ms/step - loss: 0.4761 - accuracy: 0.7956 - val_loss: 0.4566 - val_accuracy: 0.8008\n",
            "Epoch 32/300\n",
            "73/73 [==============================] - 0s 2ms/step - loss: 0.4771 - accuracy: 0.7956 - val_loss: 0.4545 - val_accuracy: 0.8008\n",
            "Epoch 33/300\n",
            "73/73 [==============================] - 0s 2ms/step - loss: 0.4741 - accuracy: 0.7956 - val_loss: 0.4544 - val_accuracy: 0.8008\n",
            "Epoch 34/300\n",
            "73/73 [==============================] - 0s 2ms/step - loss: 0.4767 - accuracy: 0.7956 - val_loss: 0.4546 - val_accuracy: 0.8008\n",
            "Epoch 35/300\n",
            "73/73 [==============================] - 0s 2ms/step - loss: 0.4754 - accuracy: 0.7956 - val_loss: 0.4518 - val_accuracy: 0.8008\n",
            "Epoch 36/300\n",
            "73/73 [==============================] - 0s 2ms/step - loss: 0.4766 - accuracy: 0.7956 - val_loss: 0.4537 - val_accuracy: 0.8008\n",
            "Epoch 37/300\n",
            "73/73 [==============================] - 0s 2ms/step - loss: 0.4751 - accuracy: 0.7956 - val_loss: 0.4515 - val_accuracy: 0.8008\n",
            "Epoch 38/300\n",
            "73/73 [==============================] - 0s 2ms/step - loss: 0.4737 - accuracy: 0.7956 - val_loss: 0.4509 - val_accuracy: 0.8008\n",
            "Epoch 39/300\n",
            "73/73 [==============================] - 0s 2ms/step - loss: 0.4704 - accuracy: 0.7956 - val_loss: 0.4521 - val_accuracy: 0.8008\n",
            "Epoch 40/300\n",
            "73/73 [==============================] - 0s 3ms/step - loss: 0.4722 - accuracy: 0.7956 - val_loss: 0.4523 - val_accuracy: 0.8008\n",
            "Epoch 41/300\n",
            "73/73 [==============================] - 0s 2ms/step - loss: 0.4734 - accuracy: 0.7956 - val_loss: 0.4511 - val_accuracy: 0.8008\n",
            "Epoch 42/300\n",
            "73/73 [==============================] - 0s 2ms/step - loss: 0.4669 - accuracy: 0.7954 - val_loss: 0.4486 - val_accuracy: 0.8008\n",
            "Epoch 43/300\n",
            "73/73 [==============================] - 0s 2ms/step - loss: 0.4708 - accuracy: 0.7956 - val_loss: 0.4506 - val_accuracy: 0.8008\n",
            "Epoch 44/300\n",
            "73/73 [==============================] - 0s 2ms/step - loss: 0.4758 - accuracy: 0.7961 - val_loss: 0.4488 - val_accuracy: 0.8008\n",
            "Epoch 45/300\n",
            "73/73 [==============================] - 0s 2ms/step - loss: 0.4682 - accuracy: 0.7964 - val_loss: 0.4470 - val_accuracy: 0.8008\n",
            "Epoch 46/300\n",
            "73/73 [==============================] - 0s 3ms/step - loss: 0.4685 - accuracy: 0.7965 - val_loss: 0.4486 - val_accuracy: 0.8008\n",
            "Epoch 47/300\n",
            "73/73 [==============================] - 0s 2ms/step - loss: 0.4703 - accuracy: 0.7958 - val_loss: 0.4470 - val_accuracy: 0.8008\n",
            "Epoch 48/300\n",
            "73/73 [==============================] - 0s 2ms/step - loss: 0.4668 - accuracy: 0.7963 - val_loss: 0.4454 - val_accuracy: 0.8008\n",
            "Epoch 49/300\n",
            "73/73 [==============================] - 0s 2ms/step - loss: 0.4653 - accuracy: 0.7961 - val_loss: 0.4442 - val_accuracy: 0.8008\n",
            "Epoch 50/300\n",
            "73/73 [==============================] - 0s 2ms/step - loss: 0.4657 - accuracy: 0.7978 - val_loss: 0.4450 - val_accuracy: 0.8008\n",
            "Epoch 51/300\n",
            "73/73 [==============================] - 0s 3ms/step - loss: 0.4671 - accuracy: 0.7981 - val_loss: 0.4447 - val_accuracy: 0.8008\n",
            "Epoch 52/300\n",
            "73/73 [==============================] - 0s 2ms/step - loss: 0.4626 - accuracy: 0.7989 - val_loss: 0.4426 - val_accuracy: 0.8008\n",
            "Epoch 53/300\n",
            "73/73 [==============================] - 0s 3ms/step - loss: 0.4638 - accuracy: 0.7997 - val_loss: 0.4413 - val_accuracy: 0.8008\n",
            "Epoch 54/300\n",
            "73/73 [==============================] - 0s 2ms/step - loss: 0.4619 - accuracy: 0.7965 - val_loss: 0.4408 - val_accuracy: 0.8008\n",
            "Epoch 55/300\n",
            "73/73 [==============================] - 0s 2ms/step - loss: 0.4661 - accuracy: 0.7976 - val_loss: 0.4423 - val_accuracy: 0.8008\n",
            "Epoch 56/300\n",
            "73/73 [==============================] - 0s 2ms/step - loss: 0.4641 - accuracy: 0.7982 - val_loss: 0.4421 - val_accuracy: 0.8008\n",
            "Epoch 57/300\n",
            "73/73 [==============================] - 0s 2ms/step - loss: 0.4633 - accuracy: 0.7974 - val_loss: 0.4417 - val_accuracy: 0.8008\n",
            "Epoch 58/300\n",
            "73/73 [==============================] - 0s 2ms/step - loss: 0.4645 - accuracy: 0.7985 - val_loss: 0.4422 - val_accuracy: 0.8008\n",
            "Epoch 59/300\n",
            "73/73 [==============================] - 0s 2ms/step - loss: 0.4576 - accuracy: 0.7990 - val_loss: 0.4410 - val_accuracy: 0.8008\n",
            "Epoch 60/300\n",
            "73/73 [==============================] - 0s 2ms/step - loss: 0.4631 - accuracy: 0.7968 - val_loss: 0.4407 - val_accuracy: 0.8008\n",
            "Epoch 61/300\n",
            "73/73 [==============================] - 0s 2ms/step - loss: 0.4552 - accuracy: 0.7994 - val_loss: 0.4403 - val_accuracy: 0.8008\n",
            "Epoch 62/300\n",
            "73/73 [==============================] - 0s 2ms/step - loss: 0.4643 - accuracy: 0.7996 - val_loss: 0.4406 - val_accuracy: 0.8008\n",
            "Epoch 63/300\n",
            "73/73 [==============================] - 0s 3ms/step - loss: 0.4575 - accuracy: 0.8018 - val_loss: 0.4385 - val_accuracy: 0.8008\n",
            "Epoch 64/300\n",
            "73/73 [==============================] - 0s 2ms/step - loss: 0.4630 - accuracy: 0.7968 - val_loss: 0.4409 - val_accuracy: 0.8008\n",
            "Epoch 65/300\n",
            "73/73 [==============================] - 0s 2ms/step - loss: 0.4573 - accuracy: 0.7981 - val_loss: 0.4384 - val_accuracy: 0.8008\n",
            "Epoch 66/300\n",
            "73/73 [==============================] - 0s 3ms/step - loss: 0.4558 - accuracy: 0.8010 - val_loss: 0.4366 - val_accuracy: 0.8008\n",
            "Epoch 67/300\n",
            "73/73 [==============================] - 0s 3ms/step - loss: 0.4621 - accuracy: 0.7986 - val_loss: 0.4387 - val_accuracy: 0.8008\n",
            "Epoch 68/300\n",
            "73/73 [==============================] - 0s 4ms/step - loss: 0.4579 - accuracy: 0.8006 - val_loss: 0.4376 - val_accuracy: 0.8008\n",
            "Epoch 69/300\n",
            "73/73 [==============================] - 0s 5ms/step - loss: 0.4591 - accuracy: 0.7985 - val_loss: 0.4375 - val_accuracy: 0.8008\n",
            "Epoch 70/300\n",
            "73/73 [==============================] - 1s 7ms/step - loss: 0.4634 - accuracy: 0.7983 - val_loss: 0.4370 - val_accuracy: 0.8008\n",
            "Epoch 71/300\n",
            "73/73 [==============================] - 0s 4ms/step - loss: 0.4608 - accuracy: 0.7992 - val_loss: 0.4370 - val_accuracy: 0.8008\n",
            "Epoch 72/300\n",
            "73/73 [==============================] - 0s 4ms/step - loss: 0.4586 - accuracy: 0.7978 - val_loss: 0.4367 - val_accuracy: 0.8008\n",
            "Epoch 73/300\n",
            "73/73 [==============================] - 0s 4ms/step - loss: 0.4564 - accuracy: 0.7989 - val_loss: 0.4372 - val_accuracy: 0.8008\n",
            "Epoch 74/300\n",
            "73/73 [==============================] - 0s 2ms/step - loss: 0.4540 - accuracy: 0.8012 - val_loss: 0.4353 - val_accuracy: 0.8008\n",
            "Epoch 75/300\n",
            "73/73 [==============================] - 0s 3ms/step - loss: 0.4506 - accuracy: 0.8032 - val_loss: 0.4333 - val_accuracy: 0.8008\n",
            "Epoch 76/300\n",
            "73/73 [==============================] - 0s 2ms/step - loss: 0.4574 - accuracy: 0.7981 - val_loss: 0.4360 - val_accuracy: 0.8008\n",
            "Epoch 77/300\n",
            "73/73 [==============================] - 0s 2ms/step - loss: 0.4539 - accuracy: 0.8019 - val_loss: 0.4340 - val_accuracy: 0.8008\n",
            "Epoch 78/300\n",
            "73/73 [==============================] - 0s 2ms/step - loss: 0.4574 - accuracy: 0.8015 - val_loss: 0.4328 - val_accuracy: 0.8008\n",
            "Epoch 79/300\n",
            "73/73 [==============================] - 0s 2ms/step - loss: 0.4507 - accuracy: 0.8000 - val_loss: 0.4319 - val_accuracy: 0.8008\n",
            "Epoch 80/300\n",
            "73/73 [==============================] - 0s 2ms/step - loss: 0.4606 - accuracy: 0.7968 - val_loss: 0.4322 - val_accuracy: 0.8008\n",
            "Epoch 81/300\n",
            "73/73 [==============================] - 0s 2ms/step - loss: 0.4524 - accuracy: 0.8007 - val_loss: 0.4337 - val_accuracy: 0.8008\n",
            "Epoch 82/300\n",
            "73/73 [==============================] - 0s 2ms/step - loss: 0.4546 - accuracy: 0.7988 - val_loss: 0.4324 - val_accuracy: 0.8008\n",
            "Epoch 83/300\n",
            "73/73 [==============================] - 0s 2ms/step - loss: 0.4532 - accuracy: 0.8001 - val_loss: 0.4322 - val_accuracy: 0.8008\n",
            "Epoch 84/300\n",
            "73/73 [==============================] - 0s 2ms/step - loss: 0.4581 - accuracy: 0.7999 - val_loss: 0.4323 - val_accuracy: 0.8008\n",
            "Epoch 85/300\n",
            "73/73 [==============================] - 0s 2ms/step - loss: 0.4549 - accuracy: 0.8021 - val_loss: 0.4312 - val_accuracy: 0.8008\n",
            "Epoch 86/300\n",
            "73/73 [==============================] - 0s 2ms/step - loss: 0.4552 - accuracy: 0.8012 - val_loss: 0.4307 - val_accuracy: 0.8008\n",
            "Epoch 87/300\n",
            "73/73 [==============================] - 0s 2ms/step - loss: 0.4540 - accuracy: 0.7988 - val_loss: 0.4300 - val_accuracy: 0.8008\n",
            "Epoch 88/300\n",
            "73/73 [==============================] - 0s 3ms/step - loss: 0.4543 - accuracy: 0.8037 - val_loss: 0.4297 - val_accuracy: 0.8008\n",
            "Epoch 89/300\n",
            "73/73 [==============================] - 0s 2ms/step - loss: 0.4578 - accuracy: 0.8001 - val_loss: 0.4336 - val_accuracy: 0.8008\n",
            "Epoch 90/300\n",
            "73/73 [==============================] - 0s 3ms/step - loss: 0.4595 - accuracy: 0.8025 - val_loss: 0.4311 - val_accuracy: 0.8008\n",
            "Epoch 91/300\n",
            "73/73 [==============================] - 0s 2ms/step - loss: 0.4589 - accuracy: 0.8004 - val_loss: 0.4292 - val_accuracy: 0.8008\n",
            "Epoch 92/300\n",
            "73/73 [==============================] - 0s 2ms/step - loss: 0.4557 - accuracy: 0.7994 - val_loss: 0.4327 - val_accuracy: 0.8008\n",
            "Epoch 93/300\n",
            "73/73 [==============================] - 0s 3ms/step - loss: 0.4522 - accuracy: 0.7981 - val_loss: 0.4315 - val_accuracy: 0.8008\n",
            "Epoch 94/300\n",
            "73/73 [==============================] - 0s 2ms/step - loss: 0.4571 - accuracy: 0.7982 - val_loss: 0.4306 - val_accuracy: 0.8008\n",
            "Epoch 95/300\n",
            "73/73 [==============================] - 0s 3ms/step - loss: 0.4539 - accuracy: 0.7999 - val_loss: 0.4309 - val_accuracy: 0.8008\n",
            "Epoch 96/300\n",
            "73/73 [==============================] - 0s 2ms/step - loss: 0.4534 - accuracy: 0.7996 - val_loss: 0.4308 - val_accuracy: 0.8008\n",
            "Epoch 97/300\n",
            "73/73 [==============================] - 0s 2ms/step - loss: 0.4558 - accuracy: 0.8012 - val_loss: 0.4312 - val_accuracy: 0.8008\n",
            "Epoch 98/300\n",
            "73/73 [==============================] - 0s 2ms/step - loss: 0.4552 - accuracy: 0.8010 - val_loss: 0.4298 - val_accuracy: 0.8008\n",
            "Epoch 99/300\n",
            "73/73 [==============================] - 0s 2ms/step - loss: 0.4519 - accuracy: 0.8022 - val_loss: 0.4279 - val_accuracy: 0.8008\n",
            "Epoch 100/300\n",
            "73/73 [==============================] - 0s 2ms/step - loss: 0.4497 - accuracy: 0.8015 - val_loss: 0.4275 - val_accuracy: 0.8008\n",
            "Epoch 101/300\n",
            "73/73 [==============================] - 0s 2ms/step - loss: 0.4639 - accuracy: 0.8003 - val_loss: 0.4303 - val_accuracy: 0.8008\n",
            "Epoch 102/300\n",
            "73/73 [==============================] - 0s 2ms/step - loss: 0.4518 - accuracy: 0.8011 - val_loss: 0.4273 - val_accuracy: 0.8008\n",
            "Epoch 103/300\n",
            "73/73 [==============================] - 0s 4ms/step - loss: 0.4465 - accuracy: 0.8015 - val_loss: 0.4257 - val_accuracy: 0.8008\n",
            "Epoch 104/300\n",
            "73/73 [==============================] - 0s 2ms/step - loss: 0.4537 - accuracy: 0.7996 - val_loss: 0.4259 - val_accuracy: 0.8008\n",
            "Epoch 105/300\n",
            "73/73 [==============================] - 0s 4ms/step - loss: 0.4519 - accuracy: 0.8035 - val_loss: 0.4256 - val_accuracy: 0.8008\n",
            "Epoch 106/300\n",
            "73/73 [==============================] - 0s 3ms/step - loss: 0.4557 - accuracy: 0.8010 - val_loss: 0.4265 - val_accuracy: 0.8008\n",
            "Epoch 107/300\n",
            "73/73 [==============================] - 0s 3ms/step - loss: 0.4561 - accuracy: 0.8008 - val_loss: 0.4272 - val_accuracy: 0.8008\n",
            "Epoch 108/300\n",
            "73/73 [==============================] - 0s 4ms/step - loss: 0.4535 - accuracy: 0.8021 - val_loss: 0.4272 - val_accuracy: 0.8008\n",
            "Epoch 109/300\n",
            "73/73 [==============================] - 0s 2ms/step - loss: 0.4549 - accuracy: 0.8011 - val_loss: 0.4252 - val_accuracy: 0.8008\n",
            "Epoch 110/300\n",
            "73/73 [==============================] - 0s 3ms/step - loss: 0.4532 - accuracy: 0.8007 - val_loss: 0.4253 - val_accuracy: 0.8008\n",
            "Epoch 111/300\n",
            "73/73 [==============================] - 0s 2ms/step - loss: 0.4528 - accuracy: 0.8028 - val_loss: 0.4270 - val_accuracy: 0.8008\n",
            "Epoch 112/300\n",
            "73/73 [==============================] - 0s 3ms/step - loss: 0.4501 - accuracy: 0.8011 - val_loss: 0.4264 - val_accuracy: 0.8008\n",
            "Epoch 113/300\n",
            "73/73 [==============================] - 0s 3ms/step - loss: 0.4552 - accuracy: 0.7994 - val_loss: 0.4267 - val_accuracy: 0.8008\n",
            "Epoch 114/300\n",
            "73/73 [==============================] - 0s 2ms/step - loss: 0.4527 - accuracy: 0.8017 - val_loss: 0.4253 - val_accuracy: 0.8008\n",
            "Epoch 115/300\n",
            "73/73 [==============================] - 0s 3ms/step - loss: 0.4534 - accuracy: 0.8003 - val_loss: 0.4246 - val_accuracy: 0.8008\n",
            "Epoch 116/300\n",
            "73/73 [==============================] - 0s 2ms/step - loss: 0.4525 - accuracy: 0.8010 - val_loss: 0.4245 - val_accuracy: 0.8008\n",
            "Epoch 117/300\n",
            "73/73 [==============================] - 0s 5ms/step - loss: 0.4501 - accuracy: 0.8040 - val_loss: 0.4238 - val_accuracy: 0.8008\n",
            "Epoch 118/300\n",
            "73/73 [==============================] - 0s 4ms/step - loss: 0.4546 - accuracy: 0.7993 - val_loss: 0.4272 - val_accuracy: 0.8008\n",
            "Epoch 119/300\n",
            "73/73 [==============================] - 0s 5ms/step - loss: 0.4487 - accuracy: 0.8044 - val_loss: 0.4268 - val_accuracy: 0.8008\n",
            "Epoch 120/300\n",
            "73/73 [==============================] - 0s 5ms/step - loss: 0.4542 - accuracy: 0.7994 - val_loss: 0.4264 - val_accuracy: 0.8008\n",
            "Epoch 121/300\n",
            "73/73 [==============================] - 0s 4ms/step - loss: 0.4485 - accuracy: 0.8014 - val_loss: 0.4255 - val_accuracy: 0.8008\n",
            "Epoch 122/300\n",
            "73/73 [==============================] - 0s 4ms/step - loss: 0.4535 - accuracy: 0.8003 - val_loss: 0.4248 - val_accuracy: 0.8008\n",
            "Epoch 123/300\n",
            "73/73 [==============================] - 0s 5ms/step - loss: 0.4528 - accuracy: 0.8040 - val_loss: 0.4239 - val_accuracy: 0.8008\n",
            "Epoch 124/300\n",
            "73/73 [==============================] - 1s 8ms/step - loss: 0.4530 - accuracy: 0.8011 - val_loss: 0.4251 - val_accuracy: 0.8008\n",
            "Epoch 125/300\n",
            "73/73 [==============================] - 1s 7ms/step - loss: 0.4536 - accuracy: 0.8018 - val_loss: 0.4265 - val_accuracy: 0.8008\n",
            "Epoch 126/300\n",
            "73/73 [==============================] - 0s 4ms/step - loss: 0.4469 - accuracy: 0.8017 - val_loss: 0.4241 - val_accuracy: 0.8008\n",
            "Epoch 127/300\n",
            "73/73 [==============================] - 0s 3ms/step - loss: 0.4495 - accuracy: 0.8011 - val_loss: 0.4236 - val_accuracy: 0.8008\n",
            "Epoch 128/300\n",
            "73/73 [==============================] - 0s 3ms/step - loss: 0.4479 - accuracy: 0.8043 - val_loss: 0.4231 - val_accuracy: 0.8008\n",
            "Epoch 129/300\n",
            "73/73 [==============================] - 0s 2ms/step - loss: 0.4487 - accuracy: 0.8035 - val_loss: 0.4223 - val_accuracy: 0.8008\n",
            "Epoch 130/300\n",
            "73/73 [==============================] - 0s 3ms/step - loss: 0.4479 - accuracy: 0.8028 - val_loss: 0.4216 - val_accuracy: 0.8008\n",
            "Epoch 131/300\n",
            "73/73 [==============================] - 0s 3ms/step - loss: 0.4505 - accuracy: 0.8014 - val_loss: 0.4231 - val_accuracy: 0.8008\n",
            "Epoch 132/300\n",
            "73/73 [==============================] - 0s 4ms/step - loss: 0.4552 - accuracy: 0.8012 - val_loss: 0.4236 - val_accuracy: 0.8008\n",
            "Epoch 133/300\n",
            "73/73 [==============================] - 0s 3ms/step - loss: 0.4517 - accuracy: 0.8001 - val_loss: 0.4233 - val_accuracy: 0.8008\n",
            "Epoch 134/300\n",
            "73/73 [==============================] - 0s 3ms/step - loss: 0.4473 - accuracy: 0.8015 - val_loss: 0.4209 - val_accuracy: 0.8008\n",
            "Epoch 135/300\n",
            "73/73 [==============================] - 0s 4ms/step - loss: 0.4504 - accuracy: 0.8032 - val_loss: 0.4217 - val_accuracy: 0.8008\n",
            "Epoch 136/300\n",
            "73/73 [==============================] - 0s 2ms/step - loss: 0.4516 - accuracy: 0.7997 - val_loss: 0.4228 - val_accuracy: 0.8008\n",
            "Epoch 137/300\n",
            "73/73 [==============================] - 0s 3ms/step - loss: 0.4562 - accuracy: 0.8012 - val_loss: 0.4232 - val_accuracy: 0.8008\n",
            "Epoch 138/300\n",
            "73/73 [==============================] - 0s 4ms/step - loss: 0.4460 - accuracy: 0.8035 - val_loss: 0.4217 - val_accuracy: 0.8008\n",
            "Epoch 139/300\n",
            "73/73 [==============================] - 0s 4ms/step - loss: 0.4463 - accuracy: 0.8010 - val_loss: 0.4217 - val_accuracy: 0.8008\n",
            "Epoch 140/300\n",
            "73/73 [==============================] - 0s 5ms/step - loss: 0.4513 - accuracy: 0.8026 - val_loss: 0.4233 - val_accuracy: 0.8008\n",
            "Epoch 141/300\n",
            "73/73 [==============================] - 0s 5ms/step - loss: 0.4502 - accuracy: 0.8017 - val_loss: 0.4222 - val_accuracy: 0.8008\n",
            "Epoch 142/300\n",
            "73/73 [==============================] - 0s 4ms/step - loss: 0.4498 - accuracy: 0.8030 - val_loss: 0.4220 - val_accuracy: 0.8008\n",
            "Epoch 143/300\n",
            "73/73 [==============================] - 0s 6ms/step - loss: 0.4464 - accuracy: 0.7992 - val_loss: 0.4222 - val_accuracy: 0.8008\n",
            "Epoch 144/300\n",
            "73/73 [==============================] - 0s 6ms/step - loss: 0.4530 - accuracy: 0.7978 - val_loss: 0.4232 - val_accuracy: 0.8008\n",
            "Epoch 145/300\n",
            "73/73 [==============================] - 0s 5ms/step - loss: 0.4493 - accuracy: 0.8030 - val_loss: 0.4217 - val_accuracy: 0.8008\n",
            "Epoch 146/300\n",
            "73/73 [==============================] - 0s 5ms/step - loss: 0.4529 - accuracy: 0.7986 - val_loss: 0.4220 - val_accuracy: 0.8008\n",
            "Epoch 147/300\n",
            "73/73 [==============================] - 0s 4ms/step - loss: 0.4517 - accuracy: 0.8017 - val_loss: 0.4217 - val_accuracy: 0.8008\n",
            "Epoch 148/300\n",
            "73/73 [==============================] - 0s 4ms/step - loss: 0.4503 - accuracy: 0.8037 - val_loss: 0.4223 - val_accuracy: 0.8008\n",
            "Epoch 149/300\n",
            "73/73 [==============================] - 0s 4ms/step - loss: 0.4487 - accuracy: 0.8046 - val_loss: 0.4211 - val_accuracy: 0.8008\n",
            "Epoch 150/300\n",
            "73/73 [==============================] - 0s 4ms/step - loss: 0.4514 - accuracy: 0.8033 - val_loss: 0.4216 - val_accuracy: 0.8008\n",
            "Epoch 151/300\n",
            "73/73 [==============================] - 0s 4ms/step - loss: 0.4453 - accuracy: 0.8028 - val_loss: 0.4208 - val_accuracy: 0.8008\n",
            "Epoch 152/300\n",
            "73/73 [==============================] - 0s 5ms/step - loss: 0.4492 - accuracy: 0.8022 - val_loss: 0.4213 - val_accuracy: 0.8008\n",
            "Epoch 153/300\n",
            "73/73 [==============================] - 0s 4ms/step - loss: 0.4536 - accuracy: 0.7971 - val_loss: 0.4235 - val_accuracy: 0.8008\n",
            "Epoch 154/300\n",
            "73/73 [==============================] - 0s 3ms/step - loss: 0.4484 - accuracy: 0.7983 - val_loss: 0.4254 - val_accuracy: 0.8008\n",
            "Epoch 155/300\n",
            "73/73 [==============================] - 0s 4ms/step - loss: 0.4529 - accuracy: 0.8064 - val_loss: 0.4246 - val_accuracy: 0.8008\n",
            "Epoch 156/300\n",
            "73/73 [==============================] - 0s 3ms/step - loss: 0.4479 - accuracy: 0.8062 - val_loss: 0.4225 - val_accuracy: 0.8008\n",
            "Epoch 157/300\n",
            "73/73 [==============================] - 0s 5ms/step - loss: 0.4464 - accuracy: 0.8036 - val_loss: 0.4212 - val_accuracy: 0.8008\n",
            "Epoch 158/300\n",
            "73/73 [==============================] - 0s 4ms/step - loss: 0.4503 - accuracy: 0.7979 - val_loss: 0.4230 - val_accuracy: 0.8008\n",
            "Epoch 159/300\n",
            "73/73 [==============================] - 0s 4ms/step - loss: 0.4515 - accuracy: 0.7992 - val_loss: 0.4217 - val_accuracy: 0.8008\n",
            "Epoch 160/300\n",
            "73/73 [==============================] - 0s 4ms/step - loss: 0.4498 - accuracy: 0.8021 - val_loss: 0.4217 - val_accuracy: 0.8008\n",
            "Epoch 161/300\n",
            "73/73 [==============================] - 0s 3ms/step - loss: 0.4495 - accuracy: 0.8026 - val_loss: 0.4206 - val_accuracy: 0.8008\n",
            "Epoch 162/300\n",
            "73/73 [==============================] - 0s 4ms/step - loss: 0.4455 - accuracy: 0.8029 - val_loss: 0.4200 - val_accuracy: 0.8008\n",
            "Epoch 163/300\n",
            "73/73 [==============================] - 0s 2ms/step - loss: 0.4479 - accuracy: 0.8043 - val_loss: 0.4220 - val_accuracy: 0.8008\n",
            "Epoch 164/300\n",
            "73/73 [==============================] - 0s 3ms/step - loss: 0.4539 - accuracy: 0.8024 - val_loss: 0.4235 - val_accuracy: 0.8008\n",
            "Epoch 165/300\n",
            "73/73 [==============================] - 0s 3ms/step - loss: 0.4522 - accuracy: 0.8021 - val_loss: 0.4241 - val_accuracy: 0.8008\n",
            "Epoch 166/300\n",
            "73/73 [==============================] - 0s 3ms/step - loss: 0.4512 - accuracy: 0.8017 - val_loss: 0.4220 - val_accuracy: 0.8008\n",
            "Epoch 167/300\n",
            "73/73 [==============================] - 0s 3ms/step - loss: 0.4486 - accuracy: 0.8028 - val_loss: 0.4211 - val_accuracy: 0.8008\n",
            "Epoch 168/300\n",
            "73/73 [==============================] - 0s 3ms/step - loss: 0.4481 - accuracy: 0.8014 - val_loss: 0.4217 - val_accuracy: 0.8008\n",
            "Epoch 169/300\n",
            "73/73 [==============================] - 0s 3ms/step - loss: 0.4499 - accuracy: 0.8048 - val_loss: 0.4204 - val_accuracy: 0.8008\n",
            "Epoch 170/300\n",
            "73/73 [==============================] - 0s 2ms/step - loss: 0.4531 - accuracy: 0.8048 - val_loss: 0.4249 - val_accuracy: 0.8008\n",
            "Epoch 171/300\n",
            "73/73 [==============================] - 0s 3ms/step - loss: 0.4514 - accuracy: 0.8008 - val_loss: 0.4211 - val_accuracy: 0.8008\n",
            "Epoch 172/300\n",
            "73/73 [==============================] - 0s 3ms/step - loss: 0.4455 - accuracy: 0.8042 - val_loss: 0.4219 - val_accuracy: 0.8008\n",
            "Epoch 173/300\n",
            "73/73 [==============================] - 0s 2ms/step - loss: 0.4530 - accuracy: 0.7996 - val_loss: 0.4228 - val_accuracy: 0.8008\n",
            "Epoch 174/300\n",
            "73/73 [==============================] - 0s 3ms/step - loss: 0.4485 - accuracy: 0.8033 - val_loss: 0.4209 - val_accuracy: 0.8008\n",
            "Epoch 175/300\n",
            "73/73 [==============================] - 0s 2ms/step - loss: 0.4543 - accuracy: 0.8010 - val_loss: 0.4221 - val_accuracy: 0.8008\n",
            "Epoch 176/300\n",
            "73/73 [==============================] - 0s 2ms/step - loss: 0.4545 - accuracy: 0.8021 - val_loss: 0.4218 - val_accuracy: 0.8008\n",
            "Epoch 177/300\n",
            "73/73 [==============================] - 0s 2ms/step - loss: 0.4477 - accuracy: 0.8028 - val_loss: 0.4214 - val_accuracy: 0.8008\n",
            "Epoch 178/300\n",
            "73/73 [==============================] - 0s 2ms/step - loss: 0.4511 - accuracy: 0.8019 - val_loss: 0.4216 - val_accuracy: 0.8008\n",
            "Epoch 179/300\n",
            "73/73 [==============================] - 0s 2ms/step - loss: 0.4467 - accuracy: 0.8025 - val_loss: 0.4209 - val_accuracy: 0.8008\n",
            "Epoch 180/300\n",
            "73/73 [==============================] - 0s 3ms/step - loss: 0.4517 - accuracy: 0.8062 - val_loss: 0.4221 - val_accuracy: 0.8008\n",
            "Epoch 181/300\n",
            "73/73 [==============================] - 0s 2ms/step - loss: 0.4508 - accuracy: 0.8010 - val_loss: 0.4223 - val_accuracy: 0.8008\n",
            "Epoch 182/300\n",
            "73/73 [==============================] - 0s 2ms/step - loss: 0.4546 - accuracy: 0.8040 - val_loss: 0.4227 - val_accuracy: 0.8008\n",
            "Epoch 183/300\n",
            "73/73 [==============================] - 0s 2ms/step - loss: 0.4523 - accuracy: 0.7970 - val_loss: 0.4232 - val_accuracy: 0.8008\n",
            "Epoch 184/300\n",
            "73/73 [==============================] - 0s 2ms/step - loss: 0.4485 - accuracy: 0.8017 - val_loss: 0.4222 - val_accuracy: 0.8008\n",
            "Epoch 185/300\n",
            "73/73 [==============================] - 0s 3ms/step - loss: 0.4517 - accuracy: 0.8017 - val_loss: 0.4220 - val_accuracy: 0.8008\n",
            "Epoch 186/300\n",
            "73/73 [==============================] - 0s 2ms/step - loss: 0.4494 - accuracy: 0.8019 - val_loss: 0.4219 - val_accuracy: 0.8008\n",
            "Epoch 187/300\n",
            "73/73 [==============================] - 0s 3ms/step - loss: 0.4552 - accuracy: 0.8025 - val_loss: 0.4224 - val_accuracy: 0.8008\n",
            "Epoch 188/300\n",
            "73/73 [==============================] - 0s 2ms/step - loss: 0.4534 - accuracy: 0.7976 - val_loss: 0.4225 - val_accuracy: 0.8008\n",
            "Epoch 189/300\n",
            "73/73 [==============================] - 0s 2ms/step - loss: 0.4539 - accuracy: 0.7994 - val_loss: 0.4223 - val_accuracy: 0.8008\n",
            "Epoch 190/300\n",
            "73/73 [==============================] - 0s 3ms/step - loss: 0.4530 - accuracy: 0.7986 - val_loss: 0.4215 - val_accuracy: 0.8008\n",
            "Epoch 191/300\n",
            "73/73 [==============================] - 0s 3ms/step - loss: 0.4504 - accuracy: 0.8007 - val_loss: 0.4232 - val_accuracy: 0.8008\n",
            "Epoch 192/300\n",
            "73/73 [==============================] - 0s 2ms/step - loss: 0.4539 - accuracy: 0.7983 - val_loss: 0.4250 - val_accuracy: 0.8008\n",
            "Epoch 193/300\n",
            "73/73 [==============================] - 0s 2ms/step - loss: 0.4497 - accuracy: 0.8012 - val_loss: 0.4227 - val_accuracy: 0.8008\n",
            "Epoch 194/300\n",
            "73/73 [==============================] - 0s 2ms/step - loss: 0.4497 - accuracy: 0.7992 - val_loss: 0.4222 - val_accuracy: 0.8008\n",
            "Epoch 195/300\n",
            "73/73 [==============================] - 0s 2ms/step - loss: 0.4464 - accuracy: 0.8011 - val_loss: 0.4234 - val_accuracy: 0.8008\n",
            "Epoch 196/300\n",
            "73/73 [==============================] - 0s 3ms/step - loss: 0.4532 - accuracy: 0.8007 - val_loss: 0.4230 - val_accuracy: 0.8008\n",
            "Epoch 197/300\n",
            "73/73 [==============================] - 0s 3ms/step - loss: 0.4440 - accuracy: 0.8028 - val_loss: 0.4226 - val_accuracy: 0.8008\n",
            "Epoch 198/300\n",
            "73/73 [==============================] - 0s 3ms/step - loss: 0.4477 - accuracy: 0.8030 - val_loss: 0.4207 - val_accuracy: 0.8008\n",
            "Epoch 199/300\n",
            "73/73 [==============================] - 0s 2ms/step - loss: 0.4470 - accuracy: 0.8040 - val_loss: 0.4187 - val_accuracy: 0.8008\n",
            "Epoch 200/300\n",
            "73/73 [==============================] - 0s 2ms/step - loss: 0.4517 - accuracy: 0.8003 - val_loss: 0.4197 - val_accuracy: 0.8008\n",
            "Epoch 201/300\n",
            "73/73 [==============================] - 0s 3ms/step - loss: 0.4480 - accuracy: 0.8008 - val_loss: 0.4197 - val_accuracy: 0.8008\n",
            "Epoch 202/300\n",
            "73/73 [==============================] - 0s 3ms/step - loss: 0.4541 - accuracy: 0.8030 - val_loss: 0.4193 - val_accuracy: 0.8008\n",
            "Epoch 203/300\n",
            "73/73 [==============================] - 0s 2ms/step - loss: 0.4475 - accuracy: 0.8037 - val_loss: 0.4193 - val_accuracy: 0.8008\n",
            "Epoch 204/300\n",
            "73/73 [==============================] - 0s 2ms/step - loss: 0.4516 - accuracy: 0.8037 - val_loss: 0.4220 - val_accuracy: 0.8008\n",
            "Epoch 205/300\n",
            "73/73 [==============================] - 0s 2ms/step - loss: 0.4497 - accuracy: 0.8033 - val_loss: 0.4206 - val_accuracy: 0.8008\n",
            "Epoch 206/300\n",
            "73/73 [==============================] - 0s 3ms/step - loss: 0.4507 - accuracy: 0.8029 - val_loss: 0.4204 - val_accuracy: 0.8008\n",
            "Epoch 207/300\n",
            "73/73 [==============================] - 0s 2ms/step - loss: 0.4490 - accuracy: 0.8029 - val_loss: 0.4200 - val_accuracy: 0.8008\n",
            "Epoch 208/300\n",
            "73/73 [==============================] - 0s 2ms/step - loss: 0.4489 - accuracy: 0.8017 - val_loss: 0.4200 - val_accuracy: 0.8008\n",
            "Epoch 209/300\n",
            "73/73 [==============================] - 0s 2ms/step - loss: 0.4457 - accuracy: 0.8054 - val_loss: 0.4213 - val_accuracy: 0.8008\n",
            "Epoch 210/300\n",
            "73/73 [==============================] - 0s 2ms/step - loss: 0.4547 - accuracy: 0.7993 - val_loss: 0.4204 - val_accuracy: 0.8008\n",
            "Epoch 211/300\n",
            "73/73 [==============================] - 0s 2ms/step - loss: 0.4500 - accuracy: 0.8021 - val_loss: 0.4201 - val_accuracy: 0.8008\n",
            "Epoch 212/300\n",
            "73/73 [==============================] - 0s 2ms/step - loss: 0.4459 - accuracy: 0.8024 - val_loss: 0.4204 - val_accuracy: 0.8008\n",
            "Epoch 213/300\n",
            "73/73 [==============================] - 0s 2ms/step - loss: 0.4485 - accuracy: 0.8019 - val_loss: 0.4211 - val_accuracy: 0.8008\n",
            "Epoch 214/300\n",
            "73/73 [==============================] - 0s 2ms/step - loss: 0.4545 - accuracy: 0.7974 - val_loss: 0.4204 - val_accuracy: 0.8008\n",
            "Epoch 215/300\n",
            "73/73 [==============================] - 0s 2ms/step - loss: 0.4474 - accuracy: 0.8022 - val_loss: 0.4193 - val_accuracy: 0.8008\n",
            "Epoch 216/300\n",
            "73/73 [==============================] - 0s 3ms/step - loss: 0.4511 - accuracy: 0.8033 - val_loss: 0.4202 - val_accuracy: 0.8008\n",
            "Epoch 217/300\n",
            "73/73 [==============================] - 0s 3ms/step - loss: 0.4503 - accuracy: 0.8021 - val_loss: 0.4214 - val_accuracy: 0.8008\n",
            "Epoch 218/300\n",
            "73/73 [==============================] - 0s 3ms/step - loss: 0.4487 - accuracy: 0.8071 - val_loss: 0.4200 - val_accuracy: 0.8008\n",
            "Epoch 219/300\n",
            "73/73 [==============================] - 0s 3ms/step - loss: 0.4526 - accuracy: 0.8054 - val_loss: 0.4188 - val_accuracy: 0.8008\n",
            "Epoch 220/300\n",
            "73/73 [==============================] - 0s 3ms/step - loss: 0.4509 - accuracy: 0.8022 - val_loss: 0.4214 - val_accuracy: 0.8008\n",
            "Epoch 221/300\n",
            "73/73 [==============================] - 0s 3ms/step - loss: 0.4510 - accuracy: 0.8050 - val_loss: 0.4208 - val_accuracy: 0.8008\n",
            "Epoch 222/300\n",
            "73/73 [==============================] - 0s 3ms/step - loss: 0.4489 - accuracy: 0.8006 - val_loss: 0.4207 - val_accuracy: 0.8008\n",
            "Epoch 223/300\n",
            "73/73 [==============================] - 0s 2ms/step - loss: 0.4522 - accuracy: 0.8044 - val_loss: 0.4202 - val_accuracy: 0.8008\n",
            "Epoch 224/300\n",
            "73/73 [==============================] - 0s 2ms/step - loss: 0.4469 - accuracy: 0.8030 - val_loss: 0.4189 - val_accuracy: 0.8008\n",
            "Epoch 225/300\n",
            "73/73 [==============================] - 0s 2ms/step - loss: 0.4472 - accuracy: 0.8024 - val_loss: 0.4196 - val_accuracy: 0.8008\n",
            "Epoch 226/300\n",
            "73/73 [==============================] - 0s 2ms/step - loss: 0.4469 - accuracy: 0.8008 - val_loss: 0.4197 - val_accuracy: 0.8008\n",
            "Epoch 227/300\n",
            "73/73 [==============================] - 0s 3ms/step - loss: 0.4458 - accuracy: 0.8030 - val_loss: 0.4199 - val_accuracy: 0.8008\n",
            "Epoch 228/300\n",
            "73/73 [==============================] - 0s 3ms/step - loss: 0.4474 - accuracy: 0.8054 - val_loss: 0.4196 - val_accuracy: 0.8008\n",
            "Epoch 229/300\n",
            "73/73 [==============================] - 0s 2ms/step - loss: 0.4488 - accuracy: 0.8043 - val_loss: 0.4203 - val_accuracy: 0.8008\n",
            "Epoch 230/300\n",
            "73/73 [==============================] - 0s 3ms/step - loss: 0.4468 - accuracy: 0.8042 - val_loss: 0.4182 - val_accuracy: 0.8008\n",
            "Epoch 231/300\n",
            "73/73 [==============================] - 0s 2ms/step - loss: 0.4418 - accuracy: 0.8030 - val_loss: 0.4176 - val_accuracy: 0.8008\n",
            "Epoch 232/300\n",
            "73/73 [==============================] - 0s 3ms/step - loss: 0.4521 - accuracy: 0.8017 - val_loss: 0.4201 - val_accuracy: 0.8008\n",
            "Epoch 233/300\n",
            "73/73 [==============================] - 0s 3ms/step - loss: 0.4482 - accuracy: 0.8014 - val_loss: 0.4192 - val_accuracy: 0.8008\n",
            "Epoch 234/300\n",
            "73/73 [==============================] - 0s 3ms/step - loss: 0.4516 - accuracy: 0.8030 - val_loss: 0.4187 - val_accuracy: 0.8008\n",
            "Epoch 235/300\n",
            "73/73 [==============================] - 0s 3ms/step - loss: 0.4493 - accuracy: 0.8032 - val_loss: 0.4207 - val_accuracy: 0.8008\n",
            "Epoch 236/300\n",
            "73/73 [==============================] - 0s 3ms/step - loss: 0.4490 - accuracy: 0.8035 - val_loss: 0.4207 - val_accuracy: 0.8008\n",
            "Epoch 237/300\n",
            "73/73 [==============================] - 0s 2ms/step - loss: 0.4419 - accuracy: 0.8026 - val_loss: 0.4202 - val_accuracy: 0.8008\n",
            "Epoch 238/300\n",
            "73/73 [==============================] - 0s 3ms/step - loss: 0.4473 - accuracy: 0.8053 - val_loss: 0.4199 - val_accuracy: 0.8008\n",
            "Epoch 239/300\n",
            "73/73 [==============================] - 0s 2ms/step - loss: 0.4469 - accuracy: 0.8053 - val_loss: 0.4195 - val_accuracy: 0.8008\n",
            "Epoch 240/300\n",
            "73/73 [==============================] - 0s 2ms/step - loss: 0.4451 - accuracy: 0.8017 - val_loss: 0.4180 - val_accuracy: 0.8008\n",
            "Epoch 241/300\n",
            "73/73 [==============================] - 0s 3ms/step - loss: 0.4504 - accuracy: 0.8028 - val_loss: 0.4214 - val_accuracy: 0.8008\n",
            "Epoch 242/300\n",
            "73/73 [==============================] - 0s 3ms/step - loss: 0.4517 - accuracy: 0.8035 - val_loss: 0.4222 - val_accuracy: 0.8008\n",
            "Epoch 243/300\n",
            "73/73 [==============================] - 0s 3ms/step - loss: 0.4431 - accuracy: 0.8029 - val_loss: 0.4200 - val_accuracy: 0.8008\n",
            "Epoch 244/300\n",
            "73/73 [==============================] - 0s 3ms/step - loss: 0.4469 - accuracy: 0.8035 - val_loss: 0.4196 - val_accuracy: 0.8008\n",
            "Epoch 245/300\n",
            "73/73 [==============================] - 0s 2ms/step - loss: 0.4516 - accuracy: 0.8061 - val_loss: 0.4201 - val_accuracy: 0.8008\n",
            "Epoch 246/300\n",
            "73/73 [==============================] - 0s 2ms/step - loss: 0.4499 - accuracy: 0.8008 - val_loss: 0.4195 - val_accuracy: 0.8008\n",
            "Epoch 247/300\n",
            "73/73 [==============================] - 0s 2ms/step - loss: 0.4527 - accuracy: 0.8029 - val_loss: 0.4237 - val_accuracy: 0.8008\n",
            "Epoch 248/300\n",
            "73/73 [==============================] - 0s 3ms/step - loss: 0.4480 - accuracy: 0.8025 - val_loss: 0.4212 - val_accuracy: 0.8008\n",
            "Epoch 249/300\n",
            "73/73 [==============================] - 0s 3ms/step - loss: 0.4480 - accuracy: 0.8047 - val_loss: 0.4212 - val_accuracy: 0.8008\n",
            "Epoch 250/300\n",
            "73/73 [==============================] - 0s 2ms/step - loss: 0.4489 - accuracy: 0.8012 - val_loss: 0.4207 - val_accuracy: 0.8008\n",
            "Epoch 251/300\n",
            "73/73 [==============================] - 0s 2ms/step - loss: 0.4483 - accuracy: 0.8043 - val_loss: 0.4205 - val_accuracy: 0.8008\n",
            "Epoch 252/300\n",
            "73/73 [==============================] - 0s 3ms/step - loss: 0.4475 - accuracy: 0.8061 - val_loss: 0.4210 - val_accuracy: 0.8008\n",
            "Epoch 253/300\n",
            "73/73 [==============================] - 0s 2ms/step - loss: 0.4481 - accuracy: 0.8055 - val_loss: 0.4198 - val_accuracy: 0.8008\n",
            "Epoch 254/300\n",
            "73/73 [==============================] - 0s 2ms/step - loss: 0.4536 - accuracy: 0.8039 - val_loss: 0.4201 - val_accuracy: 0.8008\n",
            "Epoch 255/300\n",
            "73/73 [==============================] - 0s 3ms/step - loss: 0.4491 - accuracy: 0.8004 - val_loss: 0.4203 - val_accuracy: 0.8008\n",
            "Epoch 256/300\n",
            "73/73 [==============================] - 0s 2ms/step - loss: 0.4440 - accuracy: 0.8050 - val_loss: 0.4190 - val_accuracy: 0.8008\n",
            "Epoch 257/300\n",
            "73/73 [==============================] - 0s 3ms/step - loss: 0.4465 - accuracy: 0.8011 - val_loss: 0.4199 - val_accuracy: 0.8008\n",
            "Epoch 258/300\n",
            "73/73 [==============================] - 0s 3ms/step - loss: 0.4473 - accuracy: 0.8043 - val_loss: 0.4191 - val_accuracy: 0.8008\n",
            "Epoch 259/300\n",
            "73/73 [==============================] - 0s 3ms/step - loss: 0.4474 - accuracy: 0.8061 - val_loss: 0.4202 - val_accuracy: 0.8008\n",
            "Epoch 260/300\n",
            "73/73 [==============================] - 0s 2ms/step - loss: 0.4465 - accuracy: 0.8028 - val_loss: 0.4199 - val_accuracy: 0.8008\n",
            "Epoch 261/300\n",
            "73/73 [==============================] - 0s 2ms/step - loss: 0.4483 - accuracy: 0.8037 - val_loss: 0.4198 - val_accuracy: 0.8008\n",
            "Epoch 262/300\n",
            "73/73 [==============================] - 0s 3ms/step - loss: 0.4420 - accuracy: 0.8046 - val_loss: 0.4187 - val_accuracy: 0.8008\n",
            "Epoch 263/300\n",
            "73/73 [==============================] - 0s 2ms/step - loss: 0.4489 - accuracy: 0.7997 - val_loss: 0.4191 - val_accuracy: 0.8008\n",
            "Epoch 264/300\n",
            "73/73 [==============================] - 0s 3ms/step - loss: 0.4462 - accuracy: 0.8055 - val_loss: 0.4199 - val_accuracy: 0.8008\n",
            "Epoch 265/300\n",
            "73/73 [==============================] - 0s 3ms/step - loss: 0.4495 - accuracy: 0.8006 - val_loss: 0.4210 - val_accuracy: 0.8008\n",
            "Epoch 266/300\n",
            "73/73 [==============================] - 0s 3ms/step - loss: 0.4482 - accuracy: 0.8033 - val_loss: 0.4195 - val_accuracy: 0.8008\n",
            "Epoch 267/300\n",
            "73/73 [==============================] - 0s 2ms/step - loss: 0.4436 - accuracy: 0.8046 - val_loss: 0.4186 - val_accuracy: 0.8008\n",
            "Epoch 268/300\n",
            "73/73 [==============================] - 0s 3ms/step - loss: 0.4475 - accuracy: 0.8033 - val_loss: 0.4199 - val_accuracy: 0.8008\n",
            "Epoch 269/300\n",
            "73/73 [==============================] - 0s 2ms/step - loss: 0.4474 - accuracy: 0.8010 - val_loss: 0.4197 - val_accuracy: 0.8008\n",
            "Epoch 270/300\n",
            "73/73 [==============================] - 0s 2ms/step - loss: 0.4507 - accuracy: 0.7993 - val_loss: 0.4202 - val_accuracy: 0.8008\n",
            "Epoch 271/300\n",
            "73/73 [==============================] - 0s 2ms/step - loss: 0.4461 - accuracy: 0.8032 - val_loss: 0.4192 - val_accuracy: 0.8008\n",
            "Epoch 272/300\n",
            "73/73 [==============================] - 0s 2ms/step - loss: 0.4438 - accuracy: 0.8022 - val_loss: 0.4195 - val_accuracy: 0.8008\n",
            "Epoch 273/300\n",
            "73/73 [==============================] - 0s 3ms/step - loss: 0.4480 - accuracy: 0.8024 - val_loss: 0.4198 - val_accuracy: 0.8008\n",
            "Epoch 274/300\n",
            "73/73 [==============================] - 0s 2ms/step - loss: 0.4446 - accuracy: 0.8037 - val_loss: 0.4198 - val_accuracy: 0.8008\n",
            "Epoch 275/300\n",
            "73/73 [==============================] - 0s 3ms/step - loss: 0.4482 - accuracy: 0.8024 - val_loss: 0.4197 - val_accuracy: 0.8008\n",
            "Epoch 276/300\n",
            "73/73 [==============================] - 0s 2ms/step - loss: 0.4480 - accuracy: 0.8018 - val_loss: 0.4201 - val_accuracy: 0.8008\n",
            "Epoch 277/300\n",
            "73/73 [==============================] - 0s 2ms/step - loss: 0.4512 - accuracy: 0.8011 - val_loss: 0.4203 - val_accuracy: 0.8008\n",
            "Epoch 278/300\n",
            "73/73 [==============================] - 0s 3ms/step - loss: 0.4512 - accuracy: 0.8029 - val_loss: 0.4205 - val_accuracy: 0.8008\n",
            "Epoch 279/300\n",
            "73/73 [==============================] - 0s 2ms/step - loss: 0.4484 - accuracy: 0.8022 - val_loss: 0.4208 - val_accuracy: 0.8008\n",
            "Epoch 280/300\n",
            "73/73 [==============================] - 0s 3ms/step - loss: 0.4473 - accuracy: 0.8001 - val_loss: 0.4223 - val_accuracy: 0.8008\n",
            "Epoch 281/300\n",
            "73/73 [==============================] - 0s 2ms/step - loss: 0.4438 - accuracy: 0.8044 - val_loss: 0.4206 - val_accuracy: 0.8008\n",
            "Epoch 282/300\n",
            "73/73 [==============================] - 0s 2ms/step - loss: 0.4469 - accuracy: 0.8017 - val_loss: 0.4209 - val_accuracy: 0.8008\n",
            "Epoch 283/300\n",
            "73/73 [==============================] - 0s 2ms/step - loss: 0.4496 - accuracy: 0.8008 - val_loss: 0.4215 - val_accuracy: 0.8008\n",
            "Epoch 284/300\n",
            "73/73 [==============================] - 0s 2ms/step - loss: 0.4484 - accuracy: 0.8024 - val_loss: 0.4193 - val_accuracy: 0.8008\n",
            "Epoch 285/300\n",
            "73/73 [==============================] - 0s 3ms/step - loss: 0.4457 - accuracy: 0.8048 - val_loss: 0.4204 - val_accuracy: 0.8008\n",
            "Epoch 286/300\n",
            "73/73 [==============================] - 0s 3ms/step - loss: 0.4445 - accuracy: 0.8069 - val_loss: 0.4222 - val_accuracy: 0.8008\n",
            "Epoch 287/300\n",
            "73/73 [==============================] - 0s 3ms/step - loss: 0.4532 - accuracy: 0.7999 - val_loss: 0.4218 - val_accuracy: 0.8008\n",
            "Epoch 288/300\n",
            "73/73 [==============================] - 0s 2ms/step - loss: 0.4507 - accuracy: 0.8024 - val_loss: 0.4215 - val_accuracy: 0.8008\n",
            "Epoch 289/300\n",
            "73/73 [==============================] - 0s 3ms/step - loss: 0.4453 - accuracy: 0.8044 - val_loss: 0.4198 - val_accuracy: 0.8008\n",
            "Epoch 290/300\n",
            "73/73 [==============================] - 0s 3ms/step - loss: 0.4477 - accuracy: 0.8032 - val_loss: 0.4183 - val_accuracy: 0.8008\n",
            "Epoch 291/300\n",
            "73/73 [==============================] - 0s 3ms/step - loss: 0.4496 - accuracy: 0.7999 - val_loss: 0.4190 - val_accuracy: 0.8008\n",
            "Epoch 292/300\n",
            "73/73 [==============================] - 0s 2ms/step - loss: 0.4521 - accuracy: 0.7999 - val_loss: 0.4214 - val_accuracy: 0.8008\n",
            "Epoch 293/300\n",
            "73/73 [==============================] - 0s 3ms/step - loss: 0.4420 - accuracy: 0.8026 - val_loss: 0.4190 - val_accuracy: 0.8008\n",
            "Epoch 294/300\n",
            "73/73 [==============================] - 0s 3ms/step - loss: 0.4495 - accuracy: 0.7989 - val_loss: 0.4211 - val_accuracy: 0.8008\n",
            "Epoch 295/300\n",
            "73/73 [==============================] - 0s 3ms/step - loss: 0.4482 - accuracy: 0.8078 - val_loss: 0.4185 - val_accuracy: 0.8008\n",
            "Epoch 296/300\n",
            "73/73 [==============================] - 0s 3ms/step - loss: 0.4494 - accuracy: 0.8039 - val_loss: 0.4200 - val_accuracy: 0.8008\n",
            "Epoch 297/300\n",
            "73/73 [==============================] - 0s 3ms/step - loss: 0.4485 - accuracy: 0.8044 - val_loss: 0.4188 - val_accuracy: 0.8008\n",
            "Epoch 298/300\n",
            "73/73 [==============================] - 0s 2ms/step - loss: 0.4484 - accuracy: 0.8021 - val_loss: 0.4193 - val_accuracy: 0.8008\n",
            "Epoch 299/300\n",
            "73/73 [==============================] - 0s 3ms/step - loss: 0.4464 - accuracy: 0.8035 - val_loss: 0.4189 - val_accuracy: 0.8008\n",
            "Epoch 300/300\n",
            "73/73 [==============================] - 0s 3ms/step - loss: 0.4473 - accuracy: 0.8014 - val_loss: 0.4192 - val_accuracy: 0.8008\n"
          ]
        },
        {
          "output_type": "execute_result",
          "data": {
            "text/plain": [
              "<keras.callbacks.History at 0x7fa6381c3a10>"
            ]
          },
          "metadata": {},
          "execution_count": 105
        }
      ],
      "source": [
        "model.fit(x = X_train, y = y_train, validation_split = 0.15, batch_size = 100, epochs = 300, verbose = 1)"
      ]
    },
    {
      "cell_type": "code",
      "execution_count": 106,
      "metadata": {
        "id": "XH4ueub4uWYe",
        "outputId": "446b6d20-a840-4247-d255-444faf88f919",
        "colab": {
          "base_uri": "https://localhost:8080/",
          "height": 391
        }
      },
      "outputs": [
        {
          "output_type": "execute_result",
          "data": {
            "text/plain": [
              "<matplotlib.axes._subplots.AxesSubplot at 0x7fa638032b90>"
            ]
          },
          "metadata": {},
          "execution_count": 106
        },
        {
          "output_type": "display_data",
          "data": {
            "text/plain": [
              "<Figure size 720x432 with 1 Axes>"
            ],
            "image/png": "[encoded data removed]"
          },
          "metadata": {}
        }
      ],
      "source": [
        "loss_df = pd.DataFrame(model.history.history)\n",
        "loss_df.plot()"
      ]
    },
    {
      "cell_type": "code",
      "execution_count": 107,
      "metadata": {
        "id": "yts5oVeJuWYe",
        "outputId": "a6d7d10a-6936-413e-9632-51557b210809",
        "colab": {
          "base_uri": "https://localhost:8080/"
        }
      },
      "outputs": [
        {
          "output_type": "stream",
          "name": "stdout",
          "text": [
            "loss :  0.41889944672584534\n",
            "accuracy :  0.7960000038146973\n"
          ]
        }
      ],
      "source": [
        "loss, accuracy = model.evaluate(X_test, y_test, verbose=0)\n",
        "print(\"loss : \", loss)\n",
        "print(\"accuracy : \", accuracy)"
      ]
    },
    {
      "cell_type": "code",
      "execution_count": 108,
      "metadata": {
        "id": "XbYBe1jCuWYe",
        "outputId": "9d8425ed-f564-47b6-ea2e-5a19e3ea5318",
        "colab": {
          "base_uri": "https://localhost:8080/"
        }
      },
      "outputs": [
        {
          "output_type": "stream",
          "name": "stdout",
          "text": [
            "[[1194    0]\n",
            " [ 306    0]]\n",
            "              precision    recall  f1-score   support\n",
            "\n",
            "           0       0.80      1.00      0.89      1194\n",
            "           1       0.00      0.00      0.00       306\n",
            "\n",
            "    accuracy                           0.80      1500\n",
            "   macro avg       0.40      0.50      0.44      1500\n",
            "weighted avg       0.63      0.80      0.71      1500\n",
            "\n"
          ]
        }
      ],
      "source": [
        "y_pred = model.predict(X_test) > 0.5\n",
        "print(confusion_matrix(y_test, y_pred))\n",
        "print(classification_report(y_test, y_pred))"
      ]
    },
    {
      "cell_type": "markdown",
      "metadata": {
        "id": "FQGthQTa6QO9"
      },
      "source": [
        "### Add Early Stop"
      ]
    },
    {
      "cell_type": "code",
      "source": [
        ""
      ],
      "metadata": {
        "id": "-Euc3__VJVeI"
      },
      "execution_count": 108,
      "outputs": []
    },
    {
      "cell_type": "code",
      "execution_count": 109,
      "metadata": {
        "id": "4D17nNk7vrDT"
      },
      "outputs": [],
      "source": [
        "from tensorflow.keras.callbacks import EarlyStopping"
      ]
    },
    {
      "cell_type": "code",
      "execution_count": 110,
      "metadata": {
        "id": "VcPSEww_u_wp"
      },
      "outputs": [],
      "source": [
        "tf.random.set_seed(seed)\n",
        "\n",
        "model = Sequential()\n",
        "\n",
        "model.add(Dense(20, activation = \"relu\", input_dim = X_train.shape[1]))\n",
        "model.add(Dense(10, activation = \"relu\"))\n",
        "model.add(Dense(5, activation = \"relu\"))\n",
        "model.add(Dense(1, activation = \"sigmoid\"))\n",
        "\n",
        "model.compile(optimizer = \"adam\", loss = \"binary_crossentropy\", metrics = [\"accuracy\"])  "
      ]
    },
    {
      "cell_type": "code",
      "execution_count": 111,
      "metadata": {
        "id": "7gT47GwcwC2Q"
      },
      "outputs": [],
      "source": [
        "early_stop = EarlyStopping(monitor = \"val_loss\", mode = \"min\", verbose = 1, patience = 15, restore_best_weights = True) ## valloss azalması iyi olduğu içim mode min yaptık, auto dadiyebilirdik"
      ]
    },
    {
      "cell_type": "code",
      "execution_count": 112,
      "metadata": {
        "colab": {
          "base_uri": "https://localhost:8080/"
        },
        "id": "J6h5PWZqwHq0",
        "outputId": "ee91709e-5672-4582-ea1f-590a4c44221e"
      },
      "outputs": [
        {
          "output_type": "stream",
          "name": "stdout",
          "text": [
            "Epoch 1/300\n",
            "73/73 [==============================] - 1s 4ms/step - loss: 0.6286 - accuracy: 0.7062 - val_loss: 0.5278 - val_accuracy: 0.8008\n",
            "Epoch 2/300\n",
            "73/73 [==============================] - 0s 2ms/step - loss: 0.5029 - accuracy: 0.7956 - val_loss: 0.4850 - val_accuracy: 0.8008\n",
            "Epoch 3/300\n",
            "73/73 [==============================] - 0s 2ms/step - loss: 0.4909 - accuracy: 0.7956 - val_loss: 0.4801 - val_accuracy: 0.8008\n",
            "Epoch 4/300\n",
            "73/73 [==============================] - 0s 2ms/step - loss: 0.4832 - accuracy: 0.7956 - val_loss: 0.4744 - val_accuracy: 0.8008\n",
            "Epoch 5/300\n",
            "73/73 [==============================] - 0s 2ms/step - loss: 0.4747 - accuracy: 0.7956 - val_loss: 0.4682 - val_accuracy: 0.8008\n",
            "Epoch 6/300\n",
            "73/73 [==============================] - 0s 2ms/step - loss: 0.4654 - accuracy: 0.7956 - val_loss: 0.4626 - val_accuracy: 0.8008\n",
            "Epoch 7/300\n",
            "73/73 [==============================] - 0s 2ms/step - loss: 0.4572 - accuracy: 0.7956 - val_loss: 0.4575 - val_accuracy: 0.8008\n",
            "Epoch 8/300\n",
            "73/73 [==============================] - 0s 2ms/step - loss: 0.4505 - accuracy: 0.7956 - val_loss: 0.4536 - val_accuracy: 0.8008\n",
            "Epoch 9/300\n",
            "73/73 [==============================] - 0s 2ms/step - loss: 0.4444 - accuracy: 0.7956 - val_loss: 0.4513 - val_accuracy: 0.8008\n",
            "Epoch 10/300\n",
            "73/73 [==============================] - 0s 2ms/step - loss: 0.4403 - accuracy: 0.7956 - val_loss: 0.4491 - val_accuracy: 0.8008\n",
            "Epoch 11/300\n",
            "73/73 [==============================] - 0s 2ms/step - loss: 0.4364 - accuracy: 0.7956 - val_loss: 0.4461 - val_accuracy: 0.8008\n",
            "Epoch 12/300\n",
            "73/73 [==============================] - 0s 2ms/step - loss: 0.4346 - accuracy: 0.7956 - val_loss: 0.4482 - val_accuracy: 0.8008\n",
            "Epoch 13/300\n",
            "73/73 [==============================] - 0s 2ms/step - loss: 0.4312 - accuracy: 0.7964 - val_loss: 0.4414 - val_accuracy: 0.8024\n",
            "Epoch 14/300\n",
            "73/73 [==============================] - 0s 2ms/step - loss: 0.4278 - accuracy: 0.8003 - val_loss: 0.4386 - val_accuracy: 0.8078\n",
            "Epoch 15/300\n",
            "73/73 [==============================] - 0s 2ms/step - loss: 0.4231 - accuracy: 0.8130 - val_loss: 0.4335 - val_accuracy: 0.8188\n",
            "Epoch 16/300\n",
            "73/73 [==============================] - 0s 2ms/step - loss: 0.4171 - accuracy: 0.8208 - val_loss: 0.4271 - val_accuracy: 0.8188\n",
            "Epoch 17/300\n",
            "73/73 [==============================] - 0s 2ms/step - loss: 0.4097 - accuracy: 0.8242 - val_loss: 0.4192 - val_accuracy: 0.8188\n",
            "Epoch 18/300\n",
            "73/73 [==============================] - 0s 2ms/step - loss: 0.4017 - accuracy: 0.8287 - val_loss: 0.4088 - val_accuracy: 0.8298\n",
            "Epoch 19/300\n",
            "73/73 [==============================] - 0s 2ms/step - loss: 0.3934 - accuracy: 0.8340 - val_loss: 0.3986 - val_accuracy: 0.8314\n",
            "Epoch 20/300\n",
            "73/73 [==============================] - 0s 2ms/step - loss: 0.3858 - accuracy: 0.8376 - val_loss: 0.3899 - val_accuracy: 0.8337\n",
            "Epoch 21/300\n",
            "73/73 [==============================] - 0s 2ms/step - loss: 0.3795 - accuracy: 0.8408 - val_loss: 0.3816 - val_accuracy: 0.8447\n",
            "Epoch 22/300\n",
            "73/73 [==============================] - 0s 2ms/step - loss: 0.3733 - accuracy: 0.8455 - val_loss: 0.3776 - val_accuracy: 0.8447\n",
            "Epoch 23/300\n",
            "73/73 [==============================] - 0s 2ms/step - loss: 0.3695 - accuracy: 0.8475 - val_loss: 0.3732 - val_accuracy: 0.8431\n",
            "Epoch 24/300\n",
            "73/73 [==============================] - 0s 2ms/step - loss: 0.3668 - accuracy: 0.8458 - val_loss: 0.3689 - val_accuracy: 0.8502\n",
            "Epoch 25/300\n",
            "73/73 [==============================] - 0s 2ms/step - loss: 0.3649 - accuracy: 0.8479 - val_loss: 0.3667 - val_accuracy: 0.8494\n",
            "Epoch 26/300\n",
            "73/73 [==============================] - 0s 2ms/step - loss: 0.3633 - accuracy: 0.8493 - val_loss: 0.3637 - val_accuracy: 0.8518\n",
            "Epoch 27/300\n",
            "73/73 [==============================] - 0s 2ms/step - loss: 0.3617 - accuracy: 0.8513 - val_loss: 0.3633 - val_accuracy: 0.8494\n",
            "Epoch 28/300\n",
            "73/73 [==============================] - 0s 2ms/step - loss: 0.3609 - accuracy: 0.8523 - val_loss: 0.3620 - val_accuracy: 0.8478\n",
            "Epoch 29/300\n",
            "73/73 [==============================] - 0s 2ms/step - loss: 0.3590 - accuracy: 0.8512 - val_loss: 0.3604 - val_accuracy: 0.8533\n",
            "Epoch 30/300\n",
            "73/73 [==============================] - 0s 2ms/step - loss: 0.3592 - accuracy: 0.8527 - val_loss: 0.3645 - val_accuracy: 0.8518\n",
            "Epoch 31/300\n",
            "73/73 [==============================] - 0s 2ms/step - loss: 0.3586 - accuracy: 0.8512 - val_loss: 0.3592 - val_accuracy: 0.8502\n",
            "Epoch 32/300\n",
            "73/73 [==============================] - 0s 2ms/step - loss: 0.3584 - accuracy: 0.8534 - val_loss: 0.3595 - val_accuracy: 0.8580\n",
            "Epoch 33/300\n",
            "73/73 [==============================] - 0s 2ms/step - loss: 0.3593 - accuracy: 0.8518 - val_loss: 0.3585 - val_accuracy: 0.8518\n",
            "Epoch 34/300\n",
            "73/73 [==============================] - 0s 2ms/step - loss: 0.3571 - accuracy: 0.8538 - val_loss: 0.3577 - val_accuracy: 0.8557\n",
            "Epoch 35/300\n",
            "73/73 [==============================] - 0s 2ms/step - loss: 0.3587 - accuracy: 0.8549 - val_loss: 0.3581 - val_accuracy: 0.8549\n",
            "Epoch 36/300\n",
            "73/73 [==============================] - 0s 2ms/step - loss: 0.3570 - accuracy: 0.8516 - val_loss: 0.3570 - val_accuracy: 0.8573\n",
            "Epoch 37/300\n",
            "73/73 [==============================] - 0s 2ms/step - loss: 0.3558 - accuracy: 0.8551 - val_loss: 0.3587 - val_accuracy: 0.8557\n",
            "Epoch 38/300\n",
            "73/73 [==============================] - 0s 2ms/step - loss: 0.3550 - accuracy: 0.8536 - val_loss: 0.3625 - val_accuracy: 0.8541\n",
            "Epoch 39/300\n",
            "73/73 [==============================] - 0s 2ms/step - loss: 0.3543 - accuracy: 0.8541 - val_loss: 0.3561 - val_accuracy: 0.8549\n",
            "Epoch 40/300\n",
            "73/73 [==============================] - 0s 2ms/step - loss: 0.3552 - accuracy: 0.8518 - val_loss: 0.3559 - val_accuracy: 0.8541\n",
            "Epoch 41/300\n",
            "73/73 [==============================] - 0s 2ms/step - loss: 0.3555 - accuracy: 0.8533 - val_loss: 0.3551 - val_accuracy: 0.8565\n",
            "Epoch 42/300\n",
            "73/73 [==============================] - 0s 2ms/step - loss: 0.3543 - accuracy: 0.8556 - val_loss: 0.3554 - val_accuracy: 0.8541\n",
            "Epoch 43/300\n",
            "73/73 [==============================] - 0s 2ms/step - loss: 0.3542 - accuracy: 0.8544 - val_loss: 0.3564 - val_accuracy: 0.8557\n",
            "Epoch 44/300\n",
            "73/73 [==============================] - 0s 2ms/step - loss: 0.3540 - accuracy: 0.8558 - val_loss: 0.3562 - val_accuracy: 0.8557\n",
            "Epoch 45/300\n",
            "73/73 [==============================] - 0s 2ms/step - loss: 0.3541 - accuracy: 0.8548 - val_loss: 0.3547 - val_accuracy: 0.8565\n",
            "Epoch 46/300\n",
            "73/73 [==============================] - 0s 2ms/step - loss: 0.3530 - accuracy: 0.8566 - val_loss: 0.3574 - val_accuracy: 0.8573\n",
            "Epoch 47/300\n",
            "73/73 [==============================] - 0s 2ms/step - loss: 0.3527 - accuracy: 0.8558 - val_loss: 0.3556 - val_accuracy: 0.8573\n",
            "Epoch 48/300\n",
            "73/73 [==============================] - 0s 2ms/step - loss: 0.3533 - accuracy: 0.8555 - val_loss: 0.3547 - val_accuracy: 0.8573\n",
            "Epoch 49/300\n",
            "73/73 [==============================] - 0s 2ms/step - loss: 0.3523 - accuracy: 0.8554 - val_loss: 0.3540 - val_accuracy: 0.8588\n",
            "Epoch 50/300\n",
            "73/73 [==============================] - 0s 2ms/step - loss: 0.3535 - accuracy: 0.8549 - val_loss: 0.3552 - val_accuracy: 0.8588\n",
            "Epoch 51/300\n",
            "73/73 [==============================] - 0s 2ms/step - loss: 0.3522 - accuracy: 0.8562 - val_loss: 0.3539 - val_accuracy: 0.8588\n",
            "Epoch 52/300\n",
            "73/73 [==============================] - 0s 2ms/step - loss: 0.3516 - accuracy: 0.8566 - val_loss: 0.3542 - val_accuracy: 0.8573\n",
            "Epoch 53/300\n",
            "73/73 [==============================] - 0s 2ms/step - loss: 0.3516 - accuracy: 0.8565 - val_loss: 0.3558 - val_accuracy: 0.8565\n",
            "Epoch 54/300\n",
            "73/73 [==============================] - 0s 2ms/step - loss: 0.3517 - accuracy: 0.8559 - val_loss: 0.3546 - val_accuracy: 0.8580\n",
            "Epoch 55/300\n",
            "73/73 [==============================] - 0s 2ms/step - loss: 0.3517 - accuracy: 0.8572 - val_loss: 0.3532 - val_accuracy: 0.8580\n",
            "Epoch 56/300\n",
            "73/73 [==============================] - 0s 2ms/step - loss: 0.3508 - accuracy: 0.8567 - val_loss: 0.3525 - val_accuracy: 0.8620\n",
            "Epoch 57/300\n",
            "73/73 [==============================] - 0s 2ms/step - loss: 0.3508 - accuracy: 0.8562 - val_loss: 0.3532 - val_accuracy: 0.8596\n",
            "Epoch 58/300\n",
            "73/73 [==============================] - 0s 2ms/step - loss: 0.3511 - accuracy: 0.8577 - val_loss: 0.3559 - val_accuracy: 0.8573\n",
            "Epoch 59/300\n",
            "73/73 [==============================] - 0s 2ms/step - loss: 0.3502 - accuracy: 0.8566 - val_loss: 0.3523 - val_accuracy: 0.8588\n",
            "Epoch 60/300\n",
            "73/73 [==============================] - 0s 2ms/step - loss: 0.3515 - accuracy: 0.8554 - val_loss: 0.3521 - val_accuracy: 0.8596\n",
            "Epoch 61/300\n",
            "73/73 [==============================] - 0s 2ms/step - loss: 0.3505 - accuracy: 0.8565 - val_loss: 0.3536 - val_accuracy: 0.8604\n",
            "Epoch 62/300\n",
            "73/73 [==============================] - 0s 2ms/step - loss: 0.3499 - accuracy: 0.8579 - val_loss: 0.3513 - val_accuracy: 0.8604\n",
            "Epoch 63/300\n",
            "73/73 [==============================] - 0s 2ms/step - loss: 0.3490 - accuracy: 0.8579 - val_loss: 0.3631 - val_accuracy: 0.8518\n",
            "Epoch 64/300\n",
            "73/73 [==============================] - 0s 2ms/step - loss: 0.3496 - accuracy: 0.8576 - val_loss: 0.3504 - val_accuracy: 0.8596\n",
            "Epoch 65/300\n",
            "73/73 [==============================] - 0s 2ms/step - loss: 0.3502 - accuracy: 0.8563 - val_loss: 0.3524 - val_accuracy: 0.8588\n",
            "Epoch 66/300\n",
            "73/73 [==============================] - 0s 2ms/step - loss: 0.3492 - accuracy: 0.8547 - val_loss: 0.3519 - val_accuracy: 0.8620\n",
            "Epoch 67/300\n",
            "73/73 [==============================] - 0s 2ms/step - loss: 0.3499 - accuracy: 0.8556 - val_loss: 0.3516 - val_accuracy: 0.8588\n",
            "Epoch 68/300\n",
            "73/73 [==============================] - 0s 2ms/step - loss: 0.3491 - accuracy: 0.8563 - val_loss: 0.3508 - val_accuracy: 0.8604\n",
            "Epoch 69/300\n",
            "73/73 [==============================] - 0s 2ms/step - loss: 0.3490 - accuracy: 0.8574 - val_loss: 0.3559 - val_accuracy: 0.8541\n",
            "Epoch 70/300\n",
            "73/73 [==============================] - 0s 2ms/step - loss: 0.3486 - accuracy: 0.8587 - val_loss: 0.3522 - val_accuracy: 0.8565\n",
            "Epoch 71/300\n",
            "73/73 [==============================] - 0s 2ms/step - loss: 0.3486 - accuracy: 0.8580 - val_loss: 0.3520 - val_accuracy: 0.8596\n",
            "Epoch 72/300\n",
            "73/73 [==============================] - 0s 2ms/step - loss: 0.3489 - accuracy: 0.8573 - val_loss: 0.3518 - val_accuracy: 0.8580\n",
            "Epoch 73/300\n",
            "73/73 [==============================] - 0s 2ms/step - loss: 0.3478 - accuracy: 0.8573 - val_loss: 0.3494 - val_accuracy: 0.8596\n",
            "Epoch 74/300\n",
            "73/73 [==============================] - 0s 2ms/step - loss: 0.3497 - accuracy: 0.8562 - val_loss: 0.3485 - val_accuracy: 0.8596\n",
            "Epoch 75/300\n",
            "73/73 [==============================] - 0s 2ms/step - loss: 0.3479 - accuracy: 0.8569 - val_loss: 0.3492 - val_accuracy: 0.8651\n",
            "Epoch 76/300\n",
            "73/73 [==============================] - 0s 2ms/step - loss: 0.3493 - accuracy: 0.8570 - val_loss: 0.3496 - val_accuracy: 0.8580\n",
            "Epoch 77/300\n",
            "73/73 [==============================] - 0s 2ms/step - loss: 0.3483 - accuracy: 0.8565 - val_loss: 0.3608 - val_accuracy: 0.8525\n",
            "Epoch 78/300\n",
            "73/73 [==============================] - 0s 2ms/step - loss: 0.3490 - accuracy: 0.8579 - val_loss: 0.3500 - val_accuracy: 0.8588\n",
            "Epoch 79/300\n",
            "73/73 [==============================] - 0s 2ms/step - loss: 0.3473 - accuracy: 0.8579 - val_loss: 0.3495 - val_accuracy: 0.8604\n",
            "Epoch 80/300\n",
            "73/73 [==============================] - 0s 2ms/step - loss: 0.3484 - accuracy: 0.8585 - val_loss: 0.3512 - val_accuracy: 0.8580\n",
            "Epoch 81/300\n",
            "73/73 [==============================] - 0s 2ms/step - loss: 0.3477 - accuracy: 0.8576 - val_loss: 0.3527 - val_accuracy: 0.8557\n",
            "Epoch 82/300\n",
            "73/73 [==============================] - 0s 2ms/step - loss: 0.3476 - accuracy: 0.8595 - val_loss: 0.3514 - val_accuracy: 0.8573\n",
            "Epoch 83/300\n",
            "73/73 [==============================] - 0s 2ms/step - loss: 0.3469 - accuracy: 0.8566 - val_loss: 0.3517 - val_accuracy: 0.8596\n",
            "Epoch 84/300\n",
            "73/73 [==============================] - 0s 2ms/step - loss: 0.3473 - accuracy: 0.8581 - val_loss: 0.3496 - val_accuracy: 0.8604\n",
            "Epoch 85/300\n",
            "73/73 [==============================] - 0s 2ms/step - loss: 0.3469 - accuracy: 0.8573 - val_loss: 0.3477 - val_accuracy: 0.8620\n",
            "Epoch 86/300\n",
            "73/73 [==============================] - 0s 2ms/step - loss: 0.3471 - accuracy: 0.8566 - val_loss: 0.3490 - val_accuracy: 0.8588\n",
            "Epoch 87/300\n",
            "73/73 [==============================] - 0s 2ms/step - loss: 0.3469 - accuracy: 0.8577 - val_loss: 0.3500 - val_accuracy: 0.8573\n",
            "Epoch 88/300\n",
            "73/73 [==============================] - 0s 2ms/step - loss: 0.3462 - accuracy: 0.8567 - val_loss: 0.3512 - val_accuracy: 0.8565\n",
            "Epoch 89/300\n",
            "73/73 [==============================] - 0s 2ms/step - loss: 0.3472 - accuracy: 0.8573 - val_loss: 0.3501 - val_accuracy: 0.8580\n",
            "Epoch 90/300\n",
            "73/73 [==============================] - 0s 2ms/step - loss: 0.3467 - accuracy: 0.8569 - val_loss: 0.3514 - val_accuracy: 0.8604\n",
            "Epoch 91/300\n",
            "73/73 [==============================] - 0s 2ms/step - loss: 0.3475 - accuracy: 0.8576 - val_loss: 0.3495 - val_accuracy: 0.8565\n",
            "Epoch 92/300\n",
            "73/73 [==============================] - 0s 2ms/step - loss: 0.3463 - accuracy: 0.8570 - val_loss: 0.3479 - val_accuracy: 0.8588\n",
            "Epoch 93/300\n",
            "73/73 [==============================] - 0s 2ms/step - loss: 0.3465 - accuracy: 0.8585 - val_loss: 0.3508 - val_accuracy: 0.8580\n",
            "Epoch 94/300\n",
            "73/73 [==============================] - 0s 2ms/step - loss: 0.3463 - accuracy: 0.8581 - val_loss: 0.3464 - val_accuracy: 0.8627\n",
            "Epoch 95/300\n",
            "73/73 [==============================] - 0s 2ms/step - loss: 0.3466 - accuracy: 0.8585 - val_loss: 0.3499 - val_accuracy: 0.8573\n",
            "Epoch 96/300\n",
            "73/73 [==============================] - 0s 2ms/step - loss: 0.3468 - accuracy: 0.8590 - val_loss: 0.3474 - val_accuracy: 0.8627\n",
            "Epoch 97/300\n",
            "73/73 [==============================] - 0s 3ms/step - loss: 0.3461 - accuracy: 0.8583 - val_loss: 0.3489 - val_accuracy: 0.8604\n",
            "Epoch 98/300\n",
            "73/73 [==============================] - 0s 3ms/step - loss: 0.3471 - accuracy: 0.8565 - val_loss: 0.3501 - val_accuracy: 0.8588\n",
            "Epoch 99/300\n",
            "73/73 [==============================] - 0s 3ms/step - loss: 0.3454 - accuracy: 0.8574 - val_loss: 0.3517 - val_accuracy: 0.8557\n",
            "Epoch 100/300\n",
            "73/73 [==============================] - 0s 3ms/step - loss: 0.3457 - accuracy: 0.8584 - val_loss: 0.3473 - val_accuracy: 0.8620\n",
            "Epoch 101/300\n",
            "73/73 [==============================] - 0s 3ms/step - loss: 0.3466 - accuracy: 0.8574 - val_loss: 0.3469 - val_accuracy: 0.8612\n",
            "Epoch 102/300\n",
            "73/73 [==============================] - 0s 4ms/step - loss: 0.3464 - accuracy: 0.8580 - val_loss: 0.3499 - val_accuracy: 0.8580\n",
            "Epoch 103/300\n",
            "73/73 [==============================] - 0s 4ms/step - loss: 0.3459 - accuracy: 0.8567 - val_loss: 0.3500 - val_accuracy: 0.8557\n",
            "Epoch 104/300\n",
            "73/73 [==============================] - 0s 3ms/step - loss: 0.3456 - accuracy: 0.8576 - val_loss: 0.3509 - val_accuracy: 0.8580\n",
            "Epoch 105/300\n",
            "73/73 [==============================] - 0s 4ms/step - loss: 0.3462 - accuracy: 0.8567 - val_loss: 0.3484 - val_accuracy: 0.8580\n",
            "Epoch 106/300\n",
            "73/73 [==============================] - 0s 3ms/step - loss: 0.3450 - accuracy: 0.8583 - val_loss: 0.3465 - val_accuracy: 0.8604\n",
            "Epoch 107/300\n",
            "73/73 [==============================] - 0s 3ms/step - loss: 0.3449 - accuracy: 0.8573 - val_loss: 0.3477 - val_accuracy: 0.8573\n",
            "Epoch 108/300\n",
            "73/73 [==============================] - 0s 3ms/step - loss: 0.3452 - accuracy: 0.8590 - val_loss: 0.3468 - val_accuracy: 0.8596\n",
            "Epoch 109/300\n",
            "70/73 [===========================>..] - ETA: 0s - loss: 0.3456 - accuracy: 0.8570Restoring model weights from the end of the best epoch: 94.\n",
            "73/73 [==============================] - 0s 4ms/step - loss: 0.3458 - accuracy: 0.8570 - val_loss: 0.3495 - val_accuracy: 0.8573\n",
            "Epoch 109: early stopping\n"
          ]
        },
        {
          "output_type": "execute_result",
          "data": {
            "text/plain": [
              "<keras.callbacks.History at 0x7fa637f37450>"
            ]
          },
          "metadata": {},
          "execution_count": 112
        }
      ],
      "source": [
        "model.fit(x = X_train, y = y_train, validation_split = 0.15, batch_size = 100, epochs = 300, verbose = 1,  \n",
        "          callbacks = [early_stop])"
      ]
    },
    {
      "cell_type": "code",
      "execution_count": 113,
      "metadata": {
        "colab": {
          "base_uri": "https://localhost:8080/",
          "height": 374
        },
        "id": "_y5lzpn-xKkj",
        "outputId": "4756db6f-49f4-47d2-de3b-953e4720e963"
      },
      "outputs": [
        {
          "output_type": "display_data",
          "data": {
            "text/plain": [
              "<Figure size 720x432 with 1 Axes>"
            ],
            "image/png": "[encoded data removed]"
          },
          "metadata": {}
        }
      ],
      "source": [
        "loss_df = pd.DataFrame(model.history.history)\n",
        "loss_df.plot();                                               "
      ]
    },
    {
      "cell_type": "code",
      "execution_count": 114,
      "metadata": {
        "id": "6ViXx55xuWYX",
        "outputId": "080814f9-4e20-49ed-d4de-eda18771d23e",
        "colab": {
          "base_uri": "https://localhost:8080/"
        }
      },
      "outputs": [
        {
          "output_type": "stream",
          "name": "stdout",
          "text": [
            "loss :  0.3641338348388672\n",
            "accuracy :  0.843999981880188\n"
          ]
        }
      ],
      "source": [
        "loss, accuracy = model.evaluate(X_test, y_test, verbose=0)\n",
        "print(\"loss : \", loss)\n",
        "print(\"accuracy : \", accuracy)                                             "
      ]
    },
    {
      "cell_type": "code",
      "execution_count": 115,
      "metadata": {
        "id": "HBn4BqzYuWYX",
        "outputId": "14666aaa-a0c4-4213-e3b1-a82261043bd1",
        "colab": {
          "base_uri": "https://localhost:8080/"
        }
      },
      "outputs": [
        {
          "output_type": "stream",
          "name": "stdout",
          "text": [
            "[[1130   64]\n",
            " [ 170  136]]\n",
            "              precision    recall  f1-score   support\n",
            "\n",
            "           0       0.87      0.95      0.91      1194\n",
            "           1       0.68      0.44      0.54       306\n",
            "\n",
            "    accuracy                           0.84      1500\n",
            "   macro avg       0.77      0.70      0.72      1500\n",
            "weighted avg       0.83      0.84      0.83      1500\n",
            "\n"
          ]
        }
      ],
      "source": [
        "y_pred = model.predict(X_test) > 0.5\n",
        "#y_pred = model.predict_classes(X_test) for tf 2.5.0\n",
        "print(confusion_matrix(y_test, y_pred))\n",
        "print(classification_report(y_test, y_pred))           "
      ]
    },
    {
      "cell_type": "markdown",
      "metadata": {
        "id": "VHX0g5WA6QO9"
      },
      "source": [
        "#### Monitor the \"val_loss\" as metric"
      ]
    },
    {
      "cell_type": "code",
      "execution_count": 115,
      "metadata": {
        "id": "g3tIiORt6QO9"
      },
      "outputs": [],
      "source": [
        ""
      ]
    },
    {
      "cell_type": "markdown",
      "metadata": {
        "id": "oTV_aryx6QO-"
      },
      "source": [
        "#### Monitor the \"val_recall\" as metric"
      ]
    },
    {
      "cell_type": "code",
      "execution_count": 115,
      "metadata": {
        "id": "kW4VnTvK6QO-"
      },
      "outputs": [],
      "source": [
        ""
      ]
    },
    {
      "cell_type": "markdown",
      "metadata": {
        "id": "yD2SxocD6QO-"
      },
      "source": [
        "## GridSearchCV"
      ]
    },
    {
      "cell_type": "code",
      "execution_count": 115,
      "metadata": {
        "id": "w7IibU526QO-"
      },
      "outputs": [],
      "source": [
        ""
      ]
    },
    {
      "cell_type": "markdown",
      "metadata": {
        "id": "q-6K09zX6QO-"
      },
      "source": [
        "### Evaluate The Model\n",
        "\n",
        "- Plot the model history to observe the changing of metrics\n",
        "- Make prediction to see \"confusion matrix\" and \"classification report\"\n",
        "- Check ROC (Receiver Operating Curve) and AUC (Area Under Curve) for the model"
      ]
    },
    {
      "cell_type": "code",
      "execution_count": 115,
      "metadata": {
        "id": "RSDFsmCA6QO_"
      },
      "outputs": [],
      "source": [
        ""
      ]
    },
    {
      "cell_type": "markdown",
      "metadata": {
        "id": "3BnkWw-86QO_"
      },
      "source": [
        "# Final Model and Model Deployment"
      ]
    },
    {
      "cell_type": "code",
      "execution_count": 115,
      "metadata": {
        "id": "L2uxD6iC6QO_"
      },
      "outputs": [],
      "source": [
        ""
      ]
    },
    {
      "cell_type": "markdown",
      "metadata": {
        "id": "Cq10ovAX6daY"
      },
      "source": [
        "## Prediction"
      ]
    },
    {
      "cell_type": "code",
      "execution_count": 115,
      "metadata": {
        "id": "knrDA2fw6QO_"
      },
      "outputs": [],
      "source": [
        ""
      ]
    },
    {
      "cell_type": "markdown",
      "metadata": {
        "id": "oOenV9nu6QPA"
      },
      "source": [
        "___\n",
        "\n",
        "<p style=\"text-align: center;\"><img src=\"https://docs.google.com/uc?id=1lY0Uj5R04yMY3-ZppPWxqCr5pvBLYPnV\" class=\"img-fluid\" alt=\"CLRSWY\"></p>\n",
        "\n",
        "___"
      ]
    }
  ],
  "metadata": {
    "colab": {
      "collapsed_sections": [],
      "name": "DL-Assignment-1 (Classification with ANN-Churn Prediction)-Student.ipynb",
      "provenance": [],
      "toc_visible": true,
      "include_colab_link": true
    },
    "kernelspec": {
      "display_name": "Python 3",
      "language": "python",
      "name": "python3"
    },
    "language_info": {
      "codemirror_mode": {
        "name": "ipython",
        "version": 3
      },
      "file_extension": ".py",
      "mimetype": "text/x-python",
      "name": "python",
      "nbconvert_exporter": "python",
      "pygments_lexer": "ipython3",
      "version": "3.7.6"
    },
    "toc": {
      "base_numbering": 1,
      "nav_menu": {},
      "number_sections": false,
      "sideBar": true,
      "skip_h1_title": false,
      "title_cell": "Table of Contents",
      "title_sidebar": "Contents",
      "toc_cell": false,
      "toc_position": {},
      "toc_section_display": true,
      "toc_window_display": true
    }
  },
  "nbformat": 4,
  "nbformat_minor": 0
}