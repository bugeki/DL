{
  "cells": [
    {
      "cell_type": "markdown",
      "metadata": {
        "id": "view-in-github",
        "colab_type": "text"
      },
      "source": [
        "<a href=\"https://colab.research.google.com/github/bugeki/DL/blob/main/DL_Assignment_1_(Classification_with_ANN_Churn_Prediction)_Student.ipynb\" target=\"_parent\"><img src=\"https://colab.research.google.com/assets/colab-badge.svg\" alt=\"Open In Colab\"/></a>"
      ]
    },
    {
      "cell_type": "markdown",
      "metadata": {
        "id": "V6_ZeouB6QOn"
      },
      "source": [
        "___\n",
        "\n",
        "<p style=\"text-align: center;\"><img src=\"https://docs.google.com/uc?id=1lY0Uj5R04yMY3-ZppPWxqCr5pvBLYPnV\" class=\"img-fluid\" alt=\"CLRSWY\"></p>\n",
        "\n",
        "___"
      ]
    },
    {
      "cell_type": "markdown",
      "metadata": {
        "id": "0cOIJE_r6QOu"
      },
      "source": [
        "<h1 style=\"text-align: center;\">Deep Learning<br><br>Assignment-1 (ANN)<br><br>Churn Prediction for Bank Customer<br><h1>"
      ]
    },
    {
      "cell_type": "markdown",
      "metadata": {
        "id": "WjM8Pk6e6QOv"
      },
      "source": [
        "# Dataset Info"
      ]
    },
    {
      "cell_type": "markdown",
      "metadata": {
        "id": "YuLZ9TXQ6QOw"
      },
      "source": [
        "We have a dataset in which there are details of a bank's customers and the target variable is a binary variable reflecting the fact whether the customer left the bank (closed his account) or he continues to be a customer.\n",
        "\n",
        "The features in the given dataset are:\n",
        "- **rownumber:** Row Numbers from 1 to 10000.\n",
        "- **customerid:** A unique ID that identifies each customer.\n",
        "- **surname:** The customer’s surname.\n",
        "- **creditscore:** A credit score is a number between 300–850 that depicts a consumer's creditworthiness.\n",
        "- **geography:** The country from which the customer belongs to.\n",
        "- **Gender:** The customer’s gender: Male, Female\n",
        "- **Age:** The customer’s current age, in years, at the time of being customer.\n",
        "- **tenure:** The number of years for which the customer has been with the bank.\n",
        "- **balance:** Bank balance of the customer.\n",
        "- **numofproducts:** the number of bank products the customer is utilising.\n",
        "- **hascrcard:** The number of credit cards given to the customer by the bank.\n",
        "- **isactivemember:** Binary Flag for indicating if the client is active or not with the bank before the moment where the client exits the company (recorded in the variable \"exited\")\n",
        "- **exited:** Binary flag 1 if the customer closed account with bank and 0 if the customer is retained."
      ]
    },
    {
      "cell_type": "markdown",
      "metadata": {
        "id": "EUhpfC1k6QOx"
      },
      "source": [
        "# Improt Libraries & Data"
      ]
    },
    {
      "cell_type": "code",
      "execution_count": 1,
      "metadata": {
        "id": "s_z88Viz6QOy"
      },
      "outputs": [],
      "source": [
        "import numpy as np\n",
        "import pandas as pd\n",
        "import matplotlib.pyplot as plt\n",
        "import seaborn as sns\n",
        "\n",
        "import warnings\n",
        "warnings.filterwarnings(\"ignore\")\n",
        "warnings.warn(\"this will not show\")\n",
        "\n",
        "plt.rcParams[\"figure.figsize\"] = (10,6)\n",
        "\n",
        "sns.set_style(\"whitegrid\")\n",
        "pd.set_option('display.float_format', lambda x: '%.3f' % x)\n",
        "\n",
        "# Set it None to display all rows in the dataframe\n",
        "# pd.set_option('display.max_rows', None)\n",
        "\n",
        "# Set it to None to display all columns in the dataframe\n",
        "pd.set_option('display.max_columns', None)"
      ]
    },
    {
      "cell_type": "code",
      "execution_count": 1,
      "metadata": {
        "id": "tYlz_vkp6QOz"
      },
      "outputs": [],
      "source": [
        ""
      ]
    },
    {
      "cell_type": "code",
      "source": [
        "from google.colab import drive\n",
        "drive.mount('/content/drive')"
      ],
      "metadata": {
        "colab": {
          "base_uri": "https://localhost:8080/"
        },
        "id": "sUqA2BtDOWCl",
        "outputId": "59db7a1c-fdde-44e3-802d-b5e4fad6a6df"
      },
      "execution_count": 2,
      "outputs": [
        {
          "output_type": "stream",
          "name": "stdout",
          "text": [
            "Mounted at /content/drive\n"
          ]
        }
      ]
    },
    {
      "cell_type": "code",
      "source": [
        "df = pd.read_csv(\"/content/drive/MyDrive/Colab Notebooks/DL/ASS 1/Churn_Modelling.csv\")"
      ],
      "metadata": {
        "id": "_0NCcNx6OXyn"
      },
      "execution_count": 3,
      "outputs": []
    },
    {
      "cell_type": "markdown",
      "metadata": {
        "id": "iZjqd8oh6QO0"
      },
      "source": [
        "# Exploratory Data Analysis and Visualization"
      ]
    },
    {
      "cell_type": "markdown",
      "metadata": {
        "id": "waDKRvqF6QO1"
      },
      "source": [
        "1. Implement basic steps to see how is your data looks like\n",
        "2. Check for missing values\n",
        "3. Drop the features that not suitable for modelling\n",
        "4. Implement basic visualization steps such as histogram, countplot, heatmap\n",
        "5. Convert categorical variables to dummy variables"
      ]
    },
    {
      "cell_type": "code",
      "execution_count": 4,
      "metadata": {
        "colab": {
          "base_uri": "https://localhost:8080/",
          "height": 270
        },
        "id": "mfSEV-pj6QO1",
        "outputId": "032c5d8b-80c5-460a-ac19-aef416d2273d"
      },
      "outputs": [
        {
          "output_type": "execute_result",
          "data": {
            "text/plain": [
              "   RowNumber  CustomerId   Surname  CreditScore Geography  Gender  Age  \\\n",
              "0          1    15634602  Hargrave          619    France  Female   42   \n",
              "1          2    15647311      Hill          608     Spain  Female   41   \n",
              "2          3    15619304      Onio          502    France  Female   42   \n",
              "3          4    15701354      Boni          699    France  Female   39   \n",
              "4          5    15737888  Mitchell          850     Spain  Female   43   \n",
              "\n",
              "   Tenure    Balance  NumOfProducts  HasCrCard  IsActiveMember  \\\n",
              "0       2      0.000              1          1               1   \n",
              "1       1  83807.860              1          0               1   \n",
              "2       8 159660.800              3          1               0   \n",
              "3       1      0.000              2          0               0   \n",
              "4       2 125510.820              1          1               1   \n",
              "\n",
              "   EstimatedSalary  Exited  \n",
              "0       101348.880       1  \n",
              "1       112542.580       0  \n",
              "2       113931.570       1  \n",
              "3        93826.630       0  \n",
              "4        79084.100       0  "
            ],
            "text/html": [
              "\n",
              "  <div id=\"df-1581b6d7-c5e6-4ef7-8d06-75a07c3f43a9\">\n",
              "    <div class=\"colab-df-container\">\n",
              "      <div>\n",
              "<style scoped>\n",
              "    .dataframe tbody tr th:only-of-type {\n",
              "        vertical-align: middle;\n",
              "    }\n",
              "\n",
              "    .dataframe tbody tr th {\n",
              "        vertical-align: top;\n",
              "    }\n",
              "\n",
              "    .dataframe thead th {\n",
              "        text-align: right;\n",
              "    }\n",
              "</style>\n",
              "<table border=\"1\" class=\"dataframe\">\n",
              "  <thead>\n",
              "    <tr style=\"text-align: right;\">\n",
              "      <th></th>\n",
              "      <th>RowNumber</th>\n",
              "      <th>CustomerId</th>\n",
              "      <th>Surname</th>\n",
              "      <th>CreditScore</th>\n",
              "      <th>Geography</th>\n",
              "      <th>Gender</th>\n",
              "      <th>Age</th>\n",
              "      <th>Tenure</th>\n",
              "      <th>Balance</th>\n",
              "      <th>NumOfProducts</th>\n",
              "      <th>HasCrCard</th>\n",
              "      <th>IsActiveMember</th>\n",
              "      <th>EstimatedSalary</th>\n",
              "      <th>Exited</th>\n",
              "    </tr>\n",
              "  </thead>\n",
              "  <tbody>\n",
              "    <tr>\n",
              "      <th>0</th>\n",
              "      <td>1</td>\n",
              "      <td>15634602</td>\n",
              "      <td>Hargrave</td>\n",
              "      <td>619</td>\n",
              "      <td>France</td>\n",
              "      <td>Female</td>\n",
              "      <td>42</td>\n",
              "      <td>2</td>\n",
              "      <td>0.000</td>\n",
              "      <td>1</td>\n",
              "      <td>1</td>\n",
              "      <td>1</td>\n",
              "      <td>101348.880</td>\n",
              "      <td>1</td>\n",
              "    </tr>\n",
              "    <tr>\n",
              "      <th>1</th>\n",
              "      <td>2</td>\n",
              "      <td>15647311</td>\n",
              "      <td>Hill</td>\n",
              "      <td>608</td>\n",
              "      <td>Spain</td>\n",
              "      <td>Female</td>\n",
              "      <td>41</td>\n",
              "      <td>1</td>\n",
              "      <td>83807.860</td>\n",
              "      <td>1</td>\n",
              "      <td>0</td>\n",
              "      <td>1</td>\n",
              "      <td>112542.580</td>\n",
              "      <td>0</td>\n",
              "    </tr>\n",
              "    <tr>\n",
              "      <th>2</th>\n",
              "      <td>3</td>\n",
              "      <td>15619304</td>\n",
              "      <td>Onio</td>\n",
              "      <td>502</td>\n",
              "      <td>France</td>\n",
              "      <td>Female</td>\n",
              "      <td>42</td>\n",
              "      <td>8</td>\n",
              "      <td>159660.800</td>\n",
              "      <td>3</td>\n",
              "      <td>1</td>\n",
              "      <td>0</td>\n",
              "      <td>113931.570</td>\n",
              "      <td>1</td>\n",
              "    </tr>\n",
              "    <tr>\n",
              "      <th>3</th>\n",
              "      <td>4</td>\n",
              "      <td>15701354</td>\n",
              "      <td>Boni</td>\n",
              "      <td>699</td>\n",
              "      <td>France</td>\n",
              "      <td>Female</td>\n",
              "      <td>39</td>\n",
              "      <td>1</td>\n",
              "      <td>0.000</td>\n",
              "      <td>2</td>\n",
              "      <td>0</td>\n",
              "      <td>0</td>\n",
              "      <td>93826.630</td>\n",
              "      <td>0</td>\n",
              "    </tr>\n",
              "    <tr>\n",
              "      <th>4</th>\n",
              "      <td>5</td>\n",
              "      <td>15737888</td>\n",
              "      <td>Mitchell</td>\n",
              "      <td>850</td>\n",
              "      <td>Spain</td>\n",
              "      <td>Female</td>\n",
              "      <td>43</td>\n",
              "      <td>2</td>\n",
              "      <td>125510.820</td>\n",
              "      <td>1</td>\n",
              "      <td>1</td>\n",
              "      <td>1</td>\n",
              "      <td>79084.100</td>\n",
              "      <td>0</td>\n",
              "    </tr>\n",
              "  </tbody>\n",
              "</table>\n",
              "</div>\n",
              "      <button class=\"colab-df-convert\" onclick=\"convertToInteractive('df-1581b6d7-c5e6-4ef7-8d06-75a07c3f43a9')\"\n",
              "              title=\"Convert this dataframe to an interactive table.\"\n",
              "              style=\"display:none;\">\n",
              "        \n",
              "  <svg xmlns=\"http://www.w3.org/2000/svg\" height=\"24px\"viewBox=\"0 0 24 24\"\n",
              "       width=\"24px\">\n",
              "    <path d=\"M0 0h24v24H0V0z\" fill=\"none\"/>\n",
              "    <path d=\"M18.56 5.44l.94 2.06.94-2.06 2.06-.94-2.06-.94-.94-2.06-.94 2.06-2.06.94zm-11 1L8.5 8.5l.94-2.06 2.06-.94-2.06-.94L8.5 2.5l-.94 2.06-2.06.94zm10 10l.94 2.06.94-2.06 2.06-.94-2.06-.94-.94-2.06-.94 2.06-2.06.94z\"/><path d=\"M17.41 7.96l-1.37-1.37c-.4-.4-.92-.59-1.43-.59-.52 0-1.04.2-1.43.59L10.3 9.45l-7.72 7.72c-.78.78-.78 2.05 0 2.83L4 21.41c.39.39.9.59 1.41.59.51 0 1.02-.2 1.41-.59l7.78-7.78 2.81-2.81c.8-.78.8-2.07 0-2.86zM5.41 20L4 18.59l7.72-7.72 1.47 1.35L5.41 20z\"/>\n",
              "  </svg>\n",
              "      </button>\n",
              "      \n",
              "  <style>\n",
              "    .colab-df-container {\n",
              "      display:flex;\n",
              "      flex-wrap:wrap;\n",
              "      gap: 12px;\n",
              "    }\n",
              "\n",
              "    .colab-df-convert {\n",
              "      background-color: #E8F0FE;\n",
              "      border: none;\n",
              "      border-radius: 50%;\n",
              "      cursor: pointer;\n",
              "      display: none;\n",
              "      fill: #1967D2;\n",
              "      height: 32px;\n",
              "      padding: 0 0 0 0;\n",
              "      width: 32px;\n",
              "    }\n",
              "\n",
              "    .colab-df-convert:hover {\n",
              "      background-color: #E2EBFA;\n",
              "      box-shadow: 0px 1px 2px rgba(60, 64, 67, 0.3), 0px 1px 3px 1px rgba(60, 64, 67, 0.15);\n",
              "      fill: #174EA6;\n",
              "    }\n",
              "\n",
              "    [theme=dark] .colab-df-convert {\n",
              "      background-color: #3B4455;\n",
              "      fill: #D2E3FC;\n",
              "    }\n",
              "\n",
              "    [theme=dark] .colab-df-convert:hover {\n",
              "      background-color: #434B5C;\n",
              "      box-shadow: 0px 1px 3px 1px rgba(0, 0, 0, 0.15);\n",
              "      filter: drop-shadow(0px 1px 2px rgba(0, 0, 0, 0.3));\n",
              "      fill: #FFFFFF;\n",
              "    }\n",
              "  </style>\n",
              "\n",
              "      <script>\n",
              "        const buttonEl =\n",
              "          document.querySelector('#df-1581b6d7-c5e6-4ef7-8d06-75a07c3f43a9 button.colab-df-convert');\n",
              "        buttonEl.style.display =\n",
              "          google.colab.kernel.accessAllowed ? 'block' : 'none';\n",
              "\n",
              "        async function convertToInteractive(key) {\n",
              "          const element = document.querySelector('#df-1581b6d7-c5e6-4ef7-8d06-75a07c3f43a9');\n",
              "          const dataTable =\n",
              "            await google.colab.kernel.invokeFunction('convertToInteractive',\n",
              "                                                     [key], {});\n",
              "          if (!dataTable) return;\n",
              "\n",
              "          const docLinkHtml = 'Like what you see? Visit the ' +\n",
              "            '<a target=\"_blank\" href=https://colab.research.google.com/notebooks/data_table.ipynb>data table notebook</a>'\n",
              "            + ' to learn more about interactive tables.';\n",
              "          element.innerHTML = '';\n",
              "          dataTable['output_type'] = 'display_data';\n",
              "          await google.colab.output.renderOutput(dataTable, element);\n",
              "          const docLink = document.createElement('div');\n",
              "          docLink.innerHTML = docLinkHtml;\n",
              "          element.appendChild(docLink);\n",
              "        }\n",
              "      </script>\n",
              "    </div>\n",
              "  </div>\n",
              "  "
            ]
          },
          "metadata": {},
          "execution_count": 4
        }
      ],
      "source": [
        "df.head()"
      ]
    },
    {
      "cell_type": "code",
      "source": [
        "df.info()"
      ],
      "metadata": {
        "colab": {
          "base_uri": "https://localhost:8080/"
        },
        "id": "fcds1eSwOx5P",
        "outputId": "13bba5f5-e26b-4082-cc66-af3e98275626"
      },
      "execution_count": 5,
      "outputs": [
        {
          "output_type": "stream",
          "name": "stdout",
          "text": [
            "<class 'pandas.core.frame.DataFrame'>\n",
            "RangeIndex: 10000 entries, 0 to 9999\n",
            "Data columns (total 14 columns):\n",
            " #   Column           Non-Null Count  Dtype  \n",
            "---  ------           --------------  -----  \n",
            " 0   RowNumber        10000 non-null  int64  \n",
            " 1   CustomerId       10000 non-null  int64  \n",
            " 2   Surname          10000 non-null  object \n",
            " 3   CreditScore      10000 non-null  int64  \n",
            " 4   Geography        10000 non-null  object \n",
            " 5   Gender           10000 non-null  object \n",
            " 6   Age              10000 non-null  int64  \n",
            " 7   Tenure           10000 non-null  int64  \n",
            " 8   Balance          10000 non-null  float64\n",
            " 9   NumOfProducts    10000 non-null  int64  \n",
            " 10  HasCrCard        10000 non-null  int64  \n",
            " 11  IsActiveMember   10000 non-null  int64  \n",
            " 12  EstimatedSalary  10000 non-null  float64\n",
            " 13  Exited           10000 non-null  int64  \n",
            "dtypes: float64(2), int64(9), object(3)\n",
            "memory usage: 1.1+ MB\n"
          ]
        }
      ]
    },
    {
      "cell_type": "code",
      "source": [
        "df.isnull().sum().any()"
      ],
      "metadata": {
        "colab": {
          "base_uri": "https://localhost:8080/"
        },
        "id": "EW65HiVeOxuf",
        "outputId": "ccd08894-6852-453b-f144-198a7db2b2c4"
      },
      "execution_count": 6,
      "outputs": [
        {
          "output_type": "execute_result",
          "data": {
            "text/plain": [
              "False"
            ]
          },
          "metadata": {},
          "execution_count": 6
        }
      ]
    },
    {
      "cell_type": "code",
      "source": [
        "df.describe().T"
      ],
      "metadata": {
        "colab": {
          "base_uri": "https://localhost:8080/",
          "height": 394
        },
        "id": "EtsT1WgjOxjJ",
        "outputId": "a3fb8824-e600-4956-a863-28915bc31cb0"
      },
      "execution_count": 7,
      "outputs": [
        {
          "output_type": "execute_result",
          "data": {
            "text/plain": [
              "                    count         mean       std          min          25%  \\\n",
              "RowNumber       10000.000     5000.500  2886.896        1.000     2500.750   \n",
              "CustomerId      10000.000 15690940.569 71936.186 15565701.000 15628528.250   \n",
              "CreditScore     10000.000      650.529    96.653      350.000      584.000   \n",
              "Age             10000.000       38.922    10.488       18.000       32.000   \n",
              "Tenure          10000.000        5.013     2.892        0.000        3.000   \n",
              "Balance         10000.000    76485.889 62397.405        0.000        0.000   \n",
              "NumOfProducts   10000.000        1.530     0.582        1.000        1.000   \n",
              "HasCrCard       10000.000        0.706     0.456        0.000        0.000   \n",
              "IsActiveMember  10000.000        0.515     0.500        0.000        0.000   \n",
              "EstimatedSalary 10000.000   100090.240 57510.493       11.580    51002.110   \n",
              "Exited          10000.000        0.204     0.403        0.000        0.000   \n",
              "\n",
              "                         50%          75%          max  \n",
              "RowNumber           5000.500     7500.250    10000.000  \n",
              "CustomerId      15690738.000 15753233.750 15815690.000  \n",
              "CreditScore          652.000      718.000      850.000  \n",
              "Age                   37.000       44.000       92.000  \n",
              "Tenure                 5.000        7.000       10.000  \n",
              "Balance            97198.540   127644.240   250898.090  \n",
              "NumOfProducts          1.000        2.000        4.000  \n",
              "HasCrCard              1.000        1.000        1.000  \n",
              "IsActiveMember         1.000        1.000        1.000  \n",
              "EstimatedSalary   100193.915   149388.247   199992.480  \n",
              "Exited                 0.000        0.000        1.000  "
            ],
            "text/html": [
              "\n",
              "  <div id=\"df-171e3780-856b-4f0d-979a-0ac3b8008a15\">\n",
              "    <div class=\"colab-df-container\">\n",
              "      <div>\n",
              "<style scoped>\n",
              "    .dataframe tbody tr th:only-of-type {\n",
              "        vertical-align: middle;\n",
              "    }\n",
              "\n",
              "    .dataframe tbody tr th {\n",
              "        vertical-align: top;\n",
              "    }\n",
              "\n",
              "    .dataframe thead th {\n",
              "        text-align: right;\n",
              "    }\n",
              "</style>\n",
              "<table border=\"1\" class=\"dataframe\">\n",
              "  <thead>\n",
              "    <tr style=\"text-align: right;\">\n",
              "      <th></th>\n",
              "      <th>count</th>\n",
              "      <th>mean</th>\n",
              "      <th>std</th>\n",
              "      <th>min</th>\n",
              "      <th>25%</th>\n",
              "      <th>50%</th>\n",
              "      <th>75%</th>\n",
              "      <th>max</th>\n",
              "    </tr>\n",
              "  </thead>\n",
              "  <tbody>\n",
              "    <tr>\n",
              "      <th>RowNumber</th>\n",
              "      <td>10000.000</td>\n",
              "      <td>5000.500</td>\n",
              "      <td>2886.896</td>\n",
              "      <td>1.000</td>\n",
              "      <td>2500.750</td>\n",
              "      <td>5000.500</td>\n",
              "      <td>7500.250</td>\n",
              "      <td>10000.000</td>\n",
              "    </tr>\n",
              "    <tr>\n",
              "      <th>CustomerId</th>\n",
              "      <td>10000.000</td>\n",
              "      <td>15690940.569</td>\n",
              "      <td>71936.186</td>\n",
              "      <td>15565701.000</td>\n",
              "      <td>15628528.250</td>\n",
              "      <td>15690738.000</td>\n",
              "      <td>15753233.750</td>\n",
              "      <td>15815690.000</td>\n",
              "    </tr>\n",
              "    <tr>\n",
              "      <th>CreditScore</th>\n",
              "      <td>10000.000</td>\n",
              "      <td>650.529</td>\n",
              "      <td>96.653</td>\n",
              "      <td>350.000</td>\n",
              "      <td>584.000</td>\n",
              "      <td>652.000</td>\n",
              "      <td>718.000</td>\n",
              "      <td>850.000</td>\n",
              "    </tr>\n",
              "    <tr>\n",
              "      <th>Age</th>\n",
              "      <td>10000.000</td>\n",
              "      <td>38.922</td>\n",
              "      <td>10.488</td>\n",
              "      <td>18.000</td>\n",
              "      <td>32.000</td>\n",
              "      <td>37.000</td>\n",
              "      <td>44.000</td>\n",
              "      <td>92.000</td>\n",
              "    </tr>\n",
              "    <tr>\n",
              "      <th>Tenure</th>\n",
              "      <td>10000.000</td>\n",
              "      <td>5.013</td>\n",
              "      <td>2.892</td>\n",
              "      <td>0.000</td>\n",
              "      <td>3.000</td>\n",
              "      <td>5.000</td>\n",
              "      <td>7.000</td>\n",
              "      <td>10.000</td>\n",
              "    </tr>\n",
              "    <tr>\n",
              "      <th>Balance</th>\n",
              "      <td>10000.000</td>\n",
              "      <td>76485.889</td>\n",
              "      <td>62397.405</td>\n",
              "      <td>0.000</td>\n",
              "      <td>0.000</td>\n",
              "      <td>97198.540</td>\n",
              "      <td>127644.240</td>\n",
              "      <td>250898.090</td>\n",
              "    </tr>\n",
              "    <tr>\n",
              "      <th>NumOfProducts</th>\n",
              "      <td>10000.000</td>\n",
              "      <td>1.530</td>\n",
              "      <td>0.582</td>\n",
              "      <td>1.000</td>\n",
              "      <td>1.000</td>\n",
              "      <td>1.000</td>\n",
              "      <td>2.000</td>\n",
              "      <td>4.000</td>\n",
              "    </tr>\n",
              "    <tr>\n",
              "      <th>HasCrCard</th>\n",
              "      <td>10000.000</td>\n",
              "      <td>0.706</td>\n",
              "      <td>0.456</td>\n",
              "      <td>0.000</td>\n",
              "      <td>0.000</td>\n",
              "      <td>1.000</td>\n",
              "      <td>1.000</td>\n",
              "      <td>1.000</td>\n",
              "    </tr>\n",
              "    <tr>\n",
              "      <th>IsActiveMember</th>\n",
              "      <td>10000.000</td>\n",
              "      <td>0.515</td>\n",
              "      <td>0.500</td>\n",
              "      <td>0.000</td>\n",
              "      <td>0.000</td>\n",
              "      <td>1.000</td>\n",
              "      <td>1.000</td>\n",
              "      <td>1.000</td>\n",
              "    </tr>\n",
              "    <tr>\n",
              "      <th>EstimatedSalary</th>\n",
              "      <td>10000.000</td>\n",
              "      <td>100090.240</td>\n",
              "      <td>57510.493</td>\n",
              "      <td>11.580</td>\n",
              "      <td>51002.110</td>\n",
              "      <td>100193.915</td>\n",
              "      <td>149388.247</td>\n",
              "      <td>199992.480</td>\n",
              "    </tr>\n",
              "    <tr>\n",
              "      <th>Exited</th>\n",
              "      <td>10000.000</td>\n",
              "      <td>0.204</td>\n",
              "      <td>0.403</td>\n",
              "      <td>0.000</td>\n",
              "      <td>0.000</td>\n",
              "      <td>0.000</td>\n",
              "      <td>0.000</td>\n",
              "      <td>1.000</td>\n",
              "    </tr>\n",
              "  </tbody>\n",
              "</table>\n",
              "</div>\n",
              "      <button class=\"colab-df-convert\" onclick=\"convertToInteractive('df-171e3780-856b-4f0d-979a-0ac3b8008a15')\"\n",
              "              title=\"Convert this dataframe to an interactive table.\"\n",
              "              style=\"display:none;\">\n",
              "        \n",
              "  <svg xmlns=\"http://www.w3.org/2000/svg\" height=\"24px\"viewBox=\"0 0 24 24\"\n",
              "       width=\"24px\">\n",
              "    <path d=\"M0 0h24v24H0V0z\" fill=\"none\"/>\n",
              "    <path d=\"M18.56 5.44l.94 2.06.94-2.06 2.06-.94-2.06-.94-.94-2.06-.94 2.06-2.06.94zm-11 1L8.5 8.5l.94-2.06 2.06-.94-2.06-.94L8.5 2.5l-.94 2.06-2.06.94zm10 10l.94 2.06.94-2.06 2.06-.94-2.06-.94-.94-2.06-.94 2.06-2.06.94z\"/><path d=\"M17.41 7.96l-1.37-1.37c-.4-.4-.92-.59-1.43-.59-.52 0-1.04.2-1.43.59L10.3 9.45l-7.72 7.72c-.78.78-.78 2.05 0 2.83L4 21.41c.39.39.9.59 1.41.59.51 0 1.02-.2 1.41-.59l7.78-7.78 2.81-2.81c.8-.78.8-2.07 0-2.86zM5.41 20L4 18.59l7.72-7.72 1.47 1.35L5.41 20z\"/>\n",
              "  </svg>\n",
              "      </button>\n",
              "      \n",
              "  <style>\n",
              "    .colab-df-container {\n",
              "      display:flex;\n",
              "      flex-wrap:wrap;\n",
              "      gap: 12px;\n",
              "    }\n",
              "\n",
              "    .colab-df-convert {\n",
              "      background-color: #E8F0FE;\n",
              "      border: none;\n",
              "      border-radius: 50%;\n",
              "      cursor: pointer;\n",
              "      display: none;\n",
              "      fill: #1967D2;\n",
              "      height: 32px;\n",
              "      padding: 0 0 0 0;\n",
              "      width: 32px;\n",
              "    }\n",
              "\n",
              "    .colab-df-convert:hover {\n",
              "      background-color: #E2EBFA;\n",
              "      box-shadow: 0px 1px 2px rgba(60, 64, 67, 0.3), 0px 1px 3px 1px rgba(60, 64, 67, 0.15);\n",
              "      fill: #174EA6;\n",
              "    }\n",
              "\n",
              "    [theme=dark] .colab-df-convert {\n",
              "      background-color: #3B4455;\n",
              "      fill: #D2E3FC;\n",
              "    }\n",
              "\n",
              "    [theme=dark] .colab-df-convert:hover {\n",
              "      background-color: #434B5C;\n",
              "      box-shadow: 0px 1px 3px 1px rgba(0, 0, 0, 0.15);\n",
              "      filter: drop-shadow(0px 1px 2px rgba(0, 0, 0, 0.3));\n",
              "      fill: #FFFFFF;\n",
              "    }\n",
              "  </style>\n",
              "\n",
              "      <script>\n",
              "        const buttonEl =\n",
              "          document.querySelector('#df-171e3780-856b-4f0d-979a-0ac3b8008a15 button.colab-df-convert');\n",
              "        buttonEl.style.display =\n",
              "          google.colab.kernel.accessAllowed ? 'block' : 'none';\n",
              "\n",
              "        async function convertToInteractive(key) {\n",
              "          const element = document.querySelector('#df-171e3780-856b-4f0d-979a-0ac3b8008a15');\n",
              "          const dataTable =\n",
              "            await google.colab.kernel.invokeFunction('convertToInteractive',\n",
              "                                                     [key], {});\n",
              "          if (!dataTable) return;\n",
              "\n",
              "          const docLinkHtml = 'Like what you see? Visit the ' +\n",
              "            '<a target=\"_blank\" href=https://colab.research.google.com/notebooks/data_table.ipynb>data table notebook</a>'\n",
              "            + ' to learn more about interactive tables.';\n",
              "          element.innerHTML = '';\n",
              "          dataTable['output_type'] = 'display_data';\n",
              "          await google.colab.output.renderOutput(dataTable, element);\n",
              "          const docLink = document.createElement('div');\n",
              "          docLink.innerHTML = docLinkHtml;\n",
              "          element.appendChild(docLink);\n",
              "        }\n",
              "      </script>\n",
              "    </div>\n",
              "  </div>\n",
              "  "
            ]
          },
          "metadata": {},
          "execution_count": 7
        }
      ]
    },
    {
      "cell_type": "code",
      "source": [
        "df = df.drop([\"CustomerId\",'Surname', 'Geography',\"RowNumber\"], axis = 1)"
      ],
      "metadata": {
        "id": "AtVSimv8PBE5"
      },
      "execution_count": 8,
      "outputs": []
    },
    {
      "cell_type": "code",
      "source": [
        "df.shape"
      ],
      "metadata": {
        "colab": {
          "base_uri": "https://localhost:8080/"
        },
        "id": "WTO6GmgEQjRq",
        "outputId": "db243f8c-ed97-422b-e8d8-fb3b82db81d7"
      },
      "execution_count": 9,
      "outputs": [
        {
          "output_type": "execute_result",
          "data": {
            "text/plain": [
              "(10000, 10)"
            ]
          },
          "metadata": {},
          "execution_count": 9
        }
      ]
    },
    {
      "cell_type": "code",
      "source": [
        "df.head()"
      ],
      "metadata": {
        "colab": {
          "base_uri": "https://localhost:8080/",
          "height": 206
        },
        "id": "xMucD6gyELmt",
        "outputId": "106c4bdf-429e-4223-9d3d-52e9c258b573"
      },
      "execution_count": 10,
      "outputs": [
        {
          "output_type": "execute_result",
          "data": {
            "text/plain": [
              "   CreditScore  Gender  Age  Tenure    Balance  NumOfProducts  HasCrCard  \\\n",
              "0          619  Female   42       2      0.000              1          1   \n",
              "1          608  Female   41       1  83807.860              1          0   \n",
              "2          502  Female   42       8 159660.800              3          1   \n",
              "3          699  Female   39       1      0.000              2          0   \n",
              "4          850  Female   43       2 125510.820              1          1   \n",
              "\n",
              "   IsActiveMember  EstimatedSalary  Exited  \n",
              "0               1       101348.880       1  \n",
              "1               1       112542.580       0  \n",
              "2               0       113931.570       1  \n",
              "3               0        93826.630       0  \n",
              "4               1        79084.100       0  "
            ],
            "text/html": [
              "\n",
              "  <div id=\"df-d685161f-a3ee-446f-8cc6-1c7d5eafee8e\">\n",
              "    <div class=\"colab-df-container\">\n",
              "      <div>\n",
              "<style scoped>\n",
              "    .dataframe tbody tr th:only-of-type {\n",
              "        vertical-align: middle;\n",
              "    }\n",
              "\n",
              "    .dataframe tbody tr th {\n",
              "        vertical-align: top;\n",
              "    }\n",
              "\n",
              "    .dataframe thead th {\n",
              "        text-align: right;\n",
              "    }\n",
              "</style>\n",
              "<table border=\"1\" class=\"dataframe\">\n",
              "  <thead>\n",
              "    <tr style=\"text-align: right;\">\n",
              "      <th></th>\n",
              "      <th>CreditScore</th>\n",
              "      <th>Gender</th>\n",
              "      <th>Age</th>\n",
              "      <th>Tenure</th>\n",
              "      <th>Balance</th>\n",
              "      <th>NumOfProducts</th>\n",
              "      <th>HasCrCard</th>\n",
              "      <th>IsActiveMember</th>\n",
              "      <th>EstimatedSalary</th>\n",
              "      <th>Exited</th>\n",
              "    </tr>\n",
              "  </thead>\n",
              "  <tbody>\n",
              "    <tr>\n",
              "      <th>0</th>\n",
              "      <td>619</td>\n",
              "      <td>Female</td>\n",
              "      <td>42</td>\n",
              "      <td>2</td>\n",
              "      <td>0.000</td>\n",
              "      <td>1</td>\n",
              "      <td>1</td>\n",
              "      <td>1</td>\n",
              "      <td>101348.880</td>\n",
              "      <td>1</td>\n",
              "    </tr>\n",
              "    <tr>\n",
              "      <th>1</th>\n",
              "      <td>608</td>\n",
              "      <td>Female</td>\n",
              "      <td>41</td>\n",
              "      <td>1</td>\n",
              "      <td>83807.860</td>\n",
              "      <td>1</td>\n",
              "      <td>0</td>\n",
              "      <td>1</td>\n",
              "      <td>112542.580</td>\n",
              "      <td>0</td>\n",
              "    </tr>\n",
              "    <tr>\n",
              "      <th>2</th>\n",
              "      <td>502</td>\n",
              "      <td>Female</td>\n",
              "      <td>42</td>\n",
              "      <td>8</td>\n",
              "      <td>159660.800</td>\n",
              "      <td>3</td>\n",
              "      <td>1</td>\n",
              "      <td>0</td>\n",
              "      <td>113931.570</td>\n",
              "      <td>1</td>\n",
              "    </tr>\n",
              "    <tr>\n",
              "      <th>3</th>\n",
              "      <td>699</td>\n",
              "      <td>Female</td>\n",
              "      <td>39</td>\n",
              "      <td>1</td>\n",
              "      <td>0.000</td>\n",
              "      <td>2</td>\n",
              "      <td>0</td>\n",
              "      <td>0</td>\n",
              "      <td>93826.630</td>\n",
              "      <td>0</td>\n",
              "    </tr>\n",
              "    <tr>\n",
              "      <th>4</th>\n",
              "      <td>850</td>\n",
              "      <td>Female</td>\n",
              "      <td>43</td>\n",
              "      <td>2</td>\n",
              "      <td>125510.820</td>\n",
              "      <td>1</td>\n",
              "      <td>1</td>\n",
              "      <td>1</td>\n",
              "      <td>79084.100</td>\n",
              "      <td>0</td>\n",
              "    </tr>\n",
              "  </tbody>\n",
              "</table>\n",
              "</div>\n",
              "      <button class=\"colab-df-convert\" onclick=\"convertToInteractive('df-d685161f-a3ee-446f-8cc6-1c7d5eafee8e')\"\n",
              "              title=\"Convert this dataframe to an interactive table.\"\n",
              "              style=\"display:none;\">\n",
              "        \n",
              "  <svg xmlns=\"http://www.w3.org/2000/svg\" height=\"24px\"viewBox=\"0 0 24 24\"\n",
              "       width=\"24px\">\n",
              "    <path d=\"M0 0h24v24H0V0z\" fill=\"none\"/>\n",
              "    <path d=\"M18.56 5.44l.94 2.06.94-2.06 2.06-.94-2.06-.94-.94-2.06-.94 2.06-2.06.94zm-11 1L8.5 8.5l.94-2.06 2.06-.94-2.06-.94L8.5 2.5l-.94 2.06-2.06.94zm10 10l.94 2.06.94-2.06 2.06-.94-2.06-.94-.94-2.06-.94 2.06-2.06.94z\"/><path d=\"M17.41 7.96l-1.37-1.37c-.4-.4-.92-.59-1.43-.59-.52 0-1.04.2-1.43.59L10.3 9.45l-7.72 7.72c-.78.78-.78 2.05 0 2.83L4 21.41c.39.39.9.59 1.41.59.51 0 1.02-.2 1.41-.59l7.78-7.78 2.81-2.81c.8-.78.8-2.07 0-2.86zM5.41 20L4 18.59l7.72-7.72 1.47 1.35L5.41 20z\"/>\n",
              "  </svg>\n",
              "      </button>\n",
              "      \n",
              "  <style>\n",
              "    .colab-df-container {\n",
              "      display:flex;\n",
              "      flex-wrap:wrap;\n",
              "      gap: 12px;\n",
              "    }\n",
              "\n",
              "    .colab-df-convert {\n",
              "      background-color: #E8F0FE;\n",
              "      border: none;\n",
              "      border-radius: 50%;\n",
              "      cursor: pointer;\n",
              "      display: none;\n",
              "      fill: #1967D2;\n",
              "      height: 32px;\n",
              "      padding: 0 0 0 0;\n",
              "      width: 32px;\n",
              "    }\n",
              "\n",
              "    .colab-df-convert:hover {\n",
              "      background-color: #E2EBFA;\n",
              "      box-shadow: 0px 1px 2px rgba(60, 64, 67, 0.3), 0px 1px 3px 1px rgba(60, 64, 67, 0.15);\n",
              "      fill: #174EA6;\n",
              "    }\n",
              "\n",
              "    [theme=dark] .colab-df-convert {\n",
              "      background-color: #3B4455;\n",
              "      fill: #D2E3FC;\n",
              "    }\n",
              "\n",
              "    [theme=dark] .colab-df-convert:hover {\n",
              "      background-color: #434B5C;\n",
              "      box-shadow: 0px 1px 3px 1px rgba(0, 0, 0, 0.15);\n",
              "      filter: drop-shadow(0px 1px 2px rgba(0, 0, 0, 0.3));\n",
              "      fill: #FFFFFF;\n",
              "    }\n",
              "  </style>\n",
              "\n",
              "      <script>\n",
              "        const buttonEl =\n",
              "          document.querySelector('#df-d685161f-a3ee-446f-8cc6-1c7d5eafee8e button.colab-df-convert');\n",
              "        buttonEl.style.display =\n",
              "          google.colab.kernel.accessAllowed ? 'block' : 'none';\n",
              "\n",
              "        async function convertToInteractive(key) {\n",
              "          const element = document.querySelector('#df-d685161f-a3ee-446f-8cc6-1c7d5eafee8e');\n",
              "          const dataTable =\n",
              "            await google.colab.kernel.invokeFunction('convertToInteractive',\n",
              "                                                     [key], {});\n",
              "          if (!dataTable) return;\n",
              "\n",
              "          const docLinkHtml = 'Like what you see? Visit the ' +\n",
              "            '<a target=\"_blank\" href=https://colab.research.google.com/notebooks/data_table.ipynb>data table notebook</a>'\n",
              "            + ' to learn more about interactive tables.';\n",
              "          element.innerHTML = '';\n",
              "          dataTable['output_type'] = 'display_data';\n",
              "          await google.colab.output.renderOutput(dataTable, element);\n",
              "          const docLink = document.createElement('div');\n",
              "          docLink.innerHTML = docLinkHtml;\n",
              "          element.appendChild(docLink);\n",
              "        }\n",
              "      </script>\n",
              "    </div>\n",
              "  </div>\n",
              "  "
            ]
          },
          "metadata": {},
          "execution_count": 10
        }
      ]
    },
    {
      "cell_type": "code",
      "source": [
        "df=pd.get_dummies(df)"
      ],
      "metadata": {
        "id": "PmEhR792RiaE"
      },
      "execution_count": 11,
      "outputs": []
    },
    {
      "cell_type": "code",
      "source": [
        "df.info()"
      ],
      "metadata": {
        "colab": {
          "base_uri": "https://localhost:8080/"
        },
        "id": "FGV5mn32ShzO",
        "outputId": "3addafe8-25cc-42ac-c46d-6bfcdc453bc7"
      },
      "execution_count": 12,
      "outputs": [
        {
          "output_type": "stream",
          "name": "stdout",
          "text": [
            "<class 'pandas.core.frame.DataFrame'>\n",
            "RangeIndex: 10000 entries, 0 to 9999\n",
            "Data columns (total 11 columns):\n",
            " #   Column           Non-Null Count  Dtype  \n",
            "---  ------           --------------  -----  \n",
            " 0   CreditScore      10000 non-null  int64  \n",
            " 1   Age              10000 non-null  int64  \n",
            " 2   Tenure           10000 non-null  int64  \n",
            " 3   Balance          10000 non-null  float64\n",
            " 4   NumOfProducts    10000 non-null  int64  \n",
            " 5   HasCrCard        10000 non-null  int64  \n",
            " 6   IsActiveMember   10000 non-null  int64  \n",
            " 7   EstimatedSalary  10000 non-null  float64\n",
            " 8   Exited           10000 non-null  int64  \n",
            " 9   Gender_Female    10000 non-null  uint8  \n",
            " 10  Gender_Male      10000 non-null  uint8  \n",
            "dtypes: float64(2), int64(7), uint8(2)\n",
            "memory usage: 722.8 KB\n"
          ]
        }
      ]
    },
    {
      "cell_type": "code",
      "source": [
        "plt.figure(figsize=(10,10))\n",
        "sns.countplot(df[\"Exited\"])"
      ],
      "metadata": {
        "colab": {
          "base_uri": "https://localhost:8080/",
          "height": 624
        },
        "id": "FjPtB_RtPA5Q",
        "outputId": "ebf216aa-b5b8-42d6-de83-d42ae171a411"
      },
      "execution_count": 13,
      "outputs": [
        {
          "output_type": "execute_result",
          "data": {
            "text/plain": [
              "<matplotlib.axes._subplots.AxesSubplot at 0x7efca4ac5b10>"
            ]
          },
          "metadata": {},
          "execution_count": 13
        },
        {
          "output_type": "display_data",
          "data": {
            "text/plain": [
              "<Figure size 720x720 with 1 Axes>"
            ],
            "image/png": "[encoded data removed]"
          },
          "metadata": {
            "needs_background": "light"
          }
        }
      ]
    },
    {
      "cell_type": "code",
      "source": [
        "plt.figure(figsize=(20,20))\n",
        "sns.heatmap(df.corr(), annot=True, cmap=\"seismic\"); "
      ],
      "metadata": {
        "colab": {
          "base_uri": "https://localhost:8080/",
          "height": 1000
        },
        "id": "yQb6ZFGzQVf6",
        "outputId": "bc777884-15a0-4073-e63d-b95a579b30d2"
      },
      "execution_count": 14,
      "outputs": [
        {
          "output_type": "display_data",
          "data": {
            "text/plain": [
              "<Figure size 1440x1440 with 2 Axes>"
            ],
            "image/png": "[encoded data removed]"
          },
          "metadata": {
            "needs_background": "light"
          }
        }
      ]
    },
    {
      "cell_type": "code",
      "source": [
        "plt.figure(figsize = (8,10))\n",
        "df.corr()['Exited'].sort_values().drop(\"Exited\").plot(kind = \"barh\");  "
      ],
      "metadata": {
        "colab": {
          "base_uri": "https://localhost:8080/",
          "height": 592
        },
        "id": "j3FENIkrQmhF",
        "outputId": "8013c783-a73d-49f7-c7b4-ebeceb4edd10"
      },
      "execution_count": 15,
      "outputs": [
        {
          "output_type": "display_data",
          "data": {
            "text/plain": [
              "<Figure size 576x720 with 1 Axes>"
            ],
            "image/png": "[encoded data removed]"
          },
          "metadata": {
            "needs_background": "light"
          }
        }
      ]
    },
    {
      "cell_type": "code",
      "source": [
        ""
      ],
      "metadata": {
        "id": "vV9GwSlQRDpj"
      },
      "execution_count": 15,
      "outputs": []
    },
    {
      "cell_type": "markdown",
      "metadata": {
        "id": "WO9crdOt6QO2"
      },
      "source": [
        "# Preprocessing of Data\n",
        "- Train | Test Split, Scalling"
      ]
    },
    {
      "cell_type": "code",
      "execution_count": 15,
      "metadata": {
        "id": "AV3FE9_U6QO3"
      },
      "outputs": [],
      "source": [
        ""
      ]
    },
    {
      "cell_type": "code",
      "execution_count": 16,
      "metadata": {
        "id": "DjY-ZSPWka7D"
      },
      "outputs": [],
      "source": [
        "from sklearn.model_selection import train_test_split\n",
        "from sklearn.preprocessing import MinMaxScaler"
      ]
    },
    {
      "cell_type": "code",
      "execution_count": 17,
      "metadata": {
        "id": "kjyTH753lq7M"
      },
      "outputs": [],
      "source": [
        "X = df.drop('Exited', axis=1)\n",
        "y = df['Exited']"
      ]
    },
    {
      "cell_type": "code",
      "execution_count": 18,
      "metadata": {
        "id": "LZHPkO_DuWYK"
      },
      "outputs": [],
      "source": [
        "seed = 42"
      ]
    },
    {
      "cell_type": "code",
      "execution_count": 19,
      "metadata": {
        "id": "-U7qM3NxmKZX"
      },
      "outputs": [],
      "source": [
        "X_train, X_test, y_train, y_test = train_test_split(X, y, stratify = y, test_size = 0.15, random_state = seed)"
      ]
    },
    {
      "cell_type": "code",
      "execution_count": 20,
      "metadata": {
        "id": "fv1Ass6wuWYL"
      },
      "outputs": [],
      "source": [
        "scaler = MinMaxScaler()"
      ]
    },
    {
      "cell_type": "code",
      "execution_count": 21,
      "metadata": {
        "id": "Fgy3D9SBmWcq"
      },
      "outputs": [],
      "source": [
        "X_train= scaler.fit_transform(X_train)\n",
        "X_test = scaler.transform(X_test)"
      ]
    },
    {
      "cell_type": "markdown",
      "metadata": {
        "id": "Ha9hDt_AoGaE"
      },
      "source": [
        "# Modelling & Model Performance"
      ]
    },
    {
      "cell_type": "markdown",
      "metadata": {
        "id": "nFduVvWV6QO4"
      },
      "source": [
        "## without class_weigth"
      ]
    },
    {
      "cell_type": "markdown",
      "metadata": {
        "id": "yw66wSCy6QO4"
      },
      "source": [
        "### Create The Model"
      ]
    },
    {
      "cell_type": "code",
      "execution_count": 21,
      "metadata": {
        "id": "8d2UbzKd6QO4"
      },
      "outputs": [],
      "source": [
        ""
      ]
    },
    {
      "cell_type": "code",
      "execution_count": 22,
      "metadata": {
        "id": "7ULmvr-n13bQ"
      },
      "outputs": [],
      "source": [
        "import tensorflow as tf\n",
        "from tensorflow.keras.models import Sequential\n",
        "from tensorflow.keras.layers import Dense, Activation\n",
        "from sklearn.metrics import classification_report, confusion_matrix\n",
        "from sklearn.metrics import plot_roc_curve, roc_auc_score, roc_curve\n",
        "from sklearn.model_selection import cross_val_score, cross_validate\n",
        "from sklearn.model_selection import GridSearchCV  "
      ]
    },
    {
      "cell_type": "code",
      "execution_count": 22,
      "metadata": {
        "id": "bVa8H6z113bR"
      },
      "outputs": [],
      "source": [
        ""
      ]
    },
    {
      "cell_type": "code",
      "execution_count": 23,
      "metadata": {
        "colab": {
          "base_uri": "https://localhost:8080/"
        },
        "id": "53becHwOn549",
        "outputId": "6a105066-b03a-4fd2-835e-ce1ef4f767e4"
      },
      "outputs": [
        {
          "output_type": "execute_result",
          "data": {
            "text/plain": [
              "(8500, 10)"
            ]
          },
          "metadata": {},
          "execution_count": 23
        }
      ],
      "source": [
        "X_train.shape"
      ]
    },
    {
      "cell_type": "code",
      "execution_count": 24,
      "metadata": {
        "colab": {
          "base_uri": "https://localhost:8080/"
        },
        "id": "TX7hyUw5rOZc",
        "outputId": "c1b6b4cd-c903-4a44-9eb8-2f916c172c75"
      },
      "outputs": [
        {
          "output_type": "execute_result",
          "data": {
            "text/plain": [
              "(1500, 10)"
            ]
          },
          "metadata": {},
          "execution_count": 24
        }
      ],
      "source": [
        "X_test.shape"
      ]
    },
    {
      "cell_type": "code",
      "execution_count": 25,
      "metadata": {
        "id": "GG2glFRNrQcv"
      },
      "outputs": [],
      "source": [
        "tf.random.set_seed(seed)\n",
        "\n",
        "model = Sequential()\n",
        "\n",
        "model.add(Dense(20, activation = \"relu\", input_dim = X_train.shape[1]))\n",
        "model.add(Dense(10, activation = \"relu\"))\n",
        "model.add(Dense(5, activation = \"relu\"))\n",
        "model.add(Dense(1, activation = \"sigmoid\"))         \n",
        "model.compile(optimizer = \"adam\", loss = \"binary_crossentropy\", metrics = [\"Recall\"])  "
      ]
    },
    {
      "cell_type": "code",
      "execution_count": 26,
      "metadata": {
        "colab": {
          "base_uri": "https://localhost:8080/"
        },
        "id": "hw5J9o-mtbkj",
        "outputId": "44e8767e-8100-49fd-9af6-f63ac51e9654"
      },
      "outputs": [
        {
          "output_type": "stream",
          "name": "stdout",
          "text": [
            "Epoch 1/300\n",
            "73/73 [==============================] - 4s 18ms/step - loss: 0.6362 - recall: 0.1286 - val_loss: 0.5466 - val_recall: 0.0000e+00\n",
            "Epoch 2/300\n",
            "73/73 [==============================] - 0s 6ms/step - loss: 0.5173 - recall: 0.0000e+00 - val_loss: 0.4980 - val_recall: 0.0000e+00\n",
            "Epoch 3/300\n",
            "73/73 [==============================] - 0s 7ms/step - loss: 0.4991 - recall: 0.0000e+00 - val_loss: 0.4873 - val_recall: 0.0000e+00\n",
            "Epoch 4/300\n",
            "73/73 [==============================] - 1s 7ms/step - loss: 0.4856 - recall: 0.0000e+00 - val_loss: 0.4736 - val_recall: 0.0000e+00\n",
            "Epoch 5/300\n",
            "73/73 [==============================] - 0s 5ms/step - loss: 0.4680 - recall: 0.0068 - val_loss: 0.4590 - val_recall: 0.0354\n",
            "Epoch 6/300\n",
            "73/73 [==============================] - 0s 5ms/step - loss: 0.4514 - recall: 0.0650 - val_loss: 0.4470 - val_recall: 0.1063\n",
            "Epoch 7/300\n",
            "73/73 [==============================] - 0s 5ms/step - loss: 0.4371 - recall: 0.1300 - val_loss: 0.4349 - val_recall: 0.1299\n",
            "Epoch 8/300\n",
            "73/73 [==============================] - 0s 5ms/step - loss: 0.4267 - recall: 0.1862 - val_loss: 0.4262 - val_recall: 0.1850\n",
            "Epoch 9/300\n",
            "73/73 [==============================] - 0s 6ms/step - loss: 0.4167 - recall: 0.2126 - val_loss: 0.4178 - val_recall: 0.1732\n",
            "Epoch 10/300\n",
            "73/73 [==============================] - 0s 5ms/step - loss: 0.4089 - recall: 0.2580 - val_loss: 0.4144 - val_recall: 0.1850\n",
            "Epoch 11/300\n",
            "73/73 [==============================] - 0s 4ms/step - loss: 0.4027 - recall: 0.2789 - val_loss: 0.4034 - val_recall: 0.3071\n",
            "Epoch 12/300\n",
            "73/73 [==============================] - 0s 4ms/step - loss: 0.3988 - recall: 0.2972 - val_loss: 0.3988 - val_recall: 0.2677\n",
            "Epoch 13/300\n",
            "73/73 [==============================] - 0s 4ms/step - loss: 0.3943 - recall: 0.3074 - val_loss: 0.3932 - val_recall: 0.2953\n",
            "Epoch 14/300\n",
            "73/73 [==============================] - 0s 2ms/step - loss: 0.3898 - recall: 0.3331 - val_loss: 0.3888 - val_recall: 0.3543\n",
            "Epoch 15/300\n",
            "73/73 [==============================] - 0s 2ms/step - loss: 0.3858 - recall: 0.3385 - val_loss: 0.3849 - val_recall: 0.3110\n",
            "Epoch 16/300\n",
            "73/73 [==============================] - 0s 2ms/step - loss: 0.3830 - recall: 0.3460 - val_loss: 0.3825 - val_recall: 0.3150\n",
            "Epoch 17/300\n",
            "73/73 [==============================] - 0s 2ms/step - loss: 0.3800 - recall: 0.3561 - val_loss: 0.3809 - val_recall: 0.4134\n",
            "Epoch 18/300\n",
            "73/73 [==============================] - 0s 2ms/step - loss: 0.3768 - recall: 0.3622 - val_loss: 0.3729 - val_recall: 0.3583\n",
            "Epoch 19/300\n",
            "73/73 [==============================] - 0s 2ms/step - loss: 0.3741 - recall: 0.3649 - val_loss: 0.3708 - val_recall: 0.3780\n",
            "Epoch 20/300\n",
            "73/73 [==============================] - 0s 2ms/step - loss: 0.3722 - recall: 0.3751 - val_loss: 0.3685 - val_recall: 0.3622\n",
            "Epoch 21/300\n",
            "73/73 [==============================] - 0s 2ms/step - loss: 0.3711 - recall: 0.3791 - val_loss: 0.3664 - val_recall: 0.3780\n",
            "Epoch 22/300\n",
            "73/73 [==============================] - 0s 2ms/step - loss: 0.3674 - recall: 0.3852 - val_loss: 0.3658 - val_recall: 0.3622\n",
            "Epoch 23/300\n",
            "73/73 [==============================] - 0s 2ms/step - loss: 0.3660 - recall: 0.3805 - val_loss: 0.3627 - val_recall: 0.3819\n",
            "Epoch 24/300\n",
            "73/73 [==============================] - 0s 2ms/step - loss: 0.3639 - recall: 0.3913 - val_loss: 0.3619 - val_recall: 0.3740\n",
            "Epoch 25/300\n",
            "73/73 [==============================] - 0s 2ms/step - loss: 0.3626 - recall: 0.3886 - val_loss: 0.3607 - val_recall: 0.3858\n",
            "Epoch 26/300\n",
            "73/73 [==============================] - 0s 2ms/step - loss: 0.3620 - recall: 0.3920 - val_loss: 0.3612 - val_recall: 0.3543\n",
            "Epoch 27/300\n",
            "73/73 [==============================] - 0s 2ms/step - loss: 0.3613 - recall: 0.3961 - val_loss: 0.3562 - val_recall: 0.4055\n",
            "Epoch 28/300\n",
            "73/73 [==============================] - 0s 2ms/step - loss: 0.3596 - recall: 0.3832 - val_loss: 0.3552 - val_recall: 0.3976\n",
            "Epoch 29/300\n",
            "73/73 [==============================] - 0s 2ms/step - loss: 0.3570 - recall: 0.4042 - val_loss: 0.3535 - val_recall: 0.4094\n",
            "Epoch 30/300\n",
            "73/73 [==============================] - 0s 2ms/step - loss: 0.3569 - recall: 0.4022 - val_loss: 0.3548 - val_recall: 0.3937\n",
            "Epoch 31/300\n",
            "73/73 [==============================] - 0s 2ms/step - loss: 0.3564 - recall: 0.3900 - val_loss: 0.3525 - val_recall: 0.4291\n",
            "Epoch 32/300\n",
            "73/73 [==============================] - 0s 2ms/step - loss: 0.3553 - recall: 0.4069 - val_loss: 0.3544 - val_recall: 0.3740\n",
            "Epoch 33/300\n",
            "73/73 [==============================] - 0s 2ms/step - loss: 0.3555 - recall: 0.4022 - val_loss: 0.3557 - val_recall: 0.3622\n",
            "Epoch 34/300\n",
            "73/73 [==============================] - 0s 2ms/step - loss: 0.3545 - recall: 0.3981 - val_loss: 0.3535 - val_recall: 0.4252\n",
            "Epoch 35/300\n",
            "73/73 [==============================] - 0s 3ms/step - loss: 0.3550 - recall: 0.3995 - val_loss: 0.3515 - val_recall: 0.4606\n",
            "Epoch 36/300\n",
            "73/73 [==============================] - 0s 2ms/step - loss: 0.3540 - recall: 0.4150 - val_loss: 0.3505 - val_recall: 0.3898\n",
            "Epoch 37/300\n",
            "73/73 [==============================] - 0s 2ms/step - loss: 0.3535 - recall: 0.4103 - val_loss: 0.3517 - val_recall: 0.4016\n",
            "Epoch 38/300\n",
            "73/73 [==============================] - 0s 2ms/step - loss: 0.3513 - recall: 0.4083 - val_loss: 0.3553 - val_recall: 0.3504\n",
            "Epoch 39/300\n",
            "73/73 [==============================] - 0s 2ms/step - loss: 0.3511 - recall: 0.4103 - val_loss: 0.3479 - val_recall: 0.4173\n",
            "Epoch 40/300\n",
            "73/73 [==============================] - 0s 2ms/step - loss: 0.3524 - recall: 0.4056 - val_loss: 0.3539 - val_recall: 0.4724\n",
            "Epoch 41/300\n",
            "73/73 [==============================] - 0s 2ms/step - loss: 0.3514 - recall: 0.4069 - val_loss: 0.3485 - val_recall: 0.4213\n",
            "Epoch 42/300\n",
            "73/73 [==============================] - 0s 2ms/step - loss: 0.3507 - recall: 0.4110 - val_loss: 0.3477 - val_recall: 0.4134\n",
            "Epoch 43/300\n",
            "73/73 [==============================] - 0s 2ms/step - loss: 0.3494 - recall: 0.4150 - val_loss: 0.3495 - val_recall: 0.4055\n",
            "Epoch 44/300\n",
            "73/73 [==============================] - 0s 2ms/step - loss: 0.3498 - recall: 0.4096 - val_loss: 0.3482 - val_recall: 0.4213\n",
            "Epoch 45/300\n",
            "73/73 [==============================] - 0s 2ms/step - loss: 0.3496 - recall: 0.4150 - val_loss: 0.3499 - val_recall: 0.4488\n",
            "Epoch 46/300\n",
            "73/73 [==============================] - 0s 2ms/step - loss: 0.3481 - recall: 0.4150 - val_loss: 0.3516 - val_recall: 0.3465\n",
            "Epoch 47/300\n",
            "73/73 [==============================] - 0s 2ms/step - loss: 0.3486 - recall: 0.4049 - val_loss: 0.3480 - val_recall: 0.4055\n",
            "Epoch 48/300\n",
            "73/73 [==============================] - 0s 2ms/step - loss: 0.3487 - recall: 0.4096 - val_loss: 0.3461 - val_recall: 0.4291\n",
            "Epoch 49/300\n",
            "73/73 [==============================] - 0s 2ms/step - loss: 0.3487 - recall: 0.4069 - val_loss: 0.3467 - val_recall: 0.4567\n",
            "Epoch 50/300\n",
            "73/73 [==============================] - 0s 2ms/step - loss: 0.3497 - recall: 0.4137 - val_loss: 0.3513 - val_recall: 0.3622\n",
            "Epoch 51/300\n",
            "73/73 [==============================] - 0s 2ms/step - loss: 0.3479 - recall: 0.4171 - val_loss: 0.3488 - val_recall: 0.3976\n",
            "Epoch 52/300\n",
            "73/73 [==============================] - 0s 2ms/step - loss: 0.3478 - recall: 0.4171 - val_loss: 0.3449 - val_recall: 0.4252\n",
            "Epoch 53/300\n",
            "73/73 [==============================] - 0s 2ms/step - loss: 0.3470 - recall: 0.4204 - val_loss: 0.3455 - val_recall: 0.4134\n",
            "Epoch 54/300\n",
            "73/73 [==============================] - 0s 2ms/step - loss: 0.3473 - recall: 0.4191 - val_loss: 0.3493 - val_recall: 0.3819\n",
            "Epoch 55/300\n",
            "73/73 [==============================] - 0s 2ms/step - loss: 0.3469 - recall: 0.4184 - val_loss: 0.3469 - val_recall: 0.4291\n",
            "Epoch 56/300\n",
            "73/73 [==============================] - 0s 2ms/step - loss: 0.3462 - recall: 0.4164 - val_loss: 0.3458 - val_recall: 0.4213\n",
            "Epoch 57/300\n",
            "73/73 [==============================] - 0s 2ms/step - loss: 0.3465 - recall: 0.4245 - val_loss: 0.3463 - val_recall: 0.4331\n",
            "Epoch 58/300\n",
            "73/73 [==============================] - 0s 2ms/step - loss: 0.3465 - recall: 0.4171 - val_loss: 0.3471 - val_recall: 0.4094\n",
            "Epoch 59/300\n",
            "73/73 [==============================] - 0s 2ms/step - loss: 0.3458 - recall: 0.4191 - val_loss: 0.3469 - val_recall: 0.4488\n",
            "Epoch 60/300\n",
            "73/73 [==============================] - 0s 3ms/step - loss: 0.3466 - recall: 0.4320 - val_loss: 0.3462 - val_recall: 0.4252\n",
            "Epoch 61/300\n",
            "73/73 [==============================] - 0s 2ms/step - loss: 0.3452 - recall: 0.4232 - val_loss: 0.3450 - val_recall: 0.4016\n",
            "Epoch 62/300\n",
            "73/73 [==============================] - 0s 2ms/step - loss: 0.3459 - recall: 0.4211 - val_loss: 0.3455 - val_recall: 0.4094\n",
            "Epoch 63/300\n",
            "73/73 [==============================] - 0s 2ms/step - loss: 0.3437 - recall: 0.4265 - val_loss: 0.3531 - val_recall: 0.3386\n",
            "Epoch 64/300\n",
            "73/73 [==============================] - 0s 2ms/step - loss: 0.3447 - recall: 0.4232 - val_loss: 0.3450 - val_recall: 0.4291\n",
            "Epoch 65/300\n",
            "73/73 [==============================] - 0s 2ms/step - loss: 0.3462 - recall: 0.4232 - val_loss: 0.3441 - val_recall: 0.4055\n",
            "Epoch 66/300\n",
            "73/73 [==============================] - 0s 2ms/step - loss: 0.3436 - recall: 0.4225 - val_loss: 0.3451 - val_recall: 0.4488\n",
            "Epoch 67/300\n",
            "73/73 [==============================] - 0s 2ms/step - loss: 0.3440 - recall: 0.4272 - val_loss: 0.3489 - val_recall: 0.3740\n",
            "Epoch 68/300\n",
            "73/73 [==============================] - 0s 2ms/step - loss: 0.3446 - recall: 0.4225 - val_loss: 0.3467 - val_recall: 0.4449\n",
            "Epoch 69/300\n",
            "73/73 [==============================] - 0s 2ms/step - loss: 0.3446 - recall: 0.4340 - val_loss: 0.3522 - val_recall: 0.3543\n",
            "Epoch 70/300\n",
            "73/73 [==============================] - 0s 2ms/step - loss: 0.3448 - recall: 0.4306 - val_loss: 0.3462 - val_recall: 0.3819\n",
            "Epoch 71/300\n",
            "73/73 [==============================] - 0s 2ms/step - loss: 0.3452 - recall: 0.4211 - val_loss: 0.3474 - val_recall: 0.3858\n",
            "Epoch 72/300\n",
            "73/73 [==============================] - 0s 2ms/step - loss: 0.3448 - recall: 0.4245 - val_loss: 0.3435 - val_recall: 0.4055\n",
            "Epoch 73/300\n",
            "73/73 [==============================] - 0s 2ms/step - loss: 0.3428 - recall: 0.4211 - val_loss: 0.3435 - val_recall: 0.4252\n",
            "Epoch 74/300\n",
            "73/73 [==============================] - 0s 2ms/step - loss: 0.3453 - recall: 0.4272 - val_loss: 0.3451 - val_recall: 0.4449\n",
            "Epoch 75/300\n",
            "73/73 [==============================] - 0s 2ms/step - loss: 0.3434 - recall: 0.4265 - val_loss: 0.3474 - val_recall: 0.4724\n",
            "Epoch 76/300\n",
            "73/73 [==============================] - 0s 2ms/step - loss: 0.3435 - recall: 0.4245 - val_loss: 0.3414 - val_recall: 0.4685\n",
            "Epoch 77/300\n",
            "73/73 [==============================] - 0s 2ms/step - loss: 0.3449 - recall: 0.4320 - val_loss: 0.3575 - val_recall: 0.3189\n",
            "Epoch 78/300\n",
            "73/73 [==============================] - 0s 2ms/step - loss: 0.3458 - recall: 0.4299 - val_loss: 0.3426 - val_recall: 0.4173\n",
            "Epoch 79/300\n",
            "73/73 [==============================] - 0s 2ms/step - loss: 0.3420 - recall: 0.4320 - val_loss: 0.3433 - val_recall: 0.4173\n",
            "Epoch 80/300\n",
            "73/73 [==============================] - 0s 2ms/step - loss: 0.3435 - recall: 0.4313 - val_loss: 0.3458 - val_recall: 0.4055\n",
            "Epoch 81/300\n",
            "73/73 [==============================] - 0s 2ms/step - loss: 0.3424 - recall: 0.4333 - val_loss: 0.3437 - val_recall: 0.4134\n",
            "Epoch 82/300\n",
            "73/73 [==============================] - 0s 2ms/step - loss: 0.3429 - recall: 0.4347 - val_loss: 0.3464 - val_recall: 0.3819\n",
            "Epoch 83/300\n",
            "73/73 [==============================] - 0s 2ms/step - loss: 0.3428 - recall: 0.4320 - val_loss: 0.3444 - val_recall: 0.3898\n",
            "Epoch 84/300\n",
            "73/73 [==============================] - 0s 2ms/step - loss: 0.3419 - recall: 0.4313 - val_loss: 0.3435 - val_recall: 0.4488\n",
            "Epoch 85/300\n",
            "73/73 [==============================] - 0s 2ms/step - loss: 0.3420 - recall: 0.4265 - val_loss: 0.3417 - val_recall: 0.4291\n",
            "Epoch 86/300\n",
            "73/73 [==============================] - 0s 2ms/step - loss: 0.3413 - recall: 0.4340 - val_loss: 0.3517 - val_recall: 0.3543\n",
            "Epoch 87/300\n",
            "73/73 [==============================] - 0s 2ms/step - loss: 0.3423 - recall: 0.4218 - val_loss: 0.3428 - val_recall: 0.4409\n",
            "Epoch 88/300\n",
            "73/73 [==============================] - 0s 2ms/step - loss: 0.3415 - recall: 0.4347 - val_loss: 0.3451 - val_recall: 0.3976\n",
            "Epoch 89/300\n",
            "73/73 [==============================] - 0s 2ms/step - loss: 0.3417 - recall: 0.4326 - val_loss: 0.3436 - val_recall: 0.4331\n",
            "Epoch 90/300\n",
            "73/73 [==============================] - 0s 2ms/step - loss: 0.3415 - recall: 0.4292 - val_loss: 0.3477 - val_recall: 0.4488\n",
            "Epoch 91/300\n",
            "73/73 [==============================] - 0s 2ms/step - loss: 0.3445 - recall: 0.4381 - val_loss: 0.3425 - val_recall: 0.4016\n",
            "Epoch 92/300\n",
            "73/73 [==============================] - 0s 3ms/step - loss: 0.3417 - recall: 0.4482 - val_loss: 0.3447 - val_recall: 0.3858\n",
            "Epoch 93/300\n",
            "73/73 [==============================] - 0s 2ms/step - loss: 0.3443 - recall: 0.4299 - val_loss: 0.3423 - val_recall: 0.4331\n",
            "Epoch 94/300\n",
            "73/73 [==============================] - 0s 2ms/step - loss: 0.3412 - recall: 0.4299 - val_loss: 0.3420 - val_recall: 0.4724\n",
            "Epoch 95/300\n",
            "73/73 [==============================] - 0s 2ms/step - loss: 0.3419 - recall: 0.4326 - val_loss: 0.3456 - val_recall: 0.3937\n",
            "Epoch 96/300\n",
            "73/73 [==============================] - 0s 2ms/step - loss: 0.3419 - recall: 0.4374 - val_loss: 0.3457 - val_recall: 0.3858\n",
            "Epoch 97/300\n",
            "73/73 [==============================] - 0s 2ms/step - loss: 0.3416 - recall: 0.4401 - val_loss: 0.3427 - val_recall: 0.4134\n",
            "Epoch 98/300\n",
            "73/73 [==============================] - 0s 2ms/step - loss: 0.3429 - recall: 0.4265 - val_loss: 0.3440 - val_recall: 0.4134\n",
            "Epoch 99/300\n",
            "73/73 [==============================] - 0s 3ms/step - loss: 0.3400 - recall: 0.4272 - val_loss: 0.3425 - val_recall: 0.4134\n",
            "Epoch 100/300\n",
            "73/73 [==============================] - 0s 2ms/step - loss: 0.3402 - recall: 0.4340 - val_loss: 0.3420 - val_recall: 0.4094\n",
            "Epoch 101/300\n",
            "73/73 [==============================] - 0s 2ms/step - loss: 0.3420 - recall: 0.4387 - val_loss: 0.3411 - val_recall: 0.4173\n",
            "Epoch 102/300\n",
            "73/73 [==============================] - 0s 2ms/step - loss: 0.3425 - recall: 0.4320 - val_loss: 0.3439 - val_recall: 0.3898\n",
            "Epoch 103/300\n",
            "73/73 [==============================] - 0s 2ms/step - loss: 0.3407 - recall: 0.4381 - val_loss: 0.3430 - val_recall: 0.4055\n",
            "Epoch 104/300\n",
            "73/73 [==============================] - 0s 2ms/step - loss: 0.3417 - recall: 0.4428 - val_loss: 0.3430 - val_recall: 0.3976\n",
            "Epoch 105/300\n",
            "73/73 [==============================] - 0s 2ms/step - loss: 0.3421 - recall: 0.4448 - val_loss: 0.3444 - val_recall: 0.3937\n",
            "Epoch 106/300\n",
            "73/73 [==============================] - 0s 2ms/step - loss: 0.3408 - recall: 0.4360 - val_loss: 0.3449 - val_recall: 0.4921\n",
            "Epoch 107/300\n",
            "73/73 [==============================] - 0s 2ms/step - loss: 0.3406 - recall: 0.4313 - val_loss: 0.3407 - val_recall: 0.4094\n",
            "Epoch 108/300\n",
            "73/73 [==============================] - 0s 2ms/step - loss: 0.3403 - recall: 0.4340 - val_loss: 0.3424 - val_recall: 0.4213\n",
            "Epoch 109/300\n",
            "73/73 [==============================] - 0s 2ms/step - loss: 0.3404 - recall: 0.4313 - val_loss: 0.3432 - val_recall: 0.4488\n",
            "Epoch 110/300\n",
            "73/73 [==============================] - 0s 2ms/step - loss: 0.3413 - recall: 0.4353 - val_loss: 0.3434 - val_recall: 0.4724\n",
            "Epoch 111/300\n",
            "73/73 [==============================] - 0s 2ms/step - loss: 0.3410 - recall: 0.4421 - val_loss: 0.3404 - val_recall: 0.4449\n",
            "Epoch 112/300\n",
            "73/73 [==============================] - 0s 2ms/step - loss: 0.3406 - recall: 0.4414 - val_loss: 0.3395 - val_recall: 0.4449\n",
            "Epoch 113/300\n",
            "73/73 [==============================] - 0s 2ms/step - loss: 0.3404 - recall: 0.4441 - val_loss: 0.3435 - val_recall: 0.4173\n",
            "Epoch 114/300\n",
            "73/73 [==============================] - 0s 2ms/step - loss: 0.3397 - recall: 0.4394 - val_loss: 0.3405 - val_recall: 0.4291\n",
            "Epoch 115/300\n",
            "73/73 [==============================] - 0s 2ms/step - loss: 0.3408 - recall: 0.4279 - val_loss: 0.3420 - val_recall: 0.4134\n",
            "Epoch 116/300\n",
            "73/73 [==============================] - 0s 2ms/step - loss: 0.3402 - recall: 0.4333 - val_loss: 0.3479 - val_recall: 0.4961\n",
            "Epoch 117/300\n",
            "73/73 [==============================] - 0s 2ms/step - loss: 0.3405 - recall: 0.4428 - val_loss: 0.3422 - val_recall: 0.4173\n",
            "Epoch 118/300\n",
            "73/73 [==============================] - 0s 2ms/step - loss: 0.3406 - recall: 0.4421 - val_loss: 0.3459 - val_recall: 0.4606\n",
            "Epoch 119/300\n",
            "73/73 [==============================] - 0s 2ms/step - loss: 0.3407 - recall: 0.4381 - val_loss: 0.3410 - val_recall: 0.4291\n",
            "Epoch 120/300\n",
            "73/73 [==============================] - 0s 2ms/step - loss: 0.3403 - recall: 0.4428 - val_loss: 0.3415 - val_recall: 0.4094\n",
            "Epoch 121/300\n",
            "73/73 [==============================] - 0s 2ms/step - loss: 0.3404 - recall: 0.4394 - val_loss: 0.3415 - val_recall: 0.4409\n",
            "Epoch 122/300\n",
            "73/73 [==============================] - 0s 2ms/step - loss: 0.3408 - recall: 0.4360 - val_loss: 0.3425 - val_recall: 0.4882\n",
            "Epoch 123/300\n",
            "73/73 [==============================] - 0s 2ms/step - loss: 0.3405 - recall: 0.4428 - val_loss: 0.3429 - val_recall: 0.3937\n",
            "Epoch 124/300\n",
            "73/73 [==============================] - 0s 2ms/step - loss: 0.3413 - recall: 0.4340 - val_loss: 0.3409 - val_recall: 0.4567\n",
            "Epoch 125/300\n",
            "73/73 [==============================] - 0s 2ms/step - loss: 0.3398 - recall: 0.4313 - val_loss: 0.3428 - val_recall: 0.4252\n",
            "Epoch 126/300\n",
            "73/73 [==============================] - 0s 2ms/step - loss: 0.3406 - recall: 0.4408 - val_loss: 0.3412 - val_recall: 0.4213\n",
            "Epoch 127/300\n",
            "73/73 [==============================] - 0s 2ms/step - loss: 0.3404 - recall: 0.4414 - val_loss: 0.3398 - val_recall: 0.4488\n",
            "Epoch 128/300\n",
            "73/73 [==============================] - 0s 2ms/step - loss: 0.3395 - recall: 0.4462 - val_loss: 0.3407 - val_recall: 0.4094\n",
            "Epoch 129/300\n",
            "73/73 [==============================] - 0s 2ms/step - loss: 0.3398 - recall: 0.4414 - val_loss: 0.3410 - val_recall: 0.4528\n",
            "Epoch 130/300\n",
            "73/73 [==============================] - 0s 2ms/step - loss: 0.3384 - recall: 0.4374 - val_loss: 0.3454 - val_recall: 0.3898\n",
            "Epoch 131/300\n",
            "73/73 [==============================] - 0s 2ms/step - loss: 0.3393 - recall: 0.4360 - val_loss: 0.3425 - val_recall: 0.4134\n",
            "Epoch 132/300\n",
            "73/73 [==============================] - 0s 2ms/step - loss: 0.3392 - recall: 0.4381 - val_loss: 0.3419 - val_recall: 0.4331\n",
            "Epoch 133/300\n",
            "73/73 [==============================] - 0s 2ms/step - loss: 0.3386 - recall: 0.4401 - val_loss: 0.3429 - val_recall: 0.4016\n",
            "Epoch 134/300\n",
            "73/73 [==============================] - 0s 2ms/step - loss: 0.3402 - recall: 0.4387 - val_loss: 0.3450 - val_recall: 0.3858\n",
            "Epoch 135/300\n",
            "73/73 [==============================] - 0s 2ms/step - loss: 0.3392 - recall: 0.4394 - val_loss: 0.3434 - val_recall: 0.4409\n",
            "Epoch 136/300\n",
            "73/73 [==============================] - 0s 2ms/step - loss: 0.3391 - recall: 0.4421 - val_loss: 0.3435 - val_recall: 0.4134\n",
            "Epoch 137/300\n",
            "73/73 [==============================] - 0s 2ms/step - loss: 0.3391 - recall: 0.4421 - val_loss: 0.3406 - val_recall: 0.4291\n",
            "Epoch 138/300\n",
            "73/73 [==============================] - 0s 3ms/step - loss: 0.3388 - recall: 0.4448 - val_loss: 0.3440 - val_recall: 0.3937\n",
            "Epoch 139/300\n",
            "73/73 [==============================] - 0s 2ms/step - loss: 0.3403 - recall: 0.4469 - val_loss: 0.3400 - val_recall: 0.4291\n",
            "Epoch 140/300\n",
            "73/73 [==============================] - 0s 2ms/step - loss: 0.3382 - recall: 0.4529 - val_loss: 0.3395 - val_recall: 0.4331\n",
            "Epoch 141/300\n",
            "73/73 [==============================] - 0s 2ms/step - loss: 0.3383 - recall: 0.4448 - val_loss: 0.3414 - val_recall: 0.4331\n",
            "Epoch 142/300\n",
            "73/73 [==============================] - 0s 2ms/step - loss: 0.3388 - recall: 0.4462 - val_loss: 0.3425 - val_recall: 0.4331\n",
            "Epoch 143/300\n",
            "73/73 [==============================] - 0s 2ms/step - loss: 0.3389 - recall: 0.4475 - val_loss: 0.3424 - val_recall: 0.4094\n",
            "Epoch 144/300\n",
            "73/73 [==============================] - 0s 2ms/step - loss: 0.3393 - recall: 0.4387 - val_loss: 0.3444 - val_recall: 0.4685\n",
            "Epoch 145/300\n",
            "73/73 [==============================] - 0s 2ms/step - loss: 0.3393 - recall: 0.4421 - val_loss: 0.3413 - val_recall: 0.4252\n",
            "Epoch 146/300\n",
            "73/73 [==============================] - 0s 2ms/step - loss: 0.3387 - recall: 0.4489 - val_loss: 0.3451 - val_recall: 0.3937\n",
            "Epoch 147/300\n",
            "73/73 [==============================] - 0s 2ms/step - loss: 0.3391 - recall: 0.4509 - val_loss: 0.3437 - val_recall: 0.3976\n",
            "Epoch 148/300\n",
            "73/73 [==============================] - 0s 2ms/step - loss: 0.3377 - recall: 0.4502 - val_loss: 0.3431 - val_recall: 0.4134\n",
            "Epoch 149/300\n",
            "73/73 [==============================] - 0s 2ms/step - loss: 0.3387 - recall: 0.4441 - val_loss: 0.3417 - val_recall: 0.4449\n",
            "Epoch 150/300\n",
            "73/73 [==============================] - 0s 2ms/step - loss: 0.3382 - recall: 0.4435 - val_loss: 0.3444 - val_recall: 0.3937\n",
            "Epoch 151/300\n",
            "73/73 [==============================] - 0s 2ms/step - loss: 0.3382 - recall: 0.4414 - val_loss: 0.3429 - val_recall: 0.4094\n",
            "Epoch 152/300\n",
            "73/73 [==============================] - 0s 2ms/step - loss: 0.3385 - recall: 0.4428 - val_loss: 0.3473 - val_recall: 0.4685\n",
            "Epoch 153/300\n",
            "73/73 [==============================] - 0s 2ms/step - loss: 0.3384 - recall: 0.4496 - val_loss: 0.3441 - val_recall: 0.4724\n",
            "Epoch 154/300\n",
            "73/73 [==============================] - 0s 2ms/step - loss: 0.3388 - recall: 0.4469 - val_loss: 0.3424 - val_recall: 0.4291\n",
            "Epoch 155/300\n",
            "73/73 [==============================] - 0s 2ms/step - loss: 0.3384 - recall: 0.4455 - val_loss: 0.3418 - val_recall: 0.4213\n",
            "Epoch 156/300\n",
            "73/73 [==============================] - 0s 2ms/step - loss: 0.3376 - recall: 0.4469 - val_loss: 0.3441 - val_recall: 0.3937\n",
            "Epoch 157/300\n",
            "73/73 [==============================] - 0s 2ms/step - loss: 0.3389 - recall: 0.4441 - val_loss: 0.3424 - val_recall: 0.4606\n",
            "Epoch 158/300\n",
            "73/73 [==============================] - 0s 2ms/step - loss: 0.3390 - recall: 0.4428 - val_loss: 0.3420 - val_recall: 0.4213\n",
            "Epoch 159/300\n",
            "73/73 [==============================] - 0s 2ms/step - loss: 0.3384 - recall: 0.4394 - val_loss: 0.3451 - val_recall: 0.4449\n",
            "Epoch 160/300\n",
            "73/73 [==============================] - 0s 2ms/step - loss: 0.3386 - recall: 0.4523 - val_loss: 0.3428 - val_recall: 0.4173\n",
            "Epoch 161/300\n",
            "73/73 [==============================] - 0s 2ms/step - loss: 0.3395 - recall: 0.4496 - val_loss: 0.3402 - val_recall: 0.4488\n",
            "Epoch 162/300\n",
            "73/73 [==============================] - 0s 2ms/step - loss: 0.3371 - recall: 0.4489 - val_loss: 0.3418 - val_recall: 0.4528\n",
            "Epoch 163/300\n",
            "73/73 [==============================] - 0s 2ms/step - loss: 0.3386 - recall: 0.4462 - val_loss: 0.3452 - val_recall: 0.3819\n",
            "Epoch 164/300\n",
            "73/73 [==============================] - 0s 2ms/step - loss: 0.3381 - recall: 0.4387 - val_loss: 0.3422 - val_recall: 0.3976\n",
            "Epoch 165/300\n",
            "73/73 [==============================] - 0s 2ms/step - loss: 0.3374 - recall: 0.4496 - val_loss: 0.3500 - val_recall: 0.3504\n",
            "Epoch 166/300\n",
            "73/73 [==============================] - 0s 2ms/step - loss: 0.3407 - recall: 0.4421 - val_loss: 0.3489 - val_recall: 0.4882\n",
            "Epoch 167/300\n",
            "73/73 [==============================] - 0s 2ms/step - loss: 0.3381 - recall: 0.4475 - val_loss: 0.3411 - val_recall: 0.4213\n",
            "Epoch 168/300\n",
            "73/73 [==============================] - 0s 2ms/step - loss: 0.3375 - recall: 0.4469 - val_loss: 0.3422 - val_recall: 0.4252\n",
            "Epoch 169/300\n",
            "73/73 [==============================] - 0s 2ms/step - loss: 0.3386 - recall: 0.4529 - val_loss: 0.3411 - val_recall: 0.4094\n",
            "Epoch 170/300\n",
            "73/73 [==============================] - 0s 2ms/step - loss: 0.3385 - recall: 0.4408 - val_loss: 0.3415 - val_recall: 0.4528\n",
            "Epoch 171/300\n",
            "73/73 [==============================] - 0s 2ms/step - loss: 0.3379 - recall: 0.4516 - val_loss: 0.3407 - val_recall: 0.4370\n",
            "Epoch 172/300\n",
            "73/73 [==============================] - 0s 2ms/step - loss: 0.3383 - recall: 0.4502 - val_loss: 0.3410 - val_recall: 0.4370\n",
            "Epoch 173/300\n",
            "73/73 [==============================] - 0s 2ms/step - loss: 0.3386 - recall: 0.4448 - val_loss: 0.3432 - val_recall: 0.3976\n",
            "Epoch 174/300\n",
            "73/73 [==============================] - 0s 2ms/step - loss: 0.3380 - recall: 0.4475 - val_loss: 0.3404 - val_recall: 0.4213\n",
            "Epoch 175/300\n",
            "73/73 [==============================] - 0s 2ms/step - loss: 0.3431 - recall: 0.4475 - val_loss: 0.3400 - val_recall: 0.4291\n",
            "Epoch 176/300\n",
            "73/73 [==============================] - 0s 2ms/step - loss: 0.3389 - recall: 0.4374 - val_loss: 0.3409 - val_recall: 0.4370\n",
            "Epoch 177/300\n",
            "73/73 [==============================] - 0s 2ms/step - loss: 0.3388 - recall: 0.4448 - val_loss: 0.3409 - val_recall: 0.4409\n",
            "Epoch 178/300\n",
            "73/73 [==============================] - 0s 2ms/step - loss: 0.3386 - recall: 0.4496 - val_loss: 0.3433 - val_recall: 0.4331\n",
            "Epoch 179/300\n",
            "73/73 [==============================] - 0s 2ms/step - loss: 0.3385 - recall: 0.4475 - val_loss: 0.3435 - val_recall: 0.4016\n",
            "Epoch 180/300\n",
            "73/73 [==============================] - 0s 2ms/step - loss: 0.3393 - recall: 0.4502 - val_loss: 0.3461 - val_recall: 0.3701\n",
            "Epoch 181/300\n",
            "73/73 [==============================] - 0s 2ms/step - loss: 0.3384 - recall: 0.4516 - val_loss: 0.3405 - val_recall: 0.4213\n",
            "Epoch 182/300\n",
            "73/73 [==============================] - 0s 3ms/step - loss: 0.3412 - recall: 0.4435 - val_loss: 0.3470 - val_recall: 0.3701\n",
            "Epoch 183/300\n",
            "73/73 [==============================] - 0s 2ms/step - loss: 0.3387 - recall: 0.4455 - val_loss: 0.3407 - val_recall: 0.4213\n",
            "Epoch 184/300\n",
            "73/73 [==============================] - 0s 2ms/step - loss: 0.3381 - recall: 0.4489 - val_loss: 0.3416 - val_recall: 0.3976\n",
            "Epoch 185/300\n",
            "73/73 [==============================] - 0s 2ms/step - loss: 0.3379 - recall: 0.4516 - val_loss: 0.3411 - val_recall: 0.4370\n",
            "Epoch 186/300\n",
            "73/73 [==============================] - 0s 2ms/step - loss: 0.3376 - recall: 0.4516 - val_loss: 0.3495 - val_recall: 0.4803\n",
            "Epoch 187/300\n",
            "73/73 [==============================] - 0s 2ms/step - loss: 0.3387 - recall: 0.4536 - val_loss: 0.3471 - val_recall: 0.3819\n",
            "Epoch 188/300\n",
            "73/73 [==============================] - 0s 2ms/step - loss: 0.3376 - recall: 0.4550 - val_loss: 0.3461 - val_recall: 0.3740\n",
            "Epoch 189/300\n",
            "73/73 [==============================] - 0s 2ms/step - loss: 0.3374 - recall: 0.4482 - val_loss: 0.3411 - val_recall: 0.4291\n",
            "Epoch 190/300\n",
            "73/73 [==============================] - 0s 2ms/step - loss: 0.3369 - recall: 0.4509 - val_loss: 0.3468 - val_recall: 0.3780\n",
            "Epoch 191/300\n",
            "73/73 [==============================] - 0s 2ms/step - loss: 0.3376 - recall: 0.4408 - val_loss: 0.3453 - val_recall: 0.4724\n",
            "Epoch 192/300\n",
            "73/73 [==============================] - 0s 2ms/step - loss: 0.3378 - recall: 0.4516 - val_loss: 0.3415 - val_recall: 0.4134\n",
            "Epoch 193/300\n",
            "73/73 [==============================] - 0s 2ms/step - loss: 0.3369 - recall: 0.4421 - val_loss: 0.3464 - val_recall: 0.4606\n",
            "Epoch 194/300\n",
            "73/73 [==============================] - 0s 2ms/step - loss: 0.3385 - recall: 0.4509 - val_loss: 0.3427 - val_recall: 0.4213\n",
            "Epoch 195/300\n",
            "73/73 [==============================] - 0s 2ms/step - loss: 0.3378 - recall: 0.4523 - val_loss: 0.3394 - val_recall: 0.4331\n",
            "Epoch 196/300\n",
            "73/73 [==============================] - 0s 3ms/step - loss: 0.3374 - recall: 0.4509 - val_loss: 0.3408 - val_recall: 0.4291\n",
            "Epoch 197/300\n",
            "73/73 [==============================] - 0s 2ms/step - loss: 0.3370 - recall: 0.4523 - val_loss: 0.3395 - val_recall: 0.4409\n",
            "Epoch 198/300\n",
            "73/73 [==============================] - 0s 2ms/step - loss: 0.3366 - recall: 0.4469 - val_loss: 0.3438 - val_recall: 0.4449\n",
            "Epoch 199/300\n",
            "73/73 [==============================] - 0s 2ms/step - loss: 0.3375 - recall: 0.4469 - val_loss: 0.3396 - val_recall: 0.4252\n",
            "Epoch 200/300\n",
            "73/73 [==============================] - 0s 2ms/step - loss: 0.3374 - recall: 0.4509 - val_loss: 0.3433 - val_recall: 0.3937\n",
            "Epoch 201/300\n",
            "73/73 [==============================] - 0s 2ms/step - loss: 0.3387 - recall: 0.4496 - val_loss: 0.3435 - val_recall: 0.4016\n",
            "Epoch 202/300\n",
            "73/73 [==============================] - 0s 2ms/step - loss: 0.3377 - recall: 0.4489 - val_loss: 0.3439 - val_recall: 0.3780\n",
            "Epoch 203/300\n",
            "73/73 [==============================] - 0s 2ms/step - loss: 0.3371 - recall: 0.4435 - val_loss: 0.3443 - val_recall: 0.3976\n",
            "Epoch 204/300\n",
            "73/73 [==============================] - 0s 2ms/step - loss: 0.3370 - recall: 0.4570 - val_loss: 0.3409 - val_recall: 0.4252\n",
            "Epoch 205/300\n",
            "73/73 [==============================] - 0s 2ms/step - loss: 0.3359 - recall: 0.4557 - val_loss: 0.3417 - val_recall: 0.4213\n",
            "Epoch 206/300\n",
            "73/73 [==============================] - 0s 2ms/step - loss: 0.3377 - recall: 0.4516 - val_loss: 0.3430 - val_recall: 0.4409\n",
            "Epoch 207/300\n",
            "73/73 [==============================] - 0s 2ms/step - loss: 0.3383 - recall: 0.4509 - val_loss: 0.3431 - val_recall: 0.3976\n",
            "Epoch 208/300\n",
            "73/73 [==============================] - 0s 2ms/step - loss: 0.3377 - recall: 0.4462 - val_loss: 0.3422 - val_recall: 0.3898\n",
            "Epoch 209/300\n",
            "73/73 [==============================] - 0s 2ms/step - loss: 0.3381 - recall: 0.4448 - val_loss: 0.3407 - val_recall: 0.4331\n",
            "Epoch 210/300\n",
            "73/73 [==============================] - 0s 3ms/step - loss: 0.3367 - recall: 0.4509 - val_loss: 0.3396 - val_recall: 0.4252\n",
            "Epoch 211/300\n",
            "73/73 [==============================] - 0s 3ms/step - loss: 0.3369 - recall: 0.4529 - val_loss: 0.3433 - val_recall: 0.3937\n",
            "Epoch 212/300\n",
            "73/73 [==============================] - 0s 2ms/step - loss: 0.3372 - recall: 0.4516 - val_loss: 0.3405 - val_recall: 0.4134\n",
            "Epoch 213/300\n",
            "73/73 [==============================] - 0s 3ms/step - loss: 0.3383 - recall: 0.4469 - val_loss: 0.3422 - val_recall: 0.4409\n",
            "Epoch 214/300\n",
            "73/73 [==============================] - 0s 2ms/step - loss: 0.3371 - recall: 0.4475 - val_loss: 0.3457 - val_recall: 0.3661\n",
            "Epoch 215/300\n",
            "73/73 [==============================] - 0s 2ms/step - loss: 0.3377 - recall: 0.4394 - val_loss: 0.3404 - val_recall: 0.4213\n",
            "Epoch 216/300\n",
            "73/73 [==============================] - 0s 2ms/step - loss: 0.3383 - recall: 0.4469 - val_loss: 0.3419 - val_recall: 0.4173\n",
            "Epoch 217/300\n",
            "73/73 [==============================] - 0s 2ms/step - loss: 0.3359 - recall: 0.4543 - val_loss: 0.3415 - val_recall: 0.4213\n",
            "Epoch 218/300\n",
            "73/73 [==============================] - 0s 2ms/step - loss: 0.3373 - recall: 0.4523 - val_loss: 0.3436 - val_recall: 0.3898\n",
            "Epoch 219/300\n",
            "73/73 [==============================] - 0s 2ms/step - loss: 0.3375 - recall: 0.4529 - val_loss: 0.3445 - val_recall: 0.4646\n",
            "Epoch 220/300\n",
            "73/73 [==============================] - 0s 2ms/step - loss: 0.3394 - recall: 0.4516 - val_loss: 0.3412 - val_recall: 0.4449\n",
            "Epoch 221/300\n",
            "73/73 [==============================] - 0s 2ms/step - loss: 0.3372 - recall: 0.4557 - val_loss: 0.3411 - val_recall: 0.4213\n",
            "Epoch 222/300\n",
            "73/73 [==============================] - 0s 2ms/step - loss: 0.3379 - recall: 0.4516 - val_loss: 0.3490 - val_recall: 0.4803\n",
            "Epoch 223/300\n",
            "73/73 [==============================] - 0s 2ms/step - loss: 0.3379 - recall: 0.4563 - val_loss: 0.3428 - val_recall: 0.3819\n",
            "Epoch 224/300\n",
            "73/73 [==============================] - 0s 2ms/step - loss: 0.3368 - recall: 0.4435 - val_loss: 0.3396 - val_recall: 0.4291\n",
            "Epoch 225/300\n",
            "73/73 [==============================] - 0s 2ms/step - loss: 0.3372 - recall: 0.4557 - val_loss: 0.3395 - val_recall: 0.4213\n",
            "Epoch 226/300\n",
            "73/73 [==============================] - 0s 2ms/step - loss: 0.3371 - recall: 0.4496 - val_loss: 0.3449 - val_recall: 0.3740\n",
            "Epoch 227/300\n",
            "73/73 [==============================] - 0s 2ms/step - loss: 0.3371 - recall: 0.4489 - val_loss: 0.3423 - val_recall: 0.4449\n",
            "Epoch 228/300\n",
            "73/73 [==============================] - 0s 2ms/step - loss: 0.3368 - recall: 0.4435 - val_loss: 0.3400 - val_recall: 0.4331\n",
            "Epoch 229/300\n",
            "73/73 [==============================] - 0s 2ms/step - loss: 0.3374 - recall: 0.4509 - val_loss: 0.3396 - val_recall: 0.4173\n",
            "Epoch 230/300\n",
            "73/73 [==============================] - 0s 2ms/step - loss: 0.3364 - recall: 0.4455 - val_loss: 0.3403 - val_recall: 0.4213\n",
            "Epoch 231/300\n",
            "73/73 [==============================] - 0s 2ms/step - loss: 0.3372 - recall: 0.4502 - val_loss: 0.3424 - val_recall: 0.4213\n",
            "Epoch 232/300\n",
            "73/73 [==============================] - 0s 2ms/step - loss: 0.3370 - recall: 0.4340 - val_loss: 0.3429 - val_recall: 0.4409\n",
            "Epoch 233/300\n",
            "73/73 [==============================] - 0s 2ms/step - loss: 0.3365 - recall: 0.4543 - val_loss: 0.3422 - val_recall: 0.3976\n",
            "Epoch 234/300\n",
            "73/73 [==============================] - 0s 2ms/step - loss: 0.3397 - recall: 0.4536 - val_loss: 0.3432 - val_recall: 0.3819\n",
            "Epoch 235/300\n",
            "73/73 [==============================] - 0s 2ms/step - loss: 0.3369 - recall: 0.4462 - val_loss: 0.3422 - val_recall: 0.3898\n",
            "Epoch 236/300\n",
            "73/73 [==============================] - 0s 2ms/step - loss: 0.3369 - recall: 0.4360 - val_loss: 0.3405 - val_recall: 0.4370\n",
            "Epoch 237/300\n",
            "73/73 [==============================] - 0s 2ms/step - loss: 0.3364 - recall: 0.4428 - val_loss: 0.3404 - val_recall: 0.4134\n",
            "Epoch 238/300\n",
            "73/73 [==============================] - 0s 2ms/step - loss: 0.3359 - recall: 0.4448 - val_loss: 0.3419 - val_recall: 0.4134\n",
            "Epoch 239/300\n",
            "73/73 [==============================] - 0s 2ms/step - loss: 0.3354 - recall: 0.4570 - val_loss: 0.3426 - val_recall: 0.4291\n",
            "Epoch 240/300\n",
            "73/73 [==============================] - 0s 2ms/step - loss: 0.3365 - recall: 0.4536 - val_loss: 0.3438 - val_recall: 0.3780\n",
            "Epoch 241/300\n",
            "73/73 [==============================] - 0s 3ms/step - loss: 0.3354 - recall: 0.4475 - val_loss: 0.3401 - val_recall: 0.4370\n",
            "Epoch 242/300\n",
            "73/73 [==============================] - 0s 2ms/step - loss: 0.3362 - recall: 0.4435 - val_loss: 0.3399 - val_recall: 0.4291\n",
            "Epoch 243/300\n",
            "73/73 [==============================] - 0s 2ms/step - loss: 0.3356 - recall: 0.4475 - val_loss: 0.3405 - val_recall: 0.4213\n",
            "Epoch 244/300\n",
            "73/73 [==============================] - 0s 2ms/step - loss: 0.3385 - recall: 0.4428 - val_loss: 0.3404 - val_recall: 0.4016\n",
            "Epoch 245/300\n",
            "73/73 [==============================] - 0s 2ms/step - loss: 0.3365 - recall: 0.4536 - val_loss: 0.3433 - val_recall: 0.4331\n",
            "Epoch 246/300\n",
            "73/73 [==============================] - 0s 3ms/step - loss: 0.3366 - recall: 0.4475 - val_loss: 0.3393 - val_recall: 0.4252\n",
            "Epoch 247/300\n",
            "73/73 [==============================] - 0s 2ms/step - loss: 0.3358 - recall: 0.4482 - val_loss: 0.3401 - val_recall: 0.4370\n",
            "Epoch 248/300\n",
            "73/73 [==============================] - 0s 2ms/step - loss: 0.3356 - recall: 0.4529 - val_loss: 0.3413 - val_recall: 0.3976\n",
            "Epoch 249/300\n",
            "73/73 [==============================] - 0s 2ms/step - loss: 0.3388 - recall: 0.4408 - val_loss: 0.3393 - val_recall: 0.4252\n",
            "Epoch 250/300\n",
            "73/73 [==============================] - 0s 2ms/step - loss: 0.3361 - recall: 0.4590 - val_loss: 0.3427 - val_recall: 0.3780\n",
            "Epoch 251/300\n",
            "73/73 [==============================] - 0s 2ms/step - loss: 0.3365 - recall: 0.4570 - val_loss: 0.3405 - val_recall: 0.4252\n",
            "Epoch 252/300\n",
            "73/73 [==============================] - 0s 3ms/step - loss: 0.3378 - recall: 0.4482 - val_loss: 0.3389 - val_recall: 0.4409\n",
            "Epoch 253/300\n",
            "73/73 [==============================] - 0s 3ms/step - loss: 0.3366 - recall: 0.4550 - val_loss: 0.3406 - val_recall: 0.4331\n",
            "Epoch 254/300\n",
            "73/73 [==============================] - 0s 2ms/step - loss: 0.3370 - recall: 0.4469 - val_loss: 0.3414 - val_recall: 0.4252\n",
            "Epoch 255/300\n",
            "73/73 [==============================] - 0s 2ms/step - loss: 0.3365 - recall: 0.4536 - val_loss: 0.3426 - val_recall: 0.3780\n",
            "Epoch 256/300\n",
            "73/73 [==============================] - 0s 2ms/step - loss: 0.3364 - recall: 0.4435 - val_loss: 0.3395 - val_recall: 0.4173\n",
            "Epoch 257/300\n",
            "73/73 [==============================] - 0s 3ms/step - loss: 0.3363 - recall: 0.4543 - val_loss: 0.3400 - val_recall: 0.4213\n",
            "Epoch 258/300\n",
            "73/73 [==============================] - 0s 2ms/step - loss: 0.3357 - recall: 0.4563 - val_loss: 0.3436 - val_recall: 0.3898\n",
            "Epoch 259/300\n",
            "73/73 [==============================] - 0s 2ms/step - loss: 0.3365 - recall: 0.4611 - val_loss: 0.3412 - val_recall: 0.4016\n",
            "Epoch 260/300\n",
            "73/73 [==============================] - 0s 2ms/step - loss: 0.3358 - recall: 0.4502 - val_loss: 0.3396 - val_recall: 0.4291\n",
            "Epoch 261/300\n",
            "73/73 [==============================] - 0s 2ms/step - loss: 0.3362 - recall: 0.4563 - val_loss: 0.3396 - val_recall: 0.4094\n",
            "Epoch 262/300\n",
            "73/73 [==============================] - 0s 2ms/step - loss: 0.3352 - recall: 0.4489 - val_loss: 0.3411 - val_recall: 0.4331\n",
            "Epoch 263/300\n",
            "73/73 [==============================] - 0s 2ms/step - loss: 0.3365 - recall: 0.4502 - val_loss: 0.3395 - val_recall: 0.4331\n",
            "Epoch 264/300\n",
            "73/73 [==============================] - 0s 2ms/step - loss: 0.3354 - recall: 0.4489 - val_loss: 0.3411 - val_recall: 0.4331\n",
            "Epoch 265/300\n",
            "73/73 [==============================] - 0s 2ms/step - loss: 0.3350 - recall: 0.4529 - val_loss: 0.3386 - val_recall: 0.4449\n",
            "Epoch 266/300\n",
            "73/73 [==============================] - 0s 2ms/step - loss: 0.3364 - recall: 0.4435 - val_loss: 0.3386 - val_recall: 0.4213\n",
            "Epoch 267/300\n",
            "73/73 [==============================] - 0s 2ms/step - loss: 0.3353 - recall: 0.4557 - val_loss: 0.3398 - val_recall: 0.4134\n",
            "Epoch 268/300\n",
            "73/73 [==============================] - 0s 3ms/step - loss: 0.3348 - recall: 0.4529 - val_loss: 0.3406 - val_recall: 0.4094\n",
            "Epoch 269/300\n",
            "73/73 [==============================] - 0s 2ms/step - loss: 0.3362 - recall: 0.4441 - val_loss: 0.3414 - val_recall: 0.4134\n",
            "Epoch 270/300\n",
            "73/73 [==============================] - 0s 2ms/step - loss: 0.3350 - recall: 0.4611 - val_loss: 0.3407 - val_recall: 0.4252\n",
            "Epoch 271/300\n",
            "73/73 [==============================] - 0s 2ms/step - loss: 0.3366 - recall: 0.4523 - val_loss: 0.3389 - val_recall: 0.4370\n",
            "Epoch 272/300\n",
            "73/73 [==============================] - 0s 2ms/step - loss: 0.3356 - recall: 0.4624 - val_loss: 0.3414 - val_recall: 0.3858\n",
            "Epoch 273/300\n",
            "73/73 [==============================] - 0s 2ms/step - loss: 0.3361 - recall: 0.4455 - val_loss: 0.3426 - val_recall: 0.4055\n",
            "Epoch 274/300\n",
            "73/73 [==============================] - 0s 2ms/step - loss: 0.3371 - recall: 0.4509 - val_loss: 0.3396 - val_recall: 0.4291\n",
            "Epoch 275/300\n",
            "73/73 [==============================] - 0s 2ms/step - loss: 0.3355 - recall: 0.4529 - val_loss: 0.3391 - val_recall: 0.4331\n",
            "Epoch 276/300\n",
            "73/73 [==============================] - 0s 2ms/step - loss: 0.3359 - recall: 0.4516 - val_loss: 0.3397 - val_recall: 0.4252\n",
            "Epoch 277/300\n",
            "73/73 [==============================] - 0s 2ms/step - loss: 0.3360 - recall: 0.4523 - val_loss: 0.3418 - val_recall: 0.3976\n",
            "Epoch 278/300\n",
            "73/73 [==============================] - 0s 2ms/step - loss: 0.3355 - recall: 0.4441 - val_loss: 0.3422 - val_recall: 0.4016\n",
            "Epoch 279/300\n",
            "73/73 [==============================] - 0s 2ms/step - loss: 0.3359 - recall: 0.4482 - val_loss: 0.3391 - val_recall: 0.4291\n",
            "Epoch 280/300\n",
            "73/73 [==============================] - 0s 2ms/step - loss: 0.3358 - recall: 0.4523 - val_loss: 0.3422 - val_recall: 0.4291\n",
            "Epoch 281/300\n",
            "73/73 [==============================] - 0s 2ms/step - loss: 0.3350 - recall: 0.4550 - val_loss: 0.3393 - val_recall: 0.4055\n",
            "Epoch 282/300\n",
            "73/73 [==============================] - 0s 2ms/step - loss: 0.3350 - recall: 0.4496 - val_loss: 0.3384 - val_recall: 0.4331\n",
            "Epoch 283/300\n",
            "73/73 [==============================] - 0s 2ms/step - loss: 0.3357 - recall: 0.4509 - val_loss: 0.3484 - val_recall: 0.4764\n",
            "Epoch 284/300\n",
            "73/73 [==============================] - 0s 2ms/step - loss: 0.3373 - recall: 0.4577 - val_loss: 0.3408 - val_recall: 0.3898\n",
            "Epoch 285/300\n",
            "73/73 [==============================] - 0s 3ms/step - loss: 0.3350 - recall: 0.4489 - val_loss: 0.3396 - val_recall: 0.4055\n",
            "Epoch 286/300\n",
            "73/73 [==============================] - 0s 2ms/step - loss: 0.3353 - recall: 0.4482 - val_loss: 0.3440 - val_recall: 0.4567\n",
            "Epoch 287/300\n",
            "73/73 [==============================] - 0s 2ms/step - loss: 0.3361 - recall: 0.4557 - val_loss: 0.3413 - val_recall: 0.4016\n",
            "Epoch 288/300\n",
            "73/73 [==============================] - 0s 2ms/step - loss: 0.3349 - recall: 0.4496 - val_loss: 0.3387 - val_recall: 0.4449\n",
            "Epoch 289/300\n",
            "73/73 [==============================] - 0s 2ms/step - loss: 0.3350 - recall: 0.4502 - val_loss: 0.3453 - val_recall: 0.4724\n",
            "Epoch 290/300\n",
            "73/73 [==============================] - 0s 2ms/step - loss: 0.3356 - recall: 0.4563 - val_loss: 0.3395 - val_recall: 0.4449\n",
            "Epoch 291/300\n",
            "73/73 [==============================] - 0s 2ms/step - loss: 0.3350 - recall: 0.4462 - val_loss: 0.3427 - val_recall: 0.4567\n",
            "Epoch 292/300\n",
            "73/73 [==============================] - 0s 2ms/step - loss: 0.3359 - recall: 0.4570 - val_loss: 0.3386 - val_recall: 0.4331\n",
            "Epoch 293/300\n",
            "73/73 [==============================] - 0s 2ms/step - loss: 0.3355 - recall: 0.4489 - val_loss: 0.3385 - val_recall: 0.4291\n",
            "Epoch 294/300\n",
            "73/73 [==============================] - 0s 2ms/step - loss: 0.3390 - recall: 0.4455 - val_loss: 0.3404 - val_recall: 0.4488\n",
            "Epoch 295/300\n",
            "73/73 [==============================] - 0s 2ms/step - loss: 0.3358 - recall: 0.4590 - val_loss: 0.3420 - val_recall: 0.4213\n",
            "Epoch 296/300\n",
            "73/73 [==============================] - 0s 2ms/step - loss: 0.3349 - recall: 0.4516 - val_loss: 0.3410 - val_recall: 0.4606\n",
            "Epoch 297/300\n",
            "73/73 [==============================] - 0s 2ms/step - loss: 0.3363 - recall: 0.4502 - val_loss: 0.3424 - val_recall: 0.4646\n",
            "Epoch 298/300\n",
            "73/73 [==============================] - 0s 2ms/step - loss: 0.3360 - recall: 0.4543 - val_loss: 0.3418 - val_recall: 0.4606\n",
            "Epoch 299/300\n",
            "73/73 [==============================] - 0s 2ms/step - loss: 0.3347 - recall: 0.4584 - val_loss: 0.3435 - val_recall: 0.3701\n",
            "Epoch 300/300\n",
            "73/73 [==============================] - 0s 2ms/step - loss: 0.3355 - recall: 0.4469 - val_loss: 0.3407 - val_recall: 0.4449\n"
          ]
        },
        {
          "output_type": "execute_result",
          "data": {
            "text/plain": [
              "<keras.callbacks.History at 0x7efc1ba23c50>"
            ]
          },
          "metadata": {},
          "execution_count": 26
        }
      ],
      "source": [
        "model.fit(x = X_train, y = y_train, validation_split = 0.15, batch_size = 100, epochs = 300, verbose=1)  "
      ]
    },
    {
      "cell_type": "code",
      "execution_count": 26,
      "metadata": {
        "id": "WuX8RRsm13bS"
      },
      "outputs": [],
      "source": [
        ""
      ]
    },
    {
      "cell_type": "code",
      "execution_count": 27,
      "metadata": {
        "id": "lb-HO7E3uWYP",
        "outputId": "503d6977-629d-4ae5-c4cf-0f9e28d1784a",
        "colab": {
          "base_uri": "https://localhost:8080/"
        }
      },
      "outputs": [
        {
          "output_type": "stream",
          "name": "stdout",
          "text": [
            "Model: \"sequential\"\n",
            "_________________________________________________________________\n",
            " Layer (type)                Output Shape              Param #   \n",
            "=================================================================\n",
            " dense (Dense)               (None, 20)                220       \n",
            "                                                                 \n",
            " dense_1 (Dense)             (None, 10)                210       \n",
            "                                                                 \n",
            " dense_2 (Dense)             (None, 5)                 55        \n",
            "                                                                 \n",
            " dense_3 (Dense)             (None, 1)                 6         \n",
            "                                                                 \n",
            "=================================================================\n",
            "Total params: 491\n",
            "Trainable params: 491\n",
            "Non-trainable params: 0\n",
            "_________________________________________________________________\n"
          ]
        }
      ],
      "source": [
        "model.summary()"
      ]
    },
    {
      "cell_type": "markdown",
      "source": [
        ""
      ],
      "metadata": {
        "id": "_MbYTDzqseU-"
      }
    },
    {
      "cell_type": "markdown",
      "metadata": {
        "id": "990pBGsr6QO5"
      },
      "source": [
        "### Evaluate The Model\n",
        "\n",
        "- Plot the model history to observe the changing of metrics\n",
        "- Make prediction to see \"confusion matrix\" and \"classification report\"\n",
        "- Check ROC (Receiver Operating Curve) and AUC (Area Under Curve) for the model"
      ]
    },
    {
      "cell_type": "code",
      "execution_count": 28,
      "metadata": {
        "id": "vQIbjGQduQpQ",
        "outputId": "40228cfc-7208-4161-fbc4-d06968ecde5a",
        "colab": {
          "base_uri": "https://localhost:8080/",
          "height": 206
        }
      },
      "outputs": [
        {
          "output_type": "execute_result",
          "data": {
            "text/plain": [
              "   loss  recall  val_loss  val_recall\n",
              "0 0.636   0.129     0.547       0.000\n",
              "1 0.517   0.000     0.498       0.000\n",
              "2 0.499   0.000     0.487       0.000\n",
              "3 0.486   0.000     0.474       0.000\n",
              "4 0.468   0.007     0.459       0.035"
            ],
            "text/html": [
              "\n",
              "  <div id=\"df-f049a577-628e-4d7e-be74-29f877ca870f\">\n",
              "    <div class=\"colab-df-container\">\n",
              "      <div>\n",
              "<style scoped>\n",
              "    .dataframe tbody tr th:only-of-type {\n",
              "        vertical-align: middle;\n",
              "    }\n",
              "\n",
              "    .dataframe tbody tr th {\n",
              "        vertical-align: top;\n",
              "    }\n",
              "\n",
              "    .dataframe thead th {\n",
              "        text-align: right;\n",
              "    }\n",
              "</style>\n",
              "<table border=\"1\" class=\"dataframe\">\n",
              "  <thead>\n",
              "    <tr style=\"text-align: right;\">\n",
              "      <th></th>\n",
              "      <th>loss</th>\n",
              "      <th>recall</th>\n",
              "      <th>val_loss</th>\n",
              "      <th>val_recall</th>\n",
              "    </tr>\n",
              "  </thead>\n",
              "  <tbody>\n",
              "    <tr>\n",
              "      <th>0</th>\n",
              "      <td>0.636</td>\n",
              "      <td>0.129</td>\n",
              "      <td>0.547</td>\n",
              "      <td>0.000</td>\n",
              "    </tr>\n",
              "    <tr>\n",
              "      <th>1</th>\n",
              "      <td>0.517</td>\n",
              "      <td>0.000</td>\n",
              "      <td>0.498</td>\n",
              "      <td>0.000</td>\n",
              "    </tr>\n",
              "    <tr>\n",
              "      <th>2</th>\n",
              "      <td>0.499</td>\n",
              "      <td>0.000</td>\n",
              "      <td>0.487</td>\n",
              "      <td>0.000</td>\n",
              "    </tr>\n",
              "    <tr>\n",
              "      <th>3</th>\n",
              "      <td>0.486</td>\n",
              "      <td>0.000</td>\n",
              "      <td>0.474</td>\n",
              "      <td>0.000</td>\n",
              "    </tr>\n",
              "    <tr>\n",
              "      <th>4</th>\n",
              "      <td>0.468</td>\n",
              "      <td>0.007</td>\n",
              "      <td>0.459</td>\n",
              "      <td>0.035</td>\n",
              "    </tr>\n",
              "  </tbody>\n",
              "</table>\n",
              "</div>\n",
              "      <button class=\"colab-df-convert\" onclick=\"convertToInteractive('df-f049a577-628e-4d7e-be74-29f877ca870f')\"\n",
              "              title=\"Convert this dataframe to an interactive table.\"\n",
              "              style=\"display:none;\">\n",
              "        \n",
              "  <svg xmlns=\"http://www.w3.org/2000/svg\" height=\"24px\"viewBox=\"0 0 24 24\"\n",
              "       width=\"24px\">\n",
              "    <path d=\"M0 0h24v24H0V0z\" fill=\"none\"/>\n",
              "    <path d=\"M18.56 5.44l.94 2.06.94-2.06 2.06-.94-2.06-.94-.94-2.06-.94 2.06-2.06.94zm-11 1L8.5 8.5l.94-2.06 2.06-.94-2.06-.94L8.5 2.5l-.94 2.06-2.06.94zm10 10l.94 2.06.94-2.06 2.06-.94-2.06-.94-.94-2.06-.94 2.06-2.06.94z\"/><path d=\"M17.41 7.96l-1.37-1.37c-.4-.4-.92-.59-1.43-.59-.52 0-1.04.2-1.43.59L10.3 9.45l-7.72 7.72c-.78.78-.78 2.05 0 2.83L4 21.41c.39.39.9.59 1.41.59.51 0 1.02-.2 1.41-.59l7.78-7.78 2.81-2.81c.8-.78.8-2.07 0-2.86zM5.41 20L4 18.59l7.72-7.72 1.47 1.35L5.41 20z\"/>\n",
              "  </svg>\n",
              "      </button>\n",
              "      \n",
              "  <style>\n",
              "    .colab-df-container {\n",
              "      display:flex;\n",
              "      flex-wrap:wrap;\n",
              "      gap: 12px;\n",
              "    }\n",
              "\n",
              "    .colab-df-convert {\n",
              "      background-color: #E8F0FE;\n",
              "      border: none;\n",
              "      border-radius: 50%;\n",
              "      cursor: pointer;\n",
              "      display: none;\n",
              "      fill: #1967D2;\n",
              "      height: 32px;\n",
              "      padding: 0 0 0 0;\n",
              "      width: 32px;\n",
              "    }\n",
              "\n",
              "    .colab-df-convert:hover {\n",
              "      background-color: #E2EBFA;\n",
              "      box-shadow: 0px 1px 2px rgba(60, 64, 67, 0.3), 0px 1px 3px 1px rgba(60, 64, 67, 0.15);\n",
              "      fill: #174EA6;\n",
              "    }\n",
              "\n",
              "    [theme=dark] .colab-df-convert {\n",
              "      background-color: #3B4455;\n",
              "      fill: #D2E3FC;\n",
              "    }\n",
              "\n",
              "    [theme=dark] .colab-df-convert:hover {\n",
              "      background-color: #434B5C;\n",
              "      box-shadow: 0px 1px 3px 1px rgba(0, 0, 0, 0.15);\n",
              "      filter: drop-shadow(0px 1px 2px rgba(0, 0, 0, 0.3));\n",
              "      fill: #FFFFFF;\n",
              "    }\n",
              "  </style>\n",
              "\n",
              "      <script>\n",
              "        const buttonEl =\n",
              "          document.querySelector('#df-f049a577-628e-4d7e-be74-29f877ca870f button.colab-df-convert');\n",
              "        buttonEl.style.display =\n",
              "          google.colab.kernel.accessAllowed ? 'block' : 'none';\n",
              "\n",
              "        async function convertToInteractive(key) {\n",
              "          const element = document.querySelector('#df-f049a577-628e-4d7e-be74-29f877ca870f');\n",
              "          const dataTable =\n",
              "            await google.colab.kernel.invokeFunction('convertToInteractive',\n",
              "                                                     [key], {});\n",
              "          if (!dataTable) return;\n",
              "\n",
              "          const docLinkHtml = 'Like what you see? Visit the ' +\n",
              "            '<a target=\"_blank\" href=https://colab.research.google.com/notebooks/data_table.ipynb>data table notebook</a>'\n",
              "            + ' to learn more about interactive tables.';\n",
              "          element.innerHTML = '';\n",
              "          dataTable['output_type'] = 'display_data';\n",
              "          await google.colab.output.renderOutput(dataTable, element);\n",
              "          const docLink = document.createElement('div');\n",
              "          docLink.innerHTML = docLinkHtml;\n",
              "          element.appendChild(docLink);\n",
              "        }\n",
              "      </script>\n",
              "    </div>\n",
              "  </div>\n",
              "  "
            ]
          },
          "metadata": {},
          "execution_count": 28
        }
      ],
      "source": [
        "loss_df = pd.DataFrame(model.history.history)\n",
        "loss_df.head()"
      ]
    },
    {
      "cell_type": "code",
      "execution_count": 29,
      "metadata": {
        "colab": {
          "base_uri": "https://localhost:8080/",
          "height": 283
        },
        "id": "PQrRXkriuaux",
        "outputId": "75a74070-5829-4c72-a02b-417e206ebdff"
      },
      "outputs": [
        {
          "output_type": "display_data",
          "data": {
            "text/plain": [
              "<Figure size 720x720 with 0 Axes>"
            ]
          },
          "metadata": {}
        },
        {
          "output_type": "display_data",
          "data": {
            "text/plain": [
              "<Figure size 432x288 with 1 Axes>"
            ],
            "image/png": "[encoded data removed]"
          },
          "metadata": {
            "needs_background": "light"
          }
        }
      ],
      "source": [
        "plt.figure(figsize = (10,10))\n",
        "loss_df.plot();    "
      ]
    },
    {
      "cell_type": "code",
      "execution_count": 30,
      "metadata": {
        "id": "KSooP6KDuWYR",
        "outputId": "bdd6278d-a2a1-4f69-cd2d-7b1f7e021599",
        "colab": {
          "base_uri": "https://localhost:8080/"
        }
      },
      "outputs": [
        {
          "output_type": "execute_result",
          "data": {
            "text/plain": [
              "[0.36179348826408386, 0.46405228972435]"
            ]
          },
          "metadata": {},
          "execution_count": 30
        }
      ],
      "source": [
        "model.evaluate(X_test, y_test, verbose=0)   "
      ]
    },
    {
      "cell_type": "code",
      "execution_count": 31,
      "metadata": {
        "id": "CE91jnNeuWYS",
        "outputId": "3b2c7e4e-514a-45e4-b1b2-78a7d7932315",
        "colab": {
          "base_uri": "https://localhost:8080/"
        }
      },
      "outputs": [
        {
          "output_type": "stream",
          "name": "stdout",
          "text": [
            "loss :  0.36179348826408386\n",
            "accuracy :  0.46405228972435\n"
          ]
        }
      ],
      "source": [
        "loss, accuracy = model.evaluate(X_test, y_test, verbose=0)\n",
        "print(\"loss : \", loss)\n",
        "print(\"accuracy : \", accuracy)"
      ]
    },
    {
      "cell_type": "code",
      "execution_count": 32,
      "metadata": {
        "id": "irJWyuTfuWYS",
        "outputId": "46c9011a-d9a2-409f-b610-dd2f36012e9f",
        "colab": {
          "base_uri": "https://localhost:8080/"
        }
      },
      "outputs": [
        {
          "output_type": "stream",
          "name": "stdout",
          "text": [
            "[[1130   64]\n",
            " [ 164  142]]\n",
            "              precision    recall  f1-score   support\n",
            "\n",
            "           0       0.87      0.95      0.91      1194\n",
            "           1       0.69      0.46      0.55       306\n",
            "\n",
            "    accuracy                           0.85      1500\n",
            "   macro avg       0.78      0.71      0.73      1500\n",
            "weighted avg       0.84      0.85      0.84      1500\n",
            "\n"
          ]
        }
      ],
      "source": [
        "y_pred = model.predict(X_test) > 0.5                  \n",
        "print(confusion_matrix(y_test, y_pred))\n",
        "print(classification_report(y_test, y_pred))          "
      ]
    },
    {
      "cell_type": "code",
      "source": [
        "from sklearn.metrics import roc_auc_score, roc_curve, precision_recall_curve, average_precision_score\n"
      ],
      "metadata": {
        "id": "zNLKGO2QJAgm"
      },
      "execution_count": 33,
      "outputs": []
    },
    {
      "cell_type": "code",
      "execution_count": 34,
      "metadata": {
        "id": "wWTpdeaO13bS",
        "colab": {
          "base_uri": "https://localhost:8080/",
          "height": 295
        },
        "outputId": "e67624b9-0bd3-4f46-abb6-4fdd92ec9541"
      },
      "outputs": [
        {
          "output_type": "display_data",
          "data": {
            "text/plain": [
              "<Figure size 432x288 with 1 Axes>"
            ],
            "image/png": "[encoded data removed]"
          },
          "metadata": {
            "needs_background": "light"
          }
        }
      ],
      "source": [
        "y_pred_proba = model.predict(X_test)\n",
        "precisions, recalls, thresholds = precision_recall_curve(y_test, y_pred_proba)\n",
        "plt.plot(recalls, precisions, label='ANN')\n",
        "plt.xlabel('recalls')\n",
        "plt.ylabel('precisions')\n",
        "plt.title('Precision-Recall curve')\n",
        "plt.show()"
      ]
    },
    {
      "cell_type": "code",
      "source": [
        "average_precision_score(y_test, y_pred_proba)"
      ],
      "metadata": {
        "id": "PLHMlSweUoDE",
        "colab": {
          "base_uri": "https://localhost:8080/"
        },
        "outputId": "be1078b8-36af-4376-88cd-fa1cc730ced9"
      },
      "execution_count": 35,
      "outputs": [
        {
          "output_type": "execute_result",
          "data": {
            "text/plain": [
              "0.6602276682322877"
            ]
          },
          "metadata": {},
          "execution_count": 35
        }
      ]
    },
    {
      "cell_type": "markdown",
      "metadata": {
        "id": "VTDQFZuo6QO5"
      },
      "source": [
        "## with class_weigth\n",
        "\n",
        "Investigate how the \"class_weight\" hyper-parameter is used in a Neural Network."
      ]
    },
    {
      "cell_type": "markdown",
      "metadata": {
        "id": "RhTyiSJ96QO6"
      },
      "source": [
        "### Create The Model"
      ]
    },
    {
      "cell_type": "code",
      "source": [
        "from tensorflow.keras.callbacks import EarlyStopping\n",
        "from tensorflow.keras.optimizers import Adam\n",
        "from sklearn.metrics import classification_report, confusion_matrix\n",
        "from sklearn.metrics import roc_auc_score, roc_curve, precision_recall_curve, average_precision_score\n",
        "from sklearn.model_selection import cross_val_score, cross_validate\n",
        "from sklearn.model_selection import GridSearchCV\n",
        "from sklearn.model_selection import train_test_split\n",
        "from sklearn.preprocessing import MinMaxScaler"
      ],
      "metadata": {
        "id": "EStbpK_nF2DR"
      },
      "execution_count": 36,
      "outputs": []
    },
    {
      "cell_type": "code",
      "execution_count": 37,
      "metadata": {
        "id": "Ce5kuWQ46QO6"
      },
      "outputs": [],
      "source": [
        "tf.random.set_seed(seed)\n",
        "\n",
        "model = Sequential()\n",
        "\n",
        "model.add(Dense(20, activation = \"relu\", input_dim = X_train.shape[1]))\n",
        "model.add(Dense(10, activation = \"relu\"))\n",
        "model.add(Dense(5, activation = \"relu\"))\n",
        "model.add(Dense(1, activation = \"sigmoid\")) \n",
        "opt = Adam(lr = 0.001)        \n",
        "model.compile(optimizer = opt, loss = \"binary_crossentropy\", metrics = [\"Recall\"])  "
      ]
    },
    {
      "cell_type": "code",
      "source": [
        "from sklearn.utils import class_weight\n",
        "class_weights = class_weight.compute_class_weight(\"balanced\", classes=np.unique(y_train), y = y_train)\n",
        "\n",
        "class_weights = {0:class_weights[0], 1:class_weights[1]}\n",
        "class_weights"
      ],
      "metadata": {
        "colab": {
          "base_uri": "https://localhost:8080/"
        },
        "id": "fquOhnMpvUau",
        "outputId": "9909ad66-e14f-4734-c911-b547c5c488e1"
      },
      "execution_count": 38,
      "outputs": [
        {
          "output_type": "execute_result",
          "data": {
            "text/plain": [
              "{0: 0.6278623134879598, 1: 2.455228191796649}"
            ]
          },
          "metadata": {},
          "execution_count": 38
        }
      ]
    },
    {
      "cell_type": "code",
      "source": [
        "model.fit(x = X_train, y = y_train, validation_split = 0.15, batch_size = 100, epochs = 200, verbose=1, class_weight = class_weights)  "
      ],
      "metadata": {
        "colab": {
          "base_uri": "https://localhost:8080/"
        },
        "id": "33c0q156vUPb",
        "outputId": "65ce05f3-d800-467b-ab5c-f071a3b191ae"
      },
      "execution_count": 39,
      "outputs": [
        {
          "output_type": "stream",
          "name": "stdout",
          "text": [
            "Epoch 1/200\n",
            "73/73 [==============================] - 2s 6ms/step - loss: 0.6855 - recall: 0.9113 - val_loss: 0.7131 - val_recall: 0.8386\n",
            "Epoch 2/200\n",
            "73/73 [==============================] - 0s 2ms/step - loss: 0.6712 - recall: 0.7989 - val_loss: 0.6951 - val_recall: 0.7717\n",
            "Epoch 3/200\n",
            "73/73 [==============================] - 0s 2ms/step - loss: 0.6450 - recall: 0.7068 - val_loss: 0.6463 - val_recall: 0.6614\n",
            "Epoch 4/200\n",
            "73/73 [==============================] - 0s 2ms/step - loss: 0.6122 - recall: 0.6737 - val_loss: 0.6288 - val_recall: 0.6772\n",
            "Epoch 5/200\n",
            "73/73 [==============================] - 0s 3ms/step - loss: 0.5855 - recall: 0.7055 - val_loss: 0.5857 - val_recall: 0.6614\n",
            "Epoch 6/200\n",
            "73/73 [==============================] - 0s 2ms/step - loss: 0.5683 - recall: 0.7116 - val_loss: 0.5992 - val_recall: 0.7087\n",
            "Epoch 7/200\n",
            "73/73 [==============================] - 0s 2ms/step - loss: 0.5554 - recall: 0.7244 - val_loss: 0.5595 - val_recall: 0.6890\n",
            "Epoch 8/200\n",
            "73/73 [==============================] - 0s 2ms/step - loss: 0.5452 - recall: 0.7265 - val_loss: 0.5524 - val_recall: 0.6850\n",
            "Epoch 9/200\n",
            "73/73 [==============================] - 0s 2ms/step - loss: 0.5363 - recall: 0.7353 - val_loss: 0.5414 - val_recall: 0.7008\n",
            "Epoch 10/200\n",
            "73/73 [==============================] - 0s 2ms/step - loss: 0.5295 - recall: 0.7339 - val_loss: 0.5083 - val_recall: 0.6654\n",
            "Epoch 11/200\n",
            "73/73 [==============================] - 0s 2ms/step - loss: 0.5243 - recall: 0.7339 - val_loss: 0.5540 - val_recall: 0.7441\n",
            "Epoch 12/200\n",
            "73/73 [==============================] - 0s 2ms/step - loss: 0.5234 - recall: 0.7346 - val_loss: 0.5280 - val_recall: 0.7323\n",
            "Epoch 13/200\n",
            "73/73 [==============================] - 0s 2ms/step - loss: 0.5180 - recall: 0.7278 - val_loss: 0.5083 - val_recall: 0.7047\n",
            "Epoch 14/200\n",
            "73/73 [==============================] - 0s 2ms/step - loss: 0.5152 - recall: 0.7427 - val_loss: 0.5553 - val_recall: 0.7677\n",
            "Epoch 15/200\n",
            "73/73 [==============================] - 0s 2ms/step - loss: 0.5116 - recall: 0.7441 - val_loss: 0.4917 - val_recall: 0.7165\n",
            "Epoch 16/200\n",
            "73/73 [==============================] - 0s 2ms/step - loss: 0.5087 - recall: 0.7312 - val_loss: 0.4851 - val_recall: 0.7008\n",
            "Epoch 17/200\n",
            "73/73 [==============================] - 0s 2ms/step - loss: 0.5054 - recall: 0.7414 - val_loss: 0.5381 - val_recall: 0.7598\n",
            "Epoch 18/200\n",
            "73/73 [==============================] - 0s 2ms/step - loss: 0.5036 - recall: 0.7508 - val_loss: 0.5022 - val_recall: 0.7323\n",
            "Epoch 19/200\n",
            "73/73 [==============================] - 0s 2ms/step - loss: 0.5026 - recall: 0.7414 - val_loss: 0.5186 - val_recall: 0.7520\n",
            "Epoch 20/200\n",
            "73/73 [==============================] - 0s 2ms/step - loss: 0.5012 - recall: 0.7407 - val_loss: 0.5019 - val_recall: 0.7244\n",
            "Epoch 21/200\n",
            "73/73 [==============================] - 0s 2ms/step - loss: 0.5003 - recall: 0.7475 - val_loss: 0.4813 - val_recall: 0.7047\n",
            "Epoch 22/200\n",
            "73/73 [==============================] - 0s 2ms/step - loss: 0.4984 - recall: 0.7393 - val_loss: 0.4908 - val_recall: 0.7205\n",
            "Epoch 23/200\n",
            "73/73 [==============================] - 0s 2ms/step - loss: 0.4962 - recall: 0.7441 - val_loss: 0.4906 - val_recall: 0.7205\n",
            "Epoch 24/200\n",
            "73/73 [==============================] - 0s 3ms/step - loss: 0.4967 - recall: 0.7508 - val_loss: 0.4900 - val_recall: 0.7205\n",
            "Epoch 25/200\n",
            "73/73 [==============================] - 0s 2ms/step - loss: 0.4950 - recall: 0.7488 - val_loss: 0.5061 - val_recall: 0.7480\n",
            "Epoch 26/200\n",
            "73/73 [==============================] - 0s 2ms/step - loss: 0.4964 - recall: 0.7475 - val_loss: 0.4488 - val_recall: 0.6811\n",
            "Epoch 27/200\n",
            "73/73 [==============================] - 0s 2ms/step - loss: 0.4952 - recall: 0.7407 - val_loss: 0.5020 - val_recall: 0.7441\n",
            "Epoch 28/200\n",
            "73/73 [==============================] - 0s 2ms/step - loss: 0.4931 - recall: 0.7393 - val_loss: 0.4953 - val_recall: 0.7362\n",
            "Epoch 29/200\n",
            "73/73 [==============================] - 0s 2ms/step - loss: 0.4911 - recall: 0.7481 - val_loss: 0.4976 - val_recall: 0.7559\n",
            "Epoch 30/200\n",
            "73/73 [==============================] - 0s 2ms/step - loss: 0.4912 - recall: 0.7515 - val_loss: 0.5201 - val_recall: 0.7638\n",
            "Epoch 31/200\n",
            "73/73 [==============================] - 0s 2ms/step - loss: 0.4915 - recall: 0.7481 - val_loss: 0.5060 - val_recall: 0.7559\n",
            "Epoch 32/200\n",
            "73/73 [==============================] - 0s 2ms/step - loss: 0.4902 - recall: 0.7454 - val_loss: 0.4548 - val_recall: 0.6929\n",
            "Epoch 33/200\n",
            "73/73 [==============================] - 0s 2ms/step - loss: 0.4902 - recall: 0.7454 - val_loss: 0.4592 - val_recall: 0.7008\n",
            "Epoch 34/200\n",
            "73/73 [==============================] - 0s 2ms/step - loss: 0.4893 - recall: 0.7346 - val_loss: 0.5155 - val_recall: 0.7677\n",
            "Epoch 35/200\n",
            "73/73 [==============================] - 0s 2ms/step - loss: 0.4914 - recall: 0.7495 - val_loss: 0.5064 - val_recall: 0.7598\n",
            "Epoch 36/200\n",
            "73/73 [==============================] - 0s 2ms/step - loss: 0.4890 - recall: 0.7603 - val_loss: 0.4785 - val_recall: 0.7244\n",
            "Epoch 37/200\n",
            "73/73 [==============================] - 0s 2ms/step - loss: 0.4892 - recall: 0.7441 - val_loss: 0.4704 - val_recall: 0.7126\n",
            "Epoch 38/200\n",
            "73/73 [==============================] - 0s 2ms/step - loss: 0.4868 - recall: 0.7502 - val_loss: 0.4396 - val_recall: 0.6811\n",
            "Epoch 39/200\n",
            "73/73 [==============================] - 0s 2ms/step - loss: 0.4854 - recall: 0.7502 - val_loss: 0.4951 - val_recall: 0.7598\n",
            "Epoch 40/200\n",
            "73/73 [==============================] - 0s 2ms/step - loss: 0.4894 - recall: 0.7448 - val_loss: 0.5225 - val_recall: 0.7638\n",
            "Epoch 41/200\n",
            "73/73 [==============================] - 0s 2ms/step - loss: 0.4869 - recall: 0.7630 - val_loss: 0.4869 - val_recall: 0.7402\n",
            "Epoch 42/200\n",
            "73/73 [==============================] - 0s 2ms/step - loss: 0.4856 - recall: 0.7596 - val_loss: 0.4561 - val_recall: 0.7047\n",
            "Epoch 43/200\n",
            "73/73 [==============================] - 0s 2ms/step - loss: 0.4855 - recall: 0.7468 - val_loss: 0.5042 - val_recall: 0.7559\n",
            "Epoch 44/200\n",
            "73/73 [==============================] - 0s 2ms/step - loss: 0.4862 - recall: 0.7448 - val_loss: 0.4875 - val_recall: 0.7402\n",
            "Epoch 45/200\n",
            "73/73 [==============================] - 0s 2ms/step - loss: 0.4848 - recall: 0.7495 - val_loss: 0.5268 - val_recall: 0.7677\n",
            "Epoch 46/200\n",
            "73/73 [==============================] - 0s 2ms/step - loss: 0.4831 - recall: 0.7630 - val_loss: 0.4364 - val_recall: 0.6929\n",
            "Epoch 47/200\n",
            "73/73 [==============================] - 0s 2ms/step - loss: 0.4832 - recall: 0.7637 - val_loss: 0.4673 - val_recall: 0.7323\n",
            "Epoch 48/200\n",
            "73/73 [==============================] - 0s 2ms/step - loss: 0.4841 - recall: 0.7556 - val_loss: 0.4757 - val_recall: 0.7362\n",
            "Epoch 49/200\n",
            "73/73 [==============================] - 0s 2ms/step - loss: 0.4834 - recall: 0.7434 - val_loss: 0.5004 - val_recall: 0.7559\n",
            "Epoch 50/200\n",
            "73/73 [==============================] - 0s 2ms/step - loss: 0.4853 - recall: 0.7522 - val_loss: 0.4269 - val_recall: 0.6811\n",
            "Epoch 51/200\n",
            "73/73 [==============================] - 0s 2ms/step - loss: 0.4839 - recall: 0.7522 - val_loss: 0.4722 - val_recall: 0.7283\n",
            "Epoch 52/200\n",
            "73/73 [==============================] - 0s 2ms/step - loss: 0.4832 - recall: 0.7508 - val_loss: 0.4716 - val_recall: 0.7323\n",
            "Epoch 53/200\n",
            "73/73 [==============================] - 0s 2ms/step - loss: 0.4821 - recall: 0.7576 - val_loss: 0.4647 - val_recall: 0.7283\n",
            "Epoch 54/200\n",
            "73/73 [==============================] - 0s 2ms/step - loss: 0.4825 - recall: 0.7590 - val_loss: 0.4332 - val_recall: 0.6969\n",
            "Epoch 55/200\n",
            "73/73 [==============================] - 0s 2ms/step - loss: 0.4822 - recall: 0.7556 - val_loss: 0.4885 - val_recall: 0.7441\n",
            "Epoch 56/200\n",
            "73/73 [==============================] - 0s 2ms/step - loss: 0.4814 - recall: 0.7590 - val_loss: 0.4946 - val_recall: 0.7638\n",
            "Epoch 57/200\n",
            "73/73 [==============================] - 0s 2ms/step - loss: 0.4822 - recall: 0.7563 - val_loss: 0.4985 - val_recall: 0.7520\n",
            "Epoch 58/200\n",
            "73/73 [==============================] - 0s 2ms/step - loss: 0.4815 - recall: 0.7569 - val_loss: 0.4730 - val_recall: 0.7323\n",
            "Epoch 59/200\n",
            "73/73 [==============================] - 0s 2ms/step - loss: 0.4809 - recall: 0.7556 - val_loss: 0.4695 - val_recall: 0.7283\n",
            "Epoch 60/200\n",
            "73/73 [==============================] - 0s 2ms/step - loss: 0.4820 - recall: 0.7569 - val_loss: 0.4847 - val_recall: 0.7480\n",
            "Epoch 61/200\n",
            "73/73 [==============================] - 0s 2ms/step - loss: 0.4800 - recall: 0.7637 - val_loss: 0.4467 - val_recall: 0.7126\n",
            "Epoch 62/200\n",
            "73/73 [==============================] - 0s 2ms/step - loss: 0.4805 - recall: 0.7502 - val_loss: 0.4774 - val_recall: 0.7244\n",
            "Epoch 63/200\n",
            "73/73 [==============================] - 0s 2ms/step - loss: 0.4782 - recall: 0.7624 - val_loss: 0.4288 - val_recall: 0.6850\n",
            "Epoch 64/200\n",
            "73/73 [==============================] - 0s 2ms/step - loss: 0.4802 - recall: 0.7583 - val_loss: 0.4780 - val_recall: 0.7402\n",
            "Epoch 65/200\n",
            "73/73 [==============================] - 0s 3ms/step - loss: 0.4793 - recall: 0.7624 - val_loss: 0.4476 - val_recall: 0.7126\n",
            "Epoch 66/200\n",
            "73/73 [==============================] - 0s 2ms/step - loss: 0.4775 - recall: 0.7556 - val_loss: 0.5008 - val_recall: 0.7598\n",
            "Epoch 67/200\n",
            "73/73 [==============================] - 0s 2ms/step - loss: 0.4787 - recall: 0.7684 - val_loss: 0.4277 - val_recall: 0.6929\n",
            "Epoch 68/200\n",
            "73/73 [==============================] - 0s 2ms/step - loss: 0.4791 - recall: 0.7481 - val_loss: 0.5272 - val_recall: 0.7835\n",
            "Epoch 69/200\n",
            "73/73 [==============================] - 0s 2ms/step - loss: 0.4794 - recall: 0.7752 - val_loss: 0.4209 - val_recall: 0.6890\n",
            "Epoch 70/200\n",
            "73/73 [==============================] - 0s 2ms/step - loss: 0.4795 - recall: 0.7624 - val_loss: 0.4443 - val_recall: 0.7087\n",
            "Epoch 71/200\n",
            "73/73 [==============================] - 0s 2ms/step - loss: 0.4803 - recall: 0.7583 - val_loss: 0.4368 - val_recall: 0.7047\n",
            "Epoch 72/200\n",
            "73/73 [==============================] - 0s 3ms/step - loss: 0.4808 - recall: 0.7671 - val_loss: 0.4540 - val_recall: 0.7126\n",
            "Epoch 73/200\n",
            "73/73 [==============================] - 0s 2ms/step - loss: 0.4774 - recall: 0.7705 - val_loss: 0.4516 - val_recall: 0.7205\n",
            "Epoch 74/200\n",
            "73/73 [==============================] - 0s 2ms/step - loss: 0.4790 - recall: 0.7522 - val_loss: 0.5044 - val_recall: 0.7756\n",
            "Epoch 75/200\n",
            "73/73 [==============================] - 0s 2ms/step - loss: 0.4768 - recall: 0.7630 - val_loss: 0.4905 - val_recall: 0.7717\n",
            "Epoch 76/200\n",
            "73/73 [==============================] - 0s 2ms/step - loss: 0.4761 - recall: 0.7583 - val_loss: 0.5050 - val_recall: 0.7638\n",
            "Epoch 77/200\n",
            "73/73 [==============================] - 0s 2ms/step - loss: 0.4785 - recall: 0.7691 - val_loss: 0.4044 - val_recall: 0.6654\n",
            "Epoch 78/200\n",
            "73/73 [==============================] - 0s 2ms/step - loss: 0.4795 - recall: 0.7617 - val_loss: 0.4724 - val_recall: 0.7402\n",
            "Epoch 79/200\n",
            "73/73 [==============================] - 0s 2ms/step - loss: 0.4757 - recall: 0.7678 - val_loss: 0.4613 - val_recall: 0.7323\n",
            "Epoch 80/200\n",
            "73/73 [==============================] - 0s 2ms/step - loss: 0.4771 - recall: 0.7637 - val_loss: 0.4541 - val_recall: 0.7205\n",
            "Epoch 81/200\n",
            "73/73 [==============================] - 0s 2ms/step - loss: 0.4755 - recall: 0.7624 - val_loss: 0.4550 - val_recall: 0.7244\n",
            "Epoch 82/200\n",
            "73/73 [==============================] - 0s 2ms/step - loss: 0.4763 - recall: 0.7691 - val_loss: 0.4294 - val_recall: 0.7008\n",
            "Epoch 83/200\n",
            "73/73 [==============================] - 0s 2ms/step - loss: 0.4753 - recall: 0.7610 - val_loss: 0.4530 - val_recall: 0.7244\n",
            "Epoch 84/200\n",
            "73/73 [==============================] - 0s 2ms/step - loss: 0.4750 - recall: 0.7718 - val_loss: 0.4903 - val_recall: 0.7638\n",
            "Epoch 85/200\n",
            "73/73 [==============================] - 0s 2ms/step - loss: 0.4751 - recall: 0.7671 - val_loss: 0.4840 - val_recall: 0.7480\n",
            "Epoch 86/200\n",
            "73/73 [==============================] - 0s 2ms/step - loss: 0.4739 - recall: 0.7759 - val_loss: 0.3993 - val_recall: 0.6575\n",
            "Epoch 87/200\n",
            "73/73 [==============================] - 0s 2ms/step - loss: 0.4745 - recall: 0.7603 - val_loss: 0.4669 - val_recall: 0.7362\n",
            "Epoch 88/200\n",
            "73/73 [==============================] - 0s 2ms/step - loss: 0.4733 - recall: 0.7651 - val_loss: 0.4469 - val_recall: 0.7087\n",
            "Epoch 89/200\n",
            "73/73 [==============================] - 0s 2ms/step - loss: 0.4733 - recall: 0.7603 - val_loss: 0.4655 - val_recall: 0.7362\n",
            "Epoch 90/200\n",
            "73/73 [==============================] - 0s 2ms/step - loss: 0.4733 - recall: 0.7624 - val_loss: 0.4999 - val_recall: 0.7559\n",
            "Epoch 91/200\n",
            "73/73 [==============================] - 0s 2ms/step - loss: 0.4786 - recall: 0.7657 - val_loss: 0.4464 - val_recall: 0.7165\n",
            "Epoch 92/200\n",
            "73/73 [==============================] - 0s 2ms/step - loss: 0.4733 - recall: 0.7725 - val_loss: 0.4422 - val_recall: 0.7165\n",
            "Epoch 93/200\n",
            "73/73 [==============================] - 0s 2ms/step - loss: 0.4756 - recall: 0.7624 - val_loss: 0.4454 - val_recall: 0.7165\n",
            "Epoch 94/200\n",
            "73/73 [==============================] - 0s 2ms/step - loss: 0.4729 - recall: 0.7651 - val_loss: 0.4957 - val_recall: 0.7677\n",
            "Epoch 95/200\n",
            "73/73 [==============================] - 0s 3ms/step - loss: 0.4727 - recall: 0.7773 - val_loss: 0.4317 - val_recall: 0.7008\n",
            "Epoch 96/200\n",
            "73/73 [==============================] - 0s 2ms/step - loss: 0.4724 - recall: 0.7671 - val_loss: 0.4362 - val_recall: 0.7165\n",
            "Epoch 97/200\n",
            "73/73 [==============================] - 0s 2ms/step - loss: 0.4728 - recall: 0.7759 - val_loss: 0.4399 - val_recall: 0.7205\n",
            "Epoch 98/200\n",
            "73/73 [==============================] - 0s 2ms/step - loss: 0.4752 - recall: 0.7630 - val_loss: 0.4590 - val_recall: 0.7402\n",
            "Epoch 99/200\n",
            "73/73 [==============================] - 0s 2ms/step - loss: 0.4713 - recall: 0.7664 - val_loss: 0.4498 - val_recall: 0.7205\n",
            "Epoch 100/200\n",
            "73/73 [==============================] - 0s 3ms/step - loss: 0.4717 - recall: 0.7712 - val_loss: 0.4597 - val_recall: 0.7283\n",
            "Epoch 101/200\n",
            "73/73 [==============================] - 0s 2ms/step - loss: 0.4734 - recall: 0.7725 - val_loss: 0.4564 - val_recall: 0.7244\n",
            "Epoch 102/200\n",
            "73/73 [==============================] - 0s 2ms/step - loss: 0.4732 - recall: 0.7698 - val_loss: 0.4370 - val_recall: 0.7165\n",
            "Epoch 103/200\n",
            "73/73 [==============================] - 0s 6ms/step - loss: 0.4716 - recall: 0.7664 - val_loss: 0.4292 - val_recall: 0.7008\n",
            "Epoch 104/200\n",
            "73/73 [==============================] - 1s 7ms/step - loss: 0.4738 - recall: 0.7644 - val_loss: 0.4381 - val_recall: 0.7126\n",
            "Epoch 105/200\n",
            "73/73 [==============================] - 0s 2ms/step - loss: 0.4724 - recall: 0.7745 - val_loss: 0.4197 - val_recall: 0.7008\n",
            "Epoch 106/200\n",
            "73/73 [==============================] - 0s 2ms/step - loss: 0.4710 - recall: 0.7684 - val_loss: 0.5101 - val_recall: 0.7795\n",
            "Epoch 107/200\n",
            "73/73 [==============================] - 0s 2ms/step - loss: 0.4713 - recall: 0.7671 - val_loss: 0.4243 - val_recall: 0.6969\n",
            "Epoch 108/200\n",
            "73/73 [==============================] - 0s 3ms/step - loss: 0.4713 - recall: 0.7691 - val_loss: 0.4527 - val_recall: 0.7362\n",
            "Epoch 109/200\n",
            "73/73 [==============================] - 0s 2ms/step - loss: 0.4705 - recall: 0.7657 - val_loss: 0.4862 - val_recall: 0.7559\n",
            "Epoch 110/200\n",
            "73/73 [==============================] - 0s 2ms/step - loss: 0.4713 - recall: 0.7617 - val_loss: 0.4991 - val_recall: 0.7756\n",
            "Epoch 111/200\n",
            "73/73 [==============================] - 0s 2ms/step - loss: 0.4708 - recall: 0.7759 - val_loss: 0.5078 - val_recall: 0.7795\n",
            "Epoch 112/200\n",
            "73/73 [==============================] - 0s 2ms/step - loss: 0.4722 - recall: 0.7705 - val_loss: 0.4512 - val_recall: 0.7244\n",
            "Epoch 113/200\n",
            "73/73 [==============================] - 0s 2ms/step - loss: 0.4695 - recall: 0.7698 - val_loss: 0.4393 - val_recall: 0.7205\n",
            "Epoch 114/200\n",
            "73/73 [==============================] - 0s 2ms/step - loss: 0.4697 - recall: 0.7725 - val_loss: 0.4510 - val_recall: 0.7244\n",
            "Epoch 115/200\n",
            "73/73 [==============================] - 0s 2ms/step - loss: 0.4724 - recall: 0.7657 - val_loss: 0.4420 - val_recall: 0.7126\n",
            "Epoch 116/200\n",
            "73/73 [==============================] - 0s 2ms/step - loss: 0.4694 - recall: 0.7712 - val_loss: 0.5101 - val_recall: 0.7795\n",
            "Epoch 117/200\n",
            "73/73 [==============================] - 0s 2ms/step - loss: 0.4713 - recall: 0.7745 - val_loss: 0.4414 - val_recall: 0.7205\n",
            "Epoch 118/200\n",
            "73/73 [==============================] - 0s 2ms/step - loss: 0.4704 - recall: 0.7678 - val_loss: 0.5184 - val_recall: 0.7874\n",
            "Epoch 119/200\n",
            "73/73 [==============================] - 0s 2ms/step - loss: 0.4708 - recall: 0.7712 - val_loss: 0.4535 - val_recall: 0.7323\n",
            "Epoch 120/200\n",
            "73/73 [==============================] - 0s 2ms/step - loss: 0.4685 - recall: 0.7739 - val_loss: 0.4416 - val_recall: 0.7126\n",
            "Epoch 121/200\n",
            "73/73 [==============================] - 0s 2ms/step - loss: 0.4695 - recall: 0.7684 - val_loss: 0.4804 - val_recall: 0.7520\n",
            "Epoch 122/200\n",
            "73/73 [==============================] - 0s 2ms/step - loss: 0.4699 - recall: 0.7630 - val_loss: 0.5068 - val_recall: 0.7795\n",
            "Epoch 123/200\n",
            "73/73 [==============================] - 0s 2ms/step - loss: 0.4701 - recall: 0.7773 - val_loss: 0.4232 - val_recall: 0.7008\n",
            "Epoch 124/200\n",
            "73/73 [==============================] - 0s 2ms/step - loss: 0.4701 - recall: 0.7610 - val_loss: 0.4922 - val_recall: 0.7638\n",
            "Epoch 125/200\n",
            "73/73 [==============================] - 0s 3ms/step - loss: 0.4694 - recall: 0.7698 - val_loss: 0.4636 - val_recall: 0.7362\n",
            "Epoch 126/200\n",
            "73/73 [==============================] - 0s 2ms/step - loss: 0.4693 - recall: 0.7590 - val_loss: 0.4371 - val_recall: 0.7047\n",
            "Epoch 127/200\n",
            "73/73 [==============================] - 0s 2ms/step - loss: 0.4693 - recall: 0.7739 - val_loss: 0.4501 - val_recall: 0.7126\n",
            "Epoch 128/200\n",
            "73/73 [==============================] - 0s 2ms/step - loss: 0.4690 - recall: 0.7630 - val_loss: 0.4396 - val_recall: 0.7126\n",
            "Epoch 129/200\n",
            "73/73 [==============================] - 0s 2ms/step - loss: 0.4677 - recall: 0.7806 - val_loss: 0.4734 - val_recall: 0.7441\n",
            "Epoch 130/200\n",
            "73/73 [==============================] - 0s 2ms/step - loss: 0.4665 - recall: 0.7712 - val_loss: 0.4307 - val_recall: 0.6969\n",
            "Epoch 131/200\n",
            "73/73 [==============================] - 0s 3ms/step - loss: 0.4674 - recall: 0.7678 - val_loss: 0.4421 - val_recall: 0.7165\n",
            "Epoch 132/200\n",
            "73/73 [==============================] - 0s 2ms/step - loss: 0.4676 - recall: 0.7678 - val_loss: 0.4865 - val_recall: 0.7677\n",
            "Epoch 133/200\n",
            "73/73 [==============================] - 0s 2ms/step - loss: 0.4668 - recall: 0.7671 - val_loss: 0.4469 - val_recall: 0.7323\n",
            "Epoch 134/200\n",
            "73/73 [==============================] - 0s 2ms/step - loss: 0.4686 - recall: 0.7691 - val_loss: 0.4176 - val_recall: 0.6969\n",
            "Epoch 135/200\n",
            "73/73 [==============================] - 0s 2ms/step - loss: 0.4684 - recall: 0.7698 - val_loss: 0.4836 - val_recall: 0.7598\n",
            "Epoch 136/200\n",
            "73/73 [==============================] - 0s 3ms/step - loss: 0.4672 - recall: 0.7664 - val_loss: 0.4736 - val_recall: 0.7520\n",
            "Epoch 137/200\n",
            "73/73 [==============================] - 0s 2ms/step - loss: 0.4676 - recall: 0.7712 - val_loss: 0.4368 - val_recall: 0.7047\n",
            "Epoch 138/200\n",
            "73/73 [==============================] - 0s 2ms/step - loss: 0.4669 - recall: 0.7651 - val_loss: 0.4153 - val_recall: 0.6890\n",
            "Epoch 139/200\n",
            "73/73 [==============================] - 0s 3ms/step - loss: 0.4693 - recall: 0.7705 - val_loss: 0.4376 - val_recall: 0.7087\n",
            "Epoch 140/200\n",
            "73/73 [==============================] - 0s 2ms/step - loss: 0.4666 - recall: 0.7684 - val_loss: 0.4492 - val_recall: 0.7126\n",
            "Epoch 141/200\n",
            "73/73 [==============================] - 0s 2ms/step - loss: 0.4671 - recall: 0.7583 - val_loss: 0.4671 - val_recall: 0.7480\n",
            "Epoch 142/200\n",
            "73/73 [==============================] - 0s 2ms/step - loss: 0.4684 - recall: 0.7678 - val_loss: 0.4893 - val_recall: 0.7677\n",
            "Epoch 143/200\n",
            "73/73 [==============================] - 0s 2ms/step - loss: 0.4660 - recall: 0.7705 - val_loss: 0.4356 - val_recall: 0.7244\n",
            "Epoch 144/200\n",
            "73/73 [==============================] - 0s 2ms/step - loss: 0.4668 - recall: 0.7651 - val_loss: 0.4977 - val_recall: 0.7795\n",
            "Epoch 145/200\n",
            "73/73 [==============================] - 0s 2ms/step - loss: 0.4658 - recall: 0.7786 - val_loss: 0.4615 - val_recall: 0.7323\n",
            "Epoch 146/200\n",
            "73/73 [==============================] - 0s 2ms/step - loss: 0.4655 - recall: 0.7773 - val_loss: 0.4298 - val_recall: 0.7165\n",
            "Epoch 147/200\n",
            "73/73 [==============================] - 0s 2ms/step - loss: 0.4672 - recall: 0.7705 - val_loss: 0.4219 - val_recall: 0.7165\n",
            "Epoch 148/200\n",
            "73/73 [==============================] - 0s 2ms/step - loss: 0.4646 - recall: 0.7718 - val_loss: 0.4403 - val_recall: 0.7283\n",
            "Epoch 149/200\n",
            "73/73 [==============================] - 0s 2ms/step - loss: 0.4671 - recall: 0.7590 - val_loss: 0.4999 - val_recall: 0.7835\n",
            "Epoch 150/200\n",
            "73/73 [==============================] - 0s 3ms/step - loss: 0.4660 - recall: 0.7725 - val_loss: 0.4347 - val_recall: 0.7047\n",
            "Epoch 151/200\n",
            "73/73 [==============================] - 0s 2ms/step - loss: 0.4653 - recall: 0.7671 - val_loss: 0.4352 - val_recall: 0.7126\n",
            "Epoch 152/200\n",
            "73/73 [==============================] - 0s 3ms/step - loss: 0.4660 - recall: 0.7637 - val_loss: 0.5445 - val_recall: 0.8150\n",
            "Epoch 153/200\n",
            "73/73 [==============================] - 0s 2ms/step - loss: 0.4646 - recall: 0.7691 - val_loss: 0.5239 - val_recall: 0.8031\n",
            "Epoch 154/200\n",
            "73/73 [==============================] - 0s 2ms/step - loss: 0.4654 - recall: 0.7684 - val_loss: 0.4566 - val_recall: 0.7323\n",
            "Epoch 155/200\n",
            "73/73 [==============================] - 0s 2ms/step - loss: 0.4652 - recall: 0.7684 - val_loss: 0.4767 - val_recall: 0.7480\n",
            "Epoch 156/200\n",
            "73/73 [==============================] - 0s 2ms/step - loss: 0.4646 - recall: 0.7739 - val_loss: 0.4184 - val_recall: 0.6929\n",
            "Epoch 157/200\n",
            "73/73 [==============================] - 0s 2ms/step - loss: 0.4657 - recall: 0.7712 - val_loss: 0.4978 - val_recall: 0.7795\n",
            "Epoch 158/200\n",
            "73/73 [==============================] - 0s 2ms/step - loss: 0.4659 - recall: 0.7651 - val_loss: 0.4573 - val_recall: 0.7323\n",
            "Epoch 159/200\n",
            "73/73 [==============================] - 0s 2ms/step - loss: 0.4656 - recall: 0.7678 - val_loss: 0.5132 - val_recall: 0.7913\n",
            "Epoch 160/200\n",
            "73/73 [==============================] - 0s 2ms/step - loss: 0.4664 - recall: 0.7739 - val_loss: 0.4453 - val_recall: 0.7244\n",
            "Epoch 161/200\n",
            "73/73 [==============================] - 0s 2ms/step - loss: 0.4666 - recall: 0.7739 - val_loss: 0.4788 - val_recall: 0.7598\n",
            "Epoch 162/200\n",
            "73/73 [==============================] - 0s 2ms/step - loss: 0.4628 - recall: 0.7617 - val_loss: 0.4609 - val_recall: 0.7402\n",
            "Epoch 163/200\n",
            "73/73 [==============================] - 0s 3ms/step - loss: 0.4641 - recall: 0.7678 - val_loss: 0.4429 - val_recall: 0.7205\n",
            "Epoch 164/200\n",
            "73/73 [==============================] - 0s 2ms/step - loss: 0.4634 - recall: 0.7773 - val_loss: 0.4282 - val_recall: 0.7126\n",
            "Epoch 165/200\n",
            "73/73 [==============================] - 0s 2ms/step - loss: 0.4628 - recall: 0.7732 - val_loss: 0.4001 - val_recall: 0.6693\n",
            "Epoch 166/200\n",
            "73/73 [==============================] - 0s 2ms/step - loss: 0.4667 - recall: 0.7637 - val_loss: 0.5067 - val_recall: 0.7795\n",
            "Epoch 167/200\n",
            "73/73 [==============================] - 0s 2ms/step - loss: 0.4633 - recall: 0.7745 - val_loss: 0.4838 - val_recall: 0.7638\n",
            "Epoch 168/200\n",
            "73/73 [==============================] - 0s 3ms/step - loss: 0.4638 - recall: 0.7617 - val_loss: 0.4703 - val_recall: 0.7480\n",
            "Epoch 169/200\n",
            "73/73 [==============================] - 0s 2ms/step - loss: 0.4647 - recall: 0.7718 - val_loss: 0.4308 - val_recall: 0.7008\n",
            "Epoch 170/200\n",
            "73/73 [==============================] - 0s 2ms/step - loss: 0.4626 - recall: 0.7630 - val_loss: 0.4839 - val_recall: 0.7598\n",
            "Epoch 171/200\n",
            "73/73 [==============================] - 0s 2ms/step - loss: 0.4633 - recall: 0.7644 - val_loss: 0.4490 - val_recall: 0.7165\n",
            "Epoch 172/200\n",
            "73/73 [==============================] - 0s 2ms/step - loss: 0.4642 - recall: 0.7678 - val_loss: 0.4778 - val_recall: 0.7441\n",
            "Epoch 173/200\n",
            "73/73 [==============================] - 0s 2ms/step - loss: 0.4635 - recall: 0.7671 - val_loss: 0.4466 - val_recall: 0.7283\n",
            "Epoch 174/200\n",
            "73/73 [==============================] - 0s 3ms/step - loss: 0.4628 - recall: 0.7786 - val_loss: 0.4368 - val_recall: 0.7323\n",
            "Epoch 175/200\n",
            "73/73 [==============================] - 0s 2ms/step - loss: 0.4697 - recall: 0.7698 - val_loss: 0.4663 - val_recall: 0.7402\n",
            "Epoch 176/200\n",
            "73/73 [==============================] - 0s 2ms/step - loss: 0.4658 - recall: 0.7569 - val_loss: 0.4707 - val_recall: 0.7402\n",
            "Epoch 177/200\n",
            "73/73 [==============================] - 0s 2ms/step - loss: 0.4635 - recall: 0.7691 - val_loss: 0.4845 - val_recall: 0.7598\n",
            "Epoch 178/200\n",
            "73/73 [==============================] - 0s 2ms/step - loss: 0.4621 - recall: 0.7664 - val_loss: 0.4962 - val_recall: 0.7717\n",
            "Epoch 179/200\n",
            "73/73 [==============================] - 0s 3ms/step - loss: 0.4629 - recall: 0.7678 - val_loss: 0.4582 - val_recall: 0.7283\n",
            "Epoch 180/200\n",
            "73/73 [==============================] - 0s 2ms/step - loss: 0.4647 - recall: 0.7732 - val_loss: 0.3851 - val_recall: 0.6535\n",
            "Epoch 181/200\n",
            "73/73 [==============================] - 0s 2ms/step - loss: 0.4645 - recall: 0.7637 - val_loss: 0.4510 - val_recall: 0.7362\n",
            "Epoch 182/200\n",
            "73/73 [==============================] - 0s 2ms/step - loss: 0.4677 - recall: 0.7556 - val_loss: 0.4041 - val_recall: 0.6811\n",
            "Epoch 183/200\n",
            "73/73 [==============================] - 0s 2ms/step - loss: 0.4632 - recall: 0.7698 - val_loss: 0.4538 - val_recall: 0.7362\n",
            "Epoch 184/200\n",
            "73/73 [==============================] - 0s 2ms/step - loss: 0.4648 - recall: 0.7630 - val_loss: 0.4281 - val_recall: 0.7008\n",
            "Epoch 185/200\n",
            "73/73 [==============================] - 0s 3ms/step - loss: 0.4646 - recall: 0.7610 - val_loss: 0.5039 - val_recall: 0.7795\n",
            "Epoch 186/200\n",
            "73/73 [==============================] - 0s 2ms/step - loss: 0.4622 - recall: 0.7664 - val_loss: 0.5552 - val_recall: 0.8189\n",
            "Epoch 187/200\n",
            "73/73 [==============================] - 0s 2ms/step - loss: 0.4646 - recall: 0.7691 - val_loss: 0.4496 - val_recall: 0.7244\n",
            "Epoch 188/200\n",
            "73/73 [==============================] - 0s 2ms/step - loss: 0.4614 - recall: 0.7725 - val_loss: 0.4254 - val_recall: 0.6929\n",
            "Epoch 189/200\n",
            "73/73 [==============================] - 0s 3ms/step - loss: 0.4616 - recall: 0.7712 - val_loss: 0.4651 - val_recall: 0.7441\n",
            "Epoch 190/200\n",
            "73/73 [==============================] - 0s 2ms/step - loss: 0.4610 - recall: 0.7684 - val_loss: 0.4098 - val_recall: 0.6811\n",
            "Epoch 191/200\n",
            "73/73 [==============================] - 0s 2ms/step - loss: 0.4622 - recall: 0.7671 - val_loss: 0.5081 - val_recall: 0.7835\n",
            "Epoch 192/200\n",
            "73/73 [==============================] - 0s 2ms/step - loss: 0.4627 - recall: 0.7664 - val_loss: 0.4325 - val_recall: 0.7087\n",
            "Epoch 193/200\n",
            "73/73 [==============================] - 0s 2ms/step - loss: 0.4612 - recall: 0.7705 - val_loss: 0.4975 - val_recall: 0.7795\n",
            "Epoch 194/200\n",
            "73/73 [==============================] - 0s 2ms/step - loss: 0.4619 - recall: 0.7678 - val_loss: 0.4779 - val_recall: 0.7520\n",
            "Epoch 195/200\n",
            "73/73 [==============================] - 0s 2ms/step - loss: 0.4628 - recall: 0.7664 - val_loss: 0.4489 - val_recall: 0.7165\n",
            "Epoch 196/200\n",
            "73/73 [==============================] - 0s 3ms/step - loss: 0.4615 - recall: 0.7718 - val_loss: 0.4619 - val_recall: 0.7480\n",
            "Epoch 197/200\n",
            "73/73 [==============================] - 0s 2ms/step - loss: 0.4611 - recall: 0.7732 - val_loss: 0.4957 - val_recall: 0.7598\n",
            "Epoch 198/200\n",
            "73/73 [==============================] - 0s 2ms/step - loss: 0.4605 - recall: 0.7664 - val_loss: 0.4977 - val_recall: 0.7717\n",
            "Epoch 199/200\n",
            "73/73 [==============================] - 0s 2ms/step - loss: 0.4620 - recall: 0.7651 - val_loss: 0.4660 - val_recall: 0.7362\n",
            "Epoch 200/200\n",
            "73/73 [==============================] - 0s 2ms/step - loss: 0.4620 - recall: 0.7698 - val_loss: 0.4064 - val_recall: 0.6772\n"
          ]
        },
        {
          "output_type": "execute_result",
          "data": {
            "text/plain": [
              "<keras.callbacks.History at 0x7efc1b917c90>"
            ]
          },
          "metadata": {},
          "execution_count": 39
        }
      ]
    },
    {
      "cell_type": "code",
      "source": [
        ""
      ],
      "metadata": {
        "id": "tVCqJlo6vUA7"
      },
      "execution_count": 39,
      "outputs": []
    },
    {
      "cell_type": "markdown",
      "metadata": {
        "id": "I2vRsBeC6QO7"
      },
      "source": [
        "### Evaluate The Model\n",
        "\n",
        "- Plot the model history to observe the changing of metrics\n",
        "- Make prediction to see \"confusion matrix\" and \"classification report\"\n",
        "- Check ROC (Receiver Operating Curve) and AUC (Area Under Curve) for the model"
      ]
    },
    {
      "cell_type": "code",
      "execution_count": 39,
      "metadata": {
        "id": "vvIjvgxL6QO7"
      },
      "outputs": [],
      "source": [
        ""
      ]
    },
    {
      "cell_type": "code",
      "execution_count": 40,
      "metadata": {
        "outputId": "3232aa5f-0f61-436e-888d-41187fc4d5b4",
        "colab": {
          "base_uri": "https://localhost:8080/"
        },
        "id": "5HvJGWsywqar"
      },
      "outputs": [
        {
          "output_type": "stream",
          "name": "stdout",
          "text": [
            "Model: \"sequential_1\"\n",
            "_________________________________________________________________\n",
            " Layer (type)                Output Shape              Param #   \n",
            "=================================================================\n",
            " dense_4 (Dense)             (None, 20)                220       \n",
            "                                                                 \n",
            " dense_5 (Dense)             (None, 10)                210       \n",
            "                                                                 \n",
            " dense_6 (Dense)             (None, 5)                 55        \n",
            "                                                                 \n",
            " dense_7 (Dense)             (None, 1)                 6         \n",
            "                                                                 \n",
            "=================================================================\n",
            "Total params: 491\n",
            "Trainable params: 491\n",
            "Non-trainable params: 0\n",
            "_________________________________________________________________\n"
          ]
        }
      ],
      "source": [
        "model.summary()"
      ]
    },
    {
      "cell_type": "code",
      "execution_count": 41,
      "metadata": {
        "outputId": "4de8227c-680f-417e-b0d6-0a2dd4565d46",
        "colab": {
          "base_uri": "https://localhost:8080/",
          "height": 206
        },
        "id": "WxRxyejWwqa_"
      },
      "outputs": [
        {
          "output_type": "execute_result",
          "data": {
            "text/plain": [
              "   loss  recall  val_loss  val_recall\n",
              "0 0.686   0.911     0.713       0.839\n",
              "1 0.671   0.799     0.695       0.772\n",
              "2 0.645   0.707     0.646       0.661\n",
              "3 0.612   0.674     0.629       0.677\n",
              "4 0.586   0.705     0.586       0.661"
            ],
            "text/html": [
              "\n",
              "  <div id=\"df-3ed4a36e-9137-4266-af74-80142fe29e11\">\n",
              "    <div class=\"colab-df-container\">\n",
              "      <div>\n",
              "<style scoped>\n",
              "    .dataframe tbody tr th:only-of-type {\n",
              "        vertical-align: middle;\n",
              "    }\n",
              "\n",
              "    .dataframe tbody tr th {\n",
              "        vertical-align: top;\n",
              "    }\n",
              "\n",
              "    .dataframe thead th {\n",
              "        text-align: right;\n",
              "    }\n",
              "</style>\n",
              "<table border=\"1\" class=\"dataframe\">\n",
              "  <thead>\n",
              "    <tr style=\"text-align: right;\">\n",
              "      <th></th>\n",
              "      <th>loss</th>\n",
              "      <th>recall</th>\n",
              "      <th>val_loss</th>\n",
              "      <th>val_recall</th>\n",
              "    </tr>\n",
              "  </thead>\n",
              "  <tbody>\n",
              "    <tr>\n",
              "      <th>0</th>\n",
              "      <td>0.686</td>\n",
              "      <td>0.911</td>\n",
              "      <td>0.713</td>\n",
              "      <td>0.839</td>\n",
              "    </tr>\n",
              "    <tr>\n",
              "      <th>1</th>\n",
              "      <td>0.671</td>\n",
              "      <td>0.799</td>\n",
              "      <td>0.695</td>\n",
              "      <td>0.772</td>\n",
              "    </tr>\n",
              "    <tr>\n",
              "      <th>2</th>\n",
              "      <td>0.645</td>\n",
              "      <td>0.707</td>\n",
              "      <td>0.646</td>\n",
              "      <td>0.661</td>\n",
              "    </tr>\n",
              "    <tr>\n",
              "      <th>3</th>\n",
              "      <td>0.612</td>\n",
              "      <td>0.674</td>\n",
              "      <td>0.629</td>\n",
              "      <td>0.677</td>\n",
              "    </tr>\n",
              "    <tr>\n",
              "      <th>4</th>\n",
              "      <td>0.586</td>\n",
              "      <td>0.705</td>\n",
              "      <td>0.586</td>\n",
              "      <td>0.661</td>\n",
              "    </tr>\n",
              "  </tbody>\n",
              "</table>\n",
              "</div>\n",
              "      <button class=\"colab-df-convert\" onclick=\"convertToInteractive('df-3ed4a36e-9137-4266-af74-80142fe29e11')\"\n",
              "              title=\"Convert this dataframe to an interactive table.\"\n",
              "              style=\"display:none;\">\n",
              "        \n",
              "  <svg xmlns=\"http://www.w3.org/2000/svg\" height=\"24px\"viewBox=\"0 0 24 24\"\n",
              "       width=\"24px\">\n",
              "    <path d=\"M0 0h24v24H0V0z\" fill=\"none\"/>\n",
              "    <path d=\"M18.56 5.44l.94 2.06.94-2.06 2.06-.94-2.06-.94-.94-2.06-.94 2.06-2.06.94zm-11 1L8.5 8.5l.94-2.06 2.06-.94-2.06-.94L8.5 2.5l-.94 2.06-2.06.94zm10 10l.94 2.06.94-2.06 2.06-.94-2.06-.94-.94-2.06-.94 2.06-2.06.94z\"/><path d=\"M17.41 7.96l-1.37-1.37c-.4-.4-.92-.59-1.43-.59-.52 0-1.04.2-1.43.59L10.3 9.45l-7.72 7.72c-.78.78-.78 2.05 0 2.83L4 21.41c.39.39.9.59 1.41.59.51 0 1.02-.2 1.41-.59l7.78-7.78 2.81-2.81c.8-.78.8-2.07 0-2.86zM5.41 20L4 18.59l7.72-7.72 1.47 1.35L5.41 20z\"/>\n",
              "  </svg>\n",
              "      </button>\n",
              "      \n",
              "  <style>\n",
              "    .colab-df-container {\n",
              "      display:flex;\n",
              "      flex-wrap:wrap;\n",
              "      gap: 12px;\n",
              "    }\n",
              "\n",
              "    .colab-df-convert {\n",
              "      background-color: #E8F0FE;\n",
              "      border: none;\n",
              "      border-radius: 50%;\n",
              "      cursor: pointer;\n",
              "      display: none;\n",
              "      fill: #1967D2;\n",
              "      height: 32px;\n",
              "      padding: 0 0 0 0;\n",
              "      width: 32px;\n",
              "    }\n",
              "\n",
              "    .colab-df-convert:hover {\n",
              "      background-color: #E2EBFA;\n",
              "      box-shadow: 0px 1px 2px rgba(60, 64, 67, 0.3), 0px 1px 3px 1px rgba(60, 64, 67, 0.15);\n",
              "      fill: #174EA6;\n",
              "    }\n",
              "\n",
              "    [theme=dark] .colab-df-convert {\n",
              "      background-color: #3B4455;\n",
              "      fill: #D2E3FC;\n",
              "    }\n",
              "\n",
              "    [theme=dark] .colab-df-convert:hover {\n",
              "      background-color: #434B5C;\n",
              "      box-shadow: 0px 1px 3px 1px rgba(0, 0, 0, 0.15);\n",
              "      filter: drop-shadow(0px 1px 2px rgba(0, 0, 0, 0.3));\n",
              "      fill: #FFFFFF;\n",
              "    }\n",
              "  </style>\n",
              "\n",
              "      <script>\n",
              "        const buttonEl =\n",
              "          document.querySelector('#df-3ed4a36e-9137-4266-af74-80142fe29e11 button.colab-df-convert');\n",
              "        buttonEl.style.display =\n",
              "          google.colab.kernel.accessAllowed ? 'block' : 'none';\n",
              "\n",
              "        async function convertToInteractive(key) {\n",
              "          const element = document.querySelector('#df-3ed4a36e-9137-4266-af74-80142fe29e11');\n",
              "          const dataTable =\n",
              "            await google.colab.kernel.invokeFunction('convertToInteractive',\n",
              "                                                     [key], {});\n",
              "          if (!dataTable) return;\n",
              "\n",
              "          const docLinkHtml = 'Like what you see? Visit the ' +\n",
              "            '<a target=\"_blank\" href=https://colab.research.google.com/notebooks/data_table.ipynb>data table notebook</a>'\n",
              "            + ' to learn more about interactive tables.';\n",
              "          element.innerHTML = '';\n",
              "          dataTable['output_type'] = 'display_data';\n",
              "          await google.colab.output.renderOutput(dataTable, element);\n",
              "          const docLink = document.createElement('div');\n",
              "          docLink.innerHTML = docLinkHtml;\n",
              "          element.appendChild(docLink);\n",
              "        }\n",
              "      </script>\n",
              "    </div>\n",
              "  </div>\n",
              "  "
            ]
          },
          "metadata": {},
          "execution_count": 41
        }
      ],
      "source": [
        "loss_df = pd.DataFrame(model.history.history)\n",
        "loss_df.head()"
      ]
    },
    {
      "cell_type": "code",
      "execution_count": 42,
      "metadata": {
        "colab": {
          "base_uri": "https://localhost:8080/",
          "height": 283
        },
        "outputId": "49faacca-8ff7-4353-c28b-2539f7f73292",
        "id": "R9CcdYESwqa_"
      },
      "outputs": [
        {
          "output_type": "display_data",
          "data": {
            "text/plain": [
              "<Figure size 720x720 with 0 Axes>"
            ]
          },
          "metadata": {}
        },
        {
          "output_type": "display_data",
          "data": {
            "text/plain": [
              "<Figure size 432x288 with 1 Axes>"
            ],
            "image/png": "[encoded data removed]"
          },
          "metadata": {
            "needs_background": "light"
          }
        }
      ],
      "source": [
        "plt.figure(figsize=(10,10))\n",
        "loss_df.plot();    "
      ]
    },
    {
      "cell_type": "code",
      "execution_count": 43,
      "metadata": {
        "outputId": "27cd7eb4-5ffb-436e-aaf8-2e38ce051c2e",
        "colab": {
          "base_uri": "https://localhost:8080/"
        },
        "id": "Q7s1YldIwqa_"
      },
      "outputs": [
        {
          "output_type": "execute_result",
          "data": {
            "text/plain": [
              "[0.4247387647628784, 0.673202633857727]"
            ]
          },
          "metadata": {},
          "execution_count": 43
        }
      ],
      "source": [
        "model.evaluate(X_test, y_test, verbose=0)   "
      ]
    },
    {
      "cell_type": "code",
      "execution_count": 44,
      "metadata": {
        "outputId": "b58ed3aa-ea17-4d04-ba98-54a2ba7b7f16",
        "colab": {
          "base_uri": "https://localhost:8080/"
        },
        "id": "DkWeY_Itwqa_"
      },
      "outputs": [
        {
          "output_type": "stream",
          "name": "stdout",
          "text": [
            "loss :  0.4247387647628784\n",
            "accuracy :  0.673202633857727\n"
          ]
        }
      ],
      "source": [
        "loss, accuracy = model.evaluate(X_test, y_test, verbose=0)\n",
        "print(\"loss : \", loss)\n",
        "print(\"accuracy : \", accuracy)"
      ]
    },
    {
      "cell_type": "code",
      "execution_count": 45,
      "metadata": {
        "outputId": "6887f890-3f5c-443f-ba92-e0cb23f71dfb",
        "colab": {
          "base_uri": "https://localhost:8080/"
        },
        "id": "8Y_zA4TfwqbA"
      },
      "outputs": [
        {
          "output_type": "stream",
          "name": "stdout",
          "text": [
            "[[980 214]\n",
            " [100 206]]\n",
            "              precision    recall  f1-score   support\n",
            "\n",
            "           0       0.91      0.82      0.86      1194\n",
            "           1       0.49      0.67      0.57       306\n",
            "\n",
            "    accuracy                           0.79      1500\n",
            "   macro avg       0.70      0.75      0.71      1500\n",
            "weighted avg       0.82      0.79      0.80      1500\n",
            "\n"
          ]
        }
      ],
      "source": [
        "y_pred = model.predict(X_test) > 0.5                  \n",
        "print(confusion_matrix(y_test, y_pred))\n",
        "print(classification_report(y_test, y_pred))          "
      ]
    },
    {
      "cell_type": "code",
      "source": [
        "from sklearn.metrics import precision_recall_curve"
      ],
      "metadata": {
        "id": "dknkQAl8x_zH"
      },
      "execution_count": 46,
      "outputs": []
    },
    {
      "cell_type": "code",
      "execution_count": 47,
      "metadata": {
        "id": "exM1gGtLuWYj",
        "outputId": "19d5b4f7-216b-4348-a9ed-26ae71815587",
        "colab": {
          "base_uri": "https://localhost:8080/",
          "height": 295
        }
      },
      "outputs": [
        {
          "output_type": "display_data",
          "data": {
            "text/plain": [
              "<Figure size 432x288 with 1 Axes>"
            ],
            "image/png": "[encoded data removed]"
          },
          "metadata": {
            "needs_background": "light"
          }
        }
      ],
      "source": [
        "y_pred_proba = model.predict(X_test)\n",
        "precisions, recalls, thresholds = precision_recall_curve(y_test, y_pred_proba)         \n",
        "plt.plot(recalls,precisions, label='ANN')\n",
        "plt.xlabel('recalls')\n",
        "plt.ylabel('precisions')\n",
        "plt.title('Precision-recall-curve')\n",
        "plt.show()"
      ]
    },
    {
      "cell_type": "code",
      "execution_count": 48,
      "metadata": {
        "id": "XTAP0hEmuWYj",
        "outputId": "78f7a2d7-82f1-4338-950b-5b581c8740b4",
        "colab": {
          "base_uri": "https://localhost:8080/"
        }
      },
      "outputs": [
        {
          "output_type": "execute_result",
          "data": {
            "text/plain": [
              "0.8443360593818766"
            ]
          },
          "metadata": {},
          "execution_count": 48
        }
      ],
      "source": [
        "roc_auc_score(y_test, y_pred_proba)"
      ]
    },
    {
      "cell_type": "markdown",
      "metadata": {
        "id": "X7uY_0SV6QO7"
      },
      "source": [
        "## Implementation Different Methods to Develop The Model\n",
        "\n",
        "- Implement the following methods on model creating with \"class_weight\" parameter\n",
        "- Create and evaluate model for each method "
      ]
    },
    {
      "cell_type": "markdown",
      "metadata": {
        "id": "ThWG3wxR6QO8"
      },
      "source": [
        "### Increase The Learning Rate and Observe The Results"
      ]
    },
    {
      "cell_type": "code",
      "execution_count": 48,
      "metadata": {
        "ExecuteTime": {
          "end_time": "2022-06-21T18:06:52.894297Z",
          "start_time": "2022-06-21T18:06:52.866371Z"
        },
        "cell_style": "split",
        "id": "Hq6AgBHtGcgS"
      },
      "outputs": [],
      "source": [
        ""
      ]
    },
    {
      "cell_type": "code",
      "execution_count": 49,
      "metadata": {
        "id": "B5yhpx62uWYY"
      },
      "outputs": [],
      "source": [
        "from tensorflow.keras.optimizers import Adam              "
      ]
    },
    {
      "cell_type": "code",
      "execution_count": 50,
      "metadata": {
        "id": "LaT0iuEBuWYZ"
      },
      "outputs": [],
      "source": [
        "tf.random.set_seed(seed)\n",
        "\n",
        "model = Sequential()\n",
        "\n",
        "model.add(Dense(20, activation = \"relu\", input_dim = X_train.shape[1]))\n",
        "model.add(Dense(10, activation = \"relu\"))\n",
        "model.add(Dense(5, activation = \"relu\"))\n",
        "model.add(Dense(1, activation = \"sigmoid\"))\n",
        "\n",
        "opt = Adam(lr = 0.002)\n",
        "model.compile(optimizer = opt, loss = \"binary_crossentropy\", metrics = [\"accuracy\"])"
      ]
    },
    {
      "cell_type": "code",
      "execution_count": 51,
      "metadata": {
        "id": "EGagoJwquWYa"
      },
      "outputs": [],
      "source": [
        "early_stop = EarlyStopping(monitor = \"val_loss\", mode = \"auto\", verbose = 1, patience = 10, restore_best_weights = True)"
      ]
    },
    {
      "cell_type": "code",
      "execution_count": 52,
      "metadata": {
        "id": "RxhU9i11uWYa",
        "outputId": "bce1cff4-7259-4be0-cb81-03eae0746438",
        "colab": {
          "base_uri": "https://localhost:8080/"
        }
      },
      "outputs": [
        {
          "output_type": "stream",
          "name": "stdout",
          "text": [
            "Epoch 1/200\n",
            "73/73 [==============================] - 1s 4ms/step - loss: 0.5804 - accuracy: 0.7596 - val_loss: 0.5010 - val_accuracy: 0.8008\n",
            "Epoch 2/200\n",
            "73/73 [==============================] - 0s 2ms/step - loss: 0.4964 - accuracy: 0.7956 - val_loss: 0.4793 - val_accuracy: 0.8008\n",
            "Epoch 3/200\n",
            "73/73 [==============================] - 0s 2ms/step - loss: 0.4721 - accuracy: 0.7957 - val_loss: 0.4571 - val_accuracy: 0.8039\n",
            "Epoch 4/200\n",
            "73/73 [==============================] - 0s 2ms/step - loss: 0.4444 - accuracy: 0.8089 - val_loss: 0.4378 - val_accuracy: 0.8173\n",
            "Epoch 5/200\n",
            "73/73 [==============================] - 0s 2ms/step - loss: 0.4228 - accuracy: 0.8140 - val_loss: 0.4194 - val_accuracy: 0.8141\n",
            "Epoch 6/200\n",
            "73/73 [==============================] - 0s 2ms/step - loss: 0.4094 - accuracy: 0.8239 - val_loss: 0.4057 - val_accuracy: 0.8275\n",
            "Epoch 7/200\n",
            "73/73 [==============================] - 0s 2ms/step - loss: 0.3984 - accuracy: 0.8274 - val_loss: 0.3931 - val_accuracy: 0.8369\n",
            "Epoch 8/200\n",
            "73/73 [==============================] - 0s 2ms/step - loss: 0.3911 - accuracy: 0.8339 - val_loss: 0.3886 - val_accuracy: 0.8345\n",
            "Epoch 9/200\n",
            "73/73 [==============================] - 0s 2ms/step - loss: 0.3831 - accuracy: 0.8397 - val_loss: 0.3791 - val_accuracy: 0.8455\n",
            "Epoch 10/200\n",
            "73/73 [==============================] - 0s 2ms/step - loss: 0.3777 - accuracy: 0.8444 - val_loss: 0.3769 - val_accuracy: 0.8494\n",
            "Epoch 11/200\n",
            "73/73 [==============================] - 0s 2ms/step - loss: 0.3740 - accuracy: 0.8461 - val_loss: 0.3674 - val_accuracy: 0.8557\n",
            "Epoch 12/200\n",
            "73/73 [==============================] - 0s 2ms/step - loss: 0.3686 - accuracy: 0.8496 - val_loss: 0.3672 - val_accuracy: 0.8525\n",
            "Epoch 13/200\n",
            "73/73 [==============================] - 0s 2ms/step - loss: 0.3669 - accuracy: 0.8502 - val_loss: 0.3609 - val_accuracy: 0.8596\n",
            "Epoch 14/200\n",
            "73/73 [==============================] - 0s 2ms/step - loss: 0.3647 - accuracy: 0.8505 - val_loss: 0.3596 - val_accuracy: 0.8620\n",
            "Epoch 15/200\n",
            "73/73 [==============================] - 0s 2ms/step - loss: 0.3622 - accuracy: 0.8512 - val_loss: 0.3565 - val_accuracy: 0.8596\n",
            "Epoch 16/200\n",
            "73/73 [==============================] - 0s 2ms/step - loss: 0.3617 - accuracy: 0.8537 - val_loss: 0.3558 - val_accuracy: 0.8627\n",
            "Epoch 17/200\n",
            "73/73 [==============================] - 0s 2ms/step - loss: 0.3575 - accuracy: 0.8559 - val_loss: 0.3575 - val_accuracy: 0.8651\n",
            "Epoch 18/200\n",
            "73/73 [==============================] - 0s 2ms/step - loss: 0.3562 - accuracy: 0.8538 - val_loss: 0.3519 - val_accuracy: 0.8643\n",
            "Epoch 19/200\n",
            "73/73 [==============================] - 0s 2ms/step - loss: 0.3552 - accuracy: 0.8555 - val_loss: 0.3494 - val_accuracy: 0.8651\n",
            "Epoch 20/200\n",
            "73/73 [==============================] - 0s 2ms/step - loss: 0.3563 - accuracy: 0.8519 - val_loss: 0.3528 - val_accuracy: 0.8612\n",
            "Epoch 21/200\n",
            "73/73 [==============================] - 0s 2ms/step - loss: 0.3585 - accuracy: 0.8538 - val_loss: 0.3494 - val_accuracy: 0.8682\n",
            "Epoch 22/200\n",
            "73/73 [==============================] - 0s 2ms/step - loss: 0.3538 - accuracy: 0.8559 - val_loss: 0.3532 - val_accuracy: 0.8604\n",
            "Epoch 23/200\n",
            "73/73 [==============================] - 0s 2ms/step - loss: 0.3530 - accuracy: 0.8576 - val_loss: 0.3523 - val_accuracy: 0.8667\n",
            "Epoch 24/200\n",
            "73/73 [==============================] - 0s 2ms/step - loss: 0.3516 - accuracy: 0.8570 - val_loss: 0.3512 - val_accuracy: 0.8620\n",
            "Epoch 25/200\n",
            "73/73 [==============================] - 0s 2ms/step - loss: 0.3515 - accuracy: 0.8558 - val_loss: 0.3513 - val_accuracy: 0.8596\n",
            "Epoch 26/200\n",
            "73/73 [==============================] - 0s 2ms/step - loss: 0.3515 - accuracy: 0.8566 - val_loss: 0.3538 - val_accuracy: 0.8565\n",
            "Epoch 27/200\n",
            "73/73 [==============================] - 0s 2ms/step - loss: 0.3532 - accuracy: 0.8562 - val_loss: 0.3485 - val_accuracy: 0.8627\n",
            "Epoch 28/200\n",
            "73/73 [==============================] - 0s 2ms/step - loss: 0.3516 - accuracy: 0.8552 - val_loss: 0.3485 - val_accuracy: 0.8651\n",
            "Epoch 29/200\n",
            "73/73 [==============================] - 0s 2ms/step - loss: 0.3489 - accuracy: 0.8562 - val_loss: 0.3482 - val_accuracy: 0.8682\n",
            "Epoch 30/200\n",
            "73/73 [==============================] - 0s 2ms/step - loss: 0.3489 - accuracy: 0.8577 - val_loss: 0.3507 - val_accuracy: 0.8612\n",
            "Epoch 31/200\n",
            "73/73 [==============================] - 0s 2ms/step - loss: 0.3487 - accuracy: 0.8572 - val_loss: 0.3443 - val_accuracy: 0.8690\n",
            "Epoch 32/200\n",
            "73/73 [==============================] - 0s 2ms/step - loss: 0.3482 - accuracy: 0.8561 - val_loss: 0.3458 - val_accuracy: 0.8612\n",
            "Epoch 33/200\n",
            "73/73 [==============================] - 0s 2ms/step - loss: 0.3468 - accuracy: 0.8590 - val_loss: 0.3545 - val_accuracy: 0.8580\n",
            "Epoch 34/200\n",
            "73/73 [==============================] - 0s 2ms/step - loss: 0.3476 - accuracy: 0.8583 - val_loss: 0.3460 - val_accuracy: 0.8651\n",
            "Epoch 35/200\n",
            "73/73 [==============================] - 0s 2ms/step - loss: 0.3494 - accuracy: 0.8598 - val_loss: 0.3433 - val_accuracy: 0.8690\n",
            "Epoch 36/200\n",
            "73/73 [==============================] - 0s 2ms/step - loss: 0.3475 - accuracy: 0.8562 - val_loss: 0.3423 - val_accuracy: 0.8643\n",
            "Epoch 37/200\n",
            "73/73 [==============================] - 0s 2ms/step - loss: 0.3467 - accuracy: 0.8588 - val_loss: 0.3447 - val_accuracy: 0.8627\n",
            "Epoch 38/200\n",
            "73/73 [==============================] - 0s 2ms/step - loss: 0.3448 - accuracy: 0.8576 - val_loss: 0.3504 - val_accuracy: 0.8565\n",
            "Epoch 39/200\n",
            "73/73 [==============================] - 0s 2ms/step - loss: 0.3437 - accuracy: 0.8583 - val_loss: 0.3406 - val_accuracy: 0.8643\n",
            "Epoch 40/200\n",
            "73/73 [==============================] - 0s 2ms/step - loss: 0.3455 - accuracy: 0.8580 - val_loss: 0.3494 - val_accuracy: 0.8627\n",
            "Epoch 41/200\n",
            "73/73 [==============================] - 0s 2ms/step - loss: 0.3448 - accuracy: 0.8563 - val_loss: 0.3434 - val_accuracy: 0.8667\n",
            "Epoch 42/200\n",
            "73/73 [==============================] - 0s 2ms/step - loss: 0.3449 - accuracy: 0.8606 - val_loss: 0.3414 - val_accuracy: 0.8659\n",
            "Epoch 43/200\n",
            "73/73 [==============================] - 0s 2ms/step - loss: 0.3431 - accuracy: 0.8599 - val_loss: 0.3445 - val_accuracy: 0.8604\n",
            "Epoch 44/200\n",
            "73/73 [==============================] - 0s 2ms/step - loss: 0.3443 - accuracy: 0.8574 - val_loss: 0.3416 - val_accuracy: 0.8675\n",
            "Epoch 45/200\n",
            "73/73 [==============================] - 0s 2ms/step - loss: 0.3452 - accuracy: 0.8590 - val_loss: 0.3457 - val_accuracy: 0.8565\n",
            "Epoch 46/200\n",
            "73/73 [==============================] - 0s 2ms/step - loss: 0.3424 - accuracy: 0.8566 - val_loss: 0.3440 - val_accuracy: 0.8580\n",
            "Epoch 47/200\n",
            "73/73 [==============================] - 0s 2ms/step - loss: 0.3431 - accuracy: 0.8562 - val_loss: 0.3422 - val_accuracy: 0.8643\n",
            "Epoch 48/200\n",
            "73/73 [==============================] - 0s 2ms/step - loss: 0.3434 - accuracy: 0.8588 - val_loss: 0.3399 - val_accuracy: 0.8620\n",
            "Epoch 49/200\n",
            "73/73 [==============================] - 0s 2ms/step - loss: 0.3434 - accuracy: 0.8597 - val_loss: 0.3409 - val_accuracy: 0.8682\n",
            "Epoch 50/200\n",
            "73/73 [==============================] - 0s 2ms/step - loss: 0.3439 - accuracy: 0.8594 - val_loss: 0.3462 - val_accuracy: 0.8596\n",
            "Epoch 51/200\n",
            "73/73 [==============================] - 0s 2ms/step - loss: 0.3425 - accuracy: 0.8598 - val_loss: 0.3449 - val_accuracy: 0.8580\n",
            "Epoch 52/200\n",
            "73/73 [==============================] - 0s 2ms/step - loss: 0.3444 - accuracy: 0.8566 - val_loss: 0.3390 - val_accuracy: 0.8659\n",
            "Epoch 53/200\n",
            "73/73 [==============================] - 0s 2ms/step - loss: 0.3427 - accuracy: 0.8590 - val_loss: 0.3400 - val_accuracy: 0.8651\n",
            "Epoch 54/200\n",
            "73/73 [==============================] - 0s 2ms/step - loss: 0.3418 - accuracy: 0.8584 - val_loss: 0.3413 - val_accuracy: 0.8659\n",
            "Epoch 55/200\n",
            "73/73 [==============================] - 0s 2ms/step - loss: 0.3414 - accuracy: 0.8592 - val_loss: 0.3422 - val_accuracy: 0.8596\n",
            "Epoch 56/200\n",
            "73/73 [==============================] - 0s 2ms/step - loss: 0.3415 - accuracy: 0.8606 - val_loss: 0.3406 - val_accuracy: 0.8612\n",
            "Epoch 57/200\n",
            "73/73 [==============================] - 0s 2ms/step - loss: 0.3424 - accuracy: 0.8608 - val_loss: 0.3418 - val_accuracy: 0.8690\n",
            "Epoch 58/200\n",
            "73/73 [==============================] - 0s 2ms/step - loss: 0.3425 - accuracy: 0.8612 - val_loss: 0.3423 - val_accuracy: 0.8612\n",
            "Epoch 59/200\n",
            "73/73 [==============================] - 0s 5ms/step - loss: 0.3419 - accuracy: 0.8587 - val_loss: 0.3475 - val_accuracy: 0.8533\n",
            "Epoch 60/200\n",
            "73/73 [==============================] - 1s 7ms/step - loss: 0.3428 - accuracy: 0.8598 - val_loss: 0.3410 - val_accuracy: 0.8604\n",
            "Epoch 61/200\n",
            "73/73 [==============================] - 0s 3ms/step - loss: 0.3413 - accuracy: 0.8592 - val_loss: 0.3427 - val_accuracy: 0.8627\n",
            "Epoch 62/200\n",
            "68/73 [==========================>...] - ETA: 0s - loss: 0.3406 - accuracy: 0.8572Restoring model weights from the end of the best epoch: 52.\n",
            "73/73 [==============================] - 0s 2ms/step - loss: 0.3426 - accuracy: 0.8562 - val_loss: 0.3412 - val_accuracy: 0.8612\n",
            "Epoch 62: early stopping\n"
          ]
        },
        {
          "output_type": "execute_result",
          "data": {
            "text/plain": [
              "<keras.callbacks.History at 0x7efc1ad63150>"
            ]
          },
          "metadata": {},
          "execution_count": 52
        }
      ],
      "source": [
        "model.fit(x = X_train, y = y_train, validation_split = 0.15, batch_size = 100, epochs = 200, verbose = 1,\n",
        "          callbacks = [early_stop])"
      ]
    },
    {
      "cell_type": "code",
      "execution_count": 53,
      "metadata": {
        "id": "kCOcf_MquWYb",
        "outputId": "a1bf7be0-f94c-4410-ec45-482f3681c8af",
        "colab": {
          "base_uri": "https://localhost:8080/",
          "height": 283
        }
      },
      "outputs": [
        {
          "output_type": "execute_result",
          "data": {
            "text/plain": [
              "<matplotlib.axes._subplots.AxesSubplot at 0x7efc1ace0350>"
            ]
          },
          "metadata": {},
          "execution_count": 53
        },
        {
          "output_type": "display_data",
          "data": {
            "text/plain": [
              "<Figure size 432x288 with 1 Axes>"
            ],
            "image/png": "[encoded data removed]"
          },
          "metadata": {
            "needs_background": "light"
          }
        }
      ],
      "source": [
        "loss_df = pd.DataFrame(model.history.history)             ## dalgalar arttı, DL rasgelleiği yani stokastik olduğu için aynı ççalışmaların sonucu farklı olabiliyor\n",
        "loss_df.plot()"
      ]
    },
    {
      "cell_type": "code",
      "execution_count": 54,
      "metadata": {
        "id": "Xf3z98v_uWYb",
        "outputId": "2a13ada5-56dd-490e-c8a2-5aa7c7bb9963",
        "colab": {
          "base_uri": "https://localhost:8080/"
        }
      },
      "outputs": [
        {
          "output_type": "stream",
          "name": "stdout",
          "text": [
            "loss :  0.3548349142074585\n",
            "accuracy :  0.8513333201408386\n"
          ]
        }
      ],
      "source": [
        "loss, accuracy = model.evaluate(X_test, y_test, verbose=0)\n",
        "print(\"loss : \", loss)\n",
        "print(\"accuracy : \", accuracy)"
      ]
    },
    {
      "cell_type": "code",
      "execution_count": 55,
      "metadata": {
        "id": "fG-1JwgUuWYc",
        "outputId": "9d70ad66-33d1-45c7-c08e-8bdb1d2f94a4",
        "colab": {
          "base_uri": "https://localhost:8080/"
        }
      },
      "outputs": [
        {
          "output_type": "stream",
          "name": "stdout",
          "text": [
            "[[1150   44]\n",
            " [ 179  127]]\n",
            "              precision    recall  f1-score   support\n",
            "\n",
            "           0       0.87      0.96      0.91      1194\n",
            "           1       0.74      0.42      0.53       306\n",
            "\n",
            "    accuracy                           0.85      1500\n",
            "   macro avg       0.80      0.69      0.72      1500\n",
            "weighted avg       0.84      0.85      0.83      1500\n",
            "\n"
          ]
        }
      ],
      "source": [
        "y_pred = model.predict(X_test) > 0.5\n",
        "#y_pred = model.predict_classes(X_test) for tf 2.5.0\n",
        "print(confusion_matrix(y_test, y_pred))\n",
        "print(classification_report(y_test, y_pred))"
      ]
    },
    {
      "cell_type": "markdown",
      "metadata": {
        "id": "Zwxi6jPB6QO8"
      },
      "source": [
        "### Add Dropout Layer"
      ]
    },
    {
      "cell_type": "code",
      "source": [
        "from tensorflow.keras.layers import Dense, Activation, Dropout \n",
        "from tensorflow.keras.callbacks import EarlyStopping"
      ],
      "metadata": {
        "id": "QpXbrIGjJhAa"
      },
      "execution_count": 56,
      "outputs": []
    },
    {
      "cell_type": "code",
      "execution_count": 56,
      "metadata": {
        "id": "o_zmtOxd6QO8"
      },
      "outputs": [],
      "source": [
        ""
      ]
    },
    {
      "cell_type": "code",
      "execution_count": 57,
      "metadata": {
        "id": "CJokLHStyr1h"
      },
      "outputs": [],
      "source": [
        "tf.random.set_seed(seed)\n",
        "\n",
        "model = Sequential()\n",
        "\n",
        "model.add(Dense(20, activation=\"relu\", input_dim = X_train.shape[1]))\n",
        "model.add(Dropout(0.5))\n",
        "\n",
        "model.add(Dense(10, activation=\"relu\"))\n",
        "model.add(Dropout(0.5))\n",
        "\n",
        "model.add(Dense(5, activation=\"relu\"))\n",
        "model.add(Dropout(0.5))\n",
        "\n",
        "model.add(Dense(1, activation=\"sigmoid\"))\n",
        "\n",
        "opt = Adam(lr = 0.001)\n",
        "model.compile(optimizer = opt, loss = \"binary_crossentropy\", metrics = [\"accuracy\"])"
      ]
    },
    {
      "cell_type": "code",
      "execution_count": 58,
      "metadata": {
        "colab": {
          "base_uri": "https://localhost:8080/"
        },
        "id": "TeQ4lysU0XxP",
        "outputId": "f357883a-6033-486b-9828-947dbcbe8a46"
      },
      "outputs": [
        {
          "output_type": "stream",
          "name": "stdout",
          "text": [
            "Epoch 1/200\n",
            "73/73 [==============================] - 1s 5ms/step - loss: 0.6635 - accuracy: 0.6882 - val_loss: 0.6029 - val_accuracy: 0.8008\n",
            "Epoch 2/200\n",
            "73/73 [==============================] - 0s 2ms/step - loss: 0.5997 - accuracy: 0.7827 - val_loss: 0.5514 - val_accuracy: 0.8008\n",
            "Epoch 3/200\n",
            "73/73 [==============================] - 0s 3ms/step - loss: 0.5789 - accuracy: 0.7924 - val_loss: 0.5338 - val_accuracy: 0.8008\n",
            "Epoch 4/200\n",
            "73/73 [==============================] - 0s 2ms/step - loss: 0.5596 - accuracy: 0.7956 - val_loss: 0.5157 - val_accuracy: 0.8008\n",
            "Epoch 5/200\n",
            "73/73 [==============================] - 0s 2ms/step - loss: 0.5573 - accuracy: 0.7954 - val_loss: 0.5096 - val_accuracy: 0.8008\n",
            "Epoch 6/200\n",
            "73/73 [==============================] - 0s 3ms/step - loss: 0.5401 - accuracy: 0.7956 - val_loss: 0.4996 - val_accuracy: 0.8008\n",
            "Epoch 7/200\n",
            "73/73 [==============================] - 0s 2ms/step - loss: 0.5354 - accuracy: 0.7956 - val_loss: 0.4959 - val_accuracy: 0.8008\n",
            "Epoch 8/200\n",
            "73/73 [==============================] - 0s 2ms/step - loss: 0.5248 - accuracy: 0.7956 - val_loss: 0.4903 - val_accuracy: 0.8008\n",
            "Epoch 9/200\n",
            "73/73 [==============================] - 0s 2ms/step - loss: 0.5229 - accuracy: 0.7956 - val_loss: 0.4900 - val_accuracy: 0.8008\n",
            "Epoch 10/200\n",
            "73/73 [==============================] - 0s 2ms/step - loss: 0.5193 - accuracy: 0.7956 - val_loss: 0.4873 - val_accuracy: 0.8008\n",
            "Epoch 11/200\n",
            "73/73 [==============================] - 0s 2ms/step - loss: 0.5206 - accuracy: 0.7956 - val_loss: 0.4855 - val_accuracy: 0.8008\n",
            "Epoch 12/200\n",
            "73/73 [==============================] - 0s 2ms/step - loss: 0.5122 - accuracy: 0.7957 - val_loss: 0.4805 - val_accuracy: 0.8008\n",
            "Epoch 13/200\n",
            "73/73 [==============================] - 0s 2ms/step - loss: 0.5109 - accuracy: 0.7954 - val_loss: 0.4784 - val_accuracy: 0.8008\n",
            "Epoch 14/200\n",
            "73/73 [==============================] - 0s 2ms/step - loss: 0.5076 - accuracy: 0.7957 - val_loss: 0.4745 - val_accuracy: 0.8008\n",
            "Epoch 15/200\n",
            "73/73 [==============================] - 0s 2ms/step - loss: 0.5013 - accuracy: 0.7953 - val_loss: 0.4684 - val_accuracy: 0.8008\n",
            "Epoch 16/200\n",
            "73/73 [==============================] - 0s 2ms/step - loss: 0.5006 - accuracy: 0.7972 - val_loss: 0.4669 - val_accuracy: 0.8008\n",
            "Epoch 17/200\n",
            "73/73 [==============================] - 0s 2ms/step - loss: 0.4931 - accuracy: 0.7947 - val_loss: 0.4623 - val_accuracy: 0.8008\n",
            "Epoch 18/200\n",
            "73/73 [==============================] - 0s 2ms/step - loss: 0.4962 - accuracy: 0.7964 - val_loss: 0.4577 - val_accuracy: 0.8008\n",
            "Epoch 19/200\n",
            "73/73 [==============================] - 0s 2ms/step - loss: 0.4932 - accuracy: 0.7970 - val_loss: 0.4556 - val_accuracy: 0.8008\n",
            "Epoch 20/200\n",
            "73/73 [==============================] - 0s 2ms/step - loss: 0.4828 - accuracy: 0.8001 - val_loss: 0.4521 - val_accuracy: 0.8008\n",
            "Epoch 21/200\n",
            "73/73 [==============================] - 0s 2ms/step - loss: 0.4816 - accuracy: 0.7978 - val_loss: 0.4473 - val_accuracy: 0.8008\n",
            "Epoch 22/200\n",
            "73/73 [==============================] - 0s 2ms/step - loss: 0.4831 - accuracy: 0.7994 - val_loss: 0.4455 - val_accuracy: 0.8008\n",
            "Epoch 23/200\n",
            "73/73 [==============================] - 0s 2ms/step - loss: 0.4826 - accuracy: 0.8006 - val_loss: 0.4466 - val_accuracy: 0.8008\n",
            "Epoch 24/200\n",
            "73/73 [==============================] - 0s 2ms/step - loss: 0.4784 - accuracy: 0.7990 - val_loss: 0.4422 - val_accuracy: 0.8008\n",
            "Epoch 25/200\n",
            "73/73 [==============================] - 0s 2ms/step - loss: 0.4730 - accuracy: 0.7989 - val_loss: 0.4404 - val_accuracy: 0.8008\n",
            "Epoch 26/200\n",
            "73/73 [==============================] - 0s 2ms/step - loss: 0.4764 - accuracy: 0.7997 - val_loss: 0.4394 - val_accuracy: 0.8008\n",
            "Epoch 27/200\n",
            "73/73 [==============================] - 0s 2ms/step - loss: 0.4726 - accuracy: 0.8006 - val_loss: 0.4364 - val_accuracy: 0.8008\n",
            "Epoch 28/200\n",
            "73/73 [==============================] - 0s 2ms/step - loss: 0.4717 - accuracy: 0.8010 - val_loss: 0.4339 - val_accuracy: 0.8008\n",
            "Epoch 29/200\n",
            "73/73 [==============================] - 0s 2ms/step - loss: 0.4657 - accuracy: 0.8021 - val_loss: 0.4310 - val_accuracy: 0.8008\n",
            "Epoch 30/200\n",
            "73/73 [==============================] - 0s 2ms/step - loss: 0.4647 - accuracy: 0.8035 - val_loss: 0.4298 - val_accuracy: 0.8008\n",
            "Epoch 31/200\n",
            "73/73 [==============================] - 0s 2ms/step - loss: 0.4615 - accuracy: 0.8024 - val_loss: 0.4255 - val_accuracy: 0.8000\n",
            "Epoch 32/200\n",
            "73/73 [==============================] - 0s 2ms/step - loss: 0.4642 - accuracy: 0.8022 - val_loss: 0.4255 - val_accuracy: 0.8000\n",
            "Epoch 33/200\n",
            "73/73 [==============================] - 0s 2ms/step - loss: 0.4630 - accuracy: 0.8044 - val_loss: 0.4244 - val_accuracy: 0.8008\n",
            "Epoch 34/200\n",
            "73/73 [==============================] - 0s 2ms/step - loss: 0.4649 - accuracy: 0.8021 - val_loss: 0.4250 - val_accuracy: 0.8008\n",
            "Epoch 35/200\n",
            "73/73 [==============================] - 0s 2ms/step - loss: 0.4607 - accuracy: 0.8026 - val_loss: 0.4209 - val_accuracy: 0.8008\n",
            "Epoch 36/200\n",
            "73/73 [==============================] - 0s 2ms/step - loss: 0.4612 - accuracy: 0.8011 - val_loss: 0.4200 - val_accuracy: 0.8016\n",
            "Epoch 37/200\n",
            "73/73 [==============================] - 0s 2ms/step - loss: 0.4596 - accuracy: 0.8061 - val_loss: 0.4206 - val_accuracy: 0.8031\n",
            "Epoch 38/200\n",
            "73/73 [==============================] - 0s 2ms/step - loss: 0.4534 - accuracy: 0.8072 - val_loss: 0.4179 - val_accuracy: 0.8047\n",
            "Epoch 39/200\n",
            "73/73 [==============================] - 0s 2ms/step - loss: 0.4567 - accuracy: 0.8033 - val_loss: 0.4172 - val_accuracy: 0.8063\n",
            "Epoch 40/200\n",
            "73/73 [==============================] - 0s 4ms/step - loss: 0.4529 - accuracy: 0.8062 - val_loss: 0.4148 - val_accuracy: 0.8071\n",
            "Epoch 41/200\n",
            "73/73 [==============================] - 1s 8ms/step - loss: 0.4506 - accuracy: 0.8098 - val_loss: 0.4131 - val_accuracy: 0.8086\n",
            "Epoch 42/200\n",
            "73/73 [==============================] - 0s 4ms/step - loss: 0.4500 - accuracy: 0.8079 - val_loss: 0.4133 - val_accuracy: 0.8102\n",
            "Epoch 43/200\n",
            "73/73 [==============================] - 0s 2ms/step - loss: 0.4530 - accuracy: 0.8057 - val_loss: 0.4152 - val_accuracy: 0.8102\n",
            "Epoch 44/200\n",
            "73/73 [==============================] - 0s 2ms/step - loss: 0.4539 - accuracy: 0.8096 - val_loss: 0.4130 - val_accuracy: 0.8149\n",
            "Epoch 45/200\n",
            "73/73 [==============================] - 0s 2ms/step - loss: 0.4560 - accuracy: 0.8018 - val_loss: 0.4137 - val_accuracy: 0.8094\n",
            "Epoch 46/200\n",
            "73/73 [==============================] - 0s 2ms/step - loss: 0.4485 - accuracy: 0.8072 - val_loss: 0.4133 - val_accuracy: 0.8118\n",
            "Epoch 47/200\n",
            "73/73 [==============================] - 0s 2ms/step - loss: 0.4510 - accuracy: 0.8062 - val_loss: 0.4087 - val_accuracy: 0.8149\n",
            "Epoch 48/200\n",
            "73/73 [==============================] - 0s 2ms/step - loss: 0.4529 - accuracy: 0.8084 - val_loss: 0.4103 - val_accuracy: 0.8133\n",
            "Epoch 49/200\n",
            "73/73 [==============================] - 0s 2ms/step - loss: 0.4489 - accuracy: 0.8076 - val_loss: 0.4116 - val_accuracy: 0.8165\n",
            "Epoch 50/200\n",
            "73/73 [==============================] - 0s 2ms/step - loss: 0.4499 - accuracy: 0.8083 - val_loss: 0.4132 - val_accuracy: 0.8157\n",
            "Epoch 51/200\n",
            "73/73 [==============================] - 0s 2ms/step - loss: 0.4482 - accuracy: 0.8089 - val_loss: 0.4074 - val_accuracy: 0.8173\n",
            "Epoch 52/200\n",
            "73/73 [==============================] - 0s 2ms/step - loss: 0.4449 - accuracy: 0.8118 - val_loss: 0.4057 - val_accuracy: 0.8173\n",
            "Epoch 53/200\n",
            "73/73 [==============================] - 0s 2ms/step - loss: 0.4444 - accuracy: 0.8123 - val_loss: 0.4054 - val_accuracy: 0.8180\n",
            "Epoch 54/200\n",
            "73/73 [==============================] - 0s 2ms/step - loss: 0.4467 - accuracy: 0.8093 - val_loss: 0.4036 - val_accuracy: 0.8196\n",
            "Epoch 55/200\n",
            "73/73 [==============================] - 0s 2ms/step - loss: 0.4471 - accuracy: 0.8093 - val_loss: 0.4065 - val_accuracy: 0.8188\n",
            "Epoch 56/200\n",
            "73/73 [==============================] - 0s 2ms/step - loss: 0.4508 - accuracy: 0.8108 - val_loss: 0.4052 - val_accuracy: 0.8196\n",
            "Epoch 57/200\n",
            "73/73 [==============================] - 0s 2ms/step - loss: 0.4469 - accuracy: 0.8094 - val_loss: 0.4043 - val_accuracy: 0.8188\n",
            "Epoch 58/200\n",
            "73/73 [==============================] - 0s 2ms/step - loss: 0.4437 - accuracy: 0.8120 - val_loss: 0.4013 - val_accuracy: 0.8212\n",
            "Epoch 59/200\n",
            "73/73 [==============================] - 0s 2ms/step - loss: 0.4454 - accuracy: 0.8086 - val_loss: 0.4021 - val_accuracy: 0.8196\n",
            "Epoch 60/200\n",
            "73/73 [==============================] - 0s 2ms/step - loss: 0.4446 - accuracy: 0.8116 - val_loss: 0.4023 - val_accuracy: 0.8220\n",
            "Epoch 61/200\n",
            "73/73 [==============================] - 0s 2ms/step - loss: 0.4418 - accuracy: 0.8123 - val_loss: 0.4028 - val_accuracy: 0.8227\n",
            "Epoch 62/200\n",
            "73/73 [==============================] - 0s 2ms/step - loss: 0.4442 - accuracy: 0.8126 - val_loss: 0.4007 - val_accuracy: 0.8251\n",
            "Epoch 63/200\n",
            "73/73 [==============================] - 0s 2ms/step - loss: 0.4408 - accuracy: 0.8119 - val_loss: 0.3981 - val_accuracy: 0.8235\n",
            "Epoch 64/200\n",
            "73/73 [==============================] - 0s 3ms/step - loss: 0.4423 - accuracy: 0.8119 - val_loss: 0.3979 - val_accuracy: 0.8259\n",
            "Epoch 65/200\n",
            "73/73 [==============================] - 0s 2ms/step - loss: 0.4416 - accuracy: 0.8118 - val_loss: 0.3974 - val_accuracy: 0.8282\n",
            "Epoch 66/200\n",
            "73/73 [==============================] - 0s 2ms/step - loss: 0.4364 - accuracy: 0.8137 - val_loss: 0.3982 - val_accuracy: 0.8243\n",
            "Epoch 67/200\n",
            "73/73 [==============================] - 0s 2ms/step - loss: 0.4438 - accuracy: 0.8109 - val_loss: 0.3982 - val_accuracy: 0.8282\n",
            "Epoch 68/200\n",
            "73/73 [==============================] - 0s 2ms/step - loss: 0.4381 - accuracy: 0.8120 - val_loss: 0.3970 - val_accuracy: 0.8290\n",
            "Epoch 69/200\n",
            "73/73 [==============================] - 0s 2ms/step - loss: 0.4350 - accuracy: 0.8163 - val_loss: 0.3949 - val_accuracy: 0.8314\n",
            "Epoch 70/200\n",
            "73/73 [==============================] - 0s 2ms/step - loss: 0.4410 - accuracy: 0.8134 - val_loss: 0.3938 - val_accuracy: 0.8298\n",
            "Epoch 71/200\n",
            "73/73 [==============================] - 0s 2ms/step - loss: 0.4387 - accuracy: 0.8123 - val_loss: 0.3949 - val_accuracy: 0.8314\n",
            "Epoch 72/200\n",
            "73/73 [==============================] - 0s 2ms/step - loss: 0.4427 - accuracy: 0.8129 - val_loss: 0.3922 - val_accuracy: 0.8345\n",
            "Epoch 73/200\n",
            "73/73 [==============================] - 0s 2ms/step - loss: 0.4373 - accuracy: 0.8151 - val_loss: 0.3945 - val_accuracy: 0.8329\n",
            "Epoch 74/200\n",
            "73/73 [==============================] - 0s 2ms/step - loss: 0.4352 - accuracy: 0.8152 - val_loss: 0.3942 - val_accuracy: 0.8282\n",
            "Epoch 75/200\n",
            "73/73 [==============================] - 0s 2ms/step - loss: 0.4322 - accuracy: 0.8170 - val_loss: 0.3907 - val_accuracy: 0.8337\n",
            "Epoch 76/200\n",
            "73/73 [==============================] - 0s 3ms/step - loss: 0.4367 - accuracy: 0.8162 - val_loss: 0.3904 - val_accuracy: 0.8337\n",
            "Epoch 77/200\n",
            "73/73 [==============================] - 0s 2ms/step - loss: 0.4327 - accuracy: 0.8165 - val_loss: 0.3924 - val_accuracy: 0.8298\n",
            "Epoch 78/200\n",
            "73/73 [==============================] - 0s 2ms/step - loss: 0.4344 - accuracy: 0.8173 - val_loss: 0.3943 - val_accuracy: 0.8306\n",
            "Epoch 79/200\n",
            "73/73 [==============================] - 0s 2ms/step - loss: 0.4295 - accuracy: 0.8181 - val_loss: 0.3879 - val_accuracy: 0.8384\n",
            "Epoch 80/200\n",
            "73/73 [==============================] - 0s 2ms/step - loss: 0.4410 - accuracy: 0.8109 - val_loss: 0.3913 - val_accuracy: 0.8329\n",
            "Epoch 81/200\n",
            "73/73 [==============================] - 0s 2ms/step - loss: 0.4279 - accuracy: 0.8181 - val_loss: 0.3885 - val_accuracy: 0.8353\n",
            "Epoch 82/200\n",
            "73/73 [==============================] - 0s 2ms/step - loss: 0.4365 - accuracy: 0.8165 - val_loss: 0.3900 - val_accuracy: 0.8337\n",
            "Epoch 83/200\n",
            "73/73 [==============================] - 0s 2ms/step - loss: 0.4354 - accuracy: 0.8147 - val_loss: 0.3898 - val_accuracy: 0.8361\n",
            "Epoch 84/200\n",
            "73/73 [==============================] - 0s 2ms/step - loss: 0.4365 - accuracy: 0.8159 - val_loss: 0.3892 - val_accuracy: 0.8337\n",
            "Epoch 85/200\n",
            "73/73 [==============================] - 0s 2ms/step - loss: 0.4345 - accuracy: 0.8183 - val_loss: 0.3894 - val_accuracy: 0.8353\n",
            "Epoch 86/200\n",
            "73/73 [==============================] - 0s 2ms/step - loss: 0.4359 - accuracy: 0.8194 - val_loss: 0.3916 - val_accuracy: 0.8322\n",
            "Epoch 87/200\n",
            "73/73 [==============================] - 0s 3ms/step - loss: 0.4351 - accuracy: 0.8151 - val_loss: 0.3860 - val_accuracy: 0.8361\n",
            "Epoch 88/200\n",
            "73/73 [==============================] - 0s 2ms/step - loss: 0.4301 - accuracy: 0.8187 - val_loss: 0.3845 - val_accuracy: 0.8376\n",
            "Epoch 89/200\n",
            "73/73 [==============================] - 0s 2ms/step - loss: 0.4295 - accuracy: 0.8198 - val_loss: 0.3862 - val_accuracy: 0.8424\n",
            "Epoch 90/200\n",
            "73/73 [==============================] - 0s 2ms/step - loss: 0.4392 - accuracy: 0.8154 - val_loss: 0.3872 - val_accuracy: 0.8361\n",
            "Epoch 91/200\n",
            "73/73 [==============================] - 0s 2ms/step - loss: 0.4317 - accuracy: 0.8191 - val_loss: 0.3833 - val_accuracy: 0.8416\n",
            "Epoch 92/200\n",
            "73/73 [==============================] - 0s 2ms/step - loss: 0.4427 - accuracy: 0.8144 - val_loss: 0.3865 - val_accuracy: 0.8400\n",
            "Epoch 93/200\n",
            "73/73 [==============================] - 0s 2ms/step - loss: 0.4350 - accuracy: 0.8154 - val_loss: 0.3835 - val_accuracy: 0.8400\n",
            "Epoch 94/200\n",
            "73/73 [==============================] - 0s 3ms/step - loss: 0.4351 - accuracy: 0.8166 - val_loss: 0.3859 - val_accuracy: 0.8400\n",
            "Epoch 95/200\n",
            "73/73 [==============================] - 0s 2ms/step - loss: 0.4331 - accuracy: 0.8176 - val_loss: 0.3901 - val_accuracy: 0.8329\n",
            "Epoch 96/200\n",
            "73/73 [==============================] - 0s 2ms/step - loss: 0.4339 - accuracy: 0.8172 - val_loss: 0.3856 - val_accuracy: 0.8345\n",
            "Epoch 97/200\n",
            "73/73 [==============================] - 0s 2ms/step - loss: 0.4314 - accuracy: 0.8179 - val_loss: 0.3855 - val_accuracy: 0.8353\n",
            "Epoch 98/200\n",
            "73/73 [==============================] - 0s 2ms/step - loss: 0.4367 - accuracy: 0.8163 - val_loss: 0.3857 - val_accuracy: 0.8376\n",
            "Epoch 99/200\n",
            "73/73 [==============================] - 0s 2ms/step - loss: 0.4317 - accuracy: 0.8195 - val_loss: 0.3819 - val_accuracy: 0.8400\n",
            "Epoch 100/200\n",
            "73/73 [==============================] - 0s 3ms/step - loss: 0.4263 - accuracy: 0.8212 - val_loss: 0.3842 - val_accuracy: 0.8400\n",
            "Epoch 101/200\n",
            "73/73 [==============================] - 0s 2ms/step - loss: 0.4382 - accuracy: 0.8149 - val_loss: 0.3835 - val_accuracy: 0.8392\n",
            "Epoch 102/200\n",
            "73/73 [==============================] - 0s 2ms/step - loss: 0.4294 - accuracy: 0.8219 - val_loss: 0.3813 - val_accuracy: 0.8416\n",
            "Epoch 103/200\n",
            "73/73 [==============================] - 0s 3ms/step - loss: 0.4288 - accuracy: 0.8199 - val_loss: 0.3808 - val_accuracy: 0.8408\n",
            "Epoch 104/200\n",
            "73/73 [==============================] - 0s 2ms/step - loss: 0.4333 - accuracy: 0.8159 - val_loss: 0.3834 - val_accuracy: 0.8376\n",
            "Epoch 105/200\n",
            "73/73 [==============================] - 0s 2ms/step - loss: 0.4260 - accuracy: 0.8212 - val_loss: 0.3812 - val_accuracy: 0.8369\n",
            "Epoch 106/200\n",
            "73/73 [==============================] - 0s 2ms/step - loss: 0.4319 - accuracy: 0.8202 - val_loss: 0.3804 - val_accuracy: 0.8424\n",
            "Epoch 107/200\n",
            "73/73 [==============================] - 0s 2ms/step - loss: 0.4355 - accuracy: 0.8169 - val_loss: 0.3827 - val_accuracy: 0.8400\n",
            "Epoch 108/200\n",
            "73/73 [==============================] - 0s 2ms/step - loss: 0.4325 - accuracy: 0.8191 - val_loss: 0.3825 - val_accuracy: 0.8431\n",
            "Epoch 109/200\n",
            "73/73 [==============================] - 0s 3ms/step - loss: 0.4306 - accuracy: 0.8170 - val_loss: 0.3812 - val_accuracy: 0.8384\n",
            "Epoch 110/200\n",
            "73/73 [==============================] - 0s 3ms/step - loss: 0.4291 - accuracy: 0.8184 - val_loss: 0.3773 - val_accuracy: 0.8455\n",
            "Epoch 111/200\n",
            "73/73 [==============================] - 0s 2ms/step - loss: 0.4293 - accuracy: 0.8190 - val_loss: 0.3807 - val_accuracy: 0.8447\n",
            "Epoch 112/200\n",
            "73/73 [==============================] - 0s 2ms/step - loss: 0.4300 - accuracy: 0.8184 - val_loss: 0.3812 - val_accuracy: 0.8408\n",
            "Epoch 113/200\n",
            "73/73 [==============================] - 0s 2ms/step - loss: 0.4341 - accuracy: 0.8191 - val_loss: 0.3828 - val_accuracy: 0.8431\n",
            "Epoch 114/200\n",
            "73/73 [==============================] - 0s 3ms/step - loss: 0.4294 - accuracy: 0.8192 - val_loss: 0.3820 - val_accuracy: 0.8439\n",
            "Epoch 115/200\n",
            "73/73 [==============================] - 0s 3ms/step - loss: 0.4329 - accuracy: 0.8158 - val_loss: 0.3825 - val_accuracy: 0.8376\n",
            "Epoch 116/200\n",
            "73/73 [==============================] - 0s 2ms/step - loss: 0.4315 - accuracy: 0.8174 - val_loss: 0.3793 - val_accuracy: 0.8447\n",
            "Epoch 117/200\n",
            "73/73 [==============================] - 0s 2ms/step - loss: 0.4260 - accuracy: 0.8224 - val_loss: 0.3789 - val_accuracy: 0.8439\n",
            "Epoch 118/200\n",
            "73/73 [==============================] - 0s 2ms/step - loss: 0.4267 - accuracy: 0.8199 - val_loss: 0.3769 - val_accuracy: 0.8447\n",
            "Epoch 119/200\n",
            "73/73 [==============================] - 0s 3ms/step - loss: 0.4321 - accuracy: 0.8185 - val_loss: 0.3810 - val_accuracy: 0.8439\n",
            "Epoch 120/200\n",
            "73/73 [==============================] - 0s 3ms/step - loss: 0.4322 - accuracy: 0.8220 - val_loss: 0.3805 - val_accuracy: 0.8439\n",
            "Epoch 121/200\n",
            "73/73 [==============================] - 0s 3ms/step - loss: 0.4298 - accuracy: 0.8195 - val_loss: 0.3803 - val_accuracy: 0.8384\n",
            "Epoch 122/200\n",
            "73/73 [==============================] - 0s 3ms/step - loss: 0.4270 - accuracy: 0.8221 - val_loss: 0.3755 - val_accuracy: 0.8439\n",
            "Epoch 123/200\n",
            "73/73 [==============================] - 0s 3ms/step - loss: 0.4307 - accuracy: 0.8215 - val_loss: 0.3790 - val_accuracy: 0.8431\n",
            "Epoch 124/200\n",
            "73/73 [==============================] - 0s 3ms/step - loss: 0.4322 - accuracy: 0.8177 - val_loss: 0.3809 - val_accuracy: 0.8408\n",
            "Epoch 125/200\n",
            "73/73 [==============================] - 0s 3ms/step - loss: 0.4314 - accuracy: 0.8199 - val_loss: 0.3764 - val_accuracy: 0.8439\n",
            "Epoch 126/200\n",
            "73/73 [==============================] - 0s 2ms/step - loss: 0.4328 - accuracy: 0.8198 - val_loss: 0.3814 - val_accuracy: 0.8392\n",
            "Epoch 127/200\n",
            "73/73 [==============================] - 0s 3ms/step - loss: 0.4230 - accuracy: 0.8223 - val_loss: 0.3757 - val_accuracy: 0.8439\n",
            "Epoch 128/200\n",
            "73/73 [==============================] - 0s 2ms/step - loss: 0.4191 - accuracy: 0.8257 - val_loss: 0.3728 - val_accuracy: 0.8447\n",
            "Epoch 129/200\n",
            "73/73 [==============================] - 0s 3ms/step - loss: 0.4299 - accuracy: 0.8210 - val_loss: 0.3792 - val_accuracy: 0.8424\n",
            "Epoch 130/200\n",
            "73/73 [==============================] - 0s 3ms/step - loss: 0.4285 - accuracy: 0.8217 - val_loss: 0.3804 - val_accuracy: 0.8369\n",
            "Epoch 131/200\n",
            "73/73 [==============================] - 0s 2ms/step - loss: 0.4302 - accuracy: 0.8202 - val_loss: 0.3766 - val_accuracy: 0.8455\n",
            "Epoch 132/200\n",
            "73/73 [==============================] - 0s 3ms/step - loss: 0.4315 - accuracy: 0.8208 - val_loss: 0.3799 - val_accuracy: 0.8424\n",
            "Epoch 133/200\n",
            "73/73 [==============================] - 0s 2ms/step - loss: 0.4317 - accuracy: 0.8209 - val_loss: 0.3780 - val_accuracy: 0.8431\n",
            "Epoch 134/200\n",
            "73/73 [==============================] - 0s 2ms/step - loss: 0.4261 - accuracy: 0.8226 - val_loss: 0.3768 - val_accuracy: 0.8431\n",
            "Epoch 135/200\n",
            "73/73 [==============================] - 0s 2ms/step - loss: 0.4298 - accuracy: 0.8173 - val_loss: 0.3763 - val_accuracy: 0.8424\n",
            "Epoch 136/200\n",
            "73/73 [==============================] - 0s 2ms/step - loss: 0.4248 - accuracy: 0.8257 - val_loss: 0.3757 - val_accuracy: 0.8463\n",
            "Epoch 137/200\n",
            "73/73 [==============================] - 0s 2ms/step - loss: 0.4369 - accuracy: 0.8184 - val_loss: 0.3773 - val_accuracy: 0.8431\n",
            "Epoch 138/200\n",
            "73/73 [==============================] - 0s 2ms/step - loss: 0.4257 - accuracy: 0.8216 - val_loss: 0.3800 - val_accuracy: 0.8400\n",
            "Epoch 139/200\n",
            "73/73 [==============================] - 0s 2ms/step - loss: 0.4248 - accuracy: 0.8226 - val_loss: 0.3741 - val_accuracy: 0.8455\n",
            "Epoch 140/200\n",
            "73/73 [==============================] - 0s 3ms/step - loss: 0.4255 - accuracy: 0.8224 - val_loss: 0.3746 - val_accuracy: 0.8447\n",
            "Epoch 141/200\n",
            "73/73 [==============================] - 0s 2ms/step - loss: 0.4345 - accuracy: 0.8220 - val_loss: 0.3777 - val_accuracy: 0.8447\n",
            "Epoch 142/200\n",
            "73/73 [==============================] - 0s 2ms/step - loss: 0.4303 - accuracy: 0.8177 - val_loss: 0.3766 - val_accuracy: 0.8424\n",
            "Epoch 143/200\n",
            "73/73 [==============================] - 0s 2ms/step - loss: 0.4291 - accuracy: 0.8202 - val_loss: 0.3766 - val_accuracy: 0.8431\n",
            "Epoch 144/200\n",
            "73/73 [==============================] - 0s 2ms/step - loss: 0.4233 - accuracy: 0.8253 - val_loss: 0.3745 - val_accuracy: 0.8471\n",
            "Epoch 145/200\n",
            "73/73 [==============================] - 0s 2ms/step - loss: 0.4280 - accuracy: 0.8237 - val_loss: 0.3747 - val_accuracy: 0.8431\n",
            "Epoch 146/200\n",
            "73/73 [==============================] - 0s 3ms/step - loss: 0.4295 - accuracy: 0.8219 - val_loss: 0.3773 - val_accuracy: 0.8408\n",
            "Epoch 147/200\n",
            "73/73 [==============================] - 0s 2ms/step - loss: 0.4314 - accuracy: 0.8205 - val_loss: 0.3778 - val_accuracy: 0.8431\n",
            "Epoch 148/200\n",
            "73/73 [==============================] - 0s 2ms/step - loss: 0.4311 - accuracy: 0.8208 - val_loss: 0.3798 - val_accuracy: 0.8431\n",
            "Epoch 149/200\n",
            "73/73 [==============================] - 0s 2ms/step - loss: 0.4267 - accuracy: 0.8208 - val_loss: 0.3741 - val_accuracy: 0.8431\n",
            "Epoch 150/200\n",
            "73/73 [==============================] - 0s 2ms/step - loss: 0.4221 - accuracy: 0.8239 - val_loss: 0.3761 - val_accuracy: 0.8447\n",
            "Epoch 151/200\n",
            "73/73 [==============================] - 0s 3ms/step - loss: 0.4286 - accuracy: 0.8217 - val_loss: 0.3780 - val_accuracy: 0.8416\n",
            "Epoch 152/200\n",
            "73/73 [==============================] - 0s 2ms/step - loss: 0.4272 - accuracy: 0.8208 - val_loss: 0.3771 - val_accuracy: 0.8416\n",
            "Epoch 153/200\n",
            "73/73 [==============================] - 0s 2ms/step - loss: 0.4295 - accuracy: 0.8212 - val_loss: 0.3769 - val_accuracy: 0.8431\n",
            "Epoch 154/200\n",
            "73/73 [==============================] - 0s 2ms/step - loss: 0.4198 - accuracy: 0.8216 - val_loss: 0.3733 - val_accuracy: 0.8424\n",
            "Epoch 155/200\n",
            "73/73 [==============================] - 0s 2ms/step - loss: 0.4266 - accuracy: 0.8227 - val_loss: 0.3706 - val_accuracy: 0.8447\n",
            "Epoch 156/200\n",
            "73/73 [==============================] - 0s 2ms/step - loss: 0.4269 - accuracy: 0.8216 - val_loss: 0.3731 - val_accuracy: 0.8447\n",
            "Epoch 157/200\n",
            "73/73 [==============================] - 0s 3ms/step - loss: 0.4287 - accuracy: 0.8210 - val_loss: 0.3724 - val_accuracy: 0.8431\n",
            "Epoch 158/200\n",
            "73/73 [==============================] - 0s 2ms/step - loss: 0.4310 - accuracy: 0.8195 - val_loss: 0.3763 - val_accuracy: 0.8431\n",
            "Epoch 159/200\n",
            "73/73 [==============================] - 0s 2ms/step - loss: 0.4252 - accuracy: 0.8219 - val_loss: 0.3764 - val_accuracy: 0.8416\n",
            "Epoch 160/200\n",
            "73/73 [==============================] - 0s 2ms/step - loss: 0.4276 - accuracy: 0.8233 - val_loss: 0.3758 - val_accuracy: 0.8431\n",
            "Epoch 161/200\n",
            "73/73 [==============================] - 0s 2ms/step - loss: 0.4250 - accuracy: 0.8235 - val_loss: 0.3717 - val_accuracy: 0.8455\n",
            "Epoch 162/200\n",
            "73/73 [==============================] - 0s 3ms/step - loss: 0.4239 - accuracy: 0.8241 - val_loss: 0.3742 - val_accuracy: 0.8439\n",
            "Epoch 163/200\n",
            "73/73 [==============================] - 0s 3ms/step - loss: 0.4210 - accuracy: 0.8262 - val_loss: 0.3747 - val_accuracy: 0.8439\n",
            "Epoch 164/200\n",
            "73/73 [==============================] - 0s 2ms/step - loss: 0.4312 - accuracy: 0.8245 - val_loss: 0.3748 - val_accuracy: 0.8447\n",
            "Epoch 165/200\n",
            "73/73 [==============================] - 0s 2ms/step - loss: 0.4253 - accuracy: 0.8251 - val_loss: 0.3741 - val_accuracy: 0.8447\n",
            "Epoch 166/200\n",
            "73/73 [==============================] - 0s 2ms/step - loss: 0.4259 - accuracy: 0.8241 - val_loss: 0.3722 - val_accuracy: 0.8447\n",
            "Epoch 167/200\n",
            "73/73 [==============================] - 0s 2ms/step - loss: 0.4238 - accuracy: 0.8260 - val_loss: 0.3736 - val_accuracy: 0.8447\n",
            "Epoch 168/200\n",
            "73/73 [==============================] - 0s 2ms/step - loss: 0.4257 - accuracy: 0.8252 - val_loss: 0.3718 - val_accuracy: 0.8463\n",
            "Epoch 169/200\n",
            "73/73 [==============================] - 0s 2ms/step - loss: 0.4277 - accuracy: 0.8246 - val_loss: 0.3739 - val_accuracy: 0.8471\n",
            "Epoch 170/200\n",
            "73/73 [==============================] - 0s 2ms/step - loss: 0.4247 - accuracy: 0.8263 - val_loss: 0.3759 - val_accuracy: 0.8455\n",
            "Epoch 171/200\n",
            "73/73 [==============================] - 0s 2ms/step - loss: 0.4299 - accuracy: 0.8220 - val_loss: 0.3773 - val_accuracy: 0.8416\n",
            "Epoch 172/200\n",
            "73/73 [==============================] - 0s 2ms/step - loss: 0.4334 - accuracy: 0.8192 - val_loss: 0.3802 - val_accuracy: 0.8431\n",
            "Epoch 173/200\n",
            "73/73 [==============================] - 0s 3ms/step - loss: 0.4287 - accuracy: 0.8195 - val_loss: 0.3754 - val_accuracy: 0.8447\n",
            "Epoch 174/200\n",
            "73/73 [==============================] - 0s 2ms/step - loss: 0.4193 - accuracy: 0.8269 - val_loss: 0.3739 - val_accuracy: 0.8455\n",
            "Epoch 175/200\n",
            "73/73 [==============================] - 0s 2ms/step - loss: 0.4314 - accuracy: 0.8206 - val_loss: 0.3755 - val_accuracy: 0.8463\n",
            "Epoch 176/200\n",
            "73/73 [==============================] - 0s 3ms/step - loss: 0.4256 - accuracy: 0.8262 - val_loss: 0.3722 - val_accuracy: 0.8471\n",
            "Epoch 177/200\n",
            "73/73 [==============================] - 0s 2ms/step - loss: 0.4229 - accuracy: 0.8238 - val_loss: 0.3709 - val_accuracy: 0.8471\n",
            "Epoch 178/200\n",
            "73/73 [==============================] - 0s 2ms/step - loss: 0.4244 - accuracy: 0.8244 - val_loss: 0.3750 - val_accuracy: 0.8439\n",
            "Epoch 179/200\n",
            "73/73 [==============================] - 0s 2ms/step - loss: 0.4290 - accuracy: 0.8226 - val_loss: 0.3789 - val_accuracy: 0.8400\n",
            "Epoch 180/200\n",
            "73/73 [==============================] - 0s 2ms/step - loss: 0.4324 - accuracy: 0.8228 - val_loss: 0.3746 - val_accuracy: 0.8424\n",
            "Epoch 181/200\n",
            "73/73 [==============================] - 0s 2ms/step - loss: 0.4198 - accuracy: 0.8244 - val_loss: 0.3744 - val_accuracy: 0.8471\n",
            "Epoch 182/200\n",
            "73/73 [==============================] - 0s 3ms/step - loss: 0.4278 - accuracy: 0.8233 - val_loss: 0.3731 - val_accuracy: 0.8494\n",
            "Epoch 183/200\n",
            "73/73 [==============================] - 0s 2ms/step - loss: 0.4274 - accuracy: 0.8210 - val_loss: 0.3743 - val_accuracy: 0.8424\n",
            "Epoch 184/200\n",
            "73/73 [==============================] - 0s 3ms/step - loss: 0.4227 - accuracy: 0.8256 - val_loss: 0.3735 - val_accuracy: 0.8471\n",
            "Epoch 185/200\n",
            "73/73 [==============================] - 0s 2ms/step - loss: 0.4290 - accuracy: 0.8238 - val_loss: 0.3729 - val_accuracy: 0.8447\n",
            "Epoch 186/200\n",
            "73/73 [==============================] - 0s 2ms/step - loss: 0.4329 - accuracy: 0.8223 - val_loss: 0.3773 - val_accuracy: 0.8439\n",
            "Epoch 187/200\n",
            "73/73 [==============================] - 0s 2ms/step - loss: 0.4257 - accuracy: 0.8242 - val_loss: 0.3733 - val_accuracy: 0.8455\n",
            "Epoch 188/200\n",
            "73/73 [==============================] - 0s 2ms/step - loss: 0.4250 - accuracy: 0.8227 - val_loss: 0.3799 - val_accuracy: 0.8416\n",
            "Epoch 189/200\n",
            "73/73 [==============================] - 0s 3ms/step - loss: 0.4282 - accuracy: 0.8203 - val_loss: 0.3735 - val_accuracy: 0.8439\n",
            "Epoch 190/200\n",
            "73/73 [==============================] - 0s 2ms/step - loss: 0.4252 - accuracy: 0.8255 - val_loss: 0.3752 - val_accuracy: 0.8424\n",
            "Epoch 191/200\n",
            "73/73 [==============================] - 0s 2ms/step - loss: 0.4272 - accuracy: 0.8221 - val_loss: 0.3764 - val_accuracy: 0.8455\n",
            "Epoch 192/200\n",
            "73/73 [==============================] - 0s 2ms/step - loss: 0.4252 - accuracy: 0.8244 - val_loss: 0.3744 - val_accuracy: 0.8463\n",
            "Epoch 193/200\n",
            "73/73 [==============================] - 0s 2ms/step - loss: 0.4333 - accuracy: 0.8187 - val_loss: 0.3796 - val_accuracy: 0.8455\n",
            "Epoch 194/200\n",
            "73/73 [==============================] - 0s 2ms/step - loss: 0.4258 - accuracy: 0.8233 - val_loss: 0.3747 - val_accuracy: 0.8463\n",
            "Epoch 195/200\n",
            "73/73 [==============================] - 0s 2ms/step - loss: 0.4149 - accuracy: 0.8275 - val_loss: 0.3731 - val_accuracy: 0.8471\n",
            "Epoch 196/200\n",
            "73/73 [==============================] - 0s 2ms/step - loss: 0.4284 - accuracy: 0.8217 - val_loss: 0.3750 - val_accuracy: 0.8447\n",
            "Epoch 197/200\n",
            "73/73 [==============================] - 0s 2ms/step - loss: 0.4288 - accuracy: 0.8198 - val_loss: 0.3770 - val_accuracy: 0.8471\n",
            "Epoch 198/200\n",
            "73/73 [==============================] - 0s 2ms/step - loss: 0.4219 - accuracy: 0.8298 - val_loss: 0.3749 - val_accuracy: 0.8471\n",
            "Epoch 199/200\n",
            "73/73 [==============================] - 0s 2ms/step - loss: 0.4237 - accuracy: 0.8230 - val_loss: 0.3774 - val_accuracy: 0.8431\n",
            "Epoch 200/200\n",
            "73/73 [==============================] - 0s 2ms/step - loss: 0.4252 - accuracy: 0.8237 - val_loss: 0.3743 - val_accuracy: 0.8455\n"
          ]
        },
        {
          "output_type": "execute_result",
          "data": {
            "text/plain": [
              "<keras.callbacks.History at 0x7efc1b3faa50>"
            ]
          },
          "metadata": {},
          "execution_count": 58
        }
      ],
      "source": [
        "model.fit(x = X_train, y = y_train, validation_split = 0.15, batch_size = 100, epochs = 200, verbose = 1)"
      ]
    },
    {
      "cell_type": "code",
      "execution_count": 59,
      "metadata": {
        "id": "XH4ueub4uWYe",
        "outputId": "63309a9a-d260-4d6b-df53-c51061931947",
        "colab": {
          "base_uri": "https://localhost:8080/",
          "height": 283
        }
      },
      "outputs": [
        {
          "output_type": "execute_result",
          "data": {
            "text/plain": [
              "<matplotlib.axes._subplots.AxesSubplot at 0x7efc1b3f1b10>"
            ]
          },
          "metadata": {},
          "execution_count": 59
        },
        {
          "output_type": "display_data",
          "data": {
            "text/plain": [
              "<Figure size 432x288 with 1 Axes>"
            ],
            "image/png": "[encoded data removed]"
          },
          "metadata": {
            "needs_background": "light"
          }
        }
      ],
      "source": [
        "loss_df = pd.DataFrame(model.history.history)\n",
        "loss_df.plot()"
      ]
    },
    {
      "cell_type": "code",
      "execution_count": 60,
      "metadata": {
        "id": "yts5oVeJuWYe",
        "outputId": "a9c3fd73-309e-450d-83f3-7a7385251eba",
        "colab": {
          "base_uri": "https://localhost:8080/"
        }
      },
      "outputs": [
        {
          "output_type": "stream",
          "name": "stdout",
          "text": [
            "loss :  0.3770880401134491\n",
            "accuracy :  0.8399999737739563\n"
          ]
        }
      ],
      "source": [
        "loss, accuracy = model.evaluate(X_test, y_test, verbose=0)\n",
        "print(\"loss : \", loss)\n",
        "print(\"accuracy : \", accuracy)"
      ]
    },
    {
      "cell_type": "code",
      "execution_count": 61,
      "metadata": {
        "id": "XbYBe1jCuWYe",
        "outputId": "47a40636-7a4c-4db5-b3fe-87eb7b0be5de",
        "colab": {
          "base_uri": "https://localhost:8080/"
        }
      },
      "outputs": [
        {
          "output_type": "stream",
          "name": "stdout",
          "text": [
            "[[1179   15]\n",
            " [ 225   81]]\n",
            "              precision    recall  f1-score   support\n",
            "\n",
            "           0       0.84      0.99      0.91      1194\n",
            "           1       0.84      0.26      0.40       306\n",
            "\n",
            "    accuracy                           0.84      1500\n",
            "   macro avg       0.84      0.63      0.66      1500\n",
            "weighted avg       0.84      0.84      0.80      1500\n",
            "\n"
          ]
        }
      ],
      "source": [
        "y_pred = model.predict(X_test) > 0.5\n",
        "print(confusion_matrix(y_test, y_pred))\n",
        "print(classification_report(y_test, y_pred))"
      ]
    },
    {
      "cell_type": "markdown",
      "metadata": {
        "id": "FQGthQTa6QO9"
      },
      "source": [
        "### Add Early Stop"
      ]
    },
    {
      "cell_type": "code",
      "source": [
        ""
      ],
      "metadata": {
        "id": "-Euc3__VJVeI"
      },
      "execution_count": 61,
      "outputs": []
    },
    {
      "cell_type": "code",
      "execution_count": 62,
      "metadata": {
        "id": "4D17nNk7vrDT"
      },
      "outputs": [],
      "source": [
        "from tensorflow.keras.callbacks import EarlyStopping"
      ]
    },
    {
      "cell_type": "code",
      "execution_count": 63,
      "metadata": {
        "id": "VcPSEww_u_wp"
      },
      "outputs": [],
      "source": [
        "tf.random.set_seed(seed)\n",
        "\n",
        "model = Sequential()\n",
        "\n",
        "model.add(Dense(20, activation = \"relu\", input_dim = X_train.shape[1]))\n",
        "model.add(Dense(10, activation = \"relu\"))\n",
        "model.add(Dense(5, activation = \"relu\"))\n",
        "model.add(Dense(1, activation = \"sigmoid\"))\n",
        "\n",
        "model.compile(optimizer = \"adam\", loss = \"binary_crossentropy\", metrics = [\"accuracy\"])  "
      ]
    },
    {
      "cell_type": "code",
      "execution_count": 64,
      "metadata": {
        "id": "7gT47GwcwC2Q"
      },
      "outputs": [],
      "source": [
        "early_stop = EarlyStopping(monitor = \"val_loss\", mode = \"min\", verbose = 15, patience = 10, restore_best_weights = True) "
      ]
    },
    {
      "cell_type": "code",
      "execution_count": 65,
      "metadata": {
        "colab": {
          "base_uri": "https://localhost:8080/"
        },
        "id": "J6h5PWZqwHq0",
        "outputId": "88344785-ad49-4e0b-8897-7b92e2e99b31"
      },
      "outputs": [
        {
          "output_type": "stream",
          "name": "stdout",
          "text": [
            "Epoch 1/300\n",
            "73/73 [==============================] - 1s 7ms/step - loss: 0.6362 - accuracy: 0.7269 - val_loss: 0.5466 - val_accuracy: 0.8008\n",
            "Epoch 2/300\n",
            "73/73 [==============================] - 0s 4ms/step - loss: 0.5173 - accuracy: 0.7956 - val_loss: 0.4980 - val_accuracy: 0.8008\n",
            "Epoch 3/300\n",
            "73/73 [==============================] - 0s 4ms/step - loss: 0.4991 - accuracy: 0.7956 - val_loss: 0.4873 - val_accuracy: 0.8008\n",
            "Epoch 4/300\n",
            "73/73 [==============================] - 0s 3ms/step - loss: 0.4856 - accuracy: 0.7956 - val_loss: 0.4736 - val_accuracy: 0.8008\n",
            "Epoch 5/300\n",
            "73/73 [==============================] - 0s 3ms/step - loss: 0.4680 - accuracy: 0.7965 - val_loss: 0.4590 - val_accuracy: 0.8078\n",
            "Epoch 6/300\n",
            "73/73 [==============================] - 0s 4ms/step - loss: 0.4514 - accuracy: 0.8036 - val_loss: 0.4470 - val_accuracy: 0.8102\n",
            "Epoch 7/300\n",
            "73/73 [==============================] - 0s 4ms/step - loss: 0.4371 - accuracy: 0.8125 - val_loss: 0.4349 - val_accuracy: 0.8157\n",
            "Epoch 8/300\n",
            "73/73 [==============================] - 0s 4ms/step - loss: 0.4267 - accuracy: 0.8151 - val_loss: 0.4262 - val_accuracy: 0.8180\n",
            "Epoch 9/300\n",
            "73/73 [==============================] - 0s 4ms/step - loss: 0.4167 - accuracy: 0.8169 - val_loss: 0.4178 - val_accuracy: 0.8165\n",
            "Epoch 10/300\n",
            "73/73 [==============================] - 0s 3ms/step - loss: 0.4089 - accuracy: 0.8227 - val_loss: 0.4144 - val_accuracy: 0.8180\n",
            "Epoch 11/300\n",
            "73/73 [==============================] - 0s 2ms/step - loss: 0.4027 - accuracy: 0.8241 - val_loss: 0.4034 - val_accuracy: 0.8337\n",
            "Epoch 12/300\n",
            "73/73 [==============================] - 0s 2ms/step - loss: 0.3988 - accuracy: 0.8269 - val_loss: 0.3988 - val_accuracy: 0.8282\n",
            "Epoch 13/300\n",
            "73/73 [==============================] - 0s 2ms/step - loss: 0.3943 - accuracy: 0.8303 - val_loss: 0.3932 - val_accuracy: 0.8337\n",
            "Epoch 14/300\n",
            "73/73 [==============================] - 0s 2ms/step - loss: 0.3898 - accuracy: 0.8354 - val_loss: 0.3888 - val_accuracy: 0.8400\n",
            "Epoch 15/300\n",
            "73/73 [==============================] - 0s 2ms/step - loss: 0.3858 - accuracy: 0.8363 - val_loss: 0.3849 - val_accuracy: 0.8416\n",
            "Epoch 16/300\n",
            "73/73 [==============================] - 0s 2ms/step - loss: 0.3830 - accuracy: 0.8393 - val_loss: 0.3825 - val_accuracy: 0.8392\n",
            "Epoch 17/300\n",
            "73/73 [==============================] - 0s 2ms/step - loss: 0.3800 - accuracy: 0.8421 - val_loss: 0.3809 - val_accuracy: 0.8455\n",
            "Epoch 18/300\n",
            "73/73 [==============================] - 0s 2ms/step - loss: 0.3768 - accuracy: 0.8419 - val_loss: 0.3729 - val_accuracy: 0.8502\n",
            "Epoch 19/300\n",
            "73/73 [==============================] - 0s 2ms/step - loss: 0.3741 - accuracy: 0.8455 - val_loss: 0.3708 - val_accuracy: 0.8471\n",
            "Epoch 20/300\n",
            "73/73 [==============================] - 0s 2ms/step - loss: 0.3722 - accuracy: 0.8448 - val_loss: 0.3685 - val_accuracy: 0.8494\n",
            "Epoch 21/300\n",
            "73/73 [==============================] - 0s 2ms/step - loss: 0.3711 - accuracy: 0.8469 - val_loss: 0.3664 - val_accuracy: 0.8580\n",
            "Epoch 22/300\n",
            "73/73 [==============================] - 0s 2ms/step - loss: 0.3674 - accuracy: 0.8504 - val_loss: 0.3658 - val_accuracy: 0.8541\n",
            "Epoch 23/300\n",
            "73/73 [==============================] - 0s 2ms/step - loss: 0.3660 - accuracy: 0.8520 - val_loss: 0.3627 - val_accuracy: 0.8533\n",
            "Epoch 24/300\n",
            "73/73 [==============================] - 0s 2ms/step - loss: 0.3639 - accuracy: 0.8505 - val_loss: 0.3619 - val_accuracy: 0.8565\n",
            "Epoch 25/300\n",
            "73/73 [==============================] - 0s 2ms/step - loss: 0.3626 - accuracy: 0.8508 - val_loss: 0.3607 - val_accuracy: 0.8580\n",
            "Epoch 26/300\n",
            "73/73 [==============================] - 0s 2ms/step - loss: 0.3620 - accuracy: 0.8529 - val_loss: 0.3612 - val_accuracy: 0.8596\n",
            "Epoch 27/300\n",
            "73/73 [==============================] - 0s 2ms/step - loss: 0.3613 - accuracy: 0.8561 - val_loss: 0.3562 - val_accuracy: 0.8612\n",
            "Epoch 28/300\n",
            "73/73 [==============================] - 0s 2ms/step - loss: 0.3596 - accuracy: 0.8533 - val_loss: 0.3552 - val_accuracy: 0.8612\n",
            "Epoch 29/300\n",
            "73/73 [==============================] - 0s 3ms/step - loss: 0.3570 - accuracy: 0.8555 - val_loss: 0.3535 - val_accuracy: 0.8667\n",
            "Epoch 30/300\n",
            "73/73 [==============================] - 0s 2ms/step - loss: 0.3569 - accuracy: 0.8572 - val_loss: 0.3548 - val_accuracy: 0.8627\n",
            "Epoch 31/300\n",
            "73/73 [==============================] - 0s 3ms/step - loss: 0.3564 - accuracy: 0.8541 - val_loss: 0.3525 - val_accuracy: 0.8643\n",
            "Epoch 32/300\n",
            "73/73 [==============================] - 0s 2ms/step - loss: 0.3553 - accuracy: 0.8565 - val_loss: 0.3544 - val_accuracy: 0.8627\n",
            "Epoch 33/300\n",
            "73/73 [==============================] - 0s 2ms/step - loss: 0.3555 - accuracy: 0.8570 - val_loss: 0.3557 - val_accuracy: 0.8612\n",
            "Epoch 34/300\n",
            "73/73 [==============================] - 0s 2ms/step - loss: 0.3545 - accuracy: 0.8570 - val_loss: 0.3535 - val_accuracy: 0.8627\n",
            "Epoch 35/300\n",
            "73/73 [==============================] - 0s 2ms/step - loss: 0.3550 - accuracy: 0.8570 - val_loss: 0.3515 - val_accuracy: 0.8675\n",
            "Epoch 36/300\n",
            "73/73 [==============================] - 0s 2ms/step - loss: 0.3540 - accuracy: 0.8561 - val_loss: 0.3505 - val_accuracy: 0.8635\n",
            "Epoch 37/300\n",
            "73/73 [==============================] - 0s 2ms/step - loss: 0.3535 - accuracy: 0.8566 - val_loss: 0.3517 - val_accuracy: 0.8651\n",
            "Epoch 38/300\n",
            "73/73 [==============================] - 0s 2ms/step - loss: 0.3513 - accuracy: 0.8562 - val_loss: 0.3553 - val_accuracy: 0.8588\n",
            "Epoch 39/300\n",
            "73/73 [==============================] - 0s 2ms/step - loss: 0.3511 - accuracy: 0.8576 - val_loss: 0.3479 - val_accuracy: 0.8635\n",
            "Epoch 40/300\n",
            "73/73 [==============================] - 0s 3ms/step - loss: 0.3524 - accuracy: 0.8559 - val_loss: 0.3539 - val_accuracy: 0.8682\n",
            "Epoch 41/300\n",
            "73/73 [==============================] - 0s 2ms/step - loss: 0.3514 - accuracy: 0.8540 - val_loss: 0.3485 - val_accuracy: 0.8620\n",
            "Epoch 42/300\n",
            "73/73 [==============================] - 0s 3ms/step - loss: 0.3507 - accuracy: 0.8561 - val_loss: 0.3477 - val_accuracy: 0.8627\n",
            "Epoch 43/300\n",
            "73/73 [==============================] - 0s 3ms/step - loss: 0.3494 - accuracy: 0.8579 - val_loss: 0.3495 - val_accuracy: 0.8620\n",
            "Epoch 44/300\n",
            "73/73 [==============================] - 0s 2ms/step - loss: 0.3498 - accuracy: 0.8579 - val_loss: 0.3482 - val_accuracy: 0.8627\n",
            "Epoch 45/300\n",
            "73/73 [==============================] - 0s 2ms/step - loss: 0.3496 - accuracy: 0.8566 - val_loss: 0.3499 - val_accuracy: 0.8651\n",
            "Epoch 46/300\n",
            "73/73 [==============================] - 0s 2ms/step - loss: 0.3481 - accuracy: 0.8576 - val_loss: 0.3516 - val_accuracy: 0.8580\n",
            "Epoch 47/300\n",
            "73/73 [==============================] - 0s 2ms/step - loss: 0.3486 - accuracy: 0.8559 - val_loss: 0.3480 - val_accuracy: 0.8627\n",
            "Epoch 48/300\n",
            "73/73 [==============================] - 0s 2ms/step - loss: 0.3487 - accuracy: 0.8574 - val_loss: 0.3461 - val_accuracy: 0.8643\n",
            "Epoch 49/300\n",
            "73/73 [==============================] - 0s 2ms/step - loss: 0.3487 - accuracy: 0.8567 - val_loss: 0.3467 - val_accuracy: 0.8682\n",
            "Epoch 50/300\n",
            "73/73 [==============================] - 0s 2ms/step - loss: 0.3497 - accuracy: 0.8554 - val_loss: 0.3513 - val_accuracy: 0.8604\n",
            "Epoch 51/300\n",
            "73/73 [==============================] - 0s 2ms/step - loss: 0.3479 - accuracy: 0.8594 - val_loss: 0.3488 - val_accuracy: 0.8627\n",
            "Epoch 52/300\n",
            "73/73 [==============================] - 0s 2ms/step - loss: 0.3478 - accuracy: 0.8576 - val_loss: 0.3449 - val_accuracy: 0.8635\n",
            "Epoch 53/300\n",
            "73/73 [==============================] - 0s 2ms/step - loss: 0.3470 - accuracy: 0.8588 - val_loss: 0.3455 - val_accuracy: 0.8604\n",
            "Epoch 54/300\n",
            "73/73 [==============================] - 0s 2ms/step - loss: 0.3473 - accuracy: 0.8563 - val_loss: 0.3493 - val_accuracy: 0.8612\n",
            "Epoch 55/300\n",
            "73/73 [==============================] - 0s 2ms/step - loss: 0.3469 - accuracy: 0.8581 - val_loss: 0.3469 - val_accuracy: 0.8620\n",
            "Epoch 56/300\n",
            "73/73 [==============================] - 0s 2ms/step - loss: 0.3462 - accuracy: 0.8573 - val_loss: 0.3458 - val_accuracy: 0.8627\n",
            "Epoch 57/300\n",
            "73/73 [==============================] - 0s 2ms/step - loss: 0.3465 - accuracy: 0.8590 - val_loss: 0.3463 - val_accuracy: 0.8604\n",
            "Epoch 58/300\n",
            "73/73 [==============================] - 0s 2ms/step - loss: 0.3465 - accuracy: 0.8580 - val_loss: 0.3471 - val_accuracy: 0.8604\n",
            "Epoch 59/300\n",
            "73/73 [==============================] - 0s 2ms/step - loss: 0.3458 - accuracy: 0.8570 - val_loss: 0.3469 - val_accuracy: 0.8643\n",
            "Epoch 60/300\n",
            "73/73 [==============================] - 0s 3ms/step - loss: 0.3466 - accuracy: 0.8594 - val_loss: 0.3462 - val_accuracy: 0.8635\n",
            "Epoch 61/300\n",
            "73/73 [==============================] - 0s 2ms/step - loss: 0.3452 - accuracy: 0.8594 - val_loss: 0.3450 - val_accuracy: 0.8635\n",
            "Epoch 62/300\n",
            "64/73 [=========================>....] - ETA: 0s - loss: 0.3436 - accuracy: 0.8602Restoring model weights from the end of the best epoch: 52.\n",
            "73/73 [==============================] - 0s 2ms/step - loss: 0.3459 - accuracy: 0.8585 - val_loss: 0.3455 - val_accuracy: 0.8627\n",
            "Epoch 62: early stopping\n"
          ]
        },
        {
          "output_type": "execute_result",
          "data": {
            "text/plain": [
              "<keras.callbacks.History at 0x7efc1b18b990>"
            ]
          },
          "metadata": {},
          "execution_count": 65
        }
      ],
      "source": [
        "model.fit(x = X_train, y = y_train, validation_split = 0.15, batch_size = 100, epochs = 300, verbose = 1,  \n",
        "          callbacks = [early_stop])"
      ]
    },
    {
      "cell_type": "code",
      "execution_count": 66,
      "metadata": {
        "colab": {
          "base_uri": "https://localhost:8080/",
          "height": 265
        },
        "id": "_y5lzpn-xKkj",
        "outputId": "31a94995-cfb2-4c88-eb8f-bd01cc33a24d"
      },
      "outputs": [
        {
          "output_type": "display_data",
          "data": {
            "text/plain": [
              "<Figure size 432x288 with 1 Axes>"
            ],
            "image/png": "[encoded data removed]"
          },
          "metadata": {
            "needs_background": "light"
          }
        }
      ],
      "source": [
        "loss_df = pd.DataFrame(model.history.history)\n",
        "loss_df.plot();                                               "
      ]
    },
    {
      "cell_type": "code",
      "execution_count": 67,
      "metadata": {
        "id": "6ViXx55xuWYX",
        "outputId": "c12bbd52-4fc9-4c78-fae6-997cf1fbe8b4",
        "colab": {
          "base_uri": "https://localhost:8080/"
        }
      },
      "outputs": [
        {
          "output_type": "stream",
          "name": "stdout",
          "text": [
            "loss :  0.35988152027130127\n",
            "accuracy :  0.8453333377838135\n"
          ]
        }
      ],
      "source": [
        "loss, accuracy = model.evaluate(X_test, y_test, verbose=0)\n",
        "print(\"loss : \", loss)\n",
        "print(\"accuracy : \", accuracy)                                             "
      ]
    },
    {
      "cell_type": "code",
      "execution_count": 68,
      "metadata": {
        "id": "HBn4BqzYuWYX",
        "outputId": "9e055373-489c-41d5-8336-0d300bc971a2",
        "colab": {
          "base_uri": "https://localhost:8080/"
        }
      },
      "outputs": [
        {
          "output_type": "stream",
          "name": "stdout",
          "text": [
            "[[1140   54]\n",
            " [ 178  128]]\n",
            "              precision    recall  f1-score   support\n",
            "\n",
            "           0       0.86      0.95      0.91      1194\n",
            "           1       0.70      0.42      0.52       306\n",
            "\n",
            "    accuracy                           0.85      1500\n",
            "   macro avg       0.78      0.69      0.72      1500\n",
            "weighted avg       0.83      0.85      0.83      1500\n",
            "\n"
          ]
        }
      ],
      "source": [
        "y_pred = model.predict(X_test) > 0.5\n",
        "#y_pred = model.predict_classes(X_test) for tf 2.5.0\n",
        "print(confusion_matrix(y_test, y_pred))\n",
        "print(classification_report(y_test, y_pred))           "
      ]
    },
    {
      "cell_type": "markdown",
      "metadata": {
        "id": "VHX0g5WA6QO9"
      },
      "source": [
        "#### Monitor the \"val_loss\" as metric"
      ]
    },
    {
      "cell_type": "code",
      "execution_count": 68,
      "metadata": {
        "id": "g3tIiORt6QO9"
      },
      "outputs": [],
      "source": [
        ""
      ]
    },
    {
      "cell_type": "markdown",
      "metadata": {
        "id": "oTV_aryx6QO-"
      },
      "source": [
        "#### Monitor the \"val_recall\" as metric"
      ]
    },
    {
      "cell_type": "code",
      "execution_count": 68,
      "metadata": {
        "id": "kW4VnTvK6QO-"
      },
      "outputs": [],
      "source": [
        ""
      ]
    },
    {
      "cell_type": "markdown",
      "metadata": {
        "id": "yD2SxocD6QO-"
      },
      "source": [
        "## GridSearchCV"
      ]
    },
    {
      "cell_type": "code",
      "execution_count": 68,
      "metadata": {
        "id": "w7IibU526QO-"
      },
      "outputs": [],
      "source": [
        ""
      ]
    },
    {
      "cell_type": "markdown",
      "metadata": {
        "id": "q-6K09zX6QO-"
      },
      "source": [
        "### Evaluate The Model\n",
        "\n",
        "- Plot the model history to observe the changing of metrics\n",
        "- Make prediction to see \"confusion matrix\" and \"classification report\"\n",
        "- Check ROC (Receiver Operating Curve) and AUC (Area Under Curve) for the model"
      ]
    },
    {
      "cell_type": "code",
      "execution_count": 68,
      "metadata": {
        "id": "RSDFsmCA6QO_"
      },
      "outputs": [],
      "source": [
        ""
      ]
    },
    {
      "cell_type": "markdown",
      "metadata": {
        "id": "3BnkWw-86QO_"
      },
      "source": [
        "# Final Model and Model Deployment"
      ]
    },
    {
      "cell_type": "code",
      "execution_count": 68,
      "metadata": {
        "id": "L2uxD6iC6QO_"
      },
      "outputs": [],
      "source": [
        ""
      ]
    },
    {
      "cell_type": "code",
      "execution_count": 69,
      "metadata": {
        "ExecuteTime": {
          "end_time": "2022-06-21T18:21:26.826167Z",
          "start_time": "2022-06-21T18:21:26.812228Z"
        },
        "id": "86kSYjSXBA3g"
      },
      "outputs": [],
      "source": [
        "import pickle # to save the model or scalling parameters\n",
        "\n",
        "pickle.dump(scaler, open(\"scaler_churn\", 'wb')) # to save the scaler"
      ]
    },
    {
      "cell_type": "code",
      "execution_count": 70,
      "metadata": {
        "ExecuteTime": {
          "end_time": "2022-06-21T18:22:13.465508Z",
          "start_time": "2022-06-21T18:21:57.196790Z"
        },
        "scrolled": false,
        "id": "0pCpckyhBA3g",
        "outputId": "d511231a-ab1d-4755-9661-3e4bc43953c8",
        "colab": {
          "base_uri": "https://localhost:8080/"
        }
      },
      "outputs": [
        {
          "output_type": "stream",
          "name": "stdout",
          "text": [
            "Epoch 1/200\n",
            "85/85 [==============================] - 1s 5ms/step - loss: 0.6693 - recall: 0.8030 - val_loss: 0.6986 - val_recall: 0.8007\n",
            "Epoch 2/200\n",
            "85/85 [==============================] - 0s 2ms/step - loss: 0.6003 - recall: 0.6805 - val_loss: 0.6169 - val_recall: 0.7516\n",
            "Epoch 3/200\n",
            "85/85 [==============================] - 0s 2ms/step - loss: 0.5530 - recall: 0.7129 - val_loss: 0.6140 - val_recall: 0.7778\n",
            "Epoch 4/200\n",
            "85/85 [==============================] - 0s 2ms/step - loss: 0.5288 - recall: 0.7296 - val_loss: 0.5226 - val_recall: 0.7288\n",
            "Epoch 5/200\n",
            "85/85 [==============================] - 0s 2ms/step - loss: 0.5213 - recall: 0.7279 - val_loss: 0.5038 - val_recall: 0.7124\n",
            "Epoch 6/200\n",
            "85/85 [==============================] - 0s 2ms/step - loss: 0.5087 - recall: 0.7308 - val_loss: 0.4776 - val_recall: 0.6961\n",
            "Epoch 7/200\n",
            "85/85 [==============================] - 0s 2ms/step - loss: 0.5041 - recall: 0.7273 - val_loss: 0.5272 - val_recall: 0.7647\n",
            "Epoch 8/200\n",
            "85/85 [==============================] - 0s 2ms/step - loss: 0.4990 - recall: 0.7319 - val_loss: 0.6403 - val_recall: 0.8497\n",
            "Epoch 9/200\n",
            "85/85 [==============================] - 0s 2ms/step - loss: 0.5045 - recall: 0.7325 - val_loss: 0.5575 - val_recall: 0.7974\n",
            "Epoch 10/200\n",
            "85/85 [==============================] - 0s 2ms/step - loss: 0.4959 - recall: 0.7354 - val_loss: 0.4997 - val_recall: 0.7418\n",
            "Epoch 11/200\n",
            "85/85 [==============================] - 0s 2ms/step - loss: 0.4944 - recall: 0.7250 - val_loss: 0.4936 - val_recall: 0.7484\n",
            "Epoch 12/200\n",
            "85/85 [==============================] - 0s 2ms/step - loss: 0.4946 - recall: 0.7371 - val_loss: 0.5093 - val_recall: 0.7614\n",
            "Epoch 13/200\n",
            "85/85 [==============================] - 0s 2ms/step - loss: 0.4904 - recall: 0.7314 - val_loss: 0.5467 - val_recall: 0.8007\n",
            "Epoch 14/200\n",
            "85/85 [==============================] - 0s 2ms/step - loss: 0.4945 - recall: 0.7423 - val_loss: 0.5627 - val_recall: 0.8268\n",
            "Epoch 15/200\n",
            "85/85 [==============================] - 0s 2ms/step - loss: 0.4896 - recall: 0.7377 - val_loss: 0.4980 - val_recall: 0.7484\n",
            "Epoch 16/200\n",
            "63/85 [=====================>........] - ETA: 0s - loss: 0.4819 - recall: 0.7557Restoring model weights from the end of the best epoch: 6.\n",
            "85/85 [==============================] - 0s 2ms/step - loss: 0.4878 - recall: 0.7481 - val_loss: 0.5053 - val_recall: 0.7778\n",
            "Epoch 16: early stopping\n"
          ]
        },
        {
          "output_type": "execute_result",
          "data": {
            "text/plain": [
              "<keras.callbacks.History at 0x7efc1b3fde50>"
            ]
          },
          "metadata": {},
          "execution_count": 70
        }
      ],
      "source": [
        "tf.random.set_seed(42)\n",
        "model = Sequential()\n",
        "\n",
        "model.add(Dense(20, activation=\"relu\"))\n",
        "model.add(Dense(10, activation=\"relu\"))\n",
        "model.add(Dense(5, activation=\"relu\"))\n",
        "model.add(Dense(1, activation=\"sigmoid\"))\n",
        "\n",
        "model.compile(optimizer=Adam(learning_rate=0.003),\n",
        "              loss=\"binary_crossentropy\",\n",
        "              metrics=[\"Recall\"])\n",
        "\n",
        "model.fit(x=X_train,\n",
        "          y=y_train,\n",
        "          validation_data=(X_test, y_test),\n",
        "          callbacks=[early_stop],\n",
        "          batch_size=100,\n",
        "          epochs=200,\n",
        "          verbose=1,\n",
        "          class_weight=class_weights)"
      ]
    },
    {
      "cell_type": "code",
      "execution_count": 71,
      "metadata": {
        "ExecuteTime": {
          "end_time": "2022-06-21T18:25:59.954432Z",
          "start_time": "2022-06-21T18:25:59.679398Z"
        },
        "cell_style": "split",
        "scrolled": true,
        "id": "vwp1JAB3BA3h",
        "outputId": "323928ef-18f4-48ca-b232-892793338e36",
        "colab": {
          "base_uri": "https://localhost:8080/",
          "height": 283
        }
      },
      "outputs": [
        {
          "output_type": "execute_result",
          "data": {
            "text/plain": [
              "<matplotlib.axes._subplots.AxesSubplot at 0x7efc1b860d50>"
            ]
          },
          "metadata": {},
          "execution_count": 71
        },
        {
          "output_type": "display_data",
          "data": {
            "text/plain": [
              "<Figure size 432x288 with 1 Axes>"
            ],
            "image/png": "[encoded data removed]"
          },
          "metadata": {
            "needs_background": "light"
          }
        }
      ],
      "source": [
        "loss_df = pd.DataFrame(model.history.history)\n",
        "loss_df.plot()"
      ]
    },
    {
      "cell_type": "code",
      "execution_count": 72,
      "metadata": {
        "ExecuteTime": {
          "end_time": "2022-06-21T18:26:06.303006Z",
          "start_time": "2022-06-21T18:26:05.950185Z"
        },
        "cell_style": "split",
        "scrolled": false,
        "id": "hI-05oEQBA3h",
        "outputId": "c0adf4b4-1f19-4856-8e3f-1eca3095b154",
        "colab": {
          "base_uri": "https://localhost:8080/"
        }
      },
      "outputs": [
        {
          "output_type": "stream",
          "name": "stdout",
          "text": [
            "[[951 243]\n",
            " [ 93 213]]\n",
            "              precision    recall  f1-score   support\n",
            "\n",
            "           0       0.91      0.80      0.85      1194\n",
            "           1       0.47      0.70      0.56       306\n",
            "\n",
            "    accuracy                           0.78      1500\n",
            "   macro avg       0.69      0.75      0.70      1500\n",
            "weighted avg       0.82      0.78      0.79      1500\n",
            "\n"
          ]
        }
      ],
      "source": [
        "y_pred = (model.predict(X_test) > .5).astype(\"int32\")\n",
        "print(confusion_matrix(y_test, y_pred))\n",
        "print(classification_report(y_test, y_pred))"
      ]
    },
    {
      "cell_type": "code",
      "execution_count": 73,
      "metadata": {
        "ExecuteTime": {
          "end_time": "2022-06-21T18:28:13.878308Z",
          "start_time": "2022-06-21T18:28:13.815503Z"
        },
        "id": "4jzwKkbZBA3h"
      },
      "outputs": [],
      "source": [
        "model.save('model_churn.h5')"
      ]
    },
    {
      "cell_type": "markdown",
      "metadata": {
        "id": "Cq10ovAX6daY"
      },
      "source": [
        "## Prediction"
      ]
    },
    {
      "cell_type": "code",
      "execution_count": 73,
      "metadata": {
        "id": "knrDA2fw6QO_"
      },
      "outputs": [],
      "source": [
        ""
      ]
    },
    {
      "cell_type": "code",
      "execution_count": 74,
      "metadata": {
        "ExecuteTime": {
          "end_time": "2022-06-21T18:29:41.629799Z",
          "start_time": "2022-06-21T18:29:41.607910Z"
        },
        "id": "YRgqZoWQBA3i",
        "outputId": "02815748-22f8-443d-8693-4bd621db4feb",
        "colab": {
          "base_uri": "https://localhost:8080/"
        }
      },
      "outputs": [
        {
          "output_type": "execute_result",
          "data": {
            "text/plain": [
              "CreditScore          619.000\n",
              "Age                   42.000\n",
              "Tenure                 2.000\n",
              "Balance                0.000\n",
              "NumOfProducts          1.000\n",
              "HasCrCard              1.000\n",
              "IsActiveMember         1.000\n",
              "EstimatedSalary   101348.880\n",
              "Gender_Female          1.000\n",
              "Gender_Male            0.000\n",
              "Name: 0, dtype: float64"
            ]
          },
          "metadata": {},
          "execution_count": 74
        }
      ],
      "source": [
        "single_customer = df.drop('Exited', axis=1).iloc[0]\n",
        "single_customer"
      ]
    },
    {
      "cell_type": "code",
      "execution_count": 75,
      "metadata": {
        "ExecuteTime": {
          "end_time": "2022-06-21T18:29:52.577045Z",
          "start_time": "2022-06-21T18:29:52.560573Z"
        },
        "id": "TgG5PixRBA3i"
      },
      "outputs": [],
      "source": [
        "single_customer1 = single_customer.copy()\n",
        "single_customer1[\"Age\"] = 40\n",
        "single_customer1[\"Balance\"] = 50000"
      ]
    },
    {
      "cell_type": "code",
      "source": [
        "single_customer.values"
      ],
      "metadata": {
        "colab": {
          "base_uri": "https://localhost:8080/"
        },
        "id": "ZNR2ctJQHRNv",
        "outputId": "c00a56ea-364e-4778-af45-d75e857e7bfd"
      },
      "execution_count": 76,
      "outputs": [
        {
          "output_type": "execute_result",
          "data": {
            "text/plain": [
              "array([6.1900000e+02, 4.2000000e+01, 2.0000000e+00, 0.0000000e+00,\n",
              "       1.0000000e+00, 1.0000000e+00, 1.0000000e+00, 1.0134888e+05,\n",
              "       1.0000000e+00, 0.0000000e+00])"
            ]
          },
          "metadata": {},
          "execution_count": 76
        }
      ]
    },
    {
      "cell_type": "code",
      "execution_count": 77,
      "metadata": {
        "ExecuteTime": {
          "end_time": "2022-06-21T18:30:00.635052Z",
          "start_time": "2022-06-21T18:30:00.598160Z"
        },
        "id": "GL5WXOxwBA3i",
        "outputId": "c2aa8a21-e584-4dd6-8b71-8487fe893bf5",
        "colab": {
          "base_uri": "https://localhost:8080/"
        }
      },
      "outputs": [
        {
          "output_type": "execute_result",
          "data": {
            "text/plain": [
              "array([[0.538     , 0.32432432, 0.2       , 0.        , 0.        ,\n",
              "        1.        , 1.        , 0.50673489, 1.        , 0.        ]])"
            ]
          },
          "metadata": {},
          "execution_count": 77
        }
      ],
      "source": [
        "single_customer = scaler.transform(single_customer.values.reshape(-1, 10))\n",
        "single_customer"
      ]
    },
    {
      "cell_type": "code",
      "execution_count": 78,
      "metadata": {
        "ExecuteTime": {
          "end_time": "2022-06-21T18:30:20.459029Z",
          "start_time": "2022-06-21T18:30:20.426155Z"
        },
        "id": "jPQiFlamBA3j",
        "outputId": "6ebfaa38-22d9-4cd7-d389-0ecec3fa9cd1",
        "colab": {
          "base_uri": "https://localhost:8080/"
        }
      },
      "outputs": [
        {
          "output_type": "execute_result",
          "data": {
            "text/plain": [
              "array([[0.538     , 0.2972973 , 0.2       , 0.20974249, 0.        ,\n",
              "        1.        , 1.        , 0.50673489, 1.        , 0.        ]])"
            ]
          },
          "metadata": {},
          "execution_count": 78
        }
      ],
      "source": [
        "single_customer1 = scaler.transform(single_customer1.values.reshape(-1, 10))\n",
        "single_customer1"
      ]
    },
    {
      "cell_type": "code",
      "execution_count": 79,
      "metadata": {
        "ExecuteTime": {
          "end_time": "2022-06-21T18:30:31.001398Z",
          "start_time": "2022-06-21T18:30:30.868600Z"
        },
        "id": "EyGHEKStBA3j",
        "outputId": "c31fc7e0-1f77-4e7b-fa46-7d6350bee210",
        "colab": {
          "base_uri": "https://localhost:8080/"
        }
      },
      "outputs": [
        {
          "output_type": "execute_result",
          "data": {
            "text/plain": [
              "array([[0.42644274]], dtype=float32)"
            ]
          },
          "metadata": {},
          "execution_count": 79
        }
      ],
      "source": [
        "model.predict(single_customer)"
      ]
    },
    {
      "cell_type": "code",
      "execution_count": 80,
      "metadata": {
        "ExecuteTime": {
          "end_time": "2022-06-08T00:35:27.785188Z",
          "start_time": "2022-06-08T00:35:27.749285Z"
        },
        "id": "5t9ToMqkBA3j",
        "outputId": "512b25d3-415a-4938-d617-a01d6cef96a8",
        "colab": {
          "base_uri": "https://localhost:8080/"
        }
      },
      "outputs": [
        {
          "output_type": "execute_result",
          "data": {
            "text/plain": [
              "1"
            ]
          },
          "metadata": {},
          "execution_count": 80
        }
      ],
      "source": [
        "df[\"Exited\"].iloc[0]"
      ]
    },
    {
      "cell_type": "code",
      "execution_count": 81,
      "metadata": {
        "ExecuteTime": {
          "end_time": "2022-06-21T18:31:03.558693Z",
          "start_time": "2022-06-21T18:31:03.427602Z"
        },
        "id": "Cm0F_OhFBA3k",
        "outputId": "1350814f-3af3-471b-f3a0-eb32a6773492",
        "colab": {
          "base_uri": "https://localhost:8080/"
        }
      },
      "outputs": [
        {
          "output_type": "execute_result",
          "data": {
            "text/plain": [
              "array([[0.41640523]], dtype=float32)"
            ]
          },
          "metadata": {},
          "execution_count": 81
        }
      ],
      "source": [
        "model.predict(single_customer1) "
      ]
    },
    {
      "cell_type": "markdown",
      "metadata": {
        "id": "oOenV9nu6QPA"
      },
      "source": [
        "___\n",
        "\n",
        "<p style=\"text-align: center;\"><img src=\"https://docs.google.com/uc?id=1lY0Uj5R04yMY3-ZppPWxqCr5pvBLYPnV\" class=\"img-fluid\" alt=\"CLRSWY\"></p>\n",
        "\n",
        "___"
      ]
    }
  ],
  "metadata": {
    "colab": {
      "collapsed_sections": [],
      "name": "DL-Assignment-1 (Classification with ANN-Churn Prediction)-Student.ipynb",
      "provenance": [],
      "toc_visible": true,
      "include_colab_link": true
    },
    "kernelspec": {
      "display_name": "Python 3",
      "language": "python",
      "name": "python3"
    },
    "language_info": {
      "codemirror_mode": {
        "name": "ipython",
        "version": 3
      },
      "file_extension": ".py",
      "mimetype": "text/x-python",
      "name": "python",
      "nbconvert_exporter": "python",
      "pygments_lexer": "ipython3",
      "version": "3.7.6"
    },
    "toc": {
      "base_numbering": 1,
      "nav_menu": {},
      "number_sections": false,
      "sideBar": true,
      "skip_h1_title": false,
      "title_cell": "Table of Contents",
      "title_sidebar": "Contents",
      "toc_cell": false,
      "toc_position": {},
      "toc_section_display": true,
      "toc_window_display": true
    }
  },
  "nbformat": 4,
  "nbformat_minor": 0
}